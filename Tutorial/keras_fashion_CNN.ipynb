{
 "cells": [
  {
   "cell_type": "code",
   "execution_count": 1,
   "metadata": {},
   "outputs": [
    {
     "name": "stderr",
     "output_type": "stream",
     "text": [
      "Using TensorFlow backend.\n"
     ]
    }
   ],
   "source": [
    "from keras.datasets import fashion_mnist"
   ]
  },
  {
   "cell_type": "code",
   "execution_count": 98,
   "metadata": {},
   "outputs": [],
   "source": [
    "from keras.utils import np_utils\n",
    "from keras.models import Sequential\n",
    "from keras.layers import Dense, Activation, Dropout\n",
    "from matplotlib import pyplot as plt\n",
    "from sklearn.metrics import confusion_matrix\n",
    "import seaborn as sns\n",
    "from keras.layers import BatchNormalization, Convolution2D, MaxPooling2D, Flatten\n",
    "import numpy as np"
   ]
  },
  {
   "cell_type": "code",
   "execution_count": 108,
   "metadata": {},
   "outputs": [],
   "source": [
    "(X_train, y_train), (X_test, y_test) = fashion_mnist.load_data()"
   ]
  },
  {
   "cell_type": "code",
   "execution_count": 109,
   "metadata": {},
   "outputs": [
    {
     "name": "stdout",
     "output_type": "stream",
     "text": [
      "(60000, 28, 28) (10000, 28, 28)\n",
      "(60000,)\n"
     ]
    }
   ],
   "source": [
    "print(X_train.shape, X_test.shape)\n",
    "print(y_train.shape)"
   ]
  },
  {
   "cell_type": "code",
   "execution_count": 119,
   "metadata": {},
   "outputs": [],
   "source": [
    "input_dim = (28,28,1) \n",
    "X_train = X_train[:6000].reshape(6000, 28, 28, 1) #28,28,1\n",
    "X_test = X_test[:1000].reshape(1000, 28, 28, 1)\n",
    "X_train = X_train.astype('float32')\n",
    "X_test = X_test.astype('float32')\n",
    "X_train /= 255\n",
    "X_test /= 255\n",
    "y_train = y_train[:6000]\n",
    "y_test = y_test[:1000]"
   ]
  },
  {
   "cell_type": "code",
   "execution_count": 120,
   "metadata": {},
   "outputs": [],
   "source": [
    "output_dim = nb_classes = 10"
   ]
  },
  {
   "cell_type": "code",
   "execution_count": 121,
   "metadata": {},
   "outputs": [],
   "source": [
    "Y_train = np_utils.to_categorical(y_train, nb_classes)\n",
    "Y_test = np_utils.to_categorical(y_test, nb_classes)"
   ]
  },
  {
   "cell_type": "code",
   "execution_count": 122,
   "metadata": {},
   "outputs": [
    {
     "name": "stdout",
     "output_type": "stream",
     "text": [
      "(6000, 28, 28, 1) (6000, 10) (1000, 28, 28, 1) (1000, 10)\n"
     ]
    }
   ],
   "source": [
    "print(X_train.shape, Y_train.shape, X_test.shape, Y_test.shape)"
   ]
  },
  {
   "cell_type": "code",
   "execution_count": 132,
   "metadata": {},
   "outputs": [
    {
     "name": "stderr",
     "output_type": "stream",
     "text": [
      "c:\\users\\visitor.slsi\\desktop\\ml\\mlenv\\lib\\site-packages\\ipykernel_launcher.py:2: UserWarning: Update your `Conv2D` call to the Keras 2 API: `Conv2D(8, (3, 3), activation=\"relu\", input_shape=(28, 28, 1...)`\n",
      "  \n",
      "c:\\users\\visitor.slsi\\desktop\\ml\\mlenv\\lib\\site-packages\\ipykernel_launcher.py:4: UserWarning: Update your `Conv2D` call to the Keras 2 API: `Conv2D(16, (3, 3), activation=\"relu\")`\n",
      "  after removing the cwd from sys.path.\n",
      "c:\\users\\visitor.slsi\\desktop\\ml\\mlenv\\lib\\site-packages\\ipykernel_launcher.py:9: UserWarning: Update your `Conv2D` call to the Keras 2 API: `Conv2D(8, (3, 3), activation=\"relu\")`\n",
      "  if __name__ == '__main__':\n",
      "c:\\users\\visitor.slsi\\desktop\\ml\\mlenv\\lib\\site-packages\\ipykernel_launcher.py:11: UserWarning: Update your `Conv2D` call to the Keras 2 API: `Conv2D(8, (3, 3), activation=\"relu\")`\n",
      "  # This is added back by InteractiveShellApp.init_path()\n"
     ]
    }
   ],
   "source": [
    "model = Sequential()\n",
    "model.add(Convolution2D(8, 3, 3, activation='relu', input_shape=(28, 28, 1)))\n",
    "model.add(BatchNormalization())\n",
    "model.add(Convolution2D(16, 3, 3, activation='relu'))\n",
    "model.add(BatchNormalization())\n",
    "model.add(MaxPooling2D(pool_size=(2, 2)))\n",
    "model.add(Dropout(0.25))\n",
    "\n",
    "model.add(Convolution2D(8, 3, 3, activation='relu'))\n",
    "model.add(BatchNormalization())\n",
    "model.add(Convolution2D(8, 3, 3, activation='relu'))\n",
    "model.add(BatchNormalization())\n",
    "model.add(MaxPooling2D(pool_size=(2, 2)))\n",
    "model.add(Dropout(0.25))\n",
    "\n",
    "model.add(Flatten())\n",
    "model.add(Dense(64))\n",
    "model.add(Activation('relu'))\n",
    "model.add(BatchNormalization())\n",
    "model.add(Dropout(0.25))\n",
    "\n",
    "model.add(Dense(10))\n",
    "model.add(Activation('softmax'))"
   ]
  },
  {
   "cell_type": "code",
   "execution_count": 133,
   "metadata": {},
   "outputs": [
    {
     "name": "stdout",
     "output_type": "stream",
     "text": [
      "Model: \"sequential_45\"\n",
      "_________________________________________________________________\n",
      "Layer (type)                 Output Shape              Param #   \n",
      "=================================================================\n",
      "conv2d_181 (Conv2D)          (None, 26, 26, 8)         80        \n",
      "_________________________________________________________________\n",
      "batch_normalization_129 (Bat (None, 26, 26, 8)         32        \n",
      "_________________________________________________________________\n",
      "conv2d_182 (Conv2D)          (None, 24, 24, 16)        1168      \n",
      "_________________________________________________________________\n",
      "batch_normalization_130 (Bat (None, 24, 24, 16)        64        \n",
      "_________________________________________________________________\n",
      "max_pooling2d_55 (MaxPooling (None, 12, 12, 16)        0         \n",
      "_________________________________________________________________\n",
      "dropout_17 (Dropout)         (None, 12, 12, 16)        0         \n",
      "_________________________________________________________________\n",
      "conv2d_183 (Conv2D)          (None, 10, 10, 8)         1160      \n",
      "_________________________________________________________________\n",
      "batch_normalization_131 (Bat (None, 10, 10, 8)         32        \n",
      "_________________________________________________________________\n",
      "conv2d_184 (Conv2D)          (None, 8, 8, 8)           584       \n",
      "_________________________________________________________________\n",
      "batch_normalization_132 (Bat (None, 8, 8, 8)           32        \n",
      "_________________________________________________________________\n",
      "max_pooling2d_56 (MaxPooling (None, 4, 4, 8)           0         \n",
      "_________________________________________________________________\n",
      "dropout_18 (Dropout)         (None, 4, 4, 8)           0         \n",
      "_________________________________________________________________\n",
      "flatten_18 (Flatten)         (None, 128)               0         \n",
      "_________________________________________________________________\n",
      "dense_11 (Dense)             (None, 64)                8256      \n",
      "_________________________________________________________________\n",
      "activation_23 (Activation)   (None, 64)                0         \n",
      "_________________________________________________________________\n",
      "batch_normalization_133 (Bat (None, 64)                256       \n",
      "_________________________________________________________________\n",
      "dropout_19 (Dropout)         (None, 64)                0         \n",
      "_________________________________________________________________\n",
      "dense_12 (Dense)             (None, 10)                650       \n",
      "_________________________________________________________________\n",
      "activation_24 (Activation)   (None, 10)                0         \n",
      "=================================================================\n",
      "Total params: 12,314\n",
      "Trainable params: 12,106\n",
      "Non-trainable params: 208\n",
      "_________________________________________________________________\n"
     ]
    }
   ],
   "source": [
    "model.summary()"
   ]
  },
  {
   "cell_type": "code",
   "execution_count": 136,
   "metadata": {},
   "outputs": [
    {
     "name": "stderr",
     "output_type": "stream",
     "text": [
      "c:\\users\\visitor.slsi\\desktop\\ml\\mlenv\\lib\\site-packages\\ipykernel_launcher.py:8: UserWarning: The `nb_epoch` argument in `fit` has been renamed `epochs`.\n",
      "  \n"
     ]
    },
    {
     "name": "stdout",
     "output_type": "stream",
     "text": [
      "Train on 6000 samples, validate on 1000 samples\n",
      "Epoch 1/15\n",
      "6000/6000 [==============================] - 7s 1ms/step - loss: 0.6838 - accuracy: 0.7495 - val_loss: 34.4778 - val_accuracy: 0.1700\n",
      "Epoch 2/15\n",
      "6000/6000 [==============================] - 6s 1ms/step - loss: 0.6548 - accuracy: 0.7573 - val_loss: 3.8256 - val_accuracy: 0.1510\n",
      "Epoch 3/15\n",
      "6000/6000 [==============================] - 7s 1ms/step - loss: 0.6226 - accuracy: 0.7728 - val_loss: 80.3413 - val_accuracy: 0.0870\n",
      "Epoch 4/15\n",
      "6000/6000 [==============================] - 6s 1ms/step - loss: 0.5868 - accuracy: 0.7815 - val_loss: 2.3808 - val_accuracy: 0.2200\n",
      "Epoch 5/15\n",
      "6000/6000 [==============================] - 6s 979us/step - loss: 0.5687 - accuracy: 0.7915 - val_loss: 16.4384 - val_accuracy: 0.0920\n",
      "Epoch 6/15\n",
      "6000/6000 [==============================] - 6s 1ms/step - loss: 0.5600 - accuracy: 0.7913 - val_loss: 44.6719 - val_accuracy: 0.0870\n",
      "Epoch 7/15\n",
      "6000/6000 [==============================] - 7s 1ms/step - loss: 0.5555 - accuracy: 0.7983 - val_loss: 39.6056 - val_accuracy: 0.0990\n",
      "Epoch 8/15\n",
      "6000/6000 [==============================] - 6s 993us/step - loss: 0.5311 - accuracy: 0.8047 - val_loss: 41.3748 - val_accuracy: 0.0870\n",
      "Epoch 9/15\n",
      "6000/6000 [==============================] - 6s 978us/step - loss: 0.5196 - accuracy: 0.8118 - val_loss: 9.8291 - val_accuracy: 0.1050\n",
      "Epoch 10/15\n",
      "6000/6000 [==============================] - 6s 1ms/step - loss: 0.5137 - accuracy: 0.8128 - val_loss: 76.9657 - val_accuracy: 0.0870\n",
      "Epoch 11/15\n",
      "6000/6000 [==============================] - 6s 989us/step - loss: 0.5118 - accuracy: 0.8152 - val_loss: 126.1704 - val_accuracy: 0.0870\n",
      "Epoch 12/15\n",
      "6000/6000 [==============================] - 6s 977us/step - loss: 0.4949 - accuracy: 0.8163 - val_loss: 109.5759 - val_accuracy: 0.0870\n",
      "Epoch 13/15\n",
      "6000/6000 [==============================] - 6s 1ms/step - loss: 0.4988 - accuracy: 0.8138 - val_loss: 154.1061 - val_accuracy: 0.0870\n",
      "Epoch 14/15\n",
      "6000/6000 [==============================] - 6s 1ms/step - loss: 0.4906 - accuracy: 0.8200 - val_loss: 102.0989 - val_accuracy: 0.0870\n",
      "Epoch 15/15\n",
      "6000/6000 [==============================] - 6s 1ms/step - loss: 0.4881 - accuracy: 0.8180 - val_loss: 134.8331 - val_accuracy: 0.0870\n"
     ]
    }
   ],
   "source": [
    "batch_size = 32\n",
    "nb_epoch = 15\n",
    "model.compile(optimizer='adam', loss='categorical_crossentropy', metrics=['accuracy'])\n",
    "history = model.fit(X_train, Y_train,\n",
    "                   batch_size=batch_size,\n",
    "                   nb_epoch=nb_epoch,\n",
    "                   verbose=1,\n",
    "                   validation_data=(X_test, Y_test))\n",
    "score = model.evaluate(X_test, Y_test, verbose= 0)"
   ]
  },
  {
   "cell_type": "code",
   "execution_count": 126,
   "metadata": {},
   "outputs": [
    {
     "data": {
      "text/plain": [
       "[2.1698598957061765, 0.5249999761581421]"
      ]
     },
     "execution_count": 126,
     "metadata": {},
     "output_type": "execute_result"
    }
   ],
   "source": [
    "score"
   ]
  },
  {
   "cell_type": "code",
   "execution_count": 135,
   "metadata": {},
   "outputs": [
    {
     "data": {
      "image/png": "[encoded data removed]",
      "text/plain": [
       "<Figure size 432x288 with 1 Axes>"
      ]
     },
     "metadata": {
      "needs_background": "light"
     },
     "output_type": "display_data"
    }
   ],
   "source": [
    "plt.plot(history.history['accuracy'], 'r')\n",
    "plt.plot(history.history['val_accuracy'], 'b')\n",
    "plt.show()"
   ]
  },
  {
   "cell_type": "code",
   "execution_count": null,
   "metadata": {},
   "outputs": [],
   "source": []
  }
 ],
 "metadata": {
  "kernelspec": {
   "display_name": "Python 3",
   "language": "python",
   "name": "python3"
  },
  "language_info": {
   "codemirror_mode": {
    "name": "ipython",
    "version": 3
   },
   "file_extension": ".py",
   "mimetype": "text/x-python",
   "name": "python",
   "nbconvert_exporter": "python",
   "pygments_lexer": "ipython3",
   "version": "3.7.5"
  }
 },
 "nbformat": 4,
 "nbformat_minor": 2
}
