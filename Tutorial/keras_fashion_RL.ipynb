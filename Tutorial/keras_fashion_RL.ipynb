{
 "cells": [
  {
   "cell_type": "code",
   "execution_count": 5,
   "metadata": {},
   "outputs": [],
   "source": [
    "from keras.datasets import fashion_mnist"
   ]
  },
  {
   "cell_type": "code",
   "execution_count": 8,
   "metadata": {},
   "outputs": [],
   "source": [
    "from keras.utils import np_utils\n",
    "from keras.models import Sequential\n",
    "from keras.layers import Dense, Activation\n",
    "from matplotlib import pyplot as plt\n",
    "from sklearn.metrics import confusion_matrix\n",
    "import seaborn as sns"
   ]
  },
  {
   "cell_type": "code",
   "execution_count": 3,
   "metadata": {
    "scrolled": true
   },
   "outputs": [
    {
     "name": "stdout",
     "output_type": "stream",
     "text": [
      "Downloading data from http://fashion-mnist.s3-website.eu-central-1.amazonaws.com/train-labels-idx1-ubyte.gz\n",
      "32768/29515 [=================================] - 0s 0us/step\n",
      "Downloading data from http://fashion-mnist.s3-website.eu-central-1.amazonaws.com/train-images-idx3-ubyte.gz\n",
      "26427392/26421880 [==============================] - 1s 0us/step\n",
      "Downloading data from http://fashion-mnist.s3-website.eu-central-1.amazonaws.com/t10k-labels-idx1-ubyte.gz\n",
      "8192/5148 [===============================================] - 0s 0us/step\n",
      "Downloading data from http://fashion-mnist.s3-website.eu-central-1.amazonaws.com/t10k-images-idx3-ubyte.gz\n",
      "4423680/4422102 [==============================] - 0s 0us/step\n"
     ]
    }
   ],
   "source": [
    "(train_X, train_y), (test_X, test_y) = fashion_mnist.load_data()"
   ]
  },
  {
   "cell_type": "code",
   "execution_count": 10,
   "metadata": {
    "scrolled": true
   },
   "outputs": [
    {
     "name": "stdout",
     "output_type": "stream",
     "text": [
      "(60000, 28, 28)\n",
      "(10000, 28, 28)\n"
     ]
    }
   ],
   "source": [
    "print(train_X.shape)\n",
    "print(test_X.shape)\n",
    "input_dim = 28 * 28"
   ]
  },
  {
   "cell_type": "code",
   "execution_count": 11,
   "metadata": {},
   "outputs": [],
   "source": [
    "train_X = train_X.reshape(60000, input_dim)\n",
    "test_X = test_X.reshape(10000, input_dim)\n",
    "train_X = train_X.astype('float32')\n",
    "test_X = test_X.astype('float32')\n",
    "train_X /= 255 # pixel 값이 0 ~ 255 까지 있기 때문\n",
    "test_X /= 255"
   ]
  },
  {
   "cell_type": "code",
   "execution_count": 12,
   "metadata": {},
   "outputs": [],
   "source": [
    "output_dim = nb_classes = 10"
   ]
  },
  {
   "cell_type": "code",
   "execution_count": 14,
   "metadata": {},
   "outputs": [],
   "source": [
    "train_Y = np_utils.to_categorical(train_y, nb_classes)\n",
    "test_Y = np_utils.to_categorical(test_y, nb_classes)"
   ]
  },
  {
   "cell_type": "code",
   "execution_count": 18,
   "metadata": {},
   "outputs": [
    {
     "name": "stdout",
     "output_type": "stream",
     "text": [
      "9\n",
      "[0. 0. 0. 0. 0. 0. 0. 0. 0. 1.]\n"
     ]
    }
   ],
   "source": [
    "print(test_y[0])\n",
    "print(test_Y[0])"
   ]
  },
  {
   "cell_type": "code",
   "execution_count": 19,
   "metadata": {},
   "outputs": [],
   "source": [
    "model = Sequential()"
   ]
  },
  {
   "cell_type": "code",
   "execution_count": 20,
   "metadata": {},
   "outputs": [],
   "source": [
    "# hidden layer 가 없으면 LR\n",
    "model.add(Dense(output_dim, input_dim=input_dim, activation='softmax'))"
   ]
  },
  {
   "cell_type": "code",
   "execution_count": 21,
   "metadata": {},
   "outputs": [],
   "source": [
    "batch_size = 128\n",
    "nb_epoch = 100"
   ]
  },
  {
   "cell_type": "code",
   "execution_count": 22,
   "metadata": {},
   "outputs": [
    {
     "name": "stdout",
     "output_type": "stream",
     "text": [
      "Model: \"sequential_1\"\n",
      "_________________________________________________________________\n",
      "Layer (type)                 Output Shape              Param #   \n",
      "=================================================================\n",
      "dense_1 (Dense)              (None, 10)                7850      \n",
      "=================================================================\n",
      "Total params: 7,850\n",
      "Trainable params: 7,850\n",
      "Non-trainable params: 0\n",
      "_________________________________________________________________\n"
     ]
    }
   ],
   "source": [
    "model.summary()"
   ]
  },
  {
   "cell_type": "code",
   "execution_count": 24,
   "metadata": {},
   "outputs": [
    {
     "name": "stderr",
     "output_type": "stream",
     "text": [
      "c:\\users\\visitor.slsi\\desktop\\ml\\mlenv\\lib\\site-packages\\ipykernel_launcher.py:3: UserWarning: The `nb_epoch` argument in `fit` has been renamed `epochs`.\n",
      "  This is separate from the ipykernel package so we can avoid doing imports until\n"
     ]
    },
    {
     "name": "stdout",
     "output_type": "stream",
     "text": [
      "Train on 60000 samples, validate on 10000 samples\n",
      "Epoch 1/100\n",
      "60000/60000 [==============================] - 1s 16us/step - loss: 1.1690 - accuracy: 0.6417 - val_loss: 0.8686 - val_accuracy: 0.7181\n",
      "Epoch 2/100\n",
      "60000/60000 [==============================] - 1s 14us/step - loss: 0.7816 - accuracy: 0.7514 - val_loss: 0.7448 - val_accuracy: 0.7548\n",
      "Epoch 3/100\n",
      "60000/60000 [==============================] - 1s 13us/step - loss: 0.6958 - accuracy: 0.7777 - val_loss: 0.6876 - val_accuracy: 0.7730\n",
      "Epoch 4/100\n",
      "60000/60000 [==============================] - 1s 13us/step - loss: 0.6492 - accuracy: 0.7926 - val_loss: 0.6526 - val_accuracy: 0.7849\n",
      "Epoch 5/100\n",
      "60000/60000 [==============================] - 1s 13us/step - loss: 0.6185 - accuracy: 0.8009 - val_loss: 0.6278 - val_accuracy: 0.7916\n",
      "Epoch 6/100\n",
      "60000/60000 [==============================] - 1s 15us/step - loss: 0.5960 - accuracy: 0.8073 - val_loss: 0.6082 - val_accuracy: 0.7984\n",
      "Epoch 7/100\n",
      "60000/60000 [==============================] - 1s 13us/step - loss: 0.5787 - accuracy: 0.8118 - val_loss: 0.5952 - val_accuracy: 0.8032\n",
      "Epoch 8/100\n",
      "60000/60000 [==============================] - 1s 13us/step - loss: 0.5646 - accuracy: 0.8164 - val_loss: 0.5822 - val_accuracy: 0.8061\n",
      "Epoch 9/100\n",
      "60000/60000 [==============================] - 1s 13us/step - loss: 0.5531 - accuracy: 0.8198 - val_loss: 0.5724 - val_accuracy: 0.8073\n",
      "Epoch 10/100\n",
      "60000/60000 [==============================] - 1s 13us/step - loss: 0.5434 - accuracy: 0.8223 - val_loss: 0.5640 - val_accuracy: 0.8096\n",
      "Epoch 11/100\n",
      "60000/60000 [==============================] - 1s 13us/step - loss: 0.5351 - accuracy: 0.8247 - val_loss: 0.5566 - val_accuracy: 0.8142\n",
      "Epoch 12/100\n",
      "60000/60000 [==============================] - 1s 16us/step - loss: 0.5277 - accuracy: 0.8270 - val_loss: 0.5499 - val_accuracy: 0.8152\n",
      "Epoch 13/100\n",
      "60000/60000 [==============================] - 1s 13us/step - loss: 0.5214 - accuracy: 0.8284 - val_loss: 0.5448 - val_accuracy: 0.8159\n",
      "Epoch 14/100\n",
      "60000/60000 [==============================] - 1s 14us/step - loss: 0.5155 - accuracy: 0.8307 - val_loss: 0.5408 - val_accuracy: 0.8172\n",
      "Epoch 15/100\n",
      "60000/60000 [==============================] - 1s 13us/step - loss: 0.5104 - accuracy: 0.8308 - val_loss: 0.5370 - val_accuracy: 0.8172\n",
      "Epoch 16/100\n",
      "60000/60000 [==============================] - 1s 14us/step - loss: 0.5056 - accuracy: 0.8332 - val_loss: 0.5318 - val_accuracy: 0.8204\n",
      "Epoch 17/100\n",
      "60000/60000 [==============================] - 1s 14us/step - loss: 0.5013 - accuracy: 0.8341 - val_loss: 0.5279 - val_accuracy: 0.8204\n",
      "Epoch 18/100\n",
      "60000/60000 [==============================] - 1s 13us/step - loss: 0.4974 - accuracy: 0.8347 - val_loss: 0.5241 - val_accuracy: 0.8217\n",
      "Epoch 19/100\n",
      "60000/60000 [==============================] - 1s 13us/step - loss: 0.4936 - accuracy: 0.8354 - val_loss: 0.5205 - val_accuracy: 0.8242\n",
      "Epoch 20/100\n",
      "60000/60000 [==============================] - 1s 13us/step - loss: 0.4902 - accuracy: 0.8374 - val_loss: 0.5177 - val_accuracy: 0.8236\n",
      "Epoch 21/100\n",
      "60000/60000 [==============================] - 1s 13us/step - loss: 0.4872 - accuracy: 0.8378 - val_loss: 0.5156 - val_accuracy: 0.8257\n",
      "Epoch 22/100\n",
      "60000/60000 [==============================] - 1s 13us/step - loss: 0.4843 - accuracy: 0.8393 - val_loss: 0.5126 - val_accuracy: 0.8247\n",
      "Epoch 23/100\n",
      "60000/60000 [==============================] - 1s 15us/step - loss: 0.4816 - accuracy: 0.8393 - val_loss: 0.5105 - val_accuracy: 0.8256\n",
      "Epoch 24/100\n",
      "60000/60000 [==============================] - 1s 13us/step - loss: 0.4790 - accuracy: 0.8401 - val_loss: 0.5083 - val_accuracy: 0.8262\n",
      "Epoch 25/100\n",
      "60000/60000 [==============================] - 1s 15us/step - loss: 0.4767 - accuracy: 0.8410 - val_loss: 0.5057 - val_accuracy: 0.8272\n",
      "Epoch 26/100\n",
      "60000/60000 [==============================] - 1s 13us/step - loss: 0.4743 - accuracy: 0.8418 - val_loss: 0.5041 - val_accuracy: 0.8268\n",
      "Epoch 27/100\n",
      "60000/60000 [==============================] - 1s 13us/step - loss: 0.4722 - accuracy: 0.8423 - val_loss: 0.5023 - val_accuracy: 0.8283\n",
      "Epoch 28/100\n",
      "60000/60000 [==============================] - 1s 13us/step - loss: 0.4701 - accuracy: 0.8432 - val_loss: 0.5007 - val_accuracy: 0.8286\n",
      "Epoch 29/100\n",
      "60000/60000 [==============================] - 1s 14us/step - loss: 0.4682 - accuracy: 0.8431 - val_loss: 0.4986 - val_accuracy: 0.8290\n",
      "Epoch 30/100\n",
      "60000/60000 [==============================] - 1s 13us/step - loss: 0.4663 - accuracy: 0.8444 - val_loss: 0.4973 - val_accuracy: 0.8289\n",
      "Epoch 31/100\n",
      "60000/60000 [==============================] - 1s 13us/step - loss: 0.4646 - accuracy: 0.8444 - val_loss: 0.4961 - val_accuracy: 0.8293\n",
      "Epoch 32/100\n",
      "60000/60000 [==============================] - 1s 14us/step - loss: 0.4628 - accuracy: 0.8454 - val_loss: 0.4943 - val_accuracy: 0.8301\n",
      "Epoch 33/100\n",
      "60000/60000 [==============================] - 1s 14us/step - loss: 0.4613 - accuracy: 0.8454 - val_loss: 0.4944 - val_accuracy: 0.8282\n",
      "Epoch 34/100\n",
      "60000/60000 [==============================] - 1s 15us/step - loss: 0.4596 - accuracy: 0.8455 - val_loss: 0.4920 - val_accuracy: 0.8287\n",
      "Epoch 35/100\n",
      "60000/60000 [==============================] - 1s 16us/step - loss: 0.4582 - accuracy: 0.8465 - val_loss: 0.4909 - val_accuracy: 0.8303\n",
      "Epoch 36/100\n",
      "60000/60000 [==============================] - 1s 15us/step - loss: 0.4569 - accuracy: 0.8468 - val_loss: 0.4902 - val_accuracy: 0.8294\n",
      "Epoch 37/100\n",
      "60000/60000 [==============================] - 1s 14us/step - loss: 0.4554 - accuracy: 0.8468 - val_loss: 0.4881 - val_accuracy: 0.8299\n",
      "Epoch 38/100\n",
      "60000/60000 [==============================] - 1s 14us/step - loss: 0.4543 - accuracy: 0.8476 - val_loss: 0.4866 - val_accuracy: 0.8306\n",
      "Epoch 39/100\n",
      "60000/60000 [==============================] - 1s 13us/step - loss: 0.4530 - accuracy: 0.8477 - val_loss: 0.4856 - val_accuracy: 0.8309\n",
      "Epoch 40/100\n",
      "60000/60000 [==============================] - 1s 14us/step - loss: 0.4517 - accuracy: 0.8478 - val_loss: 0.4862 - val_accuracy: 0.8299\n",
      "Epoch 41/100\n",
      "60000/60000 [==============================] - 1s 14us/step - loss: 0.4506 - accuracy: 0.8486 - val_loss: 0.4841 - val_accuracy: 0.8318\n",
      "Epoch 42/100\n",
      "60000/60000 [==============================] - 1s 14us/step - loss: 0.4493 - accuracy: 0.8485 - val_loss: 0.4831 - val_accuracy: 0.8319\n",
      "Epoch 43/100\n",
      "60000/60000 [==============================] - 1s 14us/step - loss: 0.4483 - accuracy: 0.8486 - val_loss: 0.4823 - val_accuracy: 0.8302\n",
      "Epoch 44/100\n",
      "60000/60000 [==============================] - 1s 13us/step - loss: 0.4473 - accuracy: 0.8490 - val_loss: 0.4809 - val_accuracy: 0.8321\n",
      "Epoch 45/100\n",
      "60000/60000 [==============================] - 1s 14us/step - loss: 0.4462 - accuracy: 0.8496 - val_loss: 0.4804 - val_accuracy: 0.8319\n",
      "Epoch 46/100\n",
      "60000/60000 [==============================] - 1s 13us/step - loss: 0.4451 - accuracy: 0.8503 - val_loss: 0.4806 - val_accuracy: 0.8323\n",
      "Epoch 47/100\n",
      "60000/60000 [==============================] - 1s 14us/step - loss: 0.4443 - accuracy: 0.8502 - val_loss: 0.4785 - val_accuracy: 0.8327\n",
      "Epoch 48/100\n",
      "60000/60000 [==============================] - 1s 13us/step - loss: 0.4434 - accuracy: 0.8506 - val_loss: 0.4779 - val_accuracy: 0.8330\n",
      "Epoch 49/100\n",
      "60000/60000 [==============================] - 1s 14us/step - loss: 0.4424 - accuracy: 0.8510 - val_loss: 0.4771 - val_accuracy: 0.8325\n",
      "Epoch 50/100\n",
      "60000/60000 [==============================] - 1s 16us/step - loss: 0.4414 - accuracy: 0.8511 - val_loss: 0.4769 - val_accuracy: 0.8337\n",
      "Epoch 51/100\n",
      "60000/60000 [==============================] - 1s 13us/step - loss: 0.4408 - accuracy: 0.8511 - val_loss: 0.4753 - val_accuracy: 0.8328\n",
      "Epoch 52/100\n",
      "60000/60000 [==============================] - 1s 13us/step - loss: 0.4399 - accuracy: 0.8511 - val_loss: 0.4747 - val_accuracy: 0.8333\n",
      "Epoch 53/100\n",
      "60000/60000 [==============================] - 1s 14us/step - loss: 0.4391 - accuracy: 0.8513 - val_loss: 0.4750 - val_accuracy: 0.8337\n",
      "Epoch 54/100\n",
      "60000/60000 [==============================] - 1s 13us/step - loss: 0.4383 - accuracy: 0.8515 - val_loss: 0.4736 - val_accuracy: 0.8342\n",
      "Epoch 55/100\n",
      "60000/60000 [==============================] - 1s 13us/step - loss: 0.4374 - accuracy: 0.8517 - val_loss: 0.4732 - val_accuracy: 0.8343\n"
     ]
    },
    {
     "name": "stdout",
     "output_type": "stream",
     "text": [
      "Epoch 56/100\n",
      "60000/60000 [==============================] - 1s 13us/step - loss: 0.4366 - accuracy: 0.8517 - val_loss: 0.4728 - val_accuracy: 0.8350\n",
      "Epoch 57/100\n",
      "60000/60000 [==============================] - 1s 13us/step - loss: 0.4360 - accuracy: 0.8522 - val_loss: 0.4722 - val_accuracy: 0.8348\n",
      "Epoch 58/100\n",
      "60000/60000 [==============================] - 1s 13us/step - loss: 0.4354 - accuracy: 0.8527 - val_loss: 0.4711 - val_accuracy: 0.8356\n",
      "Epoch 59/100\n",
      "60000/60000 [==============================] - 1s 13us/step - loss: 0.4346 - accuracy: 0.8530 - val_loss: 0.4705 - val_accuracy: 0.8357\n",
      "Epoch 60/100\n",
      "60000/60000 [==============================] - 1s 13us/step - loss: 0.4339 - accuracy: 0.8530 - val_loss: 0.4700 - val_accuracy: 0.8359\n",
      "Epoch 61/100\n",
      "60000/60000 [==============================] - 1s 13us/step - loss: 0.4332 - accuracy: 0.8526 - val_loss: 0.4701 - val_accuracy: 0.8350\n",
      "Epoch 62/100\n",
      "60000/60000 [==============================] - 1s 13us/step - loss: 0.4327 - accuracy: 0.8536 - val_loss: 0.4696 - val_accuracy: 0.8354\n",
      "Epoch 63/100\n",
      "60000/60000 [==============================] - 1s 13us/step - loss: 0.4321 - accuracy: 0.8534 - val_loss: 0.4686 - val_accuracy: 0.8358\n",
      "Epoch 64/100\n",
      "60000/60000 [==============================] - 1s 13us/step - loss: 0.4313 - accuracy: 0.8539 - val_loss: 0.4703 - val_accuracy: 0.8350\n",
      "Epoch 65/100\n",
      "60000/60000 [==============================] - 1s 14us/step - loss: 0.4308 - accuracy: 0.8535 - val_loss: 0.4684 - val_accuracy: 0.8360\n",
      "Epoch 66/100\n",
      "60000/60000 [==============================] - 1s 13us/step - loss: 0.4302 - accuracy: 0.8542 - val_loss: 0.4669 - val_accuracy: 0.8362\n",
      "Epoch 67/100\n",
      "60000/60000 [==============================] - 1s 13us/step - loss: 0.4296 - accuracy: 0.8549 - val_loss: 0.4667 - val_accuracy: 0.8376\n",
      "Epoch 68/100\n",
      "60000/60000 [==============================] - 1s 13us/step - loss: 0.4291 - accuracy: 0.8544 - val_loss: 0.4663 - val_accuracy: 0.8366\n",
      "Epoch 69/100\n",
      "60000/60000 [==============================] - 1s 13us/step - loss: 0.4286 - accuracy: 0.8544 - val_loss: 0.4655 - val_accuracy: 0.8365\n",
      "Epoch 70/100\n",
      "60000/60000 [==============================] - 1s 13us/step - loss: 0.4280 - accuracy: 0.8551 - val_loss: 0.4653 - val_accuracy: 0.8373\n",
      "Epoch 71/100\n",
      "60000/60000 [==============================] - 1s 15us/step - loss: 0.4275 - accuracy: 0.8548 - val_loss: 0.4655 - val_accuracy: 0.8379\n",
      "Epoch 72/100\n",
      "60000/60000 [==============================] - 1s 15us/step - loss: 0.4267 - accuracy: 0.8547 - val_loss: 0.4655 - val_accuracy: 0.8361\n",
      "Epoch 73/100\n",
      "60000/60000 [==============================] - 1s 15us/step - loss: 0.4265 - accuracy: 0.8549 - val_loss: 0.4639 - val_accuracy: 0.8385\n",
      "Epoch 74/100\n",
      "60000/60000 [==============================] - 1s 14us/step - loss: 0.4259 - accuracy: 0.8554 - val_loss: 0.4639 - val_accuracy: 0.8376\n",
      "Epoch 75/100\n",
      "60000/60000 [==============================] - 1s 13us/step - loss: 0.4254 - accuracy: 0.8554 - val_loss: 0.4643 - val_accuracy: 0.8378\n",
      "Epoch 76/100\n",
      "60000/60000 [==============================] - 2s 27us/step - loss: 0.4249 - accuracy: 0.8557 - val_loss: 0.4631 - val_accuracy: 0.8373\n",
      "Epoch 77/100\n",
      "60000/60000 [==============================] - 1s 21us/step - loss: 0.4245 - accuracy: 0.8554 - val_loss: 0.4627 - val_accuracy: 0.8383\n",
      "Epoch 78/100\n",
      "60000/60000 [==============================] - 1s 22us/step - loss: 0.4241 - accuracy: 0.8556 - val_loss: 0.4628 - val_accuracy: 0.8372\n",
      "Epoch 79/100\n",
      "60000/60000 [==============================] - 1s 13us/step - loss: 0.4234 - accuracy: 0.8566 - val_loss: 0.4625 - val_accuracy: 0.8381\n",
      "Epoch 80/100\n",
      "60000/60000 [==============================] - 1s 15us/step - loss: 0.4230 - accuracy: 0.8561 - val_loss: 0.4628 - val_accuracy: 0.8394\n",
      "Epoch 81/100\n",
      "60000/60000 [==============================] - 1s 13us/step - loss: 0.4226 - accuracy: 0.8563 - val_loss: 0.4611 - val_accuracy: 0.8382\n",
      "Epoch 82/100\n",
      "60000/60000 [==============================] - 1s 13us/step - loss: 0.4222 - accuracy: 0.8568 - val_loss: 0.4608 - val_accuracy: 0.8383\n",
      "Epoch 83/100\n",
      "60000/60000 [==============================] - 1s 14us/step - loss: 0.4219 - accuracy: 0.8569 - val_loss: 0.4606 - val_accuracy: 0.8395\n",
      "Epoch 84/100\n",
      "60000/60000 [==============================] - 1s 17us/step - loss: 0.4213 - accuracy: 0.8572 - val_loss: 0.4604 - val_accuracy: 0.8395\n",
      "Epoch 85/100\n",
      "60000/60000 [==============================] - 1s 13us/step - loss: 0.4210 - accuracy: 0.8567 - val_loss: 0.4603 - val_accuracy: 0.8379\n",
      "Epoch 86/100\n",
      "60000/60000 [==============================] - 1s 13us/step - loss: 0.4207 - accuracy: 0.8565 - val_loss: 0.4598 - val_accuracy: 0.8394\n",
      "Epoch 87/100\n",
      "60000/60000 [==============================] - 1s 13us/step - loss: 0.4202 - accuracy: 0.8571 - val_loss: 0.4595 - val_accuracy: 0.8392\n",
      "Epoch 88/100\n",
      "60000/60000 [==============================] - 1s 14us/step - loss: 0.4197 - accuracy: 0.8575 - val_loss: 0.4591 - val_accuracy: 0.8395\n",
      "Epoch 89/100\n",
      "60000/60000 [==============================] - 1s 15us/step - loss: 0.4194 - accuracy: 0.8573 - val_loss: 0.4592 - val_accuracy: 0.8386\n",
      "Epoch 90/100\n",
      "60000/60000 [==============================] - ETA: 0s - loss: 0.4177 - accuracy: 0.85 - 1s 18us/step - loss: 0.4189 - accuracy: 0.8572 - val_loss: 0.4585 - val_accuracy: 0.8394\n",
      "Epoch 91/100\n",
      "60000/60000 [==============================] - 1s 14us/step - loss: 0.4186 - accuracy: 0.8578 - val_loss: 0.4583 - val_accuracy: 0.8401\n",
      "Epoch 92/100\n",
      "60000/60000 [==============================] - 1s 14us/step - loss: 0.4183 - accuracy: 0.8580 - val_loss: 0.4579 - val_accuracy: 0.8389\n",
      "Epoch 93/100\n",
      "60000/60000 [==============================] - 1s 13us/step - loss: 0.4180 - accuracy: 0.8578 - val_loss: 0.4590 - val_accuracy: 0.8381\n",
      "Epoch 94/100\n",
      "60000/60000 [==============================] - 1s 14us/step - loss: 0.4176 - accuracy: 0.8581 - val_loss: 0.4576 - val_accuracy: 0.8394\n",
      "Epoch 95/100\n",
      "60000/60000 [==============================] - 1s 14us/step - loss: 0.4173 - accuracy: 0.8583 - val_loss: 0.4571 - val_accuracy: 0.8406\n",
      "Epoch 96/100\n",
      "60000/60000 [==============================] - 1s 17us/step - loss: 0.4169 - accuracy: 0.8578 - val_loss: 0.4578 - val_accuracy: 0.8385\n",
      "Epoch 97/100\n",
      "60000/60000 [==============================] - 1s 18us/step - loss: 0.4165 - accuracy: 0.8582 - val_loss: 0.4565 - val_accuracy: 0.8407\n",
      "Epoch 98/100\n",
      "60000/60000 [==============================] - 1s 18us/step - loss: 0.4162 - accuracy: 0.8580 - val_loss: 0.4565 - val_accuracy: 0.8402\n",
      "Epoch 99/100\n",
      "60000/60000 [==============================] - 1s 14us/step - loss: 0.4159 - accuracy: 0.8582 - val_loss: 0.4561 - val_accuracy: 0.8406\n",
      "Epoch 100/100\n",
      "60000/60000 [==============================] - 1s 14us/step - loss: 0.4154 - accuracy: 0.8588 - val_loss: 0.4560 - val_accuracy: 0.8397\n"
     ]
    }
   ],
   "source": [
    "# model training\n",
    "model.compile(optimizer='sgd', loss='categorical_crossentropy', metrics=['accuracy'])\n",
    "history = model.fit(train_X, train_Y, batch_size=batch_size, nb_epoch=nb_epoch, validation_data=(test_X, test_Y))\n",
    "score = model.evaluate(test_X, test_Y, verbose=0)"
   ]
  },
  {
   "cell_type": "code",
   "execution_count": 26,
   "metadata": {},
   "outputs": [
    {
     "data": {
      "text/plain": [
       "[0.4560398384094238, 0.8396999835968018]"
      ]
     },
     "execution_count": 26,
     "metadata": {},
     "output_type": "execute_result"
    }
   ],
   "source": [
    "score"
   ]
  },
  {
   "cell_type": "code",
   "execution_count": 36,
   "metadata": {},
   "outputs": [
    {
     "data": {
      "image/png": "[encoded data removed]",
      "text/plain": [
       "<Figure size 432x288 with 1 Axes>"
      ]
     },
     "metadata": {
      "needs_background": "light"
     },
     "output_type": "display_data"
    }
   ],
   "source": [
    "plt.plot(history.history['accuracy'], 'r')\n",
    "plt.plot(history.history['val_accuracy'], 'b')\n",
    "plt.show()"
   ]
  },
  {
   "cell_type": "code",
   "execution_count": 37,
   "metadata": {},
   "outputs": [],
   "source": [
    "import numpy as np"
   ]
  },
  {
   "cell_type": "code",
   "execution_count": 38,
   "metadata": {},
   "outputs": [],
   "source": [
    "index = 0\n",
    "misclassifiedIndexes = []\n",
    "predictions = model.predict_classes(test_X)\n",
    "for label, predict in zip(test_y, predictions):\n",
    "    if label != predict:\n",
    "        misclassifiedIndexes.append(index)\n",
    "    index += 1"
   ]
  },
  {
   "cell_type": "code",
   "execution_count": 40,
   "metadata": {},
   "outputs": [
    {
     "data": {
      "image/png": "[encoded data removed]",
      "text/plain": [
       "<Figure size 1440x288 with 5 Axes>"
      ]
     },
     "metadata": {
      "needs_background": "light"
     },
     "output_type": "display_data"
    }
   ],
   "source": [
    "plt.figure(figsize=(20, 4))\n",
    "for pi, bi in enumerate(misclassifiedIndexes[:5]):\n",
    "    plt.subplot(1, 5, pi + 1)\n",
    "    plt.imshow(np.reshape(test_X[bi], (28, 28)), cmap=plt.cm.gray)\n",
    "    plt.title(f\"preddicted : {predictions[bi]}, actual : {test_y[bi]}\")"
   ]
  },
  {
   "cell_type": "code",
   "execution_count": null,
   "metadata": {},
   "outputs": [],
   "source": []
  }
 ],
 "metadata": {
  "kernelspec": {
   "display_name": "Python 3",
   "language": "python",
   "name": "python3"
  },
  "language_info": {
   "codemirror_mode": {
    "name": "ipython",
    "version": 3
   },
   "file_extension": ".py",
   "mimetype": "text/x-python",
   "name": "python",
   "nbconvert_exporter": "python",
   "pygments_lexer": "ipython3",
   "version": "3.7.5"
  }
 },
 "nbformat": 4,
 "nbformat_minor": 2
}
