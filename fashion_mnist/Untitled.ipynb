{
 "cells": [
  {
   "cell_type": "code",
   "execution_count": 2,
   "metadata": {},
   "outputs": [],
   "source": [
    "import tensorflow as tf\n",
    "import numpy as np\n",
    "import matplotlib.pyplot as plt"
   ]
  },
  {
   "cell_type": "code",
   "execution_count": 7,
   "metadata": {},
   "outputs": [],
   "source": [
    "(x_train, Y_train), (x_test, Y_test) = tf.keras.datasets.fashion_mnist.load_data()"
   ]
  },
  {
   "cell_type": "code",
   "execution_count": 19,
   "metadata": {},
   "outputs": [],
   "source": [
    "class_names = ['T-shirt/top', 'Trouser', 'Pullover', 'Dress', 'Coat',\n",
    "               'Sandal', 'Shirt', 'Sneaker', 'Bag', 'Ankle boot']"
   ]
  },
  {
   "cell_type": "code",
   "execution_count": 21,
   "metadata": {},
   "outputs": [
    {
     "name": "stdout",
     "output_type": "stream",
     "text": [
      "x_train : (60000, 28, 28), x_test : (10000, 28, 28)\n"
     ]
    }
   ],
   "source": [
    "print(f\"x_train : {x_train.shape}, x_test : {x_test.shape}\")"
   ]
  },
  {
   "cell_type": "code",
   "execution_count": 23,
   "metadata": {},
   "outputs": [
    {
     "data": {
      "image/png": "[encoded data removed]",
      "text/plain": [
       "<Figure size 432x288 with 5 Axes>"
      ]
     },
     "metadata": {
      "needs_background": "light"
     },
     "output_type": "display_data"
    }
   ],
   "source": [
    "# data visualization\n",
    "fig = plt.figure()\n",
    "rows = 1\n",
    "cols = 5\n",
    "for i in range(5):\n",
    "    ax = fig.add_subplot(rows, cols, i+1)\n",
    "    ax.imshow(x_train[i])\n",
    "    ax.set_title(class_names[Y_train[i]])\n",
    "plt.show()"
   ]
  },
  {
   "cell_type": "markdown",
   "metadata": {},
   "source": [
    "## basic model build"
   ]
  },
  {
   "cell_type": "code",
   "execution_count": 66,
   "metadata": {},
   "outputs": [],
   "source": [
    "import tensorflow.keras as keras\n",
    "from tensorflow.keras import layers, models"
   ]
  },
  {
   "cell_type": "code",
   "execution_count": 69,
   "metadata": {},
   "outputs": [],
   "source": [
    "model = models.Sequential()\n",
    "model.add(layers.Flatten(input_shape=(28, 28)))\n",
    "model.add(layers.Dense(128, activation='relu'))\n",
    "model.add(layers.Dense(10, activation='softmax'))"
   ]
  },
  {
   "cell_type": "code",
   "execution_count": 70,
   "metadata": {},
   "outputs": [],
   "source": [
    "optimizer = 'adam'\n",
    "loss='sparse_categorical_crossentropy'"
   ]
  },
  {
   "cell_type": "code",
   "execution_count": 71,
   "metadata": {},
   "outputs": [],
   "source": [
    "model.compile(optimizer=optimizer, loss=loss, metrics=['accuracy'])"
   ]
  },
  {
   "cell_type": "code",
   "execution_count": 72,
   "metadata": {
    "scrolled": false
   },
   "outputs": [
    {
     "name": "stdout",
     "output_type": "stream",
     "text": [
      "Model: \"sequential_5\"\n",
      "_________________________________________________________________\n",
      "Layer (type)                 Output Shape              Param #   \n",
      "=================================================================\n",
      "flatten_6 (Flatten)          (None, 784)               0         \n",
      "_________________________________________________________________\n",
      "dense_10 (Dense)             (None, 128)               100480    \n",
      "_________________________________________________________________\n",
      "dense_11 (Dense)             (None, 10)                1290      \n",
      "=================================================================\n",
      "Total params: 101,770\n",
      "Trainable params: 101,770\n",
      "Non-trainable params: 0\n",
      "_________________________________________________________________\n"
     ]
    }
   ],
   "source": [
    "model.summary()"
   ]
  },
  {
   "cell_type": "code",
   "execution_count": 73,
   "metadata": {},
   "outputs": [],
   "source": [
    "epoch = 10\n",
    "batch_size = 128"
   ]
  },
  {
   "cell_type": "code",
   "execution_count": 74,
   "metadata": {},
   "outputs": [
    {
     "name": "stdout",
     "output_type": "stream",
     "text": [
      "Train on 60000 samples, validate on 10000 samples\n",
      "Epoch 1/10\n",
      "60000/60000 [==============================] - 3s 42us/sample - loss: 7.7861 - accuracy: 0.7379 - val_loss: 1.7393 - val_accuracy: 0.6554\n",
      "Epoch 2/10\n",
      "60000/60000 [==============================] - 2s 31us/sample - loss: 0.9514 - accuracy: 0.7241 - val_loss: 0.7854 - val_accuracy: 0.7364\n",
      "Epoch 3/10\n",
      "60000/60000 [==============================] - 2s 32us/sample - loss: 0.6431 - accuracy: 0.7704 - val_loss: 0.6689 - val_accuracy: 0.7574\n",
      "Epoch 4/10\n",
      "60000/60000 [==============================] - 2s 32us/sample - loss: 0.5413 - accuracy: 0.8068 - val_loss: 0.6135 - val_accuracy: 0.8046\n",
      "Epoch 5/10\n",
      "60000/60000 [==============================] - 2s 32us/sample - loss: 0.4846 - accuracy: 0.8235 - val_loss: 0.5513 - val_accuracy: 0.8151\n",
      "Epoch 6/10\n",
      "60000/60000 [==============================] - 2s 30us/sample - loss: 0.4538 - accuracy: 0.8357 - val_loss: 0.5491 - val_accuracy: 0.8256\n",
      "Epoch 7/10\n",
      "60000/60000 [==============================] - 2s 29us/sample - loss: 0.4332 - accuracy: 0.8456 - val_loss: 0.5163 - val_accuracy: 0.8335\n",
      "Epoch 8/10\n",
      "60000/60000 [==============================] - 2s 28us/sample - loss: 0.4248 - accuracy: 0.8472 - val_loss: 0.5273 - val_accuracy: 0.8287\n",
      "Epoch 9/10\n",
      "60000/60000 [==============================] - 2s 28us/sample - loss: 0.4193 - accuracy: 0.8503 - val_loss: 0.4837 - val_accuracy: 0.8411\n",
      "Epoch 10/10\n",
      "60000/60000 [==============================] - 2s 25us/sample - loss: 0.4026 - accuracy: 0.8556 - val_loss: 0.5198 - val_accuracy: 0.8339\n"
     ]
    }
   ],
   "source": [
    "history = model.fit(x_train, Y_train, \n",
    "                    validation_data=(x_test, Y_test), \n",
    "                    epochs=epoch, batch_size=batch_size)"
   ]
  },
  {
   "cell_type": "code",
   "execution_count": 75,
   "metadata": {
    "scrolled": true
   },
   "outputs": [
    {
     "data": {
      "image/png": "[encoded data removed]",
      "text/plain": [
       "<Figure size 432x288 with 1 Axes>"
      ]
     },
     "metadata": {
      "needs_background": "light"
     },
     "output_type": "display_data"
    }
   ],
   "source": [
    "# check model\n",
    "plt.plot(history.history['accuracy'],'r')\n",
    "plt.plot(history.history['val_accuracy'],'b')\n",
    "plt.legend({'training accuracy':'r', 'validation accuracy': 'b'})\n",
    "plt.show()"
   ]
  },
  {
   "cell_type": "markdown",
   "metadata": {},
   "source": [
    "## base model result\n",
    "- 학습이 덜된 모습을 보인다.\n",
    "- epoch를 늘려서 테스트"
   ]
  },
  {
   "cell_type": "markdown",
   "metadata": {},
   "source": [
    "### 30ephoc + base model"
   ]
  },
  {
   "cell_type": "code",
   "execution_count": 76,
   "metadata": {},
   "outputs": [],
   "source": [
    "model = models.Sequential()\n",
    "model.add(layers.Flatten(input_shape=(28, 28)))\n",
    "model.add(layers.Dense(128, activation='relu'))\n",
    "model.add(layers.Dense(10, activation='softmax'))"
   ]
  },
  {
   "cell_type": "code",
   "execution_count": 77,
   "metadata": {},
   "outputs": [],
   "source": [
    "optimizer = 'adam'\n",
    "loss='sparse_categorical_crossentropy'"
   ]
  },
  {
   "cell_type": "code",
   "execution_count": 78,
   "metadata": {},
   "outputs": [],
   "source": [
    "model.compile(optimizer=optimizer, loss=loss, metrics=['accuracy'])"
   ]
  },
  {
   "cell_type": "code",
   "execution_count": 79,
   "metadata": {
    "scrolled": false
   },
   "outputs": [
    {
     "name": "stdout",
     "output_type": "stream",
     "text": [
      "Model: \"sequential_6\"\n",
      "_________________________________________________________________\n",
      "Layer (type)                 Output Shape              Param #   \n",
      "=================================================================\n",
      "flatten_7 (Flatten)          (None, 784)               0         \n",
      "_________________________________________________________________\n",
      "dense_12 (Dense)             (None, 128)               100480    \n",
      "_________________________________________________________________\n",
      "dense_13 (Dense)             (None, 10)                1290      \n",
      "=================================================================\n",
      "Total params: 101,770\n",
      "Trainable params: 101,770\n",
      "Non-trainable params: 0\n",
      "_________________________________________________________________\n"
     ]
    }
   ],
   "source": [
    "model.summary()"
   ]
  },
  {
   "cell_type": "code",
   "execution_count": 80,
   "metadata": {},
   "outputs": [],
   "source": [
    "epoch = 30\n",
    "batch_size = 128"
   ]
  },
  {
   "cell_type": "code",
   "execution_count": 81,
   "metadata": {
    "scrolled": true
   },
   "outputs": [
    {
     "name": "stdout",
     "output_type": "stream",
     "text": [
      "Train on 60000 samples, validate on 10000 samples\n",
      "Epoch 1/30\n",
      "60000/60000 [==============================] - 2s 32us/sample - loss: 6.9405 - accuracy: 0.7100 - val_loss: 1.2479 - val_accuracy: 0.6584\n",
      "Epoch 2/30\n",
      "60000/60000 [==============================] - 1s 25us/sample - loss: 0.8837 - accuracy: 0.7038 - val_loss: 0.8273 - val_accuracy: 0.6981\n",
      "Epoch 3/30\n",
      "60000/60000 [==============================] - 2s 25us/sample - loss: 0.6956 - accuracy: 0.7371 - val_loss: 0.7085 - val_accuracy: 0.7620\n",
      "Epoch 4/30\n",
      "60000/60000 [==============================] - 2s 26us/sample - loss: 0.5851 - accuracy: 0.7873 - val_loss: 0.6423 - val_accuracy: 0.7801\n",
      "Epoch 5/30\n",
      "60000/60000 [==============================] - 2s 26us/sample - loss: 0.5351 - accuracy: 0.8048 - val_loss: 0.6482 - val_accuracy: 0.7761\n",
      "Epoch 6/30\n",
      "60000/60000 [==============================] - 2s 26us/sample - loss: 0.5063 - accuracy: 0.8184 - val_loss: 0.5572 - val_accuracy: 0.8164\n",
      "Epoch 7/30\n",
      "60000/60000 [==============================] - 1s 25us/sample - loss: 0.4690 - accuracy: 0.8317 - val_loss: 0.5415 - val_accuracy: 0.8191\n",
      "Epoch 8/30\n",
      "60000/60000 [==============================] - 1s 24us/sample - loss: 0.4373 - accuracy: 0.8409 - val_loss: 0.5029 - val_accuracy: 0.8311\n",
      "Epoch 9/30\n",
      "60000/60000 [==============================] - 1s 25us/sample - loss: 0.4175 - accuracy: 0.8472 - val_loss: 0.5094 - val_accuracy: 0.8247\n",
      "Epoch 10/30\n",
      "60000/60000 [==============================] - 1s 24us/sample - loss: 0.4018 - accuracy: 0.8523 - val_loss: 0.5021 - val_accuracy: 0.8326\n",
      "Epoch 11/30\n",
      "60000/60000 [==============================] - 2s 25us/sample - loss: 0.3962 - accuracy: 0.8541 - val_loss: 0.5122 - val_accuracy: 0.8307\n",
      "Epoch 12/30\n",
      "60000/60000 [==============================] - 1s 24us/sample - loss: 0.3913 - accuracy: 0.8573 - val_loss: 0.5028 - val_accuracy: 0.8367\n",
      "Epoch 13/30\n",
      "60000/60000 [==============================] - 1s 24us/sample - loss: 0.3817 - accuracy: 0.8591 - val_loss: 0.4855 - val_accuracy: 0.8397\n",
      "Epoch 14/30\n",
      "60000/60000 [==============================] - 1s 24us/sample - loss: 0.3809 - accuracy: 0.8631 - val_loss: 0.4682 - val_accuracy: 0.8412\n",
      "Epoch 15/30\n",
      "60000/60000 [==============================] - 1s 24us/sample - loss: 0.3812 - accuracy: 0.8622 - val_loss: 0.4582 - val_accuracy: 0.8449\n",
      "Epoch 16/30\n",
      "60000/60000 [==============================] - 1s 25us/sample - loss: 0.3764 - accuracy: 0.8625 - val_loss: 0.4958 - val_accuracy: 0.8478\n",
      "Epoch 17/30\n",
      "60000/60000 [==============================] - 2s 25us/sample - loss: 0.3717 - accuracy: 0.8641 - val_loss: 0.4490 - val_accuracy: 0.8531\n",
      "Epoch 18/30\n",
      "60000/60000 [==============================] - 2s 25us/sample - loss: 0.3653 - accuracy: 0.8677 - val_loss: 0.4545 - val_accuracy: 0.8383\n",
      "Epoch 19/30\n",
      "60000/60000 [==============================] - 2s 26us/sample - loss: 0.3643 - accuracy: 0.8677 - val_loss: 0.4659 - val_accuracy: 0.8405\n",
      "Epoch 20/30\n",
      "60000/60000 [==============================] - 1s 25us/sample - loss: 0.3581 - accuracy: 0.8685 - val_loss: 0.4401 - val_accuracy: 0.8498\n",
      "Epoch 21/30\n",
      "60000/60000 [==============================] - 2s 25us/sample - loss: 0.3530 - accuracy: 0.8703 - val_loss: 0.4589 - val_accuracy: 0.8478\n",
      "Epoch 22/30\n",
      "60000/60000 [==============================] - 1s 25us/sample - loss: 0.3571 - accuracy: 0.8691 - val_loss: 0.4945 - val_accuracy: 0.8354\n",
      "Epoch 23/30\n",
      "60000/60000 [==============================] - 2s 25us/sample - loss: 0.3567 - accuracy: 0.8698 - val_loss: 0.4480 - val_accuracy: 0.8501\n",
      "Epoch 24/30\n",
      "60000/60000 [==============================] - 2s 25us/sample - loss: 0.3423 - accuracy: 0.8744 - val_loss: 0.4469 - val_accuracy: 0.8499\n",
      "Epoch 25/30\n",
      "60000/60000 [==============================] - 1s 24us/sample - loss: 0.3486 - accuracy: 0.8721 - val_loss: 0.4794 - val_accuracy: 0.8449\n",
      "Epoch 26/30\n",
      "60000/60000 [==============================] - 2s 25us/sample - loss: 0.3484 - accuracy: 0.8719 - val_loss: 0.4679 - val_accuracy: 0.8424\n",
      "Epoch 27/30\n",
      "60000/60000 [==============================] - 2s 25us/sample - loss: 0.3398 - accuracy: 0.8756 - val_loss: 0.4518 - val_accuracy: 0.8477\n",
      "Epoch 28/30\n",
      "60000/60000 [==============================] - 2s 26us/sample - loss: 0.3395 - accuracy: 0.8741 - val_loss: 0.4851 - val_accuracy: 0.8430\n",
      "Epoch 29/30\n",
      "60000/60000 [==============================] - 2s 25us/sample - loss: 0.3377 - accuracy: 0.8753 - val_loss: 0.4397 - val_accuracy: 0.8529\n",
      "Epoch 30/30\n",
      "60000/60000 [==============================] - 1s 25us/sample - loss: 0.3383 - accuracy: 0.8758 - val_loss: 0.5517 - val_accuracy: 0.8361\n"
     ]
    }
   ],
   "source": [
    "history = model.fit(x_train, Y_train, \n",
    "                    validation_data=(x_test, Y_test), \n",
    "                    epochs=epoch, batch_size=batch_size)"
   ]
  },
  {
   "cell_type": "code",
   "execution_count": 82,
   "metadata": {
    "scrolled": false
   },
   "outputs": [
    {
     "data": {
      "image/png": "[encoded data removed]",
      "text/plain": [
       "<Figure size 432x288 with 1 Axes>"
      ]
     },
     "metadata": {
      "needs_background": "light"
     },
     "output_type": "display_data"
    }
   ],
   "source": [
    "# check model\n",
    "plt.plot(history.history['accuracy'],'r')\n",
    "plt.plot(history.history['val_accuracy'],'b')\n",
    "plt.legend({'training accuracy':'r', 'validation accuracy': 'b'})\n",
    "plt.show()"
   ]
  },
  {
   "cell_type": "markdown",
   "metadata": {},
   "source": [
    "### 30 epoch + basemodel result\n",
    "- 10epoch 이후에 overfitting이 발생\n",
    "- test accuracy 또한 90에 도달을 못함 model 수정을 생각해보자"
   ]
  },
  {
   "cell_type": "code",
   "execution_count": 76,
   "metadata": {},
   "outputs": [],
   "source": [
    "model = models.Sequential()\n",
    "model.add(layers.Flatten(input_shape=(28, 28)))\n",
    "model.add(layers.Dense(128, activation='relu'))\n",
    "model.add(layers.Dense(10, activation='softmax'))"
   ]
  },
  {
   "cell_type": "code",
   "execution_count": 77,
   "metadata": {},
   "outputs": [],
   "source": [
    "optimizer = 'adam'\n",
    "loss='sparse_categorical_crossentropy'"
   ]
  },
  {
   "cell_type": "code",
   "execution_count": 78,
   "metadata": {},
   "outputs": [],
   "source": [
    "model.compile(optimizer=optimizer, loss=loss, metrics=['accuracy'])"
   ]
  },
  {
   "cell_type": "code",
   "execution_count": 79,
   "metadata": {
    "scrolled": false
   },
   "outputs": [
    {
     "name": "stdout",
     "output_type": "stream",
     "text": [
      "Model: \"sequential_6\"\n",
      "_________________________________________________________________\n",
      "Layer (type)                 Output Shape              Param #   \n",
      "=================================================================\n",
      "flatten_7 (Flatten)          (None, 784)               0         \n",
      "_________________________________________________________________\n",
      "dense_12 (Dense)             (None, 128)               100480    \n",
      "_________________________________________________________________\n",
      "dense_13 (Dense)             (None, 10)                1290      \n",
      "=================================================================\n",
      "Total params: 101,770\n",
      "Trainable params: 101,770\n",
      "Non-trainable params: 0\n",
      "_________________________________________________________________\n"
     ]
    }
   ],
   "source": [
    "model.summary()"
   ]
  },
  {
   "cell_type": "code",
   "execution_count": 80,
   "metadata": {},
   "outputs": [],
   "source": [
    "epoch = 30\n",
    "batch_size = 128"
   ]
  },
  {
   "cell_type": "code",
   "execution_count": 81,
   "metadata": {
    "scrolled": true
   },
   "outputs": [
    {
     "name": "stdout",
     "output_type": "stream",
     "text": [
      "Train on 60000 samples, validate on 10000 samples\n",
      "Epoch 1/30\n",
      "60000/60000 [==============================] - 2s 32us/sample - loss: 6.9405 - accuracy: 0.7100 - val_loss: 1.2479 - val_accuracy: 0.6584\n",
      "Epoch 2/30\n",
      "60000/60000 [==============================] - 1s 25us/sample - loss: 0.8837 - accuracy: 0.7038 - val_loss: 0.8273 - val_accuracy: 0.6981\n",
      "Epoch 3/30\n",
      "60000/60000 [==============================] - 2s 25us/sample - loss: 0.6956 - accuracy: 0.7371 - val_loss: 0.7085 - val_accuracy: 0.7620\n",
      "Epoch 4/30\n",
      "60000/60000 [==============================] - 2s 26us/sample - loss: 0.5851 - accuracy: 0.7873 - val_loss: 0.6423 - val_accuracy: 0.7801\n",
      "Epoch 5/30\n",
      "60000/60000 [==============================] - 2s 26us/sample - loss: 0.5351 - accuracy: 0.8048 - val_loss: 0.6482 - val_accuracy: 0.7761\n",
      "Epoch 6/30\n",
      "60000/60000 [==============================] - 2s 26us/sample - loss: 0.5063 - accuracy: 0.8184 - val_loss: 0.5572 - val_accuracy: 0.8164\n",
      "Epoch 7/30\n",
      "60000/60000 [==============================] - 1s 25us/sample - loss: 0.4690 - accuracy: 0.8317 - val_loss: 0.5415 - val_accuracy: 0.8191\n",
      "Epoch 8/30\n",
      "60000/60000 [==============================] - 1s 24us/sample - loss: 0.4373 - accuracy: 0.8409 - val_loss: 0.5029 - val_accuracy: 0.8311\n",
      "Epoch 9/30\n",
      "60000/60000 [==============================] - 1s 25us/sample - loss: 0.4175 - accuracy: 0.8472 - val_loss: 0.5094 - val_accuracy: 0.8247\n",
      "Epoch 10/30\n",
      "60000/60000 [==============================] - 1s 24us/sample - loss: 0.4018 - accuracy: 0.8523 - val_loss: 0.5021 - val_accuracy: 0.8326\n",
      "Epoch 11/30\n",
      "60000/60000 [==============================] - 2s 25us/sample - loss: 0.3962 - accuracy: 0.8541 - val_loss: 0.5122 - val_accuracy: 0.8307\n",
      "Epoch 12/30\n",
      "60000/60000 [==============================] - 1s 24us/sample - loss: 0.3913 - accuracy: 0.8573 - val_loss: 0.5028 - val_accuracy: 0.8367\n",
      "Epoch 13/30\n",
      "60000/60000 [==============================] - 1s 24us/sample - loss: 0.3817 - accuracy: 0.8591 - val_loss: 0.4855 - val_accuracy: 0.8397\n",
      "Epoch 14/30\n",
      "60000/60000 [==============================] - 1s 24us/sample - loss: 0.3809 - accuracy: 0.8631 - val_loss: 0.4682 - val_accuracy: 0.8412\n",
      "Epoch 15/30\n",
      "60000/60000 [==============================] - 1s 24us/sample - loss: 0.3812 - accuracy: 0.8622 - val_loss: 0.4582 - val_accuracy: 0.8449\n",
      "Epoch 16/30\n",
      "60000/60000 [==============================] - 1s 25us/sample - loss: 0.3764 - accuracy: 0.8625 - val_loss: 0.4958 - val_accuracy: 0.8478\n",
      "Epoch 17/30\n",
      "60000/60000 [==============================] - 2s 25us/sample - loss: 0.3717 - accuracy: 0.8641 - val_loss: 0.4490 - val_accuracy: 0.8531\n",
      "Epoch 18/30\n",
      "60000/60000 [==============================] - 2s 25us/sample - loss: 0.3653 - accuracy: 0.8677 - val_loss: 0.4545 - val_accuracy: 0.8383\n",
      "Epoch 19/30\n",
      "60000/60000 [==============================] - 2s 26us/sample - loss: 0.3643 - accuracy: 0.8677 - val_loss: 0.4659 - val_accuracy: 0.8405\n",
      "Epoch 20/30\n",
      "60000/60000 [==============================] - 1s 25us/sample - loss: 0.3581 - accuracy: 0.8685 - val_loss: 0.4401 - val_accuracy: 0.8498\n",
      "Epoch 21/30\n",
      "60000/60000 [==============================] - 2s 25us/sample - loss: 0.3530 - accuracy: 0.8703 - val_loss: 0.4589 - val_accuracy: 0.8478\n",
      "Epoch 22/30\n",
      "60000/60000 [==============================] - 1s 25us/sample - loss: 0.3571 - accuracy: 0.8691 - val_loss: 0.4945 - val_accuracy: 0.8354\n",
      "Epoch 23/30\n",
      "60000/60000 [==============================] - 2s 25us/sample - loss: 0.3567 - accuracy: 0.8698 - val_loss: 0.4480 - val_accuracy: 0.8501\n",
      "Epoch 24/30\n",
      "60000/60000 [==============================] - 2s 25us/sample - loss: 0.3423 - accuracy: 0.8744 - val_loss: 0.4469 - val_accuracy: 0.8499\n",
      "Epoch 25/30\n",
      "60000/60000 [==============================] - 1s 24us/sample - loss: 0.3486 - accuracy: 0.8721 - val_loss: 0.4794 - val_accuracy: 0.8449\n",
      "Epoch 26/30\n",
      "60000/60000 [==============================] - 2s 25us/sample - loss: 0.3484 - accuracy: 0.8719 - val_loss: 0.4679 - val_accuracy: 0.8424\n",
      "Epoch 27/30\n",
      "60000/60000 [==============================] - 2s 25us/sample - loss: 0.3398 - accuracy: 0.8756 - val_loss: 0.4518 - val_accuracy: 0.8477\n",
      "Epoch 28/30\n",
      "60000/60000 [==============================] - 2s 26us/sample - loss: 0.3395 - accuracy: 0.8741 - val_loss: 0.4851 - val_accuracy: 0.8430\n",
      "Epoch 29/30\n",
      "60000/60000 [==============================] - 2s 25us/sample - loss: 0.3377 - accuracy: 0.8753 - val_loss: 0.4397 - val_accuracy: 0.8529\n",
      "Epoch 30/30\n",
      "60000/60000 [==============================] - 1s 25us/sample - loss: 0.3383 - accuracy: 0.8758 - val_loss: 0.5517 - val_accuracy: 0.8361\n"
     ]
    }
   ],
   "source": [
    "history = model.fit(x_train, Y_train, \n",
    "                    validation_data=(x_test, Y_test), \n",
    "                    epochs=epoch, batch_size=batch_size)"
   ]
  },
  {
   "cell_type": "code",
   "execution_count": 82,
   "metadata": {
    "scrolled": false
   },
   "outputs": [
    {
     "data": {
      "image/png": "[encoded data removed]",
      "text/plain": [
       "<Figure size 432x288 with 1 Axes>"
      ]
     },
     "metadata": {
      "needs_background": "light"
     },
     "output_type": "display_data"
    }
   ],
   "source": [
    "# check model\n",
    "plt.plot(history.history['accuracy'],'r')\n",
    "plt.plot(history.history['val_accuracy'],'b')\n",
    "plt.legend({'training accuracy':'r', 'validation accuracy': 'b'})\n",
    "plt.show()"
   ]
  }
 ],
 "metadata": {
  "kernelspec": {
   "display_name": "Python 3",
   "language": "python",
   "name": "python3"
  },
  "language_info": {
   "codemirror_mode": {
    "name": "ipython",
    "version": 3
   },
   "file_extension": ".py",
   "mimetype": "text/x-python",
   "name": "python",
   "nbconvert_exporter": "python",
   "pygments_lexer": "ipython3",
   "version": "3.7.4"
  }
 },
 "nbformat": 4,
 "nbformat_minor": 2
}
