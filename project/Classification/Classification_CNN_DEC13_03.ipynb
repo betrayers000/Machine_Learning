{
 "cells": [
  {
   "cell_type": "markdown",
   "metadata": {},
   "source": [
    "# Classification_CNN"
   ]
  },
  {
   "cell_type": "markdown",
   "metadata": {},
   "source": [
    "## Method\n",
    "\n",
    "Build Convolutional Neural Network model with Tensorflow-Keras.\n",
    "\n",
    "```\n",
    "X_train: 50000 samples\n",
    "X_test: 10000 samples\n",
    "\n",
    "batch_size: 128\n",
    "epochs: 100\n",
    "```"
   ]
  },
  {
   "cell_type": "code",
   "execution_count": 20,
   "metadata": {},
   "outputs": [],
   "source": [
    "import tensorflow as tf\n",
    "from tensorflow.keras.datasets import cifar10\n",
    "import matplotlib.pyplot as plt\n",
    "\n",
    "(X_train, y_train), (X_test, y_test) = cifar10.load_data()"
   ]
  },
  {
   "cell_type": "markdown",
   "metadata": {},
   "source": [
    "## Load dataset, Preprocessing"
   ]
  },
  {
   "cell_type": "code",
   "execution_count": 3,
   "metadata": {},
   "outputs": [
    {
     "name": "stderr",
     "output_type": "stream",
     "text": [
      "Using TensorFlow backend.\n"
     ]
    }
   ],
   "source": [
    "from keras.utils import np_utils\n",
    "from tensorflow.keras.models import Sequential\n",
    "from tensorflow.keras.layers import Dense, Activation, BatchNormalization, Convolution2D, MaxPooling2D, Flatten"
   ]
  },
  {
   "cell_type": "code",
   "execution_count": 4,
   "metadata": {},
   "outputs": [],
   "source": [
    "output_dim = nb_classes = 10"
   ]
  },
  {
   "cell_type": "code",
   "execution_count": 5,
   "metadata": {},
   "outputs": [
    {
     "name": "stdout",
     "output_type": "stream",
     "text": [
      "(50000, 32, 32, 3) (10000, 32, 32, 3)\n"
     ]
    }
   ],
   "source": [
    "input_dim = (32,32,3)\n",
    "X_train = X_train.reshape(50000, *input_dim)\n",
    "X_test = X_test.reshape(10000, *input_dim)\n",
    "\n",
    "print(X_train.shape, X_test.shape)"
   ]
  },
  {
   "cell_type": "code",
   "execution_count": 6,
   "metadata": {},
   "outputs": [],
   "source": [
    "X_train = X_train.astype('float32')\n",
    "X_test = X_test.astype('float32')\n",
    "Y_train = np_utils.to_categorical(y_train, nb_classes)\n",
    "Y_test = np_utils.to_categorical(y_test, nb_classes)"
   ]
  },
  {
   "cell_type": "code",
   "execution_count": 7,
   "metadata": {},
   "outputs": [
    {
     "name": "stdout",
     "output_type": "stream",
     "text": [
      "(32, 32, 3) (50000, 32, 32, 3) (50000, 10) 10\n"
     ]
    }
   ],
   "source": [
    "print(input_dim, X_train.shape, Y_train.shape, output_dim)"
   ]
  },
  {
   "cell_type": "markdown",
   "metadata": {},
   "source": [
    "## Build Model"
   ]
  },
  {
   "cell_type": "code",
   "execution_count": 14,
   "metadata": {},
   "outputs": [],
   "source": [
    "model = Sequential()\n",
    "\n",
    "# 32,32\n",
    "model.add(Convolution2D(8,(3,3), activation='relu', input_shape=(32,32,3)))\n",
    "model.add(BatchNormalization())\n",
    "\n",
    "# 30,30\n",
    "model.add(Convolution2D(16,(3,3), activation='relu'))\n",
    "model.add(BatchNormalization())\n",
    "\n",
    "# 28,28\n",
    "model.add(MaxPooling2D(pool_size=(2,2)))\n",
    "\n",
    "# # 14,14\n",
    "model.add(Convolution2D(10,1, activation='relu'))\n",
    "\n",
    "# 14,14\n",
    "model.add(Convolution2D(16,(3,3), activation='relu'))\n",
    "model.add(BatchNormalization())\n",
    "\n",
    "# 12, 12\n",
    "model.add(MaxPooling2D(pool_size=(2,2)))\n",
    "\n",
    "model.add(Convolution2D(10, 1, activation='relu'))\n",
    "\n",
    "model.add(Convolution2D(10, 6))\n",
    "\n",
    "model.add(Flatten())\n",
    "model.add(Activation('softmax'))\n",
    "\n",
    "# model.add(Dense(output_dim, input_dim=input_dim, activation='softmax'))"
   ]
  },
  {
   "cell_type": "code",
   "execution_count": 15,
   "metadata": {
    "scrolled": false
   },
   "outputs": [
    {
     "name": "stdout",
     "output_type": "stream",
     "text": [
      "Model: \"sequential_3\"\n",
      "_________________________________________________________________\n",
      "Layer (type)                 Output Shape              Param #   \n",
      "=================================================================\n",
      "conv2d_16 (Conv2D)           (None, 30, 30, 16)        448       \n",
      "_________________________________________________________________\n",
      "batch_normalization_9 (Batch (None, 30, 30, 16)        64        \n",
      "_________________________________________________________________\n",
      "conv2d_17 (Conv2D)           (None, 28, 28, 32)        4640      \n",
      "_________________________________________________________________\n",
      "batch_normalization_10 (Batc (None, 28, 28, 32)        128       \n",
      "_________________________________________________________________\n",
      "max_pooling2d_6 (MaxPooling2 (None, 14, 14, 32)        0         \n",
      "_________________________________________________________________\n",
      "conv2d_18 (Conv2D)           (None, 14, 14, 24)        792       \n",
      "_________________________________________________________________\n",
      "conv2d_19 (Conv2D)           (None, 12, 12, 32)        6944      \n",
      "_________________________________________________________________\n",
      "batch_normalization_11 (Batc (None, 12, 12, 32)        128       \n",
      "_________________________________________________________________\n",
      "max_pooling2d_7 (MaxPooling2 (None, 6, 6, 32)          0         \n",
      "_________________________________________________________________\n",
      "conv2d_20 (Conv2D)           (None, 6, 6, 10)          330       \n",
      "_________________________________________________________________\n",
      "conv2d_21 (Conv2D)           (None, 1, 1, 10)          3610      \n",
      "_________________________________________________________________\n",
      "flatten_3 (Flatten)          (None, 10)                0         \n",
      "_________________________________________________________________\n",
      "activation_3 (Activation)    (None, 10)                0         \n",
      "=================================================================\n",
      "Total params: 17,084\n",
      "Trainable params: 16,924\n",
      "Non-trainable params: 160\n",
      "_________________________________________________________________\n"
     ]
    }
   ],
   "source": [
    "model.summary()"
   ]
  },
  {
   "cell_type": "code",
   "execution_count": 44,
   "metadata": {},
   "outputs": [],
   "source": [
    "model.compile(optimizer='sgd', loss='categorical_crossentropy', metrics=['accuracy'])"
   ]
  },
  {
   "cell_type": "code",
   "execution_count": 45,
   "metadata": {
    "scrolled": true
   },
   "outputs": [
    {
     "name": "stdout",
     "output_type": "stream",
     "text": [
      "Train on 50000 samples, validate on 10000 samples\n",
      "Epoch 1/100\n",
      "50000/50000 [==============================] - 19s 378us/sample - loss: 1.9197 - accuracy: 0.3043 - val_loss: 1.6747 - val_accuracy: 0.4021\n",
      "Epoch 2/100\n",
      "50000/50000 [==============================] - 17s 347us/sample - loss: 1.5220 - accuracy: 0.4529 - val_loss: 1.5336 - val_accuracy: 0.4463\n",
      "Epoch 3/100\n",
      "50000/50000 [==============================] - 17s 343us/sample - loss: 1.4061 - accuracy: 0.4974 - val_loss: 1.4946 - val_accuracy: 0.4629\n",
      "Epoch 4/100\n",
      "50000/50000 [==============================] - 17s 343us/sample - loss: 1.3418 - accuracy: 0.5232 - val_loss: 1.3423 - val_accuracy: 0.5206\n",
      "Epoch 5/100\n",
      "50000/50000 [==============================] - 17s 346us/sample - loss: 1.2990 - accuracy: 0.5405 - val_loss: 1.4571 - val_accuracy: 0.4978\n",
      "Epoch 6/100\n",
      "50000/50000 [==============================] - 17s 339us/sample - loss: 1.2652 - accuracy: 0.5515 - val_loss: 1.4092 - val_accuracy: 0.5031\n",
      "Epoch 7/100\n",
      "50000/50000 [==============================] - 17s 343us/sample - loss: 1.2384 - accuracy: 0.5616 - val_loss: 1.2456 - val_accuracy: 0.5622\n",
      "Epoch 8/100\n",
      "50000/50000 [==============================] - 17s 342us/sample - loss: 1.2101 - accuracy: 0.5731 - val_loss: 1.2917 - val_accuracy: 0.5397\n",
      "Epoch 9/100\n",
      "50000/50000 [==============================] - 17s 338us/sample - loss: 1.1871 - accuracy: 0.5823 - val_loss: 1.2444 - val_accuracy: 0.5678\n",
      "Epoch 10/100\n",
      "50000/50000 [==============================] - 17s 343us/sample - loss: 1.1660 - accuracy: 0.5878 - val_loss: 1.1928 - val_accuracy: 0.5867\n",
      "Epoch 11/100\n",
      "50000/50000 [==============================] - 17s 346us/sample - loss: 1.1453 - accuracy: 0.5974 - val_loss: 1.2333 - val_accuracy: 0.5730\n",
      "Epoch 12/100\n",
      "50000/50000 [==============================] - 17s 343us/sample - loss: 1.1281 - accuracy: 0.6030 - val_loss: 1.1820 - val_accuracy: 0.5860\n",
      "Epoch 13/100\n",
      "50000/50000 [==============================] - 17s 342us/sample - loss: 1.1102 - accuracy: 0.6079 - val_loss: 1.1701 - val_accuracy: 0.5865\n",
      "Epoch 14/100\n",
      "50000/50000 [==============================] - 17s 340us/sample - loss: 1.0961 - accuracy: 0.6131 - val_loss: 1.2229 - val_accuracy: 0.5783\n",
      "Epoch 15/100\n",
      "50000/50000 [==============================] - 17s 340us/sample - loss: 1.0800 - accuracy: 0.6193 - val_loss: 1.1526 - val_accuracy: 0.5957\n",
      "Epoch 16/100\n",
      "50000/50000 [==============================] - 17s 341us/sample - loss: 1.0685 - accuracy: 0.6229 - val_loss: 1.1572 - val_accuracy: 0.5956\n",
      "Epoch 17/100\n",
      "50000/50000 [==============================] - 17s 339us/sample - loss: 1.0553 - accuracy: 0.6293 - val_loss: 1.1116 - val_accuracy: 0.6127\n",
      "Epoch 18/100\n",
      "50000/50000 [==============================] - 17s 336us/sample - loss: 1.0428 - accuracy: 0.6316 - val_loss: 1.1567 - val_accuracy: 0.5951\n",
      "Epoch 19/100\n",
      "50000/50000 [==============================] - 17s 342us/sample - loss: 1.0321 - accuracy: 0.6364 - val_loss: 1.1002 - val_accuracy: 0.6128\n",
      "Epoch 20/100\n",
      "50000/50000 [==============================] - 17s 337us/sample - loss: 1.0211 - accuracy: 0.6416 - val_loss: 1.1011 - val_accuracy: 0.6101\n",
      "Epoch 21/100\n",
      "50000/50000 [==============================] - 17s 343us/sample - loss: 1.0122 - accuracy: 0.6440 - val_loss: 1.0736 - val_accuracy: 0.6208\n",
      "Epoch 22/100\n",
      "50000/50000 [==============================] - 17s 339us/sample - loss: 1.0023 - accuracy: 0.6483 - val_loss: 1.0968 - val_accuracy: 0.6148\n",
      "Epoch 23/100\n",
      "50000/50000 [==============================] - 17s 343us/sample - loss: 0.9927 - accuracy: 0.6510 - val_loss: 1.0625 - val_accuracy: 0.6242\n",
      "Epoch 24/100\n",
      "50000/50000 [==============================] - 17s 341us/sample - loss: 0.9862 - accuracy: 0.6546 - val_loss: 1.0996 - val_accuracy: 0.6180\n",
      "Epoch 25/100\n",
      "50000/50000 [==============================] - 17s 343us/sample - loss: 0.9780 - accuracy: 0.6561 - val_loss: 1.0848 - val_accuracy: 0.6141\n",
      "Epoch 26/100\n",
      "50000/50000 [==============================] - 17s 339us/sample - loss: 0.9706 - accuracy: 0.6598 - val_loss: 1.0592 - val_accuracy: 0.6195\n",
      "Epoch 27/100\n",
      "50000/50000 [==============================] - 17s 345us/sample - loss: 0.9650 - accuracy: 0.6595 - val_loss: 1.0588 - val_accuracy: 0.6294\n",
      "Epoch 28/100\n",
      "50000/50000 [==============================] - 17s 340us/sample - loss: 0.9576 - accuracy: 0.6631 - val_loss: 1.0448 - val_accuracy: 0.6325\n",
      "Epoch 29/100\n",
      "50000/50000 [==============================] - 17s 344us/sample - loss: 0.9506 - accuracy: 0.6657 - val_loss: 1.0366 - val_accuracy: 0.6334\n",
      "Epoch 30/100\n",
      "50000/50000 [==============================] - 17s 343us/sample - loss: 0.9451 - accuracy: 0.6674 - val_loss: 1.0405 - val_accuracy: 0.6315\n",
      "Epoch 31/100\n",
      "50000/50000 [==============================] - 17s 341us/sample - loss: 0.9388 - accuracy: 0.6678 - val_loss: 1.1111 - val_accuracy: 0.6132\n",
      "Epoch 32/100\n",
      "50000/50000 [==============================] - 17s 338us/sample - loss: 0.9336 - accuracy: 0.6727 - val_loss: 1.0163 - val_accuracy: 0.6428\n",
      "Epoch 33/100\n",
      "50000/50000 [==============================] - 17s 341us/sample - loss: 0.9297 - accuracy: 0.6728 - val_loss: 1.0849 - val_accuracy: 0.6221\n",
      "Epoch 34/100\n",
      "50000/50000 [==============================] - 17s 339us/sample - loss: 0.9246 - accuracy: 0.6735 - val_loss: 1.0282 - val_accuracy: 0.6417\n",
      "Epoch 35/100\n",
      "50000/50000 [==============================] - 17s 342us/sample - loss: 0.9202 - accuracy: 0.6760 - val_loss: 1.0134 - val_accuracy: 0.6480\n",
      "Epoch 36/100\n",
      "50000/50000 [==============================] - 17s 341us/sample - loss: 0.9154 - accuracy: 0.6782 - val_loss: 1.0197 - val_accuracy: 0.6454\n",
      "Epoch 37/100\n",
      "50000/50000 [==============================] - 17s 340us/sample - loss: 0.9118 - accuracy: 0.6806 - val_loss: 1.0185 - val_accuracy: 0.6450\n",
      "Epoch 38/100\n",
      "50000/50000 [==============================] - 17s 341us/sample - loss: 0.9067 - accuracy: 0.6815 - val_loss: 1.0719 - val_accuracy: 0.6217\n",
      "Epoch 39/100\n",
      "50000/50000 [==============================] - 17s 344us/sample - loss: 0.9027 - accuracy: 0.6827 - val_loss: 1.0401 - val_accuracy: 0.6379\n",
      "Epoch 40/100\n",
      "50000/50000 [==============================] - 17s 339us/sample - loss: 0.8982 - accuracy: 0.6832 - val_loss: 0.9932 - val_accuracy: 0.6511\n",
      "Epoch 41/100\n",
      "50000/50000 [==============================] - 17s 344us/sample - loss: 0.8948 - accuracy: 0.6845 - val_loss: 1.0741 - val_accuracy: 0.6267\n",
      "Epoch 42/100\n",
      "50000/50000 [==============================] - 17s 343us/sample - loss: 0.8917 - accuracy: 0.6860 - val_loss: 1.0545 - val_accuracy: 0.6328\n",
      "Epoch 43/100\n",
      "50000/50000 [==============================] - 17s 341us/sample - loss: 0.8873 - accuracy: 0.6868 - val_loss: 1.0111 - val_accuracy: 0.6475\n",
      "Epoch 44/100\n",
      "50000/50000 [==============================] - 17s 341us/sample - loss: 0.8844 - accuracy: 0.6878 - val_loss: 0.9794 - val_accuracy: 0.6544\n",
      "Epoch 45/100\n",
      "50000/50000 [==============================] - 17s 343us/sample - loss: 0.8802 - accuracy: 0.6916 - val_loss: 1.0220 - val_accuracy: 0.6437\n",
      "Epoch 46/100\n",
      "50000/50000 [==============================] - 17s 342us/sample - loss: 0.8769 - accuracy: 0.6911 - val_loss: 1.0382 - val_accuracy: 0.6383\n",
      "Epoch 47/100\n",
      "50000/50000 [==============================] - 17s 343us/sample - loss: 0.8731 - accuracy: 0.6942 - val_loss: 0.9928 - val_accuracy: 0.6567\n",
      "Epoch 48/100\n",
      "50000/50000 [==============================] - 17s 347us/sample - loss: 0.8703 - accuracy: 0.6929 - val_loss: 1.0306 - val_accuracy: 0.6443\n",
      "Epoch 49/100\n",
      "50000/50000 [==============================] - 18s 352us/sample - loss: 0.8682 - accuracy: 0.6948 - val_loss: 0.9951 - val_accuracy: 0.6501\n",
      "Epoch 50/100\n",
      "50000/50000 [==============================] - 17s 341us/sample - loss: 0.8649 - accuracy: 0.6951 - val_loss: 1.0518 - val_accuracy: 0.6331\n",
      "Epoch 51/100\n",
      "50000/50000 [==============================] - 17s 344us/sample - loss: 0.8629 - accuracy: 0.6967 - val_loss: 0.9674 - val_accuracy: 0.6617\n",
      "Epoch 52/100\n",
      "50000/50000 [==============================] - 17s 341us/sample - loss: 0.8588 - accuracy: 0.6974 - val_loss: 1.0188 - val_accuracy: 0.6458\n",
      "Epoch 53/100\n",
      "50000/50000 [==============================] - 17s 346us/sample - loss: 0.8574 - accuracy: 0.6982 - val_loss: 0.9546 - val_accuracy: 0.6657\n",
      "Epoch 54/100\n",
      "50000/50000 [==============================] - 17s 338us/sample - loss: 0.8541 - accuracy: 0.6997 - val_loss: 0.9716 - val_accuracy: 0.6655\n",
      "Epoch 55/100\n",
      "50000/50000 [==============================] - 17s 341us/sample - loss: 0.8506 - accuracy: 0.7012 - val_loss: 0.9851 - val_accuracy: 0.6578\n",
      "Epoch 56/100\n",
      "50000/50000 [==============================] - 17s 342us/sample - loss: 0.8489 - accuracy: 0.7023 - val_loss: 0.9895 - val_accuracy: 0.6552\n",
      "Epoch 57/100\n",
      "50000/50000 [==============================] - 17s 342us/sample - loss: 0.8457 - accuracy: 0.7016 - val_loss: 0.9634 - val_accuracy: 0.6662\n",
      "Epoch 58/100\n",
      "50000/50000 [==============================] - 17s 341us/sample - loss: 0.8435 - accuracy: 0.7038 - val_loss: 1.0026 - val_accuracy: 0.6508\n",
      "Epoch 59/100\n",
      "50000/50000 [==============================] - 17s 342us/sample - loss: 0.8422 - accuracy: 0.7027 - val_loss: 0.9472 - val_accuracy: 0.6695\n",
      "Epoch 60/100\n",
      "50000/50000 [==============================] - 17s 339us/sample - loss: 0.8413 - accuracy: 0.7039 - val_loss: 0.9953 - val_accuracy: 0.6528\n",
      "Epoch 61/100\n",
      "50000/50000 [==============================] - 17s 346us/sample - loss: 0.8387 - accuracy: 0.7049 - val_loss: 0.9816 - val_accuracy: 0.6582\n",
      "Epoch 62/100\n",
      "50000/50000 [==============================] - 17s 344us/sample - loss: 0.8349 - accuracy: 0.7054 - val_loss: 0.9525 - val_accuracy: 0.6668\n",
      "Epoch 63/100\n",
      "50000/50000 [==============================] - 17s 341us/sample - loss: 0.8338 - accuracy: 0.7090 - val_loss: 0.9393 - val_accuracy: 0.6716\n",
      "Epoch 64/100\n",
      "50000/50000 [==============================] - 17s 345us/sample - loss: 0.8321 - accuracy: 0.7080 - val_loss: 1.0123 - val_accuracy: 0.6455\n",
      "Epoch 65/100\n",
      "50000/50000 [==============================] - 18s 356us/sample - loss: 0.8302 - accuracy: 0.7096 - val_loss: 1.0006 - val_accuracy: 0.6500\n",
      "Epoch 66/100\n",
      "50000/50000 [==============================] - 17s 348us/sample - loss: 0.8299 - accuracy: 0.7080 - val_loss: 1.0054 - val_accuracy: 0.6492\n",
      "Epoch 67/100\n",
      "50000/50000 [==============================] - 17s 347us/sample - loss: 0.8261 - accuracy: 0.7103 - val_loss: 0.9451 - val_accuracy: 0.6696\n",
      "Epoch 68/100\n",
      "50000/50000 [==============================] - 17s 338us/sample - loss: 0.8264 - accuracy: 0.7107 - val_loss: 0.9540 - val_accuracy: 0.6673\n",
      "Epoch 69/100\n",
      "50000/50000 [==============================] - 17s 343us/sample - loss: 0.8247 - accuracy: 0.7104 - val_loss: 0.9567 - val_accuracy: 0.6676\n",
      "Epoch 70/100\n",
      "50000/50000 [==============================] - 17s 341us/sample - loss: 0.8219 - accuracy: 0.7123 - val_loss: 0.9529 - val_accuracy: 0.6742\n",
      "Epoch 71/100\n",
      "50000/50000 [==============================] - 17s 342us/sample - loss: 0.8207 - accuracy: 0.7125 - val_loss: 1.0010 - val_accuracy: 0.6560\n",
      "Epoch 72/100\n",
      "50000/50000 [==============================] - 17s 343us/sample - loss: 0.8178 - accuracy: 0.7134 - val_loss: 0.9353 - val_accuracy: 0.6760\n",
      "Epoch 73/100\n",
      "50000/50000 [==============================] - 17s 343us/sample - loss: 0.8171 - accuracy: 0.7135 - val_loss: 0.9418 - val_accuracy: 0.6721\n",
      "Epoch 74/100\n",
      "50000/50000 [==============================] - 17s 338us/sample - loss: 0.8163 - accuracy: 0.7134 - val_loss: 0.9421 - val_accuracy: 0.6745\n",
      "Epoch 75/100\n",
      "50000/50000 [==============================] - 17s 340us/sample - loss: 0.8143 - accuracy: 0.7135 - val_loss: 0.9613 - val_accuracy: 0.6679\n",
      "Epoch 76/100\n",
      "50000/50000 [==============================] - 17s 338us/sample - loss: 0.8116 - accuracy: 0.7155 - val_loss: 0.9552 - val_accuracy: 0.6691\n",
      "Epoch 77/100\n",
      "50000/50000 [==============================] - 17s 338us/sample - loss: 0.8091 - accuracy: 0.7156 - val_loss: 0.9440 - val_accuracy: 0.6719\n",
      "Epoch 78/100\n",
      "50000/50000 [==============================] - 17s 340us/sample - loss: 0.8090 - accuracy: 0.7169 - val_loss: 0.9571 - val_accuracy: 0.6688\n",
      "Epoch 79/100\n",
      "50000/50000 [==============================] - 17s 341us/sample - loss: 0.8073 - accuracy: 0.7190 - val_loss: 0.9766 - val_accuracy: 0.6658\n",
      "Epoch 80/100\n",
      "50000/50000 [==============================] - 17s 337us/sample - loss: 0.8051 - accuracy: 0.7174 - val_loss: 0.9412 - val_accuracy: 0.6731\n",
      "Epoch 81/100\n",
      "50000/50000 [==============================] - 17s 341us/sample - loss: 0.8046 - accuracy: 0.7198 - val_loss: 0.9606 - val_accuracy: 0.6678\n",
      "Epoch 82/100\n",
      "50000/50000 [==============================] - 17s 338us/sample - loss: 0.8030 - accuracy: 0.7168 - val_loss: 0.9411 - val_accuracy: 0.6717\n",
      "Epoch 83/100\n",
      "50000/50000 [==============================] - 17s 342us/sample - loss: 0.8016 - accuracy: 0.7170 - val_loss: 0.9460 - val_accuracy: 0.6737\n",
      "Epoch 84/100\n",
      "50000/50000 [==============================] - 17s 338us/sample - loss: 0.8030 - accuracy: 0.7187 - val_loss: 0.9339 - val_accuracy: 0.6766\n",
      "Epoch 85/100\n",
      "50000/50000 [==============================] - 17s 339us/sample - loss: 0.8010 - accuracy: 0.7183 - val_loss: 0.9768 - val_accuracy: 0.6618\n",
      "Epoch 86/100\n",
      "50000/50000 [==============================] - 18s 366us/sample - loss: 0.8000 - accuracy: 0.7187 - val_loss: 0.9985 - val_accuracy: 0.6557\n",
      "Epoch 87/100\n",
      "50000/50000 [==============================] - 18s 350us/sample - loss: 0.7978 - accuracy: 0.7195 - val_loss: 0.9523 - val_accuracy: 0.6703\n",
      "Epoch 88/100\n",
      "50000/50000 [==============================] - 17s 345us/sample - loss: 0.7952 - accuracy: 0.7195 - val_loss: 0.9607 - val_accuracy: 0.6728\n",
      "Epoch 89/100\n",
      "50000/50000 [==============================] - 17s 344us/sample - loss: 0.7944 - accuracy: 0.7208 - val_loss: 0.9528 - val_accuracy: 0.6677\n",
      "Epoch 90/100\n",
      "50000/50000 [==============================] - 17s 339us/sample - loss: 0.7930 - accuracy: 0.7211 - val_loss: 0.9409 - val_accuracy: 0.6732\n",
      "Epoch 91/100\n",
      "50000/50000 [==============================] - 17s 342us/sample - loss: 0.7926 - accuracy: 0.7212 - val_loss: 0.9681 - val_accuracy: 0.6660\n",
      "Epoch 92/100\n",
      "50000/50000 [==============================] - 17s 340us/sample - loss: 0.7911 - accuracy: 0.7222 - val_loss: 0.9270 - val_accuracy: 0.6775\n",
      "Epoch 93/100\n",
      "50000/50000 [==============================] - 17s 343us/sample - loss: 0.7904 - accuracy: 0.7217 - val_loss: 0.9205 - val_accuracy: 0.6824\n",
      "Epoch 94/100\n",
      "50000/50000 [==============================] - 17s 336us/sample - loss: 0.7897 - accuracy: 0.7229 - val_loss: 0.9302 - val_accuracy: 0.6810\n",
      "Epoch 95/100\n",
      "50000/50000 [==============================] - 17s 341us/sample - loss: 0.7877 - accuracy: 0.7230 - val_loss: 0.9382 - val_accuracy: 0.6742\n",
      "Epoch 96/100\n",
      "50000/50000 [==============================] - 17s 337us/sample - loss: 0.7858 - accuracy: 0.7240 - val_loss: 0.9312 - val_accuracy: 0.6789\n",
      "Epoch 97/100\n",
      "50000/50000 [==============================] - 17s 346us/sample - loss: 0.7850 - accuracy: 0.7231 - val_loss: 0.9582 - val_accuracy: 0.6730\n",
      "Epoch 98/100\n",
      "50000/50000 [==============================] - 17s 340us/sample - loss: 0.7851 - accuracy: 0.7253 - val_loss: 0.9194 - val_accuracy: 0.6792\n",
      "Epoch 99/100\n",
      "50000/50000 [==============================] - 17s 348us/sample - loss: 0.7823 - accuracy: 0.7253 - val_loss: 0.9545 - val_accuracy: 0.6705\n",
      "Epoch 100/100\n",
      "50000/50000 [==============================] - 17s 343us/sample - loss: 0.7825 - accuracy: 0.7251 - val_loss: 0.9307 - val_accuracy: 0.6778\n",
      "Test error: 0.9307232022285461\n",
      "Test accuracy: 0.6778\n"
     ]
    }
   ],
   "source": [
    "batch_size=128\n",
    "epochs=100\n",
    "history = model.fit(X_train, Y_train,\n",
    "                    batch_size=batch_size, epochs=epochs,\n",
    "                    verbose=1, validation_data=(X_test, Y_test))\n",
    "score = model.evaluate(X_test, Y_test, verbose=0) \n",
    "print('Test error:', score[0]) \n",
    "print('Test accuracy:', score[1])"
   ]
  },
  {
   "cell_type": "code",
   "execution_count": 46,
   "metadata": {
    "scrolled": true
   },
   "outputs": [
    {
     "data": {
      "image/png": "[encoded data removed]",
      "text/plain": [
       "<Figure size 432x288 with 1 Axes>"
      ]
     },
     "metadata": {
      "needs_background": "light"
     },
     "output_type": "display_data"
    }
   ],
   "source": [
    "plt.plot(history.history['accuracy'],'r')\n",
    "plt.plot(history.history['val_accuracy'],'b')\n",
    "plt.legend({'training accuracy':'r', 'validation accuracy': 'b'})\n",
    "plt.show()"
   ]
  },
  {
   "cell_type": "code",
   "execution_count": 47,
   "metadata": {},
   "outputs": [
    {
     "data": {
      "image/png": "[encoded data removed]",
      "text/plain": [
       "<Figure size 432x288 with 1 Axes>"
      ]
     },
     "metadata": {
      "needs_background": "light"
     },
     "output_type": "display_data"
    }
   ],
   "source": [
    "plt.plot(history.history['loss'],'r')\n",
    "plt.plot(history.history['val_loss'],'b')\n",
    "plt.legend({'training loss':'r', 'validation loss': 'b'})\n",
    "plt.show()"
   ]
  },
  {
   "cell_type": "code",
   "execution_count": 48,
   "metadata": {},
   "outputs": [],
   "source": [
    "predictions_1 = model.predict_classes(X_test)"
   ]
  },
  {
   "cell_type": "markdown",
   "metadata": {},
   "source": [
    "## arch filter increase"
   ]
  },
  {
   "cell_type": "code",
   "execution_count": 65,
   "metadata": {},
   "outputs": [],
   "source": [
    "model = Sequential()\n",
    "\n",
    "# 32,32\n",
    "model.add(Convolution2D(16,(3,3), activation='relu', input_shape=(32,32,3)))\n",
    "model.add(BatchNormalization())\n",
    "\n",
    "# 30,30\n",
    "model.add(Convolution2D(32,(3,3), activation='relu'))\n",
    "model.add(BatchNormalization())\n",
    "\n",
    "# 28,28\n",
    "model.add(MaxPooling2D(pool_size=(2,2)))\n",
    "\n",
    "# # 14,14\n",
    "model.add(Convolution2D(24,1, activation='relu'))\n",
    "\n",
    "# 14,14\n",
    "model.add(Convolution2D(32,(3,3), activation='relu'))\n",
    "model.add(BatchNormalization())\n",
    "\n",
    "# 12, 12\n",
    "model.add(MaxPooling2D(pool_size=(2,2)))\n",
    "\n",
    "model.add(Convolution2D(10, 1, activation='relu'))\n",
    "\n",
    "model.add(Convolution2D(10, 6))\n",
    "\n",
    "model.add(Flatten())\n",
    "model.add(Activation('softmax'))\n",
    "\n",
    "# model.add(Dense(output_dim, input_dim=input_dim, activation='softmax'))"
   ]
  },
  {
   "cell_type": "code",
   "execution_count": 66,
   "metadata": {
    "scrolled": false
   },
   "outputs": [
    {
     "name": "stdout",
     "output_type": "stream",
     "text": [
      "Model: \"sequential_26\"\n",
      "_________________________________________________________________\n",
      "Layer (type)                 Output Shape              Param #   \n",
      "=================================================================\n",
      "conv2d_119 (Conv2D)          (None, 30, 30, 16)        448       \n",
      "_________________________________________________________________\n",
      "batch_normalization_63 (Batc (None, 30, 30, 16)        64        \n",
      "_________________________________________________________________\n",
      "conv2d_120 (Conv2D)          (None, 28, 28, 32)        4640      \n",
      "_________________________________________________________________\n",
      "batch_normalization_64 (Batc (None, 28, 28, 32)        128       \n",
      "_________________________________________________________________\n",
      "max_pooling2d_50 (MaxPooling (None, 14, 14, 32)        0         \n",
      "_________________________________________________________________\n",
      "conv2d_121 (Conv2D)          (None, 14, 14, 24)        792       \n",
      "_________________________________________________________________\n",
      "conv2d_122 (Conv2D)          (None, 12, 12, 32)        6944      \n",
      "_________________________________________________________________\n",
      "batch_normalization_65 (Batc (None, 12, 12, 32)        128       \n",
      "_________________________________________________________________\n",
      "max_pooling2d_51 (MaxPooling (None, 6, 6, 32)          0         \n",
      "_________________________________________________________________\n",
      "conv2d_123 (Conv2D)          (None, 6, 6, 10)          330       \n",
      "_________________________________________________________________\n",
      "conv2d_124 (Conv2D)          (None, 1, 1, 10)          3610      \n",
      "_________________________________________________________________\n",
      "flatten_25 (Flatten)         (None, 10)                0         \n",
      "_________________________________________________________________\n",
      "activation_25 (Activation)   (None, 10)                0         \n",
      "=================================================================\n",
      "Total params: 17,084\n",
      "Trainable params: 16,924\n",
      "Non-trainable params: 160\n",
      "_________________________________________________________________\n"
     ]
    }
   ],
   "source": [
    "model.summary()"
   ]
  },
  {
   "cell_type": "code",
   "execution_count": 67,
   "metadata": {},
   "outputs": [],
   "source": [
    "model.compile(optimizer='sgd', loss='categorical_crossentropy', metrics=['accuracy'])"
   ]
  },
  {
   "cell_type": "code",
   "execution_count": 68,
   "metadata": {
    "scrolled": true
   },
   "outputs": [
    {
     "name": "stdout",
     "output_type": "stream",
     "text": [
      "Train on 50000 samples, validate on 10000 samples\n",
      "Epoch 1/100\n",
      "50000/50000 [==============================] - 29s 576us/sample - loss: 1.7902 - accuracy: 0.3417 - val_loss: 1.6410 - val_accuracy: 0.4024\n",
      "Epoch 2/100\n",
      "50000/50000 [==============================] - 28s 557us/sample - loss: 1.4633 - accuracy: 0.4651 - val_loss: 1.4583 - val_accuracy: 0.4753\n",
      "Epoch 3/100\n",
      "50000/50000 [==============================] - 28s 556us/sample - loss: 1.3439 - accuracy: 0.5128 - val_loss: 1.3718 - val_accuracy: 0.5050\n",
      "Epoch 4/100\n",
      "50000/50000 [==============================] - 28s 557us/sample - loss: 1.2608 - accuracy: 0.5453 - val_loss: 1.3744 - val_accuracy: 0.4978\n",
      "Epoch 5/100\n",
      "50000/50000 [==============================] - 28s 552us/sample - loss: 1.2000 - accuracy: 0.5720 - val_loss: 1.2699 - val_accuracy: 0.5410\n",
      "Epoch 6/100\n",
      "50000/50000 [==============================] - 27s 550us/sample - loss: 1.1479 - accuracy: 0.5911 - val_loss: 1.2006 - val_accuracy: 0.5697\n",
      "Epoch 7/100\n",
      "50000/50000 [==============================] - 28s 551us/sample - loss: 1.0993 - accuracy: 0.6101 - val_loss: 1.1515 - val_accuracy: 0.5936\n",
      "Epoch 8/100\n",
      "50000/50000 [==============================] - 28s 552us/sample - loss: 1.0597 - accuracy: 0.6241 - val_loss: 1.1574 - val_accuracy: 0.5917\n",
      "Epoch 9/100\n",
      "50000/50000 [==============================] - 28s 567us/sample - loss: 1.0262 - accuracy: 0.6346 - val_loss: 1.1395 - val_accuracy: 0.5970\n",
      "Epoch 10/100\n",
      "50000/50000 [==============================] - 28s 568us/sample - loss: 0.9970 - accuracy: 0.6457 - val_loss: 1.0930 - val_accuracy: 0.6172\n",
      "Epoch 11/100\n",
      "50000/50000 [==============================] - 29s 580us/sample - loss: 0.9727 - accuracy: 0.6543 - val_loss: 1.1947 - val_accuracy: 0.5829\n",
      "Epoch 12/100\n",
      "50000/50000 [==============================] - 29s 573us/sample - loss: 0.9487 - accuracy: 0.6651 - val_loss: 1.2016 - val_accuracy: 0.5810\n",
      "Epoch 13/100\n",
      "50000/50000 [==============================] - 29s 576us/sample - loss: 0.9309 - accuracy: 0.6711 - val_loss: 1.0129 - val_accuracy: 0.6441\n",
      "Epoch 14/100\n",
      "50000/50000 [==============================] - 29s 575us/sample - loss: 0.9112 - accuracy: 0.6782 - val_loss: 1.0408 - val_accuracy: 0.6325\n",
      "Epoch 15/100\n",
      "50000/50000 [==============================] - 29s 575us/sample - loss: 0.8961 - accuracy: 0.6839 - val_loss: 0.9770 - val_accuracy: 0.6606\n",
      "Epoch 16/100\n",
      "50000/50000 [==============================] - 29s 575us/sample - loss: 0.8777 - accuracy: 0.6904 - val_loss: 0.9901 - val_accuracy: 0.6518\n",
      "Epoch 17/100\n",
      "50000/50000 [==============================] - 29s 574us/sample - loss: 0.8663 - accuracy: 0.6965 - val_loss: 0.9794 - val_accuracy: 0.6583\n",
      "Epoch 18/100\n",
      "50000/50000 [==============================] - 29s 574us/sample - loss: 0.8523 - accuracy: 0.6989 - val_loss: 0.9835 - val_accuracy: 0.6527\n",
      "Epoch 19/100\n",
      "50000/50000 [==============================] - 29s 581us/sample - loss: 0.8403 - accuracy: 0.7047 - val_loss: 1.0004 - val_accuracy: 0.6514\n",
      "Epoch 20/100\n",
      "50000/50000 [==============================] - 29s 573us/sample - loss: 0.8287 - accuracy: 0.7102 - val_loss: 1.0064 - val_accuracy: 0.6552\n",
      "Epoch 21/100\n",
      "50000/50000 [==============================] - 28s 570us/sample - loss: 0.8188 - accuracy: 0.7134 - val_loss: 0.9752 - val_accuracy: 0.6606\n",
      "Epoch 22/100\n",
      "50000/50000 [==============================] - 29s 575us/sample - loss: 0.8063 - accuracy: 0.7172 - val_loss: 1.0132 - val_accuracy: 0.6485\n",
      "Epoch 23/100\n",
      "50000/50000 [==============================] - 29s 570us/sample - loss: 0.7991 - accuracy: 0.7190 - val_loss: 0.9488 - val_accuracy: 0.6663\n",
      "Epoch 24/100\n",
      "50000/50000 [==============================] - 29s 575us/sample - loss: 0.7904 - accuracy: 0.7227 - val_loss: 0.9421 - val_accuracy: 0.6722\n",
      "Epoch 25/100\n",
      "50000/50000 [==============================] - 29s 574us/sample - loss: 0.7830 - accuracy: 0.7244 - val_loss: 0.9364 - val_accuracy: 0.6750\n",
      "Epoch 26/100\n",
      "50000/50000 [==============================] - 29s 571us/sample - loss: 0.7731 - accuracy: 0.7287 - val_loss: 1.0204 - val_accuracy: 0.6497\n",
      "Epoch 27/100\n",
      "50000/50000 [==============================] - 29s 572us/sample - loss: 0.7658 - accuracy: 0.7311 - val_loss: 0.9925 - val_accuracy: 0.6539\n",
      "Epoch 28/100\n",
      "50000/50000 [==============================] - 29s 576us/sample - loss: 0.7587 - accuracy: 0.7354 - val_loss: 0.9340 - val_accuracy: 0.6765\n",
      "Epoch 29/100\n",
      "50000/50000 [==============================] - 28s 568us/sample - loss: 0.7517 - accuracy: 0.7353 - val_loss: 0.9153 - val_accuracy: 0.6835\n",
      "Epoch 30/100\n",
      "50000/50000 [==============================] - 29s 577us/sample - loss: 0.7467 - accuracy: 0.7370 - val_loss: 0.9568 - val_accuracy: 0.6687\n",
      "Epoch 31/100\n",
      "50000/50000 [==============================] - 27s 550us/sample - loss: 0.7377 - accuracy: 0.7406 - val_loss: 0.9212 - val_accuracy: 0.6813\n",
      "Epoch 32/100\n",
      "50000/50000 [==============================] - 27s 546us/sample - loss: 0.7303 - accuracy: 0.7447 - val_loss: 0.8988 - val_accuracy: 0.6872\n",
      "Epoch 33/100\n",
      "50000/50000 [==============================] - 27s 548us/sample - loss: 0.7240 - accuracy: 0.7474 - val_loss: 1.0170 - val_accuracy: 0.6568\n",
      "Epoch 34/100\n",
      "50000/50000 [==============================] - 27s 547us/sample - loss: 0.7195 - accuracy: 0.7471 - val_loss: 0.9168 - val_accuracy: 0.6857\n",
      "Epoch 35/100\n",
      "50000/50000 [==============================] - 27s 546us/sample - loss: 0.7135 - accuracy: 0.7471 - val_loss: 0.9374 - val_accuracy: 0.6730\n",
      "Epoch 36/100\n",
      "50000/50000 [==============================] - 27s 548us/sample - loss: 0.7076 - accuracy: 0.7514 - val_loss: 0.9623 - val_accuracy: 0.6713\n",
      "Epoch 37/100\n",
      "50000/50000 [==============================] - 27s 549us/sample - loss: 0.7029 - accuracy: 0.7539 - val_loss: 0.9568 - val_accuracy: 0.6768\n",
      "Epoch 38/100\n",
      "50000/50000 [==============================] - 27s 547us/sample - loss: 0.7001 - accuracy: 0.7538 - val_loss: 0.9429 - val_accuracy: 0.6808\n",
      "Epoch 39/100\n",
      "50000/50000 [==============================] - 27s 547us/sample - loss: 0.6931 - accuracy: 0.7570 - val_loss: 0.9127 - val_accuracy: 0.6911\n",
      "Epoch 40/100\n",
      "50000/50000 [==============================] - 28s 550us/sample - loss: 0.6894 - accuracy: 0.7590 - val_loss: 0.9242 - val_accuracy: 0.6847\n",
      "Epoch 41/100\n",
      "50000/50000 [==============================] - 27s 548us/sample - loss: 0.6842 - accuracy: 0.7609 - val_loss: 0.9659 - val_accuracy: 0.6731\n",
      "Epoch 42/100\n",
      "50000/50000 [==============================] - 27s 547us/sample - loss: 0.6785 - accuracy: 0.7627 - val_loss: 1.0463 - val_accuracy: 0.6540\n",
      "Epoch 43/100\n",
      "50000/50000 [==============================] - 27s 549us/sample - loss: 0.6753 - accuracy: 0.7655 - val_loss: 0.9357 - val_accuracy: 0.6796\n",
      "Epoch 44/100\n",
      "50000/50000 [==============================] - 27s 550us/sample - loss: 0.6710 - accuracy: 0.7644 - val_loss: 0.9027 - val_accuracy: 0.6970\n",
      "Epoch 45/100\n",
      "50000/50000 [==============================] - 27s 549us/sample - loss: 0.6687 - accuracy: 0.7647 - val_loss: 0.9427 - val_accuracy: 0.6813\n",
      "Epoch 46/100\n",
      "50000/50000 [==============================] - 28s 551us/sample - loss: 0.6614 - accuracy: 0.7683 - val_loss: 0.9697 - val_accuracy: 0.6793\n",
      "Epoch 47/100\n",
      "50000/50000 [==============================] - 27s 548us/sample - loss: 0.6605 - accuracy: 0.7676 - val_loss: 0.9259 - val_accuracy: 0.6909\n",
      "Epoch 48/100\n",
      "50000/50000 [==============================] - 27s 550us/sample - loss: 0.6541 - accuracy: 0.7703 - val_loss: 0.9954 - val_accuracy: 0.6717\n",
      "Epoch 49/100\n",
      "50000/50000 [==============================] - 28s 551us/sample - loss: 0.6530 - accuracy: 0.7706 - val_loss: 0.8994 - val_accuracy: 0.6980\n",
      "Epoch 50/100\n",
      "50000/50000 [==============================] - 28s 551us/sample - loss: 0.6484 - accuracy: 0.7734 - val_loss: 1.0570 - val_accuracy: 0.6534\n",
      "Epoch 51/100\n",
      "50000/50000 [==============================] - 27s 550us/sample - loss: 0.6430 - accuracy: 0.7744 - val_loss: 1.0446 - val_accuracy: 0.6610\n",
      "Epoch 52/100\n",
      "50000/50000 [==============================] - 27s 547us/sample - loss: 0.6384 - accuracy: 0.7766 - val_loss: 0.9439 - val_accuracy: 0.6824\n",
      "Epoch 53/100\n",
      "50000/50000 [==============================] - 27s 549us/sample - loss: 0.6370 - accuracy: 0.7768 - val_loss: 0.9776 - val_accuracy: 0.6765\n",
      "Epoch 54/100\n"
     ]
    },
    {
     "name": "stdout",
     "output_type": "stream",
     "text": [
      "50000/50000 [==============================] - 27s 549us/sample - loss: 0.6346 - accuracy: 0.7790 - val_loss: 0.9218 - val_accuracy: 0.6922\n",
      "Epoch 55/100\n",
      "50000/50000 [==============================] - 27s 550us/sample - loss: 0.6297 - accuracy: 0.7774 - val_loss: 0.9271 - val_accuracy: 0.6961\n",
      "Epoch 56/100\n",
      "50000/50000 [==============================] - 27s 550us/sample - loss: 0.6298 - accuracy: 0.7789 - val_loss: 0.9525 - val_accuracy: 0.6848\n",
      "Epoch 57/100\n",
      "50000/50000 [==============================] - 27s 549us/sample - loss: 0.6241 - accuracy: 0.7824 - val_loss: 1.0058 - val_accuracy: 0.6653\n",
      "Epoch 58/100\n",
      "50000/50000 [==============================] - 27s 548us/sample - loss: 0.6212 - accuracy: 0.7844 - val_loss: 0.9869 - val_accuracy: 0.6746\n",
      "Epoch 59/100\n",
      "50000/50000 [==============================] - 27s 548us/sample - loss: 0.6190 - accuracy: 0.7827 - val_loss: 0.9421 - val_accuracy: 0.6898\n",
      "Epoch 60/100\n",
      "50000/50000 [==============================] - 27s 548us/sample - loss: 0.6145 - accuracy: 0.7840 - val_loss: 1.0123 - val_accuracy: 0.6662\n",
      "Epoch 61/100\n",
      "50000/50000 [==============================] - 27s 547us/sample - loss: 0.6133 - accuracy: 0.7860 - val_loss: 0.9542 - val_accuracy: 0.6832\n",
      "Epoch 62/100\n",
      "50000/50000 [==============================] - 27s 548us/sample - loss: 0.6089 - accuracy: 0.7870 - val_loss: 0.9158 - val_accuracy: 0.6965\n",
      "Epoch 63/100\n",
      "50000/50000 [==============================] - 28s 561us/sample - loss: 0.6090 - accuracy: 0.7855 - val_loss: 1.0440 - val_accuracy: 0.6621\n",
      "Epoch 64/100\n",
      "50000/50000 [==============================] - 28s 553us/sample - loss: 0.6047 - accuracy: 0.7887 - val_loss: 0.9215 - val_accuracy: 0.6959\n",
      "Epoch 65/100\n",
      "50000/50000 [==============================] - 29s 574us/sample - loss: 0.6020 - accuracy: 0.7898 - val_loss: 0.9475 - val_accuracy: 0.6808\n",
      "Epoch 66/100\n",
      "50000/50000 [==============================] - 28s 568us/sample - loss: 0.5991 - accuracy: 0.7905 - val_loss: 0.9210 - val_accuracy: 0.6960\n",
      "Epoch 67/100\n",
      "50000/50000 [==============================] - 27s 549us/sample - loss: 0.5971 - accuracy: 0.7891 - val_loss: 0.9437 - val_accuracy: 0.6852\n",
      "Epoch 68/100\n",
      "50000/50000 [==============================] - 27s 548us/sample - loss: 0.5951 - accuracy: 0.7906 - val_loss: 0.9992 - val_accuracy: 0.6760\n",
      "Epoch 69/100\n",
      "50000/50000 [==============================] - 27s 545us/sample - loss: 0.5923 - accuracy: 0.7906 - val_loss: 0.9733 - val_accuracy: 0.6818\n",
      "Epoch 70/100\n",
      "50000/50000 [==============================] - 27s 543us/sample - loss: 0.5878 - accuracy: 0.7927 - val_loss: 0.9613 - val_accuracy: 0.6830\n",
      "Epoch 71/100\n",
      "50000/50000 [==============================] - 27s 543us/sample - loss: 0.5862 - accuracy: 0.7938 - val_loss: 1.0221 - val_accuracy: 0.6739\n",
      "Epoch 72/100\n",
      "50000/50000 [==============================] - 27s 543us/sample - loss: 0.5856 - accuracy: 0.7940 - val_loss: 0.9593 - val_accuracy: 0.6827\n",
      "Epoch 73/100\n",
      "50000/50000 [==============================] - 27s 543us/sample - loss: 0.5794 - accuracy: 0.7954 - val_loss: 0.9301 - val_accuracy: 0.6960\n",
      "Epoch 74/100\n",
      "50000/50000 [==============================] - 27s 543us/sample - loss: 0.5784 - accuracy: 0.7957 - val_loss: 0.9704 - val_accuracy: 0.6881\n",
      "Epoch 75/100\n",
      "50000/50000 [==============================] - 27s 543us/sample - loss: 0.5793 - accuracy: 0.7966 - val_loss: 1.0061 - val_accuracy: 0.6772\n",
      "Epoch 76/100\n",
      "50000/50000 [==============================] - 27s 544us/sample - loss: 0.5739 - accuracy: 0.7969 - val_loss: 0.9963 - val_accuracy: 0.6826\n",
      "Epoch 77/100\n",
      "50000/50000 [==============================] - 27s 545us/sample - loss: 0.5740 - accuracy: 0.7976 - val_loss: 0.9804 - val_accuracy: 0.6878\n",
      "Epoch 78/100\n",
      "50000/50000 [==============================] - 27s 544us/sample - loss: 0.5727 - accuracy: 0.7980 - val_loss: 0.9380 - val_accuracy: 0.6929\n",
      "Epoch 79/100\n",
      "50000/50000 [==============================] - 27s 544us/sample - loss: 0.5709 - accuracy: 0.7986 - val_loss: 0.9896 - val_accuracy: 0.6871\n",
      "Epoch 80/100\n",
      "50000/50000 [==============================] - 27s 544us/sample - loss: 0.5669 - accuracy: 0.7997 - val_loss: 0.9568 - val_accuracy: 0.6906\n",
      "Epoch 81/100\n",
      "50000/50000 [==============================] - 27s 545us/sample - loss: 0.5666 - accuracy: 0.8013 - val_loss: 0.9437 - val_accuracy: 0.6940\n",
      "Epoch 82/100\n",
      "50000/50000 [==============================] - 27s 544us/sample - loss: 0.5631 - accuracy: 0.8013 - val_loss: 0.9903 - val_accuracy: 0.6800\n",
      "Epoch 83/100\n",
      "50000/50000 [==============================] - 27s 544us/sample - loss: 0.5605 - accuracy: 0.8026 - val_loss: 0.9537 - val_accuracy: 0.6970\n",
      "Epoch 84/100\n",
      "50000/50000 [==============================] - 27s 549us/sample - loss: 0.5610 - accuracy: 0.8029 - val_loss: 0.9705 - val_accuracy: 0.6875\n",
      "Epoch 85/100\n",
      "50000/50000 [==============================] - 27s 545us/sample - loss: 0.5560 - accuracy: 0.8069 - val_loss: 1.0191 - val_accuracy: 0.6741\n",
      "Epoch 86/100\n",
      "50000/50000 [==============================] - 27s 545us/sample - loss: 0.5534 - accuracy: 0.8049 - val_loss: 1.1186 - val_accuracy: 0.6662\n",
      "Epoch 87/100\n",
      "50000/50000 [==============================] - 27s 544us/sample - loss: 0.5560 - accuracy: 0.8052 - val_loss: 0.9414 - val_accuracy: 0.7017\n",
      "Epoch 88/100\n",
      "50000/50000 [==============================] - 27s 544us/sample - loss: 0.5521 - accuracy: 0.8062 - val_loss: 0.9657 - val_accuracy: 0.6919\n",
      "Epoch 89/100\n",
      "50000/50000 [==============================] - 27s 544us/sample - loss: 0.5511 - accuracy: 0.8060 - val_loss: 1.0059 - val_accuracy: 0.6747\n",
      "Epoch 90/100\n",
      "50000/50000 [==============================] - 27s 550us/sample - loss: 0.5483 - accuracy: 0.8069 - val_loss: 1.0090 - val_accuracy: 0.6777\n",
      "Epoch 91/100\n",
      "50000/50000 [==============================] - 27s 549us/sample - loss: 0.5461 - accuracy: 0.8071 - val_loss: 1.0337 - val_accuracy: 0.6766\n",
      "Epoch 92/100\n",
      "50000/50000 [==============================] - 27s 549us/sample - loss: 0.5449 - accuracy: 0.8087 - val_loss: 0.9619 - val_accuracy: 0.6960\n",
      "Epoch 93/100\n",
      "50000/50000 [==============================] - 28s 550us/sample - loss: 0.5428 - accuracy: 0.8075 - val_loss: 0.9831 - val_accuracy: 0.6909\n",
      "Epoch 94/100\n",
      "50000/50000 [==============================] - 27s 548us/sample - loss: 0.5436 - accuracy: 0.8083 - val_loss: 0.9979 - val_accuracy: 0.6803\n",
      "Epoch 95/100\n",
      "50000/50000 [==============================] - 27s 549us/sample - loss: 0.5401 - accuracy: 0.8089 - val_loss: 1.0157 - val_accuracy: 0.6830\n",
      "Epoch 96/100\n",
      "50000/50000 [==============================] - 27s 545us/sample - loss: 0.5408 - accuracy: 0.8096 - val_loss: 1.0082 - val_accuracy: 0.6825\n",
      "Epoch 97/100\n",
      "50000/50000 [==============================] - 27s 550us/sample - loss: 0.5403 - accuracy: 0.8088 - val_loss: 1.0749 - val_accuracy: 0.6648\n",
      "Epoch 98/100\n",
      "50000/50000 [==============================] - 28s 551us/sample - loss: 0.5381 - accuracy: 0.8115 - val_loss: 0.9768 - val_accuracy: 0.6850\n",
      "Epoch 99/100\n",
      "50000/50000 [==============================] - 27s 549us/sample - loss: 0.5356 - accuracy: 0.8098 - val_loss: 0.9949 - val_accuracy: 0.6910\n",
      "Epoch 100/100\n",
      "50000/50000 [==============================] - 27s 548us/sample - loss: 0.5333 - accuracy: 0.8136 - val_loss: 1.0147 - val_accuracy: 0.6829\n",
      "Test error: 1.0146531878471374\n",
      "Test accuracy: 0.6829\n"
     ]
    }
   ],
   "source": [
    "batch_size=128\n",
    "epochs=100\n",
    "history = model.fit(X_train, Y_train,\n",
    "                    batch_size=batch_size, epochs=epochs,\n",
    "                    verbose=1, validation_data=(X_test, Y_test))\n",
    "score = model.evaluate(X_test, Y_test, verbose=0) \n",
    "print('Test error:', score[0]) \n",
    "print('Test accuracy:', score[1])"
   ]
  },
  {
   "cell_type": "code",
   "execution_count": 69,
   "metadata": {
    "scrolled": true
   },
   "outputs": [
    {
     "data": {
      "image/png": "[encoded data removed]",
      "text/plain": [
       "<Figure size 432x288 with 1 Axes>"
      ]
     },
     "metadata": {
      "needs_background": "light"
     },
     "output_type": "display_data"
    }
   ],
   "source": [
    "import matplotlib.pyplot as plt\n",
    "plt.plot(history.history['accuracy'],'r')\n",
    "plt.plot(history.history['val_accuracy'],'b')\n",
    "plt.legend({'training accuracy':'r', 'validation accuracy': 'b'})\n",
    "plt.show()"
   ]
  },
  {
   "cell_type": "code",
   "execution_count": 70,
   "metadata": {},
   "outputs": [
    {
     "data": {
      "image/png": "[encoded data removed]",
      "text/plain": [
       "<Figure size 432x288 with 1 Axes>"
      ]
     },
     "metadata": {
      "needs_background": "light"
     },
     "output_type": "display_data"
    }
   ],
   "source": [
    "plt.plot(history.history['loss'],'r')\n",
    "plt.plot(history.history['val_loss'],'b')\n",
    "plt.legend({'training loss':'r', 'validation loss': 'b'})\n",
    "plt.show()"
   ]
  },
  {
   "cell_type": "code",
   "execution_count": 71,
   "metadata": {},
   "outputs": [
    {
     "ename": "TypeError",
     "evalue": "Value passed to parameter 'input' has DataType uint8 not in list of allowed values: float16, bfloat16, float32, float64",
     "output_type": "error",
     "traceback": [
      "\u001b[1;31m---------------------------------------------------------------------------\u001b[0m",
      "\u001b[1;31mTypeError\u001b[0m                                 Traceback (most recent call last)",
      "\u001b[1;32m<ipython-input-71-b5a3fa6b992f>\u001b[0m in \u001b[0;36m<module>\u001b[1;34m\u001b[0m\n\u001b[1;32m----> 1\u001b[1;33m \u001b[0mpredictions_2\u001b[0m \u001b[1;33m=\u001b[0m \u001b[0mmodel\u001b[0m\u001b[1;33m.\u001b[0m\u001b[0mpredict_classes\u001b[0m\u001b[1;33m(\u001b[0m\u001b[0mX_test\u001b[0m\u001b[1;33m)\u001b[0m\u001b[1;33m\u001b[0m\u001b[1;33m\u001b[0m\u001b[0m\n\u001b[0m",
      "\u001b[1;32mc:\\users\\visitor.slsi\\desktop\\ml\\mlenv\\lib\\site-packages\\tensorflow_core\\python\\keras\\engine\\sequential.py\u001b[0m in \u001b[0;36mpredict_classes\u001b[1;34m(self, x, batch_size, verbose)\u001b[0m\n\u001b[0;32m    325\u001b[0m         \u001b[0mA\u001b[0m \u001b[0mnumpy\u001b[0m \u001b[0marray\u001b[0m \u001b[0mof\u001b[0m \u001b[1;32mclass\u001b[0m \u001b[0mpredictions\u001b[0m\u001b[1;33m.\u001b[0m\u001b[1;33m\u001b[0m\u001b[1;33m\u001b[0m\u001b[0m\n\u001b[0;32m    326\u001b[0m     \"\"\"\n\u001b[1;32m--> 327\u001b[1;33m     \u001b[0mproba\u001b[0m \u001b[1;33m=\u001b[0m \u001b[0mself\u001b[0m\u001b[1;33m.\u001b[0m\u001b[0mpredict\u001b[0m\u001b[1;33m(\u001b[0m\u001b[0mx\u001b[0m\u001b[1;33m,\u001b[0m \u001b[0mbatch_size\u001b[0m\u001b[1;33m=\u001b[0m\u001b[0mbatch_size\u001b[0m\u001b[1;33m,\u001b[0m \u001b[0mverbose\u001b[0m\u001b[1;33m=\u001b[0m\u001b[0mverbose\u001b[0m\u001b[1;33m)\u001b[0m\u001b[1;33m\u001b[0m\u001b[1;33m\u001b[0m\u001b[0m\n\u001b[0m\u001b[0;32m    328\u001b[0m     \u001b[1;32mif\u001b[0m \u001b[0mproba\u001b[0m\u001b[1;33m.\u001b[0m\u001b[0mshape\u001b[0m\u001b[1;33m[\u001b[0m\u001b[1;33m-\u001b[0m\u001b[1;36m1\u001b[0m\u001b[1;33m]\u001b[0m \u001b[1;33m>\u001b[0m \u001b[1;36m1\u001b[0m\u001b[1;33m:\u001b[0m\u001b[1;33m\u001b[0m\u001b[1;33m\u001b[0m\u001b[0m\n\u001b[0;32m    329\u001b[0m       \u001b[1;32mreturn\u001b[0m \u001b[0mproba\u001b[0m\u001b[1;33m.\u001b[0m\u001b[0margmax\u001b[0m\u001b[1;33m(\u001b[0m\u001b[0maxis\u001b[0m\u001b[1;33m=\u001b[0m\u001b[1;33m-\u001b[0m\u001b[1;36m1\u001b[0m\u001b[1;33m)\u001b[0m\u001b[1;33m\u001b[0m\u001b[1;33m\u001b[0m\u001b[0m\n",
      "\u001b[1;32mc:\\users\\visitor.slsi\\desktop\\ml\\mlenv\\lib\\site-packages\\tensorflow_core\\python\\keras\\engine\\training.py\u001b[0m in \u001b[0;36mpredict\u001b[1;34m(self, x, batch_size, verbose, steps, callbacks, max_queue_size, workers, use_multiprocessing)\u001b[0m\n\u001b[0;32m    907\u001b[0m         \u001b[0mmax_queue_size\u001b[0m\u001b[1;33m=\u001b[0m\u001b[0mmax_queue_size\u001b[0m\u001b[1;33m,\u001b[0m\u001b[1;33m\u001b[0m\u001b[1;33m\u001b[0m\u001b[0m\n\u001b[0;32m    908\u001b[0m         \u001b[0mworkers\u001b[0m\u001b[1;33m=\u001b[0m\u001b[0mworkers\u001b[0m\u001b[1;33m,\u001b[0m\u001b[1;33m\u001b[0m\u001b[1;33m\u001b[0m\u001b[0m\n\u001b[1;32m--> 909\u001b[1;33m         use_multiprocessing=use_multiprocessing)\n\u001b[0m\u001b[0;32m    910\u001b[0m \u001b[1;33m\u001b[0m\u001b[0m\n\u001b[0;32m    911\u001b[0m   \u001b[1;32mdef\u001b[0m \u001b[0mreset_metrics\u001b[0m\u001b[1;33m(\u001b[0m\u001b[0mself\u001b[0m\u001b[1;33m)\u001b[0m\u001b[1;33m:\u001b[0m\u001b[1;33m\u001b[0m\u001b[1;33m\u001b[0m\u001b[0m\n",
      "\u001b[1;32mc:\\users\\visitor.slsi\\desktop\\ml\\mlenv\\lib\\site-packages\\tensorflow_core\\python\\keras\\engine\\training_v2.py\u001b[0m in \u001b[0;36mpredict\u001b[1;34m(self, model, x, batch_size, verbose, steps, callbacks, **kwargs)\u001b[0m\n\u001b[0;32m    460\u001b[0m     return self._model_iteration(\n\u001b[0;32m    461\u001b[0m         \u001b[0mmodel\u001b[0m\u001b[1;33m,\u001b[0m \u001b[0mModeKeys\u001b[0m\u001b[1;33m.\u001b[0m\u001b[0mPREDICT\u001b[0m\u001b[1;33m,\u001b[0m \u001b[0mx\u001b[0m\u001b[1;33m=\u001b[0m\u001b[0mx\u001b[0m\u001b[1;33m,\u001b[0m \u001b[0mbatch_size\u001b[0m\u001b[1;33m=\u001b[0m\u001b[0mbatch_size\u001b[0m\u001b[1;33m,\u001b[0m \u001b[0mverbose\u001b[0m\u001b[1;33m=\u001b[0m\u001b[0mverbose\u001b[0m\u001b[1;33m,\u001b[0m\u001b[1;33m\u001b[0m\u001b[1;33m\u001b[0m\u001b[0m\n\u001b[1;32m--> 462\u001b[1;33m         steps=steps, callbacks=callbacks, **kwargs)\n\u001b[0m\u001b[0;32m    463\u001b[0m \u001b[1;33m\u001b[0m\u001b[0m\n\u001b[0;32m    464\u001b[0m \u001b[1;33m\u001b[0m\u001b[0m\n",
      "\u001b[1;32mc:\\users\\visitor.slsi\\desktop\\ml\\mlenv\\lib\\site-packages\\tensorflow_core\\python\\keras\\engine\\training_v2.py\u001b[0m in \u001b[0;36m_model_iteration\u001b[1;34m(self, model, mode, x, y, batch_size, verbose, sample_weight, steps, callbacks, **kwargs)\u001b[0m\n\u001b[0;32m    442\u001b[0m               \u001b[0mmode\u001b[0m\u001b[1;33m=\u001b[0m\u001b[0mmode\u001b[0m\u001b[1;33m,\u001b[0m\u001b[1;33m\u001b[0m\u001b[1;33m\u001b[0m\u001b[0m\n\u001b[0;32m    443\u001b[0m               \u001b[0mtraining_context\u001b[0m\u001b[1;33m=\u001b[0m\u001b[0mtraining_context\u001b[0m\u001b[1;33m,\u001b[0m\u001b[1;33m\u001b[0m\u001b[1;33m\u001b[0m\u001b[0m\n\u001b[1;32m--> 444\u001b[1;33m               total_epochs=1)\n\u001b[0m\u001b[0;32m    445\u001b[0m           \u001b[0mcbks\u001b[0m\u001b[1;33m.\u001b[0m\u001b[0mmake_logs\u001b[0m\u001b[1;33m(\u001b[0m\u001b[0mmodel\u001b[0m\u001b[1;33m,\u001b[0m \u001b[0mepoch_logs\u001b[0m\u001b[1;33m,\u001b[0m \u001b[0mresult\u001b[0m\u001b[1;33m,\u001b[0m \u001b[0mmode\u001b[0m\u001b[1;33m)\u001b[0m\u001b[1;33m\u001b[0m\u001b[1;33m\u001b[0m\u001b[0m\n\u001b[0;32m    446\u001b[0m \u001b[1;33m\u001b[0m\u001b[0m\n",
      "\u001b[1;32mc:\\users\\visitor.slsi\\desktop\\ml\\mlenv\\lib\\site-packages\\tensorflow_core\\python\\keras\\engine\\training_v2.py\u001b[0m in \u001b[0;36mrun_one_epoch\u001b[1;34m(model, iterator, execution_function, dataset_size, batch_size, strategy, steps_per_epoch, num_samples, mode, training_context, total_epochs)\u001b[0m\n\u001b[0;32m    121\u001b[0m         step=step, mode=mode, size=current_batch_size) as batch_logs:\n\u001b[0;32m    122\u001b[0m       \u001b[1;32mtry\u001b[0m\u001b[1;33m:\u001b[0m\u001b[1;33m\u001b[0m\u001b[1;33m\u001b[0m\u001b[0m\n\u001b[1;32m--> 123\u001b[1;33m         \u001b[0mbatch_outs\u001b[0m \u001b[1;33m=\u001b[0m \u001b[0mexecution_function\u001b[0m\u001b[1;33m(\u001b[0m\u001b[0miterator\u001b[0m\u001b[1;33m)\u001b[0m\u001b[1;33m\u001b[0m\u001b[1;33m\u001b[0m\u001b[0m\n\u001b[0m\u001b[0;32m    124\u001b[0m       \u001b[1;32mexcept\u001b[0m \u001b[1;33m(\u001b[0m\u001b[0mStopIteration\u001b[0m\u001b[1;33m,\u001b[0m \u001b[0merrors\u001b[0m\u001b[1;33m.\u001b[0m\u001b[0mOutOfRangeError\u001b[0m\u001b[1;33m)\u001b[0m\u001b[1;33m:\u001b[0m\u001b[1;33m\u001b[0m\u001b[1;33m\u001b[0m\u001b[0m\n\u001b[0;32m    125\u001b[0m         \u001b[1;31m# TODO(kaftan): File bug about tf function and errors.OutOfRangeError?\u001b[0m\u001b[1;33m\u001b[0m\u001b[1;33m\u001b[0m\u001b[1;33m\u001b[0m\u001b[0m\n",
      "\u001b[1;32mc:\\users\\visitor.slsi\\desktop\\ml\\mlenv\\lib\\site-packages\\tensorflow_core\\python\\keras\\engine\\training_v2_utils.py\u001b[0m in \u001b[0;36mexecution_function\u001b[1;34m(input_fn)\u001b[0m\n\u001b[0;32m     84\u001b[0m     \u001b[1;31m# `numpy` translates Tensors to values in Eager mode.\u001b[0m\u001b[1;33m\u001b[0m\u001b[1;33m\u001b[0m\u001b[1;33m\u001b[0m\u001b[0m\n\u001b[0;32m     85\u001b[0m     return nest.map_structure(_non_none_constant_value,\n\u001b[1;32m---> 86\u001b[1;33m                               distributed_function(input_fn))\n\u001b[0m\u001b[0;32m     87\u001b[0m \u001b[1;33m\u001b[0m\u001b[0m\n\u001b[0;32m     88\u001b[0m   \u001b[1;32mreturn\u001b[0m \u001b[0mexecution_function\u001b[0m\u001b[1;33m\u001b[0m\u001b[1;33m\u001b[0m\u001b[0m\n",
      "\u001b[1;32mc:\\users\\visitor.slsi\\desktop\\ml\\mlenv\\lib\\site-packages\\tensorflow_core\\python\\eager\\def_function.py\u001b[0m in \u001b[0;36m__call__\u001b[1;34m(self, *args, **kwds)\u001b[0m\n\u001b[0;32m    455\u001b[0m \u001b[1;33m\u001b[0m\u001b[0m\n\u001b[0;32m    456\u001b[0m     \u001b[0mtracing_count\u001b[0m \u001b[1;33m=\u001b[0m \u001b[0mself\u001b[0m\u001b[1;33m.\u001b[0m\u001b[0m_get_tracing_count\u001b[0m\u001b[1;33m(\u001b[0m\u001b[1;33m)\u001b[0m\u001b[1;33m\u001b[0m\u001b[1;33m\u001b[0m\u001b[0m\n\u001b[1;32m--> 457\u001b[1;33m     \u001b[0mresult\u001b[0m \u001b[1;33m=\u001b[0m \u001b[0mself\u001b[0m\u001b[1;33m.\u001b[0m\u001b[0m_call\u001b[0m\u001b[1;33m(\u001b[0m\u001b[1;33m*\u001b[0m\u001b[0margs\u001b[0m\u001b[1;33m,\u001b[0m \u001b[1;33m**\u001b[0m\u001b[0mkwds\u001b[0m\u001b[1;33m)\u001b[0m\u001b[1;33m\u001b[0m\u001b[1;33m\u001b[0m\u001b[0m\n\u001b[0m\u001b[0;32m    458\u001b[0m     \u001b[1;32mif\u001b[0m \u001b[0mtracing_count\u001b[0m \u001b[1;33m==\u001b[0m \u001b[0mself\u001b[0m\u001b[1;33m.\u001b[0m\u001b[0m_get_tracing_count\u001b[0m\u001b[1;33m(\u001b[0m\u001b[1;33m)\u001b[0m\u001b[1;33m:\u001b[0m\u001b[1;33m\u001b[0m\u001b[1;33m\u001b[0m\u001b[0m\n\u001b[0;32m    459\u001b[0m       \u001b[0mself\u001b[0m\u001b[1;33m.\u001b[0m\u001b[0m_call_counter\u001b[0m\u001b[1;33m.\u001b[0m\u001b[0mcalled_without_tracing\u001b[0m\u001b[1;33m(\u001b[0m\u001b[1;33m)\u001b[0m\u001b[1;33m\u001b[0m\u001b[1;33m\u001b[0m\u001b[0m\n",
      "\u001b[1;32mc:\\users\\visitor.slsi\\desktop\\ml\\mlenv\\lib\\site-packages\\tensorflow_core\\python\\eager\\def_function.py\u001b[0m in \u001b[0;36m_call\u001b[1;34m(self, *args, **kwds)\u001b[0m\n\u001b[0;32m    501\u001b[0m       \u001b[1;31m# This is the first call of __call__, so we have to initialize.\u001b[0m\u001b[1;33m\u001b[0m\u001b[1;33m\u001b[0m\u001b[1;33m\u001b[0m\u001b[0m\n\u001b[0;32m    502\u001b[0m       \u001b[0minitializer_map\u001b[0m \u001b[1;33m=\u001b[0m \u001b[0mobject_identity\u001b[0m\u001b[1;33m.\u001b[0m\u001b[0mObjectIdentityDictionary\u001b[0m\u001b[1;33m(\u001b[0m\u001b[1;33m)\u001b[0m\u001b[1;33m\u001b[0m\u001b[1;33m\u001b[0m\u001b[0m\n\u001b[1;32m--> 503\u001b[1;33m       \u001b[0mself\u001b[0m\u001b[1;33m.\u001b[0m\u001b[0m_initialize\u001b[0m\u001b[1;33m(\u001b[0m\u001b[0margs\u001b[0m\u001b[1;33m,\u001b[0m \u001b[0mkwds\u001b[0m\u001b[1;33m,\u001b[0m \u001b[0madd_initializers_to\u001b[0m\u001b[1;33m=\u001b[0m\u001b[0minitializer_map\u001b[0m\u001b[1;33m)\u001b[0m\u001b[1;33m\u001b[0m\u001b[1;33m\u001b[0m\u001b[0m\n\u001b[0m\u001b[0;32m    504\u001b[0m     \u001b[1;32mfinally\u001b[0m\u001b[1;33m:\u001b[0m\u001b[1;33m\u001b[0m\u001b[1;33m\u001b[0m\u001b[0m\n\u001b[0;32m    505\u001b[0m       \u001b[1;31m# At this point we know that the initialization is complete (or less\u001b[0m\u001b[1;33m\u001b[0m\u001b[1;33m\u001b[0m\u001b[1;33m\u001b[0m\u001b[0m\n",
      "\u001b[1;32mc:\\users\\visitor.slsi\\desktop\\ml\\mlenv\\lib\\site-packages\\tensorflow_core\\python\\eager\\def_function.py\u001b[0m in \u001b[0;36m_initialize\u001b[1;34m(self, args, kwds, add_initializers_to)\u001b[0m\n\u001b[0;32m    406\u001b[0m     self._concrete_stateful_fn = (\n\u001b[0;32m    407\u001b[0m         self._stateful_fn._get_concrete_function_internal_garbage_collected(  # pylint: disable=protected-access\n\u001b[1;32m--> 408\u001b[1;33m             *args, **kwds))\n\u001b[0m\u001b[0;32m    409\u001b[0m \u001b[1;33m\u001b[0m\u001b[0m\n\u001b[0;32m    410\u001b[0m     \u001b[1;32mdef\u001b[0m \u001b[0minvalid_creator_scope\u001b[0m\u001b[1;33m(\u001b[0m\u001b[1;33m*\u001b[0m\u001b[0munused_args\u001b[0m\u001b[1;33m,\u001b[0m \u001b[1;33m**\u001b[0m\u001b[0munused_kwds\u001b[0m\u001b[1;33m)\u001b[0m\u001b[1;33m:\u001b[0m\u001b[1;33m\u001b[0m\u001b[1;33m\u001b[0m\u001b[0m\n",
      "\u001b[1;32mc:\\users\\visitor.slsi\\desktop\\ml\\mlenv\\lib\\site-packages\\tensorflow_core\\python\\eager\\function.py\u001b[0m in \u001b[0;36m_get_concrete_function_internal_garbage_collected\u001b[1;34m(self, *args, **kwargs)\u001b[0m\n\u001b[0;32m   1846\u001b[0m     \u001b[1;32mif\u001b[0m \u001b[0mself\u001b[0m\u001b[1;33m.\u001b[0m\u001b[0minput_signature\u001b[0m\u001b[1;33m:\u001b[0m\u001b[1;33m\u001b[0m\u001b[1;33m\u001b[0m\u001b[0m\n\u001b[0;32m   1847\u001b[0m       \u001b[0margs\u001b[0m\u001b[1;33m,\u001b[0m \u001b[0mkwargs\u001b[0m \u001b[1;33m=\u001b[0m \u001b[1;32mNone\u001b[0m\u001b[1;33m,\u001b[0m \u001b[1;32mNone\u001b[0m\u001b[1;33m\u001b[0m\u001b[1;33m\u001b[0m\u001b[0m\n\u001b[1;32m-> 1848\u001b[1;33m     \u001b[0mgraph_function\u001b[0m\u001b[1;33m,\u001b[0m \u001b[0m_\u001b[0m\u001b[1;33m,\u001b[0m \u001b[0m_\u001b[0m \u001b[1;33m=\u001b[0m \u001b[0mself\u001b[0m\u001b[1;33m.\u001b[0m\u001b[0m_maybe_define_function\u001b[0m\u001b[1;33m(\u001b[0m\u001b[0margs\u001b[0m\u001b[1;33m,\u001b[0m \u001b[0mkwargs\u001b[0m\u001b[1;33m)\u001b[0m\u001b[1;33m\u001b[0m\u001b[1;33m\u001b[0m\u001b[0m\n\u001b[0m\u001b[0;32m   1849\u001b[0m     \u001b[1;32mreturn\u001b[0m \u001b[0mgraph_function\u001b[0m\u001b[1;33m\u001b[0m\u001b[1;33m\u001b[0m\u001b[0m\n\u001b[0;32m   1850\u001b[0m \u001b[1;33m\u001b[0m\u001b[0m\n",
      "\u001b[1;32mc:\\users\\visitor.slsi\\desktop\\ml\\mlenv\\lib\\site-packages\\tensorflow_core\\python\\eager\\function.py\u001b[0m in \u001b[0;36m_maybe_define_function\u001b[1;34m(self, args, kwargs)\u001b[0m\n\u001b[0;32m   2148\u001b[0m         \u001b[0mgraph_function\u001b[0m \u001b[1;33m=\u001b[0m \u001b[0mself\u001b[0m\u001b[1;33m.\u001b[0m\u001b[0m_function_cache\u001b[0m\u001b[1;33m.\u001b[0m\u001b[0mprimary\u001b[0m\u001b[1;33m.\u001b[0m\u001b[0mget\u001b[0m\u001b[1;33m(\u001b[0m\u001b[0mcache_key\u001b[0m\u001b[1;33m,\u001b[0m \u001b[1;32mNone\u001b[0m\u001b[1;33m)\u001b[0m\u001b[1;33m\u001b[0m\u001b[1;33m\u001b[0m\u001b[0m\n\u001b[0;32m   2149\u001b[0m         \u001b[1;32mif\u001b[0m \u001b[0mgraph_function\u001b[0m \u001b[1;32mis\u001b[0m \u001b[1;32mNone\u001b[0m\u001b[1;33m:\u001b[0m\u001b[1;33m\u001b[0m\u001b[1;33m\u001b[0m\u001b[0m\n\u001b[1;32m-> 2150\u001b[1;33m           \u001b[0mgraph_function\u001b[0m \u001b[1;33m=\u001b[0m \u001b[0mself\u001b[0m\u001b[1;33m.\u001b[0m\u001b[0m_create_graph_function\u001b[0m\u001b[1;33m(\u001b[0m\u001b[0margs\u001b[0m\u001b[1;33m,\u001b[0m \u001b[0mkwargs\u001b[0m\u001b[1;33m)\u001b[0m\u001b[1;33m\u001b[0m\u001b[1;33m\u001b[0m\u001b[0m\n\u001b[0m\u001b[0;32m   2151\u001b[0m           \u001b[0mself\u001b[0m\u001b[1;33m.\u001b[0m\u001b[0m_function_cache\u001b[0m\u001b[1;33m.\u001b[0m\u001b[0mprimary\u001b[0m\u001b[1;33m[\u001b[0m\u001b[0mcache_key\u001b[0m\u001b[1;33m]\u001b[0m \u001b[1;33m=\u001b[0m \u001b[0mgraph_function\u001b[0m\u001b[1;33m\u001b[0m\u001b[1;33m\u001b[0m\u001b[0m\n\u001b[0;32m   2152\u001b[0m         \u001b[1;32mreturn\u001b[0m \u001b[0mgraph_function\u001b[0m\u001b[1;33m,\u001b[0m \u001b[0margs\u001b[0m\u001b[1;33m,\u001b[0m \u001b[0mkwargs\u001b[0m\u001b[1;33m\u001b[0m\u001b[1;33m\u001b[0m\u001b[0m\n",
      "\u001b[1;32mc:\\users\\visitor.slsi\\desktop\\ml\\mlenv\\lib\\site-packages\\tensorflow_core\\python\\eager\\function.py\u001b[0m in \u001b[0;36m_create_graph_function\u001b[1;34m(self, args, kwargs, override_flat_arg_shapes)\u001b[0m\n\u001b[0;32m   2039\u001b[0m             \u001b[0marg_names\u001b[0m\u001b[1;33m=\u001b[0m\u001b[0marg_names\u001b[0m\u001b[1;33m,\u001b[0m\u001b[1;33m\u001b[0m\u001b[1;33m\u001b[0m\u001b[0m\n\u001b[0;32m   2040\u001b[0m             \u001b[0moverride_flat_arg_shapes\u001b[0m\u001b[1;33m=\u001b[0m\u001b[0moverride_flat_arg_shapes\u001b[0m\u001b[1;33m,\u001b[0m\u001b[1;33m\u001b[0m\u001b[1;33m\u001b[0m\u001b[0m\n\u001b[1;32m-> 2041\u001b[1;33m             capture_by_value=self._capture_by_value),\n\u001b[0m\u001b[0;32m   2042\u001b[0m         \u001b[0mself\u001b[0m\u001b[1;33m.\u001b[0m\u001b[0m_function_attributes\u001b[0m\u001b[1;33m,\u001b[0m\u001b[1;33m\u001b[0m\u001b[1;33m\u001b[0m\u001b[0m\n\u001b[0;32m   2043\u001b[0m         \u001b[1;31m# Tell the ConcreteFunction to clean up its graph once it goes out of\u001b[0m\u001b[1;33m\u001b[0m\u001b[1;33m\u001b[0m\u001b[1;33m\u001b[0m\u001b[0m\n",
      "\u001b[1;32mc:\\users\\visitor.slsi\\desktop\\ml\\mlenv\\lib\\site-packages\\tensorflow_core\\python\\framework\\func_graph.py\u001b[0m in \u001b[0;36mfunc_graph_from_py_func\u001b[1;34m(name, python_func, args, kwargs, signature, func_graph, autograph, autograph_options, add_control_dependencies, arg_names, op_return_value, collections, capture_by_value, override_flat_arg_shapes)\u001b[0m\n\u001b[0;32m    913\u001b[0m                                           converted_func)\n\u001b[0;32m    914\u001b[0m \u001b[1;33m\u001b[0m\u001b[0m\n\u001b[1;32m--> 915\u001b[1;33m       \u001b[0mfunc_outputs\u001b[0m \u001b[1;33m=\u001b[0m \u001b[0mpython_func\u001b[0m\u001b[1;33m(\u001b[0m\u001b[1;33m*\u001b[0m\u001b[0mfunc_args\u001b[0m\u001b[1;33m,\u001b[0m \u001b[1;33m**\u001b[0m\u001b[0mfunc_kwargs\u001b[0m\u001b[1;33m)\u001b[0m\u001b[1;33m\u001b[0m\u001b[1;33m\u001b[0m\u001b[0m\n\u001b[0m\u001b[0;32m    916\u001b[0m \u001b[1;33m\u001b[0m\u001b[0m\n\u001b[0;32m    917\u001b[0m       \u001b[1;31m# invariant: `func_outputs` contains only Tensors, CompositeTensors,\u001b[0m\u001b[1;33m\u001b[0m\u001b[1;33m\u001b[0m\u001b[1;33m\u001b[0m\u001b[0m\n",
      "\u001b[1;32mc:\\users\\visitor.slsi\\desktop\\ml\\mlenv\\lib\\site-packages\\tensorflow_core\\python\\eager\\def_function.py\u001b[0m in \u001b[0;36mwrapped_fn\u001b[1;34m(*args, **kwds)\u001b[0m\n\u001b[0;32m    356\u001b[0m         \u001b[1;31m# __wrapped__ allows AutoGraph to swap in a converted function. We give\u001b[0m\u001b[1;33m\u001b[0m\u001b[1;33m\u001b[0m\u001b[1;33m\u001b[0m\u001b[0m\n\u001b[0;32m    357\u001b[0m         \u001b[1;31m# the function a weak reference to itself to avoid a reference cycle.\u001b[0m\u001b[1;33m\u001b[0m\u001b[1;33m\u001b[0m\u001b[1;33m\u001b[0m\u001b[0m\n\u001b[1;32m--> 358\u001b[1;33m         \u001b[1;32mreturn\u001b[0m \u001b[0mweak_wrapped_fn\u001b[0m\u001b[1;33m(\u001b[0m\u001b[1;33m)\u001b[0m\u001b[1;33m.\u001b[0m\u001b[0m__wrapped__\u001b[0m\u001b[1;33m(\u001b[0m\u001b[1;33m*\u001b[0m\u001b[0margs\u001b[0m\u001b[1;33m,\u001b[0m \u001b[1;33m**\u001b[0m\u001b[0mkwds\u001b[0m\u001b[1;33m)\u001b[0m\u001b[1;33m\u001b[0m\u001b[1;33m\u001b[0m\u001b[0m\n\u001b[0m\u001b[0;32m    359\u001b[0m     \u001b[0mweak_wrapped_fn\u001b[0m \u001b[1;33m=\u001b[0m \u001b[0mweakref\u001b[0m\u001b[1;33m.\u001b[0m\u001b[0mref\u001b[0m\u001b[1;33m(\u001b[0m\u001b[0mwrapped_fn\u001b[0m\u001b[1;33m)\u001b[0m\u001b[1;33m\u001b[0m\u001b[1;33m\u001b[0m\u001b[0m\n\u001b[0;32m    360\u001b[0m \u001b[1;33m\u001b[0m\u001b[0m\n",
      "\u001b[1;32mc:\\users\\visitor.slsi\\desktop\\ml\\mlenv\\lib\\site-packages\\tensorflow_core\\python\\keras\\engine\\training_v2_utils.py\u001b[0m in \u001b[0;36mdistributed_function\u001b[1;34m(input_iterator)\u001b[0m\n\u001b[0;32m     71\u001b[0m     \u001b[0mstrategy\u001b[0m \u001b[1;33m=\u001b[0m \u001b[0mdistribution_strategy_context\u001b[0m\u001b[1;33m.\u001b[0m\u001b[0mget_strategy\u001b[0m\u001b[1;33m(\u001b[0m\u001b[1;33m)\u001b[0m\u001b[1;33m\u001b[0m\u001b[1;33m\u001b[0m\u001b[0m\n\u001b[0;32m     72\u001b[0m     outputs = strategy.experimental_run_v2(\n\u001b[1;32m---> 73\u001b[1;33m         per_replica_function, args=(model, x, y, sample_weights))\n\u001b[0m\u001b[0;32m     74\u001b[0m     \u001b[1;31m# Out of PerReplica outputs reduce or pick values to return.\u001b[0m\u001b[1;33m\u001b[0m\u001b[1;33m\u001b[0m\u001b[1;33m\u001b[0m\u001b[0m\n\u001b[0;32m     75\u001b[0m     all_outputs = dist_utils.unwrap_output_dict(\n",
      "\u001b[1;32mc:\\users\\visitor.slsi\\desktop\\ml\\mlenv\\lib\\site-packages\\tensorflow_core\\python\\distribute\\distribute_lib.py\u001b[0m in \u001b[0;36mexperimental_run_v2\u001b[1;34m(self, fn, args, kwargs)\u001b[0m\n\u001b[0;32m    758\u001b[0m       fn = autograph.tf_convert(fn, ag_ctx.control_status_ctx(),\n\u001b[0;32m    759\u001b[0m                                 convert_by_default=False)\n\u001b[1;32m--> 760\u001b[1;33m       \u001b[1;32mreturn\u001b[0m \u001b[0mself\u001b[0m\u001b[1;33m.\u001b[0m\u001b[0m_extended\u001b[0m\u001b[1;33m.\u001b[0m\u001b[0mcall_for_each_replica\u001b[0m\u001b[1;33m(\u001b[0m\u001b[0mfn\u001b[0m\u001b[1;33m,\u001b[0m \u001b[0margs\u001b[0m\u001b[1;33m=\u001b[0m\u001b[0margs\u001b[0m\u001b[1;33m,\u001b[0m \u001b[0mkwargs\u001b[0m\u001b[1;33m=\u001b[0m\u001b[0mkwargs\u001b[0m\u001b[1;33m)\u001b[0m\u001b[1;33m\u001b[0m\u001b[1;33m\u001b[0m\u001b[0m\n\u001b[0m\u001b[0;32m    761\u001b[0m \u001b[1;33m\u001b[0m\u001b[0m\n\u001b[0;32m    762\u001b[0m   \u001b[1;32mdef\u001b[0m \u001b[0mreduce\u001b[0m\u001b[1;33m(\u001b[0m\u001b[0mself\u001b[0m\u001b[1;33m,\u001b[0m \u001b[0mreduce_op\u001b[0m\u001b[1;33m,\u001b[0m \u001b[0mvalue\u001b[0m\u001b[1;33m,\u001b[0m \u001b[0maxis\u001b[0m\u001b[1;33m)\u001b[0m\u001b[1;33m:\u001b[0m\u001b[1;33m\u001b[0m\u001b[1;33m\u001b[0m\u001b[0m\n",
      "\u001b[1;32mc:\\users\\visitor.slsi\\desktop\\ml\\mlenv\\lib\\site-packages\\tensorflow_core\\python\\distribute\\distribute_lib.py\u001b[0m in \u001b[0;36mcall_for_each_replica\u001b[1;34m(self, fn, args, kwargs)\u001b[0m\n\u001b[0;32m   1785\u001b[0m       \u001b[0mkwargs\u001b[0m \u001b[1;33m=\u001b[0m \u001b[1;33m{\u001b[0m\u001b[1;33m}\u001b[0m\u001b[1;33m\u001b[0m\u001b[1;33m\u001b[0m\u001b[0m\n\u001b[0;32m   1786\u001b[0m     \u001b[1;32mwith\u001b[0m \u001b[0mself\u001b[0m\u001b[1;33m.\u001b[0m\u001b[0m_container_strategy\u001b[0m\u001b[1;33m(\u001b[0m\u001b[1;33m)\u001b[0m\u001b[1;33m.\u001b[0m\u001b[0mscope\u001b[0m\u001b[1;33m(\u001b[0m\u001b[1;33m)\u001b[0m\u001b[1;33m:\u001b[0m\u001b[1;33m\u001b[0m\u001b[1;33m\u001b[0m\u001b[0m\n\u001b[1;32m-> 1787\u001b[1;33m       \u001b[1;32mreturn\u001b[0m \u001b[0mself\u001b[0m\u001b[1;33m.\u001b[0m\u001b[0m_call_for_each_replica\u001b[0m\u001b[1;33m(\u001b[0m\u001b[0mfn\u001b[0m\u001b[1;33m,\u001b[0m \u001b[0margs\u001b[0m\u001b[1;33m,\u001b[0m \u001b[0mkwargs\u001b[0m\u001b[1;33m)\u001b[0m\u001b[1;33m\u001b[0m\u001b[1;33m\u001b[0m\u001b[0m\n\u001b[0m\u001b[0;32m   1788\u001b[0m \u001b[1;33m\u001b[0m\u001b[0m\n\u001b[0;32m   1789\u001b[0m   \u001b[1;32mdef\u001b[0m \u001b[0m_call_for_each_replica\u001b[0m\u001b[1;33m(\u001b[0m\u001b[0mself\u001b[0m\u001b[1;33m,\u001b[0m \u001b[0mfn\u001b[0m\u001b[1;33m,\u001b[0m \u001b[0margs\u001b[0m\u001b[1;33m,\u001b[0m \u001b[0mkwargs\u001b[0m\u001b[1;33m)\u001b[0m\u001b[1;33m:\u001b[0m\u001b[1;33m\u001b[0m\u001b[1;33m\u001b[0m\u001b[0m\n",
      "\u001b[1;32mc:\\users\\visitor.slsi\\desktop\\ml\\mlenv\\lib\\site-packages\\tensorflow_core\\python\\distribute\\distribute_lib.py\u001b[0m in \u001b[0;36m_call_for_each_replica\u001b[1;34m(self, fn, args, kwargs)\u001b[0m\n\u001b[0;32m   2130\u001b[0m         \u001b[0mself\u001b[0m\u001b[1;33m.\u001b[0m\u001b[0m_container_strategy\u001b[0m\u001b[1;33m(\u001b[0m\u001b[1;33m)\u001b[0m\u001b[1;33m,\u001b[0m\u001b[1;33m\u001b[0m\u001b[1;33m\u001b[0m\u001b[0m\n\u001b[0;32m   2131\u001b[0m         replica_id_in_sync_group=constant_op.constant(0, dtypes.int32)):\n\u001b[1;32m-> 2132\u001b[1;33m       \u001b[1;32mreturn\u001b[0m \u001b[0mfn\u001b[0m\u001b[1;33m(\u001b[0m\u001b[1;33m*\u001b[0m\u001b[0margs\u001b[0m\u001b[1;33m,\u001b[0m \u001b[1;33m**\u001b[0m\u001b[0mkwargs\u001b[0m\u001b[1;33m)\u001b[0m\u001b[1;33m\u001b[0m\u001b[1;33m\u001b[0m\u001b[0m\n\u001b[0m\u001b[0;32m   2133\u001b[0m \u001b[1;33m\u001b[0m\u001b[0m\n\u001b[0;32m   2134\u001b[0m   \u001b[1;32mdef\u001b[0m \u001b[0m_reduce_to\u001b[0m\u001b[1;33m(\u001b[0m\u001b[0mself\u001b[0m\u001b[1;33m,\u001b[0m \u001b[0mreduce_op\u001b[0m\u001b[1;33m,\u001b[0m \u001b[0mvalue\u001b[0m\u001b[1;33m,\u001b[0m \u001b[0mdestinations\u001b[0m\u001b[1;33m)\u001b[0m\u001b[1;33m:\u001b[0m\u001b[1;33m\u001b[0m\u001b[1;33m\u001b[0m\u001b[0m\n",
      "\u001b[1;32mc:\\users\\visitor.slsi\\desktop\\ml\\mlenv\\lib\\site-packages\\tensorflow_core\\python\\autograph\\impl\\api.py\u001b[0m in \u001b[0;36mwrapper\u001b[1;34m(*args, **kwargs)\u001b[0m\n\u001b[0;32m    290\u001b[0m   \u001b[1;32mdef\u001b[0m \u001b[0mwrapper\u001b[0m\u001b[1;33m(\u001b[0m\u001b[1;33m*\u001b[0m\u001b[0margs\u001b[0m\u001b[1;33m,\u001b[0m \u001b[1;33m**\u001b[0m\u001b[0mkwargs\u001b[0m\u001b[1;33m)\u001b[0m\u001b[1;33m:\u001b[0m\u001b[1;33m\u001b[0m\u001b[1;33m\u001b[0m\u001b[0m\n\u001b[0;32m    291\u001b[0m     \u001b[1;32mwith\u001b[0m \u001b[0mag_ctx\u001b[0m\u001b[1;33m.\u001b[0m\u001b[0mControlStatusCtx\u001b[0m\u001b[1;33m(\u001b[0m\u001b[0mstatus\u001b[0m\u001b[1;33m=\u001b[0m\u001b[0mag_ctx\u001b[0m\u001b[1;33m.\u001b[0m\u001b[0mStatus\u001b[0m\u001b[1;33m.\u001b[0m\u001b[0mDISABLED\u001b[0m\u001b[1;33m)\u001b[0m\u001b[1;33m:\u001b[0m\u001b[1;33m\u001b[0m\u001b[1;33m\u001b[0m\u001b[0m\n\u001b[1;32m--> 292\u001b[1;33m       \u001b[1;32mreturn\u001b[0m \u001b[0mfunc\u001b[0m\u001b[1;33m(\u001b[0m\u001b[1;33m*\u001b[0m\u001b[0margs\u001b[0m\u001b[1;33m,\u001b[0m \u001b[1;33m**\u001b[0m\u001b[0mkwargs\u001b[0m\u001b[1;33m)\u001b[0m\u001b[1;33m\u001b[0m\u001b[1;33m\u001b[0m\u001b[0m\n\u001b[0m\u001b[0;32m    293\u001b[0m \u001b[1;33m\u001b[0m\u001b[0m\n\u001b[0;32m    294\u001b[0m   \u001b[1;32mif\u001b[0m \u001b[0minspect\u001b[0m\u001b[1;33m.\u001b[0m\u001b[0misfunction\u001b[0m\u001b[1;33m(\u001b[0m\u001b[0mfunc\u001b[0m\u001b[1;33m)\u001b[0m \u001b[1;32mor\u001b[0m \u001b[0minspect\u001b[0m\u001b[1;33m.\u001b[0m\u001b[0mismethod\u001b[0m\u001b[1;33m(\u001b[0m\u001b[0mfunc\u001b[0m\u001b[1;33m)\u001b[0m\u001b[1;33m:\u001b[0m\u001b[1;33m\u001b[0m\u001b[1;33m\u001b[0m\u001b[0m\n",
      "\u001b[1;32mc:\\users\\visitor.slsi\\desktop\\ml\\mlenv\\lib\\site-packages\\tensorflow_core\\python\\keras\\engine\\training_v2_utils.py\u001b[0m in \u001b[0;36m_predict_on_batch\u001b[1;34m(***failed resolving arguments***)\u001b[0m\n\u001b[0;32m    160\u001b[0m     \u001b[1;32mdef\u001b[0m \u001b[0m_predict_on_batch\u001b[0m\u001b[1;33m(\u001b[0m\u001b[0mmodel\u001b[0m\u001b[1;33m,\u001b[0m \u001b[0mx\u001b[0m\u001b[1;33m,\u001b[0m \u001b[0my\u001b[0m\u001b[1;33m=\u001b[0m\u001b[1;32mNone\u001b[0m\u001b[1;33m,\u001b[0m \u001b[0msample_weights\u001b[0m\u001b[1;33m=\u001b[0m\u001b[1;32mNone\u001b[0m\u001b[1;33m)\u001b[0m\u001b[1;33m:\u001b[0m\u001b[1;33m\u001b[0m\u001b[1;33m\u001b[0m\u001b[0m\n\u001b[0;32m    161\u001b[0m       \u001b[1;32mdel\u001b[0m \u001b[0my\u001b[0m\u001b[1;33m,\u001b[0m \u001b[0msample_weights\u001b[0m\u001b[1;33m\u001b[0m\u001b[1;33m\u001b[0m\u001b[0m\n\u001b[1;32m--> 162\u001b[1;33m       \u001b[1;32mreturn\u001b[0m \u001b[0mpredict_on_batch\u001b[0m\u001b[1;33m(\u001b[0m\u001b[0mmodel\u001b[0m\u001b[1;33m,\u001b[0m \u001b[0mx\u001b[0m\u001b[1;33m)\u001b[0m\u001b[1;33m\u001b[0m\u001b[1;33m\u001b[0m\u001b[0m\n\u001b[0m\u001b[0;32m    163\u001b[0m \u001b[1;33m\u001b[0m\u001b[0m\n\u001b[0;32m    164\u001b[0m     \u001b[0mfunc\u001b[0m \u001b[1;33m=\u001b[0m \u001b[0m_predict_on_batch\u001b[0m\u001b[1;33m\u001b[0m\u001b[1;33m\u001b[0m\u001b[0m\n",
      "\u001b[1;32mc:\\users\\visitor.slsi\\desktop\\ml\\mlenv\\lib\\site-packages\\tensorflow_core\\python\\keras\\engine\\training_v2_utils.py\u001b[0m in \u001b[0;36mpredict_on_batch\u001b[1;34m(model, x)\u001b[0m\n\u001b[0;32m    368\u001b[0m \u001b[1;33m\u001b[0m\u001b[0m\n\u001b[0;32m    369\u001b[0m   \u001b[1;32mwith\u001b[0m \u001b[0mbackend\u001b[0m\u001b[1;33m.\u001b[0m\u001b[0meager_learning_phase_scope\u001b[0m\u001b[1;33m(\u001b[0m\u001b[1;36m0\u001b[0m\u001b[1;33m)\u001b[0m\u001b[1;33m:\u001b[0m\u001b[1;33m\u001b[0m\u001b[1;33m\u001b[0m\u001b[0m\n\u001b[1;32m--> 370\u001b[1;33m     \u001b[1;32mreturn\u001b[0m \u001b[0mmodel\u001b[0m\u001b[1;33m(\u001b[0m\u001b[0minputs\u001b[0m\u001b[1;33m)\u001b[0m  \u001b[1;31m# pylint: disable=not-callable\u001b[0m\u001b[1;33m\u001b[0m\u001b[1;33m\u001b[0m\u001b[0m\n\u001b[0m",
      "\u001b[1;32mc:\\users\\visitor.slsi\\desktop\\ml\\mlenv\\lib\\site-packages\\tensorflow_core\\python\\keras\\engine\\base_layer.py\u001b[0m in \u001b[0;36m__call__\u001b[1;34m(self, inputs, *args, **kwargs)\u001b[0m\n\u001b[0;32m    845\u001b[0m                     \u001b[0moutputs\u001b[0m \u001b[1;33m=\u001b[0m \u001b[0mbase_layer_utils\u001b[0m\u001b[1;33m.\u001b[0m\u001b[0mmark_as_return\u001b[0m\u001b[1;33m(\u001b[0m\u001b[0moutputs\u001b[0m\u001b[1;33m,\u001b[0m \u001b[0macd\u001b[0m\u001b[1;33m)\u001b[0m\u001b[1;33m\u001b[0m\u001b[1;33m\u001b[0m\u001b[0m\n\u001b[0;32m    846\u001b[0m                 \u001b[1;32melse\u001b[0m\u001b[1;33m:\u001b[0m\u001b[1;33m\u001b[0m\u001b[1;33m\u001b[0m\u001b[0m\n\u001b[1;32m--> 847\u001b[1;33m                   \u001b[0moutputs\u001b[0m \u001b[1;33m=\u001b[0m \u001b[0mcall_fn\u001b[0m\u001b[1;33m(\u001b[0m\u001b[0mcast_inputs\u001b[0m\u001b[1;33m,\u001b[0m \u001b[1;33m*\u001b[0m\u001b[0margs\u001b[0m\u001b[1;33m,\u001b[0m \u001b[1;33m**\u001b[0m\u001b[0mkwargs\u001b[0m\u001b[1;33m)\u001b[0m\u001b[1;33m\u001b[0m\u001b[1;33m\u001b[0m\u001b[0m\n\u001b[0m\u001b[0;32m    848\u001b[0m \u001b[1;33m\u001b[0m\u001b[0m\n\u001b[0;32m    849\u001b[0m             \u001b[1;32mexcept\u001b[0m \u001b[0merrors\u001b[0m\u001b[1;33m.\u001b[0m\u001b[0mOperatorNotAllowedInGraphError\u001b[0m \u001b[1;32mas\u001b[0m \u001b[0me\u001b[0m\u001b[1;33m:\u001b[0m\u001b[1;33m\u001b[0m\u001b[1;33m\u001b[0m\u001b[0m\n",
      "\u001b[1;32mc:\\users\\visitor.slsi\\desktop\\ml\\mlenv\\lib\\site-packages\\tensorflow_core\\python\\keras\\engine\\sequential.py\u001b[0m in \u001b[0;36mcall\u001b[1;34m(self, inputs, training, mask)\u001b[0m\n\u001b[0;32m    254\u001b[0m       \u001b[1;32mif\u001b[0m \u001b[1;32mnot\u001b[0m \u001b[0mself\u001b[0m\u001b[1;33m.\u001b[0m\u001b[0mbuilt\u001b[0m\u001b[1;33m:\u001b[0m\u001b[1;33m\u001b[0m\u001b[1;33m\u001b[0m\u001b[0m\n\u001b[0;32m    255\u001b[0m         \u001b[0mself\u001b[0m\u001b[1;33m.\u001b[0m\u001b[0m_init_graph_network\u001b[0m\u001b[1;33m(\u001b[0m\u001b[0mself\u001b[0m\u001b[1;33m.\u001b[0m\u001b[0minputs\u001b[0m\u001b[1;33m,\u001b[0m \u001b[0mself\u001b[0m\u001b[1;33m.\u001b[0m\u001b[0moutputs\u001b[0m\u001b[1;33m,\u001b[0m \u001b[0mname\u001b[0m\u001b[1;33m=\u001b[0m\u001b[0mself\u001b[0m\u001b[1;33m.\u001b[0m\u001b[0mname\u001b[0m\u001b[1;33m)\u001b[0m\u001b[1;33m\u001b[0m\u001b[1;33m\u001b[0m\u001b[0m\n\u001b[1;32m--> 256\u001b[1;33m       \u001b[1;32mreturn\u001b[0m \u001b[0msuper\u001b[0m\u001b[1;33m(\u001b[0m\u001b[0mSequential\u001b[0m\u001b[1;33m,\u001b[0m \u001b[0mself\u001b[0m\u001b[1;33m)\u001b[0m\u001b[1;33m.\u001b[0m\u001b[0mcall\u001b[0m\u001b[1;33m(\u001b[0m\u001b[0minputs\u001b[0m\u001b[1;33m,\u001b[0m \u001b[0mtraining\u001b[0m\u001b[1;33m=\u001b[0m\u001b[0mtraining\u001b[0m\u001b[1;33m,\u001b[0m \u001b[0mmask\u001b[0m\u001b[1;33m=\u001b[0m\u001b[0mmask\u001b[0m\u001b[1;33m)\u001b[0m\u001b[1;33m\u001b[0m\u001b[1;33m\u001b[0m\u001b[0m\n\u001b[0m\u001b[0;32m    257\u001b[0m \u001b[1;33m\u001b[0m\u001b[0m\n\u001b[0;32m    258\u001b[0m     \u001b[0moutputs\u001b[0m \u001b[1;33m=\u001b[0m \u001b[0minputs\u001b[0m  \u001b[1;31m# handle the corner case where self.layers is empty\u001b[0m\u001b[1;33m\u001b[0m\u001b[1;33m\u001b[0m\u001b[0m\n",
      "\u001b[1;32mc:\\users\\visitor.slsi\\desktop\\ml\\mlenv\\lib\\site-packages\\tensorflow_core\\python\\keras\\engine\\network.py\u001b[0m in \u001b[0;36mcall\u001b[1;34m(self, inputs, training, mask)\u001b[0m\n\u001b[0;32m    706\u001b[0m     return self._run_internal_graph(\n\u001b[0;32m    707\u001b[0m         \u001b[0minputs\u001b[0m\u001b[1;33m,\u001b[0m \u001b[0mtraining\u001b[0m\u001b[1;33m=\u001b[0m\u001b[0mtraining\u001b[0m\u001b[1;33m,\u001b[0m \u001b[0mmask\u001b[0m\u001b[1;33m=\u001b[0m\u001b[0mmask\u001b[0m\u001b[1;33m,\u001b[0m\u001b[1;33m\u001b[0m\u001b[1;33m\u001b[0m\u001b[0m\n\u001b[1;32m--> 708\u001b[1;33m         convert_kwargs_to_constants=base_layer_utils.call_context().saving)\n\u001b[0m\u001b[0;32m    709\u001b[0m \u001b[1;33m\u001b[0m\u001b[0m\n\u001b[0;32m    710\u001b[0m   \u001b[1;32mdef\u001b[0m \u001b[0mcompute_output_shape\u001b[0m\u001b[1;33m(\u001b[0m\u001b[0mself\u001b[0m\u001b[1;33m,\u001b[0m \u001b[0minput_shape\u001b[0m\u001b[1;33m)\u001b[0m\u001b[1;33m:\u001b[0m\u001b[1;33m\u001b[0m\u001b[1;33m\u001b[0m\u001b[0m\n",
      "\u001b[1;32mc:\\users\\visitor.slsi\\desktop\\ml\\mlenv\\lib\\site-packages\\tensorflow_core\\python\\keras\\engine\\network.py\u001b[0m in \u001b[0;36m_run_internal_graph\u001b[1;34m(self, inputs, training, mask, convert_kwargs_to_constants)\u001b[0m\n\u001b[0;32m    858\u001b[0m \u001b[1;33m\u001b[0m\u001b[0m\n\u001b[0;32m    859\u001b[0m           \u001b[1;31m# Compute outputs.\u001b[0m\u001b[1;33m\u001b[0m\u001b[1;33m\u001b[0m\u001b[1;33m\u001b[0m\u001b[0m\n\u001b[1;32m--> 860\u001b[1;33m           \u001b[0moutput_tensors\u001b[0m \u001b[1;33m=\u001b[0m \u001b[0mlayer\u001b[0m\u001b[1;33m(\u001b[0m\u001b[0mcomputed_tensors\u001b[0m\u001b[1;33m,\u001b[0m \u001b[1;33m**\u001b[0m\u001b[0mkwargs\u001b[0m\u001b[1;33m)\u001b[0m\u001b[1;33m\u001b[0m\u001b[1;33m\u001b[0m\u001b[0m\n\u001b[0m\u001b[0;32m    861\u001b[0m \u001b[1;33m\u001b[0m\u001b[0m\n\u001b[0;32m    862\u001b[0m           \u001b[1;31m# Update tensor_dict.\u001b[0m\u001b[1;33m\u001b[0m\u001b[1;33m\u001b[0m\u001b[1;33m\u001b[0m\u001b[0m\n",
      "\u001b[1;32mc:\\users\\visitor.slsi\\desktop\\ml\\mlenv\\lib\\site-packages\\tensorflow_core\\python\\keras\\engine\\base_layer.py\u001b[0m in \u001b[0;36m__call__\u001b[1;34m(self, inputs, *args, **kwargs)\u001b[0m\n\u001b[0;32m    845\u001b[0m                     \u001b[0moutputs\u001b[0m \u001b[1;33m=\u001b[0m \u001b[0mbase_layer_utils\u001b[0m\u001b[1;33m.\u001b[0m\u001b[0mmark_as_return\u001b[0m\u001b[1;33m(\u001b[0m\u001b[0moutputs\u001b[0m\u001b[1;33m,\u001b[0m \u001b[0macd\u001b[0m\u001b[1;33m)\u001b[0m\u001b[1;33m\u001b[0m\u001b[1;33m\u001b[0m\u001b[0m\n\u001b[0;32m    846\u001b[0m                 \u001b[1;32melse\u001b[0m\u001b[1;33m:\u001b[0m\u001b[1;33m\u001b[0m\u001b[1;33m\u001b[0m\u001b[0m\n\u001b[1;32m--> 847\u001b[1;33m                   \u001b[0moutputs\u001b[0m \u001b[1;33m=\u001b[0m \u001b[0mcall_fn\u001b[0m\u001b[1;33m(\u001b[0m\u001b[0mcast_inputs\u001b[0m\u001b[1;33m,\u001b[0m \u001b[1;33m*\u001b[0m\u001b[0margs\u001b[0m\u001b[1;33m,\u001b[0m \u001b[1;33m**\u001b[0m\u001b[0mkwargs\u001b[0m\u001b[1;33m)\u001b[0m\u001b[1;33m\u001b[0m\u001b[1;33m\u001b[0m\u001b[0m\n\u001b[0m\u001b[0;32m    848\u001b[0m \u001b[1;33m\u001b[0m\u001b[0m\n\u001b[0;32m    849\u001b[0m             \u001b[1;32mexcept\u001b[0m \u001b[0merrors\u001b[0m\u001b[1;33m.\u001b[0m\u001b[0mOperatorNotAllowedInGraphError\u001b[0m \u001b[1;32mas\u001b[0m \u001b[0me\u001b[0m\u001b[1;33m:\u001b[0m\u001b[1;33m\u001b[0m\u001b[1;33m\u001b[0m\u001b[0m\n",
      "\u001b[1;32mc:\\users\\visitor.slsi\\desktop\\ml\\mlenv\\lib\\site-packages\\tensorflow_core\\python\\keras\\layers\\convolutional.py\u001b[0m in \u001b[0;36mcall\u001b[1;34m(self, inputs)\u001b[0m\n\u001b[0;32m    195\u001b[0m \u001b[1;33m\u001b[0m\u001b[0m\n\u001b[0;32m    196\u001b[0m   \u001b[1;32mdef\u001b[0m \u001b[0mcall\u001b[0m\u001b[1;33m(\u001b[0m\u001b[0mself\u001b[0m\u001b[1;33m,\u001b[0m \u001b[0minputs\u001b[0m\u001b[1;33m)\u001b[0m\u001b[1;33m:\u001b[0m\u001b[1;33m\u001b[0m\u001b[1;33m\u001b[0m\u001b[0m\n\u001b[1;32m--> 197\u001b[1;33m     \u001b[0moutputs\u001b[0m \u001b[1;33m=\u001b[0m \u001b[0mself\u001b[0m\u001b[1;33m.\u001b[0m\u001b[0m_convolution_op\u001b[0m\u001b[1;33m(\u001b[0m\u001b[0minputs\u001b[0m\u001b[1;33m,\u001b[0m \u001b[0mself\u001b[0m\u001b[1;33m.\u001b[0m\u001b[0mkernel\u001b[0m\u001b[1;33m)\u001b[0m\u001b[1;33m\u001b[0m\u001b[1;33m\u001b[0m\u001b[0m\n\u001b[0m\u001b[0;32m    198\u001b[0m \u001b[1;33m\u001b[0m\u001b[0m\n\u001b[0;32m    199\u001b[0m     \u001b[1;32mif\u001b[0m \u001b[0mself\u001b[0m\u001b[1;33m.\u001b[0m\u001b[0muse_bias\u001b[0m\u001b[1;33m:\u001b[0m\u001b[1;33m\u001b[0m\u001b[1;33m\u001b[0m\u001b[0m\n",
      "\u001b[1;32mc:\\users\\visitor.slsi\\desktop\\ml\\mlenv\\lib\\site-packages\\tensorflow_core\\python\\ops\\nn_ops.py\u001b[0m in \u001b[0;36m__call__\u001b[1;34m(self, inp, filter)\u001b[0m\n\u001b[0;32m   1132\u001b[0m           call_from_convolution=False)\n\u001b[0;32m   1133\u001b[0m     \u001b[1;32melse\u001b[0m\u001b[1;33m:\u001b[0m\u001b[1;33m\u001b[0m\u001b[1;33m\u001b[0m\u001b[0m\n\u001b[1;32m-> 1134\u001b[1;33m       \u001b[1;32mreturn\u001b[0m \u001b[0mself\u001b[0m\u001b[1;33m.\u001b[0m\u001b[0mconv_op\u001b[0m\u001b[1;33m(\u001b[0m\u001b[0minp\u001b[0m\u001b[1;33m,\u001b[0m \u001b[0mfilter\u001b[0m\u001b[1;33m)\u001b[0m\u001b[1;33m\u001b[0m\u001b[1;33m\u001b[0m\u001b[0m\n\u001b[0m\u001b[0;32m   1135\u001b[0m     \u001b[1;31m# copybara:strip_end\u001b[0m\u001b[1;33m\u001b[0m\u001b[1;33m\u001b[0m\u001b[1;33m\u001b[0m\u001b[0m\n\u001b[0;32m   1136\u001b[0m     \u001b[1;31m# copybara:insert return self.conv_op(inp, filter)\u001b[0m\u001b[1;33m\u001b[0m\u001b[1;33m\u001b[0m\u001b[1;33m\u001b[0m\u001b[0m\n",
      "\u001b[1;32mc:\\users\\visitor.slsi\\desktop\\ml\\mlenv\\lib\\site-packages\\tensorflow_core\\python\\ops\\nn_ops.py\u001b[0m in \u001b[0;36m__call__\u001b[1;34m(self, inp, filter)\u001b[0m\n\u001b[0;32m    637\u001b[0m \u001b[1;33m\u001b[0m\u001b[0m\n\u001b[0;32m    638\u001b[0m   \u001b[1;32mdef\u001b[0m \u001b[0m__call__\u001b[0m\u001b[1;33m(\u001b[0m\u001b[0mself\u001b[0m\u001b[1;33m,\u001b[0m \u001b[0minp\u001b[0m\u001b[1;33m,\u001b[0m \u001b[0mfilter\u001b[0m\u001b[1;33m)\u001b[0m\u001b[1;33m:\u001b[0m  \u001b[1;31m# pylint: disable=redefined-builtin\u001b[0m\u001b[1;33m\u001b[0m\u001b[1;33m\u001b[0m\u001b[0m\n\u001b[1;32m--> 639\u001b[1;33m     \u001b[1;32mreturn\u001b[0m \u001b[0mself\u001b[0m\u001b[1;33m.\u001b[0m\u001b[0mcall\u001b[0m\u001b[1;33m(\u001b[0m\u001b[0minp\u001b[0m\u001b[1;33m,\u001b[0m \u001b[0mfilter\u001b[0m\u001b[1;33m)\u001b[0m\u001b[1;33m\u001b[0m\u001b[1;33m\u001b[0m\u001b[0m\n\u001b[0m\u001b[0;32m    640\u001b[0m \u001b[1;33m\u001b[0m\u001b[0m\n\u001b[0;32m    641\u001b[0m \u001b[1;33m\u001b[0m\u001b[0m\n",
      "\u001b[1;32mc:\\users\\visitor.slsi\\desktop\\ml\\mlenv\\lib\\site-packages\\tensorflow_core\\python\\ops\\nn_ops.py\u001b[0m in \u001b[0;36m__call__\u001b[1;34m(self, inp, filter)\u001b[0m\n\u001b[0;32m    236\u001b[0m         \u001b[0mpadding\u001b[0m\u001b[1;33m=\u001b[0m\u001b[0mself\u001b[0m\u001b[1;33m.\u001b[0m\u001b[0mpadding\u001b[0m\u001b[1;33m,\u001b[0m\u001b[1;33m\u001b[0m\u001b[1;33m\u001b[0m\u001b[0m\n\u001b[0;32m    237\u001b[0m         \u001b[0mdata_format\u001b[0m\u001b[1;33m=\u001b[0m\u001b[0mself\u001b[0m\u001b[1;33m.\u001b[0m\u001b[0mdata_format\u001b[0m\u001b[1;33m,\u001b[0m\u001b[1;33m\u001b[0m\u001b[1;33m\u001b[0m\u001b[0m\n\u001b[1;32m--> 238\u001b[1;33m         name=self.name)\n\u001b[0m\u001b[0;32m    239\u001b[0m \u001b[1;33m\u001b[0m\u001b[0m\n\u001b[0;32m    240\u001b[0m \u001b[1;33m\u001b[0m\u001b[0m\n",
      "\u001b[1;32mc:\\users\\visitor.slsi\\desktop\\ml\\mlenv\\lib\\site-packages\\tensorflow_core\\python\\ops\\nn_ops.py\u001b[0m in \u001b[0;36mconv2d\u001b[1;34m(input, filter, strides, padding, use_cudnn_on_gpu, data_format, dilations, name, filters)\u001b[0m\n\u001b[0;32m   2008\u001b[0m                            \u001b[0mdata_format\u001b[0m\u001b[1;33m=\u001b[0m\u001b[0mdata_format\u001b[0m\u001b[1;33m,\u001b[0m\u001b[1;33m\u001b[0m\u001b[1;33m\u001b[0m\u001b[0m\n\u001b[0;32m   2009\u001b[0m                            \u001b[0mdilations\u001b[0m\u001b[1;33m=\u001b[0m\u001b[0mdilations\u001b[0m\u001b[1;33m,\u001b[0m\u001b[1;33m\u001b[0m\u001b[1;33m\u001b[0m\u001b[0m\n\u001b[1;32m-> 2010\u001b[1;33m                            name=name)\n\u001b[0m\u001b[0;32m   2011\u001b[0m \u001b[1;33m\u001b[0m\u001b[0m\n\u001b[0;32m   2012\u001b[0m \u001b[1;33m\u001b[0m\u001b[0m\n",
      "\u001b[1;32mc:\\users\\visitor.slsi\\desktop\\ml\\mlenv\\lib\\site-packages\\tensorflow_core\\python\\ops\\gen_nn_ops.py\u001b[0m in \u001b[0;36mconv2d\u001b[1;34m(input, filter, strides, padding, use_cudnn_on_gpu, explicit_paddings, data_format, dilations, name)\u001b[0m\n\u001b[0;32m   1069\u001b[0m                   \u001b[0mpadding\u001b[0m\u001b[1;33m=\u001b[0m\u001b[0mpadding\u001b[0m\u001b[1;33m,\u001b[0m \u001b[0muse_cudnn_on_gpu\u001b[0m\u001b[1;33m=\u001b[0m\u001b[0muse_cudnn_on_gpu\u001b[0m\u001b[1;33m,\u001b[0m\u001b[1;33m\u001b[0m\u001b[1;33m\u001b[0m\u001b[0m\n\u001b[0;32m   1070\u001b[0m                   \u001b[0mexplicit_paddings\u001b[0m\u001b[1;33m=\u001b[0m\u001b[0mexplicit_paddings\u001b[0m\u001b[1;33m,\u001b[0m\u001b[1;33m\u001b[0m\u001b[1;33m\u001b[0m\u001b[0m\n\u001b[1;32m-> 1071\u001b[1;33m                   data_format=data_format, dilations=dilations, name=name)\n\u001b[0m\u001b[0;32m   1072\u001b[0m   \u001b[0m_result\u001b[0m \u001b[1;33m=\u001b[0m \u001b[0m_op\u001b[0m\u001b[1;33m.\u001b[0m\u001b[0moutputs\u001b[0m\u001b[1;33m[\u001b[0m\u001b[1;33m:\u001b[0m\u001b[1;33m]\u001b[0m\u001b[1;33m\u001b[0m\u001b[1;33m\u001b[0m\u001b[0m\n\u001b[0;32m   1073\u001b[0m   \u001b[0m_inputs_flat\u001b[0m \u001b[1;33m=\u001b[0m \u001b[0m_op\u001b[0m\u001b[1;33m.\u001b[0m\u001b[0minputs\u001b[0m\u001b[1;33m\u001b[0m\u001b[1;33m\u001b[0m\u001b[0m\n",
      "\u001b[1;32mc:\\users\\visitor.slsi\\desktop\\ml\\mlenv\\lib\\site-packages\\tensorflow_core\\python\\framework\\op_def_library.py\u001b[0m in \u001b[0;36m_apply_op_helper\u001b[1;34m(self, op_type_name, name, **keywords)\u001b[0m\n\u001b[0;32m    629\u001b[0m               _SatisfiesTypeConstraint(base_type,\n\u001b[0;32m    630\u001b[0m                                        \u001b[0m_Attr\u001b[0m\u001b[1;33m(\u001b[0m\u001b[0mop_def\u001b[0m\u001b[1;33m,\u001b[0m \u001b[0minput_arg\u001b[0m\u001b[1;33m.\u001b[0m\u001b[0mtype_attr\u001b[0m\u001b[1;33m)\u001b[0m\u001b[1;33m,\u001b[0m\u001b[1;33m\u001b[0m\u001b[1;33m\u001b[0m\u001b[0m\n\u001b[1;32m--> 631\u001b[1;33m                                        param_name=input_name)\n\u001b[0m\u001b[0;32m    632\u001b[0m             \u001b[0mattrs\u001b[0m\u001b[1;33m[\u001b[0m\u001b[0minput_arg\u001b[0m\u001b[1;33m.\u001b[0m\u001b[0mtype_attr\u001b[0m\u001b[1;33m]\u001b[0m \u001b[1;33m=\u001b[0m \u001b[0mattr_value\u001b[0m\u001b[1;33m\u001b[0m\u001b[1;33m\u001b[0m\u001b[0m\n\u001b[0;32m    633\u001b[0m             \u001b[0minferred_from\u001b[0m\u001b[1;33m[\u001b[0m\u001b[0minput_arg\u001b[0m\u001b[1;33m.\u001b[0m\u001b[0mtype_attr\u001b[0m\u001b[1;33m]\u001b[0m \u001b[1;33m=\u001b[0m \u001b[0minput_name\u001b[0m\u001b[1;33m\u001b[0m\u001b[1;33m\u001b[0m\u001b[0m\n",
      "\u001b[1;32mc:\\users\\visitor.slsi\\desktop\\ml\\mlenv\\lib\\site-packages\\tensorflow_core\\python\\framework\\op_def_library.py\u001b[0m in \u001b[0;36m_SatisfiesTypeConstraint\u001b[1;34m(dtype, attr_def, param_name)\u001b[0m\n\u001b[0;32m     58\u001b[0m           \u001b[1;34m\"allowed values: %s\"\u001b[0m \u001b[1;33m%\u001b[0m\u001b[1;33m\u001b[0m\u001b[1;33m\u001b[0m\u001b[0m\n\u001b[0;32m     59\u001b[0m           (param_name, dtypes.as_dtype(dtype).name,\n\u001b[1;32m---> 60\u001b[1;33m            \", \".join(dtypes.as_dtype(x).name for x in allowed_list)))\n\u001b[0m\u001b[0;32m     61\u001b[0m \u001b[1;33m\u001b[0m\u001b[0m\n\u001b[0;32m     62\u001b[0m \u001b[1;33m\u001b[0m\u001b[0m\n",
      "\u001b[1;31mTypeError\u001b[0m: Value passed to parameter 'input' has DataType uint8 not in list of allowed values: float16, bfloat16, float32, float64"
     ]
    }
   ],
   "source": [
    "predictions_2 = model.predict_classes(X_test)"
   ]
  },
  {
   "cell_type": "markdown",
   "metadata": {},
   "source": [
    "## arch 2 filter increase & delete layer"
   ]
  },
  {
   "cell_type": "code",
   "execution_count": 72,
   "metadata": {},
   "outputs": [],
   "source": [
    "model = Sequential()\n",
    "\n",
    "# 32,32\n",
    "model.add(Convolution2D(16,(3,3), activation='relu', input_shape=(32,32,3)))\n",
    "model.add(BatchNormalization())\n",
    "\n",
    "# 30,30\n",
    "model.add(Convolution2D(32,(3,3), activation='relu'))\n",
    "model.add(BatchNormalization())\n",
    "\n",
    "# 28,28\n",
    "model.add(MaxPooling2D(pool_size=(2,2)))\n",
    "\n",
    "# # 14,14\n",
    "model.add(Convolution2D(24,1, activation='relu'))\n",
    "\n",
    "# 14,14\n",
    "model.add(Convolution2D(32,(3,3), activation='relu'))\n",
    "model.add(BatchNormalization())\n",
    "\n",
    "# 12, 12\n",
    "model.add(MaxPooling2D(pool_size=(2,2)))\n",
    "\n",
    "model.add(Convolution2D(10, 6))\n",
    "\n",
    "model.add(Flatten())\n",
    "model.add(Activation('softmax'))\n",
    "\n",
    "# model.add(Dense(output_dim, input_dim=input_dim, activation='softmax'))"
   ]
  },
  {
   "cell_type": "code",
   "execution_count": 73,
   "metadata": {
    "scrolled": false
   },
   "outputs": [
    {
     "name": "stdout",
     "output_type": "stream",
     "text": [
      "Model: \"sequential_27\"\n",
      "_________________________________________________________________\n",
      "Layer (type)                 Output Shape              Param #   \n",
      "=================================================================\n",
      "conv2d_125 (Conv2D)          (None, 30, 30, 16)        448       \n",
      "_________________________________________________________________\n",
      "batch_normalization_66 (Batc (None, 30, 30, 16)        64        \n",
      "_________________________________________________________________\n",
      "conv2d_126 (Conv2D)          (None, 28, 28, 32)        4640      \n",
      "_________________________________________________________________\n",
      "batch_normalization_67 (Batc (None, 28, 28, 32)        128       \n",
      "_________________________________________________________________\n",
      "max_pooling2d_52 (MaxPooling (None, 14, 14, 32)        0         \n",
      "_________________________________________________________________\n",
      "conv2d_127 (Conv2D)          (None, 14, 14, 24)        792       \n",
      "_________________________________________________________________\n",
      "conv2d_128 (Conv2D)          (None, 12, 12, 32)        6944      \n",
      "_________________________________________________________________\n",
      "batch_normalization_68 (Batc (None, 12, 12, 32)        128       \n",
      "_________________________________________________________________\n",
      "max_pooling2d_53 (MaxPooling (None, 6, 6, 32)          0         \n",
      "_________________________________________________________________\n",
      "conv2d_129 (Conv2D)          (None, 1, 1, 10)          11530     \n",
      "_________________________________________________________________\n",
      "flatten_26 (Flatten)         (None, 10)                0         \n",
      "_________________________________________________________________\n",
      "activation_26 (Activation)   (None, 10)                0         \n",
      "=================================================================\n",
      "Total params: 24,674\n",
      "Trainable params: 24,514\n",
      "Non-trainable params: 160\n",
      "_________________________________________________________________\n"
     ]
    }
   ],
   "source": [
    "model.summary()"
   ]
  },
  {
   "cell_type": "code",
   "execution_count": 74,
   "metadata": {},
   "outputs": [],
   "source": [
    "model.compile(optimizer='sgd', loss='categorical_crossentropy', metrics=['accuracy'])"
   ]
  },
  {
   "cell_type": "code",
   "execution_count": 75,
   "metadata": {
    "scrolled": true
   },
   "outputs": [
    {
     "name": "stdout",
     "output_type": "stream",
     "text": [
      "Train on 50000 samples, validate on 10000 samples\n",
      "Epoch 1/100\n",
      "50000/50000 [==============================] - 29s 582us/sample - loss: 1.6377 - accuracy: 0.4258 - val_loss: 2.1831 - val_accuracy: 0.3763\n",
      "Epoch 2/100\n",
      "50000/50000 [==============================] - 28s 557us/sample - loss: 1.2788 - accuracy: 0.5474 - val_loss: 1.3359 - val_accuracy: 0.5382\n",
      "Epoch 3/100\n",
      "50000/50000 [==============================] - 28s 554us/sample - loss: 1.1501 - accuracy: 0.5980 - val_loss: 1.2536 - val_accuracy: 0.5752\n",
      "Epoch 4/100\n",
      "50000/50000 [==============================] - 28s 555us/sample - loss: 1.0601 - accuracy: 0.6306 - val_loss: 1.1161 - val_accuracy: 0.6076\n",
      "Epoch 5/100\n",
      "50000/50000 [==============================] - 28s 556us/sample - loss: 1.0002 - accuracy: 0.6530 - val_loss: 1.2638 - val_accuracy: 0.5651\n",
      "Epoch 6/100\n",
      "50000/50000 [==============================] - 28s 559us/sample - loss: 0.9553 - accuracy: 0.6711 - val_loss: 1.0909 - val_accuracy: 0.6206\n",
      "Epoch 7/100\n",
      "50000/50000 [==============================] - 28s 551us/sample - loss: 0.9215 - accuracy: 0.6844 - val_loss: 1.0192 - val_accuracy: 0.6465\n",
      "Epoch 8/100\n",
      "50000/50000 [==============================] - 28s 553us/sample - loss: 0.8912 - accuracy: 0.6939 - val_loss: 1.0274 - val_accuracy: 0.6438\n",
      "Epoch 9/100\n",
      "50000/50000 [==============================] - 28s 555us/sample - loss: 0.8645 - accuracy: 0.7033 - val_loss: 0.9986 - val_accuracy: 0.6556\n",
      "Epoch 10/100\n",
      "50000/50000 [==============================] - 28s 552us/sample - loss: 0.8428 - accuracy: 0.7108 - val_loss: 1.0595 - val_accuracy: 0.6369\n",
      "Epoch 11/100\n",
      "50000/50000 [==============================] - 28s 562us/sample - loss: 0.8240 - accuracy: 0.7165 - val_loss: 1.0222 - val_accuracy: 0.6499\n",
      "Epoch 12/100\n",
      "50000/50000 [==============================] - 28s 550us/sample - loss: 0.8024 - accuracy: 0.7244 - val_loss: 1.0180 - val_accuracy: 0.6535\n",
      "Epoch 13/100\n",
      "50000/50000 [==============================] - 28s 551us/sample - loss: 0.7852 - accuracy: 0.7299 - val_loss: 0.9579 - val_accuracy: 0.6729\n",
      "Epoch 14/100\n",
      "50000/50000 [==============================] - 28s 555us/sample - loss: 0.7721 - accuracy: 0.7339 - val_loss: 1.0183 - val_accuracy: 0.6540\n",
      "Epoch 15/100\n",
      "50000/50000 [==============================] - 29s 571us/sample - loss: 0.7535 - accuracy: 0.7405 - val_loss: 0.9524 - val_accuracy: 0.6676\n",
      "Epoch 16/100\n",
      "50000/50000 [==============================] - 27s 549us/sample - loss: 0.7398 - accuracy: 0.7450 - val_loss: 0.9317 - val_accuracy: 0.6844\n",
      "Epoch 17/100\n",
      "50000/50000 [==============================] - 28s 550us/sample - loss: 0.7284 - accuracy: 0.7481 - val_loss: 0.9722 - val_accuracy: 0.6766\n",
      "Epoch 18/100\n",
      "50000/50000 [==============================] - 28s 556us/sample - loss: 0.7151 - accuracy: 0.7528 - val_loss: 0.9364 - val_accuracy: 0.6795\n",
      "Epoch 19/100\n",
      "50000/50000 [==============================] - 28s 552us/sample - loss: 0.7025 - accuracy: 0.7590 - val_loss: 0.9659 - val_accuracy: 0.6681\n",
      "Epoch 20/100\n",
      "50000/50000 [==============================] - 28s 553us/sample - loss: 0.6930 - accuracy: 0.7618 - val_loss: 0.9351 - val_accuracy: 0.6828\n",
      "Epoch 21/100\n",
      "50000/50000 [==============================] - 28s 553us/sample - loss: 0.6852 - accuracy: 0.7643 - val_loss: 0.9291 - val_accuracy: 0.6900\n",
      "Epoch 22/100\n",
      "50000/50000 [==============================] - 28s 556us/sample - loss: 0.6713 - accuracy: 0.7697 - val_loss: 0.9175 - val_accuracy: 0.6863\n",
      "Epoch 23/100\n",
      "50000/50000 [==============================] - 28s 565us/sample - loss: 0.6641 - accuracy: 0.7714 - val_loss: 0.9541 - val_accuracy: 0.6729\n",
      "Epoch 24/100\n",
      "50000/50000 [==============================] - 28s 551us/sample - loss: 0.6570 - accuracy: 0.7737 - val_loss: 0.9345 - val_accuracy: 0.6884\n",
      "Epoch 25/100\n",
      "50000/50000 [==============================] - 27s 549us/sample - loss: 0.6466 - accuracy: 0.7759 - val_loss: 0.9628 - val_accuracy: 0.6824\n",
      "Epoch 26/100\n",
      "50000/50000 [==============================] - 28s 552us/sample - loss: 0.6382 - accuracy: 0.7799 - val_loss: 0.9635 - val_accuracy: 0.6813\n",
      "Epoch 27/100\n",
      "50000/50000 [==============================] - 27s 550us/sample - loss: 0.6319 - accuracy: 0.7830 - val_loss: 0.9286 - val_accuracy: 0.6899\n",
      "Epoch 28/100\n",
      "50000/50000 [==============================] - 28s 550us/sample - loss: 0.6228 - accuracy: 0.7848 - val_loss: 0.9301 - val_accuracy: 0.6947\n",
      "Epoch 29/100\n",
      "50000/50000 [==============================] - 28s 551us/sample - loss: 0.6169 - accuracy: 0.7868 - val_loss: 0.9911 - val_accuracy: 0.6664\n",
      "Epoch 30/100\n",
      "50000/50000 [==============================] - 28s 550us/sample - loss: 0.6073 - accuracy: 0.7895 - val_loss: 0.9830 - val_accuracy: 0.6729\n",
      "Epoch 31/100\n",
      "50000/50000 [==============================] - 28s 551us/sample - loss: 0.6018 - accuracy: 0.7907 - val_loss: 0.9313 - val_accuracy: 0.6966\n",
      "Epoch 32/100\n",
      "50000/50000 [==============================] - 28s 551us/sample - loss: 0.5935 - accuracy: 0.7972 - val_loss: 1.0135 - val_accuracy: 0.6691\n",
      "Epoch 33/100\n",
      "50000/50000 [==============================] - 27s 548us/sample - loss: 0.5864 - accuracy: 0.7977 - val_loss: 0.9609 - val_accuracy: 0.6907\n",
      "Epoch 34/100\n",
      "50000/50000 [==============================] - 28s 554us/sample - loss: 0.5832 - accuracy: 0.7962 - val_loss: 0.9632 - val_accuracy: 0.6864\n",
      "Epoch 35/100\n",
      "50000/50000 [==============================] - 28s 555us/sample - loss: 0.5773 - accuracy: 0.7991 - val_loss: 0.9818 - val_accuracy: 0.6831\n",
      "Epoch 36/100\n",
      "50000/50000 [==============================] - 28s 551us/sample - loss: 0.5708 - accuracy: 0.8017 - val_loss: 0.9663 - val_accuracy: 0.6956\n",
      "Epoch 37/100\n",
      "50000/50000 [==============================] - 28s 552us/sample - loss: 0.5623 - accuracy: 0.8052 - val_loss: 1.0023 - val_accuracy: 0.6753\n",
      "Epoch 38/100\n",
      "50000/50000 [==============================] - 28s 550us/sample - loss: 0.5622 - accuracy: 0.8059 - val_loss: 0.9627 - val_accuracy: 0.6820\n",
      "Epoch 39/100\n",
      "50000/50000 [==============================] - 28s 554us/sample - loss: 0.5529 - accuracy: 0.8079 - val_loss: 1.0452 - val_accuracy: 0.6662\n",
      "Epoch 40/100\n",
      "50000/50000 [==============================] - 27s 545us/sample - loss: 0.5493 - accuracy: 0.8085 - val_loss: 0.9692 - val_accuracy: 0.6952\n",
      "Epoch 41/100\n",
      "50000/50000 [==============================] - 27s 550us/sample - loss: 0.5439 - accuracy: 0.8115 - val_loss: 1.0626 - val_accuracy: 0.6723\n",
      "Epoch 42/100\n",
      "50000/50000 [==============================] - 28s 550us/sample - loss: 0.5372 - accuracy: 0.8125 - val_loss: 0.9104 - val_accuracy: 0.7088\n",
      "Epoch 43/100\n",
      "50000/50000 [==============================] - 28s 557us/sample - loss: 0.5344 - accuracy: 0.8151 - val_loss: 0.9331 - val_accuracy: 0.6979\n",
      "Epoch 44/100\n",
      "50000/50000 [==============================] - 28s 555us/sample - loss: 0.5298 - accuracy: 0.8152 - val_loss: 1.0189 - val_accuracy: 0.6782\n",
      "Epoch 45/100\n",
      "50000/50000 [==============================] - 27s 550us/sample - loss: 0.5248 - accuracy: 0.8169 - val_loss: 0.9807 - val_accuracy: 0.6909\n",
      "Epoch 46/100\n",
      "50000/50000 [==============================] - 28s 553us/sample - loss: 0.5199 - accuracy: 0.8178 - val_loss: 0.9658 - val_accuracy: 0.7011\n",
      "Epoch 47/100\n",
      "50000/50000 [==============================] - 28s 553us/sample - loss: 0.5167 - accuracy: 0.8193 - val_loss: 0.9620 - val_accuracy: 0.6992\n",
      "Epoch 48/100\n",
      "50000/50000 [==============================] - 27s 549us/sample - loss: 0.5109 - accuracy: 0.8218 - val_loss: 0.9509 - val_accuracy: 0.7013\n",
      "Epoch 49/100\n",
      "50000/50000 [==============================] - 27s 548us/sample - loss: 0.5062 - accuracy: 0.8245 - val_loss: 0.9900 - val_accuracy: 0.6933\n",
      "Epoch 50/100\n",
      "50000/50000 [==============================] - 27s 549us/sample - loss: 0.5015 - accuracy: 0.8240 - val_loss: 1.0091 - val_accuracy: 0.6928\n",
      "Epoch 51/100\n",
      "50000/50000 [==============================] - 27s 550us/sample - loss: 0.4987 - accuracy: 0.8256 - val_loss: 1.0403 - val_accuracy: 0.6851\n",
      "Epoch 52/100\n",
      "50000/50000 [==============================] - 28s 551us/sample - loss: 0.4946 - accuracy: 0.8270 - val_loss: 1.0235 - val_accuracy: 0.6907\n",
      "Epoch 53/100\n",
      "50000/50000 [==============================] - 27s 546us/sample - loss: 0.4929 - accuracy: 0.8281 - val_loss: 0.9879 - val_accuracy: 0.6940\n",
      "Epoch 54/100\n"
     ]
    },
    {
     "name": "stdout",
     "output_type": "stream",
     "text": [
      "50000/50000 [==============================] - 28s 552us/sample - loss: 0.4863 - accuracy: 0.8300 - val_loss: 1.0313 - val_accuracy: 0.6914\n",
      "Epoch 55/100\n",
      "50000/50000 [==============================] - 28s 552us/sample - loss: 0.4841 - accuracy: 0.8324 - val_loss: 0.9562 - val_accuracy: 0.7050\n",
      "Epoch 56/100\n",
      "50000/50000 [==============================] - 28s 550us/sample - loss: 0.4795 - accuracy: 0.8333 - val_loss: 0.9730 - val_accuracy: 0.7026\n",
      "Epoch 57/100\n",
      "50000/50000 [==============================] - 28s 552us/sample - loss: 0.4772 - accuracy: 0.8336 - val_loss: 1.0617 - val_accuracy: 0.6764\n",
      "Epoch 58/100\n",
      "50000/50000 [==============================] - 28s 550us/sample - loss: 0.4740 - accuracy: 0.8346 - val_loss: 1.0237 - val_accuracy: 0.6959\n",
      "Epoch 59/100\n",
      "50000/50000 [==============================] - 28s 551us/sample - loss: 0.4723 - accuracy: 0.8344 - val_loss: 1.0311 - val_accuracy: 0.6964\n",
      "Epoch 60/100\n",
      "50000/50000 [==============================] - 27s 547us/sample - loss: 0.4671 - accuracy: 0.8376 - val_loss: 1.0369 - val_accuracy: 0.6902\n",
      "Epoch 61/100\n",
      "50000/50000 [==============================] - 28s 552us/sample - loss: 0.4643 - accuracy: 0.8354 - val_loss: 1.0087 - val_accuracy: 0.7027\n",
      "Epoch 62/100\n",
      "50000/50000 [==============================] - 27s 547us/sample - loss: 0.4624 - accuracy: 0.8388 - val_loss: 1.0776 - val_accuracy: 0.6815\n",
      "Epoch 63/100\n",
      "50000/50000 [==============================] - 28s 550us/sample - loss: 0.4601 - accuracy: 0.8400 - val_loss: 1.0885 - val_accuracy: 0.6814\n",
      "Epoch 64/100\n",
      "50000/50000 [==============================] - 27s 548us/sample - loss: 0.4553 - accuracy: 0.8414 - val_loss: 1.0469 - val_accuracy: 0.6940\n",
      "Epoch 65/100\n",
      "50000/50000 [==============================] - 28s 552us/sample - loss: 0.4520 - accuracy: 0.8422 - val_loss: 1.1388 - val_accuracy: 0.6661\n",
      "Epoch 66/100\n",
      "50000/50000 [==============================] - 28s 554us/sample - loss: 0.4498 - accuracy: 0.8438 - val_loss: 1.0268 - val_accuracy: 0.6987\n",
      "Epoch 67/100\n",
      "50000/50000 [==============================] - 28s 560us/sample - loss: 0.4461 - accuracy: 0.8442 - val_loss: 1.1107 - val_accuracy: 0.6850\n",
      "Epoch 68/100\n",
      "50000/50000 [==============================] - 27s 548us/sample - loss: 0.4432 - accuracy: 0.8445 - val_loss: 1.1138 - val_accuracy: 0.6901\n",
      "Epoch 69/100\n",
      "50000/50000 [==============================] - 27s 547us/sample - loss: 0.4403 - accuracy: 0.8462 - val_loss: 1.1727 - val_accuracy: 0.6724\n",
      "Epoch 70/100\n",
      "50000/50000 [==============================] - 28s 550us/sample - loss: 0.4386 - accuracy: 0.8455 - val_loss: 1.0965 - val_accuracy: 0.6854\n",
      "Epoch 71/100\n",
      "50000/50000 [==============================] - 27s 550us/sample - loss: 0.4348 - accuracy: 0.8482 - val_loss: 1.1400 - val_accuracy: 0.6716\n",
      "Epoch 72/100\n",
      "50000/50000 [==============================] - 27s 549us/sample - loss: 0.4367 - accuracy: 0.8465 - val_loss: 1.0721 - val_accuracy: 0.6956\n",
      "Epoch 73/100\n",
      "50000/50000 [==============================] - 27s 548us/sample - loss: 0.4278 - accuracy: 0.8501 - val_loss: 1.0685 - val_accuracy: 0.6926\n",
      "Epoch 74/100\n",
      "50000/50000 [==============================] - 27s 549us/sample - loss: 0.4279 - accuracy: 0.8503 - val_loss: 1.0628 - val_accuracy: 0.6958\n",
      "Epoch 75/100\n",
      "50000/50000 [==============================] - 27s 549us/sample - loss: 0.4245 - accuracy: 0.8516 - val_loss: 1.1397 - val_accuracy: 0.6843\n",
      "Epoch 76/100\n",
      "50000/50000 [==============================] - 28s 551us/sample - loss: 0.4247 - accuracy: 0.8508 - val_loss: 1.1958 - val_accuracy: 0.6733\n",
      "Epoch 77/100\n",
      "50000/50000 [==============================] - 27s 549us/sample - loss: 0.4187 - accuracy: 0.8540 - val_loss: 1.1615 - val_accuracy: 0.6782\n",
      "Epoch 78/100\n",
      "50000/50000 [==============================] - 28s 551us/sample - loss: 0.4155 - accuracy: 0.8541 - val_loss: 1.1377 - val_accuracy: 0.6865\n",
      "Epoch 79/100\n",
      "50000/50000 [==============================] - 27s 550us/sample - loss: 0.4142 - accuracy: 0.8535 - val_loss: 1.1464 - val_accuracy: 0.6773\n",
      "Epoch 80/100\n",
      "50000/50000 [==============================] - 27s 549us/sample - loss: 0.4145 - accuracy: 0.8537 - val_loss: 1.1662 - val_accuracy: 0.6770\n",
      "Epoch 81/100\n",
      "50000/50000 [==============================] - 28s 552us/sample - loss: 0.4091 - accuracy: 0.8559 - val_loss: 1.1278 - val_accuracy: 0.6874\n",
      "Epoch 82/100\n",
      "50000/50000 [==============================] - 28s 551us/sample - loss: 0.4085 - accuracy: 0.8567 - val_loss: 1.1102 - val_accuracy: 0.6910\n",
      "Epoch 83/100\n",
      "50000/50000 [==============================] - 28s 552us/sample - loss: 0.4046 - accuracy: 0.8595 - val_loss: 1.0905 - val_accuracy: 0.6942\n",
      "Epoch 84/100\n",
      "50000/50000 [==============================] - 27s 548us/sample - loss: 0.4046 - accuracy: 0.8581 - val_loss: 1.1217 - val_accuracy: 0.6937\n",
      "Epoch 85/100\n",
      "50000/50000 [==============================] - 28s 552us/sample - loss: 0.4034 - accuracy: 0.8579 - val_loss: 1.1281 - val_accuracy: 0.6807\n",
      "Epoch 86/100\n",
      "50000/50000 [==============================] - 28s 552us/sample - loss: 0.3993 - accuracy: 0.8599 - val_loss: 1.1572 - val_accuracy: 0.6860\n",
      "Epoch 87/100\n",
      "50000/50000 [==============================] - 28s 551us/sample - loss: 0.3973 - accuracy: 0.8600 - val_loss: 1.1352 - val_accuracy: 0.6897\n",
      "Epoch 88/100\n",
      "50000/50000 [==============================] - 28s 554us/sample - loss: 0.3988 - accuracy: 0.8617 - val_loss: 1.1911 - val_accuracy: 0.6827\n",
      "Epoch 89/100\n",
      "50000/50000 [==============================] - 27s 549us/sample - loss: 0.3944 - accuracy: 0.8614 - val_loss: 1.1983 - val_accuracy: 0.6788\n",
      "Epoch 90/100\n",
      "50000/50000 [==============================] - 27s 550us/sample - loss: 0.3944 - accuracy: 0.8612 - val_loss: 1.1330 - val_accuracy: 0.6931\n",
      "Epoch 91/100\n",
      "50000/50000 [==============================] - 27s 550us/sample - loss: 0.3876 - accuracy: 0.8638 - val_loss: 1.1540 - val_accuracy: 0.6888\n",
      "Epoch 92/100\n",
      "50000/50000 [==============================] - 28s 550us/sample - loss: 0.3879 - accuracy: 0.8640 - val_loss: 1.1540 - val_accuracy: 0.6925\n",
      "Epoch 93/100\n",
      "50000/50000 [==============================] - 27s 547us/sample - loss: 0.3854 - accuracy: 0.8652 - val_loss: 1.2238 - val_accuracy: 0.6758\n",
      "Epoch 94/100\n",
      "50000/50000 [==============================] - 27s 550us/sample - loss: 0.3835 - accuracy: 0.8649 - val_loss: 1.2136 - val_accuracy: 0.6843\n",
      "Epoch 95/100\n",
      "50000/50000 [==============================] - 28s 551us/sample - loss: 0.3781 - accuracy: 0.8677 - val_loss: 1.2062 - val_accuracy: 0.6764\n",
      "Epoch 96/100\n",
      "50000/50000 [==============================] - 28s 551us/sample - loss: 0.3825 - accuracy: 0.8660 - val_loss: 1.2385 - val_accuracy: 0.6767\n",
      "Epoch 97/100\n",
      "50000/50000 [==============================] - 28s 552us/sample - loss: 0.3784 - accuracy: 0.8664 - val_loss: 1.3115 - val_accuracy: 0.6675\n",
      "Epoch 98/100\n",
      "50000/50000 [==============================] - 27s 549us/sample - loss: 0.3757 - accuracy: 0.8674 - val_loss: 1.2213 - val_accuracy: 0.6837\n",
      "Epoch 99/100\n",
      "50000/50000 [==============================] - 27s 548us/sample - loss: 0.3739 - accuracy: 0.8689 - val_loss: 1.1872 - val_accuracy: 0.6881\n",
      "Epoch 100/100\n",
      "50000/50000 [==============================] - 27s 549us/sample - loss: 0.3713 - accuracy: 0.8690 - val_loss: 1.2583 - val_accuracy: 0.6781\n",
      "Test error: 1.2582519975662232\n",
      "Test accuracy: 0.6781\n"
     ]
    }
   ],
   "source": [
    "batch_size=128\n",
    "epochs=100\n",
    "history = model.fit(X_train, Y_train,\n",
    "                    batch_size=batch_size, epochs=epochs,\n",
    "                    verbose=1, validation_data=(X_test, Y_test))\n",
    "score = model.evaluate(X_test, Y_test, verbose=0) \n",
    "print('Test error:', score[0]) \n",
    "print('Test accuracy:', score[1])"
   ]
  },
  {
   "cell_type": "code",
   "execution_count": 76,
   "metadata": {
    "scrolled": true
   },
   "outputs": [
    {
     "data": {
      "image/png": "[encoded data removed]",
      "text/plain": [
       "<Figure size 432x288 with 1 Axes>"
      ]
     },
     "metadata": {
      "needs_background": "light"
     },
     "output_type": "display_data"
    }
   ],
   "source": [
    "\n",
    "plt.plot(history.history['accuracy'],'r')\n",
    "plt.plot(history.history['val_accuracy'],'b')\n",
    "plt.legend({'training accuracy':'r', 'validation accuracy': 'b'})\n",
    "plt.show()"
   ]
  },
  {
   "cell_type": "code",
   "execution_count": 77,
   "metadata": {},
   "outputs": [
    {
     "data": {
      "image/png": "[encoded data removed]",
      "text/plain": [
       "<Figure size 432x288 with 1 Axes>"
      ]
     },
     "metadata": {
      "needs_background": "light"
     },
     "output_type": "display_data"
    }
   ],
   "source": [
    "plt.plot(history.history['loss'],'r')\n",
    "plt.plot(history.history['val_loss'],'b')\n",
    "plt.legend({'training loss':'r', 'validation loss': 'b'})\n",
    "plt.show()"
   ]
  },
  {
   "cell_type": "code",
   "execution_count": null,
   "metadata": {},
   "outputs": [],
   "source": [
    "predictions_3 = model.predict_classes(X_test)"
   ]
  },
  {
   "cell_type": "markdown",
   "metadata": {},
   "source": [
    "## arch filter increase & delete layer & padding"
   ]
  },
  {
   "cell_type": "code",
   "execution_count": 78,
   "metadata": {},
   "outputs": [],
   "source": [
    "model = Sequential()\n",
    "\n",
    "# 32,32\n",
    "model.add(Convolution2D(16,(3,3), activation='relu', input_shape=(32,32,3), padding='same'))\n",
    "model.add(BatchNormalization())\n",
    "\n",
    "# 30,30\n",
    "model.add(Convolution2D(32,(3,3), activation='relu'))\n",
    "model.add(BatchNormalization())\n",
    "\n",
    "# 28,28\n",
    "model.add(MaxPooling2D(pool_size=(2,2)))\n",
    "\n",
    "# # 14,14\n",
    "model.add(Convolution2D(16,1, activation='relu'))\n",
    "\n",
    "# 12, 12\n",
    "model.add(MaxPooling2D(pool_size=(2,2)))\n",
    "\n",
    "model.add(Convolution2D(10, 7))\n",
    "\n",
    "model.add(Flatten())\n",
    "model.add(Activation('softmax'))\n",
    "\n",
    "# model.add(Dense(output_dim, input_dim=input_dim, activation='softmax'))"
   ]
  },
  {
   "cell_type": "code",
   "execution_count": 79,
   "metadata": {
    "scrolled": false
   },
   "outputs": [
    {
     "name": "stdout",
     "output_type": "stream",
     "text": [
      "Model: \"sequential_28\"\n",
      "_________________________________________________________________\n",
      "Layer (type)                 Output Shape              Param #   \n",
      "=================================================================\n",
      "conv2d_130 (Conv2D)          (None, 32, 32, 16)        448       \n",
      "_________________________________________________________________\n",
      "batch_normalization_69 (Batc (None, 32, 32, 16)        64        \n",
      "_________________________________________________________________\n",
      "conv2d_131 (Conv2D)          (None, 30, 30, 32)        4640      \n",
      "_________________________________________________________________\n",
      "batch_normalization_70 (Batc (None, 30, 30, 32)        128       \n",
      "_________________________________________________________________\n",
      "max_pooling2d_54 (MaxPooling (None, 15, 15, 32)        0         \n",
      "_________________________________________________________________\n",
      "conv2d_132 (Conv2D)          (None, 15, 15, 16)        528       \n",
      "_________________________________________________________________\n",
      "max_pooling2d_55 (MaxPooling (None, 7, 7, 16)          0         \n",
      "_________________________________________________________________\n",
      "conv2d_133 (Conv2D)          (None, 1, 1, 10)          7850      \n",
      "_________________________________________________________________\n",
      "flatten_27 (Flatten)         (None, 10)                0         \n",
      "_________________________________________________________________\n",
      "activation_27 (Activation)   (None, 10)                0         \n",
      "=================================================================\n",
      "Total params: 13,658\n",
      "Trainable params: 13,562\n",
      "Non-trainable params: 96\n",
      "_________________________________________________________________\n"
     ]
    }
   ],
   "source": [
    "model.summary()"
   ]
  },
  {
   "cell_type": "code",
   "execution_count": 80,
   "metadata": {},
   "outputs": [],
   "source": [
    "model.compile(optimizer='sgd', loss='categorical_crossentropy', metrics=['accuracy'])"
   ]
  },
  {
   "cell_type": "code",
   "execution_count": 81,
   "metadata": {
    "scrolled": false
   },
   "outputs": [
    {
     "name": "stdout",
     "output_type": "stream",
     "text": [
      "Train on 50000 samples, validate on 10000 samples\n",
      "Epoch 1/100\n",
      "50000/50000 [==============================] - 29s 573us/sample - loss: 1.7017 - accuracy: 0.3973 - val_loss: 1.5546 - val_accuracy: 0.4423\n",
      "Epoch 2/100\n",
      "50000/50000 [==============================] - 26s 525us/sample - loss: 1.3726 - accuracy: 0.5119 - val_loss: 1.4871 - val_accuracy: 0.4862\n",
      "Epoch 3/100\n",
      "50000/50000 [==============================] - 26s 525us/sample - loss: 1.2405 - accuracy: 0.5630 - val_loss: 1.3448 - val_accuracy: 0.5301\n",
      "Epoch 4/100\n",
      "50000/50000 [==============================] - 26s 523us/sample - loss: 1.1589 - accuracy: 0.5937 - val_loss: 1.1739 - val_accuracy: 0.5931\n",
      "Epoch 5/100\n",
      "50000/50000 [==============================] - 26s 524us/sample - loss: 1.1017 - accuracy: 0.6162 - val_loss: 1.2296 - val_accuracy: 0.5723\n",
      "Epoch 6/100\n",
      "50000/50000 [==============================] - 26s 523us/sample - loss: 1.0590 - accuracy: 0.6325 - val_loss: 1.1249 - val_accuracy: 0.6064\n",
      "Epoch 7/100\n",
      "50000/50000 [==============================] - 26s 524us/sample - loss: 1.0275 - accuracy: 0.6422 - val_loss: 1.1060 - val_accuracy: 0.6137\n",
      "Epoch 8/100\n",
      "50000/50000 [==============================] - 26s 520us/sample - loss: 1.0040 - accuracy: 0.6518 - val_loss: 1.0526 - val_accuracy: 0.6328\n",
      "Epoch 9/100\n",
      "50000/50000 [==============================] - 26s 522us/sample - loss: 0.9809 - accuracy: 0.6599 - val_loss: 1.1275 - val_accuracy: 0.6074\n",
      "Epoch 10/100\n",
      "50000/50000 [==============================] - 26s 529us/sample - loss: 0.9626 - accuracy: 0.6669 - val_loss: 1.1208 - val_accuracy: 0.6024\n",
      "Epoch 11/100\n",
      "50000/50000 [==============================] - 27s 534us/sample - loss: 0.9482 - accuracy: 0.6728 - val_loss: 1.1157 - val_accuracy: 0.6120\n",
      "Epoch 12/100\n",
      "50000/50000 [==============================] - 26s 525us/sample - loss: 0.9295 - accuracy: 0.6789 - val_loss: 1.1539 - val_accuracy: 0.6124\n",
      "Epoch 13/100\n",
      "50000/50000 [==============================] - 26s 523us/sample - loss: 0.9186 - accuracy: 0.6833 - val_loss: 1.0326 - val_accuracy: 0.6382\n",
      "Epoch 14/100\n",
      "50000/50000 [==============================] - 26s 528us/sample - loss: 0.9080 - accuracy: 0.6871 - val_loss: 1.0384 - val_accuracy: 0.6381\n",
      "Epoch 15/100\n",
      "50000/50000 [==============================] - 26s 521us/sample - loss: 0.8984 - accuracy: 0.6907 - val_loss: 1.0586 - val_accuracy: 0.6381\n",
      "Epoch 16/100\n",
      "50000/50000 [==============================] - 27s 532us/sample - loss: 0.8857 - accuracy: 0.6955 - val_loss: 1.0319 - val_accuracy: 0.6428\n",
      "Epoch 17/100\n",
      "50000/50000 [==============================] - 26s 519us/sample - loss: 0.8777 - accuracy: 0.6961 - val_loss: 1.0114 - val_accuracy: 0.6492\n",
      "Epoch 18/100\n",
      "50000/50000 [==============================] - 26s 527us/sample - loss: 0.8685 - accuracy: 0.6993 - val_loss: 1.1235 - val_accuracy: 0.6273\n",
      "Epoch 19/100\n",
      "50000/50000 [==============================] - 26s 527us/sample - loss: 0.8633 - accuracy: 0.7034 - val_loss: 1.1035 - val_accuracy: 0.6225\n",
      "Epoch 20/100\n",
      "50000/50000 [==============================] - 26s 524us/sample - loss: 0.8539 - accuracy: 0.7054 - val_loss: 1.0919 - val_accuracy: 0.6236\n",
      "Epoch 21/100\n",
      "50000/50000 [==============================] - 26s 522us/sample - loss: 0.8488 - accuracy: 0.7082 - val_loss: 1.0113 - val_accuracy: 0.6497\n",
      "Epoch 22/100\n",
      "50000/50000 [==============================] - 26s 521us/sample - loss: 0.8412 - accuracy: 0.7101 - val_loss: 1.1056 - val_accuracy: 0.6226\n",
      "Epoch 23/100\n",
      "50000/50000 [==============================] - 26s 521us/sample - loss: 0.8357 - accuracy: 0.7102 - val_loss: 1.0150 - val_accuracy: 0.6544\n",
      "Epoch 24/100\n",
      "50000/50000 [==============================] - 26s 524us/sample - loss: 0.8290 - accuracy: 0.7144 - val_loss: 0.9705 - val_accuracy: 0.6704\n",
      "Epoch 25/100\n",
      "50000/50000 [==============================] - 26s 525us/sample - loss: 0.8251 - accuracy: 0.7164 - val_loss: 0.9654 - val_accuracy: 0.6675\n",
      "Epoch 26/100\n",
      "50000/50000 [==============================] - 26s 525us/sample - loss: 0.8201 - accuracy: 0.7175 - val_loss: 0.9692 - val_accuracy: 0.6683\n",
      "Epoch 27/100\n",
      "50000/50000 [==============================] - 27s 534us/sample - loss: 0.8152 - accuracy: 0.7195 - val_loss: 0.9493 - val_accuracy: 0.6747\n",
      "Epoch 28/100\n",
      "50000/50000 [==============================] - 26s 527us/sample - loss: 0.8083 - accuracy: 0.7208 - val_loss: 0.9937 - val_accuracy: 0.6569\n",
      "Epoch 29/100\n",
      "50000/50000 [==============================] - 26s 522us/sample - loss: 0.8056 - accuracy: 0.7222 - val_loss: 0.9672 - val_accuracy: 0.6693\n",
      "Epoch 30/100\n",
      "50000/50000 [==============================] - 26s 522us/sample - loss: 0.8005 - accuracy: 0.7242 - val_loss: 0.9496 - val_accuracy: 0.6766\n",
      "Epoch 31/100\n",
      "50000/50000 [==============================] - 26s 521us/sample - loss: 0.7966 - accuracy: 0.7249 - val_loss: 1.0401 - val_accuracy: 0.6401\n",
      "Epoch 32/100\n",
      "50000/50000 [==============================] - 26s 527us/sample - loss: 0.7935 - accuracy: 0.7260 - val_loss: 0.9829 - val_accuracy: 0.6696\n",
      "Epoch 33/100\n",
      "50000/50000 [==============================] - 26s 522us/sample - loss: 0.7900 - accuracy: 0.7279 - val_loss: 0.9525 - val_accuracy: 0.6794\n",
      "Epoch 34/100\n",
      "50000/50000 [==============================] - 26s 522us/sample - loss: 0.7854 - accuracy: 0.7293 - val_loss: 0.9493 - val_accuracy: 0.6790\n",
      "Epoch 35/100\n",
      "50000/50000 [==============================] - 26s 521us/sample - loss: 0.7809 - accuracy: 0.7309 - val_loss: 1.0421 - val_accuracy: 0.6457\n",
      "Epoch 36/100\n",
      "50000/50000 [==============================] - 26s 522us/sample - loss: 0.7788 - accuracy: 0.7317 - val_loss: 0.9303 - val_accuracy: 0.6776\n",
      "Epoch 37/100\n",
      "50000/50000 [==============================] - 26s 522us/sample - loss: 0.7768 - accuracy: 0.7321 - val_loss: 0.9403 - val_accuracy: 0.6811\n",
      "Epoch 38/100\n",
      "50000/50000 [==============================] - 26s 523us/sample - loss: 0.7706 - accuracy: 0.7339 - val_loss: 0.9650 - val_accuracy: 0.6748\n",
      "Epoch 39/100\n",
      "50000/50000 [==============================] - 26s 525us/sample - loss: 0.7700 - accuracy: 0.7326 - val_loss: 0.9409 - val_accuracy: 0.6748\n",
      "Epoch 40/100\n",
      "50000/50000 [==============================] - 26s 523us/sample - loss: 0.7642 - accuracy: 0.7359 - val_loss: 0.9848 - val_accuracy: 0.6608\n",
      "Epoch 41/100\n",
      "50000/50000 [==============================] - 26s 523us/sample - loss: 0.7632 - accuracy: 0.7350 - val_loss: 0.9499 - val_accuracy: 0.6777\n",
      "Epoch 42/100\n",
      "50000/50000 [==============================] - 26s 521us/sample - loss: 0.7603 - accuracy: 0.7383 - val_loss: 0.9289 - val_accuracy: 0.6876\n",
      "Epoch 43/100\n",
      "50000/50000 [==============================] - 26s 522us/sample - loss: 0.7572 - accuracy: 0.7382 - val_loss: 0.9505 - val_accuracy: 0.6776\n",
      "Epoch 44/100\n",
      "50000/50000 [==============================] - 26s 520us/sample - loss: 0.7560 - accuracy: 0.7378 - val_loss: 0.9487 - val_accuracy: 0.6748\n",
      "Epoch 45/100\n",
      "50000/50000 [==============================] - 26s 522us/sample - loss: 0.7527 - accuracy: 0.7395 - val_loss: 1.0288 - val_accuracy: 0.6508\n",
      "Epoch 46/100\n",
      "50000/50000 [==============================] - 40s 793us/sample - loss: 0.7510 - accuracy: 0.7409 - val_loss: 0.9998 - val_accuracy: 0.6612\n",
      "Epoch 47/100\n",
      "50000/50000 [==============================] - 78s 2ms/sample - loss: 0.7472 - accuracy: 0.7418 - val_loss: 0.9824 - val_accuracy: 0.6670\n",
      "Epoch 48/100\n",
      "50000/50000 [==============================] - 26s 522us/sample - loss: 0.7446 - accuracy: 0.7425 - val_loss: 0.9976 - val_accuracy: 0.6629\n",
      "Epoch 49/100\n",
      "50000/50000 [==============================] - 26s 529us/sample - loss: 0.7451 - accuracy: 0.7427 - val_loss: 0.9732 - val_accuracy: 0.6682\n",
      "Epoch 50/100\n",
      "50000/50000 [==============================] - 26s 524us/sample - loss: 0.7415 - accuracy: 0.7433 - val_loss: 0.9637 - val_accuracy: 0.6695\n",
      "Epoch 51/100\n",
      "50000/50000 [==============================] - 26s 520us/sample - loss: 0.7385 - accuracy: 0.7441 - val_loss: 0.9336 - val_accuracy: 0.6819\n",
      "Epoch 52/100\n",
      "50000/50000 [==============================] - 26s 523us/sample - loss: 0.7376 - accuracy: 0.7450 - val_loss: 0.9247 - val_accuracy: 0.6866\n",
      "Epoch 53/100\n",
      "50000/50000 [==============================] - 26s 522us/sample - loss: 0.7333 - accuracy: 0.7450 - val_loss: 0.9590 - val_accuracy: 0.6769\n",
      "Epoch 54/100\n"
     ]
    },
    {
     "name": "stdout",
     "output_type": "stream",
     "text": [
      "50000/50000 [==============================] - 26s 524us/sample - loss: 0.7347 - accuracy: 0.7458 - val_loss: 0.9248 - val_accuracy: 0.6872\n",
      "Epoch 55/100\n",
      "50000/50000 [==============================] - 26s 523us/sample - loss: 0.7312 - accuracy: 0.7458 - val_loss: 0.9955 - val_accuracy: 0.6574\n",
      "Epoch 56/100\n",
      "50000/50000 [==============================] - 26s 523us/sample - loss: 0.7297 - accuracy: 0.7488 - val_loss: 0.9995 - val_accuracy: 0.6638\n",
      "Epoch 57/100\n",
      "50000/50000 [==============================] - 26s 523us/sample - loss: 0.7261 - accuracy: 0.7497 - val_loss: 0.9921 - val_accuracy: 0.6623\n",
      "Epoch 58/100\n",
      "50000/50000 [==============================] - 26s 522us/sample - loss: 0.7229 - accuracy: 0.7496 - val_loss: 0.9915 - val_accuracy: 0.6619\n",
      "Epoch 59/100\n",
      "50000/50000 [==============================] - 26s 523us/sample - loss: 0.7217 - accuracy: 0.7507 - val_loss: 0.9585 - val_accuracy: 0.6803\n",
      "Epoch 60/100\n",
      "50000/50000 [==============================] - 26s 524us/sample - loss: 0.7206 - accuracy: 0.7523 - val_loss: 0.9537 - val_accuracy: 0.6791\n",
      "Epoch 61/100\n",
      "50000/50000 [==============================] - 26s 523us/sample - loss: 0.7182 - accuracy: 0.7505 - val_loss: 0.9420 - val_accuracy: 0.6883\n",
      "Epoch 62/100\n",
      "50000/50000 [==============================] - 26s 522us/sample - loss: 0.7176 - accuracy: 0.7507 - val_loss: 0.9920 - val_accuracy: 0.6673\n",
      "Epoch 63/100\n",
      "50000/50000 [==============================] - 26s 524us/sample - loss: 0.7149 - accuracy: 0.7528 - val_loss: 0.9335 - val_accuracy: 0.6874\n",
      "Epoch 64/100\n",
      "50000/50000 [==============================] - 26s 522us/sample - loss: 0.7137 - accuracy: 0.7525 - val_loss: 1.0309 - val_accuracy: 0.6493\n",
      "Epoch 65/100\n",
      "50000/50000 [==============================] - 26s 525us/sample - loss: 0.7117 - accuracy: 0.7537 - val_loss: 0.9432 - val_accuracy: 0.6854\n",
      "Epoch 66/100\n",
      "50000/50000 [==============================] - 26s 528us/sample - loss: 0.7109 - accuracy: 0.7534 - val_loss: 1.0124 - val_accuracy: 0.6633\n",
      "Epoch 67/100\n",
      "50000/50000 [==============================] - 26s 526us/sample - loss: 0.7102 - accuracy: 0.7538 - val_loss: 0.9725 - val_accuracy: 0.6715\n",
      "Epoch 68/100\n",
      "50000/50000 [==============================] - 26s 522us/sample - loss: 0.7082 - accuracy: 0.7535 - val_loss: 0.9504 - val_accuracy: 0.6826\n",
      "Epoch 69/100\n",
      "50000/50000 [==============================] - 26s 520us/sample - loss: 0.7059 - accuracy: 0.7557 - val_loss: 0.9605 - val_accuracy: 0.6737\n",
      "Epoch 70/100\n",
      "50000/50000 [==============================] - 26s 524us/sample - loss: 0.7048 - accuracy: 0.7552 - val_loss: 0.9461 - val_accuracy: 0.6781\n",
      "Epoch 71/100\n",
      "50000/50000 [==============================] - 26s 525us/sample - loss: 0.7053 - accuracy: 0.7557 - val_loss: 0.9463 - val_accuracy: 0.6809\n",
      "Epoch 72/100\n",
      "50000/50000 [==============================] - 26s 526us/sample - loss: 0.7012 - accuracy: 0.7556 - val_loss: 0.9430 - val_accuracy: 0.6833\n",
      "Epoch 73/100\n",
      "50000/50000 [==============================] - 26s 522us/sample - loss: 0.6998 - accuracy: 0.7574 - val_loss: 0.9556 - val_accuracy: 0.6759\n",
      "Epoch 74/100\n",
      "50000/50000 [==============================] - 27s 533us/sample - loss: 0.6988 - accuracy: 0.7566 - val_loss: 0.9410 - val_accuracy: 0.6814\n",
      "Epoch 75/100\n",
      "50000/50000 [==============================] - 26s 526us/sample - loss: 0.6982 - accuracy: 0.7562 - val_loss: 1.0068 - val_accuracy: 0.6699\n",
      "Epoch 76/100\n",
      "50000/50000 [==============================] - 26s 522us/sample - loss: 0.6980 - accuracy: 0.7584 - val_loss: 1.0381 - val_accuracy: 0.6458\n",
      "Epoch 77/100\n",
      "50000/50000 [==============================] - 26s 523us/sample - loss: 0.6945 - accuracy: 0.7598 - val_loss: 0.9561 - val_accuracy: 0.6835\n",
      "Epoch 78/100\n",
      "50000/50000 [==============================] - 26s 522us/sample - loss: 0.6951 - accuracy: 0.7580 - val_loss: 0.9495 - val_accuracy: 0.6810\n",
      "Epoch 79/100\n",
      "50000/50000 [==============================] - 26s 521us/sample - loss: 0.6939 - accuracy: 0.7592 - val_loss: 0.9871 - val_accuracy: 0.6650\n",
      "Epoch 80/100\n",
      "50000/50000 [==============================] - 26s 521us/sample - loss: 0.6907 - accuracy: 0.7608 - val_loss: 0.9449 - val_accuracy: 0.6838\n",
      "Epoch 81/100\n",
      "50000/50000 [==============================] - 26s 521us/sample - loss: 0.6902 - accuracy: 0.7605 - val_loss: 0.9539 - val_accuracy: 0.6833\n",
      "Epoch 82/100\n",
      "50000/50000 [==============================] - 26s 524us/sample - loss: 0.6912 - accuracy: 0.7605 - val_loss: 0.9583 - val_accuracy: 0.6834\n",
      "Epoch 83/100\n",
      "50000/50000 [==============================] - 26s 521us/sample - loss: 0.6890 - accuracy: 0.7606 - val_loss: 0.9843 - val_accuracy: 0.6747\n",
      "Epoch 84/100\n",
      "50000/50000 [==============================] - 26s 523us/sample - loss: 0.6876 - accuracy: 0.7620 - val_loss: 0.9588 - val_accuracy: 0.6814\n",
      "Epoch 85/100\n",
      "50000/50000 [==============================] - 26s 521us/sample - loss: 0.6859 - accuracy: 0.7607 - val_loss: 0.9461 - val_accuracy: 0.6838\n",
      "Epoch 86/100\n",
      "50000/50000 [==============================] - 26s 520us/sample - loss: 0.6836 - accuracy: 0.7641 - val_loss: 0.9481 - val_accuracy: 0.6819\n",
      "Epoch 87/100\n",
      "50000/50000 [==============================] - 26s 523us/sample - loss: 0.6829 - accuracy: 0.7615 - val_loss: 0.9577 - val_accuracy: 0.6859\n",
      "Epoch 88/100\n",
      "50000/50000 [==============================] - 26s 522us/sample - loss: 0.6834 - accuracy: 0.7638 - val_loss: 1.0512 - val_accuracy: 0.6523\n",
      "Epoch 89/100\n",
      "50000/50000 [==============================] - 26s 521us/sample - loss: 0.6819 - accuracy: 0.7621 - val_loss: 0.9444 - val_accuracy: 0.6867\n",
      "Epoch 90/100\n",
      "50000/50000 [==============================] - 26s 524us/sample - loss: 0.6809 - accuracy: 0.7638 - val_loss: 0.9757 - val_accuracy: 0.6775\n",
      "Epoch 91/100\n",
      "50000/50000 [==============================] - 26s 521us/sample - loss: 0.6804 - accuracy: 0.7652 - val_loss: 1.0219 - val_accuracy: 0.6516\n",
      "Epoch 92/100\n",
      "50000/50000 [==============================] - 26s 523us/sample - loss: 0.6778 - accuracy: 0.7651 - val_loss: 1.0028 - val_accuracy: 0.6680\n",
      "Epoch 93/100\n",
      "50000/50000 [==============================] - 26s 522us/sample - loss: 0.6775 - accuracy: 0.7649 - val_loss: 0.9630 - val_accuracy: 0.6831\n",
      "Epoch 94/100\n",
      "50000/50000 [==============================] - 26s 523us/sample - loss: 0.6757 - accuracy: 0.7658 - val_loss: 0.9460 - val_accuracy: 0.6899\n",
      "Epoch 95/100\n",
      "50000/50000 [==============================] - 26s 522us/sample - loss: 0.6729 - accuracy: 0.7651 - val_loss: 0.9328 - val_accuracy: 0.6922\n",
      "Epoch 96/100\n",
      "50000/50000 [==============================] - 26s 523us/sample - loss: 0.6732 - accuracy: 0.7674 - val_loss: 0.9805 - val_accuracy: 0.6775\n",
      "Epoch 97/100\n",
      "50000/50000 [==============================] - 26s 522us/sample - loss: 0.6738 - accuracy: 0.7668 - val_loss: 0.9749 - val_accuracy: 0.6781\n",
      "Epoch 98/100\n",
      "50000/50000 [==============================] - 26s 522us/sample - loss: 0.6720 - accuracy: 0.7680 - val_loss: 1.0098 - val_accuracy: 0.6765\n",
      "Epoch 99/100\n",
      "50000/50000 [==============================] - 26s 522us/sample - loss: 0.6696 - accuracy: 0.7682 - val_loss: 1.0241 - val_accuracy: 0.6693\n",
      "Epoch 100/100\n",
      "50000/50000 [==============================] - 26s 523us/sample - loss: 0.6701 - accuracy: 0.7670 - val_loss: 1.0924 - val_accuracy: 0.6425\n",
      "Test error: 1.092430083179474\n",
      "Test accuracy: 0.6425\n"
     ]
    }
   ],
   "source": [
    "batch_size=128\n",
    "epochs=100\n",
    "history = model.fit(X_train, Y_train,\n",
    "                    batch_size=batch_size, epochs=epochs,\n",
    "                    verbose=1, validation_data=(X_test, Y_test))\n",
    "score = model.evaluate(X_test, Y_test, verbose=0) \n",
    "print('Test error:', score[0]) \n",
    "print('Test accuracy:', score[1])"
   ]
  },
  {
   "cell_type": "code",
   "execution_count": 82,
   "metadata": {
    "scrolled": true
   },
   "outputs": [
    {
     "data": {
      "image/png": "[encoded data removed]",
      "text/plain": [
       "<Figure size 432x288 with 1 Axes>"
      ]
     },
     "metadata": {
      "needs_background": "light"
     },
     "output_type": "display_data"
    }
   ],
   "source": [
    "\n",
    "plt.plot(history.history['accuracy'],'r')\n",
    "plt.plot(history.history['val_accuracy'],'b')\n",
    "plt.legend({'training accuracy':'r', 'validation accuracy': 'b'})\n",
    "plt.show()"
   ]
  },
  {
   "cell_type": "code",
   "execution_count": 83,
   "metadata": {},
   "outputs": [
    {
     "data": {
      "image/png": "[encoded data removed]",
      "text/plain": [
       "<Figure size 432x288 with 1 Axes>"
      ]
     },
     "metadata": {
      "needs_background": "light"
     },
     "output_type": "display_data"
    }
   ],
   "source": [
    "plt.plot(history.history['loss'],'r')\n",
    "plt.plot(history.history['val_loss'],'b')\n",
    "plt.legend({'training loss':'r', 'validation loss': 'b'})\n",
    "plt.show()"
   ]
  },
  {
   "cell_type": "code",
   "execution_count": null,
   "metadata": {},
   "outputs": [],
   "source": [
    "predictions_3 = model.predict_classes(X_test)"
   ]
  },
  {
   "cell_type": "code",
   "execution_count": null,
   "metadata": {},
   "outputs": [],
   "source": []
  },
  {
   "cell_type": "code",
   "execution_count": null,
   "metadata": {},
   "outputs": [],
   "source": []
  }
 ],
 "metadata": {
  "kernelspec": {
   "display_name": "Python 3",
   "language": "python",
   "name": "python3"
  },
  "language_info": {
   "codemirror_mode": {
    "name": "ipython",
    "version": 3
   },
   "file_extension": ".py",
   "mimetype": "text/x-python",
   "name": "python",
   "nbconvert_exporter": "python",
   "pygments_lexer": "ipython3",
   "version": "3.7.5"
  }
 },
 "nbformat": 4,
 "nbformat_minor": 2
}
