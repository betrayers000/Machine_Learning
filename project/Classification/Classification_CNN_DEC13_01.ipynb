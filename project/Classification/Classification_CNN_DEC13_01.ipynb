{
 "cells": [
  {
   "cell_type": "markdown",
   "metadata": {},
   "source": [
    "# Classification_CNN"
   ]
  },
  {
   "cell_type": "markdown",
   "metadata": {},
   "source": [
    "## Method\n",
    "\n",
    "Build Convolutional Neural Network model with Tensorflow.\n",
    "\n",
    "```\n",
    "X_train: 10000 samples * 5 times of training\n",
    "X_test: 10000 samples\n",
    "\n",
    "* used (X_test, Y_test) in validation data.\n",
    "\n",
    "batch_size: 128\n",
    "epochs: 100\n",
    "```"
   ]
  },
  {
   "cell_type": "code",
   "execution_count": 1,
   "metadata": {},
   "outputs": [],
   "source": [
    "import tensorflow as tf\n",
    "from tensorflow.keras.datasets import cifar10\n",
    "\n",
    "(X_train, y_train), (X_test, y_test) = cifar10.load_data()"
   ]
  },
  {
   "cell_type": "markdown",
   "metadata": {},
   "source": [
    "## Load dataset, Preprocessing"
   ]
  },
  {
   "cell_type": "code",
   "execution_count": 2,
   "metadata": {},
   "outputs": [
    {
     "name": "stderr",
     "output_type": "stream",
     "text": [
      "Using TensorFlow backend.\n"
     ]
    }
   ],
   "source": [
    "from keras.utils import np_utils\n",
    "from tensorflow.keras.models import Sequential\n",
    "from tensorflow.keras.layers import Dense, Activation, BatchNormalization, Convolution2D, MaxPooling2D, Flatten"
   ]
  },
  {
   "cell_type": "code",
   "execution_count": 3,
   "metadata": {},
   "outputs": [],
   "source": [
    "output_dim = nb_classes = 10"
   ]
  },
  {
   "cell_type": "code",
   "execution_count": 4,
   "metadata": {},
   "outputs": [
    {
     "name": "stdout",
     "output_type": "stream",
     "text": [
      "(50000, 32, 32, 3) (10000, 32, 32, 3)\n"
     ]
    }
   ],
   "source": [
    "input_dim = (32,32,3)\n",
    "X_train = X_train.reshape(50000, *input_dim)\n",
    "X_test = X_test.reshape(10000, *input_dim)\n",
    "\n",
    "print(X_train.shape, X_test.shape)"
   ]
  },
  {
   "cell_type": "code",
   "execution_count": 5,
   "metadata": {},
   "outputs": [],
   "source": [
    "X_train = X_train.astype('float32')\n",
    "X_test = X_test.astype('float32')\n",
    "Y_train = np_utils.to_categorical(y_train, nb_classes)\n",
    "Y_test = np_utils.to_categorical(y_test, nb_classes)"
   ]
  },
  {
   "cell_type": "code",
   "execution_count": 6,
   "metadata": {},
   "outputs": [
    {
     "name": "stdout",
     "output_type": "stream",
     "text": [
      "(32, 32, 3) (50000, 32, 32, 3) (50000, 10) 10\n"
     ]
    }
   ],
   "source": [
    "print(input_dim, X_train.shape, Y_train.shape, output_dim)"
   ]
  },
  {
   "cell_type": "markdown",
   "metadata": {},
   "source": [
    "## Build Model"
   ]
  },
  {
   "cell_type": "code",
   "execution_count": 14,
   "metadata": {},
   "outputs": [],
   "source": [
    "model = Sequential()\n",
    "\n",
    "# 32,32\n",
    "model.add(Convolution2D(8,(3,3), activation='relu', input_shape=(32,32,3)))\n",
    "model.add(BatchNormalization())\n",
    "\n",
    "# 30,30\n",
    "model.add(Convolution2D(16,(3,3), activation='relu'))\n",
    "model.add(BatchNormalization())\n",
    "\n",
    "# 28,28\n",
    "model.add(MaxPooling2D(pool_size=(2,2)))\n",
    "\n",
    "# # 14,14\n",
    "model.add(Convolution2D(10,1, activation='relu'))\n",
    "\n",
    "# 14,14\n",
    "model.add(Convolution2D(16,(3,3), activation='relu'))\n",
    "model.add(BatchNormalization())\n",
    "\n",
    "# 12, 12\n",
    "model.add(MaxPooling2D(pool_size=(2,2)))\n",
    "model.add(Convolution2D(10, 1, activation='relu'))\n",
    "\n",
    "model.add(Convolution2D(10, 6))\n",
    "\n",
    "model.add(Flatten())\n",
    "model.add(Activation('softmax'))\n",
    "\n",
    "model.add(Dense(output_dim, input_dim=input_dim, activation='softmax'))"
   ]
  },
  {
   "cell_type": "code",
   "execution_count": 15,
   "metadata": {},
   "outputs": [
    {
     "name": "stdout",
     "output_type": "stream",
     "text": [
      "Model: \"sequential_1\"\n",
      "_________________________________________________________________\n",
      "Layer (type)                 Output Shape              Param #   \n",
      "=================================================================\n",
      "conv2d_6 (Conv2D)            (None, 30, 30, 8)         224       \n",
      "_________________________________________________________________\n",
      "batch_normalization_3 (Batch (None, 30, 30, 8)         32        \n",
      "_________________________________________________________________\n",
      "conv2d_7 (Conv2D)            (None, 28, 28, 16)        1168      \n",
      "_________________________________________________________________\n",
      "batch_normalization_4 (Batch (None, 28, 28, 16)        64        \n",
      "_________________________________________________________________\n",
      "max_pooling2d_2 (MaxPooling2 (None, 14, 14, 16)        0         \n",
      "_________________________________________________________________\n",
      "conv2d_8 (Conv2D)            (None, 14, 14, 10)        170       \n",
      "_________________________________________________________________\n",
      "conv2d_9 (Conv2D)            (None, 12, 12, 16)        1456      \n",
      "_________________________________________________________________\n",
      "batch_normalization_5 (Batch (None, 12, 12, 16)        64        \n",
      "_________________________________________________________________\n",
      "max_pooling2d_3 (MaxPooling2 (None, 6, 6, 16)          0         \n",
      "_________________________________________________________________\n",
      "conv2d_10 (Conv2D)           (None, 6, 6, 10)          170       \n",
      "_________________________________________________________________\n",
      "conv2d_11 (Conv2D)           (None, 1, 1, 10)          3610      \n",
      "_________________________________________________________________\n",
      "flatten_1 (Flatten)          (None, 10)                0         \n",
      "_________________________________________________________________\n",
      "activation_1 (Activation)    (None, 10)                0         \n",
      "_________________________________________________________________\n",
      "dense_1 (Dense)              (None, 10)                110       \n",
      "=================================================================\n",
      "Total params: 7,068\n",
      "Trainable params: 6,988\n",
      "Non-trainable params: 80\n",
      "_________________________________________________________________\n"
     ]
    }
   ],
   "source": [
    "model.summary()"
   ]
  },
  {
   "cell_type": "code",
   "execution_count": 16,
   "metadata": {},
   "outputs": [],
   "source": [
    "model.compile(optimizer='sgd', loss='categorical_crossentropy', metrics=['accuracy'])"
   ]
  },
  {
   "cell_type": "code",
   "execution_count": 17,
   "metadata": {
    "scrolled": true
   },
   "outputs": [
    {
     "name": "stdout",
     "output_type": "stream",
     "text": [
      "Train on 50000 samples, validate on 10000 samples\n",
      "Epoch 1/100\n",
      "50000/50000 [==============================] - 20s 398us/sample - loss: 2.2858 - accuracy: 0.1380 - val_loss: 2.2631 - val_accuracy: 0.1727\n",
      "Epoch 2/100\n",
      "50000/50000 [==============================] - 17s 348us/sample - loss: 2.2437 - accuracy: 0.1959 - val_loss: 2.2189 - val_accuracy: 0.2298\n",
      "Epoch 3/100\n",
      "50000/50000 [==============================] - 18s 351us/sample - loss: 2.1862 - accuracy: 0.2399 - val_loss: 2.1516 - val_accuracy: 0.2462\n",
      "Epoch 4/100\n",
      "50000/50000 [==============================] - 17s 345us/sample - loss: 2.1220 - accuracy: 0.2607 - val_loss: 2.0920 - val_accuracy: 0.2651\n",
      "Epoch 5/100\n",
      "50000/50000 [==============================] - 17s 347us/sample - loss: 2.0648 - accuracy: 0.2734 - val_loss: 2.0347 - val_accuracy: 0.2808\n",
      "Epoch 6/100\n",
      "50000/50000 [==============================] - 17s 346us/sample - loss: 2.0146 - accuracy: 0.2857 - val_loss: 1.9911 - val_accuracy: 0.2921\n",
      "Epoch 7/100\n",
      "50000/50000 [==============================] - 17s 349us/sample - loss: 1.9702 - accuracy: 0.2949 - val_loss: 1.9611 - val_accuracy: 0.2813\n",
      "Epoch 8/100\n",
      "50000/50000 [==============================] - 17s 345us/sample - loss: 1.9310 - accuracy: 0.2992 - val_loss: 1.9150 - val_accuracy: 0.3005\n",
      "Epoch 9/100\n",
      "50000/50000 [==============================] - 17s 349us/sample - loss: 1.8948 - accuracy: 0.3028 - val_loss: 1.8803 - val_accuracy: 0.3032\n",
      "Epoch 10/100\n",
      "50000/50000 [==============================] - 17s 349us/sample - loss: 1.8598 - accuracy: 0.3115 - val_loss: 1.8571 - val_accuracy: 0.3108\n",
      "Epoch 11/100\n",
      "50000/50000 [==============================] - 19s 379us/sample - loss: 1.8288 - accuracy: 0.3153 - val_loss: 1.8176 - val_accuracy: 0.3239\n",
      "Epoch 12/100\n",
      "50000/50000 [==============================] - 17s 346us/sample - loss: 1.7997 - accuracy: 0.3219 - val_loss: 1.8200 - val_accuracy: 0.3157\n",
      "Epoch 13/100\n",
      "50000/50000 [==============================] - 18s 350us/sample - loss: 1.7721 - accuracy: 0.3257 - val_loss: 1.7906 - val_accuracy: 0.3068\n",
      "Epoch 14/100\n",
      "50000/50000 [==============================] - 17s 347us/sample - loss: 1.7479 - accuracy: 0.3297 - val_loss: 1.7404 - val_accuracy: 0.3282\n",
      "Epoch 15/100\n",
      "50000/50000 [==============================] - 18s 355us/sample - loss: 1.7256 - accuracy: 0.3339 - val_loss: 1.8094 - val_accuracy: 0.2981\n",
      "Epoch 16/100\n",
      "50000/50000 [==============================] - 18s 351us/sample - loss: 1.7086 - accuracy: 0.3346 - val_loss: 1.7393 - val_accuracy: 0.3179\n",
      "Epoch 17/100\n",
      "50000/50000 [==============================] - 18s 354us/sample - loss: 1.6885 - accuracy: 0.3392 - val_loss: 1.7056 - val_accuracy: 0.3330\n",
      "Epoch 18/100\n",
      "50000/50000 [==============================] - 18s 351us/sample - loss: 1.6713 - accuracy: 0.3415 - val_loss: 1.6962 - val_accuracy: 0.3253\n",
      "Epoch 19/100\n",
      "50000/50000 [==============================] - 18s 352us/sample - loss: 1.6579 - accuracy: 0.3447 - val_loss: 1.7525 - val_accuracy: 0.3178\n",
      "Epoch 20/100\n",
      "50000/50000 [==============================] - 17s 344us/sample - loss: 1.6449 - accuracy: 0.3467 - val_loss: 1.6594 - val_accuracy: 0.3486\n",
      "Epoch 21/100\n",
      "50000/50000 [==============================] - 17s 350us/sample - loss: 1.6302 - accuracy: 0.3526 - val_loss: 1.6481 - val_accuracy: 0.3425\n",
      "Epoch 22/100\n",
      "50000/50000 [==============================] - 17s 345us/sample - loss: 1.6171 - accuracy: 0.3555 - val_loss: 1.6599 - val_accuracy: 0.3506\n",
      "Epoch 23/100\n",
      "50000/50000 [==============================] - 18s 351us/sample - loss: 1.6055 - accuracy: 0.3578 - val_loss: 1.6273 - val_accuracy: 0.3430\n",
      "Epoch 24/100\n",
      "50000/50000 [==============================] - 17s 346us/sample - loss: 1.5925 - accuracy: 0.3640 - val_loss: 1.6471 - val_accuracy: 0.3488\n",
      "Epoch 25/100\n",
      "50000/50000 [==============================] - 18s 353us/sample - loss: 1.5809 - accuracy: 0.3670 - val_loss: 1.6502 - val_accuracy: 0.3463\n",
      "Epoch 26/100\n",
      "50000/50000 [==============================] - 17s 347us/sample - loss: 1.5701 - accuracy: 0.3707 - val_loss: 1.5966 - val_accuracy: 0.3646\n",
      "Epoch 27/100\n",
      "50000/50000 [==============================] - 18s 354us/sample - loss: 1.5594 - accuracy: 0.3757 - val_loss: 1.5902 - val_accuracy: 0.3601\n",
      "Epoch 28/100\n",
      "50000/50000 [==============================] - 17s 347us/sample - loss: 1.5488 - accuracy: 0.3771 - val_loss: 1.5821 - val_accuracy: 0.3586\n",
      "Epoch 29/100\n",
      "50000/50000 [==============================] - 18s 353us/sample - loss: 1.5401 - accuracy: 0.3806 - val_loss: 1.5940 - val_accuracy: 0.3696\n",
      "Epoch 30/100\n",
      "50000/50000 [==============================] - 17s 348us/sample - loss: 1.5301 - accuracy: 0.3847 - val_loss: 1.5645 - val_accuracy: 0.3830\n",
      "Epoch 31/100\n",
      "50000/50000 [==============================] - 18s 355us/sample - loss: 1.5194 - accuracy: 0.3894 - val_loss: 1.5748 - val_accuracy: 0.3710\n",
      "Epoch 32/100\n",
      "50000/50000 [==============================] - 17s 350us/sample - loss: 1.5100 - accuracy: 0.3938 - val_loss: 1.6025 - val_accuracy: 0.3752\n",
      "Epoch 33/100\n",
      "50000/50000 [==============================] - 18s 355us/sample - loss: 1.5023 - accuracy: 0.3960 - val_loss: 1.5726 - val_accuracy: 0.3693\n",
      "Epoch 34/100\n",
      "50000/50000 [==============================] - 17s 348us/sample - loss: 1.4903 - accuracy: 0.3972 - val_loss: 1.5393 - val_accuracy: 0.3855\n",
      "Epoch 35/100\n",
      "50000/50000 [==============================] - 18s 353us/sample - loss: 1.4842 - accuracy: 0.3993 - val_loss: 1.5674 - val_accuracy: 0.3727\n",
      "Epoch 36/100\n",
      "50000/50000 [==============================] - 18s 358us/sample - loss: 1.4746 - accuracy: 0.4012 - val_loss: 1.5330 - val_accuracy: 0.3875\n",
      "Epoch 37/100\n",
      "50000/50000 [==============================] - 19s 375us/sample - loss: 1.4659 - accuracy: 0.4039 - val_loss: 1.5165 - val_accuracy: 0.3948\n",
      "Epoch 38/100\n",
      "50000/50000 [==============================] - 17s 347us/sample - loss: 1.4589 - accuracy: 0.4058 - val_loss: 1.5256 - val_accuracy: 0.3924\n",
      "Epoch 39/100\n",
      "50000/50000 [==============================] - 18s 360us/sample - loss: 1.4496 - accuracy: 0.4087 - val_loss: 1.5325 - val_accuracy: 0.3874\n",
      "Epoch 40/100\n",
      "50000/50000 [==============================] - 18s 352us/sample - loss: 1.4443 - accuracy: 0.4115 - val_loss: 1.4871 - val_accuracy: 0.3939\n",
      "Epoch 41/100\n",
      "50000/50000 [==============================] - 18s 364us/sample - loss: 1.4354 - accuracy: 0.4139 - val_loss: 1.5207 - val_accuracy: 0.3945\n",
      "Epoch 42/100\n",
      "50000/50000 [==============================] - 17s 348us/sample - loss: 1.4291 - accuracy: 0.4151 - val_loss: 1.6395 - val_accuracy: 0.3651\n",
      "Epoch 43/100\n",
      "50000/50000 [==============================] - 18s 351us/sample - loss: 1.4226 - accuracy: 0.4171 - val_loss: 1.4605 - val_accuracy: 0.4031\n",
      "Epoch 44/100\n",
      "50000/50000 [==============================] - 17s 346us/sample - loss: 1.4167 - accuracy: 0.4173 - val_loss: 1.4735 - val_accuracy: 0.3932\n",
      "Epoch 45/100\n",
      "50000/50000 [==============================] - 18s 355us/sample - loss: 1.4109 - accuracy: 0.4185 - val_loss: 1.5148 - val_accuracy: 0.3795\n",
      "Epoch 46/100\n",
      "50000/50000 [==============================] - 17s 348us/sample - loss: 1.4040 - accuracy: 0.4213 - val_loss: 1.4550 - val_accuracy: 0.4066\n",
      "Epoch 47/100\n",
      "50000/50000 [==============================] - 18s 355us/sample - loss: 1.3992 - accuracy: 0.4220 - val_loss: 1.6670 - val_accuracy: 0.3481\n",
      "Epoch 48/100\n",
      "50000/50000 [==============================] - 18s 351us/sample - loss: 1.3927 - accuracy: 0.4228 - val_loss: 1.4844 - val_accuracy: 0.3994\n",
      "Epoch 49/100\n",
      "50000/50000 [==============================] - 18s 356us/sample - loss: 1.3869 - accuracy: 0.4279 - val_loss: 1.4665 - val_accuracy: 0.4008\n",
      "Epoch 50/100\n",
      "50000/50000 [==============================] - 18s 352us/sample - loss: 1.3827 - accuracy: 0.4278 - val_loss: 1.4340 - val_accuracy: 0.4076\n",
      "Epoch 51/100\n",
      "50000/50000 [==============================] - 18s 353us/sample - loss: 1.3772 - accuracy: 0.4279 - val_loss: 1.4294 - val_accuracy: 0.4131\n",
      "Epoch 52/100\n",
      "50000/50000 [==============================] - 18s 354us/sample - loss: 1.3712 - accuracy: 0.4290 - val_loss: 1.4266 - val_accuracy: 0.4122\n",
      "Epoch 53/100\n",
      "50000/50000 [==============================] - 18s 360us/sample - loss: 1.3660 - accuracy: 0.4302 - val_loss: 1.4393 - val_accuracy: 0.4045\n",
      "Epoch 54/100\n",
      "50000/50000 [==============================] - 18s 354us/sample - loss: 1.3614 - accuracy: 0.4307 - val_loss: 1.4614 - val_accuracy: 0.4072\n",
      "Epoch 55/100\n",
      "50000/50000 [==============================] - 18s 359us/sample - loss: 1.3584 - accuracy: 0.4330 - val_loss: 1.5179 - val_accuracy: 0.3820\n",
      "Epoch 56/100\n",
      "50000/50000 [==============================] - 17s 349us/sample - loss: 1.3538 - accuracy: 0.4341 - val_loss: 1.4488 - val_accuracy: 0.4115\n",
      "Epoch 57/100\n",
      "50000/50000 [==============================] - 18s 356us/sample - loss: 1.3498 - accuracy: 0.4354 - val_loss: 1.4213 - val_accuracy: 0.4114\n",
      "Epoch 58/100\n",
      "50000/50000 [==============================] - 18s 351us/sample - loss: 1.3465 - accuracy: 0.4364 - val_loss: 1.4172 - val_accuracy: 0.4087\n",
      "Epoch 59/100\n",
      "50000/50000 [==============================] - 17s 350us/sample - loss: 1.3425 - accuracy: 0.4375 - val_loss: 1.4479 - val_accuracy: 0.4054\n",
      "Epoch 60/100\n",
      "50000/50000 [==============================] - 17s 348us/sample - loss: 1.3387 - accuracy: 0.4381 - val_loss: 1.4527 - val_accuracy: 0.4061\n",
      "Epoch 61/100\n",
      "50000/50000 [==============================] - 18s 354us/sample - loss: 1.3337 - accuracy: 0.4406 - val_loss: 1.4277 - val_accuracy: 0.4087\n",
      "Epoch 62/100\n",
      "50000/50000 [==============================] - 17s 348us/sample - loss: 1.3304 - accuracy: 0.4412 - val_loss: 1.4052 - val_accuracy: 0.4183\n",
      "Epoch 63/100\n",
      "50000/50000 [==============================] - 18s 357us/sample - loss: 1.3294 - accuracy: 0.4403 - val_loss: 1.4534 - val_accuracy: 0.4134\n",
      "Epoch 64/100\n",
      "50000/50000 [==============================] - 19s 387us/sample - loss: 1.3248 - accuracy: 0.4424 - val_loss: 1.5012 - val_accuracy: 0.4003\n",
      "Epoch 65/100\n",
      "50000/50000 [==============================] - 19s 378us/sample - loss: 1.3217 - accuracy: 0.4420 - val_loss: 1.4609 - val_accuracy: 0.4085\n",
      "Epoch 66/100\n",
      "50000/50000 [==============================] - 17s 345us/sample - loss: 1.3196 - accuracy: 0.4436 - val_loss: 1.4266 - val_accuracy: 0.4113\n",
      "Epoch 67/100\n",
      "50000/50000 [==============================] - 17s 348us/sample - loss: 1.3152 - accuracy: 0.4455 - val_loss: 1.4072 - val_accuracy: 0.4222\n",
      "Epoch 68/100\n",
      "50000/50000 [==============================] - 18s 352us/sample - loss: 1.3133 - accuracy: 0.4457 - val_loss: 1.4071 - val_accuracy: 0.4144\n",
      "Epoch 69/100\n",
      "50000/50000 [==============================] - 17s 349us/sample - loss: 1.3109 - accuracy: 0.4471 - val_loss: 1.4137 - val_accuracy: 0.4193\n",
      "Epoch 70/100\n",
      "50000/50000 [==============================] - 18s 368us/sample - loss: 1.3059 - accuracy: 0.4477 - val_loss: 1.3800 - val_accuracy: 0.4277\n",
      "Epoch 71/100\n",
      "50000/50000 [==============================] - 18s 359us/sample - loss: 1.3048 - accuracy: 0.4479 - val_loss: 1.3859 - val_accuracy: 0.4203\n",
      "Epoch 72/100\n",
      "50000/50000 [==============================] - 18s 361us/sample - loss: 1.3009 - accuracy: 0.4478 - val_loss: 1.4653 - val_accuracy: 0.4045\n",
      "Epoch 73/100\n",
      "50000/50000 [==============================] - 18s 353us/sample - loss: 1.3005 - accuracy: 0.4495 - val_loss: 1.4096 - val_accuracy: 0.4146\n",
      "Epoch 74/100\n",
      "50000/50000 [==============================] - 18s 351us/sample - loss: 1.2975 - accuracy: 0.4496 - val_loss: 1.3913 - val_accuracy: 0.4247\n",
      "Epoch 75/100\n",
      "50000/50000 [==============================] - 18s 350us/sample - loss: 1.2956 - accuracy: 0.4513 - val_loss: 1.4180 - val_accuracy: 0.4302\n",
      "Epoch 76/100\n",
      "50000/50000 [==============================] - 17s 348us/sample - loss: 1.2929 - accuracy: 0.4522 - val_loss: 1.3844 - val_accuracy: 0.4234\n",
      "Epoch 77/100\n",
      "50000/50000 [==============================] - 18s 353us/sample - loss: 1.2908 - accuracy: 0.4528 - val_loss: 1.4315 - val_accuracy: 0.4162\n",
      "Epoch 78/100\n",
      "50000/50000 [==============================] - 17s 348us/sample - loss: 1.2885 - accuracy: 0.4532 - val_loss: 1.4145 - val_accuracy: 0.4172\n",
      "Epoch 79/100\n",
      "50000/50000 [==============================] - 18s 353us/sample - loss: 1.2865 - accuracy: 0.4534 - val_loss: 1.3758 - val_accuracy: 0.4326\n",
      "Epoch 80/100\n",
      "50000/50000 [==============================] - 18s 352us/sample - loss: 1.2833 - accuracy: 0.4539 - val_loss: 1.3753 - val_accuracy: 0.4310\n",
      "Epoch 81/100\n",
      "50000/50000 [==============================] - 18s 352us/sample - loss: 1.2837 - accuracy: 0.4548 - val_loss: 1.3813 - val_accuracy: 0.4353\n",
      "Epoch 82/100\n",
      "50000/50000 [==============================] - 17s 346us/sample - loss: 1.2805 - accuracy: 0.4551 - val_loss: 1.3729 - val_accuracy: 0.4271\n",
      "Epoch 83/100\n",
      "50000/50000 [==============================] - 18s 352us/sample - loss: 1.2778 - accuracy: 0.4599 - val_loss: 1.3962 - val_accuracy: 0.4327\n",
      "Epoch 84/100\n",
      "50000/50000 [==============================] - 17s 347us/sample - loss: 1.2770 - accuracy: 0.4574 - val_loss: 1.4053 - val_accuracy: 0.4153\n",
      "Epoch 85/100\n",
      "50000/50000 [==============================] - 18s 353us/sample - loss: 1.2744 - accuracy: 0.4556 - val_loss: 1.3738 - val_accuracy: 0.4278\n",
      "Epoch 86/100\n",
      "50000/50000 [==============================] - 17s 346us/sample - loss: 1.2727 - accuracy: 0.4576 - val_loss: 1.3725 - val_accuracy: 0.4308\n",
      "Epoch 87/100\n",
      "50000/50000 [==============================] - 18s 350us/sample - loss: 1.2723 - accuracy: 0.4590 - val_loss: 1.3693 - val_accuracy: 0.4317\n",
      "Epoch 88/100\n",
      "50000/50000 [==============================] - 17s 346us/sample - loss: 1.2695 - accuracy: 0.4599 - val_loss: 1.3975 - val_accuracy: 0.4183\n",
      "Epoch 89/100\n",
      "50000/50000 [==============================] - 17s 350us/sample - loss: 1.2694 - accuracy: 0.4578 - val_loss: 1.3916 - val_accuracy: 0.4346\n",
      "Epoch 90/100\n",
      "50000/50000 [==============================] - 17s 346us/sample - loss: 1.2658 - accuracy: 0.4611 - val_loss: 1.3965 - val_accuracy: 0.4231\n",
      "Epoch 91/100\n",
      "50000/50000 [==============================] - 18s 351us/sample - loss: 1.2641 - accuracy: 0.4609 - val_loss: 1.3679 - val_accuracy: 0.4408\n",
      "Epoch 92/100\n",
      "50000/50000 [==============================] - 17s 345us/sample - loss: 1.2628 - accuracy: 0.4617 - val_loss: 1.3913 - val_accuracy: 0.4311\n",
      "Epoch 93/100\n",
      "50000/50000 [==============================] - 18s 352us/sample - loss: 1.2614 - accuracy: 0.4637 - val_loss: 1.3628 - val_accuracy: 0.4333\n",
      "Epoch 94/100\n",
      "50000/50000 [==============================] - 17s 347us/sample - loss: 1.2584 - accuracy: 0.4640 - val_loss: 1.3788 - val_accuracy: 0.4268\n",
      "Epoch 95/100\n",
      "50000/50000 [==============================] - 18s 351us/sample - loss: 1.2585 - accuracy: 0.4631 - val_loss: 1.3684 - val_accuracy: 0.4298\n",
      "Epoch 96/100\n",
      "50000/50000 [==============================] - 17s 345us/sample - loss: 1.2561 - accuracy: 0.4650 - val_loss: 1.3686 - val_accuracy: 0.4380\n",
      "Epoch 97/100\n",
      "50000/50000 [==============================] - 18s 351us/sample - loss: 1.2553 - accuracy: 0.4656 - val_loss: 1.3711 - val_accuracy: 0.4315\n",
      "Epoch 98/100\n",
      "50000/50000 [==============================] - 17s 347us/sample - loss: 1.2522 - accuracy: 0.4675 - val_loss: 1.3602 - val_accuracy: 0.4384\n",
      "Epoch 99/100\n",
      "50000/50000 [==============================] - 18s 351us/sample - loss: 1.2504 - accuracy: 0.4673 - val_loss: 1.3508 - val_accuracy: 0.4413\n",
      "Epoch 100/100\n",
      "50000/50000 [==============================] - 17s 348us/sample - loss: 1.2496 - accuracy: 0.4679 - val_loss: 1.3881 - val_accuracy: 0.4380\n",
      "Test error: 1.388128392791748\n",
      "Test accuracy: 0.438\n"
     ]
    }
   ],
   "source": [
    "batch_size=128\n",
    "epochs=100\n",
    "history = model.fit(X_train, Y_train,\n",
    "                    batch_size=batch_size, epochs=epochs,\n",
    "                    verbose=1, validation_data=(X_test, Y_test))\n",
    "score = model.evaluate(X_test, Y_test, verbose=0) \n",
    "print('Test error:', score[0]) \n",
    "print('Test accuracy:', score[1])"
   ]
  },
  {
   "cell_type": "code",
   "execution_count": 19,
   "metadata": {},
   "outputs": [],
   "source": [
    "import matplotlib.pyplot as plt"
   ]
  },
  {
   "cell_type": "code",
   "execution_count": 20,
   "metadata": {
    "scrolled": true
   },
   "outputs": [
    {
     "data": {
      "image/png": "[encoded data removed]",
      "text/plain": [
       "<Figure size 432x288 with 1 Axes>"
      ]
     },
     "metadata": {
      "needs_background": "light"
     },
     "output_type": "display_data"
    }
   ],
   "source": [
    "plt.plot(history.history['accuracy'],'r')\n",
    "plt.plot(history.history['val_accuracy'],'b')\n",
    "plt.legend({'training accuracy':'r', 'validation accuracy': 'b'})\n",
    "plt.show()"
   ]
  },
  {
   "cell_type": "code",
   "execution_count": 21,
   "metadata": {
    "scrolled": true
   },
   "outputs": [
    {
     "data": {
      "image/png": "[encoded data removed]",
      "text/plain": [
       "<Figure size 432x288 with 1 Axes>"
      ]
     },
     "metadata": {
      "needs_background": "light"
     },
     "output_type": "display_data"
    }
   ],
   "source": [
    "plt.plot(history.history['loss'],'r')\n",
    "plt.plot(history.history['val_loss'],'b')\n",
    "plt.legend({'training loss':'r', 'validation loss': 'b'})\n",
    "plt.show()"
   ]
  },
  {
   "cell_type": "markdown",
   "metadata": {},
   "source": [
    "## Inference"
   ]
  },
  {
   "cell_type": "code",
   "execution_count": 22,
   "metadata": {},
   "outputs": [],
   "source": [
    "predictions = model.predict_classes(X_test)"
   ]
  },
  {
   "cell_type": "code",
   "execution_count": 26,
   "metadata": {},
   "outputs": [],
   "source": [
    "from sklearn.metrics import confusion_matrix \n",
    "import seaborn as sns\n",
    "import numpy as np\n",
    "\n",
    "# we can also use a confusion matrix to visualize the performance of a classification model\n",
    "cm = confusion_matrix(y_test, predictions)\n",
    "# use this line to normalize the confusion matrix to show percentages instead of counts\n",
    "cm = cm.astype('float') / cm.sum(axis=1)[:, np.newaxis]"
   ]
  },
  {
   "cell_type": "code",
   "execution_count": 27,
   "metadata": {
    "collapsed": true
   },
   "outputs": [
    {
     "data": {
      "image/png": "[encoded data removed]",
      "text/plain": [
       "<Figure size 576x576 with 2 Axes>"
      ]
     },
     "metadata": {
      "needs_background": "light"
     },
     "output_type": "display_data"
    }
   ],
   "source": [
    "# plot this matrix\n",
    "plt.figure(figsize=(8, 8))\n",
    "sns.heatmap(cm, annot=True, fmt=\".3f\", linewidths=.5, square = True, cmap = 'Blues_r');\n",
    "plt.ylabel('Actual label');\n",
    "plt.xlabel('Predicted label');\n",
    "all_sample_title = 'Overall Accuracy Score: {0:.4f}'.format(score[1])\n",
    "plt.title(all_sample_title, size = 15);\n",
    "# plt.savefig('toy_Digits_ConfusionSeabornCodementor.png')\n",
    "plt.show();"
   ]
  },
  {
   "cell_type": "markdown",
   "metadata": {},
   "source": [
    "## arch 2 fiter & layer increase"
   ]
  },
  {
   "cell_type": "code",
   "execution_count": 7,
   "metadata": {},
   "outputs": [],
   "source": [
    "model = Sequential()\n",
    "\n",
    "# 32,32\n",
    "model.add(Convolution2D(32,(3,3), activation='relu', input_shape=(32,32,3)))\n",
    "model.add(BatchNormalization())\n",
    "\n",
    "# 30,30\n",
    "model.add(Convolution2D(64,(3,3), activation='relu'))\n",
    "model.add(BatchNormalization())\n",
    "\n",
    "# 28,28\n",
    "model.add(MaxPooling2D(pool_size=(2,2)))\n",
    "\n",
    "# # 14,14\n",
    "model.add(Convolution2D(10,1, activation='relu'))\n",
    "\n",
    "# 14,14\n",
    "model.add(Convolution2D(128,(3,3), activation='relu'))\n",
    "model.add(BatchNormalization())\n",
    "\n",
    "# 12, 12\n",
    "model.add(MaxPooling2D(pool_size=(2,2)))\n",
    "model.add(Convolution2D(256,(3,3), activation='relu'))\n",
    "model.add(BatchNormalization())\n",
    "\n",
    "model.add(Convolution2D(10, 1, activation='relu'))\n",
    "\n",
    "model.add(Convolution2D(10, 4))\n",
    "\n",
    "model.add(Flatten())\n",
    "model.add(Activation('softmax'))\n",
    "\n",
    "model.add(Dense(output_dim, input_dim=input_dim, activation='softmax'))"
   ]
  },
  {
   "cell_type": "code",
   "execution_count": 8,
   "metadata": {
    "scrolled": true
   },
   "outputs": [
    {
     "name": "stdout",
     "output_type": "stream",
     "text": [
      "Model: \"sequential\"\n",
      "_________________________________________________________________\n",
      "Layer (type)                 Output Shape              Param #   \n",
      "=================================================================\n",
      "conv2d (Conv2D)              (None, 30, 30, 32)        896       \n",
      "_________________________________________________________________\n",
      "batch_normalization (BatchNo (None, 30, 30, 32)        128       \n",
      "_________________________________________________________________\n",
      "conv2d_1 (Conv2D)            (None, 28, 28, 64)        18496     \n",
      "_________________________________________________________________\n",
      "batch_normalization_1 (Batch (None, 28, 28, 64)        256       \n",
      "_________________________________________________________________\n",
      "max_pooling2d (MaxPooling2D) (None, 14, 14, 64)        0         \n",
      "_________________________________________________________________\n",
      "conv2d_2 (Conv2D)            (None, 14, 14, 10)        650       \n",
      "_________________________________________________________________\n",
      "conv2d_3 (Conv2D)            (None, 12, 12, 128)       11648     \n",
      "_________________________________________________________________\n",
      "batch_normalization_2 (Batch (None, 12, 12, 128)       512       \n",
      "_________________________________________________________________\n",
      "max_pooling2d_1 (MaxPooling2 (None, 6, 6, 128)         0         \n",
      "_________________________________________________________________\n",
      "conv2d_4 (Conv2D)            (None, 4, 4, 256)         295168    \n",
      "_________________________________________________________________\n",
      "batch_normalization_3 (Batch (None, 4, 4, 256)         1024      \n",
      "_________________________________________________________________\n",
      "conv2d_5 (Conv2D)            (None, 4, 4, 10)          2570      \n",
      "_________________________________________________________________\n",
      "conv2d_6 (Conv2D)            (None, 1, 1, 10)          1610      \n",
      "_________________________________________________________________\n",
      "flatten (Flatten)            (None, 10)                0         \n",
      "_________________________________________________________________\n",
      "activation (Activation)      (None, 10)                0         \n",
      "_________________________________________________________________\n",
      "dense (Dense)                (None, 10)                110       \n",
      "=================================================================\n",
      "Total params: 333,068\n",
      "Trainable params: 332,108\n",
      "Non-trainable params: 960\n",
      "_________________________________________________________________\n"
     ]
    }
   ],
   "source": [
    "model.summary()"
   ]
  },
  {
   "cell_type": "code",
   "execution_count": 9,
   "metadata": {},
   "outputs": [],
   "source": [
    "model.compile(optimizer='sgd', loss='categorical_crossentropy', metrics=['accuracy'])"
   ]
  },
  {
   "cell_type": "code",
   "execution_count": 10,
   "metadata": {
    "scrolled": true
   },
   "outputs": [
    {
     "name": "stdout",
     "output_type": "stream",
     "text": [
      "Train on 50000 samples, validate on 10000 samples\n",
      "Epoch 1/100\n",
      "50000/50000 [==============================] - 67s 1ms/sample - loss: 2.2601 - accuracy: 0.1518 - val_loss: 2.2173 - val_accuracy: 0.1878\n",
      "Epoch 2/100\n",
      "50000/50000 [==============================] - 61s 1ms/sample - loss: 2.1727 - accuracy: 0.2186 - val_loss: 2.1428 - val_accuracy: 0.2467\n",
      "Epoch 3/100\n",
      "50000/50000 [==============================] - 60s 1ms/sample - loss: 2.1101 - accuracy: 0.2594 - val_loss: 2.0828 - val_accuracy: 0.2728\n",
      "Epoch 4/100\n",
      "50000/50000 [==============================] - 60s 1ms/sample - loss: 2.0525 - accuracy: 0.2790 - val_loss: 2.0723 - val_accuracy: 0.2619\n",
      "Epoch 5/100\n",
      "50000/50000 [==============================] - 60s 1ms/sample - loss: 1.9998 - accuracy: 0.2951 - val_loss: 1.9857 - val_accuracy: 0.2916\n",
      "Epoch 6/100\n",
      "50000/50000 [==============================] - 60s 1ms/sample - loss: 1.9491 - accuracy: 0.3058 - val_loss: 1.9415 - val_accuracy: 0.2943\n",
      "Epoch 7/100\n",
      "50000/50000 [==============================] - 60s 1ms/sample - loss: 1.9018 - accuracy: 0.3175 - val_loss: 1.9283 - val_accuracy: 0.2884\n",
      "Epoch 8/100\n",
      "50000/50000 [==============================] - 60s 1ms/sample - loss: 1.8571 - accuracy: 0.3258 - val_loss: 1.8644 - val_accuracy: 0.3204\n",
      "Epoch 9/100\n",
      "50000/50000 [==============================] - 60s 1ms/sample - loss: 1.8180 - accuracy: 0.3314 - val_loss: 1.8376 - val_accuracy: 0.3230\n",
      "Epoch 10/100\n",
      "50000/50000 [==============================] - 60s 1ms/sample - loss: 1.7813 - accuracy: 0.3362 - val_loss: 1.8260 - val_accuracy: 0.3060\n",
      "Epoch 11/100\n",
      "50000/50000 [==============================] - 60s 1ms/sample - loss: 1.7474 - accuracy: 0.3410 - val_loss: 1.7988 - val_accuracy: 0.3238\n",
      "Epoch 12/100\n",
      "50000/50000 [==============================] - 60s 1ms/sample - loss: 1.7146 - accuracy: 0.3467 - val_loss: 1.7469 - val_accuracy: 0.3255\n",
      "Epoch 13/100\n",
      "50000/50000 [==============================] - 60s 1ms/sample - loss: 1.6862 - accuracy: 0.3512 - val_loss: 1.7368 - val_accuracy: 0.3361\n",
      "Epoch 14/100\n",
      "50000/50000 [==============================] - 60s 1ms/sample - loss: 1.6584 - accuracy: 0.3570 - val_loss: 1.6927 - val_accuracy: 0.3479\n",
      "Epoch 15/100\n",
      "50000/50000 [==============================] - 60s 1ms/sample - loss: 1.6306 - accuracy: 0.3611 - val_loss: 1.7638 - val_accuracy: 0.3217\n",
      "Epoch 16/100\n",
      "50000/50000 [==============================] - 60s 1ms/sample - loss: 1.6066 - accuracy: 0.3653 - val_loss: 1.6686 - val_accuracy: 0.3415\n",
      "Epoch 17/100\n",
      "50000/50000 [==============================] - 60s 1ms/sample - loss: 1.5824 - accuracy: 0.3701 - val_loss: 1.6437 - val_accuracy: 0.3467\n",
      "Epoch 18/100\n",
      "50000/50000 [==============================] - 59s 1ms/sample - loss: 1.5583 - accuracy: 0.3738 - val_loss: 1.6467 - val_accuracy: 0.3483\n",
      "Epoch 19/100\n",
      "50000/50000 [==============================] - 59s 1ms/sample - loss: 1.5395 - accuracy: 0.3775 - val_loss: 1.6084 - val_accuracy: 0.3538\n",
      "Epoch 20/100\n",
      "50000/50000 [==============================] - 60s 1ms/sample - loss: 1.5165 - accuracy: 0.3826 - val_loss: 1.5993 - val_accuracy: 0.3520\n",
      "Epoch 21/100\n",
      "50000/50000 [==============================] - 60s 1ms/sample - loss: 1.4965 - accuracy: 0.3895 - val_loss: 1.5962 - val_accuracy: 0.3503\n",
      "Epoch 22/100\n",
      "50000/50000 [==============================] - 59s 1ms/sample - loss: 1.4752 - accuracy: 0.3907 - val_loss: 1.6100 - val_accuracy: 0.3495\n",
      "Epoch 23/100\n",
      "50000/50000 [==============================] - 59s 1ms/sample - loss: 1.4551 - accuracy: 0.3981 - val_loss: 1.5761 - val_accuracy: 0.3594\n",
      "Epoch 24/100\n",
      "50000/50000 [==============================] - 60s 1ms/sample - loss: 1.4355 - accuracy: 0.4002 - val_loss: 1.5675 - val_accuracy: 0.3621\n",
      "Epoch 25/100\n",
      "50000/50000 [==============================] - 60s 1ms/sample - loss: 1.4181 - accuracy: 0.4058 - val_loss: 1.5971 - val_accuracy: 0.3471\n",
      "Epoch 26/100\n",
      "50000/50000 [==============================] - 59s 1ms/sample - loss: 1.4009 - accuracy: 0.4092 - val_loss: 1.5907 - val_accuracy: 0.3542\n",
      "Epoch 27/100\n",
      "50000/50000 [==============================] - 60s 1ms/sample - loss: 1.3821 - accuracy: 0.4166 - val_loss: 1.6183 - val_accuracy: 0.3377\n",
      "Epoch 28/100\n",
      "50000/50000 [==============================] - 59s 1ms/sample - loss: 1.3652 - accuracy: 0.4223 - val_loss: 1.6056 - val_accuracy: 0.3504\n",
      "Epoch 29/100\n",
      "50000/50000 [==============================] - 59s 1ms/sample - loss: 1.3487 - accuracy: 0.4254 - val_loss: 1.5417 - val_accuracy: 0.3715\n",
      "Epoch 30/100\n",
      "50000/50000 [==============================] - 60s 1ms/sample - loss: 1.3317 - accuracy: 0.4322 - val_loss: 1.5305 - val_accuracy: 0.3706\n",
      "Epoch 31/100\n",
      "50000/50000 [==============================] - 60s 1ms/sample - loss: 1.3145 - accuracy: 0.4373 - val_loss: 1.5316 - val_accuracy: 0.3733\n",
      "Epoch 32/100\n",
      "50000/50000 [==============================] - 60s 1ms/sample - loss: 1.3005 - accuracy: 0.4439 - val_loss: 1.5487 - val_accuracy: 0.3742\n",
      "Epoch 33/100\n",
      "50000/50000 [==============================] - 60s 1ms/sample - loss: 1.2882 - accuracy: 0.4463 - val_loss: 1.5338 - val_accuracy: 0.3775\n",
      "Epoch 34/100\n",
      "50000/50000 [==============================] - 60s 1ms/sample - loss: 1.2755 - accuracy: 0.4516 - val_loss: 1.5081 - val_accuracy: 0.3829\n",
      "Epoch 35/100\n",
      "50000/50000 [==============================] - 60s 1ms/sample - loss: 1.2576 - accuracy: 0.4563 - val_loss: 1.5305 - val_accuracy: 0.3807\n",
      "Epoch 36/100\n",
      "50000/50000 [==============================] - 60s 1ms/sample - loss: 1.2445 - accuracy: 0.4622 - val_loss: 1.5759 - val_accuracy: 0.3697\n",
      "Epoch 37/100\n",
      "50000/50000 [==============================] - 60s 1ms/sample - loss: 1.2317 - accuracy: 0.4693 - val_loss: 1.5272 - val_accuracy: 0.3785\n",
      "Epoch 38/100\n",
      "50000/50000 [==============================] - 60s 1ms/sample - loss: 1.2197 - accuracy: 0.4734 - val_loss: 1.5168 - val_accuracy: 0.3829\n",
      "Epoch 39/100\n",
      "50000/50000 [==============================] - 60s 1ms/sample - loss: 1.2093 - accuracy: 0.4745 - val_loss: 1.4989 - val_accuracy: 0.3882\n",
      "Epoch 40/100\n",
      "50000/50000 [==============================] - 60s 1ms/sample - loss: 1.1969 - accuracy: 0.4794 - val_loss: 1.5159 - val_accuracy: 0.3931\n",
      "Epoch 41/100\n",
      "50000/50000 [==============================] - 60s 1ms/sample - loss: 1.1885 - accuracy: 0.4822 - val_loss: 1.5151 - val_accuracy: 0.3900\n",
      "Epoch 42/100\n",
      "50000/50000 [==============================] - 60s 1ms/sample - loss: 1.1764 - accuracy: 0.4879 - val_loss: 1.5097 - val_accuracy: 0.3929\n",
      "Epoch 43/100\n",
      "50000/50000 [==============================] - 60s 1ms/sample - loss: 1.1677 - accuracy: 0.4949 - val_loss: 1.5295 - val_accuracy: 0.3831\n",
      "Epoch 44/100\n",
      "50000/50000 [==============================] - 60s 1ms/sample - loss: 1.1583 - accuracy: 0.4961 - val_loss: 1.5318 - val_accuracy: 0.3893\n",
      "Epoch 45/100\n",
      "50000/50000 [==============================] - 60s 1ms/sample - loss: 1.1490 - accuracy: 0.5010 - val_loss: 1.5736 - val_accuracy: 0.3836\n",
      "Epoch 46/100\n",
      "50000/50000 [==============================] - 60s 1ms/sample - loss: 1.1426 - accuracy: 0.5012 - val_loss: 1.5164 - val_accuracy: 0.3905\n",
      "Epoch 47/100\n",
      "50000/50000 [==============================] - 60s 1ms/sample - loss: 1.1340 - accuracy: 0.5088 - val_loss: 1.5749 - val_accuracy: 0.3775\n",
      "Epoch 48/100\n",
      "50000/50000 [==============================] - 60s 1ms/sample - loss: 1.1255 - accuracy: 0.5114 - val_loss: 1.5298 - val_accuracy: 0.3851\n",
      "Epoch 49/100\n",
      "50000/50000 [==============================] - 60s 1ms/sample - loss: 1.1184 - accuracy: 0.5115 - val_loss: 1.5193 - val_accuracy: 0.3913\n",
      "Epoch 50/100\n",
      "50000/50000 [==============================] - 60s 1ms/sample - loss: 1.1127 - accuracy: 0.5184 - val_loss: 1.5163 - val_accuracy: 0.3928\n",
      "Epoch 51/100\n",
      "50000/50000 [==============================] - 60s 1ms/sample - loss: 1.1068 - accuracy: 0.5179 - val_loss: 1.5160 - val_accuracy: 0.3968\n",
      "Epoch 52/100\n",
      "50000/50000 [==============================] - 59s 1ms/sample - loss: 1.0984 - accuracy: 0.5200 - val_loss: 1.5174 - val_accuracy: 0.3952\n",
      "Epoch 53/100\n",
      "50000/50000 [==============================] - 60s 1ms/sample - loss: 1.0907 - accuracy: 0.5271 - val_loss: 1.5269 - val_accuracy: 0.3877\n",
      "Epoch 54/100\n",
      "50000/50000 [==============================] - 59s 1ms/sample - loss: 1.0883 - accuracy: 0.5266 - val_loss: 1.5184 - val_accuracy: 0.3910\n"
     ]
    },
    {
     "name": "stdout",
     "output_type": "stream",
     "text": [
      "Epoch 55/100\n",
      "50000/50000 [==============================] - 59s 1ms/sample - loss: 1.0792 - accuracy: 0.5323 - val_loss: 1.5324 - val_accuracy: 0.3968\n",
      "Epoch 56/100\n",
      "50000/50000 [==============================] - 60s 1ms/sample - loss: 1.0742 - accuracy: 0.5313 - val_loss: 1.5236 - val_accuracy: 0.3992\n",
      "Epoch 57/100\n",
      "50000/50000 [==============================] - 60s 1ms/sample - loss: 1.0693 - accuracy: 0.5377 - val_loss: 1.5409 - val_accuracy: 0.3936\n",
      "Epoch 58/100\n",
      "50000/50000 [==============================] - 60s 1ms/sample - loss: 1.0651 - accuracy: 0.5411 - val_loss: 1.5450 - val_accuracy: 0.3876\n",
      "Epoch 59/100\n",
      "50000/50000 [==============================] - 60s 1ms/sample - loss: 1.0582 - accuracy: 0.5385 - val_loss: 1.5466 - val_accuracy: 0.3937\n",
      "Epoch 60/100\n",
      "50000/50000 [==============================] - 60s 1ms/sample - loss: 1.0540 - accuracy: 0.5411 - val_loss: 1.5941 - val_accuracy: 0.3737\n",
      "Epoch 61/100\n",
      "50000/50000 [==============================] - 60s 1ms/sample - loss: 1.0506 - accuracy: 0.5443 - val_loss: 1.5523 - val_accuracy: 0.3996\n",
      "Epoch 62/100\n",
      "50000/50000 [==============================] - 60s 1ms/sample - loss: 1.0466 - accuracy: 0.5468 - val_loss: 1.5312 - val_accuracy: 0.4035\n",
      "Epoch 63/100\n",
      "50000/50000 [==============================] - 60s 1ms/sample - loss: 1.0415 - accuracy: 0.5492 - val_loss: 1.5342 - val_accuracy: 0.3972\n",
      "Epoch 64/100\n",
      "50000/50000 [==============================] - 60s 1ms/sample - loss: 1.0357 - accuracy: 0.5537 - val_loss: 1.5841 - val_accuracy: 0.3853\n",
      "Epoch 65/100\n",
      "50000/50000 [==============================] - 60s 1ms/sample - loss: 1.0323 - accuracy: 0.5532 - val_loss: 1.5394 - val_accuracy: 0.3996\n",
      "Epoch 66/100\n",
      "50000/50000 [==============================] - 60s 1ms/sample - loss: 1.0259 - accuracy: 0.5574 - val_loss: 1.5348 - val_accuracy: 0.3998\n",
      "Epoch 67/100\n",
      "50000/50000 [==============================] - 60s 1ms/sample - loss: 1.0228 - accuracy: 0.5601 - val_loss: 1.5317 - val_accuracy: 0.4010\n",
      "Epoch 68/100\n",
      "50000/50000 [==============================] - 60s 1ms/sample - loss: 1.0193 - accuracy: 0.5601 - val_loss: 1.5379 - val_accuracy: 0.3998\n",
      "Epoch 69/100\n",
      "50000/50000 [==============================] - 60s 1ms/sample - loss: 1.0197 - accuracy: 0.5594 - val_loss: 1.5547 - val_accuracy: 0.4012\n",
      "Epoch 70/100\n",
      "50000/50000 [==============================] - 60s 1ms/sample - loss: 1.0157 - accuracy: 0.5625 - val_loss: 1.5643 - val_accuracy: 0.3951\n",
      "Epoch 71/100\n",
      "50000/50000 [==============================] - 60s 1ms/sample - loss: 1.0095 - accuracy: 0.5652 - val_loss: 1.5552 - val_accuracy: 0.4019\n",
      "Epoch 72/100\n",
      "50000/50000 [==============================] - 60s 1ms/sample - loss: 1.0070 - accuracy: 0.5617 - val_loss: 1.5432 - val_accuracy: 0.3992\n",
      "Epoch 73/100\n",
      "50000/50000 [==============================] - 60s 1ms/sample - loss: 1.0022 - accuracy: 0.5700 - val_loss: 1.5519 - val_accuracy: 0.4038\n",
      "Epoch 74/100\n",
      "50000/50000 [==============================] - 60s 1ms/sample - loss: 1.0016 - accuracy: 0.5659 - val_loss: 1.5480 - val_accuracy: 0.3958\n",
      "Epoch 75/100\n",
      "50000/50000 [==============================] - 60s 1ms/sample - loss: 0.9954 - accuracy: 0.5735 - val_loss: 1.5408 - val_accuracy: 0.4051\n",
      "Epoch 76/100\n",
      "50000/50000 [==============================] - 60s 1ms/sample - loss: 0.9919 - accuracy: 0.5706 - val_loss: 1.5579 - val_accuracy: 0.4027\n",
      "Epoch 77/100\n",
      "50000/50000 [==============================] - 60s 1ms/sample - loss: 0.9878 - accuracy: 0.5751 - val_loss: 1.5390 - val_accuracy: 0.4060\n",
      "Epoch 78/100\n",
      "50000/50000 [==============================] - 60s 1ms/sample - loss: 0.9843 - accuracy: 0.5712 - val_loss: 1.6516 - val_accuracy: 0.3918\n",
      "Epoch 79/100\n",
      "50000/50000 [==============================] - 60s 1ms/sample - loss: 0.9816 - accuracy: 0.5775 - val_loss: 1.5563 - val_accuracy: 0.3980\n",
      "Epoch 80/100\n",
      "50000/50000 [==============================] - 60s 1ms/sample - loss: 0.9783 - accuracy: 0.5803 - val_loss: 1.5614 - val_accuracy: 0.4029\n",
      "Epoch 81/100\n",
      "50000/50000 [==============================] - 60s 1ms/sample - loss: 0.9761 - accuracy: 0.5787 - val_loss: 1.5504 - val_accuracy: 0.4054\n",
      "Epoch 82/100\n",
      "50000/50000 [==============================] - 60s 1ms/sample - loss: 0.9717 - accuracy: 0.5851 - val_loss: 1.5430 - val_accuracy: 0.4016\n",
      "Epoch 83/100\n",
      "50000/50000 [==============================] - 60s 1ms/sample - loss: 0.9699 - accuracy: 0.5834 - val_loss: 1.5415 - val_accuracy: 0.4088\n",
      "Epoch 84/100\n",
      "50000/50000 [==============================] - 60s 1ms/sample - loss: 0.9660 - accuracy: 0.5833 - val_loss: 1.5563 - val_accuracy: 0.4009\n",
      "Epoch 85/100\n",
      "50000/50000 [==============================] - 60s 1ms/sample - loss: 0.9645 - accuracy: 0.5805 - val_loss: 1.5494 - val_accuracy: 0.4035\n",
      "Epoch 86/100\n",
      "50000/50000 [==============================] - 60s 1ms/sample - loss: 0.9616 - accuracy: 0.5842 - val_loss: 1.5775 - val_accuracy: 0.3947\n",
      "Epoch 87/100\n",
      "50000/50000 [==============================] - 60s 1ms/sample - loss: 0.9584 - accuracy: 0.5888 - val_loss: 1.5480 - val_accuracy: 0.4033\n",
      "Epoch 88/100\n",
      "50000/50000 [==============================] - 60s 1ms/sample - loss: 0.9555 - accuracy: 0.5888 - val_loss: 1.5695 - val_accuracy: 0.4038\n",
      "Epoch 89/100\n",
      "50000/50000 [==============================] - 60s 1ms/sample - loss: 0.9530 - accuracy: 0.5891 - val_loss: 1.6161 - val_accuracy: 0.4035\n",
      "Epoch 90/100\n",
      "50000/50000 [==============================] - 60s 1ms/sample - loss: 0.9493 - accuracy: 0.5931 - val_loss: 1.5665 - val_accuracy: 0.4058\n",
      "Epoch 91/100\n",
      "50000/50000 [==============================] - 60s 1ms/sample - loss: 0.9469 - accuracy: 0.5920 - val_loss: 1.5660 - val_accuracy: 0.4129\n",
      "Epoch 92/100\n",
      "50000/50000 [==============================] - 60s 1ms/sample - loss: 0.9451 - accuracy: 0.5946 - val_loss: 1.5737 - val_accuracy: 0.4111\n",
      "Epoch 93/100\n",
      "50000/50000 [==============================] - 60s 1ms/sample - loss: 0.9437 - accuracy: 0.5944 - val_loss: 1.5964 - val_accuracy: 0.4053\n",
      "Epoch 94/100\n",
      "50000/50000 [==============================] - 60s 1ms/sample - loss: 0.9416 - accuracy: 0.5947 - val_loss: 1.5590 - val_accuracy: 0.4129\n",
      "Epoch 95/100\n",
      "50000/50000 [==============================] - 60s 1ms/sample - loss: 0.9394 - accuracy: 0.5960 - val_loss: 1.5445 - val_accuracy: 0.4186\n",
      "Epoch 96/100\n",
      "50000/50000 [==============================] - 60s 1ms/sample - loss: 0.9363 - accuracy: 0.5992 - val_loss: 1.5746 - val_accuracy: 0.3993\n",
      "Epoch 97/100\n",
      "50000/50000 [==============================] - 60s 1ms/sample - loss: 0.9338 - accuracy: 0.5992 - val_loss: 1.5516 - val_accuracy: 0.4091\n",
      "Epoch 98/100\n",
      "50000/50000 [==============================] - 60s 1ms/sample - loss: 0.9309 - accuracy: 0.5993 - val_loss: 1.5620 - val_accuracy: 0.4105\n",
      "Epoch 99/100\n",
      "50000/50000 [==============================] - 60s 1ms/sample - loss: 0.9289 - accuracy: 0.6012 - val_loss: 1.5857 - val_accuracy: 0.4129\n",
      "Epoch 100/100\n",
      "50000/50000 [==============================] - 60s 1ms/sample - loss: 0.9265 - accuracy: 0.6039 - val_loss: 1.5662 - val_accuracy: 0.4106\n",
      "Test error: 1.5662364732742309\n",
      "Test accuracy: 0.4106\n"
     ]
    }
   ],
   "source": [
    "batch_size=128\n",
    "epochs=100\n",
    "history = model.fit(X_train, Y_train,\n",
    "                    batch_size=batch_size, epochs=epochs,\n",
    "                    verbose=1, validation_data=(X_test, Y_test))\n",
    "score = model.evaluate(X_test, Y_test, verbose=0) \n",
    "print('Test error:', score[0]) \n",
    "print('Test accuracy:', score[1])"
   ]
  },
  {
   "cell_type": "code",
   "execution_count": 12,
   "metadata": {},
   "outputs": [
    {
     "data": {
      "image/png": "[encoded data removed]",
      "text/plain": [
       "<Figure size 432x288 with 1 Axes>"
      ]
     },
     "metadata": {
      "needs_background": "light"
     },
     "output_type": "display_data"
    }
   ],
   "source": [
    "import matplotlib.pyplot as plt\n",
    "plt.plot(history.history['accuracy'],'r')\n",
    "plt.plot(history.history['val_accuracy'],'b')\n",
    "plt.legend({'training accuracy':'r', 'validation accuracy': 'b'})\n",
    "plt.show()"
   ]
  },
  {
   "cell_type": "code",
   "execution_count": 13,
   "metadata": {
    "scrolled": true
   },
   "outputs": [
    {
     "data": {
      "image/png": "[encoded data removed]",
      "text/plain": [
       "<Figure size 432x288 with 1 Axes>"
      ]
     },
     "metadata": {
      "needs_background": "light"
     },
     "output_type": "display_data"
    }
   ],
   "source": [
    "plt.plot(history.history['loss'],'r')\n",
    "plt.plot(history.history['val_loss'],'b')\n",
    "plt.legend({'training loss':'r', 'validation loss': 'b'})\n",
    "plt.show()"
   ]
  },
  {
   "cell_type": "code",
   "execution_count": 14,
   "metadata": {},
   "outputs": [],
   "source": [
    "predictions_2 = model.predict_classes(X_test)"
   ]
  },
  {
   "cell_type": "code",
   "execution_count": null,
   "metadata": {},
   "outputs": [],
   "source": []
  },
  {
   "cell_type": "markdown",
   "metadata": {},
   "source": [
    "## arch 2 fiter increase"
   ]
  },
  {
   "cell_type": "code",
   "execution_count": 17,
   "metadata": {},
   "outputs": [],
   "source": [
    "model = Sequential()\n",
    "\n",
    "# 32,32\n",
    "model.add(Convolution2D(32,(3,3), activation='relu', input_shape=(32,32,3)))\n",
    "model.add(BatchNormalization())\n",
    "\n",
    "# 30,30\n",
    "model.add(Convolution2D(64,(3,3), activation='relu'))\n",
    "model.add(BatchNormalization())\n",
    "\n",
    "# 28,28\n",
    "model.add(MaxPooling2D(pool_size=(2,2)))\n",
    "\n",
    "# # 14,14\n",
    "model.add(Convolution2D(10,1, activation='relu'))\n",
    "\n",
    "# 14,14\n",
    "model.add(Convolution2D(128,(3,3), activation='relu'))\n",
    "model.add(BatchNormalization())\n",
    "\n",
    "# 12, 12\n",
    "model.add(MaxPooling2D(pool_size=(2,2)))\n",
    "\n",
    "model.add(Convolution2D(10, 1, activation='relu'))\n",
    "\n",
    "model.add(Convolution2D(10, 6))\n",
    "\n",
    "model.add(Flatten())\n",
    "model.add(Activation('softmax'))\n",
    "\n",
    "model.add(Dense(output_dim, input_dim=input_dim, activation='softmax'))"
   ]
  },
  {
   "cell_type": "code",
   "execution_count": 18,
   "metadata": {},
   "outputs": [
    {
     "name": "stdout",
     "output_type": "stream",
     "text": [
      "Model: \"sequential_2\"\n",
      "_________________________________________________________________\n",
      "Layer (type)                 Output Shape              Param #   \n",
      "=================================================================\n",
      "conv2d_13 (Conv2D)           (None, 30, 30, 32)        896       \n",
      "_________________________________________________________________\n",
      "batch_normalization_7 (Batch (None, 30, 30, 32)        128       \n",
      "_________________________________________________________________\n",
      "conv2d_14 (Conv2D)           (None, 28, 28, 64)        18496     \n",
      "_________________________________________________________________\n",
      "batch_normalization_8 (Batch (None, 28, 28, 64)        256       \n",
      "_________________________________________________________________\n",
      "max_pooling2d_4 (MaxPooling2 (None, 14, 14, 64)        0         \n",
      "_________________________________________________________________\n",
      "conv2d_15 (Conv2D)           (None, 14, 14, 10)        650       \n",
      "_________________________________________________________________\n",
      "conv2d_16 (Conv2D)           (None, 12, 12, 128)       11648     \n",
      "_________________________________________________________________\n",
      "batch_normalization_9 (Batch (None, 12, 12, 128)       512       \n",
      "_________________________________________________________________\n",
      "max_pooling2d_5 (MaxPooling2 (None, 6, 6, 128)         0         \n",
      "_________________________________________________________________\n",
      "conv2d_17 (Conv2D)           (None, 6, 6, 10)          1290      \n",
      "_________________________________________________________________\n",
      "conv2d_18 (Conv2D)           (None, 1, 1, 10)          3610      \n",
      "_________________________________________________________________\n",
      "flatten_2 (Flatten)          (None, 10)                0         \n",
      "_________________________________________________________________\n",
      "activation_2 (Activation)    (None, 10)                0         \n",
      "_________________________________________________________________\n",
      "dense_2 (Dense)              (None, 10)                110       \n",
      "=================================================================\n",
      "Total params: 37,596\n",
      "Trainable params: 37,148\n",
      "Non-trainable params: 448\n",
      "_________________________________________________________________\n"
     ]
    }
   ],
   "source": [
    "model.summary()"
   ]
  },
  {
   "cell_type": "code",
   "execution_count": 19,
   "metadata": {},
   "outputs": [],
   "source": [
    "model.compile(optimizer='sgd', loss='categorical_crossentropy', metrics=['accuracy'])"
   ]
  },
  {
   "cell_type": "code",
   "execution_count": 20,
   "metadata": {
    "scrolled": true
   },
   "outputs": [
    {
     "name": "stdout",
     "output_type": "stream",
     "text": [
      "Train on 50000 samples, validate on 10000 samples\n",
      "Epoch 1/100\n",
      "50000/50000 [==============================] - 55s 1ms/sample - loss: 2.2796 - accuracy: 0.1336 - val_loss: 2.2590 - val_accuracy: 0.1662\n",
      "Epoch 2/100\n",
      "50000/50000 [==============================] - 54s 1ms/sample - loss: 2.2273 - accuracy: 0.2057 - val_loss: 2.2071 - val_accuracy: 0.2199\n",
      "Epoch 3/100\n",
      "50000/50000 [==============================] - 53s 1ms/sample - loss: 2.1757 - accuracy: 0.2383 - val_loss: 2.1594 - val_accuracy: 0.2438\n",
      "Epoch 4/100\n",
      "50000/50000 [==============================] - 53s 1ms/sample - loss: 2.1218 - accuracy: 0.2950 - val_loss: 2.1044 - val_accuracy: 0.3003\n",
      "Epoch 5/100\n",
      "50000/50000 [==============================] - 53s 1ms/sample - loss: 2.0616 - accuracy: 0.3389 - val_loss: 2.0551 - val_accuracy: 0.3255\n",
      "Epoch 6/100\n",
      "50000/50000 [==============================] - 53s 1ms/sample - loss: 1.9984 - accuracy: 0.3583 - val_loss: 2.0050 - val_accuracy: 0.3372\n",
      "Epoch 7/100\n",
      "50000/50000 [==============================] - 54s 1ms/sample - loss: 1.9363 - accuracy: 0.3694 - val_loss: 1.9687 - val_accuracy: 0.3358\n",
      "Epoch 8/100\n",
      "50000/50000 [==============================] - 53s 1ms/sample - loss: 1.8787 - accuracy: 0.3791 - val_loss: 1.8952 - val_accuracy: 0.3607\n",
      "Epoch 9/100\n",
      "50000/50000 [==============================] - 53s 1ms/sample - loss: 1.8240 - accuracy: 0.3876 - val_loss: 1.8891 - val_accuracy: 0.3544\n",
      "Epoch 10/100\n",
      "50000/50000 [==============================] - 53s 1ms/sample - loss: 1.7739 - accuracy: 0.3950 - val_loss: 1.8106 - val_accuracy: 0.3706\n",
      "Epoch 11/100\n",
      "50000/50000 [==============================] - 54s 1ms/sample - loss: 1.7296 - accuracy: 0.4010 - val_loss: 1.7989 - val_accuracy: 0.3667\n",
      "Epoch 12/100\n",
      "50000/50000 [==============================] - 53s 1ms/sample - loss: 1.6877 - accuracy: 0.4067 - val_loss: 1.7217 - val_accuracy: 0.3883\n",
      "Epoch 13/100\n",
      "50000/50000 [==============================] - 54s 1ms/sample - loss: 1.6506 - accuracy: 0.4130 - val_loss: 1.7764 - val_accuracy: 0.3546\n",
      "Epoch 14/100\n",
      "50000/50000 [==============================] - 53s 1ms/sample - loss: 1.6172 - accuracy: 0.4164 - val_loss: 1.7438 - val_accuracy: 0.3628\n",
      "Epoch 15/100\n",
      "50000/50000 [==============================] - 53s 1ms/sample - loss: 1.5825 - accuracy: 0.4241 - val_loss: 1.7054 - val_accuracy: 0.3784\n",
      "Epoch 16/100\n",
      "50000/50000 [==============================] - 53s 1ms/sample - loss: 1.5563 - accuracy: 0.4262 - val_loss: 1.6270 - val_accuracy: 0.3969\n",
      "Epoch 17/100\n",
      "50000/50000 [==============================] - 53s 1ms/sample - loss: 1.5285 - accuracy: 0.4290 - val_loss: 1.7025 - val_accuracy: 0.3750\n",
      "Epoch 18/100\n",
      "50000/50000 [==============================] - 53s 1ms/sample - loss: 1.5019 - accuracy: 0.4350 - val_loss: 1.5891 - val_accuracy: 0.4049\n",
      "Epoch 19/100\n",
      "50000/50000 [==============================] - 53s 1ms/sample - loss: 1.4802 - accuracy: 0.4367 - val_loss: 1.5628 - val_accuracy: 0.4123\n",
      "Epoch 20/100\n",
      "50000/50000 [==============================] - 53s 1ms/sample - loss: 1.4573 - accuracy: 0.4412 - val_loss: 1.5634 - val_accuracy: 0.4084\n",
      "Epoch 21/100\n",
      "50000/50000 [==============================] - 53s 1ms/sample - loss: 1.4376 - accuracy: 0.4448 - val_loss: 1.5299 - val_accuracy: 0.4115\n",
      "Epoch 22/100\n",
      "50000/50000 [==============================] - 53s 1ms/sample - loss: 1.4194 - accuracy: 0.4476 - val_loss: 1.5595 - val_accuracy: 0.4022\n",
      "Epoch 23/100\n",
      "50000/50000 [==============================] - 54s 1ms/sample - loss: 1.4034 - accuracy: 0.4500 - val_loss: 1.5029 - val_accuracy: 0.4238\n",
      "Epoch 24/100\n",
      "50000/50000 [==============================] - 53s 1ms/sample - loss: 1.3846 - accuracy: 0.4539 - val_loss: 1.6987 - val_accuracy: 0.3654\n",
      "Epoch 25/100\n",
      "50000/50000 [==============================] - 53s 1ms/sample - loss: 1.3701 - accuracy: 0.4568 - val_loss: 1.4709 - val_accuracy: 0.4275\n",
      "Epoch 26/100\n",
      "50000/50000 [==============================] - 53s 1ms/sample - loss: 1.3568 - accuracy: 0.4610 - val_loss: 1.5287 - val_accuracy: 0.4112\n",
      "Epoch 27/100\n",
      "50000/50000 [==============================] - 53s 1ms/sample - loss: 1.3401 - accuracy: 0.4644 - val_loss: 1.5557 - val_accuracy: 0.3996\n",
      "Epoch 28/100\n",
      "50000/50000 [==============================] - 53s 1ms/sample - loss: 1.3291 - accuracy: 0.4655 - val_loss: 1.5294 - val_accuracy: 0.4077\n",
      "Epoch 29/100\n",
      "50000/50000 [==============================] - 54s 1ms/sample - loss: 1.3168 - accuracy: 0.4689 - val_loss: 1.5557 - val_accuracy: 0.4027\n",
      "Epoch 30/100\n",
      "50000/50000 [==============================] - 53s 1ms/sample - loss: 1.3026 - accuracy: 0.4734 - val_loss: 1.5012 - val_accuracy: 0.4174\n",
      "Epoch 31/100\n",
      "50000/50000 [==============================] - 53s 1ms/sample - loss: 1.2927 - accuracy: 0.4762 - val_loss: 1.4354 - val_accuracy: 0.4397\n",
      "Epoch 32/100\n",
      "50000/50000 [==============================] - 53s 1ms/sample - loss: 1.2813 - accuracy: 0.4790 - val_loss: 1.4733 - val_accuracy: 0.4282\n",
      "Epoch 33/100\n",
      "50000/50000 [==============================] - 54s 1ms/sample - loss: 1.2713 - accuracy: 0.4814 - val_loss: 1.4398 - val_accuracy: 0.4312\n",
      "Epoch 34/100\n",
      "50000/50000 [==============================] - 54s 1ms/sample - loss: 1.2604 - accuracy: 0.4837 - val_loss: 1.4706 - val_accuracy: 0.4250\n",
      "Epoch 35/100\n",
      "50000/50000 [==============================] - 53s 1ms/sample - loss: 1.2495 - accuracy: 0.4873 - val_loss: 1.4745 - val_accuracy: 0.4284\n",
      "Epoch 36/100\n",
      "50000/50000 [==============================] - 53s 1ms/sample - loss: 1.2413 - accuracy: 0.4861 - val_loss: 1.4106 - val_accuracy: 0.4443\n",
      "Epoch 37/100\n",
      "50000/50000 [==============================] - 53s 1ms/sample - loss: 1.2322 - accuracy: 0.4895 - val_loss: 1.4071 - val_accuracy: 0.4401\n",
      "Epoch 38/100\n",
      "50000/50000 [==============================] - 53s 1ms/sample - loss: 1.2224 - accuracy: 0.4926 - val_loss: 1.4771 - val_accuracy: 0.4183\n",
      "Epoch 39/100\n",
      "50000/50000 [==============================] - 54s 1ms/sample - loss: 1.2173 - accuracy: 0.4916 - val_loss: 1.6730 - val_accuracy: 0.3831\n",
      "Epoch 40/100\n",
      "50000/50000 [==============================] - 53s 1ms/sample - loss: 1.2108 - accuracy: 0.4954 - val_loss: 1.4410 - val_accuracy: 0.4372\n",
      "Epoch 41/100\n",
      "50000/50000 [==============================] - 53s 1ms/sample - loss: 1.2004 - accuracy: 0.4965 - val_loss: 1.4255 - val_accuracy: 0.4394\n",
      "Epoch 42/100\n",
      "50000/50000 [==============================] - 53s 1ms/sample - loss: 1.1907 - accuracy: 0.4995 - val_loss: 1.4490 - val_accuracy: 0.4340\n",
      "Epoch 43/100\n",
      "50000/50000 [==============================] - 54s 1ms/sample - loss: 1.1845 - accuracy: 0.5024 - val_loss: 1.4421 - val_accuracy: 0.4388\n",
      "Epoch 44/100\n",
      "50000/50000 [==============================] - 53s 1ms/sample - loss: 1.1778 - accuracy: 0.5028 - val_loss: 1.4116 - val_accuracy: 0.4435\n",
      "Epoch 45/100\n",
      "50000/50000 [==============================] - 54s 1ms/sample - loss: 1.1737 - accuracy: 0.5050 - val_loss: 1.4671 - val_accuracy: 0.4283\n",
      "Epoch 46/100\n",
      "50000/50000 [==============================] - 53s 1ms/sample - loss: 1.1628 - accuracy: 0.5056 - val_loss: 1.3764 - val_accuracy: 0.4548\n",
      "Epoch 47/100\n",
      "50000/50000 [==============================] - 54s 1ms/sample - loss: 1.1571 - accuracy: 0.5094 - val_loss: 1.4053 - val_accuracy: 0.4440\n",
      "Epoch 48/100\n",
      "50000/50000 [==============================] - 53s 1ms/sample - loss: 1.1507 - accuracy: 0.5115 - val_loss: 1.4141 - val_accuracy: 0.4434\n",
      "Epoch 49/100\n",
      "50000/50000 [==============================] - 53s 1ms/sample - loss: 1.1446 - accuracy: 0.5108 - val_loss: 1.3846 - val_accuracy: 0.4470\n",
      "Epoch 50/100\n",
      "50000/50000 [==============================] - 53s 1ms/sample - loss: 1.1425 - accuracy: 0.5105 - val_loss: 1.4028 - val_accuracy: 0.4525\n",
      "Epoch 51/100\n",
      "50000/50000 [==============================] - 54s 1ms/sample - loss: 1.1347 - accuracy: 0.5126 - val_loss: 1.4825 - val_accuracy: 0.4238\n",
      "Epoch 52/100\n",
      "50000/50000 [==============================] - 54s 1ms/sample - loss: 1.1255 - accuracy: 0.5180 - val_loss: 1.3956 - val_accuracy: 0.4503\n",
      "Epoch 53/100\n",
      "50000/50000 [==============================] - 54s 1ms/sample - loss: 1.1209 - accuracy: 0.5187 - val_loss: 1.5024 - val_accuracy: 0.4243\n",
      "Epoch 54/100\n",
      "50000/50000 [==============================] - 53s 1ms/sample - loss: 1.1148 - accuracy: 0.5199 - val_loss: 1.4352 - val_accuracy: 0.4452\n"
     ]
    },
    {
     "name": "stdout",
     "output_type": "stream",
     "text": [
      "Epoch 55/100\n",
      "50000/50000 [==============================] - 53s 1ms/sample - loss: 1.1141 - accuracy: 0.5186 - val_loss: 1.3951 - val_accuracy: 0.4480\n",
      "Epoch 56/100\n",
      "50000/50000 [==============================] - 54s 1ms/sample - loss: 1.1073 - accuracy: 0.5231 - val_loss: 1.4007 - val_accuracy: 0.4457\n",
      "Epoch 57/100\n",
      "50000/50000 [==============================] - 54s 1ms/sample - loss: 1.0991 - accuracy: 0.5246 - val_loss: 1.4013 - val_accuracy: 0.4532\n",
      "Epoch 58/100\n",
      "50000/50000 [==============================] - 53s 1ms/sample - loss: 1.0971 - accuracy: 0.5251 - val_loss: 1.4863 - val_accuracy: 0.4282\n",
      "Epoch 59/100\n",
      "50000/50000 [==============================] - 54s 1ms/sample - loss: 1.0917 - accuracy: 0.5261 - val_loss: 1.3934 - val_accuracy: 0.4462\n",
      "Epoch 60/100\n",
      "50000/50000 [==============================] - 53s 1ms/sample - loss: 1.0860 - accuracy: 0.5286 - val_loss: 1.4218 - val_accuracy: 0.4505\n",
      "Epoch 61/100\n",
      "50000/50000 [==============================] - 53s 1ms/sample - loss: 1.0850 - accuracy: 0.5278 - val_loss: 1.3905 - val_accuracy: 0.4542\n",
      "Epoch 62/100\n",
      "50000/50000 [==============================] - 53s 1ms/sample - loss: 1.0787 - accuracy: 0.5292 - val_loss: 1.4309 - val_accuracy: 0.4435\n",
      "Epoch 63/100\n",
      "50000/50000 [==============================] - 54s 1ms/sample - loss: 1.0750 - accuracy: 0.5323 - val_loss: 1.4577 - val_accuracy: 0.4391\n",
      "Epoch 64/100\n",
      "50000/50000 [==============================] - 53s 1ms/sample - loss: 1.0699 - accuracy: 0.5323 - val_loss: 1.4342 - val_accuracy: 0.4404\n",
      "Epoch 65/100\n",
      "50000/50000 [==============================] - 53s 1ms/sample - loss: 1.0632 - accuracy: 0.5352 - val_loss: 1.4238 - val_accuracy: 0.4464\n",
      "Epoch 66/100\n",
      "50000/50000 [==============================] - 53s 1ms/sample - loss: 1.0618 - accuracy: 0.5355 - val_loss: 1.4207 - val_accuracy: 0.4480\n",
      "Epoch 67/100\n",
      "50000/50000 [==============================] - 54s 1ms/sample - loss: 1.0563 - accuracy: 0.5345 - val_loss: 1.4976 - val_accuracy: 0.4343\n",
      "Epoch 68/100\n",
      "50000/50000 [==============================] - 53s 1ms/sample - loss: 1.0554 - accuracy: 0.5373 - val_loss: 1.4162 - val_accuracy: 0.4567\n",
      "Epoch 69/100\n",
      "50000/50000 [==============================] - 53s 1ms/sample - loss: 1.0460 - accuracy: 0.5395 - val_loss: 1.4141 - val_accuracy: 0.4420\n",
      "Epoch 70/100\n",
      "50000/50000 [==============================] - 53s 1ms/sample - loss: 1.0408 - accuracy: 0.5397 - val_loss: 1.3945 - val_accuracy: 0.4519\n",
      "Epoch 71/100\n",
      "50000/50000 [==============================] - 53s 1ms/sample - loss: 1.0453 - accuracy: 0.5394 - val_loss: 1.3988 - val_accuracy: 0.4601\n",
      "Epoch 72/100\n",
      "50000/50000 [==============================] - 53s 1ms/sample - loss: 1.0415 - accuracy: 0.5408 - val_loss: 1.3947 - val_accuracy: 0.4638\n",
      "Epoch 73/100\n",
      "50000/50000 [==============================] - 54s 1ms/sample - loss: 1.0371 - accuracy: 0.5406 - val_loss: 1.4634 - val_accuracy: 0.4463\n",
      "Epoch 74/100\n",
      "50000/50000 [==============================] - 53s 1ms/sample - loss: 1.0322 - accuracy: 0.5438 - val_loss: 1.3993 - val_accuracy: 0.4595\n",
      "Epoch 75/100\n",
      "50000/50000 [==============================] - 53s 1ms/sample - loss: 1.0275 - accuracy: 0.5452 - val_loss: 1.4533 - val_accuracy: 0.4458\n",
      "Epoch 76/100\n",
      "50000/50000 [==============================] - 53s 1ms/sample - loss: 1.0296 - accuracy: 0.5459 - val_loss: 1.4423 - val_accuracy: 0.4487\n",
      "Epoch 77/100\n",
      "50000/50000 [==============================] - 53s 1ms/sample - loss: 1.0217 - accuracy: 0.5453 - val_loss: 1.4993 - val_accuracy: 0.4417\n",
      "Epoch 78/100\n",
      "50000/50000 [==============================] - 54s 1ms/sample - loss: 1.0161 - accuracy: 0.5479 - val_loss: 1.4496 - val_accuracy: 0.4488\n",
      "Epoch 79/100\n",
      "50000/50000 [==============================] - 54s 1ms/sample - loss: 1.0204 - accuracy: 0.5453 - val_loss: 1.3904 - val_accuracy: 0.4619\n",
      "Epoch 80/100\n",
      "50000/50000 [==============================] - 53s 1ms/sample - loss: 1.0143 - accuracy: 0.5487 - val_loss: 1.3992 - val_accuracy: 0.4600\n",
      "Epoch 81/100\n",
      "50000/50000 [==============================] - 53s 1ms/sample - loss: 1.0075 - accuracy: 0.5522 - val_loss: 1.3957 - val_accuracy: 0.4604\n",
      "Epoch 82/100\n",
      "50000/50000 [==============================] - 53s 1ms/sample - loss: 1.0063 - accuracy: 0.5528 - val_loss: 1.4556 - val_accuracy: 0.4516\n",
      "Epoch 83/100\n",
      "50000/50000 [==============================] - 53s 1ms/sample - loss: 1.0060 - accuracy: 0.5515 - val_loss: 1.4901 - val_accuracy: 0.4409\n",
      "Epoch 84/100\n",
      "50000/50000 [==============================] - 53s 1ms/sample - loss: 0.9981 - accuracy: 0.5550 - val_loss: 1.4817 - val_accuracy: 0.4445\n",
      "Epoch 85/100\n",
      "50000/50000 [==============================] - 55s 1ms/sample - loss: 0.9975 - accuracy: 0.5535 - val_loss: 1.4145 - val_accuracy: 0.4591\n",
      "Epoch 86/100\n",
      "50000/50000 [==============================] - 54s 1ms/sample - loss: 0.9942 - accuracy: 0.5571 - val_loss: 1.4601 - val_accuracy: 0.4469\n",
      "Epoch 87/100\n",
      "50000/50000 [==============================] - 54s 1ms/sample - loss: 0.9934 - accuracy: 0.5536 - val_loss: 1.4005 - val_accuracy: 0.4602\n",
      "Epoch 88/100\n",
      "50000/50000 [==============================] - 53s 1ms/sample - loss: 0.9876 - accuracy: 0.5578 - val_loss: 1.3991 - val_accuracy: 0.4644\n",
      "Epoch 89/100\n",
      "50000/50000 [==============================] - 54s 1ms/sample - loss: 0.9849 - accuracy: 0.5583 - val_loss: 1.4714 - val_accuracy: 0.4557\n",
      "Epoch 90/100\n",
      "50000/50000 [==============================] - 53s 1ms/sample - loss: 0.9896 - accuracy: 0.5560 - val_loss: 1.5436 - val_accuracy: 0.4396\n",
      "Epoch 91/100\n",
      "50000/50000 [==============================] - 54s 1ms/sample - loss: 0.9804 - accuracy: 0.5581 - val_loss: 1.4509 - val_accuracy: 0.4591\n",
      "Epoch 92/100\n",
      "50000/50000 [==============================] - 53s 1ms/sample - loss: 0.9816 - accuracy: 0.5615 - val_loss: 1.4287 - val_accuracy: 0.4648\n",
      "Epoch 93/100\n",
      "50000/50000 [==============================] - 53s 1ms/sample - loss: 0.9774 - accuracy: 0.5618 - val_loss: 1.5909 - val_accuracy: 0.4308\n",
      "Epoch 94/100\n",
      "50000/50000 [==============================] - 53s 1ms/sample - loss: 0.9723 - accuracy: 0.5621 - val_loss: 1.5097 - val_accuracy: 0.4524\n",
      "Epoch 95/100\n",
      "50000/50000 [==============================] - 54s 1ms/sample - loss: 0.9711 - accuracy: 0.5643 - val_loss: 1.4200 - val_accuracy: 0.4620\n",
      "Epoch 96/100\n",
      "50000/50000 [==============================] - 53s 1ms/sample - loss: 0.9684 - accuracy: 0.5634 - val_loss: 1.4705 - val_accuracy: 0.4563\n",
      "Epoch 97/100\n",
      "50000/50000 [==============================] - 53s 1ms/sample - loss: 0.9687 - accuracy: 0.5636 - val_loss: 1.4812 - val_accuracy: 0.4535\n",
      "Epoch 98/100\n",
      "50000/50000 [==============================] - 53s 1ms/sample - loss: 0.9655 - accuracy: 0.5643 - val_loss: 1.4193 - val_accuracy: 0.4650\n",
      "Epoch 99/100\n",
      "50000/50000 [==============================] - 53s 1ms/sample - loss: 0.9604 - accuracy: 0.5668 - val_loss: 1.4415 - val_accuracy: 0.4553\n",
      "Epoch 100/100\n",
      "50000/50000 [==============================] - 53s 1ms/sample - loss: 0.9608 - accuracy: 0.5663 - val_loss: 1.4009 - val_accuracy: 0.4668\n",
      "Test error: 1.4008614562988282\n",
      "Test accuracy: 0.4668\n"
     ]
    }
   ],
   "source": [
    "batch_size=128\n",
    "epochs=100\n",
    "history = model.fit(X_train, Y_train,\n",
    "                    batch_size=batch_size, epochs=epochs,\n",
    "                    verbose=1, validation_data=(X_test, Y_test))\n",
    "score = model.evaluate(X_test, Y_test, verbose=0) \n",
    "print('Test error:', score[0]) \n",
    "print('Test accuracy:', score[1])"
   ]
  },
  {
   "cell_type": "code",
   "execution_count": 21,
   "metadata": {},
   "outputs": [
    {
     "data": {
      "image/png": "[encoded data removed]",
      "text/plain": [
       "<Figure size 432x288 with 1 Axes>"
      ]
     },
     "metadata": {
      "needs_background": "light"
     },
     "output_type": "display_data"
    }
   ],
   "source": [
    "import matplotlib.pyplot as plt\n",
    "plt.plot(history.history['accuracy'],'r')\n",
    "plt.plot(history.history['val_accuracy'],'b')\n",
    "plt.legend({'training accuracy':'r', 'validation accuracy': 'b'})\n",
    "plt.show()"
   ]
  },
  {
   "cell_type": "code",
   "execution_count": 22,
   "metadata": {
    "scrolled": false
   },
   "outputs": [
    {
     "data": {
      "image/png": "[encoded data removed]",
      "text/plain": [
       "<Figure size 432x288 with 1 Axes>"
      ]
     },
     "metadata": {
      "needs_background": "light"
     },
     "output_type": "display_data"
    }
   ],
   "source": [
    "plt.plot(history.history['loss'],'r')\n",
    "plt.plot(history.history['val_loss'],'b')\n",
    "plt.legend({'training loss':'r', 'validation loss': 'b'})\n",
    "plt.show()"
   ]
  },
  {
   "cell_type": "code",
   "execution_count": 23,
   "metadata": {},
   "outputs": [],
   "source": [
    "predictions_3 = model.predict_classes(X_test)"
   ]
  },
  {
   "cell_type": "code",
   "execution_count": null,
   "metadata": {},
   "outputs": [],
   "source": []
  }
 ],
 "metadata": {
  "kernelspec": {
   "display_name": "Python 3",
   "language": "python",
   "name": "python3"
  },
  "language_info": {
   "codemirror_mode": {
    "name": "ipython",
    "version": 3
   },
   "file_extension": ".py",
   "mimetype": "text/x-python",
   "name": "python",
   "nbconvert_exporter": "python",
   "pygments_lexer": "ipython3",
   "version": "3.7.5"
  }
 },
 "nbformat": 4,
 "nbformat_minor": 2
}
