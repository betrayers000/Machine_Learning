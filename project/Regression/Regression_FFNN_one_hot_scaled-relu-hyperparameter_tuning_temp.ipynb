{
 "cells": [
  {
   "cell_type": "markdown",
   "metadata": {},
   "source": [
    "# Regression - FFNN - one_hot + normalize"
   ]
  },
  {
   "cell_type": "code",
   "execution_count": 1,
   "metadata": {},
   "outputs": [],
   "source": [
    "import numpy as np\n",
    "import pandas as pd\n",
    "import seaborn as sns\n",
    "import matplotlib.pyplot as plt"
   ]
  },
  {
   "cell_type": "code",
   "execution_count": 2,
   "metadata": {},
   "outputs": [],
   "source": [
    "from sklearn.metrics import mean_squared_error as mse\n",
    "from sklearn.metrics import r2_score as r2\n",
    "from sklearn.preprocessing import StandardScaler"
   ]
  },
  {
   "cell_type": "code",
   "execution_count": 3,
   "metadata": {},
   "outputs": [],
   "source": [
    "from tensorflow.keras import Sequential\n",
    "from tensorflow.keras.layers import Dense, Dropout\n",
    "from tensorflow.keras import backend as K\n",
    "import tensorflow as tf"
   ]
  },
  {
   "cell_type": "code",
   "execution_count": 4,
   "metadata": {},
   "outputs": [],
   "source": [
    "df = pd.read_csv('abalone.data',\n",
    "                 names=['Sex','Length','Diameter','Height','Whole weight','Shucked weight','Viscera weight','Shell weight','Rings'])"
   ]
  },
  {
   "cell_type": "code",
   "execution_count": 5,
   "metadata": {},
   "outputs": [],
   "source": [
    "from sklearn.model_selection import train_test_split"
   ]
  },
  {
   "cell_type": "code",
   "execution_count": 6,
   "metadata": {},
   "outputs": [],
   "source": [
    "df['Sex'] = df['Sex'].replace(('I','M','F'),(3,1,2))\n",
    "\n",
    "X = df.iloc[:,:-1].values\n",
    "y = df.iloc[:, -1].values\n",
    "\n",
    "X_train, X_test, y_train, y_test = train_test_split(X, y, test_size=0.2, random_state=7)"
   ]
  },
  {
   "cell_type": "code",
   "execution_count": 7,
   "metadata": {
    "scrolled": true
   },
   "outputs": [
    {
     "data": {
      "text/html": [
       "<div>\n",
       "<style scoped>\n",
       "    .dataframe tbody tr th:only-of-type {\n",
       "        vertical-align: middle;\n",
       "    }\n",
       "\n",
       "    .dataframe tbody tr th {\n",
       "        vertical-align: top;\n",
       "    }\n",
       "\n",
       "    .dataframe thead th {\n",
       "        text-align: right;\n",
       "    }\n",
       "</style>\n",
       "<table border=\"1\" class=\"dataframe\">\n",
       "  <thead>\n",
       "    <tr style=\"text-align: right;\">\n",
       "      <th></th>\n",
       "      <th>Sex</th>\n",
       "      <th>Length</th>\n",
       "      <th>Diameter</th>\n",
       "      <th>Height</th>\n",
       "      <th>Whole weight</th>\n",
       "      <th>Shucked weight</th>\n",
       "      <th>Viscera weight</th>\n",
       "      <th>Shell weight</th>\n",
       "      <th>Rings</th>\n",
       "    </tr>\n",
       "  </thead>\n",
       "  <tbody>\n",
       "    <tr>\n",
       "      <th>0</th>\n",
       "      <td>1</td>\n",
       "      <td>0.455</td>\n",
       "      <td>0.365</td>\n",
       "      <td>0.095</td>\n",
       "      <td>0.5140</td>\n",
       "      <td>0.2245</td>\n",
       "      <td>0.1010</td>\n",
       "      <td>0.150</td>\n",
       "      <td>15</td>\n",
       "    </tr>\n",
       "    <tr>\n",
       "      <th>1</th>\n",
       "      <td>1</td>\n",
       "      <td>0.350</td>\n",
       "      <td>0.265</td>\n",
       "      <td>0.090</td>\n",
       "      <td>0.2255</td>\n",
       "      <td>0.0995</td>\n",
       "      <td>0.0485</td>\n",
       "      <td>0.070</td>\n",
       "      <td>7</td>\n",
       "    </tr>\n",
       "    <tr>\n",
       "      <th>2</th>\n",
       "      <td>2</td>\n",
       "      <td>0.530</td>\n",
       "      <td>0.420</td>\n",
       "      <td>0.135</td>\n",
       "      <td>0.6770</td>\n",
       "      <td>0.2565</td>\n",
       "      <td>0.1415</td>\n",
       "      <td>0.210</td>\n",
       "      <td>9</td>\n",
       "    </tr>\n",
       "    <tr>\n",
       "      <th>3</th>\n",
       "      <td>1</td>\n",
       "      <td>0.440</td>\n",
       "      <td>0.365</td>\n",
       "      <td>0.125</td>\n",
       "      <td>0.5160</td>\n",
       "      <td>0.2155</td>\n",
       "      <td>0.1140</td>\n",
       "      <td>0.155</td>\n",
       "      <td>10</td>\n",
       "    </tr>\n",
       "    <tr>\n",
       "      <th>4</th>\n",
       "      <td>3</td>\n",
       "      <td>0.330</td>\n",
       "      <td>0.255</td>\n",
       "      <td>0.080</td>\n",
       "      <td>0.2050</td>\n",
       "      <td>0.0895</td>\n",
       "      <td>0.0395</td>\n",
       "      <td>0.055</td>\n",
       "      <td>7</td>\n",
       "    </tr>\n",
       "  </tbody>\n",
       "</table>\n",
       "</div>"
      ],
      "text/plain": [
       "   Sex  Length  Diameter  Height  Whole weight  Shucked weight  \\\n",
       "0    1   0.455     0.365   0.095        0.5140          0.2245   \n",
       "1    1   0.350     0.265   0.090        0.2255          0.0995   \n",
       "2    2   0.530     0.420   0.135        0.6770          0.2565   \n",
       "3    1   0.440     0.365   0.125        0.5160          0.2155   \n",
       "4    3   0.330     0.255   0.080        0.2050          0.0895   \n",
       "\n",
       "   Viscera weight  Shell weight  Rings  \n",
       "0          0.1010         0.150     15  \n",
       "1          0.0485         0.070      7  \n",
       "2          0.1415         0.210      9  \n",
       "3          0.1140         0.155     10  \n",
       "4          0.0395         0.055      7  "
      ]
     },
     "execution_count": 7,
     "metadata": {},
     "output_type": "execute_result"
    }
   ],
   "source": [
    "df.head()"
   ]
  },
  {
   "cell_type": "code",
   "execution_count": 8,
   "metadata": {},
   "outputs": [],
   "source": [
    "from sklearn.model_selection import train_test_split"
   ]
  },
  {
   "cell_type": "code",
   "execution_count": 9,
   "metadata": {},
   "outputs": [],
   "source": [
    "dummy = pd.get_dummies(df['Sex'])\n",
    "dummy.head()\n",
    "\n",
    "df = pd.concat([df.iloc[:,0], dummy, df.iloc[:,1:]], axis=1)\n",
    "\n",
    "X = df.iloc[:,1:-1].values\n",
    "y = df.iloc[:, -1].values\n",
    "\n",
    "X_train, X_test, y_train, y_test = train_test_split(X, y, test_size=0.2, random_state=7)"
   ]
  },
  {
   "cell_type": "code",
   "execution_count": 10,
   "metadata": {
    "scrolled": true
   },
   "outputs": [
    {
     "data": {
      "text/html": [
       "<div>\n",
       "<style scoped>\n",
       "    .dataframe tbody tr th:only-of-type {\n",
       "        vertical-align: middle;\n",
       "    }\n",
       "\n",
       "    .dataframe tbody tr th {\n",
       "        vertical-align: top;\n",
       "    }\n",
       "\n",
       "    .dataframe thead th {\n",
       "        text-align: right;\n",
       "    }\n",
       "</style>\n",
       "<table border=\"1\" class=\"dataframe\">\n",
       "  <thead>\n",
       "    <tr style=\"text-align: right;\">\n",
       "      <th></th>\n",
       "      <th>Sex</th>\n",
       "      <th>1</th>\n",
       "      <th>2</th>\n",
       "      <th>3</th>\n",
       "      <th>Length</th>\n",
       "      <th>Diameter</th>\n",
       "      <th>Height</th>\n",
       "      <th>Whole weight</th>\n",
       "      <th>Shucked weight</th>\n",
       "      <th>Viscera weight</th>\n",
       "      <th>Shell weight</th>\n",
       "      <th>Rings</th>\n",
       "    </tr>\n",
       "  </thead>\n",
       "  <tbody>\n",
       "    <tr>\n",
       "      <th>0</th>\n",
       "      <td>1</td>\n",
       "      <td>1</td>\n",
       "      <td>0</td>\n",
       "      <td>0</td>\n",
       "      <td>0.455</td>\n",
       "      <td>0.365</td>\n",
       "      <td>0.095</td>\n",
       "      <td>0.5140</td>\n",
       "      <td>0.2245</td>\n",
       "      <td>0.1010</td>\n",
       "      <td>0.150</td>\n",
       "      <td>15</td>\n",
       "    </tr>\n",
       "    <tr>\n",
       "      <th>1</th>\n",
       "      <td>1</td>\n",
       "      <td>1</td>\n",
       "      <td>0</td>\n",
       "      <td>0</td>\n",
       "      <td>0.350</td>\n",
       "      <td>0.265</td>\n",
       "      <td>0.090</td>\n",
       "      <td>0.2255</td>\n",
       "      <td>0.0995</td>\n",
       "      <td>0.0485</td>\n",
       "      <td>0.070</td>\n",
       "      <td>7</td>\n",
       "    </tr>\n",
       "    <tr>\n",
       "      <th>2</th>\n",
       "      <td>2</td>\n",
       "      <td>0</td>\n",
       "      <td>1</td>\n",
       "      <td>0</td>\n",
       "      <td>0.530</td>\n",
       "      <td>0.420</td>\n",
       "      <td>0.135</td>\n",
       "      <td>0.6770</td>\n",
       "      <td>0.2565</td>\n",
       "      <td>0.1415</td>\n",
       "      <td>0.210</td>\n",
       "      <td>9</td>\n",
       "    </tr>\n",
       "    <tr>\n",
       "      <th>3</th>\n",
       "      <td>1</td>\n",
       "      <td>1</td>\n",
       "      <td>0</td>\n",
       "      <td>0</td>\n",
       "      <td>0.440</td>\n",
       "      <td>0.365</td>\n",
       "      <td>0.125</td>\n",
       "      <td>0.5160</td>\n",
       "      <td>0.2155</td>\n",
       "      <td>0.1140</td>\n",
       "      <td>0.155</td>\n",
       "      <td>10</td>\n",
       "    </tr>\n",
       "    <tr>\n",
       "      <th>4</th>\n",
       "      <td>3</td>\n",
       "      <td>0</td>\n",
       "      <td>0</td>\n",
       "      <td>1</td>\n",
       "      <td>0.330</td>\n",
       "      <td>0.255</td>\n",
       "      <td>0.080</td>\n",
       "      <td>0.2050</td>\n",
       "      <td>0.0895</td>\n",
       "      <td>0.0395</td>\n",
       "      <td>0.055</td>\n",
       "      <td>7</td>\n",
       "    </tr>\n",
       "  </tbody>\n",
       "</table>\n",
       "</div>"
      ],
      "text/plain": [
       "   Sex  1  2  3  Length  Diameter  Height  Whole weight  Shucked weight  \\\n",
       "0    1  1  0  0   0.455     0.365   0.095        0.5140          0.2245   \n",
       "1    1  1  0  0   0.350     0.265   0.090        0.2255          0.0995   \n",
       "2    2  0  1  0   0.530     0.420   0.135        0.6770          0.2565   \n",
       "3    1  1  0  0   0.440     0.365   0.125        0.5160          0.2155   \n",
       "4    3  0  0  1   0.330     0.255   0.080        0.2050          0.0895   \n",
       "\n",
       "   Viscera weight  Shell weight  Rings  \n",
       "0          0.1010         0.150     15  \n",
       "1          0.0485         0.070      7  \n",
       "2          0.1415         0.210      9  \n",
       "3          0.1140         0.155     10  \n",
       "4          0.0395         0.055      7  "
      ]
     },
     "execution_count": 10,
     "metadata": {},
     "output_type": "execute_result"
    }
   ],
   "source": [
    "df.head()"
   ]
  },
  {
   "cell_type": "code",
   "execution_count": 11,
   "metadata": {},
   "outputs": [],
   "source": [
    "scaler = StandardScaler()\n",
    "scaler.fit(X[:,3:])\n",
    "\n",
    "X_train_scaled = scaler.transform(X_train[:,3:])\n",
    "X_test_scaled = scaler.transform(X_test[:,3:])"
   ]
  },
  {
   "cell_type": "code",
   "execution_count": 12,
   "metadata": {},
   "outputs": [],
   "source": [
    "X_train_scaled = np.concatenate((X_train[:,:3], X_train_scaled), axis=1)\n",
    "X_test_scaled = np.concatenate((X_test[:,:3], X_test_scaled), axis=1)"
   ]
  },
  {
   "cell_type": "markdown",
   "metadata": {},
   "source": [
    "## Build Model"
   ]
  },
  {
   "cell_type": "code",
   "execution_count": 16,
   "metadata": {},
   "outputs": [],
   "source": [
    "model = Sequential()\n",
    "model.add(Dense(32, activation='relu', input_shape=(10,)))\n",
    "model.add(Dense(64, activation='relu'))\n",
    "model.add(Dense(128, activation='relu'))\n",
    "model.add(Dense(1))"
   ]
  },
  {
   "cell_type": "code",
   "execution_count": 17,
   "metadata": {},
   "outputs": [],
   "source": [
    "def coeff(y_true, y_pred):\n",
    "    SS_res = K.sum(K.square(y_true-y_pred)) \n",
    "    SS_tot = K.sum(K.square(y_true-K.mean(y_true))) \n",
    "    return (1 - SS_res/(SS_tot+K.epsilon()))\n",
    "\n",
    "model.compile(optimizer='adam', loss='mse', metrics=['mae', coeff])"
   ]
  },
  {
   "cell_type": "code",
   "execution_count": 18,
   "metadata": {},
   "outputs": [
    {
     "name": "stdout",
     "output_type": "stream",
     "text": [
      "Model: \"sequential_1\"\n",
      "_________________________________________________________________\n",
      "Layer (type)                 Output Shape              Param #   \n",
      "=================================================================\n",
      "dense_4 (Dense)              (None, 32)                352       \n",
      "_________________________________________________________________\n",
      "dense_5 (Dense)              (None, 64)                2112      \n",
      "_________________________________________________________________\n",
      "dense_6 (Dense)              (None, 128)               8320      \n",
      "_________________________________________________________________\n",
      "dense_7 (Dense)              (None, 1)                 129       \n",
      "=================================================================\n",
      "Total params: 10,913\n",
      "Trainable params: 10,913\n",
      "Non-trainable params: 0\n",
      "_________________________________________________________________\n"
     ]
    }
   ],
   "source": [
    "model.summary()"
   ]
  },
  {
   "cell_type": "code",
   "execution_count": null,
   "metadata": {
    "scrolled": true
   },
   "outputs": [],
   "source": [
    "epochs = 100\n",
    "batch_size=128\n",
    "\n",
    "history = model.fit(X_train_scaled, y_train, epochs=epochs, batch_size=batch_size, validation_data=[X_test_scaled, y_test])"
   ]
  },
  {
   "cell_type": "code",
   "execution_count": null,
   "metadata": {},
   "outputs": [],
   "source": [
    "y_pred = model.predict(X_test_scaled)"
   ]
  },
  {
   "cell_type": "markdown",
   "metadata": {},
   "source": [
    "## Evaluate"
   ]
  },
  {
   "cell_type": "code",
   "execution_count": null,
   "metadata": {
    "scrolled": false
   },
   "outputs": [],
   "source": [
    "print('Score')\n",
    "print('MSE :      ', mse(y_test, y_pred))\n",
    "print('RMSE :     ', np.sqrt(mse(y_test, y_pred)))\n",
    "print('r2_score : ', r2(y_test, y_pred))"
   ]
  },
  {
   "cell_type": "code",
   "execution_count": null,
   "metadata": {
    "scrolled": true
   },
   "outputs": [],
   "source": [
    "# Plot training & validation accuracy values\n",
    "plt.plot(history.history['loss'])\n",
    "plt.plot(history.history['val_loss'])\n",
    "plt.ylabel('MSE')\n",
    "plt.xlabel('Epoch')\n",
    "plt.legend(['Train', 'Test'], loc='upper left')\n",
    "plt.show()\n",
    "\n",
    "plt.plot(history.history['loss'])\n",
    "plt.plot(history.history['val_loss'])\n",
    "plt.ylabel('MSE')\n",
    "plt.xlabel('Epoch')\n",
    "plt.legend(['Train', 'Test'], loc='upper left')\n",
    "plt.ylim((0,8))\n",
    "plt.show()\n",
    "\n",
    "# Plot training & validation accuracy values\n",
    "plt.plot(history.history['coeff'])\n",
    "plt.plot(history.history['val_coeff'])\n",
    "plt.ylabel('R2 score')\n",
    "plt.xlabel('Epoch')\n",
    "plt.legend(['Train', 'Test'], loc='lower right')\n",
    "plt.ylim((-1,1.5))\n",
    "plt.show()\n",
    "\n",
    "a = plt.axes(aspect='equal')\n",
    "plt.scatter(y_test, y_pred, c=[(1, 0.7, 0.0),], marker='+')\n",
    "plt.xlabel('True Values')\n",
    "plt.ylabel('Predictions')\n",
    "lims = [0, 25]\n",
    "plt.xlim(lims)\n",
    "plt.ylim(lims)\n",
    "_ = plt.plot(lims, lims)"
   ]
  },
  {
   "cell_type": "code",
   "execution_count": null,
   "metadata": {},
   "outputs": [],
   "source": []
  },
  {
   "cell_type": "markdown",
   "metadata": {},
   "source": [
    "## Build Model"
   ]
  },
  {
   "cell_type": "code",
   "execution_count": 29,
   "metadata": {},
   "outputs": [],
   "source": [
    "regulizer = tf.keras.regularizers.l2(l=0.01)\n",
    "\n",
    "model = Sequential()\n",
    "model.add(Dense(32, kernel_regularizer=regulizer,  input_shape=(10,)))\n",
    "model.add(Dense(64, activation='relu', kernel_regularizer=regulizer))\n",
    "model.add(Dense(128, activation='relu', kernel_regularizer=regulizer))\n",
    "model.add(Dense(1))"
   ]
  },
  {
   "cell_type": "code",
   "execution_count": 30,
   "metadata": {},
   "outputs": [],
   "source": [
    "def coeff(y_true, y_pred):\n",
    "    SS_res = K.sum(K.square(y_true-y_pred)) \n",
    "    SS_tot = K.sum(K.square(y_true-K.mean(y_true))) \n",
    "    return (1 - SS_res/(SS_tot+K.epsilon()))\n",
    "\n",
    "# optimizer = tf.optimizers.Adam(learning_rate=0.0001)\n",
    "# model.compile(optimizer=optimizer, loss='mse', metrics=['mae', coeff])\n",
    "model.compile(optimizer='adam', loss='mse', metrics=['mae', coeff])"
   ]
  },
  {
   "cell_type": "code",
   "execution_count": 31,
   "metadata": {},
   "outputs": [
    {
     "name": "stdout",
     "output_type": "stream",
     "text": [
      "Model: \"sequential_4\"\n",
      "_________________________________________________________________\n",
      "Layer (type)                 Output Shape              Param #   \n",
      "=================================================================\n",
      "dense_16 (Dense)             (None, 32)                352       \n",
      "_________________________________________________________________\n",
      "dense_17 (Dense)             (None, 64)                2112      \n",
      "_________________________________________________________________\n",
      "dense_18 (Dense)             (None, 128)               8320      \n",
      "_________________________________________________________________\n",
      "dense_19 (Dense)             (None, 1)                 129       \n",
      "=================================================================\n",
      "Total params: 10,913\n",
      "Trainable params: 10,913\n",
      "Non-trainable params: 0\n",
      "_________________________________________________________________\n"
     ]
    }
   ],
   "source": [
    "model.summary()"
   ]
  },
  {
   "cell_type": "code",
   "execution_count": 32,
   "metadata": {
    "scrolled": true
   },
   "outputs": [
    {
     "name": "stdout",
     "output_type": "stream",
     "text": [
      "Train on 3341 samples, validate on 836 samples\n",
      "Epoch 1/150\n",
      "3341/3341 [==============================] - 1s 248us/sample - loss: 70.9476 - mae: 7.4197 - coeff: -5.9576 - val_loss: 35.5853 - val_mae: 4.7893 - val_coeff: -2.1484\n",
      "Epoch 2/150\n",
      "3341/3341 [==============================] - 0s 51us/sample - loss: 23.8059 - mae: 3.6601 - coeff: -1.2425 - val_loss: 13.1607 - val_mae: 2.5240 - val_coeff: -0.0669\n",
      "Epoch 3/150\n",
      "3341/3341 [==============================] - 0s 52us/sample - loss: 9.1992 - mae: 2.0056 - coeff: 0.2425 - val_loss: 7.6644 - val_mae: 1.7397 - val_coeff: 0.4303\n",
      "Epoch 4/150\n",
      "3341/3341 [==============================] - 0s 49us/sample - loss: 7.1664 - mae: 1.6724 - coeff: 0.4406 - val_loss: 7.0863 - val_mae: 1.6876 - val_coeff: 0.4821\n",
      "Epoch 5/150\n",
      "3341/3341 [==============================] - 0s 46us/sample - loss: 6.7730 - mae: 1.6461 - coeff: 0.4499 - val_loss: 7.0088 - val_mae: 1.6435 - val_coeff: 0.4872\n",
      "Epoch 6/150\n",
      "3341/3341 [==============================] - ETA: 0s - loss: 6.5525 - mae: 1.6155 - coeff: 0.482 - 0s 42us/sample - loss: 6.5401 - mae: 1.6140 - coeff: 0.4835 - val_loss: 6.7509 - val_mae: 1.6218 - val_coeff: 0.5081\n",
      "Epoch 7/150\n",
      "3341/3341 [==============================] - 0s 48us/sample - loss: 6.3501 - mae: 1.5869 - coeff: 0.4869 - val_loss: 6.7165 - val_mae: 1.6050 - val_coeff: 0.5097\n",
      "Epoch 8/150\n",
      "3341/3341 [==============================] - 0s 43us/sample - loss: 6.2395 - mae: 1.5770 - coeff: 0.5062 - val_loss: 6.2809 - val_mae: 1.6201 - val_coeff: 0.5451\n",
      "Epoch 9/150\n",
      "3341/3341 [==============================] - 0s 47us/sample - loss: 6.1140 - mae: 1.5755 - coeff: 0.5237 - val_loss: 6.2383 - val_mae: 1.5817 - val_coeff: 0.5484\n",
      "Epoch 10/150\n",
      "3341/3341 [==============================] - 0s 45us/sample - loss: 5.9961 - mae: 1.5539 - coeff: 0.5200 - val_loss: 6.1440 - val_mae: 1.5513 - val_coeff: 0.5558\n",
      "Epoch 11/150\n",
      "3341/3341 [==============================] - 0s 50us/sample - loss: 5.9210 - mae: 1.5473 - coeff: 0.5372 - val_loss: 6.0791 - val_mae: 1.5499 - val_coeff: 0.5604\n",
      "Epoch 12/150\n",
      "3341/3341 [==============================] - 0s 61us/sample - loss: 5.8606 - mae: 1.5438 - coeff: 0.5393 - val_loss: 6.2139 - val_mae: 1.5484 - val_coeff: 0.5472\n",
      "Epoch 13/150\n",
      "3341/3341 [==============================] - 0s 64us/sample - loss: 5.8285 - mae: 1.5365 - coeff: 0.5239 - val_loss: 6.0678 - val_mae: 1.5383 - val_coeff: 0.5582\n",
      "Epoch 14/150\n",
      "3341/3341 [==============================] - 0s 67us/sample - loss: 5.8135 - mae: 1.5591 - coeff: 0.5521 - val_loss: 6.0109 - val_mae: 1.5375 - val_coeff: 0.5624\n",
      "Epoch 15/150\n",
      "3341/3341 [==============================] - 0s 58us/sample - loss: 5.7273 - mae: 1.5252 - coeff: 0.5478 - val_loss: 5.8675 - val_mae: 1.5314 - val_coeff: 0.5735\n",
      "Epoch 16/150\n",
      "3341/3341 [==============================] - 0s 53us/sample - loss: 5.6972 - mae: 1.5344 - coeff: 0.5329 - val_loss: 5.9799 - val_mae: 1.5301 - val_coeff: 0.5619\n",
      "Epoch 17/150\n",
      "3341/3341 [==============================] - 0s 45us/sample - loss: 5.6683 - mae: 1.5207 - coeff: 0.5412 - val_loss: 5.8030 - val_mae: 1.5277 - val_coeff: 0.5761\n",
      "Epoch 18/150\n",
      "3341/3341 [==============================] - 0s 47us/sample - loss: 5.6231 - mae: 1.5265 - coeff: 0.5384 - val_loss: 5.8621 - val_mae: 1.5274 - val_coeff: 0.5697\n",
      "Epoch 19/150\n",
      "3341/3341 [==============================] - 0s 45us/sample - loss: 5.5486 - mae: 1.5093 - coeff: 0.5609 - val_loss: 5.7018 - val_mae: 1.5674 - val_coeff: 0.5807\n",
      "Epoch 20/150\n",
      "3341/3341 [==============================] - 0s 48us/sample - loss: 5.5743 - mae: 1.5306 - coeff: 0.5563 - val_loss: 5.8741 - val_mae: 1.5230 - val_coeff: 0.5662\n",
      "Epoch 21/150\n",
      "3341/3341 [==============================] - 0s 44us/sample - loss: 5.5474 - mae: 1.5249 - coeff: 0.5625 - val_loss: 6.0800 - val_mae: 1.5793 - val_coeff: 0.5457\n",
      "Epoch 22/150\n",
      "3341/3341 [==============================] - 0s 46us/sample - loss: 5.4885 - mae: 1.5131 - coeff: 0.5533 - val_loss: 5.6549 - val_mae: 1.5260 - val_coeff: 0.5821\n",
      "Epoch 23/150\n",
      "3341/3341 [==============================] - 0s 52us/sample - loss: 5.4494 - mae: 1.5164 - coeff: 0.5559 - val_loss: 5.8486 - val_mae: 1.5265 - val_coeff: 0.5653\n",
      "Epoch 24/150\n",
      "3341/3341 [==============================] - 0s 47us/sample - loss: 5.4590 - mae: 1.5009 - coeff: 0.5603 - val_loss: 5.8820 - val_mae: 1.5258 - val_coeff: 0.5607\n",
      "Epoch 25/150\n",
      "3341/3341 [==============================] - 0s 49us/sample - loss: 5.3907 - mae: 1.5011 - coeff: 0.5648 - val_loss: 5.6366 - val_mae: 1.5124 - val_coeff: 0.5810\n",
      "Epoch 26/150\n",
      "3341/3341 [==============================] - 0s 41us/sample - loss: 5.4816 - mae: 1.5362 - coeff: 0.5254 - val_loss: 6.4682 - val_mae: 1.5996 - val_coeff: 0.5060\n",
      "Epoch 27/150\n",
      "3341/3341 [==============================] - 0s 42us/sample - loss: 5.6803 - mae: 1.5454 - coeff: 0.5357 - val_loss: 5.5460 - val_mae: 1.5105 - val_coeff: 0.5868\n",
      "Epoch 28/150\n",
      "3341/3341 [==============================] - 0s 45us/sample - loss: 5.3824 - mae: 1.5094 - coeff: 0.5589 - val_loss: 5.8038 - val_mae: 1.5254 - val_coeff: 0.5635\n",
      "Epoch 29/150\n",
      "3341/3341 [==============================] - 0s 44us/sample - loss: 5.3089 - mae: 1.4945 - coeff: 0.5589 - val_loss: 5.7877 - val_mae: 1.5302 - val_coeff: 0.5636\n",
      "Epoch 30/150\n",
      "3341/3341 [==============================] - 0s 45us/sample - loss: 5.3323 - mae: 1.4991 - coeff: 0.5413 - val_loss: 5.8151 - val_mae: 1.5553 - val_coeff: 0.5600\n",
      "Epoch 31/150\n",
      "3341/3341 [==============================] - 0s 47us/sample - loss: 5.3769 - mae: 1.4968 - coeff: 0.5490 - val_loss: 5.5192 - val_mae: 1.5359 - val_coeff: 0.5847\n",
      "Epoch 32/150\n",
      "3341/3341 [==============================] - 0s 43us/sample - loss: 5.3118 - mae: 1.5057 - coeff: 0.5706 - val_loss: 5.8674 - val_mae: 1.5313 - val_coeff: 0.5541\n",
      "Epoch 33/150\n",
      "3341/3341 [==============================] - 0s 50us/sample - loss: 5.2923 - mae: 1.4950 - coeff: 0.5587 - val_loss: 5.4134 - val_mae: 1.5199 - val_coeff: 0.5921\n",
      "Epoch 34/150\n",
      "3341/3341 [==============================] - 0s 44us/sample - loss: 5.2478 - mae: 1.4937 - coeff: 0.5672 - val_loss: 5.7494 - val_mae: 1.5098 - val_coeff: 0.5635\n",
      "Epoch 35/150\n",
      "3341/3341 [==============================] - 0s 47us/sample - loss: 5.1639 - mae: 1.4672 - coeff: 0.5648 - val_loss: 5.5388 - val_mae: 1.5041 - val_coeff: 0.5808\n",
      "Epoch 36/150\n",
      "3341/3341 [==============================] - 0s 42us/sample - loss: 5.2160 - mae: 1.4801 - coeff: 0.5787 - val_loss: 5.5297 - val_mae: 1.4937 - val_coeff: 0.5811\n",
      "Epoch 37/150\n",
      "3341/3341 [==============================] - 0s 46us/sample - loss: 5.2474 - mae: 1.4906 - coeff: 0.5590 - val_loss: 5.6168 - val_mae: 1.4983 - val_coeff: 0.5723\n",
      "Epoch 38/150\n",
      "3341/3341 [==============================] - 0s 44us/sample - loss: 5.1524 - mae: 1.4761 - coeff: 0.5735 - val_loss: 5.4053 - val_mae: 1.5031 - val_coeff: 0.5903\n",
      "Epoch 39/150\n",
      "3341/3341 [==============================] - 0s 47us/sample - loss: 5.1487 - mae: 1.4685 - coeff: 0.5767 - val_loss: 5.3547 - val_mae: 1.5127 - val_coeff: 0.5932\n",
      "Epoch 40/150\n",
      "3341/3341 [==============================] - 0s 49us/sample - loss: 5.1342 - mae: 1.4763 - coeff: 0.5713 - val_loss: 5.4980 - val_mae: 1.5177 - val_coeff: 0.5806\n",
      "Epoch 41/150\n",
      "3341/3341 [==============================] - 0s 53us/sample - loss: 5.1105 - mae: 1.4758 - coeff: 0.5669 - val_loss: 5.7702 - val_mae: 1.5272 - val_coeff: 0.5560\n",
      "Epoch 42/150\n",
      "3341/3341 [==============================] - 0s 60us/sample - loss: 5.0851 - mae: 1.4686 - coeff: 0.5825 - val_loss: 5.4832 - val_mae: 1.4891 - val_coeff: 0.5810\n",
      "Epoch 43/150\n",
      "3341/3341 [==============================] - 0s 52us/sample - loss: 5.0876 - mae: 1.4651 - coeff: 0.5787 - val_loss: 5.4307 - val_mae: 1.4878 - val_coeff: 0.5847\n",
      "Epoch 44/150\n",
      "3341/3341 [==============================] - 0s 49us/sample - loss: 5.0582 - mae: 1.4583 - coeff: 0.5845 - val_loss: 5.3601 - val_mae: 1.5108 - val_coeff: 0.5902\n",
      "Epoch 45/150\n",
      "3341/3341 [==============================] - 0s 44us/sample - loss: 5.1410 - mae: 1.4870 - coeff: 0.5765 - val_loss: 5.7217 - val_mae: 1.5182 - val_coeff: 0.5574\n",
      "Epoch 46/150\n",
      "3341/3341 [==============================] - 0s 46us/sample - loss: 5.0950 - mae: 1.4693 - coeff: 0.5733 - val_loss: 5.3580 - val_mae: 1.4952 - val_coeff: 0.5894\n",
      "Epoch 47/150\n"
     ]
    },
    {
     "name": "stdout",
     "output_type": "stream",
     "text": [
      "3341/3341 [==============================] - 0s 44us/sample - loss: 5.0028 - mae: 1.4545 - coeff: 0.5893 - val_loss: 5.3149 - val_mae: 1.4926 - val_coeff: 0.5922\n",
      "Epoch 48/150\n",
      "3341/3341 [==============================] - 0s 43us/sample - loss: 5.0995 - mae: 1.4879 - coeff: 0.5621 - val_loss: 5.3258 - val_mae: 1.5023 - val_coeff: 0.5900\n",
      "Epoch 49/150\n",
      "3341/3341 [==============================] - 0s 42us/sample - loss: 5.1169 - mae: 1.4924 - coeff: 0.5640 - val_loss: 5.9603 - val_mae: 1.5440 - val_coeff: 0.5340\n",
      "Epoch 50/150\n",
      "3341/3341 [==============================] - 0s 41us/sample - loss: 5.0818 - mae: 1.4707 - coeff: 0.5595 - val_loss: 5.2937 - val_mae: 1.5235 - val_coeff: 0.5912\n",
      "Epoch 51/150\n",
      "3341/3341 [==============================] - 0s 42us/sample - loss: 5.0359 - mae: 1.4708 - coeff: 0.5653 - val_loss: 5.2827 - val_mae: 1.5237 - val_coeff: 0.5913\n",
      "Epoch 52/150\n",
      "3341/3341 [==============================] - 0s 42us/sample - loss: 5.0056 - mae: 1.4682 - coeff: 0.5740 - val_loss: 5.4505 - val_mae: 1.4944 - val_coeff: 0.5771\n",
      "Epoch 53/150\n",
      "3341/3341 [==============================] - 0s 47us/sample - loss: 4.9729 - mae: 1.4542 - coeff: 0.5821 - val_loss: 5.4796 - val_mae: 1.4968 - val_coeff: 0.5743\n",
      "Epoch 54/150\n",
      "3341/3341 [==============================] - 0s 40us/sample - loss: 4.9979 - mae: 1.4530 - coeff: 0.5712 - val_loss: 5.3540 - val_mae: 1.4909 - val_coeff: 0.5844\n",
      "Epoch 55/150\n",
      "3341/3341 [==============================] - 0s 42us/sample - loss: 4.9320 - mae: 1.4528 - coeff: 0.5787 - val_loss: 5.5998 - val_mae: 1.5277 - val_coeff: 0.5617\n",
      "Epoch 56/150\n",
      "3341/3341 [==============================] - 0s 43us/sample - loss: 4.9940 - mae: 1.4640 - coeff: 0.5639 - val_loss: 5.2862 - val_mae: 1.4993 - val_coeff: 0.5896\n",
      "Epoch 57/150\n",
      "3341/3341 [==============================] - 0s 47us/sample - loss: 4.9100 - mae: 1.4586 - coeff: 0.5817 - val_loss: 5.3239 - val_mae: 1.4829 - val_coeff: 0.5858\n",
      "Epoch 58/150\n",
      "3341/3341 [==============================] - 0s 44us/sample - loss: 4.9126 - mae: 1.4470 - coeff: 0.5503 - val_loss: 5.2406 - val_mae: 1.5060 - val_coeff: 0.5924\n",
      "Epoch 59/150\n",
      "3341/3341 [==============================] - 0s 48us/sample - loss: 4.9382 - mae: 1.4592 - coeff: 0.5865 - val_loss: 5.2221 - val_mae: 1.4979 - val_coeff: 0.5931\n",
      "Epoch 60/150\n",
      "3341/3341 [==============================] - 0s 42us/sample - loss: 4.9073 - mae: 1.4603 - coeff: 0.5768 - val_loss: 5.3672 - val_mae: 1.4846 - val_coeff: 0.5804\n",
      "Epoch 61/150\n",
      "3341/3341 [==============================] - 0s 40us/sample - loss: 4.8862 - mae: 1.4525 - coeff: 0.5901 - val_loss: 5.3979 - val_mae: 1.5401 - val_coeff: 0.5772\n",
      "Epoch 62/150\n",
      "3341/3341 [==============================] - 0s 43us/sample - loss: 4.8802 - mae: 1.4534 - coeff: 0.5962 - val_loss: 5.3683 - val_mae: 1.5122 - val_coeff: 0.5791\n",
      "Epoch 63/150\n",
      "3341/3341 [==============================] - 0s 43us/sample - loss: 4.8372 - mae: 1.4383 - coeff: 0.5580 - val_loss: 5.4023 - val_mae: 1.4965 - val_coeff: 0.5758\n",
      "Epoch 64/150\n",
      "3341/3341 [==============================] - 0s 42us/sample - loss: 4.8569 - mae: 1.4377 - coeff: 0.5962 - val_loss: 5.2951 - val_mae: 1.4833 - val_coeff: 0.5852\n",
      "Epoch 65/150\n",
      "3341/3341 [==============================] - 0s 46us/sample - loss: 4.8397 - mae: 1.4438 - coeff: 0.5693 - val_loss: 5.3573 - val_mae: 1.4900 - val_coeff: 0.5785\n",
      "Epoch 66/150\n",
      "3341/3341 [==============================] - 0s 49us/sample - loss: 4.8235 - mae: 1.4379 - coeff: 0.5572 - val_loss: 5.3058 - val_mae: 1.4931 - val_coeff: 0.5833\n",
      "Epoch 67/150\n",
      "3341/3341 [==============================] - 0s 50us/sample - loss: 4.8231 - mae: 1.4383 - coeff: 0.5749 - val_loss: 5.5399 - val_mae: 1.5089 - val_coeff: 0.5623\n",
      "Epoch 68/150\n",
      "3341/3341 [==============================] - 0s 44us/sample - loss: 4.8855 - mae: 1.4574 - coeff: 0.5882 - val_loss: 5.1662 - val_mae: 1.5516 - val_coeff: 0.5909\n",
      "Epoch 69/150\n",
      "3341/3341 [==============================] - 0s 46us/sample - loss: 4.9983 - mae: 1.4810 - coeff: 0.5680 - val_loss: 5.2525 - val_mae: 1.4912 - val_coeff: 0.5866\n",
      "Epoch 70/150\n",
      "3341/3341 [==============================] - 0s 44us/sample - loss: 4.8875 - mae: 1.4681 - coeff: 0.5799 - val_loss: 5.2572 - val_mae: 1.4908 - val_coeff: 0.5845\n",
      "Epoch 71/150\n",
      "3341/3341 [==============================] - 0s 43us/sample - loss: 4.7906 - mae: 1.4390 - coeff: 0.5899 - val_loss: 5.3249 - val_mae: 1.5015 - val_coeff: 0.5792\n",
      "Epoch 72/150\n",
      "3341/3341 [==============================] - 0s 44us/sample - loss: 4.8131 - mae: 1.4518 - coeff: 0.5908 - val_loss: 5.3333 - val_mae: 1.4874 - val_coeff: 0.5776\n",
      "Epoch 73/150\n",
      "3341/3341 [==============================] - 0s 46us/sample - loss: 4.8250 - mae: 1.4536 - coeff: 0.5814 - val_loss: 5.2899 - val_mae: 1.4993 - val_coeff: 0.5810\n",
      "Epoch 74/150\n",
      "3341/3341 [==============================] - 0s 44us/sample - loss: 4.8396 - mae: 1.4421 - coeff: 0.5849 - val_loss: 5.2129 - val_mae: 1.5439 - val_coeff: 0.5864\n",
      "Epoch 75/150\n",
      "3341/3341 [==============================] - 0s 45us/sample - loss: 4.8888 - mae: 1.4763 - coeff: 0.5797 - val_loss: 5.0787 - val_mae: 1.4903 - val_coeff: 0.5978\n",
      "Epoch 76/150\n",
      "3341/3341 [==============================] - 0s 51us/sample - loss: 4.8195 - mae: 1.4539 - coeff: 0.5847 - val_loss: 5.2067 - val_mae: 1.4810 - val_coeff: 0.5874\n",
      "Epoch 77/150\n",
      "3341/3341 [==============================] - 0s 39us/sample - loss: 4.7589 - mae: 1.4460 - coeff: 0.5597 - val_loss: 5.4393 - val_mae: 1.4968 - val_coeff: 0.5669\n",
      "Epoch 78/150\n",
      "3341/3341 [==============================] - 0s 47us/sample - loss: 4.7853 - mae: 1.4387 - coeff: 0.5786 - val_loss: 5.1175 - val_mae: 1.4881 - val_coeff: 0.5942\n",
      "Epoch 79/150\n",
      "3341/3341 [==============================] - 0s 54us/sample - loss: 4.7811 - mae: 1.4417 - coeff: 0.5788 - val_loss: 5.1675 - val_mae: 1.5124 - val_coeff: 0.5886\n",
      "Epoch 80/150\n",
      "3341/3341 [==============================] - 0s 53us/sample - loss: 4.7756 - mae: 1.4435 - coeff: 0.5949 - val_loss: 5.1070 - val_mae: 1.4794 - val_coeff: 0.5942\n",
      "Epoch 81/150\n",
      "3341/3341 [==============================] - 0s 43us/sample - loss: 4.8132 - mae: 1.4457 - coeff: 0.5860 - val_loss: 5.0998 - val_mae: 1.5480 - val_coeff: 0.5926\n",
      "Epoch 82/150\n",
      "3341/3341 [==============================] - 0s 45us/sample - loss: 4.7419 - mae: 1.4462 - coeff: 0.5824 - val_loss: 5.3249 - val_mae: 1.4843 - val_coeff: 0.5754\n",
      "Epoch 83/150\n",
      "3341/3341 [==============================] - 0s 45us/sample - loss: 4.6985 - mae: 1.4351 - coeff: 0.5773 - val_loss: 5.1700 - val_mae: 1.4918 - val_coeff: 0.5880\n",
      "Epoch 84/150\n",
      "3341/3341 [==============================] - 0s 47us/sample - loss: 4.6936 - mae: 1.4360 - coeff: 0.5991 - val_loss: 5.2570 - val_mae: 1.5035 - val_coeff: 0.5805\n",
      "Epoch 85/150\n",
      "3341/3341 [==============================] - 0s 43us/sample - loss: 4.6996 - mae: 1.4302 - coeff: 0.5861 - val_loss: 5.1012 - val_mae: 1.4912 - val_coeff: 0.5935\n",
      "Epoch 86/150\n",
      "3341/3341 [==============================] - 0s 48us/sample - loss: 4.8249 - mae: 1.4620 - coeff: 0.5881 - val_loss: 5.1058 - val_mae: 1.5107 - val_coeff: 0.5915\n",
      "Epoch 87/150\n",
      "3341/3341 [==============================] - 0s 44us/sample - loss: 4.7538 - mae: 1.4511 - coeff: 0.5810 - val_loss: 5.1368 - val_mae: 1.5029 - val_coeff: 0.5902\n",
      "Epoch 88/150\n",
      "3341/3341 [==============================] - 0s 45us/sample - loss: 4.6908 - mae: 1.4355 - coeff: 0.5361 - val_loss: 5.2448 - val_mae: 1.4803 - val_coeff: 0.5804\n",
      "Epoch 89/150\n",
      "3341/3341 [==============================] - 0s 46us/sample - loss: 4.8559 - mae: 1.4646 - coeff: 0.5645 - val_loss: 5.1130 - val_mae: 1.4735 - val_coeff: 0.5908\n",
      "Epoch 90/150\n",
      "3341/3341 [==============================] - 0s 43us/sample - loss: 4.7447 - mae: 1.4443 - coeff: 0.5879 - val_loss: 5.1512 - val_mae: 1.5399 - val_coeff: 0.5863\n",
      "Epoch 91/150\n",
      "3341/3341 [==============================] - 0s 40us/sample - loss: 4.7297 - mae: 1.4550 - coeff: 0.5936 - val_loss: 5.0893 - val_mae: 1.4756 - val_coeff: 0.5930\n",
      "Epoch 92/150\n",
      "3341/3341 [==============================] - 0s 45us/sample - loss: 4.6884 - mae: 1.4403 - coeff: 0.5554 - val_loss: 5.0561 - val_mae: 1.5101 - val_coeff: 0.5948\n",
      "Epoch 93/150\n",
      "3341/3341 [==============================] - 0s 48us/sample - loss: 4.7039 - mae: 1.4445 - coeff: 0.5951 - val_loss: 5.0968 - val_mae: 1.4783 - val_coeff: 0.5907\n"
     ]
    },
    {
     "name": "stdout",
     "output_type": "stream",
     "text": [
      "Epoch 94/150\n",
      "3341/3341 [==============================] - 0s 50us/sample - loss: 4.7594 - mae: 1.4578 - coeff: 0.5829 - val_loss: 5.1675 - val_mae: 1.4818 - val_coeff: 0.5858\n",
      "Epoch 95/150\n",
      "3341/3341 [==============================] - 0s 47us/sample - loss: 4.6659 - mae: 1.4430 - coeff: 0.5875 - val_loss: 5.5032 - val_mae: 1.5059 - val_coeff: 0.5559\n",
      "Epoch 96/150\n",
      "3341/3341 [==============================] - 0s 50us/sample - loss: 4.6326 - mae: 1.4311 - coeff: 0.6011 - val_loss: 4.9636 - val_mae: 1.4936 - val_coeff: 0.6003\n",
      "Epoch 97/150\n",
      "3341/3341 [==============================] - 0s 50us/sample - loss: 4.6949 - mae: 1.4392 - coeff: 0.5374 - val_loss: 5.1790 - val_mae: 1.4877 - val_coeff: 0.5835\n",
      "Epoch 98/150\n",
      "3341/3341 [==============================] - 0s 48us/sample - loss: 4.6703 - mae: 1.4429 - coeff: 0.5922 - val_loss: 5.3858 - val_mae: 1.4949 - val_coeff: 0.5649\n",
      "Epoch 99/150\n",
      "3341/3341 [==============================] - 0s 47us/sample - loss: 4.7104 - mae: 1.4448 - coeff: 0.5919 - val_loss: 5.1389 - val_mae: 1.4835 - val_coeff: 0.5863\n",
      "Epoch 100/150\n",
      "3341/3341 [==============================] - 0s 40us/sample - loss: 4.6571 - mae: 1.4282 - coeff: 0.5988 - val_loss: 5.2542 - val_mae: 1.5194 - val_coeff: 0.5755\n",
      "Epoch 101/150\n",
      "3341/3341 [==============================] - 0s 50us/sample - loss: 4.6350 - mae: 1.4287 - coeff: 0.5909 - val_loss: 5.0432 - val_mae: 1.4833 - val_coeff: 0.5940\n",
      "Epoch 102/150\n",
      "3341/3341 [==============================] - 0s 46us/sample - loss: 4.6365 - mae: 1.4381 - coeff: 0.6006 - val_loss: 5.1689 - val_mae: 1.4833 - val_coeff: 0.5831\n",
      "Epoch 103/150\n",
      "3341/3341 [==============================] - 0s 44us/sample - loss: 4.6804 - mae: 1.4427 - coeff: 0.5817 - val_loss: 5.2016 - val_mae: 1.4832 - val_coeff: 0.5800\n",
      "Epoch 104/150\n",
      "3341/3341 [==============================] - 0s 45us/sample - loss: 4.6569 - mae: 1.4314 - coeff: 0.5859 - val_loss: 5.2158 - val_mae: 1.5053 - val_coeff: 0.5777\n",
      "Epoch 105/150\n",
      "3341/3341 [==============================] - 0s 46us/sample - loss: 4.6376 - mae: 1.4422 - coeff: 0.5841 - val_loss: 5.0377 - val_mae: 1.4782 - val_coeff: 0.5928\n",
      "Epoch 106/150\n",
      "3341/3341 [==============================] - 0s 47us/sample - loss: 4.6329 - mae: 1.4426 - coeff: 0.6016 - val_loss: 5.1992 - val_mae: 1.4795 - val_coeff: 0.5792\n",
      "Epoch 107/150\n",
      "3341/3341 [==============================] - 0s 45us/sample - loss: 4.6116 - mae: 1.4284 - coeff: 0.5892 - val_loss: 4.9606 - val_mae: 1.4912 - val_coeff: 0.5982\n",
      "Epoch 108/150\n",
      "3341/3341 [==============================] - 0s 43us/sample - loss: 4.6952 - mae: 1.4578 - coeff: 0.5892 - val_loss: 5.0352 - val_mae: 1.4769 - val_coeff: 0.5929\n",
      "Epoch 109/150\n",
      "3341/3341 [==============================] - 0s 44us/sample - loss: 4.6243 - mae: 1.4354 - coeff: 0.5925 - val_loss: 4.9651 - val_mae: 1.5094 - val_coeff: 0.5957\n",
      "Epoch 110/150\n",
      "3341/3341 [==============================] - 0s 43us/sample - loss: 4.7419 - mae: 1.4692 - coeff: 0.5829 - val_loss: 5.4401 - val_mae: 1.5041 - val_coeff: 0.5574\n",
      "Epoch 111/150\n",
      "3341/3341 [==============================] - 0s 43us/sample - loss: 4.6732 - mae: 1.4511 - coeff: 0.5636 - val_loss: 5.3091 - val_mae: 1.4888 - val_coeff: 0.5684\n",
      "Epoch 112/150\n",
      "3341/3341 [==============================] - 0s 46us/sample - loss: 4.6371 - mae: 1.4306 - coeff: 0.5862 - val_loss: 4.9553 - val_mae: 1.5202 - val_coeff: 0.5969\n",
      "Epoch 113/150\n",
      "3341/3341 [==============================] - 0s 46us/sample - loss: 4.6815 - mae: 1.4604 - coeff: 0.5910 - val_loss: 5.5660 - val_mae: 1.5520 - val_coeff: 0.5456\n",
      "Epoch 114/150\n",
      "3341/3341 [==============================] - 0s 41us/sample - loss: 4.6795 - mae: 1.4560 - coeff: 0.5787 - val_loss: 5.0589 - val_mae: 1.4984 - val_coeff: 0.5894\n",
      "Epoch 115/150\n",
      "3341/3341 [==============================] - 0s 42us/sample - loss: 4.6097 - mae: 1.4368 - coeff: 0.5844 - val_loss: 5.2592 - val_mae: 1.4859 - val_coeff: 0.5723\n",
      "Epoch 116/150\n",
      "3341/3341 [==============================] - 0s 43us/sample - loss: 4.6639 - mae: 1.4515 - coeff: 0.5838 - val_loss: 5.2112 - val_mae: 1.4938 - val_coeff: 0.5755\n",
      "Epoch 117/150\n",
      "3341/3341 [==============================] - 0s 49us/sample - loss: 4.6385 - mae: 1.4405 - coeff: 0.5904 - val_loss: 4.9949 - val_mae: 1.5180 - val_coeff: 0.5925\n",
      "Epoch 118/150\n",
      "3341/3341 [==============================] - 0s 48us/sample - loss: 4.6921 - mae: 1.4531 - coeff: 0.5842 - val_loss: 5.3125 - val_mae: 1.5131 - val_coeff: 0.5662\n",
      "Epoch 119/150\n",
      "3341/3341 [==============================] - 0s 47us/sample - loss: 4.5486 - mae: 1.4244 - coeff: 0.6036 - val_loss: 4.9468 - val_mae: 1.4852 - val_coeff: 0.5972\n",
      "Epoch 120/150\n",
      "3341/3341 [==============================] - 0s 44us/sample - loss: 4.5727 - mae: 1.4412 - coeff: 0.5970 - val_loss: 5.1849 - val_mae: 1.4812 - val_coeff: 0.5770\n",
      "Epoch 121/150\n",
      "3341/3341 [==============================] - 0s 43us/sample - loss: 4.5653 - mae: 1.4258 - coeff: 0.6004 - val_loss: 5.1066 - val_mae: 1.4710 - val_coeff: 0.5838\n",
      "Epoch 122/150\n",
      "3341/3341 [==============================] - 0s 44us/sample - loss: 4.6087 - mae: 1.4433 - coeff: 0.5889 - val_loss: 5.0126 - val_mae: 1.4908 - val_coeff: 0.5909\n",
      "Epoch 123/150\n",
      "3341/3341 [==============================] - 0s 45us/sample - loss: 4.5949 - mae: 1.4418 - coeff: 0.5890 - val_loss: 5.1971 - val_mae: 1.4941 - val_coeff: 0.5758\n",
      "Epoch 124/150\n",
      "3341/3341 [==============================] - 0s 41us/sample - loss: 4.5878 - mae: 1.4340 - coeff: 0.5943 - val_loss: 4.9748 - val_mae: 1.4804 - val_coeff: 0.5942\n",
      "Epoch 125/150\n",
      "3341/3341 [==============================] - 0s 43us/sample - loss: 4.6304 - mae: 1.4420 - coeff: 0.5796 - val_loss: 4.9142 - val_mae: 1.4829 - val_coeff: 0.5988\n",
      "Epoch 126/150\n",
      "3341/3341 [==============================] - 0s 45us/sample - loss: 4.5545 - mae: 1.4320 - coeff: 0.6030 - val_loss: 4.9651 - val_mae: 1.4749 - val_coeff: 0.5949\n",
      "Epoch 127/150\n",
      "3341/3341 [==============================] - 0s 47us/sample - loss: 4.5140 - mae: 1.4176 - coeff: 0.5960 - val_loss: 5.0644 - val_mae: 1.4824 - val_coeff: 0.5864\n",
      "Epoch 128/150\n",
      "3341/3341 [==============================] - 0s 43us/sample - loss: 4.5425 - mae: 1.4254 - coeff: 0.5981 - val_loss: 5.0874 - val_mae: 1.4790 - val_coeff: 0.5844\n",
      "Epoch 129/150\n",
      "3341/3341 [==============================] - 0s 44us/sample - loss: 4.5153 - mae: 1.4264 - coeff: 0.5994 - val_loss: 5.3044 - val_mae: 1.5030 - val_coeff: 0.5645\n",
      "Epoch 130/150\n",
      "3341/3341 [==============================] - 0s 46us/sample - loss: 4.5539 - mae: 1.4340 - coeff: 0.5917 - val_loss: 5.1151 - val_mae: 1.4737 - val_coeff: 0.5819\n",
      "Epoch 131/150\n",
      "3341/3341 [==============================] - 0s 47us/sample - loss: 4.5522 - mae: 1.4298 - coeff: 0.5980 - val_loss: 4.9799 - val_mae: 1.4773 - val_coeff: 0.5924\n",
      "Epoch 132/150\n",
      "3341/3341 [==============================] - 0s 46us/sample - loss: 4.5755 - mae: 1.4382 - coeff: 0.5866 - val_loss: 5.0646 - val_mae: 1.4760 - val_coeff: 0.5860\n",
      "Epoch 133/150\n",
      "3341/3341 [==============================] - 0s 41us/sample - loss: 4.5398 - mae: 1.4351 - coeff: 0.5954 - val_loss: 5.0877 - val_mae: 1.4865 - val_coeff: 0.5829\n",
      "Epoch 134/150\n",
      "3341/3341 [==============================] - 0s 51us/sample - loss: 4.5319 - mae: 1.4222 - coeff: 0.6017 - val_loss: 4.9806 - val_mae: 1.5025 - val_coeff: 0.5918\n",
      "Epoch 135/150\n",
      "3341/3341 [==============================] - 0s 47us/sample - loss: 4.5434 - mae: 1.4415 - coeff: 0.6016 - val_loss: 5.3073 - val_mae: 1.5003 - val_coeff: 0.5636\n",
      "Epoch 136/150\n",
      "3341/3341 [==============================] - 0s 46us/sample - loss: 4.5610 - mae: 1.4364 - coeff: 0.5943 - val_loss: 5.2316 - val_mae: 1.4977 - val_coeff: 0.5697\n",
      "Epoch 137/150\n",
      "3341/3341 [==============================] - 0s 43us/sample - loss: 4.5396 - mae: 1.4268 - coeff: 0.5939 - val_loss: 4.9508 - val_mae: 1.4725 - val_coeff: 0.5941\n",
      "Epoch 138/150\n",
      "3341/3341 [==============================] - 0s 52us/sample - loss: 4.5085 - mae: 1.4205 - coeff: 0.5996 - val_loss: 5.1707 - val_mae: 1.4888 - val_coeff: 0.5756\n",
      "Epoch 139/150\n",
      "3341/3341 [==============================] - 0s 42us/sample - loss: 4.4706 - mae: 1.4213 - coeff: 0.5932 - val_loss: 4.9307 - val_mae: 1.4692 - val_coeff: 0.5951\n",
      "Epoch 140/150\n"
     ]
    },
    {
     "name": "stdout",
     "output_type": "stream",
     "text": [
      "3341/3341 [==============================] - 0s 45us/sample - loss: 4.5272 - mae: 1.4332 - coeff: 0.5985 - val_loss: 4.9985 - val_mae: 1.4957 - val_coeff: 0.5894\n",
      "Epoch 141/150\n",
      "3341/3341 [==============================] - 0s 45us/sample - loss: 4.5337 - mae: 1.4422 - coeff: 0.6022 - val_loss: 5.0336 - val_mae: 1.4803 - val_coeff: 0.5863\n",
      "Epoch 142/150\n",
      "3341/3341 [==============================] - 0s 45us/sample - loss: 4.5011 - mae: 1.4249 - coeff: 0.6024 - val_loss: 5.2351 - val_mae: 1.5087 - val_coeff: 0.5687\n",
      "Epoch 143/150\n",
      "3341/3341 [==============================] - 0s 40us/sample - loss: 4.5793 - mae: 1.4442 - coeff: 0.5874 - val_loss: 4.9941 - val_mae: 1.4792 - val_coeff: 0.5896\n",
      "Epoch 144/150\n",
      "3341/3341 [==============================] - 0s 43us/sample - loss: 4.5176 - mae: 1.4281 - coeff: 0.5938 - val_loss: 5.3890 - val_mae: 1.4996 - val_coeff: 0.5560\n",
      "Epoch 145/150\n",
      "3341/3341 [==============================] - 0s 43us/sample - loss: 4.5269 - mae: 1.4229 - coeff: 0.5946 - val_loss: 4.9612 - val_mae: 1.4728 - val_coeff: 0.5925\n",
      "Epoch 146/150\n",
      "3341/3341 [==============================] - 0s 43us/sample - loss: 4.5251 - mae: 1.4374 - coeff: 0.5891 - val_loss: 5.1537 - val_mae: 1.4975 - val_coeff: 0.5755\n",
      "Epoch 147/150\n",
      "3341/3341 [==============================] - 0s 45us/sample - loss: 4.5021 - mae: 1.4267 - coeff: 0.5921 - val_loss: 4.8482 - val_mae: 1.4796 - val_coeff: 0.6009\n",
      "Epoch 148/150\n",
      "3341/3341 [==============================] - 0s 45us/sample - loss: 4.4687 - mae: 1.4266 - coeff: 0.5862 - val_loss: 4.8730 - val_mae: 1.5070 - val_coeff: 0.5979\n",
      "Epoch 149/150\n",
      "3341/3341 [==============================] - 0s 42us/sample - loss: 4.5492 - mae: 1.4482 - coeff: 0.5856 - val_loss: 4.9745 - val_mae: 1.4741 - val_coeff: 0.5908\n",
      "Epoch 150/150\n",
      "3341/3341 [==============================] - 0s 40us/sample - loss: 4.4783 - mae: 1.4275 - coeff: 0.6001 - val_loss: 4.9474 - val_mae: 1.4773 - val_coeff: 0.5936\n"
     ]
    }
   ],
   "source": [
    "epochs = 150\n",
    "batch_size=128\n",
    "\n",
    "history = model.fit(X_train_scaled, y_train, epochs=epochs, batch_size=batch_size, validation_data=[X_test_scaled, y_test])"
   ]
  },
  {
   "cell_type": "code",
   "execution_count": 33,
   "metadata": {},
   "outputs": [],
   "source": [
    "y_pred = model.predict(X_test_scaled)"
   ]
  },
  {
   "cell_type": "markdown",
   "metadata": {},
   "source": [
    "## Evaluate"
   ]
  },
  {
   "cell_type": "code",
   "execution_count": 34,
   "metadata": {
    "scrolled": false
   },
   "outputs": [
    {
     "name": "stdout",
     "output_type": "stream",
     "text": [
      "Score\n",
      "MSE :       4.509464232082118\n",
      "RMSE :      2.123549912783337\n",
      "r2_score :  0.5981463039090056\n"
     ]
    }
   ],
   "source": [
    "print('Score')\n",
    "print('MSE :      ', mse(y_test, y_pred))\n",
    "print('RMSE :     ', np.sqrt(mse(y_test, y_pred)))\n",
    "print('r2_score : ', r2(y_test, y_pred))"
   ]
  },
  {
   "cell_type": "code",
   "execution_count": 35,
   "metadata": {
    "scrolled": true
   },
   "outputs": [
    {
     "data": {
      "image/png": "[encoded data removed]",
      "text/plain": [
       "<Figure size 432x288 with 1 Axes>"
      ]
     },
     "metadata": {
      "needs_background": "light"
     },
     "output_type": "display_data"
    },
    {
     "data": {
      "image/png": "[encoded data removed]",
      "text/plain": [
       "<Figure size 432x288 with 1 Axes>"
      ]
     },
     "metadata": {
      "needs_background": "light"
     },
     "output_type": "display_data"
    },
    {
     "data": {
      "image/png": "[encoded data removed]",
      "text/plain": [
       "<Figure size 432x288 with 1 Axes>"
      ]
     },
     "metadata": {
      "needs_background": "light"
     },
     "output_type": "display_data"
    }
   ],
   "source": [
    "plt.plot(history.history['loss'])\n",
    "plt.plot(history.history['val_loss'])\n",
    "plt.ylabel('MSE')\n",
    "plt.xlabel('Epoch')\n",
    "plt.legend(['Train', 'Test'], loc='upper left')\n",
    "# plt.ylim((0,8))\n",
    "plt.show()\n",
    "\n",
    "# Plot training & validation accuracy values\n",
    "plt.plot(history.history['coeff'])\n",
    "plt.plot(history.history['val_coeff'])\n",
    "plt.ylabel('R2 score')\n",
    "plt.xlabel('Epoch')\n",
    "plt.legend(['Train', 'Test'], loc='lower right')\n",
    "plt.ylim((-1,1.5))\n",
    "plt.show()\n",
    "\n",
    "a = plt.axes(aspect='equal')\n",
    "plt.scatter(y_test, y_pred, c=[(1, 0.7, 0.0),], marker='+')\n",
    "plt.xlabel('True Values')\n",
    "plt.ylabel('Predictions')\n",
    "lims = [0, 25]\n",
    "plt.xlim(lims)\n",
    "plt.ylim(lims)\n",
    "_ = plt.plot(lims, lims)"
   ]
  },
  {
   "cell_type": "code",
   "execution_count": null,
   "metadata": {},
   "outputs": [],
   "source": []
  },
  {
   "cell_type": "code",
   "execution_count": null,
   "metadata": {},
   "outputs": [],
   "source": []
  },
  {
   "cell_type": "code",
   "execution_count": null,
   "metadata": {},
   "outputs": [],
   "source": []
  }
 ],
 "metadata": {
  "kernelspec": {
   "display_name": "Python 3",
   "language": "python",
   "name": "python3"
  },
  "language_info": {
   "codemirror_mode": {
    "name": "ipython",
    "version": 3
   },
   "file_extension": ".py",
   "mimetype": "text/x-python",
   "name": "python",
   "nbconvert_exporter": "python",
   "pygments_lexer": "ipython3",
   "version": "3.7.5"
  }
 },
 "nbformat": 4,
 "nbformat_minor": 2
}
