{
 "cells": [
  {
   "cell_type": "markdown",
   "metadata": {},
   "source": [
    "# Regression - FFNN"
   ]
  },
  {
   "cell_type": "code",
   "execution_count": 1,
   "metadata": {},
   "outputs": [],
   "source": [
    "import numpy as np\n",
    "import pandas as pd\n",
    "import seaborn as sns\n",
    "import matplotlib.pyplot as plt"
   ]
  },
  {
   "cell_type": "code",
   "execution_count": 3,
   "metadata": {},
   "outputs": [],
   "source": [
    "df = pd.read_csv('abalone.data',\n",
    "                 names=['Sex','Length','Diameter','Height','Whole weight','Shucked weight','Viscera weight','Shell weight','Rings'])"
   ]
  },
  {
   "cell_type": "code",
   "execution_count": 4,
   "metadata": {},
   "outputs": [],
   "source": [
    "from sklearn.model_selection import train_test_split"
   ]
  },
  {
   "cell_type": "code",
   "execution_count": 5,
   "metadata": {},
   "outputs": [],
   "source": [
    "df['Sex'] = df['Sex'].replace(('I','M','F'),(3,1,2))\n",
    "\n",
    "X = df.iloc[:,:-1].values\n",
    "y = df.iloc[:, -1].values\n",
    "\n",
    "X_train, X_test, y_train, y_test = train_test_split(X, y, test_size=0.2, random_state=7)"
   ]
  },
  {
   "cell_type": "code",
   "execution_count": 6,
   "metadata": {},
   "outputs": [
    {
     "data": {
      "text/html": [
       "<div>\n",
       "<style scoped>\n",
       "    .dataframe tbody tr th:only-of-type {\n",
       "        vertical-align: middle;\n",
       "    }\n",
       "\n",
       "    .dataframe tbody tr th {\n",
       "        vertical-align: top;\n",
       "    }\n",
       "\n",
       "    .dataframe thead th {\n",
       "        text-align: right;\n",
       "    }\n",
       "</style>\n",
       "<table border=\"1\" class=\"dataframe\">\n",
       "  <thead>\n",
       "    <tr style=\"text-align: right;\">\n",
       "      <th></th>\n",
       "      <th>Sex</th>\n",
       "      <th>Length</th>\n",
       "      <th>Diameter</th>\n",
       "      <th>Height</th>\n",
       "      <th>Whole weight</th>\n",
       "      <th>Shucked weight</th>\n",
       "      <th>Viscera weight</th>\n",
       "      <th>Shell weight</th>\n",
       "      <th>Rings</th>\n",
       "    </tr>\n",
       "  </thead>\n",
       "  <tbody>\n",
       "    <tr>\n",
       "      <th>0</th>\n",
       "      <td>1</td>\n",
       "      <td>0.455</td>\n",
       "      <td>0.365</td>\n",
       "      <td>0.095</td>\n",
       "      <td>0.5140</td>\n",
       "      <td>0.2245</td>\n",
       "      <td>0.1010</td>\n",
       "      <td>0.150</td>\n",
       "      <td>15</td>\n",
       "    </tr>\n",
       "    <tr>\n",
       "      <th>1</th>\n",
       "      <td>1</td>\n",
       "      <td>0.350</td>\n",
       "      <td>0.265</td>\n",
       "      <td>0.090</td>\n",
       "      <td>0.2255</td>\n",
       "      <td>0.0995</td>\n",
       "      <td>0.0485</td>\n",
       "      <td>0.070</td>\n",
       "      <td>7</td>\n",
       "    </tr>\n",
       "    <tr>\n",
       "      <th>2</th>\n",
       "      <td>2</td>\n",
       "      <td>0.530</td>\n",
       "      <td>0.420</td>\n",
       "      <td>0.135</td>\n",
       "      <td>0.6770</td>\n",
       "      <td>0.2565</td>\n",
       "      <td>0.1415</td>\n",
       "      <td>0.210</td>\n",
       "      <td>9</td>\n",
       "    </tr>\n",
       "    <tr>\n",
       "      <th>3</th>\n",
       "      <td>1</td>\n",
       "      <td>0.440</td>\n",
       "      <td>0.365</td>\n",
       "      <td>0.125</td>\n",
       "      <td>0.5160</td>\n",
       "      <td>0.2155</td>\n",
       "      <td>0.1140</td>\n",
       "      <td>0.155</td>\n",
       "      <td>10</td>\n",
       "    </tr>\n",
       "    <tr>\n",
       "      <th>4</th>\n",
       "      <td>3</td>\n",
       "      <td>0.330</td>\n",
       "      <td>0.255</td>\n",
       "      <td>0.080</td>\n",
       "      <td>0.2050</td>\n",
       "      <td>0.0895</td>\n",
       "      <td>0.0395</td>\n",
       "      <td>0.055</td>\n",
       "      <td>7</td>\n",
       "    </tr>\n",
       "  </tbody>\n",
       "</table>\n",
       "</div>"
      ],
      "text/plain": [
       "   Sex  Length  Diameter  Height  Whole weight  Shucked weight  \\\n",
       "0    1   0.455     0.365   0.095        0.5140          0.2245   \n",
       "1    1   0.350     0.265   0.090        0.2255          0.0995   \n",
       "2    2   0.530     0.420   0.135        0.6770          0.2565   \n",
       "3    1   0.440     0.365   0.125        0.5160          0.2155   \n",
       "4    3   0.330     0.255   0.080        0.2050          0.0895   \n",
       "\n",
       "   Viscera weight  Shell weight  Rings  \n",
       "0          0.1010         0.150     15  \n",
       "1          0.0485         0.070      7  \n",
       "2          0.1415         0.210      9  \n",
       "3          0.1140         0.155     10  \n",
       "4          0.0395         0.055      7  "
      ]
     },
     "execution_count": 6,
     "metadata": {},
     "output_type": "execute_result"
    }
   ],
   "source": [
    "df.head()"
   ]
  },
  {
   "cell_type": "markdown",
   "metadata": {},
   "source": [
    "## Build Model"
   ]
  },
  {
   "cell_type": "code",
   "execution_count": 28,
   "metadata": {},
   "outputs": [],
   "source": [
    "import tensorflow as tf\n",
    "from tensorflow import keras\n",
    "from tensorflow.keras import layers"
   ]
  },
  {
   "cell_type": "code",
   "execution_count": 31,
   "metadata": {},
   "outputs": [],
   "source": [
    "model = keras.Sequential([\n",
    "    layers.Dense(32, activation='relu', input_shape=[8]),\n",
    "    layers.Dense(64, activation='relu'),\n",
    "    layers.Dense(128, activation='relu'),\n",
    "    layers.Dense(256, activation='relu'),\n",
    "    layers.Dense(512, activation='relu'),\n",
    "    layers.Dense(1)\n",
    "])"
   ]
  },
  {
   "cell_type": "code",
   "execution_count": 32,
   "metadata": {},
   "outputs": [
    {
     "name": "stdout",
     "output_type": "stream",
     "text": [
      "Model: \"sequential_3\"\n",
      "_________________________________________________________________\n",
      "Layer (type)                 Output Shape              Param #   \n",
      "=================================================================\n",
      "dense_17 (Dense)             (None, 32)                288       \n",
      "_________________________________________________________________\n",
      "dense_18 (Dense)             (None, 64)                2112      \n",
      "_________________________________________________________________\n",
      "dense_19 (Dense)             (None, 128)               8320      \n",
      "_________________________________________________________________\n",
      "dense_20 (Dense)             (None, 256)               33024     \n",
      "_________________________________________________________________\n",
      "dense_21 (Dense)             (None, 512)               131584    \n",
      "_________________________________________________________________\n",
      "dense_22 (Dense)             (None, 1)                 513       \n",
      "=================================================================\n",
      "Total params: 175,841\n",
      "Trainable params: 175,841\n",
      "Non-trainable params: 0\n",
      "_________________________________________________________________\n"
     ]
    }
   ],
   "source": [
    "model.summary()"
   ]
  },
  {
   "cell_type": "code",
   "execution_count": 24,
   "metadata": {},
   "outputs": [],
   "source": [
    "optimizer = tf.optimizers.Adam(learning_rate=0.0001)\n",
    "model.compile(optimizer=optimizer, loss='mse', metrics=['mae', 'mse'])"
   ]
  },
  {
   "cell_type": "code",
   "execution_count": 25,
   "metadata": {},
   "outputs": [
    {
     "name": "stdout",
     "output_type": "stream",
     "text": [
      "Train on 3341 samples, validate on 836 samples\n",
      "Epoch 1/100\n",
      "3341/3341 [==============================] - 1s 262us/sample - loss: 101.9316 - mae: 9.5695 - mse: 101.9316 - val_loss: 98.3032 - val_mae: 9.3193 - val_mse: 98.3032\n",
      "Epoch 2/100\n",
      "3341/3341 [==============================] - 0s 53us/sample - loss: 83.2159 - mae: 8.5138 - mse: 83.2159 - val_loss: 72.2555 - val_mae: 7.7585 - val_mse: 72.2555\n",
      "Epoch 3/100\n",
      "3341/3341 [==============================] - 0s 55us/sample - loss: 49.7496 - mae: 6.1344 - mse: 49.7496 - val_loss: 31.5787 - val_mae: 4.4956 - val_mse: 31.5787\n",
      "Epoch 4/100\n",
      "3341/3341 [==============================] - 0s 55us/sample - loss: 19.4365 - mae: 3.4652 - mse: 19.4365 - val_loss: 16.6150 - val_mae: 3.2542 - val_mse: 16.6150\n",
      "Epoch 5/100\n",
      "3341/3341 [==============================] - 0s 48us/sample - loss: 14.3755 - mae: 2.9827 - mse: 14.3755 - val_loss: 14.1398 - val_mae: 2.9133 - val_mse: 14.1398\n",
      "Epoch 6/100\n",
      "3341/3341 [==============================] - 0s 49us/sample - loss: 11.9857 - mae: 2.6703 - mse: 11.9856 - val_loss: 12.0251 - val_mae: 2.6458 - val_mse: 12.0251\n",
      "Epoch 7/100\n",
      "3341/3341 [==============================] - 0s 53us/sample - loss: 10.2744 - mae: 2.4508 - mse: 10.2744 - val_loss: 10.5095 - val_mae: 2.4346 - val_mse: 10.5095\n",
      "Epoch 8/100\n",
      "3341/3341 [==============================] - 0s 57us/sample - loss: 9.2097 - mae: 2.2739 - mse: 9.2097 - val_loss: 9.6502 - val_mae: 2.3123 - val_mse: 9.6502\n",
      "Epoch 9/100\n",
      "3341/3341 [==============================] - 0s 57us/sample - loss: 8.6390 - mae: 2.1708 - mse: 8.6390 - val_loss: 9.1910 - val_mae: 2.2257 - val_mse: 9.1910\n",
      "Epoch 10/100\n",
      "3341/3341 [==============================] - 0s 52us/sample - loss: 8.3430 - mae: 2.1387 - mse: 8.3430 - val_loss: 8.9369 - val_mae: 2.1477 - val_mse: 8.9369\n",
      "Epoch 11/100\n",
      "3341/3341 [==============================] - 0s 46us/sample - loss: 8.1111 - mae: 2.0928 - mse: 8.1111 - val_loss: 8.7649 - val_mae: 2.0910 - val_mse: 8.7649\n",
      "Epoch 12/100\n",
      "3341/3341 [==============================] - 0s 55us/sample - loss: 7.8668 - mae: 2.0463 - mse: 7.8668 - val_loss: 8.5115 - val_mae: 2.0596 - val_mse: 8.5115\n",
      "Epoch 13/100\n",
      "3341/3341 [==============================] - 0s 101us/sample - loss: 7.6814 - mae: 2.0080 - mse: 7.6814 - val_loss: 8.2498 - val_mae: 2.0395 - val_mse: 8.2498\n",
      "Epoch 14/100\n",
      "3341/3341 [==============================] - 0s 53us/sample - loss: 7.5049 - mae: 2.0009 - mse: 7.5049 - val_loss: 8.2041 - val_mae: 1.9947 - val_mse: 8.2041\n",
      "Epoch 15/100\n",
      "3341/3341 [==============================] - 0s 55us/sample - loss: 7.3835 - mae: 1.9680 - mse: 7.3835 - val_loss: 8.0923 - val_mae: 1.9671 - val_mse: 8.0923\n",
      "Epoch 16/100\n",
      "3341/3341 [==============================] - 0s 65us/sample - loss: 7.2492 - mae: 1.9417 - mse: 7.2492 - val_loss: 7.7403 - val_mae: 1.9623 - val_mse: 7.7403\n",
      "Epoch 17/100\n",
      "3341/3341 [==============================] - 0s 50us/sample - loss: 7.0534 - mae: 1.9264 - mse: 7.0534 - val_loss: 7.6105 - val_mae: 1.9311 - val_mse: 7.6105\n",
      "Epoch 18/100\n",
      "3341/3341 [==============================] - 0s 47us/sample - loss: 6.9101 - mae: 1.8995 - mse: 6.9101 - val_loss: 7.4179 - val_mae: 1.9205 - val_mse: 7.4179\n",
      "Epoch 19/100\n",
      "3341/3341 [==============================] - 0s 46us/sample - loss: 6.7931 - mae: 1.8689 - mse: 6.7931 - val_loss: 7.2434 - val_mae: 1.9599 - val_mse: 7.2434\n",
      "Epoch 20/100\n",
      "3341/3341 [==============================] - 0s 58us/sample - loss: 6.7449 - mae: 1.8797 - mse: 6.7449 - val_loss: 7.1237 - val_mae: 1.9605 - val_mse: 7.1237\n",
      "Epoch 21/100\n",
      "3341/3341 [==============================] - 0s 63us/sample - loss: 6.5885 - mae: 1.8599 - mse: 6.5885 - val_loss: 7.0226 - val_mae: 1.9104 - val_mse: 7.0226\n",
      "Epoch 22/100\n",
      "3341/3341 [==============================] - 0s 50us/sample - loss: 6.4712 - mae: 1.8401 - mse: 6.4712 - val_loss: 6.9425 - val_mae: 1.8610 - val_mse: 6.9425\n",
      "Epoch 23/100\n",
      "3341/3341 [==============================] - 0s 45us/sample - loss: 6.3668 - mae: 1.8200 - mse: 6.3668 - val_loss: 6.8912 - val_mae: 1.8296 - val_mse: 6.8912\n",
      "Epoch 24/100\n",
      "3341/3341 [==============================] - 0s 47us/sample - loss: 6.2369 - mae: 1.8068 - mse: 6.2369 - val_loss: 6.8092 - val_mae: 1.8146 - val_mse: 6.8092\n",
      "Epoch 25/100\n",
      "3341/3341 [==============================] - 0s 48us/sample - loss: 6.1495 - mae: 1.7910 - mse: 6.1495 - val_loss: 6.8640 - val_mae: 1.7779 - val_mse: 6.8640\n",
      "Epoch 26/100\n",
      "3341/3341 [==============================] - 0s 47us/sample - loss: 6.0906 - mae: 1.7726 - mse: 6.0906 - val_loss: 6.6974 - val_mae: 1.7906 - val_mse: 6.6974\n",
      "Epoch 27/100\n",
      "3341/3341 [==============================] - 0s 47us/sample - loss: 6.0372 - mae: 1.7781 - mse: 6.0372 - val_loss: 6.6026 - val_mae: 1.8094 - val_mse: 6.6026\n",
      "Epoch 28/100\n",
      "3341/3341 [==============================] - 0s 50us/sample - loss: 5.9801 - mae: 1.7723 - mse: 5.9801 - val_loss: 6.6498 - val_mae: 1.7625 - val_mse: 6.6498\n",
      "Epoch 29/100\n",
      "3341/3341 [==============================] - 0s 47us/sample - loss: 5.9134 - mae: 1.7469 - mse: 5.9134 - val_loss: 6.6077 - val_mae: 1.7559 - val_mse: 6.6077\n",
      "Epoch 30/100\n",
      "3341/3341 [==============================] - 0s 47us/sample - loss: 5.8679 - mae: 1.7513 - mse: 5.8679 - val_loss: 6.5324 - val_mae: 1.7597 - val_mse: 6.5324\n",
      "Epoch 31/100\n",
      "3341/3341 [==============================] - 0s 47us/sample - loss: 5.8539 - mae: 1.7381 - mse: 5.8539 - val_loss: 6.4569 - val_mae: 1.7783 - val_mse: 6.4569\n",
      "Epoch 32/100\n",
      "3341/3341 [==============================] - 0s 47us/sample - loss: 5.8369 - mae: 1.7610 - mse: 5.8369 - val_loss: 6.5178 - val_mae: 1.7357 - val_mse: 6.5178\n",
      "Epoch 33/100\n",
      "3341/3341 [==============================] - 0s 50us/sample - loss: 5.7713 - mae: 1.7324 - mse: 5.7713 - val_loss: 6.6092 - val_mae: 1.7181 - val_mse: 6.6092\n",
      "Epoch 34/100\n",
      "3341/3341 [==============================] - 0s 47us/sample - loss: 5.7341 - mae: 1.7207 - mse: 5.7341 - val_loss: 6.4544 - val_mae: 1.7241 - val_mse: 6.4544\n",
      "Epoch 35/100\n",
      "3341/3341 [==============================] - 0s 49us/sample - loss: 5.6968 - mae: 1.7186 - mse: 5.6968 - val_loss: 6.4488 - val_mae: 1.7142 - val_mse: 6.4488\n",
      "Epoch 36/100\n",
      "3341/3341 [==============================] - 0s 50us/sample - loss: 5.7715 - mae: 1.7268 - mse: 5.7715 - val_loss: 6.3078 - val_mae: 1.8532 - val_mse: 6.3078\n",
      "Epoch 37/100\n",
      "3341/3341 [==============================] - 0s 47us/sample - loss: 5.6950 - mae: 1.7234 - mse: 5.6950 - val_loss: 6.2883 - val_mae: 1.7222 - val_mse: 6.2883\n",
      "Epoch 38/100\n",
      "3341/3341 [==============================] - 0s 47us/sample - loss: 5.6036 - mae: 1.6938 - mse: 5.6036 - val_loss: 6.1957 - val_mae: 1.7616 - val_mse: 6.1957\n",
      "Epoch 39/100\n",
      "3341/3341 [==============================] - 0s 56us/sample - loss: 5.5778 - mae: 1.7121 - mse: 5.5778 - val_loss: 6.3559 - val_mae: 1.6938 - val_mse: 6.3559\n",
      "Epoch 40/100\n",
      "3341/3341 [==============================] - 0s 52us/sample - loss: 5.5426 - mae: 1.6907 - mse: 5.5426 - val_loss: 6.1983 - val_mae: 1.7103 - val_mse: 6.1983\n",
      "Epoch 41/100\n",
      "3341/3341 [==============================] - 0s 48us/sample - loss: 5.5256 - mae: 1.7073 - mse: 5.5256 - val_loss: 6.3113 - val_mae: 1.6846 - val_mse: 6.3113\n",
      "Epoch 42/100\n",
      "3341/3341 [==============================] - 0s 47us/sample - loss: 5.5033 - mae: 1.6764 - mse: 5.5033 - val_loss: 6.1463 - val_mae: 1.6945 - val_mse: 6.1463\n",
      "Epoch 43/100\n",
      "3341/3341 [==============================] - 0s 48us/sample - loss: 5.4531 - mae: 1.6760 - mse: 5.4531 - val_loss: 6.0546 - val_mae: 1.7122 - val_mse: 6.0546\n",
      "Epoch 44/100\n",
      "3341/3341 [==============================] - 0s 47us/sample - loss: 5.4380 - mae: 1.6820 - mse: 5.4380 - val_loss: 6.2364 - val_mae: 1.6744 - val_mse: 6.2364\n",
      "Epoch 45/100\n",
      "3341/3341 [==============================] - 0s 48us/sample - loss: 5.4023 - mae: 1.6709 - mse: 5.4023 - val_loss: 6.1002 - val_mae: 1.6743 - val_mse: 6.1002\n",
      "Epoch 46/100\n",
      "3341/3341 [==============================] - 0s 55us/sample - loss: 5.3853 - mae: 1.6742 - mse: 5.3853 - val_loss: 5.9295 - val_mae: 1.7177 - val_mse: 5.9295\n",
      "Epoch 47/100\n",
      "3341/3341 [==============================] - 0s 56us/sample - loss: 5.3510 - mae: 1.6693 - mse: 5.3510 - val_loss: 5.8832 - val_mae: 1.7058 - val_mse: 5.8832\n",
      "Epoch 48/100\n"
     ]
    },
    {
     "name": "stdout",
     "output_type": "stream",
     "text": [
      "3341/3341 [==============================] - 0s 60us/sample - loss: 5.3096 - mae: 1.6605 - mse: 5.3096 - val_loss: 5.9191 - val_mae: 1.6769 - val_mse: 5.9191\n",
      "Epoch 49/100\n",
      "3341/3341 [==============================] - 0s 44us/sample - loss: 5.2763 - mae: 1.6479 - mse: 5.2763 - val_loss: 5.8548 - val_mae: 1.6768 - val_mse: 5.8548\n",
      "Epoch 50/100\n",
      "3341/3341 [==============================] - 0s 67us/sample - loss: 5.2638 - mae: 1.6530 - mse: 5.2638 - val_loss: 5.8957 - val_mae: 1.6603 - val_mse: 5.8957\n",
      "Epoch 51/100\n",
      "3341/3341 [==============================] - 0s 67us/sample - loss: 5.2108 - mae: 1.6389 - mse: 5.2108 - val_loss: 5.8182 - val_mae: 1.6615 - val_mse: 5.8182\n",
      "Epoch 52/100\n",
      "3341/3341 [==============================] - 0s 97us/sample - loss: 5.1972 - mae: 1.6324 - mse: 5.1972 - val_loss: 5.8441 - val_mae: 1.6489 - val_mse: 5.8441\n",
      "Epoch 53/100\n",
      "3341/3341 [==============================] - 0s 70us/sample - loss: 5.1652 - mae: 1.6270 - mse: 5.1652 - val_loss: 5.6941 - val_mae: 1.6707 - val_mse: 5.6941\n",
      "Epoch 54/100\n",
      "3341/3341 [==============================] - 0s 47us/sample - loss: 5.1313 - mae: 1.6266 - mse: 5.1314 - val_loss: 5.7619 - val_mae: 1.6436 - val_mse: 5.7619\n",
      "Epoch 55/100\n",
      "3341/3341 [==============================] - 0s 51us/sample - loss: 5.1086 - mae: 1.6188 - mse: 5.1086 - val_loss: 5.6500 - val_mae: 1.6538 - val_mse: 5.6500\n",
      "Epoch 56/100\n",
      "3341/3341 [==============================] - 0s 48us/sample - loss: 5.0703 - mae: 1.6155 - mse: 5.0703 - val_loss: 5.5958 - val_mae: 1.6661 - val_mse: 5.5958\n",
      "Epoch 57/100\n",
      "3341/3341 [==============================] - 0s 73us/sample - loss: 5.0731 - mae: 1.6032 - mse: 5.0731 - val_loss: 5.6022 - val_mae: 1.6386 - val_mse: 5.6022\n",
      "Epoch 58/100\n",
      "3341/3341 [==============================] - 0s 67us/sample - loss: 5.0473 - mae: 1.6118 - mse: 5.0473 - val_loss: 5.4908 - val_mae: 1.6689 - val_mse: 5.4908\n",
      "Epoch 59/100\n",
      "3341/3341 [==============================] - 0s 84us/sample - loss: 5.0108 - mae: 1.6049 - mse: 5.0108 - val_loss: 5.4944 - val_mae: 1.6402 - val_mse: 5.4944\n",
      "Epoch 60/100\n",
      "3341/3341 [==============================] - 0s 80us/sample - loss: 5.0497 - mae: 1.6235 - mse: 5.0497 - val_loss: 5.6246 - val_mae: 1.6156 - val_mse: 5.6246\n",
      "Epoch 61/100\n",
      "3341/3341 [==============================] - 0s 49us/sample - loss: 5.0055 - mae: 1.6119 - mse: 5.0055 - val_loss: 5.5872 - val_mae: 1.6101 - val_mse: 5.5872\n",
      "Epoch 62/100\n",
      "3341/3341 [==============================] - 0s 69us/sample - loss: 4.9340 - mae: 1.5773 - mse: 4.9340 - val_loss: 5.3937 - val_mae: 1.6209 - val_mse: 5.3937\n",
      "Epoch 63/100\n",
      "3341/3341 [==============================] - 0s 68us/sample - loss: 4.8889 - mae: 1.5816 - mse: 4.8889 - val_loss: 5.3743 - val_mae: 1.6158 - val_mse: 5.3743\n",
      "Epoch 64/100\n",
      "3341/3341 [==============================] - 0s 47us/sample - loss: 4.8588 - mae: 1.5741 - mse: 4.8588 - val_loss: 5.4795 - val_mae: 1.6007 - val_mse: 5.4795\n",
      "Epoch 65/100\n",
      "3341/3341 [==============================] - 0s 48us/sample - loss: 4.8719 - mae: 1.5681 - mse: 4.8719 - val_loss: 5.2910 - val_mae: 1.6229 - val_mse: 5.2910\n",
      "Epoch 66/100\n",
      "3341/3341 [==============================] - 0s 49us/sample - loss: 4.8407 - mae: 1.5724 - mse: 4.8407 - val_loss: 5.4512 - val_mae: 1.5959 - val_mse: 5.4512\n",
      "Epoch 67/100\n",
      "3341/3341 [==============================] - 0s 56us/sample - loss: 4.8112 - mae: 1.5593 - mse: 4.8112 - val_loss: 5.2593 - val_mae: 1.6046 - val_mse: 5.2593\n",
      "Epoch 68/100\n",
      "3341/3341 [==============================] - 0s 49us/sample - loss: 4.7753 - mae: 1.5617 - mse: 4.7753 - val_loss: 5.3641 - val_mae: 1.5879 - val_mse: 5.3641\n",
      "Epoch 69/100\n",
      "3341/3341 [==============================] - 0s 46us/sample - loss: 4.7634 - mae: 1.5494 - mse: 4.7634 - val_loss: 5.1875 - val_mae: 1.6005 - val_mse: 5.1875\n",
      "Epoch 70/100\n",
      "3341/3341 [==============================] - 0s 48us/sample - loss: 4.7816 - mae: 1.5823 - mse: 4.7816 - val_loss: 5.2260 - val_mae: 1.6018 - val_mse: 5.2260\n",
      "Epoch 71/100\n",
      "3341/3341 [==============================] - 0s 48us/sample - loss: 4.7604 - mae: 1.5527 - mse: 4.7604 - val_loss: 5.1814 - val_mae: 1.5876 - val_mse: 5.1814\n",
      "Epoch 72/100\n",
      "3341/3341 [==============================] - 0s 49us/sample - loss: 4.7398 - mae: 1.5533 - mse: 4.7398 - val_loss: 5.1570 - val_mae: 1.5848 - val_mse: 5.1570\n",
      "Epoch 73/100\n",
      "3341/3341 [==============================] - 0s 47us/sample - loss: 4.6975 - mae: 1.5492 - mse: 4.6975 - val_loss: 5.0757 - val_mae: 1.6438 - val_mse: 5.0757\n",
      "Epoch 74/100\n",
      "3341/3341 [==============================] - 0s 50us/sample - loss: 4.7367 - mae: 1.5567 - mse: 4.7367 - val_loss: 5.2099 - val_mae: 1.5721 - val_mse: 5.2099\n",
      "Epoch 75/100\n",
      "3341/3341 [==============================] - 0s 48us/sample - loss: 4.6627 - mae: 1.5395 - mse: 4.6627 - val_loss: 5.1087 - val_mae: 1.5729 - val_mse: 5.1087\n",
      "Epoch 76/100\n",
      "3341/3341 [==============================] - 0s 48us/sample - loss: 4.6560 - mae: 1.5446 - mse: 4.6560 - val_loss: 5.1807 - val_mae: 1.5656 - val_mse: 5.1807\n",
      "Epoch 77/100\n",
      "3341/3341 [==============================] - 0s 52us/sample - loss: 4.6182 - mae: 1.5329 - mse: 4.6182 - val_loss: 5.2153 - val_mae: 1.5645 - val_mse: 5.2153\n",
      "Epoch 78/100\n",
      "3341/3341 [==============================] - 0s 50us/sample - loss: 4.6749 - mae: 1.5332 - mse: 4.6749 - val_loss: 5.0589 - val_mae: 1.5739 - val_mse: 5.0589\n",
      "Epoch 79/100\n",
      "3341/3341 [==============================] - 0s 50us/sample - loss: 4.6054 - mae: 1.5267 - mse: 4.6054 - val_loss: 5.1169 - val_mae: 1.5629 - val_mse: 5.1169\n",
      "Epoch 80/100\n",
      "3341/3341 [==============================] - 0s 49us/sample - loss: 4.6007 - mae: 1.5277 - mse: 4.6007 - val_loss: 5.0149 - val_mae: 1.5647 - val_mse: 5.0149\n",
      "Epoch 81/100\n",
      "3341/3341 [==============================] - 0s 48us/sample - loss: 4.5890 - mae: 1.5203 - mse: 4.5890 - val_loss: 4.9597 - val_mae: 1.5679 - val_mse: 4.9597\n",
      "Epoch 82/100\n",
      "3341/3341 [==============================] - 0s 47us/sample - loss: 4.5962 - mae: 1.5326 - mse: 4.5962 - val_loss: 5.0068 - val_mae: 1.5565 - val_mse: 5.0068\n",
      "Epoch 83/100\n",
      "3341/3341 [==============================] - 0s 47us/sample - loss: 4.5654 - mae: 1.5218 - mse: 4.5654 - val_loss: 4.9196 - val_mae: 1.5841 - val_mse: 4.9196\n",
      "Epoch 84/100\n",
      "3341/3341 [==============================] - 0s 49us/sample - loss: 4.6201 - mae: 1.5549 - mse: 4.6201 - val_loss: 5.6147 - val_mae: 1.6010 - val_mse: 5.6147\n",
      "Epoch 85/100\n",
      "3341/3341 [==============================] - 0s 49us/sample - loss: 4.5962 - mae: 1.5240 - mse: 4.5962 - val_loss: 4.8982 - val_mae: 1.5664 - val_mse: 4.8982\n",
      "Epoch 86/100\n",
      "3341/3341 [==============================] - 0s 47us/sample - loss: 4.6350 - mae: 1.5187 - mse: 4.6350 - val_loss: 4.8560 - val_mae: 1.6062 - val_mse: 4.8560\n",
      "Epoch 87/100\n",
      "3341/3341 [==============================] - 0s 47us/sample - loss: 4.6262 - mae: 1.5497 - mse: 4.6262 - val_loss: 4.9730 - val_mae: 1.5585 - val_mse: 4.9730\n",
      "Epoch 88/100\n",
      "3341/3341 [==============================] - 0s 50us/sample - loss: 4.5414 - mae: 1.5214 - mse: 4.5414 - val_loss: 5.1226 - val_mae: 1.5537 - val_mse: 5.1226\n",
      "Epoch 89/100\n",
      "3341/3341 [==============================] - 0s 53us/sample - loss: 4.5396 - mae: 1.5087 - mse: 4.5396 - val_loss: 4.8604 - val_mae: 1.5973 - val_mse: 4.8604\n",
      "Epoch 90/100\n",
      "3341/3341 [==============================] - 0s 47us/sample - loss: 4.5268 - mae: 1.5147 - mse: 4.5268 - val_loss: 4.9473 - val_mae: 1.5484 - val_mse: 4.9473\n",
      "Epoch 91/100\n",
      "3341/3341 [==============================] - 0s 49us/sample - loss: 4.5284 - mae: 1.5233 - mse: 4.5284 - val_loss: 4.9863 - val_mae: 1.5478 - val_mse: 4.9863\n",
      "Epoch 92/100\n",
      "3341/3341 [==============================] - 0s 46us/sample - loss: 4.5150 - mae: 1.5161 - mse: 4.5150 - val_loss: 5.0880 - val_mae: 1.5492 - val_mse: 5.0880\n",
      "Epoch 93/100\n",
      "3341/3341 [==============================] - 0s 47us/sample - loss: 4.5959 - mae: 1.5221 - mse: 4.5959 - val_loss: 4.8373 - val_mae: 1.5508 - val_mse: 4.8373\n",
      "Epoch 94/100\n",
      "3341/3341 [==============================] - 0s 47us/sample - loss: 4.4847 - mae: 1.5139 - mse: 4.4847 - val_loss: 5.0073 - val_mae: 1.5443 - val_mse: 5.0073\n",
      "Epoch 95/100\n",
      "3341/3341 [==============================] - 0s 48us/sample - loss: 4.5470 - mae: 1.5203 - mse: 4.5470 - val_loss: 4.8987 - val_mae: 1.5437 - val_mse: 4.8987\n"
     ]
    },
    {
     "name": "stdout",
     "output_type": "stream",
     "text": [
      "Epoch 96/100\n",
      "3341/3341 [==============================] - 0s 43us/sample - loss: 4.5020 - mae: 1.5006 - mse: 4.5020 - val_loss: 4.7861 - val_mae: 1.5574 - val_mse: 4.7861\n",
      "Epoch 97/100\n",
      "3341/3341 [==============================] - 0s 40us/sample - loss: 4.5588 - mae: 1.5322 - mse: 4.5588 - val_loss: 4.9428 - val_mae: 1.5429 - val_mse: 4.9428\n",
      "Epoch 98/100\n",
      "3341/3341 [==============================] - 0s 41us/sample - loss: 4.4725 - mae: 1.5053 - mse: 4.4725 - val_loss: 4.8281 - val_mae: 1.5512 - val_mse: 4.8281\n",
      "Epoch 99/100\n",
      "3341/3341 [==============================] - 0s 42us/sample - loss: 4.4946 - mae: 1.5025 - mse: 4.4946 - val_loss: 4.7882 - val_mae: 1.5491 - val_mse: 4.7882\n",
      "Epoch 100/100\n",
      "3341/3341 [==============================] - 0s 42us/sample - loss: 4.4580 - mae: 1.5031 - mse: 4.4580 - val_loss: 4.9428 - val_mae: 1.5421 - val_mse: 4.9428\n"
     ]
    }
   ],
   "source": [
    "history = model.fit(X_train, y_train, \n",
    "                     epochs=100,\n",
    "                     batch_size=128,\n",
    "                     validation_data=(X_test, y_test),\n",
    "                     verbose = 1\n",
    "                    )"
   ]
  },
  {
   "cell_type": "code",
   "execution_count": 26,
   "metadata": {},
   "outputs": [
    {
     "data": {
      "text/plain": [
       "<matplotlib.legend.Legend at 0x138b56990>"
      ]
     },
     "execution_count": 26,
     "metadata": {},
     "output_type": "execute_result"
    },
    {
     "data": {
      "image/png": "[encoded data removed]",
      "text/plain": [
       "<Figure size 432x288 with 1 Axes>"
      ]
     },
     "metadata": {
      "needs_background": "light"
     },
     "output_type": "display_data"
    }
   ],
   "source": [
    "hist = pd.DataFrame(history.history)\n",
    "hist['epoch'] = history.epoch\n",
    "\n",
    "plt.xlabel('Epoch')\n",
    "plt.ylabel('Mean Abs Error [MPG]')\n",
    "plt.plot(hist['epoch'], hist['mae'], label='Train Error')\n",
    "plt.plot(hist['epoch'], hist['val_mae'], label='val Error')\n",
    "plt.ylim(0, 5)\n",
    "plt.legend()"
   ]
  },
  {
   "cell_type": "code",
   "execution_count": 27,
   "metadata": {
    "scrolled": true
   },
   "outputs": [
    {
     "data": {
      "text/plain": [
       "<matplotlib.legend.Legend at 0x138e3c090>"
      ]
     },
     "execution_count": 27,
     "metadata": {},
     "output_type": "execute_result"
    },
    {
     "data": {
      "image/png": "[encoded data removed]",
      "text/plain": [
       "<Figure size 432x288 with 1 Axes>"
      ]
     },
     "metadata": {
      "needs_background": "light"
     },
     "output_type": "display_data"
    }
   ],
   "source": [
    "plt.xlabel('Epoch')\n",
    "plt.ylabel('Mean Square Error [$MPG^2$]')\n",
    "plt.plot(hist['epoch'], hist['mse'], label='Train Error')\n",
    "plt.plot(hist['epoch'], hist['val_mse'], label='val Error')\n",
    "plt.ylim(0, 30)\n",
    "plt.legend()"
   ]
  },
  {
   "cell_type": "code",
   "execution_count": 15,
   "metadata": {
    "scrolled": true
   },
   "outputs": [
    {
     "name": "stdout",
     "output_type": "stream",
     "text": [
      "\r",
      "836/1 [========================================================================================================================================================================================================================================================================================================================================================================================================================================================================================================================================================================================================================================================================================================================================================================================================================================================================================================================================================================================================================================================================================================================================================================================================================================================================================================================================================================================================================================================================================================================================================================================================================================================================================================================================================================================================================================================================================================================================================================================================================================================================================================================================================================================================================================================================================================================================================================================================================================================================================================================================================================================================================================================================================================================================================================================================================================================================================================================================================================================================================================================================================================================================================================================================================================================================================================================================================================================================================================================================================================================================================================================================================================================================================================================================================================================================================================================================================================================================================================================================================================================================================================================================================================================================================================================================================================================================================================================================================================================================================================================================================================================================================================================================================================================================================================================================================================================================================================================================================================================================================================================================================================================================================================================================================================================================================================================================================================================================================================================================================================================================================================================================================================================================================================================================================================================================================================================================================================================================================================================================================================================================================================================================================================================================================================================================================================================================================================================================================================================================================================================================================================================================================================================================================================================================================================================================================================================================================================================================================================================================================================================================================================================================================================================================================================================================================================================================================================================================================================================================================================================================================================================================================================================================================================================================================================================================================================================================================================================================================================================================================================================================================================================================================================================================================================================================================================================================================================================================================================================================================================================================================================================================================================================================================================================================================================================================================================================================================================================================================================================================================================================================================================================================================================================================================================================================================================================================================================================================================================================================================================================================================================================================================================================================================================================================================================================================================================================================================================================================================================================================================================================================================================================================================================================================================================================================================================================================================================================================================================================================================================================================================================================================================================================================================================================================================================================================================================================================================================================================================================================================================================================================================================================================================================================================================================================================================================================================================================================================================================================================================================================================================================================================================================================================================================================================================================================================================================================================================================================================================================================================================================================================================================================================================================================================================================================================================================================================================================================================================================================================================================================================================================================================================================================================================================================================================================================================================================================================================================================================================================================================================================================================================================================================================================================================================================================================================================================================================================================================================================================================================================================================================================================================================================================================================================================================================================================================================================================================================================================================================================================================================================================================================================================================================================================================================================================================================================================================================================================================================================================================================================================================================================================================================================================================================================================================================================================================================================================================================================================================================================================================================================================================================================================================================================================================================================================================================================================================================================================================================================================================================================================================================================================================================================================================================================================================================================================================================================================================================================================================================================================================================================================================================================================================================================================================================================================================================================================================================================================================================================================================================================================================================================================================================================================================================================================================================================================================================================================================================================================================================================================================================================================================================================================================================================================================================================================================================================================================================================================================================================================================================================================================================================================================================================================================================================================================================================================================================================================================================================================================================================================================================================================================================================================================================================================================================================================================================================================================================================================================================================================================================================================================================================================================================================================================================================================================================================================================================================================================================================================================================================================================================================================================================================================================================================================================================================================================================================================================================================================================================================================================================================================================================================================================================================================================================================================================================================================================================================================================================================================================================================================================================================================================================================================================================================================================================================================================================================================================================================================================================================================================================================================================================================================================================================================================================================================================================================================================================================================================================================================================================================================================================================================================================================================================================================================================================================================================================================================================================================================================================================================================================================================================================================================================================================================================================================================================================================================================================================================================================================================================================================================================================================================================================================================================================================================================================================================================================================================================================================================================================================================================================================================================================================================================================================================================================================================================================================================================================================================================================================================================================================================================================================================================================================================================================================================================================================================================================================================================================================================================================================================================================================================================================================================================================================================================================================================================================================================================================================================================================================================================================================================================================================================================================================================================================================================================================================================================================================================================================================================================================================================================================================================================================================================================================================================================================================================================================================================================================================================================================================================================================================================================================================================================================================================================================================================================================================================================================================================================================================================================================================================================================================================================================================================================================================================================================================================================================================================================================================================================================================================================================================================================================================================================================================================] - 0s 32us/sample - loss: 5.1532 - mae: 1.5059 - mse: 4.8394\n"
     ]
    },
    {
     "data": {
      "text/plain": [
       "4.839423"
      ]
     },
     "execution_count": 15,
     "metadata": {},
     "output_type": "execute_result"
    }
   ],
   "source": [
    "loss, mae, mse = model.evaluate(X_test, y_test)\n",
    "mse"
   ]
  },
  {
   "cell_type": "code",
   "execution_count": null,
   "metadata": {},
   "outputs": [],
   "source": []
  },
  {
   "cell_type": "markdown",
   "metadata": {},
   "source": [
    "## Model 2 Dummy Columns"
   ]
  },
  {
   "cell_type": "code",
   "execution_count": 13,
   "metadata": {},
   "outputs": [],
   "source": [
    "from sklearn.model_selection import train_test_split"
   ]
  },
  {
   "cell_type": "code",
   "execution_count": 14,
   "metadata": {},
   "outputs": [],
   "source": [
    "dummy = pd.get_dummies(df['Sex'])\n",
    "dummy.head()\n",
    "\n",
    "df = pd.concat([df.iloc[:,0], dummy, df.iloc[:,1:]], axis=1)\n",
    "\n",
    "X = df.iloc[:,1:-1].values\n",
    "y = df.iloc[:, -1].values\n",
    "\n",
    "X_train, X_test, y_train, y_test = train_test_split(X, y, test_size=0.2, random_state=7)"
   ]
  },
  {
   "cell_type": "code",
   "execution_count": 15,
   "metadata": {},
   "outputs": [
    {
     "data": {
      "text/html": [
       "<div>\n",
       "<style scoped>\n",
       "    .dataframe tbody tr th:only-of-type {\n",
       "        vertical-align: middle;\n",
       "    }\n",
       "\n",
       "    .dataframe tbody tr th {\n",
       "        vertical-align: top;\n",
       "    }\n",
       "\n",
       "    .dataframe thead th {\n",
       "        text-align: right;\n",
       "    }\n",
       "</style>\n",
       "<table border=\"1\" class=\"dataframe\">\n",
       "  <thead>\n",
       "    <tr style=\"text-align: right;\">\n",
       "      <th></th>\n",
       "      <th>Sex</th>\n",
       "      <th>1</th>\n",
       "      <th>2</th>\n",
       "      <th>3</th>\n",
       "      <th>Length</th>\n",
       "      <th>Diameter</th>\n",
       "      <th>Height</th>\n",
       "      <th>Whole weight</th>\n",
       "      <th>Shucked weight</th>\n",
       "      <th>Viscera weight</th>\n",
       "      <th>Shell weight</th>\n",
       "      <th>Rings</th>\n",
       "    </tr>\n",
       "  </thead>\n",
       "  <tbody>\n",
       "    <tr>\n",
       "      <th>0</th>\n",
       "      <td>1</td>\n",
       "      <td>1</td>\n",
       "      <td>0</td>\n",
       "      <td>0</td>\n",
       "      <td>0.455</td>\n",
       "      <td>0.365</td>\n",
       "      <td>0.095</td>\n",
       "      <td>0.5140</td>\n",
       "      <td>0.2245</td>\n",
       "      <td>0.1010</td>\n",
       "      <td>0.150</td>\n",
       "      <td>15</td>\n",
       "    </tr>\n",
       "    <tr>\n",
       "      <th>1</th>\n",
       "      <td>1</td>\n",
       "      <td>1</td>\n",
       "      <td>0</td>\n",
       "      <td>0</td>\n",
       "      <td>0.350</td>\n",
       "      <td>0.265</td>\n",
       "      <td>0.090</td>\n",
       "      <td>0.2255</td>\n",
       "      <td>0.0995</td>\n",
       "      <td>0.0485</td>\n",
       "      <td>0.070</td>\n",
       "      <td>7</td>\n",
       "    </tr>\n",
       "    <tr>\n",
       "      <th>2</th>\n",
       "      <td>2</td>\n",
       "      <td>0</td>\n",
       "      <td>1</td>\n",
       "      <td>0</td>\n",
       "      <td>0.530</td>\n",
       "      <td>0.420</td>\n",
       "      <td>0.135</td>\n",
       "      <td>0.6770</td>\n",
       "      <td>0.2565</td>\n",
       "      <td>0.1415</td>\n",
       "      <td>0.210</td>\n",
       "      <td>9</td>\n",
       "    </tr>\n",
       "    <tr>\n",
       "      <th>3</th>\n",
       "      <td>1</td>\n",
       "      <td>1</td>\n",
       "      <td>0</td>\n",
       "      <td>0</td>\n",
       "      <td>0.440</td>\n",
       "      <td>0.365</td>\n",
       "      <td>0.125</td>\n",
       "      <td>0.5160</td>\n",
       "      <td>0.2155</td>\n",
       "      <td>0.1140</td>\n",
       "      <td>0.155</td>\n",
       "      <td>10</td>\n",
       "    </tr>\n",
       "    <tr>\n",
       "      <th>4</th>\n",
       "      <td>3</td>\n",
       "      <td>0</td>\n",
       "      <td>0</td>\n",
       "      <td>1</td>\n",
       "      <td>0.330</td>\n",
       "      <td>0.255</td>\n",
       "      <td>0.080</td>\n",
       "      <td>0.2050</td>\n",
       "      <td>0.0895</td>\n",
       "      <td>0.0395</td>\n",
       "      <td>0.055</td>\n",
       "      <td>7</td>\n",
       "    </tr>\n",
       "  </tbody>\n",
       "</table>\n",
       "</div>"
      ],
      "text/plain": [
       "   Sex  1  2  3  Length  Diameter  Height  Whole weight  Shucked weight  \\\n",
       "0    1  1  0  0   0.455     0.365   0.095        0.5140          0.2245   \n",
       "1    1  1  0  0   0.350     0.265   0.090        0.2255          0.0995   \n",
       "2    2  0  1  0   0.530     0.420   0.135        0.6770          0.2565   \n",
       "3    1  1  0  0   0.440     0.365   0.125        0.5160          0.2155   \n",
       "4    3  0  0  1   0.330     0.255   0.080        0.2050          0.0895   \n",
       "\n",
       "   Viscera weight  Shell weight  Rings  \n",
       "0          0.1010         0.150     15  \n",
       "1          0.0485         0.070      7  \n",
       "2          0.1415         0.210      9  \n",
       "3          0.1140         0.155     10  \n",
       "4          0.0395         0.055      7  "
      ]
     },
     "execution_count": 15,
     "metadata": {},
     "output_type": "execute_result"
    }
   ],
   "source": [
    "df.head()"
   ]
  }
 ],
 "metadata": {
  "kernelspec": {
   "display_name": "Python 3",
   "language": "python",
   "name": "python3"
  },
  "language_info": {
   "codemirror_mode": {
    "name": "ipython",
    "version": 3
   },
   "file_extension": ".py",
   "mimetype": "text/x-python",
   "name": "python",
   "nbconvert_exporter": "python",
   "pygments_lexer": "ipython3",
   "version": "3.7.4"
  }
 },
 "nbformat": 4,
 "nbformat_minor": 2
}
