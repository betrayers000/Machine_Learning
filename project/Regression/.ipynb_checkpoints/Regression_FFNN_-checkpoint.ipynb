{
 "cells": [
  {
   "cell_type": "markdown",
   "metadata": {},
   "source": [
    "# Regression - FFNN"
   ]
  },
  {
   "cell_type": "code",
   "execution_count": 1,
   "metadata": {},
   "outputs": [],
   "source": [
    "import numpy as np\n",
    "import pandas as pd\n",
    "import seaborn as sns\n",
    "import matplotlib.pyplot as plt"
   ]
  },
  {
   "cell_type": "code",
   "execution_count": 3,
   "metadata": {},
   "outputs": [],
   "source": [
    "df = pd.read_csv('abalone.data',\n",
    "                 names=['Sex','Length','Diameter','Height','Whole weight','Shucked weight','Viscera weight','Shell weight','Rings'])"
   ]
  },
  {
   "cell_type": "code",
   "execution_count": 4,
   "metadata": {},
   "outputs": [],
   "source": [
    "from sklearn.model_selection import train_test_split"
   ]
  },
  {
   "cell_type": "code",
   "execution_count": 5,
   "metadata": {},
   "outputs": [],
   "source": [
    "df['Sex'] = df['Sex'].replace(('I','M','F'),(3,1,2))\n",
    "\n",
    "X = df.iloc[:,:-1].values\n",
    "y = df.iloc[:, -1].values\n",
    "\n",
    "X_train, X_test, y_train, y_test = train_test_split(X, y, test_size=0.2, random_state=7)"
   ]
  },
  {
   "cell_type": "code",
   "execution_count": 6,
   "metadata": {},
   "outputs": [
    {
     "data": {
      "text/html": [
       "<div>\n",
       "<style scoped>\n",
       "    .dataframe tbody tr th:only-of-type {\n",
       "        vertical-align: middle;\n",
       "    }\n",
       "\n",
       "    .dataframe tbody tr th {\n",
       "        vertical-align: top;\n",
       "    }\n",
       "\n",
       "    .dataframe thead th {\n",
       "        text-align: right;\n",
       "    }\n",
       "</style>\n",
       "<table border=\"1\" class=\"dataframe\">\n",
       "  <thead>\n",
       "    <tr style=\"text-align: right;\">\n",
       "      <th></th>\n",
       "      <th>Sex</th>\n",
       "      <th>Length</th>\n",
       "      <th>Diameter</th>\n",
       "      <th>Height</th>\n",
       "      <th>Whole weight</th>\n",
       "      <th>Shucked weight</th>\n",
       "      <th>Viscera weight</th>\n",
       "      <th>Shell weight</th>\n",
       "      <th>Rings</th>\n",
       "    </tr>\n",
       "  </thead>\n",
       "  <tbody>\n",
       "    <tr>\n",
       "      <th>0</th>\n",
       "      <td>1</td>\n",
       "      <td>0.455</td>\n",
       "      <td>0.365</td>\n",
       "      <td>0.095</td>\n",
       "      <td>0.5140</td>\n",
       "      <td>0.2245</td>\n",
       "      <td>0.1010</td>\n",
       "      <td>0.150</td>\n",
       "      <td>15</td>\n",
       "    </tr>\n",
       "    <tr>\n",
       "      <th>1</th>\n",
       "      <td>1</td>\n",
       "      <td>0.350</td>\n",
       "      <td>0.265</td>\n",
       "      <td>0.090</td>\n",
       "      <td>0.2255</td>\n",
       "      <td>0.0995</td>\n",
       "      <td>0.0485</td>\n",
       "      <td>0.070</td>\n",
       "      <td>7</td>\n",
       "    </tr>\n",
       "    <tr>\n",
       "      <th>2</th>\n",
       "      <td>2</td>\n",
       "      <td>0.530</td>\n",
       "      <td>0.420</td>\n",
       "      <td>0.135</td>\n",
       "      <td>0.6770</td>\n",
       "      <td>0.2565</td>\n",
       "      <td>0.1415</td>\n",
       "      <td>0.210</td>\n",
       "      <td>9</td>\n",
       "    </tr>\n",
       "    <tr>\n",
       "      <th>3</th>\n",
       "      <td>1</td>\n",
       "      <td>0.440</td>\n",
       "      <td>0.365</td>\n",
       "      <td>0.125</td>\n",
       "      <td>0.5160</td>\n",
       "      <td>0.2155</td>\n",
       "      <td>0.1140</td>\n",
       "      <td>0.155</td>\n",
       "      <td>10</td>\n",
       "    </tr>\n",
       "    <tr>\n",
       "      <th>4</th>\n",
       "      <td>3</td>\n",
       "      <td>0.330</td>\n",
       "      <td>0.255</td>\n",
       "      <td>0.080</td>\n",
       "      <td>0.2050</td>\n",
       "      <td>0.0895</td>\n",
       "      <td>0.0395</td>\n",
       "      <td>0.055</td>\n",
       "      <td>7</td>\n",
       "    </tr>\n",
       "  </tbody>\n",
       "</table>\n",
       "</div>"
      ],
      "text/plain": [
       "   Sex  Length  Diameter  Height  Whole weight  Shucked weight  \\\n",
       "0    1   0.455     0.365   0.095        0.5140          0.2245   \n",
       "1    1   0.350     0.265   0.090        0.2255          0.0995   \n",
       "2    2   0.530     0.420   0.135        0.6770          0.2565   \n",
       "3    1   0.440     0.365   0.125        0.5160          0.2155   \n",
       "4    3   0.330     0.255   0.080        0.2050          0.0895   \n",
       "\n",
       "   Viscera weight  Shell weight  Rings  \n",
       "0          0.1010         0.150     15  \n",
       "1          0.0485         0.070      7  \n",
       "2          0.1415         0.210      9  \n",
       "3          0.1140         0.155     10  \n",
       "4          0.0395         0.055      7  "
      ]
     },
     "execution_count": 6,
     "metadata": {},
     "output_type": "execute_result"
    }
   ],
   "source": [
    "df.head()"
   ]
  },
  {
   "cell_type": "markdown",
   "metadata": {},
   "source": [
    "## Build Model"
   ]
  },
  {
   "cell_type": "code",
   "execution_count": 7,
   "metadata": {},
   "outputs": [],
   "source": [
    "import tensorflow as tf\n",
    "from tensorflow import keras\n",
    "from tensorflow.keras import layers"
   ]
  },
  {
   "cell_type": "code",
   "execution_count": 8,
   "metadata": {},
   "outputs": [],
   "source": [
    "model = keras.Sequential([\n",
    "    layers.Dense(32, activation='relu', input_shape=[8]),\n",
    "    layers.Dense(64, activation='relu'),\n",
    "    layers.Dense(128, activation='relu'),\n",
    "    layers.Dense(1)\n",
    "])"
   ]
  },
  {
   "cell_type": "code",
   "execution_count": 9,
   "metadata": {},
   "outputs": [
    {
     "name": "stdout",
     "output_type": "stream",
     "text": [
      "Model: \"sequential\"\n",
      "_________________________________________________________________\n",
      "Layer (type)                 Output Shape              Param #   \n",
      "=================================================================\n",
      "dense (Dense)                (None, 32)                288       \n",
      "_________________________________________________________________\n",
      "dense_1 (Dense)              (None, 64)                2112      \n",
      "_________________________________________________________________\n",
      "dense_2 (Dense)              (None, 128)               8320      \n",
      "_________________________________________________________________\n",
      "dense_3 (Dense)              (None, 1)                 129       \n",
      "=================================================================\n",
      "Total params: 10,849\n",
      "Trainable params: 10,849\n",
      "Non-trainable params: 0\n",
      "_________________________________________________________________\n"
     ]
    }
   ],
   "source": [
    "model.summary()"
   ]
  },
  {
   "cell_type": "code",
   "execution_count": 10,
   "metadata": {},
   "outputs": [],
   "source": [
    "model.compile(optimizer='adam', loss='mse', metrics=['mae', 'mse'])"
   ]
  },
  {
   "cell_type": "code",
   "execution_count": 11,
   "metadata": {},
   "outputs": [
    {
     "name": "stdout",
     "output_type": "stream",
     "text": [
      "Train on 3341 samples, validate on 836 samples\n",
      "Epoch 1/100\n",
      "3341/3341 [==============================] - 1s 266us/sample - loss: 89.4066 - mae: 8.8528 - mse: 89.4066 - val_loss: 64.0131 - val_mae: 7.1869 - val_mse: 64.0131\n",
      "Epoch 2/100\n",
      "3341/3341 [==============================] - 0s 29us/sample - loss: 29.7520 - mae: 4.3723 - mse: 29.7520 - val_loss: 15.1218 - val_mae: 3.1191 - val_mse: 15.1218\n",
      "Epoch 3/100\n",
      "3341/3341 [==============================] - 0s 25us/sample - loss: 11.2000 - mae: 2.5546 - mse: 11.2000 - val_loss: 10.1529 - val_mae: 2.3504 - val_mse: 10.1529\n",
      "Epoch 4/100\n",
      "3341/3341 [==============================] - 0s 25us/sample - loss: 8.8029 - mae: 2.2053 - mse: 8.8029 - val_loss: 9.2200 - val_mae: 2.2028 - val_mse: 9.2200\n",
      "Epoch 5/100\n",
      "3341/3341 [==============================] - 0s 28us/sample - loss: 8.3217 - mae: 2.1214 - mse: 8.3217 - val_loss: 8.8693 - val_mae: 2.1194 - val_mse: 8.8693\n",
      "Epoch 6/100\n",
      "3341/3341 [==============================] - 0s 27us/sample - loss: 7.9457 - mae: 2.0629 - mse: 7.9457 - val_loss: 8.4009 - val_mae: 2.0875 - val_mse: 8.4009\n",
      "Epoch 7/100\n",
      "3341/3341 [==============================] - 0s 25us/sample - loss: 7.5741 - mae: 1.9873 - mse: 7.5741 - val_loss: 7.9006 - val_mae: 2.0517 - val_mse: 7.9006\n",
      "Epoch 8/100\n",
      "3341/3341 [==============================] - 0s 27us/sample - loss: 7.1216 - mae: 1.9511 - mse: 7.1216 - val_loss: 7.5589 - val_mae: 1.8954 - val_mse: 7.5589\n",
      "Epoch 9/100\n",
      "3341/3341 [==============================] - 0s 25us/sample - loss: 6.6308 - mae: 1.8365 - mse: 6.6308 - val_loss: 6.8512 - val_mae: 1.8617 - val_mse: 6.8512\n",
      "Epoch 10/100\n",
      "3341/3341 [==============================] - 0s 24us/sample - loss: 6.1036 - mae: 1.7856 - mse: 6.1036 - val_loss: 6.6250 - val_mae: 1.7138 - val_mse: 6.6250\n",
      "Epoch 11/100\n",
      "3341/3341 [==============================] - 0s 30us/sample - loss: 5.6837 - mae: 1.7114 - mse: 5.6837 - val_loss: 6.1080 - val_mae: 1.6828 - val_mse: 6.1080\n",
      "Epoch 12/100\n",
      "3341/3341 [==============================] - 0s 32us/sample - loss: 5.4221 - mae: 1.6690 - mse: 5.4221 - val_loss: 5.9486 - val_mae: 1.6520 - val_mse: 5.9486\n",
      "Epoch 13/100\n",
      "3341/3341 [==============================] - 0s 31us/sample - loss: 5.2014 - mae: 1.6369 - mse: 5.2014 - val_loss: 5.6719 - val_mae: 1.6542 - val_mse: 5.6719\n",
      "Epoch 14/100\n",
      "3341/3341 [==============================] - 0s 27us/sample - loss: 5.0707 - mae: 1.6155 - mse: 5.0707 - val_loss: 5.7790 - val_mae: 1.6183 - val_mse: 5.7790\n",
      "Epoch 15/100\n",
      "3341/3341 [==============================] - 0s 27us/sample - loss: 4.9683 - mae: 1.5969 - mse: 4.9683 - val_loss: 5.3665 - val_mae: 1.7051 - val_mse: 5.3665\n",
      "Epoch 16/100\n",
      "3341/3341 [==============================] - 0s 25us/sample - loss: 4.9400 - mae: 1.6023 - mse: 4.9400 - val_loss: 5.3155 - val_mae: 1.6065 - val_mse: 5.3155\n",
      "Epoch 17/100\n",
      "3341/3341 [==============================] - 0s 24us/sample - loss: 4.9137 - mae: 1.6033 - mse: 4.9137 - val_loss: 5.1488 - val_mae: 1.6435 - val_mse: 5.1488\n",
      "Epoch 18/100\n",
      "3341/3341 [==============================] - 0s 27us/sample - loss: 4.7692 - mae: 1.5691 - mse: 4.7692 - val_loss: 5.5622 - val_mae: 1.5971 - val_mse: 5.5622\n",
      "Epoch 19/100\n",
      "3341/3341 [==============================] - 0s 25us/sample - loss: 4.7606 - mae: 1.5590 - mse: 4.7606 - val_loss: 5.1233 - val_mae: 1.5838 - val_mse: 5.1233\n",
      "Epoch 20/100\n",
      "3341/3341 [==============================] - 0s 28us/sample - loss: 4.6884 - mae: 1.5601 - mse: 4.6884 - val_loss: 5.0864 - val_mae: 1.5787 - val_mse: 5.0864\n",
      "Epoch 21/100\n",
      "3341/3341 [==============================] - 0s 30us/sample - loss: 4.6766 - mae: 1.5494 - mse: 4.6766 - val_loss: 5.3515 - val_mae: 1.5844 - val_mse: 5.3515\n",
      "Epoch 22/100\n",
      "3341/3341 [==============================] - 0s 31us/sample - loss: 4.7207 - mae: 1.5632 - mse: 4.7207 - val_loss: 5.4285 - val_mae: 1.5885 - val_mse: 5.4285\n",
      "Epoch 23/100\n",
      "3341/3341 [==============================] - 0s 30us/sample - loss: 4.7560 - mae: 1.5725 - mse: 4.7560 - val_loss: 5.4303 - val_mae: 1.5910 - val_mse: 5.4303\n",
      "Epoch 24/100\n",
      "3341/3341 [==============================] - 0s 30us/sample - loss: 4.7009 - mae: 1.5499 - mse: 4.7009 - val_loss: 5.3170 - val_mae: 1.5782 - val_mse: 5.3170\n",
      "Epoch 25/100\n",
      "3341/3341 [==============================] - 0s 28us/sample - loss: 4.6173 - mae: 1.5473 - mse: 4.6173 - val_loss: 5.0839 - val_mae: 1.5615 - val_mse: 5.0839\n",
      "Epoch 26/100\n",
      "3341/3341 [==============================] - 0s 28us/sample - loss: 4.6105 - mae: 1.5441 - mse: 4.6105 - val_loss: 4.9854 - val_mae: 1.5602 - val_mse: 4.9854\n",
      "Epoch 27/100\n",
      "3341/3341 [==============================] - 0s 27us/sample - loss: 4.5969 - mae: 1.5393 - mse: 4.5969 - val_loss: 4.9614 - val_mae: 1.5560 - val_mse: 4.9614\n",
      "Epoch 28/100\n",
      "3341/3341 [==============================] - 0s 30us/sample - loss: 4.5596 - mae: 1.5284 - mse: 4.5596 - val_loss: 5.0942 - val_mae: 1.5627 - val_mse: 5.0942\n",
      "Epoch 29/100\n",
      "3341/3341 [==============================] - 0s 33us/sample - loss: 4.5551 - mae: 1.5248 - mse: 4.5551 - val_loss: 5.1015 - val_mae: 1.5623 - val_mse: 5.1015\n",
      "Epoch 30/100\n",
      "3341/3341 [==============================] - 0s 29us/sample - loss: 4.6015 - mae: 1.5339 - mse: 4.6015 - val_loss: 4.8865 - val_mae: 1.5525 - val_mse: 4.8865\n",
      "Epoch 31/100\n",
      "3341/3341 [==============================] - 0s 30us/sample - loss: 4.5804 - mae: 1.5480 - mse: 4.5804 - val_loss: 5.0793 - val_mae: 1.5568 - val_mse: 5.0793\n",
      "Epoch 32/100\n",
      "3341/3341 [==============================] - 0s 33us/sample - loss: 4.5820 - mae: 1.5302 - mse: 4.5820 - val_loss: 4.7875 - val_mae: 1.5756 - val_mse: 4.7875\n",
      "Epoch 33/100\n",
      "3341/3341 [==============================] - 0s 28us/sample - loss: 4.5153 - mae: 1.5208 - mse: 4.5153 - val_loss: 4.8380 - val_mae: 1.5496 - val_mse: 4.8380\n",
      "Epoch 34/100\n",
      "3341/3341 [==============================] - 0s 29us/sample - loss: 4.5416 - mae: 1.5190 - mse: 4.5416 - val_loss: 4.8747 - val_mae: 1.6662 - val_mse: 4.8747\n",
      "Epoch 35/100\n",
      "3341/3341 [==============================] - 0s 31us/sample - loss: 4.6032 - mae: 1.5465 - mse: 4.6032 - val_loss: 4.9509 - val_mae: 1.6944 - val_mse: 4.9509\n",
      "Epoch 36/100\n",
      "3341/3341 [==============================] - 0s 31us/sample - loss: 4.8498 - mae: 1.5995 - mse: 4.8498 - val_loss: 4.8609 - val_mae: 1.6450 - val_mse: 4.8609\n",
      "Epoch 37/100\n",
      "3341/3341 [==============================] - 0s 32us/sample - loss: 4.6669 - mae: 1.5592 - mse: 4.6669 - val_loss: 4.7976 - val_mae: 1.6164 - val_mse: 4.7976\n",
      "Epoch 38/100\n",
      "3341/3341 [==============================] - 0s 22us/sample - loss: 4.5189 - mae: 1.5228 - mse: 4.5189 - val_loss: 5.0240 - val_mae: 1.5482 - val_mse: 5.0240\n",
      "Epoch 39/100\n",
      "3341/3341 [==============================] - 0s 21us/sample - loss: 4.4797 - mae: 1.5038 - mse: 4.4797 - val_loss: 4.8747 - val_mae: 1.5416 - val_mse: 4.8747\n",
      "Epoch 40/100\n",
      "3341/3341 [==============================] - 0s 21us/sample - loss: 4.4616 - mae: 1.5017 - mse: 4.4616 - val_loss: 4.8287 - val_mae: 1.5494 - val_mse: 4.8287\n",
      "Epoch 41/100\n",
      "3341/3341 [==============================] - 0s 22us/sample - loss: 4.4599 - mae: 1.5115 - mse: 4.4599 - val_loss: 4.7284 - val_mae: 1.5701 - val_mse: 4.7284\n",
      "Epoch 42/100\n",
      "3341/3341 [==============================] - 0s 31us/sample - loss: 4.4784 - mae: 1.5110 - mse: 4.4784 - val_loss: 4.8151 - val_mae: 1.5399 - val_mse: 4.8151\n",
      "Epoch 43/100\n",
      "3341/3341 [==============================] - 0s 28us/sample - loss: 4.4534 - mae: 1.5008 - mse: 4.4534 - val_loss: 4.7349 - val_mae: 1.5934 - val_mse: 4.7349\n",
      "Epoch 44/100\n",
      "3341/3341 [==============================] - 0s 21us/sample - loss: 4.4886 - mae: 1.5197 - mse: 4.4886 - val_loss: 4.7109 - val_mae: 1.5554 - val_mse: 4.7109\n",
      "Epoch 45/100\n",
      "3341/3341 [==============================] - 0s 26us/sample - loss: 4.5515 - mae: 1.5312 - mse: 4.5515 - val_loss: 5.1284 - val_mae: 1.5543 - val_mse: 5.1284\n",
      "Epoch 46/100\n",
      "3341/3341 [==============================] - 0s 50us/sample - loss: 4.5154 - mae: 1.5108 - mse: 4.5154 - val_loss: 4.7135 - val_mae: 1.5467 - val_mse: 4.7135\n",
      "Epoch 47/100\n",
      "3341/3341 [==============================] - 0s 44us/sample - loss: 4.4675 - mae: 1.5092 - mse: 4.4675 - val_loss: 4.7572 - val_mae: 1.5336 - val_mse: 4.7572\n",
      "Epoch 48/100\n"
     ]
    },
    {
     "name": "stdout",
     "output_type": "stream",
     "text": [
      "3341/3341 [==============================] - 0s 23us/sample - loss: 4.4899 - mae: 1.5123 - mse: 4.4899 - val_loss: 4.9922 - val_mae: 1.5405 - val_mse: 4.9922\n",
      "Epoch 49/100\n",
      "3341/3341 [==============================] - 0s 21us/sample - loss: 4.7263 - mae: 1.5499 - mse: 4.7263 - val_loss: 4.8917 - val_mae: 1.5319 - val_mse: 4.8917\n",
      "Epoch 50/100\n",
      "3341/3341 [==============================] - 0s 21us/sample - loss: 4.4047 - mae: 1.4940 - mse: 4.4047 - val_loss: 5.4999 - val_mae: 1.6020 - val_mse: 5.4999\n",
      "Epoch 51/100\n",
      "3341/3341 [==============================] - 0s 44us/sample - loss: 4.4789 - mae: 1.5065 - mse: 4.4789 - val_loss: 4.8010 - val_mae: 1.5281 - val_mse: 4.8010\n",
      "Epoch 52/100\n",
      "3341/3341 [==============================] - 0s 44us/sample - loss: 4.4068 - mae: 1.4956 - mse: 4.4068 - val_loss: 5.3136 - val_mae: 1.5767 - val_mse: 5.3136\n",
      "Epoch 53/100\n",
      "3341/3341 [==============================] - 0s 21us/sample - loss: 4.5444 - mae: 1.5166 - mse: 4.5444 - val_loss: 4.9713 - val_mae: 1.5353 - val_mse: 4.9713\n",
      "Epoch 54/100\n",
      "3341/3341 [==============================] - 0s 21us/sample - loss: 4.4667 - mae: 1.5034 - mse: 4.4667 - val_loss: 4.6780 - val_mae: 1.5603 - val_mse: 4.6780\n",
      "Epoch 55/100\n",
      "3341/3341 [==============================] - 0s 20us/sample - loss: 4.4519 - mae: 1.5070 - mse: 4.4519 - val_loss: 4.7931 - val_mae: 1.5248 - val_mse: 4.7931\n",
      "Epoch 56/100\n",
      "3341/3341 [==============================] - 0s 19us/sample - loss: 4.4594 - mae: 1.5115 - mse: 4.4594 - val_loss: 5.4246 - val_mae: 1.5885 - val_mse: 5.4246\n",
      "Epoch 57/100\n",
      "3341/3341 [==============================] - 0s 18us/sample - loss: 4.4416 - mae: 1.4960 - mse: 4.4416 - val_loss: 4.6741 - val_mae: 1.5377 - val_mse: 4.6741\n",
      "Epoch 58/100\n",
      "3341/3341 [==============================] - 0s 20us/sample - loss: 4.4539 - mae: 1.5089 - mse: 4.4539 - val_loss: 4.6632 - val_mae: 1.5438 - val_mse: 4.6632\n",
      "Epoch 59/100\n",
      "3341/3341 [==============================] - 0s 20us/sample - loss: 4.3927 - mae: 1.4904 - mse: 4.3927 - val_loss: 5.0836 - val_mae: 1.5442 - val_mse: 5.0836\n",
      "Epoch 60/100\n",
      "3341/3341 [==============================] - 0s 24us/sample - loss: 4.4384 - mae: 1.4940 - mse: 4.4384 - val_loss: 4.6654 - val_mae: 1.5308 - val_mse: 4.6654\n",
      "Epoch 61/100\n",
      "3341/3341 [==============================] - 0s 28us/sample - loss: 4.4092 - mae: 1.4995 - mse: 4.4092 - val_loss: 4.6616 - val_mae: 1.5550 - val_mse: 4.6616\n",
      "Epoch 62/100\n",
      "3341/3341 [==============================] - 0s 29us/sample - loss: 4.3586 - mae: 1.4834 - mse: 4.3586 - val_loss: 4.6360 - val_mae: 1.5517 - val_mse: 4.6360\n",
      "Epoch 63/100\n",
      "3341/3341 [==============================] - 0s 24us/sample - loss: 4.4827 - mae: 1.5206 - mse: 4.4827 - val_loss: 4.9331 - val_mae: 1.5267 - val_mse: 4.9331\n",
      "Epoch 64/100\n",
      "3341/3341 [==============================] - 0s 28us/sample - loss: 4.3482 - mae: 1.4852 - mse: 4.3482 - val_loss: 4.8142 - val_mae: 1.5213 - val_mse: 4.8142\n",
      "Epoch 65/100\n",
      "3341/3341 [==============================] - 0s 47us/sample - loss: 4.3772 - mae: 1.4850 - mse: 4.3772 - val_loss: 4.9358 - val_mae: 1.5301 - val_mse: 4.9358\n",
      "Epoch 66/100\n",
      "3341/3341 [==============================] - 0s 31us/sample - loss: 4.4313 - mae: 1.4935 - mse: 4.4313 - val_loss: 4.7286 - val_mae: 1.5162 - val_mse: 4.7286\n",
      "Epoch 67/100\n",
      "3341/3341 [==============================] - 0s 21us/sample - loss: 4.3694 - mae: 1.4866 - mse: 4.3694 - val_loss: 4.6508 - val_mae: 1.5265 - val_mse: 4.6508\n",
      "Epoch 68/100\n",
      "3341/3341 [==============================] - 0s 20us/sample - loss: 4.4589 - mae: 1.5051 - mse: 4.4589 - val_loss: 4.6552 - val_mae: 1.5795 - val_mse: 4.6552\n",
      "Epoch 69/100\n",
      "3341/3341 [==============================] - 0s 21us/sample - loss: 4.4708 - mae: 1.5159 - mse: 4.4708 - val_loss: 4.6446 - val_mae: 1.5686 - val_mse: 4.6446\n",
      "Epoch 70/100\n",
      "3341/3341 [==============================] - 0s 22us/sample - loss: 4.3362 - mae: 1.4866 - mse: 4.3362 - val_loss: 4.7334 - val_mae: 1.5127 - val_mse: 4.7334\n",
      "Epoch 71/100\n",
      "3341/3341 [==============================] - 0s 26us/sample - loss: 4.3662 - mae: 1.4875 - mse: 4.3662 - val_loss: 4.7274 - val_mae: 1.5131 - val_mse: 4.7274\n",
      "Epoch 72/100\n",
      "3341/3341 [==============================] - 0s 27us/sample - loss: 4.3056 - mae: 1.4763 - mse: 4.3056 - val_loss: 4.7242 - val_mae: 1.5141 - val_mse: 4.7242\n",
      "Epoch 73/100\n",
      "3341/3341 [==============================] - 0s 28us/sample - loss: 4.2985 - mae: 1.4721 - mse: 4.2985 - val_loss: 4.7856 - val_mae: 1.5101 - val_mse: 4.7856\n",
      "Epoch 74/100\n",
      "3341/3341 [==============================] - 0s 30us/sample - loss: 4.3570 - mae: 1.4835 - mse: 4.3570 - val_loss: 4.9644 - val_mae: 1.5266 - val_mse: 4.9644\n",
      "Epoch 75/100\n",
      "3341/3341 [==============================] - 0s 31us/sample - loss: 4.5277 - mae: 1.5186 - mse: 4.5277 - val_loss: 5.1738 - val_mae: 1.5491 - val_mse: 5.1738\n",
      "Epoch 76/100\n",
      "3341/3341 [==============================] - 0s 25us/sample - loss: 4.5589 - mae: 1.5226 - mse: 4.5589 - val_loss: 5.3690 - val_mae: 1.5721 - val_mse: 5.3690\n",
      "Epoch 77/100\n",
      "3341/3341 [==============================] - 0s 25us/sample - loss: 4.4097 - mae: 1.4931 - mse: 4.4097 - val_loss: 5.0803 - val_mae: 1.5377 - val_mse: 5.0803\n",
      "Epoch 78/100\n",
      "3341/3341 [==============================] - 0s 32us/sample - loss: 4.3999 - mae: 1.4893 - mse: 4.3999 - val_loss: 5.0278 - val_mae: 1.5289 - val_mse: 5.0278\n",
      "Epoch 79/100\n",
      "3341/3341 [==============================] - 0s 26us/sample - loss: 4.3113 - mae: 1.4823 - mse: 4.3113 - val_loss: 5.3057 - val_mae: 1.5700 - val_mse: 5.3057\n",
      "Epoch 80/100\n",
      "3341/3341 [==============================] - 0s 25us/sample - loss: 4.3322 - mae: 1.4794 - mse: 4.3322 - val_loss: 4.5976 - val_mae: 1.5125 - val_mse: 4.5976\n",
      "Epoch 81/100\n",
      "3341/3341 [==============================] - 0s 22us/sample - loss: 4.2834 - mae: 1.4723 - mse: 4.2834 - val_loss: 4.8739 - val_mae: 1.5166 - val_mse: 4.8739\n",
      "Epoch 82/100\n",
      "3341/3341 [==============================] - 0s 21us/sample - loss: 4.3180 - mae: 1.4739 - mse: 4.3180 - val_loss: 4.9544 - val_mae: 1.5226 - val_mse: 4.9544\n",
      "Epoch 83/100\n",
      "3341/3341 [==============================] - 0s 26us/sample - loss: 4.2928 - mae: 1.4709 - mse: 4.2928 - val_loss: 5.0187 - val_mae: 1.5363 - val_mse: 5.0187\n",
      "Epoch 84/100\n",
      "3341/3341 [==============================] - 0s 28us/sample - loss: 4.2934 - mae: 1.4682 - mse: 4.2934 - val_loss: 4.7711 - val_mae: 1.5075 - val_mse: 4.7711\n",
      "Epoch 85/100\n",
      "3341/3341 [==============================] - 0s 27us/sample - loss: 4.3301 - mae: 1.4814 - mse: 4.3301 - val_loss: 4.9842 - val_mae: 1.5240 - val_mse: 4.9842\n",
      "Epoch 86/100\n",
      "3341/3341 [==============================] - 0s 22us/sample - loss: 4.2589 - mae: 1.4629 - mse: 4.2589 - val_loss: 4.8247 - val_mae: 1.5081 - val_mse: 4.8247\n",
      "Epoch 87/100\n",
      "3341/3341 [==============================] - 0s 21us/sample - loss: 4.2616 - mae: 1.4714 - mse: 4.2616 - val_loss: 4.9190 - val_mae: 1.5202 - val_mse: 4.9190\n",
      "Epoch 88/100\n",
      "3341/3341 [==============================] - 0s 22us/sample - loss: 4.3210 - mae: 1.4781 - mse: 4.3210 - val_loss: 4.6361 - val_mae: 1.5111 - val_mse: 4.6361\n",
      "Epoch 89/100\n",
      "3341/3341 [==============================] - 0s 56us/sample - loss: 4.4218 - mae: 1.4994 - mse: 4.4218 - val_loss: 4.7123 - val_mae: 1.5092 - val_mse: 4.7123\n",
      "Epoch 90/100\n",
      "3341/3341 [==============================] - 0s 48us/sample - loss: 4.2473 - mae: 1.4654 - mse: 4.2473 - val_loss: 4.9636 - val_mae: 1.5216 - val_mse: 4.9636\n",
      "Epoch 91/100\n",
      "3341/3341 [==============================] - 0s 23us/sample - loss: 4.2849 - mae: 1.4719 - mse: 4.2849 - val_loss: 4.6914 - val_mae: 1.5043 - val_mse: 4.6914\n",
      "Epoch 92/100\n",
      "3341/3341 [==============================] - 0s 21us/sample - loss: 4.3703 - mae: 1.4852 - mse: 4.3703 - val_loss: 4.9248 - val_mae: 1.5127 - val_mse: 4.9248\n",
      "Epoch 93/100\n",
      "3341/3341 [==============================] - 0s 22us/sample - loss: 4.2287 - mae: 1.4552 - mse: 4.2287 - val_loss: 4.5842 - val_mae: 1.5097 - val_mse: 4.5842\n",
      "Epoch 94/100\n",
      "3341/3341 [==============================] - 0s 23us/sample - loss: 4.2173 - mae: 1.4601 - mse: 4.2173 - val_loss: 4.6438 - val_mae: 1.4944 - val_mse: 4.6438\n",
      "Epoch 95/100\n",
      "3341/3341 [==============================] - 0s 45us/sample - loss: 4.2088 - mae: 1.4478 - mse: 4.2088 - val_loss: 4.6302 - val_mae: 1.5799 - val_mse: 4.6302\n"
     ]
    },
    {
     "name": "stdout",
     "output_type": "stream",
     "text": [
      "Epoch 96/100\n",
      "3341/3341 [==============================] - 0s 50us/sample - loss: 4.3616 - mae: 1.4957 - mse: 4.3616 - val_loss: 4.6173 - val_mae: 1.5059 - val_mse: 4.6173\n",
      "Epoch 97/100\n",
      "3341/3341 [==============================] - 0s 34us/sample - loss: 4.2484 - mae: 1.4689 - mse: 4.2484 - val_loss: 4.8460 - val_mae: 1.5062 - val_mse: 4.8460\n",
      "Epoch 98/100\n",
      "3341/3341 [==============================] - 0s 21us/sample - loss: 4.3339 - mae: 1.4925 - mse: 4.3339 - val_loss: 5.1385 - val_mae: 1.5370 - val_mse: 5.1385\n",
      "Epoch 99/100\n",
      "3341/3341 [==============================] - 0s 22us/sample - loss: 4.2765 - mae: 1.4622 - mse: 4.2765 - val_loss: 4.7704 - val_mae: 1.4992 - val_mse: 4.7704\n",
      "Epoch 100/100\n",
      "3341/3341 [==============================] - 0s 24us/sample - loss: 4.1888 - mae: 1.4524 - mse: 4.1888 - val_loss: 4.8394 - val_mae: 1.5059 - val_mse: 4.8394\n"
     ]
    }
   ],
   "source": [
    "history = model.fit(X_train, y_train, \n",
    "                     epochs=100,\n",
    "                     batch_size=128,\n",
    "                     validation_data=(X_test, y_test),\n",
    "                     verbose = 1\n",
    "                    )"
   ]
  },
  {
   "cell_type": "code",
   "execution_count": 12,
   "metadata": {},
   "outputs": [
    {
     "data": {
      "text/plain": [
       "<matplotlib.legend.Legend at 0x135551f50>"
      ]
     },
     "execution_count": 12,
     "metadata": {},
     "output_type": "execute_result"
    },
    {
     "data": {
      "image/png": "[encoded data removed]",
      "text/plain": [
       "<Figure size 432x288 with 1 Axes>"
      ]
     },
     "metadata": {
      "needs_background": "light"
     },
     "output_type": "display_data"
    }
   ],
   "source": [
    "hist = pd.DataFrame(history.history)\n",
    "hist['epoch'] = history.epoch\n",
    "\n",
    "plt.xlabel('Epoch')\n",
    "plt.ylabel('Mean Abs Error [MPG]')\n",
    "plt.plot(hist['epoch'], hist['mae'], label='Train Error')\n",
    "plt.plot(hist['epoch'], hist['val_mae'], label='val Error')\n",
    "plt.ylim(0, 5)\n",
    "plt.legend()"
   ]
  },
  {
   "cell_type": "code",
   "execution_count": 13,
   "metadata": {
    "scrolled": true
   },
   "outputs": [
    {
     "data": {
      "text/plain": [
       "<matplotlib.legend.Legend at 0x137c39850>"
      ]
     },
     "execution_count": 13,
     "metadata": {},
     "output_type": "execute_result"
    },
    {
     "data": {
      "image/png": "[encoded data removed]",
      "text/plain": [
       "<Figure size 432x288 with 1 Axes>"
      ]
     },
     "metadata": {
      "needs_background": "light"
     },
     "output_type": "display_data"
    }
   ],
   "source": [
    "plt.xlabel('Epoch')\n",
    "plt.ylabel('Mean Square Error [$MPG^2$]')\n",
    "plt.plot(hist['epoch'], hist['mse'], label='Train Error')\n",
    "plt.plot(hist['epoch'], hist['val_mse'], label='val Error')\n",
    "plt.ylim(0, 30)\n",
    "plt.legend()"
   ]
  },
  {
   "cell_type": "code",
   "execution_count": 15,
   "metadata": {
    "scrolled": true
   },
   "outputs": [
    {
     "name": "stdout",
     "output_type": "stream",
     "text": [
      "\r",
      "836/1 [========================================================================================================================================================================================================================================================================================================================================================================================================================================================================================================================================================================================================================================================================================================================================================================================================================================================================================================================================================================================================================================================================================================================================================================================================================================================================================================================================================================================================================================================================================================================================================================================================================================================================================================================================================================================================================================================================================================================================================================================================================================================================================================================================================================================================================================================================================================================================================================================================================================================================================================================================================================================================================================================================================================================================================================================================================================================================================================================================================================================================================================================================================================================================================================================================================================================================================================================================================================================================================================================================================================================================================================================================================================================================================================================================================================================================================================================================================================================================================================================================================================================================================================================================================================================================================================================================================================================================================================================================================================================================================================================================================================================================================================================================================================================================================================================================================================================================================================================================================================================================================================================================================================================================================================================================================================================================================================================================================================================================================================================================================================================================================================================================================================================================================================================================================================================================================================================================================================================================================================================================================================================================================================================================================================================================================================================================================================================================================================================================================================================================================================================================================================================================================================================================================================================================================================================================================================================================================================================================================================================================================================================================================================================================================================================================================================================================================================================================================================================================================================================================================================================================================================================================================================================================================================================================================================================================================================================================================================================================================================================================================================================================================================================================================================================================================================================================================================================================================================================================================================================================================================================================================================================================================================================================================================================================================================================================================================================================================================================================================================================================================================================================================================================================================================================================================================================================================================================================================================================================================================================================================================================================================================================================================================================================================================================================================================================================================================================================================================================================================================================================================================================================================================================================================================================================================================================================================================================================================================================================================================================================================================================================================================================================================================================================================================================================================================================================================================================================================================================================================================================================================================================================================================================================================================================================================================================================================================================================================================================================================================================================================================================================================================================================================================================================================================================================================================================================================================================================================================================================================================================================================================================================================================================================================================================================================================================================================================================================================================================================================================================================================================================================================================================================================================================================================================================================================================================================================================================================================================================================================================================================================================================================================================================================================================================================================================================================================================================================================================================================================================================================================================================================================================================================================================================================================================================================================================================================================================================================================================================================================================================================================================================================================================================================================================================================================================================================================================================================================================================================================================================================================================================================================================================================================================================================================================================================================================================================================================================================================================================================================================================================================================================================================================================================================================================================================================================================================================================================================================================================================================================================================================================================================================================================================================================================================================================================================================================================================================================================================================================================================================================================================================================================================================================================================================================================================================================================================================================================================================================================================================================================================================================================================================================================================================================================================================================================================================================================================================================================================================================================================================================================================================================================================================================================================================================================================================================================================================================================================================================================================================================================================================================================================================================================================================================================================================================================================================================================================================================================================================================================================================================================================================================================================================================================================================================================================================================================================================================================================================================================================================================================================================================================================================================================================================================================================================================================================================================================================================================================================================================================================================================================================================================================================================================================================================================================================================================================================================================================================================================================================================================================================================================================================================================================================================================================================================================================================================================================================================================================================================================================================================================================================================================================================================================================================================================================================================================================================================================================================================================================================================================================================================================================================================================================================================================================================================================================================================================================================================================================================================================================================================================================================================================================================================================================================================================================================================================================================================================================================================================================================================================================================================================================================================================================================================================================================================================================================================================================================================================================================================================================================================================================================================================================================================================================================================================================================================================================================================================================================================================================================================================================================================================================================================================================================================================================================================================================================================================================================================================================================================================================================================================================================================================================================================================================================================================================================================================================================================================================================================================================================================================================================================================================================================================================================================================================================================================================================================================================================================================================================================================================================================================================================================================================================================================================================================================================================================================================================================================================================================================================================================================================================================================================================================================================================================================================================================================================================================================================================================================================================================================================================================================================================================================================================================================================================================================================================================================================================================================================================================================================================================================================================================================================================================================================================================================================================================================================================================================================================================================================================================================================================================================================================================================================================================================] - 0s 32us/sample - loss: 5.1532 - mae: 1.5059 - mse: 4.8394\n"
     ]
    },
    {
     "data": {
      "text/plain": [
       "4.839423"
      ]
     },
     "execution_count": 15,
     "metadata": {},
     "output_type": "execute_result"
    }
   ],
   "source": [
    "loss, mae, mse = model.evaluate(X_test, y_test)\n",
    "mse"
   ]
  },
  {
   "cell_type": "code",
   "execution_count": null,
   "metadata": {},
   "outputs": [],
   "source": []
  },
  {
   "cell_type": "markdown",
   "metadata": {},
   "source": [
    "## Model 2 Dummy Columns"
   ]
  },
  {
   "cell_type": "code",
   "execution_count": 13,
   "metadata": {},
   "outputs": [],
   "source": [
    "from sklearn.model_selection import train_test_split"
   ]
  },
  {
   "cell_type": "code",
   "execution_count": 14,
   "metadata": {},
   "outputs": [],
   "source": [
    "dummy = pd.get_dummies(df['Sex'])\n",
    "dummy.head()\n",
    "\n",
    "df = pd.concat([df.iloc[:,0], dummy, df.iloc[:,1:]], axis=1)\n",
    "\n",
    "X = df.iloc[:,1:-1].values\n",
    "y = df.iloc[:, -1].values\n",
    "\n",
    "X_train, X_test, y_train, y_test = train_test_split(X, y, test_size=0.2, random_state=7)"
   ]
  },
  {
   "cell_type": "code",
   "execution_count": 15,
   "metadata": {},
   "outputs": [
    {
     "data": {
      "text/html": [
       "<div>\n",
       "<style scoped>\n",
       "    .dataframe tbody tr th:only-of-type {\n",
       "        vertical-align: middle;\n",
       "    }\n",
       "\n",
       "    .dataframe tbody tr th {\n",
       "        vertical-align: top;\n",
       "    }\n",
       "\n",
       "    .dataframe thead th {\n",
       "        text-align: right;\n",
       "    }\n",
       "</style>\n",
       "<table border=\"1\" class=\"dataframe\">\n",
       "  <thead>\n",
       "    <tr style=\"text-align: right;\">\n",
       "      <th></th>\n",
       "      <th>Sex</th>\n",
       "      <th>1</th>\n",
       "      <th>2</th>\n",
       "      <th>3</th>\n",
       "      <th>Length</th>\n",
       "      <th>Diameter</th>\n",
       "      <th>Height</th>\n",
       "      <th>Whole weight</th>\n",
       "      <th>Shucked weight</th>\n",
       "      <th>Viscera weight</th>\n",
       "      <th>Shell weight</th>\n",
       "      <th>Rings</th>\n",
       "    </tr>\n",
       "  </thead>\n",
       "  <tbody>\n",
       "    <tr>\n",
       "      <th>0</th>\n",
       "      <td>1</td>\n",
       "      <td>1</td>\n",
       "      <td>0</td>\n",
       "      <td>0</td>\n",
       "      <td>0.455</td>\n",
       "      <td>0.365</td>\n",
       "      <td>0.095</td>\n",
       "      <td>0.5140</td>\n",
       "      <td>0.2245</td>\n",
       "      <td>0.1010</td>\n",
       "      <td>0.150</td>\n",
       "      <td>15</td>\n",
       "    </tr>\n",
       "    <tr>\n",
       "      <th>1</th>\n",
       "      <td>1</td>\n",
       "      <td>1</td>\n",
       "      <td>0</td>\n",
       "      <td>0</td>\n",
       "      <td>0.350</td>\n",
       "      <td>0.265</td>\n",
       "      <td>0.090</td>\n",
       "      <td>0.2255</td>\n",
       "      <td>0.0995</td>\n",
       "      <td>0.0485</td>\n",
       "      <td>0.070</td>\n",
       "      <td>7</td>\n",
       "    </tr>\n",
       "    <tr>\n",
       "      <th>2</th>\n",
       "      <td>2</td>\n",
       "      <td>0</td>\n",
       "      <td>1</td>\n",
       "      <td>0</td>\n",
       "      <td>0.530</td>\n",
       "      <td>0.420</td>\n",
       "      <td>0.135</td>\n",
       "      <td>0.6770</td>\n",
       "      <td>0.2565</td>\n",
       "      <td>0.1415</td>\n",
       "      <td>0.210</td>\n",
       "      <td>9</td>\n",
       "    </tr>\n",
       "    <tr>\n",
       "      <th>3</th>\n",
       "      <td>1</td>\n",
       "      <td>1</td>\n",
       "      <td>0</td>\n",
       "      <td>0</td>\n",
       "      <td>0.440</td>\n",
       "      <td>0.365</td>\n",
       "      <td>0.125</td>\n",
       "      <td>0.5160</td>\n",
       "      <td>0.2155</td>\n",
       "      <td>0.1140</td>\n",
       "      <td>0.155</td>\n",
       "      <td>10</td>\n",
       "    </tr>\n",
       "    <tr>\n",
       "      <th>4</th>\n",
       "      <td>3</td>\n",
       "      <td>0</td>\n",
       "      <td>0</td>\n",
       "      <td>1</td>\n",
       "      <td>0.330</td>\n",
       "      <td>0.255</td>\n",
       "      <td>0.080</td>\n",
       "      <td>0.2050</td>\n",
       "      <td>0.0895</td>\n",
       "      <td>0.0395</td>\n",
       "      <td>0.055</td>\n",
       "      <td>7</td>\n",
       "    </tr>\n",
       "  </tbody>\n",
       "</table>\n",
       "</div>"
      ],
      "text/plain": [
       "   Sex  1  2  3  Length  Diameter  Height  Whole weight  Shucked weight  \\\n",
       "0    1  1  0  0   0.455     0.365   0.095        0.5140          0.2245   \n",
       "1    1  1  0  0   0.350     0.265   0.090        0.2255          0.0995   \n",
       "2    2  0  1  0   0.530     0.420   0.135        0.6770          0.2565   \n",
       "3    1  1  0  0   0.440     0.365   0.125        0.5160          0.2155   \n",
       "4    3  0  0  1   0.330     0.255   0.080        0.2050          0.0895   \n",
       "\n",
       "   Viscera weight  Shell weight  Rings  \n",
       "0          0.1010         0.150     15  \n",
       "1          0.0485         0.070      7  \n",
       "2          0.1415         0.210      9  \n",
       "3          0.1140         0.155     10  \n",
       "4          0.0395         0.055      7  "
      ]
     },
     "execution_count": 15,
     "metadata": {},
     "output_type": "execute_result"
    }
   ],
   "source": [
    "df.head()"
   ]
  }
 ],
 "metadata": {
  "kernelspec": {
   "display_name": "Python 3",
   "language": "python",
   "name": "python3"
  },
  "language_info": {
   "codemirror_mode": {
    "name": "ipython",
    "version": 3
   },
   "file_extension": ".py",
   "mimetype": "text/x-python",
   "name": "python",
   "nbconvert_exporter": "python",
   "pygments_lexer": "ipython3",
   "version": "3.7.4"
  }
 },
 "nbformat": 4,
 "nbformat_minor": 2
}
