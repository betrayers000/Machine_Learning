{
 "cells": [
  {
   "cell_type": "markdown",
   "metadata": {},
   "source": [
    "# Regression_FFNN\n",
    "\n",
    "## load data"
   ]
  },
  {
   "cell_type": "code",
   "execution_count": 47,
   "metadata": {},
   "outputs": [],
   "source": [
    "import pandas as pd\n",
    "import numpy as np\n",
    "import matplotlib.pyplot as plt"
   ]
  },
  {
   "cell_type": "code",
   "execution_count": 48,
   "metadata": {},
   "outputs": [],
   "source": [
    "column_name = [\"Sex\", \"Length\" ,\"Diameter\" ,\"Height\" ,\"WholeWeight\" ,\"ShuckedWeight\", \"VisceraWeight\", \"Shell weight\", \"Rings\"]"
   ]
  },
  {
   "cell_type": "code",
   "execution_count": 49,
   "metadata": {},
   "outputs": [
    {
     "data": {
      "text/html": [
       "<div>\n",
       "<style scoped>\n",
       "    .dataframe tbody tr th:only-of-type {\n",
       "        vertical-align: middle;\n",
       "    }\n",
       "\n",
       "    .dataframe tbody tr th {\n",
       "        vertical-align: top;\n",
       "    }\n",
       "\n",
       "    .dataframe thead th {\n",
       "        text-align: right;\n",
       "    }\n",
       "</style>\n",
       "<table border=\"1\" class=\"dataframe\">\n",
       "  <thead>\n",
       "    <tr style=\"text-align: right;\">\n",
       "      <th></th>\n",
       "      <th>Sex</th>\n",
       "      <th>Length</th>\n",
       "      <th>Diameter</th>\n",
       "      <th>Height</th>\n",
       "      <th>WholeWeight</th>\n",
       "      <th>ShuckedWeight</th>\n",
       "      <th>VisceraWeight</th>\n",
       "      <th>Shell weight</th>\n",
       "      <th>Rings</th>\n",
       "    </tr>\n",
       "  </thead>\n",
       "  <tbody>\n",
       "    <tr>\n",
       "      <th>0</th>\n",
       "      <td>M</td>\n",
       "      <td>0.455</td>\n",
       "      <td>0.365</td>\n",
       "      <td>0.095</td>\n",
       "      <td>0.5140</td>\n",
       "      <td>0.2245</td>\n",
       "      <td>0.1010</td>\n",
       "      <td>0.150</td>\n",
       "      <td>15</td>\n",
       "    </tr>\n",
       "    <tr>\n",
       "      <th>1</th>\n",
       "      <td>M</td>\n",
       "      <td>0.350</td>\n",
       "      <td>0.265</td>\n",
       "      <td>0.090</td>\n",
       "      <td>0.2255</td>\n",
       "      <td>0.0995</td>\n",
       "      <td>0.0485</td>\n",
       "      <td>0.070</td>\n",
       "      <td>7</td>\n",
       "    </tr>\n",
       "    <tr>\n",
       "      <th>2</th>\n",
       "      <td>F</td>\n",
       "      <td>0.530</td>\n",
       "      <td>0.420</td>\n",
       "      <td>0.135</td>\n",
       "      <td>0.6770</td>\n",
       "      <td>0.2565</td>\n",
       "      <td>0.1415</td>\n",
       "      <td>0.210</td>\n",
       "      <td>9</td>\n",
       "    </tr>\n",
       "    <tr>\n",
       "      <th>3</th>\n",
       "      <td>M</td>\n",
       "      <td>0.440</td>\n",
       "      <td>0.365</td>\n",
       "      <td>0.125</td>\n",
       "      <td>0.5160</td>\n",
       "      <td>0.2155</td>\n",
       "      <td>0.1140</td>\n",
       "      <td>0.155</td>\n",
       "      <td>10</td>\n",
       "    </tr>\n",
       "    <tr>\n",
       "      <th>4</th>\n",
       "      <td>I</td>\n",
       "      <td>0.330</td>\n",
       "      <td>0.255</td>\n",
       "      <td>0.080</td>\n",
       "      <td>0.2050</td>\n",
       "      <td>0.0895</td>\n",
       "      <td>0.0395</td>\n",
       "      <td>0.055</td>\n",
       "      <td>7</td>\n",
       "    </tr>\n",
       "  </tbody>\n",
       "</table>\n",
       "</div>"
      ],
      "text/plain": [
       "  Sex  Length  Diameter  Height  WholeWeight  ShuckedWeight  VisceraWeight  \\\n",
       "0   M   0.455     0.365   0.095       0.5140         0.2245         0.1010   \n",
       "1   M   0.350     0.265   0.090       0.2255         0.0995         0.0485   \n",
       "2   F   0.530     0.420   0.135       0.6770         0.2565         0.1415   \n",
       "3   M   0.440     0.365   0.125       0.5160         0.2155         0.1140   \n",
       "4   I   0.330     0.255   0.080       0.2050         0.0895         0.0395   \n",
       "\n",
       "   Shell weight  Rings  \n",
       "0         0.150     15  \n",
       "1         0.070      7  \n",
       "2         0.210      9  \n",
       "3         0.155     10  \n",
       "4         0.055      7  "
      ]
     },
     "execution_count": 49,
     "metadata": {},
     "output_type": "execute_result"
    }
   ],
   "source": [
    "data = pd.read_csv('abalone.data', names = column_name)\n",
    "data.head()"
   ]
  },
  {
   "cell_type": "code",
   "execution_count": 50,
   "metadata": {},
   "outputs": [],
   "source": [
    "data_sex = data['Sex']\n",
    "data_sex_encoded, data_sex_categories = data_sex.factorize()\n",
    "data['Sex'] = data_sex_encoded"
   ]
  },
  {
   "cell_type": "code",
   "execution_count": 51,
   "metadata": {},
   "outputs": [
    {
     "data": {
      "text/html": [
       "<div>\n",
       "<style scoped>\n",
       "    .dataframe tbody tr th:only-of-type {\n",
       "        vertical-align: middle;\n",
       "    }\n",
       "\n",
       "    .dataframe tbody tr th {\n",
       "        vertical-align: top;\n",
       "    }\n",
       "\n",
       "    .dataframe thead th {\n",
       "        text-align: right;\n",
       "    }\n",
       "</style>\n",
       "<table border=\"1\" class=\"dataframe\">\n",
       "  <thead>\n",
       "    <tr style=\"text-align: right;\">\n",
       "      <th></th>\n",
       "      <th>Sex</th>\n",
       "      <th>Length</th>\n",
       "      <th>Diameter</th>\n",
       "      <th>Height</th>\n",
       "      <th>WholeWeight</th>\n",
       "      <th>ShuckedWeight</th>\n",
       "      <th>VisceraWeight</th>\n",
       "      <th>Shell weight</th>\n",
       "      <th>Rings</th>\n",
       "    </tr>\n",
       "  </thead>\n",
       "  <tbody>\n",
       "    <tr>\n",
       "      <th>0</th>\n",
       "      <td>0</td>\n",
       "      <td>0.455</td>\n",
       "      <td>0.365</td>\n",
       "      <td>0.095</td>\n",
       "      <td>0.5140</td>\n",
       "      <td>0.2245</td>\n",
       "      <td>0.1010</td>\n",
       "      <td>0.150</td>\n",
       "      <td>15</td>\n",
       "    </tr>\n",
       "    <tr>\n",
       "      <th>1</th>\n",
       "      <td>0</td>\n",
       "      <td>0.350</td>\n",
       "      <td>0.265</td>\n",
       "      <td>0.090</td>\n",
       "      <td>0.2255</td>\n",
       "      <td>0.0995</td>\n",
       "      <td>0.0485</td>\n",
       "      <td>0.070</td>\n",
       "      <td>7</td>\n",
       "    </tr>\n",
       "    <tr>\n",
       "      <th>2</th>\n",
       "      <td>1</td>\n",
       "      <td>0.530</td>\n",
       "      <td>0.420</td>\n",
       "      <td>0.135</td>\n",
       "      <td>0.6770</td>\n",
       "      <td>0.2565</td>\n",
       "      <td>0.1415</td>\n",
       "      <td>0.210</td>\n",
       "      <td>9</td>\n",
       "    </tr>\n",
       "    <tr>\n",
       "      <th>3</th>\n",
       "      <td>0</td>\n",
       "      <td>0.440</td>\n",
       "      <td>0.365</td>\n",
       "      <td>0.125</td>\n",
       "      <td>0.5160</td>\n",
       "      <td>0.2155</td>\n",
       "      <td>0.1140</td>\n",
       "      <td>0.155</td>\n",
       "      <td>10</td>\n",
       "    </tr>\n",
       "    <tr>\n",
       "      <th>4</th>\n",
       "      <td>2</td>\n",
       "      <td>0.330</td>\n",
       "      <td>0.255</td>\n",
       "      <td>0.080</td>\n",
       "      <td>0.2050</td>\n",
       "      <td>0.0895</td>\n",
       "      <td>0.0395</td>\n",
       "      <td>0.055</td>\n",
       "      <td>7</td>\n",
       "    </tr>\n",
       "  </tbody>\n",
       "</table>\n",
       "</div>"
      ],
      "text/plain": [
       "   Sex  Length  Diameter  Height  WholeWeight  ShuckedWeight  VisceraWeight  \\\n",
       "0    0   0.455     0.365   0.095       0.5140         0.2245         0.1010   \n",
       "1    0   0.350     0.265   0.090       0.2255         0.0995         0.0485   \n",
       "2    1   0.530     0.420   0.135       0.6770         0.2565         0.1415   \n",
       "3    0   0.440     0.365   0.125       0.5160         0.2155         0.1140   \n",
       "4    2   0.330     0.255   0.080       0.2050         0.0895         0.0395   \n",
       "\n",
       "   Shell weight  Rings  \n",
       "0         0.150     15  \n",
       "1         0.070      7  \n",
       "2         0.210      9  \n",
       "3         0.155     10  \n",
       "4         0.055      7  "
      ]
     },
     "execution_count": 51,
     "metadata": {},
     "output_type": "execute_result"
    }
   ],
   "source": [
    "data.head()"
   ]
  },
  {
   "cell_type": "markdown",
   "metadata": {},
   "source": [
    "## data"
   ]
  },
  {
   "cell_type": "code",
   "execution_count": 52,
   "metadata": {},
   "outputs": [],
   "source": [
    "X = data.copy()\n",
    "y = X.pop('Rings')"
   ]
  },
  {
   "cell_type": "code",
   "execution_count": 53,
   "metadata": {},
   "outputs": [
    {
     "name": "stdout",
     "output_type": "stream",
     "text": [
      "(4177, 8) (4177,)\n"
     ]
    }
   ],
   "source": [
    "print(X.shape, y.shape)"
   ]
  },
  {
   "cell_type": "markdown",
   "metadata": {},
   "source": [
    "## data split"
   ]
  },
  {
   "cell_type": "code",
   "execution_count": 54,
   "metadata": {},
   "outputs": [],
   "source": [
    "from sklearn.model_selection import train_test_split"
   ]
  },
  {
   "cell_type": "code",
   "execution_count": 55,
   "metadata": {},
   "outputs": [],
   "source": [
    "X_train, X_test, y_train, y_test = train_test_split(X, y, test_size=0.2, random_state=0)"
   ]
  },
  {
   "cell_type": "code",
   "execution_count": 56,
   "metadata": {
    "scrolled": true
   },
   "outputs": [
    {
     "name": "stdout",
     "output_type": "stream",
     "text": [
      "X_train : (3341, 8), y_train : (3341,)\n",
      "X_test : (836, 8), y_test : (836,)\n"
     ]
    }
   ],
   "source": [
    "print(f\"X_train : {X_train.shape}, y_train : {y_train.shape}\")\n",
    "print(f\"X_test : {X_test.shape}, y_test : {y_test.shape}\")"
   ]
  },
  {
   "cell_type": "markdown",
   "metadata": {},
   "source": [
    "# model base optimizer adam"
   ]
  },
  {
   "cell_type": "code",
   "execution_count": 57,
   "metadata": {},
   "outputs": [],
   "source": [
    "import tensorflow as tf\n",
    "from tensorflow import keras\n",
    "from tensorflow.keras import layers"
   ]
  },
  {
   "cell_type": "code",
   "execution_count": 58,
   "metadata": {},
   "outputs": [],
   "source": [
    "model = keras.Sequential([\n",
    "    layers.Dense(64, activation='relu', input_shape=[8]),\n",
    "    layers.Dense(128, activation='relu'),\n",
    "    layers.Flatten(),\n",
    "    layers.Dense(1)\n",
    "])"
   ]
  },
  {
   "cell_type": "code",
   "execution_count": 59,
   "metadata": {},
   "outputs": [
    {
     "name": "stdout",
     "output_type": "stream",
     "text": [
      "Model: \"sequential_1\"\n",
      "_________________________________________________________________\n",
      "Layer (type)                 Output Shape              Param #   \n",
      "=================================================================\n",
      "dense_3 (Dense)              (None, 64)                576       \n",
      "_________________________________________________________________\n",
      "dense_4 (Dense)              (None, 128)               8320      \n",
      "_________________________________________________________________\n",
      "flatten_1 (Flatten)          (None, 128)               0         \n",
      "_________________________________________________________________\n",
      "dense_5 (Dense)              (None, 1)                 129       \n",
      "=================================================================\n",
      "Total params: 9,025\n",
      "Trainable params: 9,025\n",
      "Non-trainable params: 0\n",
      "_________________________________________________________________\n"
     ]
    }
   ],
   "source": [
    "model.summary()"
   ]
  },
  {
   "cell_type": "code",
   "execution_count": 60,
   "metadata": {},
   "outputs": [],
   "source": [
    "model.compile(optimizer='adam', loss='mse', metrics=['mae', 'mse'])"
   ]
  },
  {
   "cell_type": "code",
   "execution_count": 61,
   "metadata": {},
   "outputs": [
    {
     "name": "stdout",
     "output_type": "stream",
     "text": [
      "WARNING:tensorflow:Falling back from v2 loop because of error: Failed to find data adapter that can handle input: <class 'pandas.core.frame.DataFrame'>, <class 'NoneType'>\n",
      "Train on 3341 samples, validate on 836 samples\n",
      "Epoch 1/100\n",
      "3341/3341 [==============================] - 0s 88us/sample - loss: 86.6943 - mae: 8.7166 - mse: 86.6943 - val_loss: 57.2809 - val_mae: 6.8599 - val_mse: 57.2809\n",
      "Epoch 2/100\n",
      "3341/3341 [==============================] - 0s 21us/sample - loss: 30.4659 - mae: 4.4487 - mse: 30.4659 - val_loss: 10.9095 - val_mae: 2.5164 - val_mse: 10.9095\n",
      "Epoch 3/100\n",
      "3341/3341 [==============================] - 0s 21us/sample - loss: 10.6407 - mae: 2.5963 - mse: 10.6407 - val_loss: 9.4644 - val_mae: 2.1813 - val_mse: 9.4644\n",
      "Epoch 4/100\n",
      "3341/3341 [==============================] - 0s 21us/sample - loss: 9.2071 - mae: 2.1952 - mse: 9.2071 - val_loss: 8.7943 - val_mae: 2.1302 - val_mse: 8.7943\n",
      "Epoch 5/100\n",
      "3341/3341 [==============================] - 0s 22us/sample - loss: 8.7547 - mae: 2.1918 - mse: 8.7547 - val_loss: 8.5126 - val_mae: 2.0148 - val_mse: 8.5126\n",
      "Epoch 6/100\n",
      "3341/3341 [==============================] - 0s 21us/sample - loss: 8.3508 - mae: 2.1170 - mse: 8.3508 - val_loss: 8.0762 - val_mae: 1.9780 - val_mse: 8.0762\n",
      "Epoch 7/100\n",
      "3341/3341 [==============================] - 0s 29us/sample - loss: 7.9256 - mae: 2.0528 - mse: 7.9256 - val_loss: 7.6556 - val_mae: 1.9527 - val_mse: 7.6556\n",
      "Epoch 8/100\n",
      "3341/3341 [==============================] - 0s 23us/sample - loss: 7.5119 - mae: 1.9776 - mse: 7.5119 - val_loss: 7.2991 - val_mae: 1.9098 - val_mse: 7.2991\n",
      "Epoch 9/100\n",
      "3341/3341 [==============================] - 0s 20us/sample - loss: 7.0986 - mae: 1.9309 - mse: 7.0986 - val_loss: 6.9169 - val_mae: 1.8562 - val_mse: 6.9169\n",
      "Epoch 10/100\n",
      "3341/3341 [==============================] - 0s 21us/sample - loss: 6.6865 - mae: 1.8804 - mse: 6.6865 - val_loss: 6.5863 - val_mae: 1.7823 - val_mse: 6.5863\n",
      "Epoch 11/100\n",
      "3341/3341 [==============================] - 0s 20us/sample - loss: 6.3029 - mae: 1.8165 - mse: 6.3029 - val_loss: 6.2481 - val_mae: 1.7765 - val_mse: 6.2481\n",
      "Epoch 12/100\n",
      "3341/3341 [==============================] - 0s 20us/sample - loss: 6.0226 - mae: 1.7775 - mse: 6.0226 - val_loss: 6.0023 - val_mae: 1.7386 - val_mse: 6.0023\n",
      "Epoch 13/100\n",
      "3341/3341 [==============================] - 0s 21us/sample - loss: 5.7811 - mae: 1.7325 - mse: 5.7811 - val_loss: 5.8959 - val_mae: 1.6681 - val_mse: 5.8959\n",
      "Epoch 14/100\n",
      "3341/3341 [==============================] - 0s 21us/sample - loss: 5.6641 - mae: 1.6981 - mse: 5.6641 - val_loss: 5.7473 - val_mae: 1.6975 - val_mse: 5.7473\n",
      "Epoch 15/100\n",
      "3341/3341 [==============================] - 0s 23us/sample - loss: 5.5310 - mae: 1.6920 - mse: 5.5310 - val_loss: 5.6446 - val_mae: 1.6901 - val_mse: 5.6446\n",
      "Epoch 16/100\n",
      "3341/3341 [==============================] - 0s 28us/sample - loss: 5.4619 - mae: 1.6883 - mse: 5.4619 - val_loss: 5.5897 - val_mae: 1.7061 - val_mse: 5.5897\n",
      "Epoch 17/100\n",
      "3341/3341 [==============================] - 0s 27us/sample - loss: 5.3610 - mae: 1.6602 - mse: 5.3610 - val_loss: 5.4954 - val_mae: 1.6677 - val_mse: 5.4954\n",
      "Epoch 18/100\n",
      "3341/3341 [==============================] - 0s 20us/sample - loss: 5.3022 - mae: 1.6609 - mse: 5.3022 - val_loss: 5.4683 - val_mae: 1.6131 - val_mse: 5.4683\n",
      "Epoch 19/100\n",
      "3341/3341 [==============================] - 0s 21us/sample - loss: 5.2403 - mae: 1.6418 - mse: 5.2403 - val_loss: 5.3635 - val_mae: 1.6377 - val_mse: 5.3635\n",
      "Epoch 20/100\n",
      "3341/3341 [==============================] - 0s 35us/sample - loss: 5.1619 - mae: 1.6318 - mse: 5.1619 - val_loss: 5.3126 - val_mae: 1.6097 - val_mse: 5.3126\n",
      "Epoch 21/100\n",
      "3341/3341 [==============================] - 0s 42us/sample - loss: 5.1031 - mae: 1.6092 - mse: 5.1031 - val_loss: 5.3161 - val_mae: 1.6804 - val_mse: 5.3161\n",
      "Epoch 22/100\n",
      "3341/3341 [==============================] - 0s 30us/sample - loss: 5.1214 - mae: 1.6355 - mse: 5.1214 - val_loss: 5.2183 - val_mae: 1.5746 - val_mse: 5.2183\n",
      "Epoch 23/100\n",
      "3341/3341 [==============================] - 0s 31us/sample - loss: 4.9928 - mae: 1.6020 - mse: 4.9928 - val_loss: 5.1512 - val_mae: 1.5814 - val_mse: 5.1512\n",
      "Epoch 24/100\n",
      "3341/3341 [==============================] - 0s 26us/sample - loss: 4.9187 - mae: 1.5963 - mse: 4.9187 - val_loss: 5.1066 - val_mae: 1.5821 - val_mse: 5.1066\n",
      "Epoch 25/100\n",
      "3341/3341 [==============================] - 0s 25us/sample - loss: 4.8579 - mae: 1.5764 - mse: 4.8579 - val_loss: 5.0588 - val_mae: 1.5756 - val_mse: 5.0588\n",
      "Epoch 26/100\n",
      "3341/3341 [==============================] - 0s 26us/sample - loss: 4.9963 - mae: 1.6299 - mse: 4.9963 - val_loss: 5.1775 - val_mae: 1.5320 - val_mse: 5.1775\n",
      "Epoch 27/100\n",
      "3341/3341 [==============================] - 0s 22us/sample - loss: 4.8232 - mae: 1.5725 - mse: 4.8232 - val_loss: 4.9785 - val_mae: 1.5736 - val_mse: 4.9785\n",
      "Epoch 28/100\n",
      "3341/3341 [==============================] - 0s 19us/sample - loss: 4.7571 - mae: 1.5680 - mse: 4.7571 - val_loss: 4.9671 - val_mae: 1.5882 - val_mse: 4.9671\n",
      "Epoch 29/100\n",
      "3341/3341 [==============================] - 0s 20us/sample - loss: 4.7863 - mae: 1.5743 - mse: 4.7863 - val_loss: 5.0026 - val_mae: 1.6267 - val_mse: 5.0026\n",
      "Epoch 30/100\n",
      "3341/3341 [==============================] - 0s 21us/sample - loss: 4.7223 - mae: 1.5670 - mse: 4.7223 - val_loss: 4.9304 - val_mae: 1.5422 - val_mse: 4.9304\n",
      "Epoch 31/100\n",
      "3341/3341 [==============================] - 0s 22us/sample - loss: 4.7112 - mae: 1.5577 - mse: 4.7112 - val_loss: 4.8872 - val_mae: 1.5357 - val_mse: 4.8872\n",
      "Epoch 32/100\n",
      "3341/3341 [==============================] - 0s 19us/sample - loss: 4.6695 - mae: 1.5464 - mse: 4.6695 - val_loss: 4.8755 - val_mae: 1.5250 - val_mse: 4.8755\n",
      "Epoch 33/100\n",
      "3341/3341 [==============================] - 0s 18us/sample - loss: 4.6684 - mae: 1.5485 - mse: 4.6684 - val_loss: 4.9099 - val_mae: 1.5139 - val_mse: 4.9099\n",
      "Epoch 34/100\n",
      "3341/3341 [==============================] - 0s 19us/sample - loss: 4.7269 - mae: 1.5586 - mse: 4.7269 - val_loss: 4.8205 - val_mae: 1.5402 - val_mse: 4.8205\n",
      "Epoch 35/100\n",
      "3341/3341 [==============================] - 0s 24us/sample - loss: 4.6324 - mae: 1.5362 - mse: 4.6324 - val_loss: 4.8473 - val_mae: 1.5767 - val_mse: 4.8473\n",
      "Epoch 36/100\n",
      "3341/3341 [==============================] - 0s 25us/sample - loss: 4.6060 - mae: 1.5397 - mse: 4.6060 - val_loss: 4.8997 - val_mae: 1.5062 - val_mse: 4.8997\n",
      "Epoch 37/100\n",
      "3341/3341 [==============================] - 0s 38us/sample - loss: 4.6505 - mae: 1.5439 - mse: 4.6505 - val_loss: 4.7857 - val_mae: 1.5214 - val_mse: 4.7857\n",
      "Epoch 38/100\n",
      "3341/3341 [==============================] - 0s 37us/sample - loss: 4.5934 - mae: 1.5336 - mse: 4.5934 - val_loss: 4.9100 - val_mae: 1.5007 - val_mse: 4.9100\n",
      "Epoch 39/100\n",
      "3341/3341 [==============================] - 0s 28us/sample - loss: 4.6457 - mae: 1.5364 - mse: 4.6457 - val_loss: 4.8060 - val_mae: 1.5085 - val_mse: 4.8060\n",
      "Epoch 40/100\n",
      "3341/3341 [==============================] - 0s 18us/sample - loss: 4.6357 - mae: 1.5451 - mse: 4.6357 - val_loss: 4.8030 - val_mae: 1.5035 - val_mse: 4.8030\n",
      "Epoch 41/100\n",
      "3341/3341 [==============================] - 0s 16us/sample - loss: 4.5717 - mae: 1.5255 - mse: 4.5717 - val_loss: 5.0225 - val_mae: 1.6773 - val_mse: 5.0225\n",
      "Epoch 42/100\n",
      "3341/3341 [==============================] - 0s 20us/sample - loss: 4.6385 - mae: 1.5506 - mse: 4.6385 - val_loss: 4.7521 - val_mae: 1.5307 - val_mse: 4.7521\n",
      "Epoch 43/100\n",
      "3341/3341 [==============================] - 0s 22us/sample - loss: 4.5741 - mae: 1.5335 - mse: 4.5741 - val_loss: 4.7678 - val_mae: 1.5553 - val_mse: 4.7678\n",
      "Epoch 44/100\n",
      "3341/3341 [==============================] - 0s 21us/sample - loss: 4.5583 - mae: 1.5392 - mse: 4.5583 - val_loss: 4.7451 - val_mae: 1.5020 - val_mse: 4.7451\n",
      "Epoch 45/100\n",
      "3341/3341 [==============================] - 0s 21us/sample - loss: 4.5744 - mae: 1.5311 - mse: 4.5744 - val_loss: 4.7276 - val_mae: 1.5385 - val_mse: 4.7276\n",
      "Epoch 46/100\n",
      "3341/3341 [==============================] - 0s 24us/sample - loss: 4.5965 - mae: 1.5264 - mse: 4.5965 - val_loss: 4.7193 - val_mae: 1.5241 - val_mse: 4.7193\n",
      "Epoch 47/100\n"
     ]
    },
    {
     "name": "stdout",
     "output_type": "stream",
     "text": [
      "3341/3341 [==============================] - 0s 22us/sample - loss: 4.5543 - mae: 1.5212 - mse: 4.5543 - val_loss: 4.7166 - val_mae: 1.5309 - val_mse: 4.7166\n",
      "Epoch 48/100\n",
      "3341/3341 [==============================] - 0s 19us/sample - loss: 4.5331 - mae: 1.5249 - mse: 4.5331 - val_loss: 4.7669 - val_mae: 1.4949 - val_mse: 4.7669\n",
      "Epoch 49/100\n",
      "3341/3341 [==============================] - 0s 21us/sample - loss: 4.5432 - mae: 1.5252 - mse: 4.5432 - val_loss: 4.7589 - val_mae: 1.5028 - val_mse: 4.7589\n",
      "Epoch 50/100\n",
      "3341/3341 [==============================] - 0s 19us/sample - loss: 4.5213 - mae: 1.5207 - mse: 4.5213 - val_loss: 4.6786 - val_mae: 1.5070 - val_mse: 4.6786\n",
      "Epoch 51/100\n",
      "3341/3341 [==============================] - 0s 18us/sample - loss: 4.5056 - mae: 1.5251 - mse: 4.5056 - val_loss: 4.7558 - val_mae: 1.4934 - val_mse: 4.7558\n",
      "Epoch 52/100\n",
      "3341/3341 [==============================] - 0s 17us/sample - loss: 4.5163 - mae: 1.5162 - mse: 4.5163 - val_loss: 4.6671 - val_mae: 1.5079 - val_mse: 4.6671\n",
      "Epoch 53/100\n",
      "3341/3341 [==============================] - 0s 17us/sample - loss: 4.4792 - mae: 1.5180 - mse: 4.4792 - val_loss: 4.6804 - val_mae: 1.4943 - val_mse: 4.6804\n",
      "Epoch 54/100\n",
      "3341/3341 [==============================] - 0s 16us/sample - loss: 4.5086 - mae: 1.5139 - mse: 4.5086 - val_loss: 4.6647 - val_mae: 1.5167 - val_mse: 4.6647\n",
      "Epoch 55/100\n",
      "3341/3341 [==============================] - 0s 15us/sample - loss: 4.4796 - mae: 1.5184 - mse: 4.4796 - val_loss: 4.6546 - val_mae: 1.5095 - val_mse: 4.6546\n",
      "Epoch 56/100\n",
      "3341/3341 [==============================] - 0s 16us/sample - loss: 4.4581 - mae: 1.5089 - mse: 4.4581 - val_loss: 4.6476 - val_mae: 1.5091 - val_mse: 4.6476\n",
      "Epoch 57/100\n",
      "3341/3341 [==============================] - 0s 17us/sample - loss: 4.4914 - mae: 1.5149 - mse: 4.4914 - val_loss: 4.8021 - val_mae: 1.6008 - val_mse: 4.8021\n",
      "Epoch 58/100\n",
      "3341/3341 [==============================] - 0s 14us/sample - loss: 4.4922 - mae: 1.5257 - mse: 4.4922 - val_loss: 4.7014 - val_mae: 1.4813 - val_mse: 4.7014\n",
      "Epoch 59/100\n",
      "3341/3341 [==============================] - 0s 15us/sample - loss: 4.4941 - mae: 1.5074 - mse: 4.4941 - val_loss: 4.7735 - val_mae: 1.5939 - val_mse: 4.7735\n",
      "Epoch 60/100\n",
      "3341/3341 [==============================] - 0s 15us/sample - loss: 4.4553 - mae: 1.5145 - mse: 4.4553 - val_loss: 4.6573 - val_mae: 1.4845 - val_mse: 4.6573\n",
      "Epoch 61/100\n",
      "3341/3341 [==============================] - 0s 14us/sample - loss: 4.4263 - mae: 1.5043 - mse: 4.4263 - val_loss: 4.6226 - val_mae: 1.4953 - val_mse: 4.6226\n",
      "Epoch 62/100\n",
      "3341/3341 [==============================] - 0s 15us/sample - loss: 4.4488 - mae: 1.5088 - mse: 4.4488 - val_loss: 4.6297 - val_mae: 1.5189 - val_mse: 4.6297\n",
      "Epoch 63/100\n",
      "3341/3341 [==============================] - 0s 16us/sample - loss: 4.4719 - mae: 1.5216 - mse: 4.4719 - val_loss: 4.8007 - val_mae: 1.4809 - val_mse: 4.8007\n",
      "Epoch 64/100\n",
      "3341/3341 [==============================] - 0s 16us/sample - loss: 4.4889 - mae: 1.5079 - mse: 4.4889 - val_loss: 4.7672 - val_mae: 1.5935 - val_mse: 4.7672\n",
      "Epoch 65/100\n",
      "3341/3341 [==============================] - 0s 21us/sample - loss: 4.4879 - mae: 1.5169 - mse: 4.4879 - val_loss: 4.7640 - val_mae: 1.4741 - val_mse: 4.7640\n",
      "Epoch 66/100\n",
      "3341/3341 [==============================] - 0s 19us/sample - loss: 4.4340 - mae: 1.5057 - mse: 4.4340 - val_loss: 4.7435 - val_mae: 1.5795 - val_mse: 4.7435\n",
      "Epoch 67/100\n",
      "3341/3341 [==============================] - 0s 18us/sample - loss: 4.4766 - mae: 1.5221 - mse: 4.4766 - val_loss: 4.6705 - val_mae: 1.5280 - val_mse: 4.6705\n",
      "Epoch 68/100\n",
      "3341/3341 [==============================] - 0s 21us/sample - loss: 4.4578 - mae: 1.5057 - mse: 4.4578 - val_loss: 4.6047 - val_mae: 1.5100 - val_mse: 4.6047\n",
      "Epoch 69/100\n",
      "3341/3341 [==============================] - 0s 21us/sample - loss: 4.4614 - mae: 1.5142 - mse: 4.4614 - val_loss: 4.7460 - val_mae: 1.4709 - val_mse: 4.7460\n",
      "Epoch 70/100\n",
      "3341/3341 [==============================] - 0s 21us/sample - loss: 4.4237 - mae: 1.5079 - mse: 4.4237 - val_loss: 4.7031 - val_mae: 1.4719 - val_mse: 4.7031\n",
      "Epoch 71/100\n",
      "3341/3341 [==============================] - 0s 23us/sample - loss: 4.4352 - mae: 1.5013 - mse: 4.4352 - val_loss: 4.6273 - val_mae: 1.5251 - val_mse: 4.6273\n",
      "Epoch 72/100\n",
      "3341/3341 [==============================] - 0s 25us/sample - loss: 4.3961 - mae: 1.4971 - mse: 4.3961 - val_loss: 4.6552 - val_mae: 1.4741 - val_mse: 4.6552\n",
      "Epoch 73/100\n",
      "3341/3341 [==============================] - 0s 21us/sample - loss: 4.4038 - mae: 1.4983 - mse: 4.4038 - val_loss: 4.6056 - val_mae: 1.5163 - val_mse: 4.6056\n",
      "Epoch 74/100\n",
      "3341/3341 [==============================] - 0s 18us/sample - loss: 4.4535 - mae: 1.5024 - mse: 4.4535 - val_loss: 4.6590 - val_mae: 1.5512 - val_mse: 4.6590\n",
      "Epoch 75/100\n",
      "3341/3341 [==============================] - 0s 16us/sample - loss: 4.4845 - mae: 1.5277 - mse: 4.4845 - val_loss: 4.6328 - val_mae: 1.4862 - val_mse: 4.6328\n",
      "Epoch 76/100\n",
      "3341/3341 [==============================] - 0s 16us/sample - loss: 4.3847 - mae: 1.4952 - mse: 4.3847 - val_loss: 4.5838 - val_mae: 1.5033 - val_mse: 4.5838\n",
      "Epoch 77/100\n",
      "3341/3341 [==============================] - 0s 15us/sample - loss: 4.3730 - mae: 1.4941 - mse: 4.3730 - val_loss: 4.5780 - val_mae: 1.4825 - val_mse: 4.5780\n",
      "Epoch 78/100\n",
      "3341/3341 [==============================] - 0s 16us/sample - loss: 4.3669 - mae: 1.4916 - mse: 4.3669 - val_loss: 4.6391 - val_mae: 1.5438 - val_mse: 4.6391\n",
      "Epoch 79/100\n",
      "3341/3341 [==============================] - 0s 17us/sample - loss: 4.4492 - mae: 1.5079 - mse: 4.4492 - val_loss: 4.5685 - val_mae: 1.4955 - val_mse: 4.5685\n",
      "Epoch 80/100\n",
      "3341/3341 [==============================] - 0s 21us/sample - loss: 4.3572 - mae: 1.4955 - mse: 4.3572 - val_loss: 4.6126 - val_mae: 1.4637 - val_mse: 4.6126\n",
      "Epoch 81/100\n",
      "3341/3341 [==============================] - 0s 19us/sample - loss: 4.3900 - mae: 1.4914 - mse: 4.3900 - val_loss: 4.5542 - val_mae: 1.4864 - val_mse: 4.5542\n",
      "Epoch 82/100\n",
      "3341/3341 [==============================] - 0s 21us/sample - loss: 4.4359 - mae: 1.5033 - mse: 4.4359 - val_loss: 4.6389 - val_mae: 1.4612 - val_mse: 4.6389\n",
      "Epoch 83/100\n",
      "3341/3341 [==============================] - 0s 19us/sample - loss: 4.4244 - mae: 1.4981 - mse: 4.4244 - val_loss: 4.7058 - val_mae: 1.5787 - val_mse: 4.7058\n",
      "Epoch 84/100\n",
      "3341/3341 [==============================] - 0s 16us/sample - loss: 4.4171 - mae: 1.5069 - mse: 4.4171 - val_loss: 4.5948 - val_mae: 1.5230 - val_mse: 4.5948\n",
      "Epoch 85/100\n",
      "3341/3341 [==============================] - 0s 16us/sample - loss: 4.3605 - mae: 1.4958 - mse: 4.3605 - val_loss: 4.5607 - val_mae: 1.4655 - val_mse: 4.5607\n",
      "Epoch 86/100\n",
      "3341/3341 [==============================] - 0s 16us/sample - loss: 4.3613 - mae: 1.4891 - mse: 4.3613 - val_loss: 4.5573 - val_mae: 1.5012 - val_mse: 4.5573\n",
      "Epoch 87/100\n",
      "3341/3341 [==============================] - 0s 16us/sample - loss: 4.3613 - mae: 1.4962 - mse: 4.3613 - val_loss: 4.5709 - val_mae: 1.4663 - val_mse: 4.5709\n",
      "Epoch 88/100\n",
      "3341/3341 [==============================] - 0s 18us/sample - loss: 4.3725 - mae: 1.4974 - mse: 4.3725 - val_loss: 4.5349 - val_mae: 1.4869 - val_mse: 4.5349\n",
      "Epoch 89/100\n",
      "3341/3341 [==============================] - 0s 20us/sample - loss: 4.3316 - mae: 1.4899 - mse: 4.3316 - val_loss: 4.6466 - val_mae: 1.4617 - val_mse: 4.6466\n",
      "Epoch 90/100\n",
      "3341/3341 [==============================] - 0s 22us/sample - loss: 4.3896 - mae: 1.4934 - mse: 4.3896 - val_loss: 4.5516 - val_mae: 1.5034 - val_mse: 4.5516\n",
      "Epoch 91/100\n",
      "3341/3341 [==============================] - 0s 20us/sample - loss: 4.3217 - mae: 1.4826 - mse: 4.3217 - val_loss: 4.6180 - val_mae: 1.4627 - val_mse: 4.6180\n",
      "Epoch 92/100\n",
      "3341/3341 [==============================] - 0s 21us/sample - loss: 4.3856 - mae: 1.4906 - mse: 4.3856 - val_loss: 4.5292 - val_mae: 1.4908 - val_mse: 4.5292\n",
      "Epoch 93/100\n",
      "3341/3341 [==============================] - 0s 20us/sample - loss: 4.3071 - mae: 1.4770 - mse: 4.3071 - val_loss: 4.5943 - val_mae: 1.5170 - val_mse: 4.5943\n",
      "Epoch 94/100\n",
      "3341/3341 [==============================] - 0s 20us/sample - loss: 4.3816 - mae: 1.4984 - mse: 4.3816 - val_loss: 4.5688 - val_mae: 1.5144 - val_mse: 4.5688\n"
     ]
    },
    {
     "name": "stdout",
     "output_type": "stream",
     "text": [
      "Epoch 95/100\n",
      "3341/3341 [==============================] - 0s 21us/sample - loss: 4.4490 - mae: 1.5094 - mse: 4.4490 - val_loss: 4.5236 - val_mae: 1.4798 - val_mse: 4.5236\n",
      "Epoch 96/100\n",
      "3341/3341 [==============================] - 0s 18us/sample - loss: 4.3863 - mae: 1.4973 - mse: 4.3863 - val_loss: 4.5303 - val_mae: 1.4647 - val_mse: 4.5303\n",
      "Epoch 97/100\n",
      "3341/3341 [==============================] - 0s 17us/sample - loss: 4.4005 - mae: 1.5006 - mse: 4.4005 - val_loss: 4.5460 - val_mae: 1.4572 - val_mse: 4.5460\n",
      "Epoch 98/100\n",
      "3341/3341 [==============================] - 0s 20us/sample - loss: 4.3310 - mae: 1.4878 - mse: 4.3310 - val_loss: 4.5595 - val_mae: 1.4659 - val_mse: 4.5595\n",
      "Epoch 99/100\n",
      "3341/3341 [==============================] - 0s 17us/sample - loss: 4.3094 - mae: 1.4845 - mse: 4.3094 - val_loss: 4.7628 - val_mae: 1.4723 - val_mse: 4.7628\n",
      "Epoch 100/100\n",
      "3341/3341 [==============================] - 0s 16us/sample - loss: 4.3817 - mae: 1.4858 - mse: 4.3817 - val_loss: 4.5158 - val_mae: 1.4588 - val_mse: 4.5158\n"
     ]
    }
   ],
   "source": [
    "history = model.fit(X_train, y_train, \n",
    "                     epochs=100,\n",
    "                     batch_size=128,\n",
    "                     validation_data=(X_test, y_test),\n",
    "                     verbose = 1\n",
    "                    )"
   ]
  },
  {
   "cell_type": "code",
   "execution_count": 62,
   "metadata": {},
   "outputs": [
    {
     "data": {
      "text/plain": [
       "<matplotlib.legend.Legend at 0x1242a9910>"
      ]
     },
     "execution_count": 62,
     "metadata": {},
     "output_type": "execute_result"
    },
    {
     "data": {
      "image/png": "[encoded data removed]",
      "text/plain": [
       "<Figure size 432x288 with 1 Axes>"
      ]
     },
     "metadata": {
      "needs_background": "light"
     },
     "output_type": "display_data"
    }
   ],
   "source": [
    "hist = pd.DataFrame(history.history)\n",
    "hist['epoch'] = history.epoch\n",
    "\n",
    "plt.xlabel('Epoch')\n",
    "plt.ylabel('Mean Abs Error [MPG]')\n",
    "plt.plot(hist['epoch'], hist['mae'], label='Train Error')\n",
    "plt.plot(hist['epoch'], hist['val_mae'], label='val Error')\n",
    "plt.ylim(0, 5)\n",
    "plt.legend()"
   ]
  },
  {
   "cell_type": "code",
   "execution_count": 63,
   "metadata": {},
   "outputs": [
    {
     "data": {
      "text/plain": [
       "<matplotlib.legend.Legend at 0x12439bdd0>"
      ]
     },
     "execution_count": 63,
     "metadata": {},
     "output_type": "execute_result"
    },
    {
     "data": {
      "image/png": "[encoded data removed]",
      "text/plain": [
       "<Figure size 432x288 with 1 Axes>"
      ]
     },
     "metadata": {
      "needs_background": "light"
     },
     "output_type": "display_data"
    }
   ],
   "source": [
    "plt.xlabel('Epoch')\n",
    "plt.ylabel('Mean Square Error [$MPG^2$]')\n",
    "plt.plot(hist['epoch'], hist['mse'], label='Train Error')\n",
    "plt.plot(hist['epoch'], hist['val_mse'], label='val Error')\n",
    "plt.ylim(0, 30)\n",
    "plt.legend()"
   ]
  },
  {
   "cell_type": "code",
   "execution_count": 18,
   "metadata": {
    "scrolled": false
   },
   "outputs": [
    {
     "name": "stdout",
     "output_type": "stream",
     "text": [
      "WARNING:tensorflow:Falling back from v2 loop because of error: Failed to find data adapter that can handle input: <class 'pandas.core.frame.DataFrame'>, <class 'NoneType'>\n",
      "836/836 [==============================] - 0s 50us/sample - loss: 4.6708 - mae: 1.5151 - mse: 4.6708\n"
     ]
    },
    {
     "data": {
      "text/plain": [
       "2.1612122422423177"
      ]
     },
     "execution_count": 18,
     "metadata": {},
     "output_type": "execute_result"
    }
   ],
   "source": [
    "loss, mae, mse = model.evaluate(X_test, y_test)\n",
    "mse**0.5"
   ]
  },
  {
   "cell_type": "markdown",
   "metadata": {},
   "source": [
    "## model_2 optimizer sgd"
   ]
  },
  {
   "cell_type": "code",
   "execution_count": 30,
   "metadata": {},
   "outputs": [],
   "source": [
    "model = keras.Sequential([\n",
    "    layers.Dense(64, activation='relu', input_shape=[8]),\n",
    "    layers.Dense(128, activation='relu'),\n",
    "    layers.Dense(1)\n",
    "])"
   ]
  },
  {
   "cell_type": "code",
   "execution_count": 31,
   "metadata": {},
   "outputs": [
    {
     "name": "stdout",
     "output_type": "stream",
     "text": [
      "Model: \"sequential_3\"\n",
      "_________________________________________________________________\n",
      "Layer (type)                 Output Shape              Param #   \n",
      "=================================================================\n",
      "dense_9 (Dense)              (None, 64)                576       \n",
      "_________________________________________________________________\n",
      "dense_10 (Dense)             (None, 128)               8320      \n",
      "_________________________________________________________________\n",
      "dense_11 (Dense)             (None, 1)                 129       \n",
      "=================================================================\n",
      "Total params: 9,025\n",
      "Trainable params: 9,025\n",
      "Non-trainable params: 0\n",
      "_________________________________________________________________\n"
     ]
    }
   ],
   "source": [
    "model.summary()"
   ]
  },
  {
   "cell_type": "code",
   "execution_count": 32,
   "metadata": {},
   "outputs": [],
   "source": [
    "model.compile(optimizer='sgd', loss='mse', metrics=['mae', 'mse'])"
   ]
  },
  {
   "cell_type": "code",
   "execution_count": 33,
   "metadata": {},
   "outputs": [
    {
     "name": "stdout",
     "output_type": "stream",
     "text": [
      "WARNING:tensorflow:Falling back from v2 loop because of error: Failed to find data adapter that can handle input: <class 'pandas.core.frame.DataFrame'>, <class 'NoneType'>\n",
      "Train on 3341 samples, validate on 836 samples\n",
      "Epoch 1/100\n",
      "3341/3341 [==============================] - 0s 53us/sample - loss: 18.9722 - mae: 3.0788 - mse: 18.9722 - val_loss: 7.9456 - val_mae: 1.8765 - val_mse: 7.9456\n",
      "Epoch 2/100\n",
      "3341/3341 [==============================] - 0s 17us/sample - loss: 7.3016 - mae: 1.9646 - mse: 7.3016 - val_loss: 8.0496 - val_mae: 2.2907 - val_mse: 8.0496\n",
      "Epoch 3/100\n",
      "3341/3341 [==============================] - 0s 21us/sample - loss: 7.4316 - mae: 1.9877 - mse: 7.4316 - val_loss: 7.7779 - val_mae: 2.2983 - val_mse: 7.7779\n",
      "Epoch 4/100\n",
      "3341/3341 [==============================] - 0s 17us/sample - loss: 6.7178 - mae: 1.8878 - mse: 6.7178 - val_loss: 10.4181 - val_mae: 2.2077 - val_mse: 10.4181\n",
      "Epoch 5/100\n",
      "3341/3341 [==============================] - 0s 22us/sample - loss: 7.8450 - mae: 2.0785 - mse: 7.8450 - val_loss: 12.0859 - val_mae: 2.4560 - val_mse: 12.0859\n",
      "Epoch 6/100\n",
      "3341/3341 [==============================] - 0s 22us/sample - loss: 6.8243 - mae: 1.9182 - mse: 6.8243 - val_loss: 8.6334 - val_mae: 1.9210 - val_mse: 8.6334\n",
      "Epoch 7/100\n",
      "3341/3341 [==============================] - 0s 22us/sample - loss: 6.5752 - mae: 1.8670 - mse: 6.5752 - val_loss: 8.3224 - val_mae: 1.8972 - val_mse: 8.3224\n",
      "Epoch 8/100\n",
      "3341/3341 [==============================] - 0s 21us/sample - loss: 7.3080 - mae: 1.9937 - mse: 7.3080 - val_loss: 12.1058 - val_mae: 3.1127 - val_mse: 12.1058\n",
      "Epoch 9/100\n",
      "3341/3341 [==============================] - 0s 17us/sample - loss: 7.0402 - mae: 1.9571 - mse: 7.0402 - val_loss: 6.5108 - val_mae: 1.9917 - val_mse: 6.5108\n",
      "Epoch 10/100\n",
      "3341/3341 [==============================] - 0s 17us/sample - loss: 6.3171 - mae: 1.8554 - mse: 6.3171 - val_loss: 8.7197 - val_mae: 2.0227 - val_mse: 8.7197\n",
      "Epoch 11/100\n",
      "3341/3341 [==============================] - 0s 16us/sample - loss: 7.1418 - mae: 1.9727 - mse: 7.1418 - val_loss: 6.6136 - val_mae: 2.0628 - val_mse: 6.6136\n",
      "Epoch 12/100\n",
      "3341/3341 [==============================] - 0s 16us/sample - loss: 6.2190 - mae: 1.8285 - mse: 6.2190 - val_loss: 6.5289 - val_mae: 2.0493 - val_mse: 6.5289\n",
      "Epoch 13/100\n",
      "3341/3341 [==============================] - 0s 17us/sample - loss: 6.4372 - mae: 1.8845 - mse: 6.4372 - val_loss: 6.6534 - val_mae: 1.6841 - val_mse: 6.6534\n",
      "Epoch 14/100\n",
      "3341/3341 [==============================] - 0s 16us/sample - loss: 7.6658 - mae: 2.0772 - mse: 7.6658 - val_loss: 10.1940 - val_mae: 2.7814 - val_mse: 10.1940\n",
      "Epoch 15/100\n",
      "3341/3341 [==============================] - 0s 18us/sample - loss: 6.7389 - mae: 1.9221 - mse: 6.7389 - val_loss: 7.5121 - val_mae: 2.3151 - val_mse: 7.5121\n",
      "Epoch 16/100\n",
      "3341/3341 [==============================] - 0s 17us/sample - loss: 6.0152 - mae: 1.8036 - mse: 6.0152 - val_loss: 6.7736 - val_mae: 1.6887 - val_mse: 6.7736\n",
      "Epoch 17/100\n",
      "3341/3341 [==============================] - 0s 18us/sample - loss: 6.2669 - mae: 1.8415 - mse: 6.2669 - val_loss: 14.4928 - val_mae: 3.4527 - val_mse: 14.4928\n",
      "Epoch 18/100\n",
      "3341/3341 [==============================] - 0s 18us/sample - loss: 6.8909 - mae: 1.9431 - mse: 6.8909 - val_loss: 7.6114 - val_mae: 1.8486 - val_mse: 7.6114\n",
      "Epoch 19/100\n",
      "3341/3341 [==============================] - 0s 17us/sample - loss: 5.5251 - mae: 1.6975 - mse: 5.5251 - val_loss: 6.3088 - val_mae: 2.0331 - val_mse: 6.3088\n",
      "Epoch 20/100\n",
      "3341/3341 [==============================] - 0s 17us/sample - loss: 5.5375 - mae: 1.7357 - mse: 5.5375 - val_loss: 8.8189 - val_mae: 2.5832 - val_mse: 8.8189\n",
      "Epoch 21/100\n",
      "3341/3341 [==============================] - 0s 17us/sample - loss: 6.4825 - mae: 1.9150 - mse: 6.4825 - val_loss: 9.3145 - val_mae: 2.1561 - val_mse: 9.3145\n",
      "Epoch 22/100\n",
      "3341/3341 [==============================] - 0s 17us/sample - loss: 6.0172 - mae: 1.7946 - mse: 6.0172 - val_loss: 9.6583 - val_mae: 2.7188 - val_mse: 9.6583\n",
      "Epoch 23/100\n",
      "3341/3341 [==============================] - 0s 18us/sample - loss: 6.7556 - mae: 1.9268 - mse: 6.7556 - val_loss: 6.0687 - val_mae: 1.6177 - val_mse: 6.0687\n",
      "Epoch 24/100\n",
      "3341/3341 [==============================] - 0s 22us/sample - loss: 5.4948 - mae: 1.7070 - mse: 5.4948 - val_loss: 5.6391 - val_mae: 1.5701 - val_mse: 5.6391\n",
      "Epoch 25/100\n",
      "3341/3341 [==============================] - 0s 22us/sample - loss: 5.4344 - mae: 1.6878 - mse: 5.4344 - val_loss: 8.0274 - val_mae: 2.3238 - val_mse: 8.0274\n",
      "Epoch 26/100\n",
      "3341/3341 [==============================] - 0s 18us/sample - loss: 6.8241 - mae: 1.9467 - mse: 6.8241 - val_loss: 6.7625 - val_mae: 2.1598 - val_mse: 6.7625\n",
      "Epoch 27/100\n",
      "3341/3341 [==============================] - 0s 17us/sample - loss: 5.7552 - mae: 1.7685 - mse: 5.7552 - val_loss: 7.0879 - val_mae: 1.7974 - val_mse: 7.0879\n",
      "Epoch 28/100\n",
      "3341/3341 [==============================] - 0s 16us/sample - loss: 5.5293 - mae: 1.7039 - mse: 5.5293 - val_loss: 7.3907 - val_mae: 2.2973 - val_mse: 7.3907\n",
      "Epoch 29/100\n",
      "3341/3341 [==============================] - 0s 17us/sample - loss: 5.8321 - mae: 1.7878 - mse: 5.8321 - val_loss: 5.9387 - val_mae: 1.9520 - val_mse: 5.9387\n",
      "Epoch 30/100\n",
      "3341/3341 [==============================] - 0s 17us/sample - loss: 5.9790 - mae: 1.8126 - mse: 5.9790 - val_loss: 5.3044 - val_mae: 1.7235 - val_mse: 5.3044\n",
      "Epoch 31/100\n",
      "3341/3341 [==============================] - 0s 18us/sample - loss: 6.2763 - mae: 1.8671 - mse: 6.2763 - val_loss: 6.3591 - val_mae: 1.6494 - val_mse: 6.3591\n",
      "Epoch 32/100\n",
      "3341/3341 [==============================] - 0s 17us/sample - loss: 5.5084 - mae: 1.7052 - mse: 5.5084 - val_loss: 5.5280 - val_mae: 1.7766 - val_mse: 5.5280\n",
      "Epoch 33/100\n",
      "3341/3341 [==============================] - 0s 17us/sample - loss: 5.0622 - mae: 1.6393 - mse: 5.0622 - val_loss: 5.1603 - val_mae: 1.6536 - val_mse: 5.1603\n",
      "Epoch 34/100\n",
      "3341/3341 [==============================] - 0s 20us/sample - loss: 5.3133 - mae: 1.6755 - mse: 5.3133 - val_loss: 21.4657 - val_mae: 4.2684 - val_mse: 21.4657\n",
      "Epoch 35/100\n",
      "3341/3341 [==============================] - 0s 23us/sample - loss: 6.4729 - mae: 1.8209 - mse: 6.4729 - val_loss: 8.6323 - val_mae: 2.0412 - val_mse: 8.6323\n",
      "Epoch 36/100\n",
      "3341/3341 [==============================] - 0s 17us/sample - loss: 5.3387 - mae: 1.6752 - mse: 5.3387 - val_loss: 5.6194 - val_mae: 1.5712 - val_mse: 5.6194\n",
      "Epoch 37/100\n",
      "3341/3341 [==============================] - 0s 15us/sample - loss: 5.0230 - mae: 1.6183 - mse: 5.0230 - val_loss: 5.4372 - val_mae: 1.6195 - val_mse: 5.4372\n",
      "Epoch 38/100\n",
      "3341/3341 [==============================] - 0s 13us/sample - loss: 6.0488 - mae: 1.8215 - mse: 6.0488 - val_loss: 5.1021 - val_mae: 1.6284 - val_mse: 5.1021\n",
      "Epoch 39/100\n",
      "3341/3341 [==============================] - 0s 13us/sample - loss: 4.9802 - mae: 1.6188 - mse: 4.9802 - val_loss: 8.4771 - val_mae: 2.0524 - val_mse: 8.4771\n",
      "Epoch 40/100\n",
      "3341/3341 [==============================] - 0s 12us/sample - loss: 6.1900 - mae: 1.8236 - mse: 6.1900 - val_loss: 5.1458 - val_mae: 1.5903 - val_mse: 5.1458\n",
      "Epoch 41/100\n",
      "3341/3341 [==============================] - 0s 12us/sample - loss: 5.0530 - mae: 1.6321 - mse: 5.0530 - val_loss: 5.6909 - val_mae: 1.5760 - val_mse: 5.6909\n",
      "Epoch 42/100\n",
      "3341/3341 [==============================] - 0s 12us/sample - loss: 4.9915 - mae: 1.6242 - mse: 4.9915 - val_loss: 8.6891 - val_mae: 2.5422 - val_mse: 8.6891\n",
      "Epoch 43/100\n",
      "3341/3341 [==============================] - 0s 12us/sample - loss: 5.7832 - mae: 1.7672 - mse: 5.7832 - val_loss: 9.6792 - val_mae: 2.7198 - val_mse: 9.6792\n",
      "Epoch 44/100\n",
      "3341/3341 [==============================] - 0s 12us/sample - loss: 5.8366 - mae: 1.7556 - mse: 5.8366 - val_loss: 14.6253 - val_mae: 3.4332 - val_mse: 14.6253\n",
      "Epoch 45/100\n",
      "3341/3341 [==============================] - 0s 15us/sample - loss: 6.2989 - mae: 1.8453 - mse: 6.2989 - val_loss: 5.2078 - val_mae: 1.5912 - val_mse: 5.2078\n",
      "Epoch 46/100\n",
      "3341/3341 [==============================] - 0s 13us/sample - loss: 4.8433 - mae: 1.5917 - mse: 4.8433 - val_loss: 5.2018 - val_mae: 1.5364 - val_mse: 5.2018\n",
      "Epoch 47/100\n",
      "3341/3341 [==============================] - 0s 13us/sample - loss: 5.1447 - mae: 1.6499 - mse: 5.1447 - val_loss: 5.7813 - val_mae: 1.9110 - val_mse: 5.7813\n",
      "Epoch 48/100\n",
      "3341/3341 [==============================] - 0s 12us/sample - loss: 5.0765 - mae: 1.6349 - mse: 5.0765 - val_loss: 7.1568 - val_mae: 2.2390 - val_mse: 7.1568\n",
      "Epoch 49/100\n",
      "3341/3341 [==============================] - 0s 12us/sample - loss: 5.1405 - mae: 1.6536 - mse: 5.1405 - val_loss: 4.9422 - val_mae: 1.5444 - val_mse: 4.9422\n",
      "Epoch 50/100\n",
      "3341/3341 [==============================] - 0s 12us/sample - loss: 4.8804 - mae: 1.5990 - mse: 4.8804 - val_loss: 4.8730 - val_mae: 1.5501 - val_mse: 4.8730\n",
      "Epoch 51/100\n",
      "3341/3341 [==============================] - 0s 12us/sample - loss: 4.8055 - mae: 1.5852 - mse: 4.8055 - val_loss: 9.6140 - val_mae: 2.6538 - val_mse: 9.6140\n",
      "Epoch 52/100\n",
      "3341/3341 [==============================] - 0s 12us/sample - loss: 5.6521 - mae: 1.7588 - mse: 5.6521 - val_loss: 5.6331 - val_mae: 1.8592 - val_mse: 5.6331\n",
      "Epoch 53/100\n",
      "3341/3341 [==============================] - 0s 12us/sample - loss: 4.8734 - mae: 1.5985 - mse: 4.8734 - val_loss: 4.8721 - val_mae: 1.5827 - val_mse: 4.8721\n",
      "Epoch 54/100\n",
      "3341/3341 [==============================] - 0s 14us/sample - loss: 4.7135 - mae: 1.5679 - mse: 4.7135 - val_loss: 8.8816 - val_mae: 2.0966 - val_mse: 8.8816\n",
      "Epoch 55/100\n",
      "3341/3341 [==============================] - 0s 14us/sample - loss: 4.9932 - mae: 1.6138 - mse: 4.9932 - val_loss: 5.8576 - val_mae: 1.6108 - val_mse: 5.8576\n",
      "Epoch 56/100\n",
      "3341/3341 [==============================] - 0s 15us/sample - loss: 5.0840 - mae: 1.6472 - mse: 5.0840 - val_loss: 10.5000 - val_mae: 2.3724 - val_mse: 10.5000\n",
      "Epoch 57/100\n",
      "3341/3341 [==============================] - 0s 15us/sample - loss: 5.3313 - mae: 1.6770 - mse: 5.3313 - val_loss: 5.1810 - val_mae: 1.5194 - val_mse: 5.1810\n",
      "Epoch 58/100\n",
      "3341/3341 [==============================] - 0s 15us/sample - loss: 4.8935 - mae: 1.5972 - mse: 4.8935 - val_loss: 5.0295 - val_mae: 1.6721 - val_mse: 5.0295\n",
      "Epoch 59/100\n",
      "3341/3341 [==============================] - 0s 15us/sample - loss: 4.8192 - mae: 1.5909 - mse: 4.8192 - val_loss: 5.2433 - val_mae: 1.7313 - val_mse: 5.2433\n",
      "Epoch 60/100\n",
      "3341/3341 [==============================] - 0s 13us/sample - loss: 4.8291 - mae: 1.5873 - mse: 4.8291 - val_loss: 7.3795 - val_mae: 2.2618 - val_mse: 7.3795\n",
      "Epoch 61/100\n",
      "3341/3341 [==============================] - 0s 15us/sample - loss: 5.0967 - mae: 1.6496 - mse: 5.0967 - val_loss: 4.8345 - val_mae: 1.5114 - val_mse: 4.8345\n",
      "Epoch 62/100\n",
      "3341/3341 [==============================] - 0s 12us/sample - loss: 5.1364 - mae: 1.6424 - mse: 5.1364 - val_loss: 6.1586 - val_mae: 1.7518 - val_mse: 6.1586\n",
      "Epoch 63/100\n",
      "3341/3341 [==============================] - 0s 12us/sample - loss: 5.0912 - mae: 1.6351 - mse: 5.0912 - val_loss: 6.4692 - val_mae: 1.7230 - val_mse: 6.4692\n",
      "Epoch 64/100\n",
      "3341/3341 [==============================] - 0s 12us/sample - loss: 4.8887 - mae: 1.6060 - mse: 4.8887 - val_loss: 5.1361 - val_mae: 1.6906 - val_mse: 5.1361\n",
      "Epoch 65/100\n",
      "3341/3341 [==============================] - 0s 14us/sample - loss: 4.7157 - mae: 1.5635 - mse: 4.7157 - val_loss: 7.0583 - val_mae: 2.2120 - val_mse: 7.0583\n",
      "Epoch 66/100\n",
      "3341/3341 [==============================] - 0s 29us/sample - loss: 5.2815 - mae: 1.6798 - mse: 5.2815 - val_loss: 7.1097 - val_mae: 1.8149 - val_mse: 7.1097\n",
      "Epoch 67/100\n",
      "3341/3341 [==============================] - 0s 35us/sample - loss: 4.8216 - mae: 1.5708 - mse: 4.8216 - val_loss: 5.7068 - val_mae: 1.8750 - val_mse: 5.7068\n",
      "Epoch 68/100\n",
      "3341/3341 [==============================] - 0s 33us/sample - loss: 4.6460 - mae: 1.5520 - mse: 4.6460 - val_loss: 5.6905 - val_mae: 1.6131 - val_mse: 5.6905\n",
      "Epoch 69/100\n",
      "3341/3341 [==============================] - 0s 14us/sample - loss: 4.7817 - mae: 1.5792 - mse: 4.7817 - val_loss: 10.8410 - val_mae: 2.5313 - val_mse: 10.8410\n",
      "Epoch 70/100\n",
      "3341/3341 [==============================] - 0s 12us/sample - loss: 4.9763 - mae: 1.6152 - mse: 4.9763 - val_loss: 5.5868 - val_mae: 1.5564 - val_mse: 5.5868\n",
      "Epoch 71/100\n",
      "3341/3341 [==============================] - 0s 12us/sample - loss: 5.0258 - mae: 1.6168 - mse: 5.0259 - val_loss: 4.8486 - val_mae: 1.6052 - val_mse: 4.8486\n",
      "Epoch 72/100\n",
      "3341/3341 [==============================] - 0s 12us/sample - loss: 4.6697 - mae: 1.5573 - mse: 4.6697 - val_loss: 4.9076 - val_mae: 1.6059 - val_mse: 4.9076\n",
      "Epoch 73/100\n",
      "3341/3341 [==============================] - 0s 13us/sample - loss: 4.8394 - mae: 1.6080 - mse: 4.8394 - val_loss: 5.3563 - val_mae: 1.7749 - val_mse: 5.3563\n",
      "Epoch 74/100\n",
      "3341/3341 [==============================] - 0s 13us/sample - loss: 4.7201 - mae: 1.5692 - mse: 4.7201 - val_loss: 4.7950 - val_mae: 1.5670 - val_mse: 4.7950\n",
      "Epoch 75/100\n",
      "3341/3341 [==============================] - 0s 12us/sample - loss: 4.7228 - mae: 1.5628 - mse: 4.7228 - val_loss: 4.9254 - val_mae: 1.5019 - val_mse: 4.9254\n",
      "Epoch 76/100\n",
      "3341/3341 [==============================] - 0s 12us/sample - loss: 4.9319 - mae: 1.6089 - mse: 4.9319 - val_loss: 4.7994 - val_mae: 1.5128 - val_mse: 4.7994\n",
      "Epoch 77/100\n",
      "3341/3341 [==============================] - 0s 15us/sample - loss: 4.5323 - mae: 1.5305 - mse: 4.5323 - val_loss: 5.4254 - val_mae: 1.5698 - val_mse: 5.4254\n",
      "Epoch 78/100\n",
      "3341/3341 [==============================] - 0s 16us/sample - loss: 5.0390 - mae: 1.6260 - mse: 5.0390 - val_loss: 7.6642 - val_mae: 1.9042 - val_mse: 7.6642\n",
      "Epoch 79/100\n",
      "3341/3341 [==============================] - 0s 19us/sample - loss: 4.9370 - mae: 1.6006 - mse: 4.9370 - val_loss: 11.7185 - val_mae: 3.0009 - val_mse: 11.7185\n",
      "Epoch 80/100\n",
      "3341/3341 [==============================] - 0s 19us/sample - loss: 5.1186 - mae: 1.6495 - mse: 5.1186 - val_loss: 6.2508 - val_mae: 1.6506 - val_mse: 6.2508\n",
      "Epoch 81/100\n",
      "3341/3341 [==============================] - 0s 19us/sample - loss: 4.7704 - mae: 1.5757 - mse: 4.7704 - val_loss: 5.3326 - val_mae: 1.5932 - val_mse: 5.3326\n",
      "Epoch 82/100\n",
      "3341/3341 [==============================] - 0s 18us/sample - loss: 4.6719 - mae: 1.5537 - mse: 4.6719 - val_loss: 7.4937 - val_mae: 1.9461 - val_mse: 7.4937\n",
      "Epoch 83/100\n",
      "3341/3341 [==============================] - 0s 15us/sample - loss: 4.9080 - mae: 1.5984 - mse: 4.9080 - val_loss: 4.8128 - val_mae: 1.5479 - val_mse: 4.8128\n",
      "Epoch 84/100\n",
      "3341/3341 [==============================] - 0s 13us/sample - loss: 4.7801 - mae: 1.5628 - mse: 4.7801 - val_loss: 6.0752 - val_mae: 1.6792 - val_mse: 6.0752\n",
      "Epoch 85/100\n",
      "3341/3341 [==============================] - 0s 12us/sample - loss: 4.6046 - mae: 1.5426 - mse: 4.6046 - val_loss: 4.8476 - val_mae: 1.6160 - val_mse: 4.8476\n",
      "Epoch 86/100\n",
      "3341/3341 [==============================] - 0s 13us/sample - loss: 4.5847 - mae: 1.5406 - mse: 4.5847 - val_loss: 5.5499 - val_mae: 1.5778 - val_mse: 5.5499\n",
      "Epoch 87/100\n",
      "3341/3341 [==============================] - 0s 18us/sample - loss: 4.8063 - mae: 1.5733 - mse: 4.8063 - val_loss: 5.4811 - val_mae: 1.8246 - val_mse: 5.4811\n",
      "Epoch 88/100\n",
      "3341/3341 [==============================] - 0s 33us/sample - loss: 4.6069 - mae: 1.5498 - mse: 4.6069 - val_loss: 6.0025 - val_mae: 1.8649 - val_mse: 6.0025\n",
      "Epoch 89/100\n",
      "3341/3341 [==============================] - 0s 30us/sample - loss: 4.7216 - mae: 1.5677 - mse: 4.7216 - val_loss: 5.6984 - val_mae: 1.8571 - val_mse: 5.6984\n",
      "Epoch 90/100\n",
      "3341/3341 [==============================] - 0s 16us/sample - loss: 4.9421 - mae: 1.5968 - mse: 4.9421 - val_loss: 5.3554 - val_mae: 1.7588 - val_mse: 5.3554\n",
      "Epoch 91/100\n",
      "3341/3341 [==============================] - 0s 14us/sample - loss: 4.8497 - mae: 1.5867 - mse: 4.8497 - val_loss: 4.9838 - val_mae: 1.4859 - val_mse: 4.9838\n",
      "Epoch 92/100\n",
      "3341/3341 [==============================] - 0s 13us/sample - loss: 4.6238 - mae: 1.5379 - mse: 4.6238 - val_loss: 5.1026 - val_mae: 1.6770 - val_mse: 5.1026\n",
      "Epoch 93/100\n",
      "3341/3341 [==============================] - 0s 15us/sample - loss: 4.9584 - mae: 1.6144 - mse: 4.9584 - val_loss: 5.7151 - val_mae: 1.8964 - val_mse: 5.7151\n",
      "Epoch 94/100\n",
      "3341/3341 [==============================] - 0s 14us/sample - loss: 4.6253 - mae: 1.5384 - mse: 4.6253 - val_loss: 4.6896 - val_mae: 1.5189 - val_mse: 4.6896\n"
     ]
    },
    {
     "name": "stdout",
     "output_type": "stream",
     "text": [
      "Epoch 95/100\n",
      "3341/3341 [==============================] - 0s 14us/sample - loss: 4.6812 - mae: 1.5571 - mse: 4.6812 - val_loss: 4.7519 - val_mae: 1.4755 - val_mse: 4.7519\n",
      "Epoch 96/100\n",
      "3341/3341 [==============================] - 0s 13us/sample - loss: 4.6030 - mae: 1.5367 - mse: 4.6030 - val_loss: 5.5923 - val_mae: 1.5791 - val_mse: 5.5923\n",
      "Epoch 97/100\n",
      "3341/3341 [==============================] - 0s 12us/sample - loss: 4.5602 - mae: 1.5260 - mse: 4.5602 - val_loss: 5.4727 - val_mae: 1.5527 - val_mse: 5.4727\n",
      "Epoch 98/100\n",
      "3341/3341 [==============================] - 0s 12us/sample - loss: 4.7217 - mae: 1.5474 - mse: 4.7217 - val_loss: 5.4922 - val_mae: 1.8263 - val_mse: 5.4922\n",
      "Epoch 99/100\n",
      "3341/3341 [==============================] - 0s 12us/sample - loss: 4.6502 - mae: 1.5472 - mse: 4.6502 - val_loss: 4.8456 - val_mae: 1.6037 - val_mse: 4.8456\n",
      "Epoch 100/100\n",
      "3341/3341 [==============================] - 0s 13us/sample - loss: 4.6715 - mae: 1.5642 - mse: 4.6715 - val_loss: 4.6880 - val_mae: 1.4855 - val_mse: 4.6880\n"
     ]
    }
   ],
   "source": [
    "history = model.fit(X_train, y_train, \n",
    "                     epochs=100,\n",
    "                     batch_size=128,\n",
    "                     validation_data=(X_test, y_test),\n",
    "                     verbose = 1\n",
    "                    )"
   ]
  },
  {
   "cell_type": "code",
   "execution_count": 34,
   "metadata": {},
   "outputs": [
    {
     "data": {
      "text/plain": [
       "<matplotlib.legend.Legend at 0x13dc0c890>"
      ]
     },
     "execution_count": 34,
     "metadata": {},
     "output_type": "execute_result"
    },
    {
     "data": {
      "image/png": "[encoded data removed]",
      "text/plain": [
       "<Figure size 432x288 with 1 Axes>"
      ]
     },
     "metadata": {
      "needs_background": "light"
     },
     "output_type": "display_data"
    }
   ],
   "source": [
    "hist = pd.DataFrame(history.history)\n",
    "hist['epoch'] = history.epoch\n",
    "\n",
    "plt.xlabel('Epoch')\n",
    "plt.ylabel('Mean Abs Error [MPG]')\n",
    "plt.plot(hist['epoch'], hist['mae'], label='Train Error')\n",
    "plt.plot(hist['epoch'], hist['val_mae'], label='val Error')\n",
    "plt.ylim(0, 5)\n",
    "plt.legend()"
   ]
  },
  {
   "cell_type": "code",
   "execution_count": 35,
   "metadata": {},
   "outputs": [
    {
     "data": {
      "text/plain": [
       "<matplotlib.legend.Legend at 0x13cbaeed0>"
      ]
     },
     "execution_count": 35,
     "metadata": {},
     "output_type": "execute_result"
    },
    {
     "data": {
      "image/png": "[encoded data removed]",
      "text/plain": [
       "<Figure size 432x288 with 1 Axes>"
      ]
     },
     "metadata": {
      "needs_background": "light"
     },
     "output_type": "display_data"
    }
   ],
   "source": [
    "plt.xlabel('Epoch')\n",
    "plt.ylabel('Mean Square Error [$MPG^2$]')\n",
    "plt.plot(hist['epoch'], hist['mse'], label='Train Error')\n",
    "plt.plot(hist['epoch'], hist['val_mse'], label='val Error')\n",
    "plt.ylim(0, 30)\n",
    "plt.legend()"
   ]
  },
  {
   "cell_type": "code",
   "execution_count": 29,
   "metadata": {
    "scrolled": true
   },
   "outputs": [
    {
     "name": "stdout",
     "output_type": "stream",
     "text": [
      "WARNING:tensorflow:Falling back from v2 loop because of error: Failed to find data adapter that can handle input: <class 'pandas.core.frame.DataFrame'>, <class 'NoneType'>\n",
      "836/836 [==============================] - 0s 41us/sample - loss: 4.8312 - mae: 1.5924 - mse: 4.8312\n"
     ]
    },
    {
     "data": {
      "text/plain": [
       "2.197990440347864"
      ]
     },
     "execution_count": 29,
     "metadata": {},
     "output_type": "execute_result"
    }
   ],
   "source": [
    "loss, mae, mse = model.evaluate(X_test, y_test)\n",
    "mse**0.5"
   ]
  },
  {
   "cell_type": "code",
   "execution_count": null,
   "metadata": {},
   "outputs": [],
   "source": []
  },
  {
   "cell_type": "markdown",
   "metadata": {},
   "source": [
    "## model_3 add layers"
   ]
  },
  {
   "cell_type": "code",
   "execution_count": 36,
   "metadata": {},
   "outputs": [],
   "source": [
    "model = keras.Sequential([\n",
    "    layers.Dense(64, activation='relu', input_shape=[8]),\n",
    "    layers.Dense(128, activation='relu'),\n",
    "    layers.Dense(256, activation='relu'),\n",
    "    layers.Flatten(),\n",
    "    layers.Dense(1)\n",
    "])"
   ]
  },
  {
   "cell_type": "code",
   "execution_count": 37,
   "metadata": {},
   "outputs": [
    {
     "name": "stdout",
     "output_type": "stream",
     "text": [
      "Model: \"sequential_4\"\n",
      "_________________________________________________________________\n",
      "Layer (type)                 Output Shape              Param #   \n",
      "=================================================================\n",
      "dense_12 (Dense)             (None, 64)                576       \n",
      "_________________________________________________________________\n",
      "dense_13 (Dense)             (None, 128)               8320      \n",
      "_________________________________________________________________\n",
      "dense_14 (Dense)             (None, 256)               33024     \n",
      "_________________________________________________________________\n",
      "flatten_1 (Flatten)          (None, 256)               0         \n",
      "_________________________________________________________________\n",
      "dense_15 (Dense)             (None, 1)                 257       \n",
      "=================================================================\n",
      "Total params: 42,177\n",
      "Trainable params: 42,177\n",
      "Non-trainable params: 0\n",
      "_________________________________________________________________\n"
     ]
    }
   ],
   "source": [
    "model.summary()"
   ]
  },
  {
   "cell_type": "code",
   "execution_count": 38,
   "metadata": {},
   "outputs": [],
   "source": [
    "model.compile(optimizer='adam', loss='mse', metrics=['mae', 'mse'])"
   ]
  },
  {
   "cell_type": "code",
   "execution_count": 39,
   "metadata": {},
   "outputs": [
    {
     "name": "stdout",
     "output_type": "stream",
     "text": [
      "WARNING:tensorflow:Falling back from v2 loop because of error: Failed to find data adapter that can handle input: <class 'pandas.core.frame.DataFrame'>, <class 'NoneType'>\n",
      "Train on 3341 samples, validate on 836 samples\n",
      "Epoch 1/100\n",
      "3341/3341 [==============================] - 0s 65us/sample - loss: 64.4274 - mae: 7.0014 - mse: 64.4274 - val_loss: 16.2093 - val_mae: 3.2851 - val_mse: 16.2093\n",
      "Epoch 2/100\n",
      "3341/3341 [==============================] - 0s 28us/sample - loss: 12.1196 - mae: 2.6838 - mse: 12.1196 - val_loss: 9.1314 - val_mae: 2.1077 - val_mse: 9.1314\n",
      "Epoch 3/100\n",
      "3341/3341 [==============================] - 0s 33us/sample - loss: 8.5318 - mae: 2.1312 - mse: 8.5318 - val_loss: 7.7922 - val_mae: 1.9477 - val_mse: 7.7922\n",
      "Epoch 4/100\n",
      "3341/3341 [==============================] - 0s 29us/sample - loss: 7.3377 - mae: 1.9605 - mse: 7.3377 - val_loss: 6.8776 - val_mae: 1.8893 - val_mse: 6.8776\n",
      "Epoch 5/100\n",
      "3341/3341 [==============================] - 0s 31us/sample - loss: 6.5322 - mae: 1.8506 - mse: 6.5322 - val_loss: 6.2992 - val_mae: 1.7820 - val_mse: 6.2992\n",
      "Epoch 6/100\n",
      "3341/3341 [==============================] - 0s 28us/sample - loss: 6.0948 - mae: 1.7921 - mse: 6.0948 - val_loss: 6.0427 - val_mae: 1.6986 - val_mse: 6.0427\n",
      "Epoch 7/100\n",
      "3341/3341 [==============================] - 0s 26us/sample - loss: 5.7727 - mae: 1.7188 - mse: 5.7727 - val_loss: 5.7684 - val_mae: 1.6950 - val_mse: 5.7684\n",
      "Epoch 8/100\n",
      "3341/3341 [==============================] - 0s 25us/sample - loss: 5.5484 - mae: 1.6998 - mse: 5.5484 - val_loss: 5.5828 - val_mae: 1.6530 - val_mse: 5.5828\n",
      "Epoch 9/100\n",
      "3341/3341 [==============================] - 0s 26us/sample - loss: 5.4139 - mae: 1.6672 - mse: 5.4139 - val_loss: 5.6479 - val_mae: 1.5967 - val_mse: 5.6479\n",
      "Epoch 10/100\n",
      "3341/3341 [==============================] - 0s 26us/sample - loss: 5.2979 - mae: 1.6643 - mse: 5.2979 - val_loss: 5.3401 - val_mae: 1.5925 - val_mse: 5.3401\n",
      "Epoch 11/100\n",
      "3341/3341 [==============================] - 0s 29us/sample - loss: 5.1129 - mae: 1.6173 - mse: 5.1129 - val_loss: 5.3096 - val_mae: 1.7056 - val_mse: 5.3096\n",
      "Epoch 12/100\n",
      "3341/3341 [==============================] - 0s 34us/sample - loss: 5.0068 - mae: 1.6079 - mse: 5.0068 - val_loss: 5.1101 - val_mae: 1.6288 - val_mse: 5.1101\n",
      "Epoch 13/100\n",
      "3341/3341 [==============================] - 0s 25us/sample - loss: 4.9213 - mae: 1.6063 - mse: 4.9213 - val_loss: 5.1598 - val_mae: 1.5588 - val_mse: 5.1598\n",
      "Epoch 14/100\n",
      "3341/3341 [==============================] - 0s 24us/sample - loss: 4.9210 - mae: 1.5932 - mse: 4.9210 - val_loss: 4.9862 - val_mae: 1.5278 - val_mse: 4.9862\n",
      "Epoch 15/100\n",
      "3341/3341 [==============================] - 0s 26us/sample - loss: 4.7531 - mae: 1.5671 - mse: 4.7531 - val_loss: 4.8863 - val_mae: 1.5459 - val_mse: 4.8863\n",
      "Epoch 16/100\n",
      "3341/3341 [==============================] - 0s 26us/sample - loss: 4.7240 - mae: 1.5582 - mse: 4.7240 - val_loss: 5.3042 - val_mae: 1.7678 - val_mse: 5.3042\n",
      "Epoch 17/100\n",
      "3341/3341 [==============================] - 0s 27us/sample - loss: 4.8904 - mae: 1.6123 - mse: 4.8904 - val_loss: 5.2431 - val_mae: 1.7461 - val_mse: 5.2431\n",
      "Epoch 18/100\n",
      "3341/3341 [==============================] - 0s 31us/sample - loss: 4.7092 - mae: 1.5657 - mse: 4.7092 - val_loss: 4.7958 - val_mae: 1.5402 - val_mse: 4.7958\n",
      "Epoch 19/100\n",
      "3341/3341 [==============================] - 0s 32us/sample - loss: 4.6399 - mae: 1.5460 - mse: 4.6399 - val_loss: 4.7974 - val_mae: 1.5080 - val_mse: 4.7974\n",
      "Epoch 20/100\n",
      "3341/3341 [==============================] - 0s 29us/sample - loss: 4.5713 - mae: 1.5357 - mse: 4.5713 - val_loss: 4.8754 - val_mae: 1.4962 - val_mse: 4.8754\n",
      "Epoch 21/100\n",
      "3341/3341 [==============================] - 0s 26us/sample - loss: 4.5969 - mae: 1.5343 - mse: 4.5969 - val_loss: 4.7629 - val_mae: 1.5312 - val_mse: 4.7629\n",
      "Epoch 22/100\n",
      "3341/3341 [==============================] - 0s 26us/sample - loss: 4.7593 - mae: 1.5791 - mse: 4.7593 - val_loss: 4.7546 - val_mae: 1.4938 - val_mse: 4.7546\n",
      "Epoch 23/100\n",
      "3341/3341 [==============================] - 0s 27us/sample - loss: 4.5548 - mae: 1.5232 - mse: 4.5548 - val_loss: 4.8258 - val_mae: 1.5905 - val_mse: 4.8258\n",
      "Epoch 24/100\n",
      "3341/3341 [==============================] - 0s 27us/sample - loss: 4.5602 - mae: 1.5345 - mse: 4.5602 - val_loss: 4.7068 - val_mae: 1.5090 - val_mse: 4.7068\n",
      "Epoch 25/100\n",
      "3341/3341 [==============================] - 0s 26us/sample - loss: 4.5191 - mae: 1.5230 - mse: 4.5191 - val_loss: 4.6967 - val_mae: 1.4997 - val_mse: 4.6967\n",
      "Epoch 26/100\n",
      "3341/3341 [==============================] - 0s 26us/sample - loss: 4.5380 - mae: 1.5390 - mse: 4.5380 - val_loss: 4.8286 - val_mae: 1.4859 - val_mse: 4.8286\n",
      "Epoch 27/100\n",
      "3341/3341 [==============================] - 0s 26us/sample - loss: 4.6749 - mae: 1.5680 - mse: 4.6749 - val_loss: 4.8390 - val_mae: 1.5904 - val_mse: 4.8390\n",
      "Epoch 28/100\n",
      "3341/3341 [==============================] - 0s 27us/sample - loss: 4.5475 - mae: 1.5377 - mse: 4.5475 - val_loss: 4.7160 - val_mae: 1.4837 - val_mse: 4.7160\n",
      "Epoch 29/100\n",
      "3341/3341 [==============================] - 0s 26us/sample - loss: 4.4801 - mae: 1.5151 - mse: 4.4801 - val_loss: 4.7430 - val_mae: 1.5525 - val_mse: 4.7430\n",
      "Epoch 30/100\n",
      "3341/3341 [==============================] - 0s 26us/sample - loss: 4.5700 - mae: 1.5477 - mse: 4.5700 - val_loss: 4.7728 - val_mae: 1.4871 - val_mse: 4.7728\n",
      "Epoch 31/100\n",
      "3341/3341 [==============================] - 0s 26us/sample - loss: 4.7031 - mae: 1.5639 - mse: 4.7031 - val_loss: 4.7859 - val_mae: 1.4745 - val_mse: 4.7859\n",
      "Epoch 32/100\n",
      "3341/3341 [==============================] - 0s 25us/sample - loss: 4.5022 - mae: 1.5240 - mse: 4.5022 - val_loss: 4.7016 - val_mae: 1.5341 - val_mse: 4.7016\n",
      "Epoch 33/100\n",
      "3341/3341 [==============================] - 0s 27us/sample - loss: 4.5381 - mae: 1.5367 - mse: 4.5381 - val_loss: 4.6548 - val_mae: 1.5033 - val_mse: 4.6548\n",
      "Epoch 34/100\n",
      "3341/3341 [==============================] - 0s 26us/sample - loss: 4.4241 - mae: 1.5037 - mse: 4.4241 - val_loss: 4.7380 - val_mae: 1.5576 - val_mse: 4.7380\n",
      "Epoch 35/100\n",
      "3341/3341 [==============================] - 0s 27us/sample - loss: 4.4417 - mae: 1.5129 - mse: 4.4417 - val_loss: 4.6913 - val_mae: 1.4842 - val_mse: 4.6913\n",
      "Epoch 36/100\n",
      "3341/3341 [==============================] - 0s 21us/sample - loss: 4.4252 - mae: 1.5065 - mse: 4.4252 - val_loss: 4.9371 - val_mae: 1.4947 - val_mse: 4.9371\n",
      "Epoch 37/100\n",
      "3341/3341 [==============================] - 0s 20us/sample - loss: 4.5157 - mae: 1.5206 - mse: 4.5157 - val_loss: 4.6432 - val_mae: 1.5030 - val_mse: 4.6432\n",
      "Epoch 38/100\n",
      "3341/3341 [==============================] - 0s 21us/sample - loss: 4.4128 - mae: 1.5113 - mse: 4.4128 - val_loss: 4.6286 - val_mae: 1.4936 - val_mse: 4.6286\n",
      "Epoch 39/100\n",
      "3341/3341 [==============================] - 0s 20us/sample - loss: 4.4656 - mae: 1.5133 - mse: 4.4656 - val_loss: 4.9599 - val_mae: 1.4956 - val_mse: 4.9599\n",
      "Epoch 40/100\n",
      "3341/3341 [==============================] - 0s 21us/sample - loss: 4.5068 - mae: 1.5142 - mse: 4.5068 - val_loss: 4.7649 - val_mae: 1.5738 - val_mse: 4.7649\n",
      "Epoch 41/100\n",
      "3341/3341 [==============================] - 0s 20us/sample - loss: 4.4296 - mae: 1.5151 - mse: 4.4296 - val_loss: 4.6139 - val_mae: 1.4820 - val_mse: 4.6139\n",
      "Epoch 42/100\n",
      "3341/3341 [==============================] - 0s 19us/sample - loss: 4.3921 - mae: 1.4986 - mse: 4.3921 - val_loss: 4.6283 - val_mae: 1.5013 - val_mse: 4.6283\n",
      "Epoch 43/100\n",
      "3341/3341 [==============================] - 0s 20us/sample - loss: 4.4042 - mae: 1.5069 - mse: 4.4042 - val_loss: 4.8023 - val_mae: 1.4877 - val_mse: 4.8023\n",
      "Epoch 44/100\n",
      "3341/3341 [==============================] - 0s 20us/sample - loss: 4.5029 - mae: 1.5152 - mse: 4.5029 - val_loss: 4.6978 - val_mae: 1.5555 - val_mse: 4.6978\n",
      "Epoch 45/100\n",
      "3341/3341 [==============================] - 0s 20us/sample - loss: 4.6464 - mae: 1.5617 - mse: 4.6464 - val_loss: 4.6081 - val_mae: 1.5053 - val_mse: 4.6081\n",
      "Epoch 46/100\n",
      "3341/3341 [==============================] - 0s 18us/sample - loss: 4.3954 - mae: 1.4916 - mse: 4.3954 - val_loss: 4.6210 - val_mae: 1.4749 - val_mse: 4.6210\n",
      "Epoch 47/100\n",
      "3341/3341 [==============================] - 0s 21us/sample - loss: 4.3811 - mae: 1.4995 - mse: 4.3811 - val_loss: 4.6037 - val_mae: 1.5037 - val_mse: 4.6037\n"
     ]
    },
    {
     "name": "stdout",
     "output_type": "stream",
     "text": [
      "Epoch 48/100\n",
      "3341/3341 [==============================] - 0s 21us/sample - loss: 4.3815 - mae: 1.5012 - mse: 4.3815 - val_loss: 4.6242 - val_mae: 1.4724 - val_mse: 4.6242\n",
      "Epoch 49/100\n",
      "3341/3341 [==============================] - 0s 20us/sample - loss: 4.3401 - mae: 1.4860 - mse: 4.3401 - val_loss: 4.7508 - val_mae: 1.5860 - val_mse: 4.7508\n",
      "Epoch 50/100\n",
      "3341/3341 [==============================] - 0s 19us/sample - loss: 4.4813 - mae: 1.5441 - mse: 4.4813 - val_loss: 4.5889 - val_mae: 1.4664 - val_mse: 4.5889\n",
      "Epoch 51/100\n",
      "3341/3341 [==============================] - 0s 19us/sample - loss: 4.3957 - mae: 1.5025 - mse: 4.3957 - val_loss: 4.7680 - val_mae: 1.4778 - val_mse: 4.7680\n",
      "Epoch 52/100\n",
      "3341/3341 [==============================] - 0s 21us/sample - loss: 4.3764 - mae: 1.4930 - mse: 4.3764 - val_loss: 4.5915 - val_mae: 1.4742 - val_mse: 4.5915\n",
      "Epoch 53/100\n",
      "3341/3341 [==============================] - 0s 20us/sample - loss: 4.3163 - mae: 1.4830 - mse: 4.3163 - val_loss: 4.5632 - val_mae: 1.4814 - val_mse: 4.5632\n",
      "Epoch 54/100\n",
      "3341/3341 [==============================] - 0s 19us/sample - loss: 4.3347 - mae: 1.4930 - mse: 4.3347 - val_loss: 4.9090 - val_mae: 1.4942 - val_mse: 4.9090\n",
      "Epoch 55/100\n",
      "3341/3341 [==============================] - 0s 20us/sample - loss: 4.4858 - mae: 1.5145 - mse: 4.4858 - val_loss: 4.6096 - val_mae: 1.5181 - val_mse: 4.6096\n",
      "Epoch 56/100\n",
      "3341/3341 [==============================] - 0s 19us/sample - loss: 4.3719 - mae: 1.4976 - mse: 4.3719 - val_loss: 4.5979 - val_mae: 1.4895 - val_mse: 4.5979\n",
      "Epoch 57/100\n",
      "3341/3341 [==============================] - 0s 20us/sample - loss: 4.2907 - mae: 1.4752 - mse: 4.2907 - val_loss: 4.6622 - val_mae: 1.5438 - val_mse: 4.6622\n",
      "Epoch 58/100\n",
      "3341/3341 [==============================] - 0s 19us/sample - loss: 4.3733 - mae: 1.4878 - mse: 4.3733 - val_loss: 4.6454 - val_mae: 1.5365 - val_mse: 4.6454\n",
      "Epoch 59/100\n",
      "3341/3341 [==============================] - 0s 19us/sample - loss: 4.3597 - mae: 1.4994 - mse: 4.3597 - val_loss: 4.6460 - val_mae: 1.4583 - val_mse: 4.6460\n",
      "Epoch 60/100\n",
      "3341/3341 [==============================] - 0s 20us/sample - loss: 4.3206 - mae: 1.4787 - mse: 4.3206 - val_loss: 4.6055 - val_mae: 1.5148 - val_mse: 4.6055\n",
      "Epoch 61/100\n",
      "3341/3341 [==============================] - 0s 31us/sample - loss: 4.4817 - mae: 1.5129 - mse: 4.4817 - val_loss: 4.9060 - val_mae: 1.6346 - val_mse: 4.9060\n",
      "Epoch 62/100\n",
      "3341/3341 [==============================] - 0s 26us/sample - loss: 4.6246 - mae: 1.5685 - mse: 4.6246 - val_loss: 4.5767 - val_mae: 1.5087 - val_mse: 4.5767\n",
      "Epoch 63/100\n",
      "3341/3341 [==============================] - 0s 26us/sample - loss: 4.3434 - mae: 1.4870 - mse: 4.3434 - val_loss: 4.5663 - val_mae: 1.4912 - val_mse: 4.5663\n",
      "Epoch 64/100\n",
      "3341/3341 [==============================] - 0s 26us/sample - loss: 4.3184 - mae: 1.4902 - mse: 4.3184 - val_loss: 4.6892 - val_mae: 1.4601 - val_mse: 4.6892\n",
      "Epoch 65/100\n",
      "3341/3341 [==============================] - 0s 25us/sample - loss: 4.4249 - mae: 1.4971 - mse: 4.4249 - val_loss: 4.5853 - val_mae: 1.4888 - val_mse: 4.5853\n",
      "Epoch 66/100\n",
      "3341/3341 [==============================] - 0s 25us/sample - loss: 4.4592 - mae: 1.5182 - mse: 4.4592 - val_loss: 4.7538 - val_mae: 1.4783 - val_mse: 4.7538\n",
      "Epoch 67/100\n",
      "3341/3341 [==============================] - 0s 21us/sample - loss: 4.3477 - mae: 1.4958 - mse: 4.3477 - val_loss: 4.7422 - val_mae: 1.5454 - val_mse: 4.7422\n",
      "Epoch 68/100\n",
      "3341/3341 [==============================] - 0s 20us/sample - loss: 4.3882 - mae: 1.5039 - mse: 4.3882 - val_loss: 4.5547 - val_mae: 1.4686 - val_mse: 4.5547\n",
      "Epoch 69/100\n",
      "3341/3341 [==============================] - 0s 23us/sample - loss: 4.3673 - mae: 1.4845 - mse: 4.3673 - val_loss: 4.5617 - val_mae: 1.5020 - val_mse: 4.5617\n",
      "Epoch 70/100\n",
      "3341/3341 [==============================] - 0s 47us/sample - loss: 4.3425 - mae: 1.4943 - mse: 4.3425 - val_loss: 4.5731 - val_mae: 1.4551 - val_mse: 4.5731\n",
      "Epoch 71/100\n",
      "3341/3341 [==============================] - 0s 53us/sample - loss: 4.2909 - mae: 1.4716 - mse: 4.2909 - val_loss: 4.5766 - val_mae: 1.4596 - val_mse: 4.5766\n",
      "Epoch 72/100\n",
      "3341/3341 [==============================] - 0s 26us/sample - loss: 4.3095 - mae: 1.4812 - mse: 4.3095 - val_loss: 4.5294 - val_mae: 1.4657 - val_mse: 4.5294\n",
      "Epoch 73/100\n",
      "3341/3341 [==============================] - 0s 23us/sample - loss: 4.3105 - mae: 1.4697 - mse: 4.3105 - val_loss: 4.5472 - val_mae: 1.4636 - val_mse: 4.5472\n",
      "Epoch 74/100\n",
      "3341/3341 [==============================] - 0s 22us/sample - loss: 4.3056 - mae: 1.4859 - mse: 4.3056 - val_loss: 4.6601 - val_mae: 1.4567 - val_mse: 4.6601\n",
      "Epoch 75/100\n",
      "3341/3341 [==============================] - 0s 22us/sample - loss: 4.2779 - mae: 1.4739 - mse: 4.2779 - val_loss: 4.5816 - val_mae: 1.4506 - val_mse: 4.5816\n",
      "Epoch 76/100\n",
      "3341/3341 [==============================] - 0s 22us/sample - loss: 4.2619 - mae: 1.4819 - mse: 4.2619 - val_loss: 4.6026 - val_mae: 1.4583 - val_mse: 4.6026\n",
      "Epoch 77/100\n",
      "3341/3341 [==============================] - 0s 22us/sample - loss: 4.3823 - mae: 1.4932 - mse: 4.3823 - val_loss: 4.6493 - val_mae: 1.5488 - val_mse: 4.6493\n",
      "Epoch 78/100\n",
      "3341/3341 [==============================] - 0s 28us/sample - loss: 4.2939 - mae: 1.4792 - mse: 4.2939 - val_loss: 4.6313 - val_mae: 1.5202 - val_mse: 4.6313\n",
      "Epoch 79/100\n",
      "3341/3341 [==============================] - 0s 33us/sample - loss: 4.2440 - mae: 1.4670 - mse: 4.2440 - val_loss: 4.7874 - val_mae: 1.4698 - val_mse: 4.7874\n",
      "Epoch 80/100\n",
      "3341/3341 [==============================] - 0s 30us/sample - loss: 4.2830 - mae: 1.4726 - mse: 4.2830 - val_loss: 4.5547 - val_mae: 1.4523 - val_mse: 4.5547\n",
      "Epoch 81/100\n",
      "3341/3341 [==============================] - 0s 29us/sample - loss: 4.2511 - mae: 1.4676 - mse: 4.2511 - val_loss: 4.6049 - val_mae: 1.5347 - val_mse: 4.6049\n",
      "Epoch 82/100\n",
      "3341/3341 [==============================] - 0s 23us/sample - loss: 4.3224 - mae: 1.4824 - mse: 4.3224 - val_loss: 4.5294 - val_mae: 1.4992 - val_mse: 4.5294\n",
      "Epoch 83/100\n",
      "3341/3341 [==============================] - 0s 24us/sample - loss: 4.3306 - mae: 1.4921 - mse: 4.3306 - val_loss: 4.6761 - val_mae: 1.4660 - val_mse: 4.6761\n",
      "Epoch 84/100\n",
      "3341/3341 [==============================] - 0s 23us/sample - loss: 4.2552 - mae: 1.4733 - mse: 4.2552 - val_loss: 4.5755 - val_mae: 1.4523 - val_mse: 4.5755\n",
      "Epoch 85/100\n",
      "3341/3341 [==============================] - 0s 22us/sample - loss: 4.2727 - mae: 1.4684 - mse: 4.2727 - val_loss: 4.4889 - val_mae: 1.4642 - val_mse: 4.4889\n",
      "Epoch 86/100\n",
      "3341/3341 [==============================] - 0s 23us/sample - loss: 4.3080 - mae: 1.4758 - mse: 4.3080 - val_loss: 4.6709 - val_mae: 1.5486 - val_mse: 4.6709\n",
      "Epoch 87/100\n",
      "3341/3341 [==============================] - 0s 26us/sample - loss: 4.2778 - mae: 1.4737 - mse: 4.2778 - val_loss: 4.5445 - val_mae: 1.4571 - val_mse: 4.5445\n",
      "Epoch 88/100\n",
      "3341/3341 [==============================] - 0s 29us/sample - loss: 4.2693 - mae: 1.4734 - mse: 4.2693 - val_loss: 4.5537 - val_mae: 1.4536 - val_mse: 4.5537\n",
      "Epoch 89/100\n",
      "3341/3341 [==============================] - 0s 29us/sample - loss: 4.2697 - mae: 1.4696 - mse: 4.2697 - val_loss: 4.5297 - val_mae: 1.4866 - val_mse: 4.5297\n",
      "Epoch 90/100\n",
      "3341/3341 [==============================] - 0s 29us/sample - loss: 4.3501 - mae: 1.4930 - mse: 4.3501 - val_loss: 4.4792 - val_mae: 1.4697 - val_mse: 4.4792\n",
      "Epoch 91/100\n",
      "3341/3341 [==============================] - 0s 27us/sample - loss: 4.2894 - mae: 1.4723 - mse: 4.2894 - val_loss: 4.5933 - val_mae: 1.5328 - val_mse: 4.5933\n",
      "Epoch 92/100\n",
      "3341/3341 [==============================] - 0s 23us/sample - loss: 4.2669 - mae: 1.4760 - mse: 4.2669 - val_loss: 4.5179 - val_mae: 1.4975 - val_mse: 4.5179\n",
      "Epoch 93/100\n",
      "3341/3341 [==============================] - 0s 23us/sample - loss: 4.3313 - mae: 1.4767 - mse: 4.3313 - val_loss: 4.7643 - val_mae: 1.5881 - val_mse: 4.7643\n",
      "Epoch 94/100\n",
      "3341/3341 [==============================] - 0s 24us/sample - loss: 4.4342 - mae: 1.5076 - mse: 4.4342 - val_loss: 4.4848 - val_mae: 1.4701 - val_mse: 4.4848\n",
      "Epoch 95/100\n",
      "3341/3341 [==============================] - 0s 24us/sample - loss: 4.3388 - mae: 1.4813 - mse: 4.3388 - val_loss: 4.5261 - val_mae: 1.4530 - val_mse: 4.5261\n"
     ]
    },
    {
     "name": "stdout",
     "output_type": "stream",
     "text": [
      "Epoch 96/100\n",
      "3341/3341 [==============================] - 0s 23us/sample - loss: 4.2417 - mae: 1.4714 - mse: 4.2417 - val_loss: 4.5000 - val_mae: 1.4560 - val_mse: 4.5000\n",
      "Epoch 97/100\n",
      "3341/3341 [==============================] - 0s 21us/sample - loss: 4.2332 - mae: 1.4667 - mse: 4.2332 - val_loss: 4.4953 - val_mae: 1.4695 - val_mse: 4.4953\n",
      "Epoch 98/100\n",
      "3341/3341 [==============================] - 0s 23us/sample - loss: 4.2375 - mae: 1.4705 - mse: 4.2375 - val_loss: 4.5814 - val_mae: 1.4556 - val_mse: 4.5814\n",
      "Epoch 99/100\n",
      "3341/3341 [==============================] - 0s 23us/sample - loss: 4.2287 - mae: 1.4629 - mse: 4.2287 - val_loss: 4.6760 - val_mae: 1.5672 - val_mse: 4.6760\n",
      "Epoch 100/100\n",
      "3341/3341 [==============================] - 0s 23us/sample - loss: 4.3458 - mae: 1.4958 - mse: 4.3458 - val_loss: 4.7262 - val_mae: 1.4613 - val_mse: 4.7262\n"
     ]
    }
   ],
   "source": [
    "history = model.fit(X_train, y_train, \n",
    "                     epochs=100,\n",
    "                     batch_size=128,\n",
    "                     validation_data=(X_test, y_test),\n",
    "                     verbose = 1\n",
    "                    )"
   ]
  },
  {
   "cell_type": "code",
   "execution_count": 40,
   "metadata": {},
   "outputs": [
    {
     "data": {
      "text/plain": [
       "<matplotlib.legend.Legend at 0x117c9fdd0>"
      ]
     },
     "execution_count": 40,
     "metadata": {},
     "output_type": "execute_result"
    },
    {
     "data": {
      "image/png": "[encoded data removed]",
      "text/plain": [
       "<Figure size 432x288 with 1 Axes>"
      ]
     },
     "metadata": {
      "needs_background": "light"
     },
     "output_type": "display_data"
    }
   ],
   "source": [
    "hist = pd.DataFrame(history.history)\n",
    "hist['epoch'] = history.epoch\n",
    "\n",
    "plt.xlabel('Epoch')\n",
    "plt.ylabel('Mean Abs Error [MPG]')\n",
    "plt.plot(hist['epoch'], hist['mae'], label='Train Error')\n",
    "plt.plot(hist['epoch'], hist['val_mae'], label='val Error')\n",
    "plt.ylim(0, 5)\n",
    "plt.legend()"
   ]
  },
  {
   "cell_type": "code",
   "execution_count": 41,
   "metadata": {},
   "outputs": [
    {
     "data": {
      "text/plain": [
       "<matplotlib.legend.Legend at 0x117dee590>"
      ]
     },
     "execution_count": 41,
     "metadata": {},
     "output_type": "execute_result"
    },
    {
     "data": {
      "image/png": "[encoded data removed]",
      "text/plain": [
       "<Figure size 432x288 with 1 Axes>"
      ]
     },
     "metadata": {
      "needs_background": "light"
     },
     "output_type": "display_data"
    }
   ],
   "source": [
    "plt.xlabel('Epoch')\n",
    "plt.ylabel('Mean Square Error [$MPG^2$]')\n",
    "plt.plot(hist['epoch'], hist['mse'], label='Train Error')\n",
    "plt.plot(hist['epoch'], hist['val_mse'], label='val Error')\n",
    "plt.ylim(0, 30)\n",
    "plt.legend()"
   ]
  },
  {
   "cell_type": "code",
   "execution_count": 42,
   "metadata": {
    "scrolled": true
   },
   "outputs": [
    {
     "name": "stdout",
     "output_type": "stream",
     "text": [
      "WARNING:tensorflow:Falling back from v2 loop because of error: Failed to find data adapter that can handle input: <class 'pandas.core.frame.DataFrame'>, <class 'NoneType'>\n",
      "836/836 [==============================] - 0s 48us/sample - loss: 4.7262 - mae: 1.4613 - mse: 4.7262\n"
     ]
    },
    {
     "data": {
      "text/plain": [
       "[4.7262160994789815, 1.4613353, 4.7262163]"
      ]
     },
     "execution_count": 42,
     "metadata": {},
     "output_type": "execute_result"
    }
   ],
   "source": [
    "score = model.evaluate(X_test, y_test)\n",
    "score"
   ]
  },
  {
   "cell_type": "code",
   "execution_count": null,
   "metadata": {},
   "outputs": [],
   "source": []
  },
  {
   "cell_type": "markdown",
   "metadata": {},
   "source": [
    "## model_4 data one hot encoding"
   ]
  },
  {
   "cell_type": "markdown",
   "metadata": {},
   "source": [
    "### data one-hot encoding"
   ]
  },
  {
   "cell_type": "code",
   "execution_count": 64,
   "metadata": {},
   "outputs": [],
   "source": [
    "column_name = [\"Sex\", \"Length\" ,\"Diameter\" ,\"Height\" ,\"WholeWeight\" ,\"ShuckedWeight\", \"VisceraWeight\", \"Shell weight\", \"Rings\"]"
   ]
  },
  {
   "cell_type": "code",
   "execution_count": 65,
   "metadata": {},
   "outputs": [
    {
     "data": {
      "text/html": [
       "<div>\n",
       "<style scoped>\n",
       "    .dataframe tbody tr th:only-of-type {\n",
       "        vertical-align: middle;\n",
       "    }\n",
       "\n",
       "    .dataframe tbody tr th {\n",
       "        vertical-align: top;\n",
       "    }\n",
       "\n",
       "    .dataframe thead th {\n",
       "        text-align: right;\n",
       "    }\n",
       "</style>\n",
       "<table border=\"1\" class=\"dataframe\">\n",
       "  <thead>\n",
       "    <tr style=\"text-align: right;\">\n",
       "      <th></th>\n",
       "      <th>Sex</th>\n",
       "      <th>Length</th>\n",
       "      <th>Diameter</th>\n",
       "      <th>Height</th>\n",
       "      <th>WholeWeight</th>\n",
       "      <th>ShuckedWeight</th>\n",
       "      <th>VisceraWeight</th>\n",
       "      <th>Shell weight</th>\n",
       "      <th>Rings</th>\n",
       "    </tr>\n",
       "  </thead>\n",
       "  <tbody>\n",
       "    <tr>\n",
       "      <th>0</th>\n",
       "      <td>M</td>\n",
       "      <td>0.455</td>\n",
       "      <td>0.365</td>\n",
       "      <td>0.095</td>\n",
       "      <td>0.5140</td>\n",
       "      <td>0.2245</td>\n",
       "      <td>0.1010</td>\n",
       "      <td>0.150</td>\n",
       "      <td>15</td>\n",
       "    </tr>\n",
       "    <tr>\n",
       "      <th>1</th>\n",
       "      <td>M</td>\n",
       "      <td>0.350</td>\n",
       "      <td>0.265</td>\n",
       "      <td>0.090</td>\n",
       "      <td>0.2255</td>\n",
       "      <td>0.0995</td>\n",
       "      <td>0.0485</td>\n",
       "      <td>0.070</td>\n",
       "      <td>7</td>\n",
       "    </tr>\n",
       "    <tr>\n",
       "      <th>2</th>\n",
       "      <td>F</td>\n",
       "      <td>0.530</td>\n",
       "      <td>0.420</td>\n",
       "      <td>0.135</td>\n",
       "      <td>0.6770</td>\n",
       "      <td>0.2565</td>\n",
       "      <td>0.1415</td>\n",
       "      <td>0.210</td>\n",
       "      <td>9</td>\n",
       "    </tr>\n",
       "    <tr>\n",
       "      <th>3</th>\n",
       "      <td>M</td>\n",
       "      <td>0.440</td>\n",
       "      <td>0.365</td>\n",
       "      <td>0.125</td>\n",
       "      <td>0.5160</td>\n",
       "      <td>0.2155</td>\n",
       "      <td>0.1140</td>\n",
       "      <td>0.155</td>\n",
       "      <td>10</td>\n",
       "    </tr>\n",
       "    <tr>\n",
       "      <th>4</th>\n",
       "      <td>I</td>\n",
       "      <td>0.330</td>\n",
       "      <td>0.255</td>\n",
       "      <td>0.080</td>\n",
       "      <td>0.2050</td>\n",
       "      <td>0.0895</td>\n",
       "      <td>0.0395</td>\n",
       "      <td>0.055</td>\n",
       "      <td>7</td>\n",
       "    </tr>\n",
       "  </tbody>\n",
       "</table>\n",
       "</div>"
      ],
      "text/plain": [
       "  Sex  Length  Diameter  Height  WholeWeight  ShuckedWeight  VisceraWeight  \\\n",
       "0   M   0.455     0.365   0.095       0.5140         0.2245         0.1010   \n",
       "1   M   0.350     0.265   0.090       0.2255         0.0995         0.0485   \n",
       "2   F   0.530     0.420   0.135       0.6770         0.2565         0.1415   \n",
       "3   M   0.440     0.365   0.125       0.5160         0.2155         0.1140   \n",
       "4   I   0.330     0.255   0.080       0.2050         0.0895         0.0395   \n",
       "\n",
       "   Shell weight  Rings  \n",
       "0         0.150     15  \n",
       "1         0.070      7  \n",
       "2         0.210      9  \n",
       "3         0.155     10  \n",
       "4         0.055      7  "
      ]
     },
     "execution_count": 65,
     "metadata": {},
     "output_type": "execute_result"
    }
   ],
   "source": [
    "data = pd.read_csv('abalone.data', names = column_name)\n",
    "data.head()"
   ]
  },
  {
   "cell_type": "code",
   "execution_count": 66,
   "metadata": {},
   "outputs": [],
   "source": [
    "from sklearn.preprocessing import OneHotEncoder"
   ]
  },
  {
   "cell_type": "code",
   "execution_count": 67,
   "metadata": {},
   "outputs": [],
   "source": [
    "encoder = OneHotEncoder()\n",
    "data_sex_1hot = encoder.fit_transform(data_sex_encoded.reshape(-1, 1))"
   ]
  },
  {
   "cell_type": "code",
   "execution_count": 74,
   "metadata": {
    "scrolled": true
   },
   "outputs": [
    {
     "data": {
      "text/html": [
       "<div>\n",
       "<style scoped>\n",
       "    .dataframe tbody tr th:only-of-type {\n",
       "        vertical-align: middle;\n",
       "    }\n",
       "\n",
       "    .dataframe tbody tr th {\n",
       "        vertical-align: top;\n",
       "    }\n",
       "\n",
       "    .dataframe thead th {\n",
       "        text-align: right;\n",
       "    }\n",
       "</style>\n",
       "<table border=\"1\" class=\"dataframe\">\n",
       "  <thead>\n",
       "    <tr style=\"text-align: right;\">\n",
       "      <th></th>\n",
       "      <th>Length</th>\n",
       "      <th>Diameter</th>\n",
       "      <th>Height</th>\n",
       "      <th>WholeWeight</th>\n",
       "      <th>ShuckedWeight</th>\n",
       "      <th>VisceraWeight</th>\n",
       "      <th>Shell weight</th>\n",
       "      <th>Rings</th>\n",
       "      <th>Sex_F</th>\n",
       "      <th>Sex_I</th>\n",
       "      <th>Sex_M</th>\n",
       "    </tr>\n",
       "  </thead>\n",
       "  <tbody>\n",
       "    <tr>\n",
       "      <th>0</th>\n",
       "      <td>0.455</td>\n",
       "      <td>0.365</td>\n",
       "      <td>0.095</td>\n",
       "      <td>0.5140</td>\n",
       "      <td>0.2245</td>\n",
       "      <td>0.1010</td>\n",
       "      <td>0.1500</td>\n",
       "      <td>15</td>\n",
       "      <td>0</td>\n",
       "      <td>0</td>\n",
       "      <td>1</td>\n",
       "    </tr>\n",
       "    <tr>\n",
       "      <th>1</th>\n",
       "      <td>0.350</td>\n",
       "      <td>0.265</td>\n",
       "      <td>0.090</td>\n",
       "      <td>0.2255</td>\n",
       "      <td>0.0995</td>\n",
       "      <td>0.0485</td>\n",
       "      <td>0.0700</td>\n",
       "      <td>7</td>\n",
       "      <td>0</td>\n",
       "      <td>0</td>\n",
       "      <td>1</td>\n",
       "    </tr>\n",
       "    <tr>\n",
       "      <th>2</th>\n",
       "      <td>0.530</td>\n",
       "      <td>0.420</td>\n",
       "      <td>0.135</td>\n",
       "      <td>0.6770</td>\n",
       "      <td>0.2565</td>\n",
       "      <td>0.1415</td>\n",
       "      <td>0.2100</td>\n",
       "      <td>9</td>\n",
       "      <td>1</td>\n",
       "      <td>0</td>\n",
       "      <td>0</td>\n",
       "    </tr>\n",
       "    <tr>\n",
       "      <th>3</th>\n",
       "      <td>0.440</td>\n",
       "      <td>0.365</td>\n",
       "      <td>0.125</td>\n",
       "      <td>0.5160</td>\n",
       "      <td>0.2155</td>\n",
       "      <td>0.1140</td>\n",
       "      <td>0.1550</td>\n",
       "      <td>10</td>\n",
       "      <td>0</td>\n",
       "      <td>0</td>\n",
       "      <td>1</td>\n",
       "    </tr>\n",
       "    <tr>\n",
       "      <th>4</th>\n",
       "      <td>0.330</td>\n",
       "      <td>0.255</td>\n",
       "      <td>0.080</td>\n",
       "      <td>0.2050</td>\n",
       "      <td>0.0895</td>\n",
       "      <td>0.0395</td>\n",
       "      <td>0.0550</td>\n",
       "      <td>7</td>\n",
       "      <td>0</td>\n",
       "      <td>1</td>\n",
       "      <td>0</td>\n",
       "    </tr>\n",
       "    <tr>\n",
       "      <th>...</th>\n",
       "      <td>...</td>\n",
       "      <td>...</td>\n",
       "      <td>...</td>\n",
       "      <td>...</td>\n",
       "      <td>...</td>\n",
       "      <td>...</td>\n",
       "      <td>...</td>\n",
       "      <td>...</td>\n",
       "      <td>...</td>\n",
       "      <td>...</td>\n",
       "      <td>...</td>\n",
       "    </tr>\n",
       "    <tr>\n",
       "      <th>4172</th>\n",
       "      <td>0.565</td>\n",
       "      <td>0.450</td>\n",
       "      <td>0.165</td>\n",
       "      <td>0.8870</td>\n",
       "      <td>0.3700</td>\n",
       "      <td>0.2390</td>\n",
       "      <td>0.2490</td>\n",
       "      <td>11</td>\n",
       "      <td>1</td>\n",
       "      <td>0</td>\n",
       "      <td>0</td>\n",
       "    </tr>\n",
       "    <tr>\n",
       "      <th>4173</th>\n",
       "      <td>0.590</td>\n",
       "      <td>0.440</td>\n",
       "      <td>0.135</td>\n",
       "      <td>0.9660</td>\n",
       "      <td>0.4390</td>\n",
       "      <td>0.2145</td>\n",
       "      <td>0.2605</td>\n",
       "      <td>10</td>\n",
       "      <td>0</td>\n",
       "      <td>0</td>\n",
       "      <td>1</td>\n",
       "    </tr>\n",
       "    <tr>\n",
       "      <th>4174</th>\n",
       "      <td>0.600</td>\n",
       "      <td>0.475</td>\n",
       "      <td>0.205</td>\n",
       "      <td>1.1760</td>\n",
       "      <td>0.5255</td>\n",
       "      <td>0.2875</td>\n",
       "      <td>0.3080</td>\n",
       "      <td>9</td>\n",
       "      <td>0</td>\n",
       "      <td>0</td>\n",
       "      <td>1</td>\n",
       "    </tr>\n",
       "    <tr>\n",
       "      <th>4175</th>\n",
       "      <td>0.625</td>\n",
       "      <td>0.485</td>\n",
       "      <td>0.150</td>\n",
       "      <td>1.0945</td>\n",
       "      <td>0.5310</td>\n",
       "      <td>0.2610</td>\n",
       "      <td>0.2960</td>\n",
       "      <td>10</td>\n",
       "      <td>1</td>\n",
       "      <td>0</td>\n",
       "      <td>0</td>\n",
       "    </tr>\n",
       "    <tr>\n",
       "      <th>4176</th>\n",
       "      <td>0.710</td>\n",
       "      <td>0.555</td>\n",
       "      <td>0.195</td>\n",
       "      <td>1.9485</td>\n",
       "      <td>0.9455</td>\n",
       "      <td>0.3765</td>\n",
       "      <td>0.4950</td>\n",
       "      <td>12</td>\n",
       "      <td>0</td>\n",
       "      <td>0</td>\n",
       "      <td>1</td>\n",
       "    </tr>\n",
       "  </tbody>\n",
       "</table>\n",
       "<p>4177 rows × 11 columns</p>\n",
       "</div>"
      ],
      "text/plain": [
       "      Length  Diameter  Height  WholeWeight  ShuckedWeight  VisceraWeight  \\\n",
       "0      0.455     0.365   0.095       0.5140         0.2245         0.1010   \n",
       "1      0.350     0.265   0.090       0.2255         0.0995         0.0485   \n",
       "2      0.530     0.420   0.135       0.6770         0.2565         0.1415   \n",
       "3      0.440     0.365   0.125       0.5160         0.2155         0.1140   \n",
       "4      0.330     0.255   0.080       0.2050         0.0895         0.0395   \n",
       "...      ...       ...     ...          ...            ...            ...   \n",
       "4172   0.565     0.450   0.165       0.8870         0.3700         0.2390   \n",
       "4173   0.590     0.440   0.135       0.9660         0.4390         0.2145   \n",
       "4174   0.600     0.475   0.205       1.1760         0.5255         0.2875   \n",
       "4175   0.625     0.485   0.150       1.0945         0.5310         0.2610   \n",
       "4176   0.710     0.555   0.195       1.9485         0.9455         0.3765   \n",
       "\n",
       "      Shell weight  Rings  Sex_F  Sex_I  Sex_M  \n",
       "0           0.1500     15      0      0      1  \n",
       "1           0.0700      7      0      0      1  \n",
       "2           0.2100      9      1      0      0  \n",
       "3           0.1550     10      0      0      1  \n",
       "4           0.0550      7      0      1      0  \n",
       "...            ...    ...    ...    ...    ...  \n",
       "4172        0.2490     11      1      0      0  \n",
       "4173        0.2605     10      0      0      1  \n",
       "4174        0.3080      9      0      0      1  \n",
       "4175        0.2960     10      1      0      0  \n",
       "4176        0.4950     12      0      0      1  \n",
       "\n",
       "[4177 rows x 11 columns]"
      ]
     },
     "execution_count": 74,
     "metadata": {},
     "output_type": "execute_result"
    }
   ],
   "source": [
    "data_one = pd.get_dummies(data)\n",
    "data = data_one\n",
    "data"
   ]
  },
  {
   "cell_type": "markdown",
   "metadata": {},
   "source": [
    "## data"
   ]
  },
  {
   "cell_type": "code",
   "execution_count": 75,
   "metadata": {},
   "outputs": [],
   "source": [
    "X = data.copy()\n",
    "y = X.pop('Rings')"
   ]
  },
  {
   "cell_type": "code",
   "execution_count": 76,
   "metadata": {},
   "outputs": [
    {
     "name": "stdout",
     "output_type": "stream",
     "text": [
      "(4177, 10) (4177,)\n"
     ]
    }
   ],
   "source": [
    "print(X.shape, y.shape)"
   ]
  },
  {
   "cell_type": "markdown",
   "metadata": {},
   "source": [
    "## data split"
   ]
  },
  {
   "cell_type": "code",
   "execution_count": 77,
   "metadata": {},
   "outputs": [],
   "source": [
    "from sklearn.model_selection import train_test_split"
   ]
  },
  {
   "cell_type": "code",
   "execution_count": 78,
   "metadata": {},
   "outputs": [],
   "source": [
    "X_train, X_test, y_train, y_test = train_test_split(X, y, test_size=0.2, random_state=0)"
   ]
  },
  {
   "cell_type": "code",
   "execution_count": 79,
   "metadata": {
    "scrolled": true
   },
   "outputs": [
    {
     "name": "stdout",
     "output_type": "stream",
     "text": [
      "X_train : (3341, 10), y_train : (3341,)\n",
      "X_test : (836, 10), y_test : (836,)\n"
     ]
    }
   ],
   "source": [
    "print(f\"X_train : {X_train.shape}, y_train : {y_train.shape}\")\n",
    "print(f\"X_test : {X_test.shape}, y_test : {y_test.shape}\")"
   ]
  },
  {
   "cell_type": "markdown",
   "metadata": {},
   "source": [
    "# model base optimizer adam data one_hot_encoding"
   ]
  },
  {
   "cell_type": "code",
   "execution_count": 80,
   "metadata": {},
   "outputs": [],
   "source": [
    "import tensorflow as tf\n",
    "from tensorflow import keras\n",
    "from tensorflow.keras import layers"
   ]
  },
  {
   "cell_type": "code",
   "execution_count": 81,
   "metadata": {},
   "outputs": [],
   "source": [
    "model = keras.Sequential([\n",
    "    layers.Dense(64, activation='relu', input_shape=[10]),\n",
    "    layers.Dense(128, activation='relu'),\n",
    "    layers.Flatten(),\n",
    "    layers.Dense(1)\n",
    "])"
   ]
  },
  {
   "cell_type": "code",
   "execution_count": 82,
   "metadata": {},
   "outputs": [
    {
     "name": "stdout",
     "output_type": "stream",
     "text": [
      "Model: \"sequential_3\"\n",
      "_________________________________________________________________\n",
      "Layer (type)                 Output Shape              Param #   \n",
      "=================================================================\n",
      "dense_9 (Dense)              (None, 64)                704       \n",
      "_________________________________________________________________\n",
      "dense_10 (Dense)             (None, 128)               8320      \n",
      "_________________________________________________________________\n",
      "flatten_3 (Flatten)          (None, 128)               0         \n",
      "_________________________________________________________________\n",
      "dense_11 (Dense)             (None, 1)                 129       \n",
      "=================================================================\n",
      "Total params: 9,153\n",
      "Trainable params: 9,153\n",
      "Non-trainable params: 0\n",
      "_________________________________________________________________\n"
     ]
    }
   ],
   "source": [
    "model.summary()"
   ]
  },
  {
   "cell_type": "code",
   "execution_count": 83,
   "metadata": {},
   "outputs": [],
   "source": [
    "model.compile(optimizer='adam', loss='mse', metrics=['mae', 'mse'])"
   ]
  },
  {
   "cell_type": "code",
   "execution_count": 84,
   "metadata": {},
   "outputs": [
    {
     "name": "stdout",
     "output_type": "stream",
     "text": [
      "WARNING:tensorflow:Falling back from v2 loop because of error: Failed to find data adapter that can handle input: <class 'pandas.core.frame.DataFrame'>, <class 'NoneType'>\n",
      "Train on 3341 samples, validate on 836 samples\n",
      "Epoch 1/100\n",
      "3341/3341 [==============================] - 0s 52us/sample - loss: 89.6712 - mae: 8.9118 - mse: 89.6712 - val_loss: 60.5397 - val_mae: 7.1414 - val_mse: 60.5397\n",
      "Epoch 2/100\n",
      "3341/3341 [==============================] - 0s 18us/sample - loss: 30.8553 - mae: 4.4400 - mse: 30.8553 - val_loss: 7.9635 - val_mae: 1.9810 - val_mse: 7.9635\n",
      "Epoch 3/100\n",
      "3341/3341 [==============================] - 0s 18us/sample - loss: 8.2639 - mae: 2.2147 - mse: 8.2639 - val_loss: 7.5624 - val_mae: 1.9015 - val_mse: 7.5624\n",
      "Epoch 4/100\n",
      "3341/3341 [==============================] - 0s 21us/sample - loss: 7.3504 - mae: 1.9491 - mse: 7.3504 - val_loss: 7.1899 - val_mae: 1.9129 - val_mse: 7.1899\n",
      "Epoch 5/100\n",
      "3341/3341 [==============================] - 0s 23us/sample - loss: 7.1469 - mae: 1.9522 - mse: 7.1469 - val_loss: 7.1171 - val_mae: 1.8486 - val_mse: 7.1171\n",
      "Epoch 6/100\n",
      "3341/3341 [==============================] - 0s 21us/sample - loss: 6.9815 - mae: 1.9195 - mse: 6.9815 - val_loss: 6.9512 - val_mae: 1.8759 - val_mse: 6.9512\n",
      "Epoch 7/100\n",
      "3341/3341 [==============================] - 0s 18us/sample - loss: 6.8725 - mae: 1.9156 - mse: 6.8725 - val_loss: 6.8931 - val_mae: 1.8498 - val_mse: 6.8931\n",
      "Epoch 8/100\n",
      "3341/3341 [==============================] - 0s 18us/sample - loss: 6.7548 - mae: 1.8821 - mse: 6.7548 - val_loss: 6.7889 - val_mae: 1.8296 - val_mse: 6.7889\n",
      "Epoch 9/100\n",
      "3341/3341 [==============================] - 0s 19us/sample - loss: 6.6597 - mae: 1.8688 - mse: 6.6597 - val_loss: 6.6921 - val_mae: 1.8269 - val_mse: 6.6921\n",
      "Epoch 10/100\n",
      "3341/3341 [==============================] - 0s 20us/sample - loss: 6.5635 - mae: 1.8461 - mse: 6.5635 - val_loss: 6.6219 - val_mae: 1.8035 - val_mse: 6.6219\n",
      "Epoch 11/100\n",
      "3341/3341 [==============================] - 0s 22us/sample - loss: 6.4703 - mae: 1.8297 - mse: 6.4703 - val_loss: 6.5354 - val_mae: 1.8174 - val_mse: 6.5354\n",
      "Epoch 12/100\n",
      "3341/3341 [==============================] - 0s 20us/sample - loss: 6.4142 - mae: 1.8385 - mse: 6.4142 - val_loss: 6.4250 - val_mae: 1.7885 - val_mse: 6.4250\n",
      "Epoch 13/100\n",
      "3341/3341 [==============================] - 0s 19us/sample - loss: 6.2845 - mae: 1.8177 - mse: 6.2845 - val_loss: 6.3898 - val_mae: 1.7371 - val_mse: 6.3898\n",
      "Epoch 14/100\n",
      "3341/3341 [==============================] - 0s 19us/sample - loss: 6.2238 - mae: 1.7920 - mse: 6.2238 - val_loss: 6.3867 - val_mae: 1.7084 - val_mse: 6.3867\n",
      "Epoch 15/100\n",
      "3341/3341 [==============================] - 0s 19us/sample - loss: 6.1503 - mae: 1.7647 - mse: 6.1503 - val_loss: 6.1901 - val_mae: 1.7498 - val_mse: 6.1901\n",
      "Epoch 16/100\n",
      "3341/3341 [==============================] - 0s 23us/sample - loss: 6.0288 - mae: 1.7647 - mse: 6.0288 - val_loss: 6.1163 - val_mae: 1.7511 - val_mse: 6.1163\n",
      "Epoch 17/100\n",
      "3341/3341 [==============================] - 0s 20us/sample - loss: 5.9522 - mae: 1.7505 - mse: 5.9522 - val_loss: 6.0470 - val_mae: 1.7079 - val_mse: 6.0470\n",
      "Epoch 18/100\n",
      "3341/3341 [==============================] - 0s 25us/sample - loss: 5.8341 - mae: 1.7345 - mse: 5.8341 - val_loss: 6.0029 - val_mae: 1.6740 - val_mse: 6.0029\n",
      "Epoch 19/100\n",
      "3341/3341 [==============================] - 0s 23us/sample - loss: 5.7667 - mae: 1.7066 - mse: 5.7667 - val_loss: 5.8750 - val_mae: 1.7108 - val_mse: 5.8750\n",
      "Epoch 20/100\n",
      "3341/3341 [==============================] - 0s 18us/sample - loss: 5.6842 - mae: 1.7200 - mse: 5.6842 - val_loss: 5.7905 - val_mae: 1.7243 - val_mse: 5.7905\n",
      "Epoch 21/100\n",
      "3341/3341 [==============================] - 0s 18us/sample - loss: 5.5954 - mae: 1.7136 - mse: 5.5954 - val_loss: 5.7743 - val_mae: 1.6354 - val_mse: 5.7743\n",
      "Epoch 22/100\n",
      "3341/3341 [==============================] - 0s 20us/sample - loss: 5.5197 - mae: 1.6754 - mse: 5.5197 - val_loss: 5.6209 - val_mae: 1.6779 - val_mse: 5.6209\n",
      "Epoch 23/100\n",
      "3341/3341 [==============================] - 0s 26us/sample - loss: 5.4184 - mae: 1.6639 - mse: 5.4184 - val_loss: 5.5587 - val_mae: 1.6477 - val_mse: 5.5587\n",
      "Epoch 24/100\n",
      "3341/3341 [==============================] - 0s 20us/sample - loss: 5.3379 - mae: 1.6464 - mse: 5.3379 - val_loss: 5.4994 - val_mae: 1.6298 - val_mse: 5.4994\n",
      "Epoch 25/100\n",
      "3341/3341 [==============================] - 0s 22us/sample - loss: 5.2528 - mae: 1.6487 - mse: 5.2528 - val_loss: 5.4375 - val_mae: 1.6748 - val_mse: 5.4375\n",
      "Epoch 26/100\n",
      "3341/3341 [==============================] - 0s 27us/sample - loss: 5.2086 - mae: 1.6316 - mse: 5.2086 - val_loss: 5.3617 - val_mae: 1.6238 - val_mse: 5.3617\n",
      "Epoch 27/100\n",
      "3341/3341 [==============================] - 0s 24us/sample - loss: 5.1206 - mae: 1.6175 - mse: 5.1206 - val_loss: 5.2980 - val_mae: 1.6058 - val_mse: 5.2980\n",
      "Epoch 28/100\n",
      "3341/3341 [==============================] - 0s 25us/sample - loss: 5.0630 - mae: 1.6172 - mse: 5.0630 - val_loss: 5.2586 - val_mae: 1.6404 - val_mse: 5.2586\n",
      "Epoch 29/100\n",
      "3341/3341 [==============================] - 0s 23us/sample - loss: 5.0284 - mae: 1.6122 - mse: 5.0284 - val_loss: 5.2707 - val_mae: 1.5512 - val_mse: 5.2707\n",
      "Epoch 30/100\n",
      "3341/3341 [==============================] - 0s 23us/sample - loss: 4.9883 - mae: 1.5917 - mse: 4.9883 - val_loss: 5.1524 - val_mae: 1.5852 - val_mse: 5.1524\n",
      "Epoch 31/100\n",
      "3341/3341 [==============================] - 0s 24us/sample - loss: 4.9003 - mae: 1.5847 - mse: 4.9003 - val_loss: 5.1020 - val_mae: 1.6004 - val_mse: 5.1020\n",
      "Epoch 32/100\n",
      "3341/3341 [==============================] - 0s 21us/sample - loss: 4.8578 - mae: 1.5843 - mse: 4.8578 - val_loss: 5.1027 - val_mae: 1.5587 - val_mse: 5.1027\n",
      "Epoch 33/100\n",
      "3341/3341 [==============================] - 0s 20us/sample - loss: 4.8762 - mae: 1.5924 - mse: 4.8762 - val_loss: 5.0065 - val_mae: 1.5658 - val_mse: 5.0065\n",
      "Epoch 34/100\n",
      "3341/3341 [==============================] - 0s 21us/sample - loss: 4.8245 - mae: 1.5599 - mse: 4.8245 - val_loss: 4.9968 - val_mae: 1.5684 - val_mse: 4.9968\n",
      "Epoch 35/100\n",
      "3341/3341 [==============================] - 0s 21us/sample - loss: 4.7664 - mae: 1.5636 - mse: 4.7664 - val_loss: 4.9965 - val_mae: 1.5373 - val_mse: 4.9965\n",
      "Epoch 36/100\n",
      "3341/3341 [==============================] - 0s 18us/sample - loss: 4.7316 - mae: 1.5560 - mse: 4.7316 - val_loss: 4.9441 - val_mae: 1.5395 - val_mse: 4.9441\n",
      "Epoch 37/100\n",
      "3341/3341 [==============================] - 0s 20us/sample - loss: 4.7177 - mae: 1.5654 - mse: 4.7177 - val_loss: 4.9470 - val_mae: 1.5261 - val_mse: 4.9470\n",
      "Epoch 38/100\n",
      "3341/3341 [==============================] - 0s 25us/sample - loss: 4.7071 - mae: 1.5562 - mse: 4.7071 - val_loss: 4.8805 - val_mae: 1.5345 - val_mse: 4.8805\n",
      "Epoch 39/100\n",
      "3341/3341 [==============================] - 0s 24us/sample - loss: 4.6820 - mae: 1.5648 - mse: 4.6820 - val_loss: 4.9398 - val_mae: 1.5129 - val_mse: 4.9398\n",
      "Epoch 40/100\n",
      "3341/3341 [==============================] - 0s 25us/sample - loss: 4.6890 - mae: 1.5431 - mse: 4.6890 - val_loss: 4.8675 - val_mae: 1.5656 - val_mse: 4.8675\n",
      "Epoch 41/100\n",
      "3341/3341 [==============================] - 0s 20us/sample - loss: 4.6129 - mae: 1.5403 - mse: 4.6129 - val_loss: 4.8602 - val_mae: 1.5613 - val_mse: 4.8602\n",
      "Epoch 42/100\n",
      "3341/3341 [==============================] - 0s 21us/sample - loss: 4.6083 - mae: 1.5409 - mse: 4.6083 - val_loss: 4.8728 - val_mae: 1.5779 - val_mse: 4.8728\n",
      "Epoch 43/100\n",
      "3341/3341 [==============================] - 0s 21us/sample - loss: 4.6103 - mae: 1.5401 - mse: 4.6103 - val_loss: 4.9624 - val_mae: 1.5017 - val_mse: 4.9624\n",
      "Epoch 44/100\n",
      "3341/3341 [==============================] - 0s 19us/sample - loss: 4.6293 - mae: 1.5384 - mse: 4.6293 - val_loss: 4.8290 - val_mae: 1.5188 - val_mse: 4.8290\n",
      "Epoch 45/100\n",
      "3341/3341 [==============================] - 0s 21us/sample - loss: 4.6135 - mae: 1.5364 - mse: 4.6135 - val_loss: 4.8588 - val_mae: 1.5785 - val_mse: 4.8588\n",
      "Epoch 46/100\n",
      "3341/3341 [==============================] - 0s 20us/sample - loss: 4.5970 - mae: 1.5447 - mse: 4.5970 - val_loss: 4.7874 - val_mae: 1.5049 - val_mse: 4.7874\n",
      "Epoch 47/100\n",
      "3341/3341 [==============================] - 0s 28us/sample - loss: 4.5521 - mae: 1.5243 - mse: 4.5521 - val_loss: 4.8205 - val_mae: 1.4976 - val_mse: 4.8205\n"
     ]
    },
    {
     "name": "stdout",
     "output_type": "stream",
     "text": [
      "Epoch 48/100\n",
      "3341/3341 [==============================] - 0s 17us/sample - loss: 4.5660 - mae: 1.5265 - mse: 4.5660 - val_loss: 4.7647 - val_mae: 1.5255 - val_mse: 4.7647\n",
      "Epoch 49/100\n",
      "3341/3341 [==============================] - 0s 15us/sample - loss: 4.5353 - mae: 1.5156 - mse: 4.5353 - val_loss: 4.7621 - val_mae: 1.5234 - val_mse: 4.7621\n",
      "Epoch 50/100\n",
      "3341/3341 [==============================] - 0s 15us/sample - loss: 4.5670 - mae: 1.5351 - mse: 4.5670 - val_loss: 4.7593 - val_mae: 1.4998 - val_mse: 4.7593\n",
      "Epoch 51/100\n",
      "3341/3341 [==============================] - 0s 15us/sample - loss: 4.5644 - mae: 1.5213 - mse: 4.5644 - val_loss: 4.7466 - val_mae: 1.5084 - val_mse: 4.7466\n",
      "Epoch 52/100\n",
      "3341/3341 [==============================] - 0s 16us/sample - loss: 4.5175 - mae: 1.5109 - mse: 4.5175 - val_loss: 4.7721 - val_mae: 1.4938 - val_mse: 4.7721\n",
      "Epoch 53/100\n",
      "3341/3341 [==============================] - 0s 16us/sample - loss: 4.5204 - mae: 1.5193 - mse: 4.5204 - val_loss: 4.7592 - val_mae: 1.5443 - val_mse: 4.7592\n",
      "Epoch 54/100\n",
      "3341/3341 [==============================] - 0s 15us/sample - loss: 4.5366 - mae: 1.5260 - mse: 4.5366 - val_loss: 4.8003 - val_mae: 1.4926 - val_mse: 4.8003\n",
      "Epoch 55/100\n",
      "3341/3341 [==============================] - 0s 15us/sample - loss: 4.4967 - mae: 1.5118 - mse: 4.4967 - val_loss: 4.7192 - val_mae: 1.5005 - val_mse: 4.7192\n",
      "Epoch 56/100\n",
      "3341/3341 [==============================] - 0s 16us/sample - loss: 4.5375 - mae: 1.5297 - mse: 4.5375 - val_loss: 4.7854 - val_mae: 1.4895 - val_mse: 4.7854\n",
      "Epoch 57/100\n",
      "3341/3341 [==============================] - 0s 21us/sample - loss: 4.4905 - mae: 1.5060 - mse: 4.4905 - val_loss: 4.7257 - val_mae: 1.4926 - val_mse: 4.7257\n",
      "Epoch 58/100\n",
      "3341/3341 [==============================] - 0s 18us/sample - loss: 4.4919 - mae: 1.5150 - mse: 4.4919 - val_loss: 4.7076 - val_mae: 1.5041 - val_mse: 4.7076\n",
      "Epoch 59/100\n",
      "3341/3341 [==============================] - 0s 17us/sample - loss: 4.5644 - mae: 1.5170 - mse: 4.5644 - val_loss: 4.7183 - val_mae: 1.5362 - val_mse: 4.7183\n",
      "Epoch 60/100\n",
      "3341/3341 [==============================] - 0s 17us/sample - loss: 4.5087 - mae: 1.5198 - mse: 4.5087 - val_loss: 4.7227 - val_mae: 1.4864 - val_mse: 4.7227\n",
      "Epoch 61/100\n",
      "3341/3341 [==============================] - 0s 15us/sample - loss: 4.5294 - mae: 1.5309 - mse: 4.5294 - val_loss: 4.6886 - val_mae: 1.4968 - val_mse: 4.6886\n",
      "Epoch 62/100\n",
      "3341/3341 [==============================] - 0s 16us/sample - loss: 4.5383 - mae: 1.5095 - mse: 4.5383 - val_loss: 4.6901 - val_mae: 1.5173 - val_mse: 4.6901\n",
      "Epoch 63/100\n",
      "3341/3341 [==============================] - 0s 17us/sample - loss: 4.4546 - mae: 1.5065 - mse: 4.4546 - val_loss: 4.7970 - val_mae: 1.4872 - val_mse: 4.7970\n",
      "Epoch 64/100\n",
      "3341/3341 [==============================] - 0s 18us/sample - loss: 4.5264 - mae: 1.5071 - mse: 4.5264 - val_loss: 4.7923 - val_mae: 1.5795 - val_mse: 4.7923\n",
      "Epoch 65/100\n",
      "3341/3341 [==============================] - 0s 17us/sample - loss: 4.4635 - mae: 1.5117 - mse: 4.4635 - val_loss: 4.6845 - val_mae: 1.4909 - val_mse: 4.6845\n",
      "Epoch 66/100\n",
      "3341/3341 [==============================] - 0s 18us/sample - loss: 4.4541 - mae: 1.5073 - mse: 4.4541 - val_loss: 4.7122 - val_mae: 1.4832 - val_mse: 4.7122\n",
      "Epoch 67/100\n",
      "3341/3341 [==============================] - 0s 18us/sample - loss: 4.4675 - mae: 1.4918 - mse: 4.4675 - val_loss: 4.6767 - val_mae: 1.5245 - val_mse: 4.6767\n",
      "Epoch 68/100\n",
      "3341/3341 [==============================] - 0s 18us/sample - loss: 4.4491 - mae: 1.5084 - mse: 4.4491 - val_loss: 4.7141 - val_mae: 1.4855 - val_mse: 4.7141\n",
      "Epoch 69/100\n",
      "3341/3341 [==============================] - 0s 16us/sample - loss: 4.4276 - mae: 1.5047 - mse: 4.4276 - val_loss: 4.6601 - val_mae: 1.4924 - val_mse: 4.6601\n",
      "Epoch 70/100\n",
      "3341/3341 [==============================] - 0s 16us/sample - loss: 4.4269 - mae: 1.5002 - mse: 4.4269 - val_loss: 4.6601 - val_mae: 1.5035 - val_mse: 4.6601\n",
      "Epoch 71/100\n",
      "3341/3341 [==============================] - 0s 16us/sample - loss: 4.4217 - mae: 1.5008 - mse: 4.4217 - val_loss: 4.6775 - val_mae: 1.4992 - val_mse: 4.6775\n",
      "Epoch 72/100\n",
      "3341/3341 [==============================] - 0s 16us/sample - loss: 4.4300 - mae: 1.4954 - mse: 4.4300 - val_loss: 4.7469 - val_mae: 1.5668 - val_mse: 4.7469\n",
      "Epoch 73/100\n",
      "3341/3341 [==============================] - 0s 15us/sample - loss: 4.4367 - mae: 1.5056 - mse: 4.4367 - val_loss: 4.6552 - val_mae: 1.5141 - val_mse: 4.6552\n",
      "Epoch 74/100\n",
      "3341/3341 [==============================] - 0s 16us/sample - loss: 4.4611 - mae: 1.5147 - mse: 4.4611 - val_loss: 4.8494 - val_mae: 1.4876 - val_mse: 4.8494\n",
      "Epoch 75/100\n",
      "3341/3341 [==============================] - 0s 16us/sample - loss: 4.5182 - mae: 1.5217 - mse: 4.5182 - val_loss: 4.7210 - val_mae: 1.4832 - val_mse: 4.7210\n",
      "Epoch 76/100\n",
      "3341/3341 [==============================] - 0s 16us/sample - loss: 4.4409 - mae: 1.5078 - mse: 4.4409 - val_loss: 4.6600 - val_mae: 1.4876 - val_mse: 4.6600\n",
      "Epoch 77/100\n",
      "3341/3341 [==============================] - 0s 17us/sample - loss: 4.4380 - mae: 1.5012 - mse: 4.4380 - val_loss: 4.6917 - val_mae: 1.5495 - val_mse: 4.6917\n",
      "Epoch 78/100\n",
      "3341/3341 [==============================] - 0s 16us/sample - loss: 4.4241 - mae: 1.5024 - mse: 4.4241 - val_loss: 4.6382 - val_mae: 1.4891 - val_mse: 4.6382\n",
      "Epoch 79/100\n",
      "3341/3341 [==============================] - 0s 16us/sample - loss: 4.4703 - mae: 1.5095 - mse: 4.4703 - val_loss: 4.6897 - val_mae: 1.4871 - val_mse: 4.6897\n",
      "Epoch 80/100\n",
      "3341/3341 [==============================] - 0s 16us/sample - loss: 4.3952 - mae: 1.4919 - mse: 4.3952 - val_loss: 4.6237 - val_mae: 1.4979 - val_mse: 4.6237\n",
      "Epoch 81/100\n",
      "3341/3341 [==============================] - 0s 17us/sample - loss: 4.3995 - mae: 1.4890 - mse: 4.3995 - val_loss: 4.6368 - val_mae: 1.5034 - val_mse: 4.6368\n",
      "Epoch 82/100\n",
      "3341/3341 [==============================] - 0s 16us/sample - loss: 4.4876 - mae: 1.5159 - mse: 4.4876 - val_loss: 4.6471 - val_mae: 1.5026 - val_mse: 4.6471\n",
      "Epoch 83/100\n",
      "3341/3341 [==============================] - 0s 16us/sample - loss: 4.4038 - mae: 1.4996 - mse: 4.4038 - val_loss: 4.6508 - val_mae: 1.4871 - val_mse: 4.6508\n",
      "Epoch 84/100\n",
      "3341/3341 [==============================] - 0s 16us/sample - loss: 4.4029 - mae: 1.4992 - mse: 4.4029 - val_loss: 4.6780 - val_mae: 1.4800 - val_mse: 4.6780\n",
      "Epoch 85/100\n",
      "3341/3341 [==============================] - 0s 16us/sample - loss: 4.4208 - mae: 1.4982 - mse: 4.4208 - val_loss: 4.6601 - val_mae: 1.4794 - val_mse: 4.6601\n",
      "Epoch 86/100\n",
      "3341/3341 [==============================] - 0s 17us/sample - loss: 4.4105 - mae: 1.5107 - mse: 4.4105 - val_loss: 4.7533 - val_mae: 1.4796 - val_mse: 4.7533\n",
      "Epoch 87/100\n",
      "3341/3341 [==============================] - 0s 16us/sample - loss: 4.4598 - mae: 1.4964 - mse: 4.4598 - val_loss: 4.6464 - val_mae: 1.5312 - val_mse: 4.6464\n",
      "Epoch 88/100\n",
      "3341/3341 [==============================] - 0s 16us/sample - loss: 4.3650 - mae: 1.4894 - mse: 4.3650 - val_loss: 4.6025 - val_mae: 1.4847 - val_mse: 4.6025\n",
      "Epoch 89/100\n",
      "3341/3341 [==============================] - 0s 17us/sample - loss: 4.4125 - mae: 1.5023 - mse: 4.4125 - val_loss: 4.5985 - val_mae: 1.4819 - val_mse: 4.5985\n",
      "Epoch 90/100\n",
      "3341/3341 [==============================] - 0s 16us/sample - loss: 4.3908 - mae: 1.5024 - mse: 4.3908 - val_loss: 4.7677 - val_mae: 1.4769 - val_mse: 4.7677\n",
      "Epoch 91/100\n",
      "3341/3341 [==============================] - 0s 17us/sample - loss: 4.4424 - mae: 1.5009 - mse: 4.4424 - val_loss: 4.6089 - val_mae: 1.5114 - val_mse: 4.6089\n",
      "Epoch 92/100\n",
      "3341/3341 [==============================] - 0s 16us/sample - loss: 4.3874 - mae: 1.4929 - mse: 4.3874 - val_loss: 4.6620 - val_mae: 1.4751 - val_mse: 4.6620\n",
      "Epoch 93/100\n",
      "3341/3341 [==============================] - 0s 16us/sample - loss: 4.4496 - mae: 1.5035 - mse: 4.4496 - val_loss: 4.6065 - val_mae: 1.5140 - val_mse: 4.6065\n",
      "Epoch 94/100\n",
      "3341/3341 [==============================] - 0s 16us/sample - loss: 4.3417 - mae: 1.4847 - mse: 4.3417 - val_loss: 4.5844 - val_mae: 1.5037 - val_mse: 4.5844\n",
      "Epoch 95/100\n",
      "3341/3341 [==============================] - 0s 17us/sample - loss: 4.3553 - mae: 1.4842 - mse: 4.3553 - val_loss: 4.5760 - val_mae: 1.4983 - val_mse: 4.5760\n"
     ]
    },
    {
     "name": "stdout",
     "output_type": "stream",
     "text": [
      "Epoch 96/100\n",
      "3341/3341 [==============================] - 0s 17us/sample - loss: 4.3735 - mae: 1.4918 - mse: 4.3735 - val_loss: 4.5924 - val_mae: 1.5095 - val_mse: 4.5924\n",
      "Epoch 97/100\n",
      "3341/3341 [==============================] - 0s 18us/sample - loss: 4.3645 - mae: 1.4925 - mse: 4.3645 - val_loss: 4.6095 - val_mae: 1.4817 - val_mse: 4.6095\n",
      "Epoch 98/100\n",
      "3341/3341 [==============================] - 0s 24us/sample - loss: 4.3632 - mae: 1.4957 - mse: 4.3632 - val_loss: 5.0694 - val_mae: 1.5146 - val_mse: 5.0694\n",
      "Epoch 99/100\n",
      "3341/3341 [==============================] - 0s 17us/sample - loss: 4.6526 - mae: 1.5432 - mse: 4.6526 - val_loss: 4.6066 - val_mae: 1.4890 - val_mse: 4.6066\n",
      "Epoch 100/100\n",
      "3341/3341 [==============================] - 0s 19us/sample - loss: 4.3561 - mae: 1.4870 - mse: 4.3561 - val_loss: 4.6452 - val_mae: 1.5346 - val_mse: 4.6452\n"
     ]
    }
   ],
   "source": [
    "history = model.fit(X_train, y_train, \n",
    "                     epochs=100,\n",
    "                     batch_size=128,\n",
    "                     validation_data=(X_test, y_test),\n",
    "                     verbose = 1\n",
    "                    )"
   ]
  },
  {
   "cell_type": "code",
   "execution_count": 85,
   "metadata": {},
   "outputs": [
    {
     "data": {
      "text/plain": [
       "<matplotlib.legend.Legend at 0x1400fba10>"
      ]
     },
     "execution_count": 85,
     "metadata": {},
     "output_type": "execute_result"
    },
    {
     "data": {
      "image/png": "[encoded data removed]",
      "text/plain": [
       "<Figure size 432x288 with 1 Axes>"
      ]
     },
     "metadata": {
      "needs_background": "light"
     },
     "output_type": "display_data"
    }
   ],
   "source": [
    "hist = pd.DataFrame(history.history)\n",
    "hist['epoch'] = history.epoch\n",
    "\n",
    "plt.xlabel('Epoch')\n",
    "plt.ylabel('Mean Abs Error [MPG]')\n",
    "plt.plot(hist['epoch'], hist['mae'], label='Train Error')\n",
    "plt.plot(hist['epoch'], hist['val_mae'], label='val Error')\n",
    "plt.ylim(0, 5)\n",
    "plt.legend()"
   ]
  },
  {
   "cell_type": "code",
   "execution_count": 86,
   "metadata": {},
   "outputs": [
    {
     "data": {
      "text/plain": [
       "<matplotlib.legend.Legend at 0x140129610>"
      ]
     },
     "execution_count": 86,
     "metadata": {},
     "output_type": "execute_result"
    },
    {
     "data": {
      "image/png": "[encoded data removed]",
      "text/plain": [
       "<Figure size 432x288 with 1 Axes>"
      ]
     },
     "metadata": {
      "needs_background": "light"
     },
     "output_type": "display_data"
    }
   ],
   "source": [
    "plt.xlabel('Epoch')\n",
    "plt.ylabel('Mean Square Error [$MPG^2$]')\n",
    "plt.plot(hist['epoch'], hist['mse'], label='Train Error')\n",
    "plt.plot(hist['epoch'], hist['val_mse'], label='val Error')\n",
    "plt.ylim(0, 30)\n",
    "plt.legend()"
   ]
  },
  {
   "cell_type": "code",
   "execution_count": 87,
   "metadata": {
    "scrolled": false
   },
   "outputs": [
    {
     "name": "stdout",
     "output_type": "stream",
     "text": [
      "WARNING:tensorflow:Falling back from v2 loop because of error: Failed to find data adapter that can handle input: <class 'pandas.core.frame.DataFrame'>, <class 'NoneType'>\n",
      "836/836 [==============================] - 0s 36us/sample - loss: 4.6452 - mae: 1.5346 - mse: 4.6452\n"
     ]
    },
    {
     "data": {
      "text/plain": [
       "2.155264145313"
      ]
     },
     "execution_count": 87,
     "metadata": {},
     "output_type": "execute_result"
    }
   ],
   "source": [
    "loss, mae, mse = model.evaluate(X_test, y_test)\n",
    "mse**0.5"
   ]
  },
  {
   "cell_type": "code",
   "execution_count": null,
   "metadata": {},
   "outputs": [],
   "source": []
  }
 ],
 "metadata": {
  "kernelspec": {
   "display_name": "Python 3",
   "language": "python",
   "name": "python3"
  },
  "language_info": {
   "codemirror_mode": {
    "name": "ipython",
    "version": 3
   },
   "file_extension": ".py",
   "mimetype": "text/x-python",
   "name": "python",
   "nbconvert_exporter": "python",
   "pygments_lexer": "ipython3",
   "version": "3.7.4"
  }
 },
 "nbformat": 4,
 "nbformat_minor": 2
}
