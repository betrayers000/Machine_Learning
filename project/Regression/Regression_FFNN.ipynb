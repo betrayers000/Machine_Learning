{
 "cells": [
  {
   "cell_type": "markdown",
   "metadata": {},
   "source": [
    "# Regression_FFNN\n",
    "\n",
    "## load data"
   ]
  },
  {
   "cell_type": "code",
   "execution_count": 3,
   "metadata": {},
   "outputs": [],
   "source": [
    "import numpy as np\n",
    "import pandas as pd\n",
    "import seaborn as sns\n",
    "import matplotlib.pyplot as plt"
   ]
  },
  {
   "cell_type": "code",
   "execution_count": 4,
   "metadata": {},
   "outputs": [],
   "source": [
    "df = pd.read_csv('reg_data/abalone.data',\n",
    "                 names=['Sex','Length','Diameter','Height','Whole weight','Shucked weight','Viscera weight','Shell weight','Rings'])"
   ]
  },
  {
   "cell_type": "code",
   "execution_count": null,
   "metadata": {},
   "outputs": [],
   "source": [
    "from sklearn.model_selection import train_test_split"
   ]
  },
  {
   "cell_type": "code",
   "execution_count": 5,
   "metadata": {},
   "outputs": [
    {
     "data": {
      "text/html": [
       "<div>\n",
       "<style scoped>\n",
       "    .dataframe tbody tr th:only-of-type {\n",
       "        vertical-align: middle;\n",
       "    }\n",
       "\n",
       "    .dataframe tbody tr th {\n",
       "        vertical-align: top;\n",
       "    }\n",
       "\n",
       "    .dataframe thead th {\n",
       "        text-align: right;\n",
       "    }\n",
       "</style>\n",
       "<table border=\"1\" class=\"dataframe\">\n",
       "  <thead>\n",
       "    <tr style=\"text-align: right;\">\n",
       "      <th></th>\n",
       "      <th>Sex</th>\n",
       "      <th>Length</th>\n",
       "      <th>Diameter</th>\n",
       "      <th>Height</th>\n",
       "      <th>WholeWeight</th>\n",
       "      <th>ShuckedWeight</th>\n",
       "      <th>VisceraWeight</th>\n",
       "      <th>Shell weight</th>\n",
       "      <th>Rings</th>\n",
       "    </tr>\n",
       "  </thead>\n",
       "  <tbody>\n",
       "    <tr>\n",
       "      <th>0</th>\n",
       "      <td>M</td>\n",
       "      <td>0.455</td>\n",
       "      <td>0.365</td>\n",
       "      <td>0.095</td>\n",
       "      <td>0.5140</td>\n",
       "      <td>0.2245</td>\n",
       "      <td>0.1010</td>\n",
       "      <td>0.150</td>\n",
       "      <td>15</td>\n",
       "    </tr>\n",
       "    <tr>\n",
       "      <th>1</th>\n",
       "      <td>M</td>\n",
       "      <td>0.350</td>\n",
       "      <td>0.265</td>\n",
       "      <td>0.090</td>\n",
       "      <td>0.2255</td>\n",
       "      <td>0.0995</td>\n",
       "      <td>0.0485</td>\n",
       "      <td>0.070</td>\n",
       "      <td>7</td>\n",
       "    </tr>\n",
       "    <tr>\n",
       "      <th>2</th>\n",
       "      <td>F</td>\n",
       "      <td>0.530</td>\n",
       "      <td>0.420</td>\n",
       "      <td>0.135</td>\n",
       "      <td>0.6770</td>\n",
       "      <td>0.2565</td>\n",
       "      <td>0.1415</td>\n",
       "      <td>0.210</td>\n",
       "      <td>9</td>\n",
       "    </tr>\n",
       "    <tr>\n",
       "      <th>3</th>\n",
       "      <td>M</td>\n",
       "      <td>0.440</td>\n",
       "      <td>0.365</td>\n",
       "      <td>0.125</td>\n",
       "      <td>0.5160</td>\n",
       "      <td>0.2155</td>\n",
       "      <td>0.1140</td>\n",
       "      <td>0.155</td>\n",
       "      <td>10</td>\n",
       "    </tr>\n",
       "    <tr>\n",
       "      <th>4</th>\n",
       "      <td>I</td>\n",
       "      <td>0.330</td>\n",
       "      <td>0.255</td>\n",
       "      <td>0.080</td>\n",
       "      <td>0.2050</td>\n",
       "      <td>0.0895</td>\n",
       "      <td>0.0395</td>\n",
       "      <td>0.055</td>\n",
       "      <td>7</td>\n",
       "    </tr>\n",
       "  </tbody>\n",
       "</table>\n",
       "</div>"
      ],
      "text/plain": [
       "  Sex  Length  Diameter  Height  WholeWeight  ShuckedWeight  VisceraWeight  \\\n",
       "0   M   0.455     0.365   0.095       0.5140         0.2245         0.1010   \n",
       "1   M   0.350     0.265   0.090       0.2255         0.0995         0.0485   \n",
       "2   F   0.530     0.420   0.135       0.6770         0.2565         0.1415   \n",
       "3   M   0.440     0.365   0.125       0.5160         0.2155         0.1140   \n",
       "4   I   0.330     0.255   0.080       0.2050         0.0895         0.0395   \n",
       "\n",
       "   Shell weight  Rings  \n",
       "0         0.150     15  \n",
       "1         0.070      7  \n",
       "2         0.210      9  \n",
       "3         0.155     10  \n",
       "4         0.055      7  "
      ]
     },
     "execution_count": 5,
     "metadata": {},
     "output_type": "execute_result"
    }
   ],
   "source": [
    "data = pd.read_csv('abalone.data', names = column_name)\n",
    "data.head()"
   ]
  },
  {
   "cell_type": "code",
   "execution_count": 6,
   "metadata": {},
   "outputs": [],
   "source": [
    "data_sex = data['Sex']\n",
    "data_sex_encoded, data_sex_categories = data_sex.factorize()\n",
    "data['Sex'] = data_sex_encoded"
   ]
  },
  {
   "cell_type": "code",
   "execution_count": 7,
   "metadata": {},
   "outputs": [
    {
     "data": {
      "text/html": [
       "<div>\n",
       "<style scoped>\n",
       "    .dataframe tbody tr th:only-of-type {\n",
       "        vertical-align: middle;\n",
       "    }\n",
       "\n",
       "    .dataframe tbody tr th {\n",
       "        vertical-align: top;\n",
       "    }\n",
       "\n",
       "    .dataframe thead th {\n",
       "        text-align: right;\n",
       "    }\n",
       "</style>\n",
       "<table border=\"1\" class=\"dataframe\">\n",
       "  <thead>\n",
       "    <tr style=\"text-align: right;\">\n",
       "      <th></th>\n",
       "      <th>Sex</th>\n",
       "      <th>Length</th>\n",
       "      <th>Diameter</th>\n",
       "      <th>Height</th>\n",
       "      <th>WholeWeight</th>\n",
       "      <th>ShuckedWeight</th>\n",
       "      <th>VisceraWeight</th>\n",
       "      <th>Shell weight</th>\n",
       "      <th>Rings</th>\n",
       "    </tr>\n",
       "  </thead>\n",
       "  <tbody>\n",
       "    <tr>\n",
       "      <th>0</th>\n",
       "      <td>0</td>\n",
       "      <td>0.455</td>\n",
       "      <td>0.365</td>\n",
       "      <td>0.095</td>\n",
       "      <td>0.5140</td>\n",
       "      <td>0.2245</td>\n",
       "      <td>0.1010</td>\n",
       "      <td>0.150</td>\n",
       "      <td>15</td>\n",
       "    </tr>\n",
       "    <tr>\n",
       "      <th>1</th>\n",
       "      <td>0</td>\n",
       "      <td>0.350</td>\n",
       "      <td>0.265</td>\n",
       "      <td>0.090</td>\n",
       "      <td>0.2255</td>\n",
       "      <td>0.0995</td>\n",
       "      <td>0.0485</td>\n",
       "      <td>0.070</td>\n",
       "      <td>7</td>\n",
       "    </tr>\n",
       "    <tr>\n",
       "      <th>2</th>\n",
       "      <td>1</td>\n",
       "      <td>0.530</td>\n",
       "      <td>0.420</td>\n",
       "      <td>0.135</td>\n",
       "      <td>0.6770</td>\n",
       "      <td>0.2565</td>\n",
       "      <td>0.1415</td>\n",
       "      <td>0.210</td>\n",
       "      <td>9</td>\n",
       "    </tr>\n",
       "    <tr>\n",
       "      <th>3</th>\n",
       "      <td>0</td>\n",
       "      <td>0.440</td>\n",
       "      <td>0.365</td>\n",
       "      <td>0.125</td>\n",
       "      <td>0.5160</td>\n",
       "      <td>0.2155</td>\n",
       "      <td>0.1140</td>\n",
       "      <td>0.155</td>\n",
       "      <td>10</td>\n",
       "    </tr>\n",
       "    <tr>\n",
       "      <th>4</th>\n",
       "      <td>2</td>\n",
       "      <td>0.330</td>\n",
       "      <td>0.255</td>\n",
       "      <td>0.080</td>\n",
       "      <td>0.2050</td>\n",
       "      <td>0.0895</td>\n",
       "      <td>0.0395</td>\n",
       "      <td>0.055</td>\n",
       "      <td>7</td>\n",
       "    </tr>\n",
       "  </tbody>\n",
       "</table>\n",
       "</div>"
      ],
      "text/plain": [
       "   Sex  Length  Diameter  Height  WholeWeight  ShuckedWeight  VisceraWeight  \\\n",
       "0    0   0.455     0.365   0.095       0.5140         0.2245         0.1010   \n",
       "1    0   0.350     0.265   0.090       0.2255         0.0995         0.0485   \n",
       "2    1   0.530     0.420   0.135       0.6770         0.2565         0.1415   \n",
       "3    0   0.440     0.365   0.125       0.5160         0.2155         0.1140   \n",
       "4    2   0.330     0.255   0.080       0.2050         0.0895         0.0395   \n",
       "\n",
       "   Shell weight  Rings  \n",
       "0         0.150     15  \n",
       "1         0.070      7  \n",
       "2         0.210      9  \n",
       "3         0.155     10  \n",
       "4         0.055      7  "
      ]
     },
     "execution_count": 7,
     "metadata": {},
     "output_type": "execute_result"
    }
   ],
   "source": [
    "data.head()"
   ]
  },
  {
   "cell_type": "markdown",
   "metadata": {},
   "source": [
    "### data one-hot encoding"
   ]
  },
  {
   "cell_type": "code",
   "execution_count": 8,
   "metadata": {},
   "outputs": [],
   "source": [
    "from sklearn.preprocessing import OneHotEncoder"
   ]
  },
  {
   "cell_type": "code",
   "execution_count": 9,
   "metadata": {},
   "outputs": [],
   "source": [
    "encoder = OneHotEncoder()\n",
    "data_sex_1hot = encoder.fit_transform(data_sex_encoded.reshape(-1, 1))"
   ]
  },
  {
   "cell_type": "code",
   "execution_count": 10,
   "metadata": {},
   "outputs": [
    {
     "data": {
      "text/plain": [
       "array([[1., 0., 0.],\n",
       "       [1., 0., 0.],\n",
       "       [0., 1., 0.],\n",
       "       ...,\n",
       "       [1., 0., 0.],\n",
       "       [0., 1., 0.],\n",
       "       [1., 0., 0.]])"
      ]
     },
     "execution_count": 10,
     "metadata": {},
     "output_type": "execute_result"
    }
   ],
   "source": [
    "data_sex_1hot.toarray()"
   ]
  },
  {
   "cell_type": "markdown",
   "metadata": {},
   "source": [
    "## data"
   ]
  },
  {
   "cell_type": "code",
   "execution_count": 11,
   "metadata": {},
   "outputs": [],
   "source": [
    "X = data.copy()\n",
    "y = X.pop('Rings')"
   ]
  },
  {
   "cell_type": "code",
   "execution_count": 12,
   "metadata": {},
   "outputs": [
    {
     "name": "stdout",
     "output_type": "stream",
     "text": [
      "(4177, 8) (4177,)\n"
     ]
    }
   ],
   "source": [
    "print(X.shape, y.shape)"
   ]
  },
  {
   "cell_type": "markdown",
   "metadata": {},
   "source": [
    "## data split"
   ]
  },
  {
   "cell_type": "code",
   "execution_count": 13,
   "metadata": {},
   "outputs": [],
   "source": [
    "from sklearn.model_selection import train_test_split"
   ]
  },
  {
   "cell_type": "code",
   "execution_count": 14,
   "metadata": {},
   "outputs": [],
   "source": [
    "X_train, X_test, y_train, y_test = train_test_split(X, y, test_size=0.2, random_state=0)"
   ]
  },
  {
   "cell_type": "code",
   "execution_count": 15,
   "metadata": {
    "scrolled": true
   },
   "outputs": [
    {
     "name": "stdout",
     "output_type": "stream",
     "text": [
      "X_train : (3341, 8), y_train : (3341,)\n",
      "X_test : (836, 8), y_test : (836,)\n"
     ]
    }
   ],
   "source": [
    "print(f\"X_train : {X_train.shape}, y_train : {y_train.shape}\")\n",
    "print(f\"X_test : {X_test.shape}, y_test : {y_test.shape}\")"
   ]
  },
  {
   "cell_type": "markdown",
   "metadata": {},
   "source": [
    "# model base"
   ]
  },
  {
   "cell_type": "code",
   "execution_count": 16,
   "metadata": {},
   "outputs": [],
   "source": [
    "import tensorflow as tf\n",
    "from tensorflow import keras\n",
    "from tensorflow.keras import layers"
   ]
  },
  {
   "cell_type": "code",
   "execution_count": 19,
   "metadata": {},
   "outputs": [],
   "source": [
    "model = keras.Sequential([\n",
    "    layers.Dense(64, activation='relu', input_shape=[8]),\n",
    "    layers.Dense(128, activation='relu'),\n",
    "    layers.Flatten(),\n",
    "    layers.Dense(1)\n",
    "])"
   ]
  },
  {
   "cell_type": "code",
   "execution_count": 20,
   "metadata": {},
   "outputs": [
    {
     "name": "stdout",
     "output_type": "stream",
     "text": [
      "Model: \"sequential\"\n",
      "_________________________________________________________________\n",
      "Layer (type)                 Output Shape              Param #   \n",
      "=================================================================\n",
      "dense_4 (Dense)              (None, 64)                576       \n",
      "_________________________________________________________________\n",
      "dense_5 (Dense)              (None, 128)               8320      \n",
      "_________________________________________________________________\n",
      "flatten (Flatten)            (None, 128)               0         \n",
      "_________________________________________________________________\n",
      "dense_6 (Dense)              (None, 1)                 129       \n",
      "=================================================================\n",
      "Total params: 9,025\n",
      "Trainable params: 9,025\n",
      "Non-trainable params: 0\n",
      "_________________________________________________________________\n"
     ]
    }
   ],
   "source": [
    "model.summary()"
   ]
  },
  {
   "cell_type": "code",
   "execution_count": 21,
   "metadata": {},
   "outputs": [],
   "source": [
    "model.compile(optimizer='sgd', loss='mse', metrics=['mae', 'mse'])"
   ]
  },
  {
   "cell_type": "code",
   "execution_count": 22,
   "metadata": {},
   "outputs": [
    {
     "name": "stdout",
     "output_type": "stream",
     "text": [
      "WARNING:tensorflow:Falling back from v2 loop because of error: Failed to find data adapter that can handle input: <class 'pandas.core.frame.DataFrame'>, <class 'NoneType'>\n",
      "Train on 3341 samples, validate on 836 samples\n",
      "Epoch 1/100\n",
      "3341/3341 [==============================] - 0s 50us/sample - loss: 20.4981 - mae: 3.1391 - mse: 20.4981 - val_loss: 10.6142 - val_mae: 2.8134 - val_mse: 10.6142\n",
      "Epoch 2/100\n",
      "3341/3341 [==============================] - 0s 19us/sample - loss: 7.6232 - mae: 2.0172 - mse: 7.6232 - val_loss: 12.9678 - val_mae: 2.5886 - val_mse: 12.9678\n",
      "Epoch 3/100\n",
      "3341/3341 [==============================] - 0s 22us/sample - loss: 7.3729 - mae: 1.9735 - mse: 7.3729 - val_loss: 7.9356 - val_mae: 1.8093 - val_mse: 7.9356\n",
      "Epoch 4/100\n",
      "3341/3341 [==============================] - 0s 22us/sample - loss: 6.7695 - mae: 1.8832 - mse: 6.7695 - val_loss: 9.0797 - val_mae: 2.6054 - val_mse: 9.0797\n",
      "Epoch 5/100\n",
      "3341/3341 [==============================] - 0s 23us/sample - loss: 6.8783 - mae: 1.9293 - mse: 6.8783 - val_loss: 8.4396 - val_mae: 2.4493 - val_mse: 8.4396\n",
      "Epoch 6/100\n",
      "3341/3341 [==============================] - 0s 19us/sample - loss: 6.4150 - mae: 1.8450 - mse: 6.4150 - val_loss: 6.5664 - val_mae: 1.9772 - val_mse: 6.5664\n",
      "Epoch 7/100\n",
      "3341/3341 [==============================] - 0s 22us/sample - loss: 6.3927 - mae: 1.8437 - mse: 6.3927 - val_loss: 8.6935 - val_mae: 2.5461 - val_mse: 8.6935\n",
      "Epoch 8/100\n",
      "3341/3341 [==============================] - 0s 18us/sample - loss: 7.1555 - mae: 1.9630 - mse: 7.1555 - val_loss: 14.1092 - val_mae: 3.3976 - val_mse: 14.1092\n",
      "Epoch 9/100\n",
      "3341/3341 [==============================] - 0s 17us/sample - loss: 6.8915 - mae: 1.9409 - mse: 6.8915 - val_loss: 6.9914 - val_mae: 2.1591 - val_mse: 6.9914\n",
      "Epoch 10/100\n",
      "3341/3341 [==============================] - 0s 22us/sample - loss: 7.1202 - mae: 1.9948 - mse: 7.1202 - val_loss: 6.3969 - val_mae: 1.9991 - val_mse: 6.3969\n",
      "Epoch 11/100\n",
      "3341/3341 [==============================] - 0s 17us/sample - loss: 5.7780 - mae: 1.7461 - mse: 5.7780 - val_loss: 8.3419 - val_mae: 2.4315 - val_mse: 8.3419\n",
      "Epoch 12/100\n",
      "3341/3341 [==============================] - 0s 16us/sample - loss: 6.9806 - mae: 1.9723 - mse: 6.9806 - val_loss: 6.0591 - val_mae: 1.6410 - val_mse: 6.0591\n",
      "Epoch 13/100\n",
      "3341/3341 [==============================] - 0s 15us/sample - loss: 6.7813 - mae: 1.9234 - mse: 6.7813 - val_loss: 5.7631 - val_mae: 1.6513 - val_mse: 5.7631\n",
      "Epoch 14/100\n",
      "3341/3341 [==============================] - 0s 18us/sample - loss: 5.8640 - mae: 1.7483 - mse: 5.8640 - val_loss: 7.5711 - val_mae: 1.8462 - val_mse: 7.5711\n",
      "Epoch 15/100\n",
      "3341/3341 [==============================] - 0s 23us/sample - loss: 5.7462 - mae: 1.7503 - mse: 5.7462 - val_loss: 6.6285 - val_mae: 1.6806 - val_mse: 6.6285\n",
      "Epoch 16/100\n",
      "3341/3341 [==============================] - 0s 22us/sample - loss: 7.7977 - mae: 2.1322 - mse: 7.7977 - val_loss: 5.6954 - val_mae: 1.7609 - val_mse: 5.6954\n",
      "Epoch 17/100\n",
      "3341/3341 [==============================] - 0s 21us/sample - loss: 6.4682 - mae: 1.8759 - mse: 6.4682 - val_loss: 6.8491 - val_mae: 1.7419 - val_mse: 6.8491\n",
      "Epoch 18/100\n",
      "3341/3341 [==============================] - 0s 19us/sample - loss: 6.5350 - mae: 1.8856 - mse: 6.5350 - val_loss: 5.7533 - val_mae: 1.7810 - val_mse: 5.7533\n",
      "Epoch 19/100\n",
      "3341/3341 [==============================] - 0s 16us/sample - loss: 5.9015 - mae: 1.7883 - mse: 5.9015 - val_loss: 6.2368 - val_mae: 1.6558 - val_mse: 6.2368\n",
      "Epoch 20/100\n",
      "3341/3341 [==============================] - 0s 15us/sample - loss: 6.2535 - mae: 1.8410 - mse: 6.2535 - val_loss: 5.7757 - val_mae: 1.5852 - val_mse: 5.7757\n",
      "Epoch 21/100\n",
      "3341/3341 [==============================] - 0s 15us/sample - loss: 5.8665 - mae: 1.7620 - mse: 5.8665 - val_loss: 5.4240 - val_mae: 1.7254 - val_mse: 5.4240\n",
      "Epoch 22/100\n",
      "3341/3341 [==============================] - 0s 20us/sample - loss: 6.0088 - mae: 1.8158 - mse: 6.0088 - val_loss: 6.9545 - val_mae: 1.7196 - val_mse: 6.9545\n",
      "Epoch 23/100\n",
      "3341/3341 [==============================] - 0s 29us/sample - loss: 6.2706 - mae: 1.8492 - mse: 6.2706 - val_loss: 13.1457 - val_mae: 3.1920 - val_mse: 13.1457\n",
      "Epoch 24/100\n",
      "3341/3341 [==============================] - 0s 33us/sample - loss: 7.2756 - mae: 2.0232 - mse: 7.2756 - val_loss: 15.0093 - val_mae: 3.0101 - val_mse: 15.0092\n",
      "Epoch 25/100\n",
      "3341/3341 [==============================] - 0s 23us/sample - loss: 5.6012 - mae: 1.7177 - mse: 5.6012 - val_loss: 6.0501 - val_mae: 1.9767 - val_mse: 6.0501\n",
      "Epoch 26/100\n",
      "3341/3341 [==============================] - 0s 17us/sample - loss: 6.5621 - mae: 1.9005 - mse: 6.5621 - val_loss: 5.3673 - val_mae: 1.7306 - val_mse: 5.3673\n",
      "Epoch 27/100\n",
      "3341/3341 [==============================] - 0s 16us/sample - loss: 5.4655 - mae: 1.7108 - mse: 5.4655 - val_loss: 7.8130 - val_mae: 1.9296 - val_mse: 7.8130\n",
      "Epoch 28/100\n",
      "3341/3341 [==============================] - 0s 17us/sample - loss: 5.7844 - mae: 1.7622 - mse: 5.7844 - val_loss: 7.7671 - val_mae: 1.8980 - val_mse: 7.7671\n",
      "Epoch 29/100\n",
      "3341/3341 [==============================] - 0s 27us/sample - loss: 5.0991 - mae: 1.6302 - mse: 5.0991 - val_loss: 9.5941 - val_mae: 2.6252 - val_mse: 9.5941\n",
      "Epoch 30/100\n",
      "3341/3341 [==============================] - 0s 29us/sample - loss: 6.5448 - mae: 1.9123 - mse: 6.5448 - val_loss: 5.1775 - val_mae: 1.5740 - val_mse: 5.1775\n",
      "Epoch 31/100\n",
      "3341/3341 [==============================] - 0s 25us/sample - loss: 5.2788 - mae: 1.6607 - mse: 5.2788 - val_loss: 10.6794 - val_mae: 2.4374 - val_mse: 10.6794\n",
      "Epoch 32/100\n",
      "3341/3341 [==============================] - 0s 24us/sample - loss: 6.3562 - mae: 1.8540 - mse: 6.3562 - val_loss: 5.6233 - val_mae: 1.8561 - val_mse: 5.6233\n",
      "Epoch 33/100\n",
      "3341/3341 [==============================] - 0s 25us/sample - loss: 5.1694 - mae: 1.6475 - mse: 5.1694 - val_loss: 5.1114 - val_mae: 1.5981 - val_mse: 5.1114\n",
      "Epoch 34/100\n",
      "3341/3341 [==============================] - 0s 25us/sample - loss: 5.1182 - mae: 1.6369 - mse: 5.1182 - val_loss: 5.5161 - val_mae: 1.5648 - val_mse: 5.5161\n",
      "Epoch 35/100\n",
      "3341/3341 [==============================] - 0s 24us/sample - loss: 5.8399 - mae: 1.7748 - mse: 5.8399 - val_loss: 5.0735 - val_mae: 1.6092 - val_mse: 5.0735\n",
      "Epoch 36/100\n",
      "3341/3341 [==============================] - 0s 24us/sample - loss: 5.0088 - mae: 1.6263 - mse: 5.0088 - val_loss: 4.9983 - val_mae: 1.5645 - val_mse: 4.9983\n",
      "Epoch 37/100\n",
      "3341/3341 [==============================] - 0s 30us/sample - loss: 4.8281 - mae: 1.5836 - mse: 4.8281 - val_loss: 7.6193 - val_mae: 1.9994 - val_mse: 7.6193\n",
      "Epoch 38/100\n",
      "3341/3341 [==============================] - 0s 24us/sample - loss: 6.0127 - mae: 1.8281 - mse: 6.0127 - val_loss: 5.8295 - val_mae: 1.9093 - val_mse: 5.8295\n",
      "Epoch 39/100\n",
      "3341/3341 [==============================] - 0s 20us/sample - loss: 4.9230 - mae: 1.6041 - mse: 4.9230 - val_loss: 12.2374 - val_mae: 2.6674 - val_mse: 12.2374\n",
      "Epoch 40/100\n",
      "3341/3341 [==============================] - 0s 14us/sample - loss: 5.6354 - mae: 1.7307 - mse: 5.6354 - val_loss: 5.9060 - val_mae: 1.6172 - val_mse: 5.9060\n",
      "Epoch 41/100\n",
      "3341/3341 [==============================] - 0s 29us/sample - loss: 5.1211 - mae: 1.6341 - mse: 5.1211 - val_loss: 5.5710 - val_mae: 1.5633 - val_mse: 5.5709\n",
      "Epoch 42/100\n",
      "3341/3341 [==============================] - 0s 29us/sample - loss: 5.3408 - mae: 1.6816 - mse: 5.3408 - val_loss: 6.7506 - val_mae: 2.1634 - val_mse: 6.7506\n",
      "Epoch 43/100\n",
      "3341/3341 [==============================] - 0s 22us/sample - loss: 5.4952 - mae: 1.7185 - mse: 5.4952 - val_loss: 5.2093 - val_mae: 1.5290 - val_mse: 5.2093\n",
      "Epoch 44/100\n",
      "3341/3341 [==============================] - 0s 22us/sample - loss: 5.0415 - mae: 1.6156 - mse: 5.0415 - val_loss: 4.9158 - val_mae: 1.5558 - val_mse: 4.9158\n",
      "Epoch 45/100\n",
      "3341/3341 [==============================] - 0s 23us/sample - loss: 5.1645 - mae: 1.6516 - mse: 5.1645 - val_loss: 5.1931 - val_mae: 1.5320 - val_mse: 5.1931\n",
      "Epoch 46/100\n",
      "3341/3341 [==============================] - 0s 21us/sample - loss: 4.7500 - mae: 1.5701 - mse: 4.7500 - val_loss: 5.0186 - val_mae: 1.5903 - val_mse: 5.0186\n",
      "Epoch 47/100\n",
      "3341/3341 [==============================] - 0s 26us/sample - loss: 5.0686 - mae: 1.6378 - mse: 5.0686 - val_loss: 5.8799 - val_mae: 1.6241 - val_mse: 5.8799\n",
      "Epoch 48/100\n",
      "3341/3341 [==============================] - 0s 34us/sample - loss: 5.6916 - mae: 1.7317 - mse: 5.6916 - val_loss: 8.5295 - val_mae: 2.0754 - val_mse: 8.5295\n",
      "Epoch 49/100\n",
      "3341/3341 [==============================] - 0s 25us/sample - loss: 5.3757 - mae: 1.6858 - mse: 5.3757 - val_loss: 8.0207 - val_mae: 1.9715 - val_mse: 8.0207\n",
      "Epoch 50/100\n",
      "3341/3341 [==============================] - 0s 20us/sample - loss: 4.8761 - mae: 1.5882 - mse: 4.8761 - val_loss: 6.7604 - val_mae: 1.7890 - val_mse: 6.7604\n",
      "Epoch 51/100\n",
      "3341/3341 [==============================] - 0s 19us/sample - loss: 5.2787 - mae: 1.6803 - mse: 5.2787 - val_loss: 6.8110 - val_mae: 1.7903 - val_mse: 6.8110\n",
      "Epoch 52/100\n",
      "3341/3341 [==============================] - 0s 20us/sample - loss: 5.2230 - mae: 1.6721 - mse: 5.2230 - val_loss: 7.1138 - val_mae: 2.2393 - val_mse: 7.1138\n",
      "Epoch 53/100\n",
      "3341/3341 [==============================] - 0s 20us/sample - loss: 5.2140 - mae: 1.6736 - mse: 5.2140 - val_loss: 6.8969 - val_mae: 2.1539 - val_mse: 6.8969\n",
      "Epoch 54/100\n",
      "3341/3341 [==============================] - 0s 18us/sample - loss: 4.9313 - mae: 1.6240 - mse: 4.9313 - val_loss: 4.9591 - val_mae: 1.5077 - val_mse: 4.9591\n",
      "Epoch 55/100\n",
      "3341/3341 [==============================] - 0s 33us/sample - loss: 4.8672 - mae: 1.6032 - mse: 4.8672 - val_loss: 5.7224 - val_mae: 1.5883 - val_mse: 5.7225\n",
      "Epoch 56/100\n",
      "3341/3341 [==============================] - 0s 33us/sample - loss: 4.9709 - mae: 1.6109 - mse: 4.9709 - val_loss: 5.0744 - val_mae: 1.6891 - val_mse: 5.0744\n",
      "Epoch 57/100\n",
      "3341/3341 [==============================] - 0s 26us/sample - loss: 5.2688 - mae: 1.6818 - mse: 5.2688 - val_loss: 7.9639 - val_mae: 1.9504 - val_mse: 7.9639\n",
      "Epoch 58/100\n",
      "3341/3341 [==============================] - 0s 14us/sample - loss: 4.7919 - mae: 1.5731 - mse: 4.7919 - val_loss: 4.9263 - val_mae: 1.5090 - val_mse: 4.9263\n",
      "Epoch 59/100\n",
      "3341/3341 [==============================] - 0s 13us/sample - loss: 5.0548 - mae: 1.6358 - mse: 5.0548 - val_loss: 4.8695 - val_mae: 1.5359 - val_mse: 4.8695\n",
      "Epoch 60/100\n",
      "3341/3341 [==============================] - 0s 12us/sample - loss: 4.8490 - mae: 1.5945 - mse: 4.8490 - val_loss: 4.8551 - val_mae: 1.5331 - val_mse: 4.8551\n",
      "Epoch 61/100\n",
      "3341/3341 [==============================] - 0s 12us/sample - loss: 4.8608 - mae: 1.5975 - mse: 4.8608 - val_loss: 14.8689 - val_mae: 3.4483 - val_mse: 14.8689\n",
      "Epoch 62/100\n",
      "3341/3341 [==============================] - 0s 13us/sample - loss: 5.4640 - mae: 1.7137 - mse: 5.4640 - val_loss: 4.9993 - val_mae: 1.5047 - val_mse: 4.9993\n",
      "Epoch 63/100\n",
      "3341/3341 [==============================] - 0s 12us/sample - loss: 4.8543 - mae: 1.5930 - mse: 4.8543 - val_loss: 5.2275 - val_mae: 1.5535 - val_mse: 5.2275\n",
      "Epoch 64/100\n",
      "3341/3341 [==============================] - 0s 12us/sample - loss: 5.2148 - mae: 1.6594 - mse: 5.2148 - val_loss: 7.2069 - val_mae: 1.8927 - val_mse: 7.2069\n",
      "Epoch 65/100\n",
      "3341/3341 [==============================] - 0s 13us/sample - loss: 4.9463 - mae: 1.6181 - mse: 4.9463 - val_loss: 6.5854 - val_mae: 2.1282 - val_mse: 6.5854\n",
      "Epoch 66/100\n",
      "3341/3341 [==============================] - 0s 21us/sample - loss: 4.9935 - mae: 1.6321 - mse: 4.9935 - val_loss: 4.8229 - val_mae: 1.5268 - val_mse: 4.8229\n",
      "Epoch 67/100\n",
      "3341/3341 [==============================] - 0s 32us/sample - loss: 4.9661 - mae: 1.6004 - mse: 4.9661 - val_loss: 6.2273 - val_mae: 2.0225 - val_mse: 6.2273\n",
      "Epoch 68/100\n",
      "3341/3341 [==============================] - 0s 18us/sample - loss: 4.9300 - mae: 1.6140 - mse: 4.9300 - val_loss: 5.5718 - val_mae: 1.5656 - val_mse: 5.5718\n",
      "Epoch 69/100\n",
      "3341/3341 [==============================] - 0s 15us/sample - loss: 4.8825 - mae: 1.5968 - mse: 4.8825 - val_loss: 5.5815 - val_mae: 1.5589 - val_mse: 5.5815\n",
      "Epoch 70/100\n",
      "3341/3341 [==============================] - 0s 13us/sample - loss: 4.8827 - mae: 1.5972 - mse: 4.8827 - val_loss: 6.1356 - val_mae: 1.9684 - val_mse: 6.1356\n",
      "Epoch 71/100\n",
      "3341/3341 [==============================] - 0s 15us/sample - loss: 5.0101 - mae: 1.6210 - mse: 5.0101 - val_loss: 4.8331 - val_mae: 1.5080 - val_mse: 4.8331\n",
      "Epoch 72/100\n",
      "3341/3341 [==============================] - 0s 13us/sample - loss: 4.8204 - mae: 1.5836 - mse: 4.8204 - val_loss: 6.0045 - val_mae: 1.6441 - val_mse: 6.0045\n",
      "Epoch 73/100\n",
      "3341/3341 [==============================] - 0s 14us/sample - loss: 4.9818 - mae: 1.6274 - mse: 4.9818 - val_loss: 5.3490 - val_mae: 1.7699 - val_mse: 5.3490\n",
      "Epoch 74/100\n",
      "3341/3341 [==============================] - 0s 15us/sample - loss: 4.7180 - mae: 1.5705 - mse: 4.7180 - val_loss: 4.7836 - val_mae: 1.5585 - val_mse: 4.7836\n",
      "Epoch 75/100\n",
      "3341/3341 [==============================] - 0s 16us/sample - loss: 4.6782 - mae: 1.5540 - mse: 4.6782 - val_loss: 11.5571 - val_mae: 2.9163 - val_mse: 11.5571\n",
      "Epoch 76/100\n",
      "3341/3341 [==============================] - 0s 15us/sample - loss: 5.5096 - mae: 1.7026 - mse: 5.5096 - val_loss: 8.6295 - val_mae: 2.5023 - val_mse: 8.6295\n",
      "Epoch 77/100\n",
      "3341/3341 [==============================] - 0s 15us/sample - loss: 5.0765 - mae: 1.6351 - mse: 5.0765 - val_loss: 5.1794 - val_mae: 1.6153 - val_mse: 5.1794\n",
      "Epoch 78/100\n",
      "3341/3341 [==============================] - 0s 13us/sample - loss: 4.7549 - mae: 1.5622 - mse: 4.7549 - val_loss: 6.9815 - val_mae: 1.8461 - val_mse: 6.9815\n",
      "Epoch 79/100\n",
      "3341/3341 [==============================] - 0s 16us/sample - loss: 4.6472 - mae: 1.5459 - mse: 4.6472 - val_loss: 7.4587 - val_mae: 1.9395 - val_mse: 7.4587\n",
      "Epoch 80/100\n",
      "3341/3341 [==============================] - 0s 17us/sample - loss: 5.0002 - mae: 1.6118 - mse: 5.0002 - val_loss: 5.0314 - val_mae: 1.6625 - val_mse: 5.0314\n",
      "Epoch 81/100\n",
      "3341/3341 [==============================] - 0s 16us/sample - loss: 4.5892 - mae: 1.5477 - mse: 4.5892 - val_loss: 5.2513 - val_mae: 1.5258 - val_mse: 5.2513\n",
      "Epoch 82/100\n",
      "3341/3341 [==============================] - 0s 18us/sample - loss: 4.7718 - mae: 1.5669 - mse: 4.7718 - val_loss: 5.9933 - val_mae: 1.9516 - val_mse: 5.9933\n",
      "Epoch 83/100\n",
      "3341/3341 [==============================] - 0s 34us/sample - loss: 4.7666 - mae: 1.5731 - mse: 4.7666 - val_loss: 6.8132 - val_mae: 1.7843 - val_mse: 6.8132\n",
      "Epoch 84/100\n",
      "3341/3341 [==============================] - 0s 34us/sample - loss: 4.9461 - mae: 1.5996 - mse: 4.9461 - val_loss: 5.3145 - val_mae: 1.7890 - val_mse: 5.3145\n",
      "Epoch 85/100\n",
      "3341/3341 [==============================] - 0s 15us/sample - loss: 4.6386 - mae: 1.5633 - mse: 4.6386 - val_loss: 5.1833 - val_mae: 1.7099 - val_mse: 5.1833\n",
      "Epoch 86/100\n",
      "3341/3341 [==============================] - 0s 13us/sample - loss: 4.6971 - mae: 1.5582 - mse: 4.6971 - val_loss: 8.0240 - val_mae: 2.3090 - val_mse: 8.0240\n",
      "Epoch 87/100\n",
      "3341/3341 [==============================] - 0s 14us/sample - loss: 4.9730 - mae: 1.6180 - mse: 4.9730 - val_loss: 4.8258 - val_mae: 1.4932 - val_mse: 4.8258\n",
      "Epoch 88/100\n",
      "3341/3341 [==============================] - 0s 14us/sample - loss: 4.6865 - mae: 1.5508 - mse: 4.6865 - val_loss: 5.5995 - val_mae: 1.5943 - val_mse: 5.5995\n",
      "Epoch 89/100\n",
      "3341/3341 [==============================] - 0s 17us/sample - loss: 4.6013 - mae: 1.5496 - mse: 4.6013 - val_loss: 5.2420 - val_mae: 1.7125 - val_mse: 5.2420\n",
      "Epoch 90/100\n",
      "3341/3341 [==============================] - 0s 16us/sample - loss: 4.6216 - mae: 1.5421 - mse: 4.6216 - val_loss: 4.9718 - val_mae: 1.6128 - val_mse: 4.9718\n",
      "Epoch 91/100\n",
      "3341/3341 [==============================] - 0s 14us/sample - loss: 4.6749 - mae: 1.5486 - mse: 4.6749 - val_loss: 6.8489 - val_mae: 2.1618 - val_mse: 6.8489\n",
      "Epoch 92/100\n",
      "3341/3341 [==============================] - 0s 12us/sample - loss: 4.9632 - mae: 1.6221 - mse: 4.9632 - val_loss: 4.7375 - val_mae: 1.5336 - val_mse: 4.7375\n",
      "Epoch 93/100\n",
      "3341/3341 [==============================] - 0s 12us/sample - loss: 4.7343 - mae: 1.5671 - mse: 4.7343 - val_loss: 13.7030 - val_mae: 3.2745 - val_mse: 13.7030\n",
      "Epoch 94/100\n",
      "3341/3341 [==============================] - 0s 13us/sample - loss: 5.1329 - mae: 1.6524 - mse: 5.1329 - val_loss: 6.1148 - val_mae: 1.9228 - val_mse: 6.1148\n"
     ]
    },
    {
     "name": "stdout",
     "output_type": "stream",
     "text": [
      "Epoch 95/100\n",
      "3341/3341 [==============================] - 0s 22us/sample - loss: 4.5793 - mae: 1.5398 - mse: 4.5793 - val_loss: 5.4717 - val_mae: 1.8341 - val_mse: 5.4717\n",
      "Epoch 96/100\n",
      "3341/3341 [==============================] - 0s 30us/sample - loss: 4.7054 - mae: 1.5702 - mse: 4.7054 - val_loss: 5.7541 - val_mae: 1.9065 - val_mse: 5.7541\n",
      "Epoch 97/100\n",
      "3341/3341 [==============================] - 0s 24us/sample - loss: 4.9667 - mae: 1.6117 - mse: 4.9667 - val_loss: 4.7986 - val_mae: 1.5779 - val_mse: 4.7986\n",
      "Epoch 98/100\n",
      "3341/3341 [==============================] - 0s 23us/sample - loss: 4.5186 - mae: 1.5216 - mse: 4.5186 - val_loss: 4.8019 - val_mae: 1.4965 - val_mse: 4.8019\n",
      "Epoch 99/100\n",
      "3341/3341 [==============================] - 0s 19us/sample - loss: 4.8501 - mae: 1.5880 - mse: 4.8501 - val_loss: 4.9029 - val_mae: 1.5031 - val_mse: 4.9029\n",
      "Epoch 100/100\n",
      "3341/3341 [==============================] - 0s 19us/sample - loss: 4.4898 - mae: 1.5110 - mse: 4.4898 - val_loss: 4.9321 - val_mae: 1.4919 - val_mse: 4.9321\n"
     ]
    }
   ],
   "source": [
    "history = model.fit(X_train, y_train, \n",
    "                     epochs=100,\n",
    "                     batch_size=128,\n",
    "                     validation_data=(X_test, y_test),\n",
    "                     verbose = 1\n",
    "                    )"
   ]
  },
  {
   "cell_type": "code",
   "execution_count": 22,
   "metadata": {},
   "outputs": [
    {
     "data": {
      "text/plain": [
       "<matplotlib.legend.Legend at 0x13d0d7f10>"
      ]
     },
     "execution_count": 22,
     "metadata": {},
     "output_type": "execute_result"
    },
    {
     "data": {
      "image/png": "[encoded data removed]",
      "text/plain": [
       "<Figure size 432x288 with 1 Axes>"
      ]
     },
     "metadata": {
      "needs_background": "light"
     },
     "output_type": "display_data"
    }
   ],
   "source": [
    "hist = pd.DataFrame(history.history)\n",
    "hist['epoch'] = history.epoch\n",
    "\n",
    "plt.xlabel('Epoch')\n",
    "plt.ylabel('Mean Abs Error [MPG]')\n",
    "plt.plot(hist['epoch'], hist['mae'], label='Train Error')\n",
    "plt.plot(hist['epoch'], hist['val_mae'], label='val Error')\n",
    "plt.ylim(0, 5)\n",
    "plt.legend()"
   ]
  },
  {
   "cell_type": "code",
   "execution_count": 24,
   "metadata": {},
   "outputs": [
    {
     "data": {
      "text/plain": [
       "<matplotlib.legend.Legend at 0x13d5a43d0>"
      ]
     },
     "execution_count": 24,
     "metadata": {},
     "output_type": "execute_result"
    },
    {
     "data": {
      "image/png": "[encoded data removed]",
      "text/plain": [
       "<Figure size 432x288 with 1 Axes>"
      ]
     },
     "metadata": {
      "needs_background": "light"
     },
     "output_type": "display_data"
    }
   ],
   "source": [
    "plt.xlabel('Epoch')\n",
    "plt.ylabel('Mean Square Error [$MPG^2$]')\n",
    "plt.plot(hist['epoch'], hist['mse'], label='Train Error')\n",
    "plt.plot(hist['epoch'], hist['val_mse'], label='val Error')\n",
    "plt.ylim(0, 30)\n",
    "plt.legend()"
   ]
  },
  {
   "cell_type": "code",
   "execution_count": 27,
   "metadata": {
    "scrolled": true
   },
   "outputs": [
    {
     "name": "stdout",
     "output_type": "stream",
     "text": [
      "WARNING:tensorflow:Falling back from v2 loop because of error: Failed to find data adapter that can handle input: <class 'pandas.core.frame.DataFrame'>, <class 'NoneType'>\n",
      "836/836 [==============================] - 0s 43us/sample - loss: 7.1826 - mae: 1.8946 - mse: 7.1826\n"
     ]
    },
    {
     "data": {
      "text/plain": [
       "2.680045768432385"
      ]
     },
     "execution_count": 27,
     "metadata": {},
     "output_type": "execute_result"
    }
   ],
   "source": [
    "loss, mae, mse = model.evaluate(X_test, y_test)\n",
    "mse**0.5"
   ]
  },
  {
   "cell_type": "markdown",
   "metadata": {},
   "source": [
    "## model_2 300epoch"
   ]
  },
  {
   "cell_type": "code",
   "execution_count": 28,
   "metadata": {},
   "outputs": [],
   "source": [
    "model = keras.Sequential([\n",
    "    layers.Dense(64, activation='relu', input_shape=[8]),\n",
    "    layers.Dense(128, activation='relu'),\n",
    "    layers.Dense(1)\n",
    "])"
   ]
  },
  {
   "cell_type": "code",
   "execution_count": 29,
   "metadata": {},
   "outputs": [
    {
     "name": "stdout",
     "output_type": "stream",
     "text": [
      "Model: \"sequential_1\"\n",
      "_________________________________________________________________\n",
      "Layer (type)                 Output Shape              Param #   \n",
      "=================================================================\n",
      "dense_3 (Dense)              (None, 64)                576       \n",
      "_________________________________________________________________\n",
      "dense_4 (Dense)              (None, 128)               8320      \n",
      "_________________________________________________________________\n",
      "dense_5 (Dense)              (None, 1)                 129       \n",
      "=================================================================\n",
      "Total params: 9,025\n",
      "Trainable params: 9,025\n",
      "Non-trainable params: 0\n",
      "_________________________________________________________________\n"
     ]
    }
   ],
   "source": [
    "model.summary()"
   ]
  },
  {
   "cell_type": "code",
   "execution_count": 30,
   "metadata": {},
   "outputs": [],
   "source": [
    "model.compile(optimizer='sgd', loss='mse', metrics=['mae', 'mse'])"
   ]
  },
  {
   "cell_type": "code",
   "execution_count": 31,
   "metadata": {},
   "outputs": [
    {
     "name": "stdout",
     "output_type": "stream",
     "text": [
      "WARNING:tensorflow:Falling back from v2 loop because of error: Failed to find data adapter that can handle input: <class 'pandas.core.frame.DataFrame'>, <class 'NoneType'>\n",
      "Train on 3341 samples, validate on 836 samples\n",
      "Epoch 1/300\n",
      "3341/3341 [==============================] - 0s 47us/sample - loss: 16.7844 - mae: 2.9032 - mse: 16.7844 - val_loss: 8.0803 - val_mae: 2.2517 - val_mse: 8.0803\n",
      "Epoch 2/300\n",
      "3341/3341 [==============================] - 0s 16us/sample - loss: 7.7341 - mae: 2.0216 - mse: 7.7341 - val_loss: 7.1404 - val_mae: 1.9056 - val_mse: 7.1404\n",
      "Epoch 3/300\n",
      "3341/3341 [==============================] - 0s 16us/sample - loss: 6.9265 - mae: 1.9059 - mse: 6.9265 - val_loss: 14.1215 - val_mae: 3.3569 - val_mse: 14.1215\n",
      "Epoch 4/300\n",
      "3341/3341 [==============================] - 0s 17us/sample - loss: 8.2713 - mae: 2.1429 - mse: 8.2713 - val_loss: 9.1704 - val_mae: 2.6119 - val_mse: 9.1704\n",
      "Epoch 5/300\n",
      "3341/3341 [==============================] - 0s 18us/sample - loss: 7.3256 - mae: 1.9992 - mse: 7.3256 - val_loss: 8.1874 - val_mae: 2.4080 - val_mse: 8.1874\n",
      "Epoch 6/300\n",
      "3341/3341 [==============================] - 0s 22us/sample - loss: 6.3893 - mae: 1.8325 - mse: 6.3893 - val_loss: 8.9713 - val_mae: 1.9603 - val_mse: 8.9713\n",
      "Epoch 7/300\n",
      "3341/3341 [==============================] - 0s 27us/sample - loss: 6.5680 - mae: 1.8570 - mse: 6.5680 - val_loss: 8.2536 - val_mae: 1.8776 - val_mse: 8.2536\n",
      "Epoch 8/300\n",
      "3341/3341 [==============================] - 0s 18us/sample - loss: 7.2506 - mae: 1.9680 - mse: 7.2506 - val_loss: 6.3397 - val_mae: 1.6981 - val_mse: 6.3397\n",
      "Epoch 9/300\n",
      "3341/3341 [==============================] - 0s 16us/sample - loss: 6.9799 - mae: 1.9316 - mse: 6.9799 - val_loss: 7.0104 - val_mae: 1.6984 - val_mse: 7.0104\n",
      "Epoch 10/300\n",
      "3341/3341 [==============================] - 0s 15us/sample - loss: 6.7380 - mae: 1.9013 - mse: 6.7380 - val_loss: 6.7949 - val_mae: 2.1037 - val_mse: 6.7949\n",
      "Epoch 11/300\n",
      "3341/3341 [==============================] - 0s 16us/sample - loss: 6.6689 - mae: 1.9068 - mse: 6.6689 - val_loss: 45.7856 - val_mae: 6.3849 - val_mse: 45.7856\n",
      "Epoch 12/300\n",
      "3341/3341 [==============================] - 0s 17us/sample - loss: 10.6657 - mae: 2.3174 - mse: 10.6657 - val_loss: 8.8577 - val_mae: 1.9882 - val_mse: 8.8577\n",
      "Epoch 13/300\n",
      "3341/3341 [==============================] - 0s 15us/sample - loss: 6.2326 - mae: 1.7932 - mse: 6.2326 - val_loss: 6.2919 - val_mae: 1.6443 - val_mse: 6.2919\n",
      "Epoch 14/300\n",
      "3341/3341 [==============================] - 0s 16us/sample - loss: 6.1007 - mae: 1.7876 - mse: 6.1007 - val_loss: 6.2392 - val_mae: 1.6312 - val_mse: 6.2392\n",
      "Epoch 15/300\n",
      "3341/3341 [==============================] - 0s 17us/sample - loss: 5.7684 - mae: 1.7341 - mse: 5.7684 - val_loss: 6.7644 - val_mae: 2.1269 - val_mse: 6.7644\n",
      "Epoch 16/300\n",
      "3341/3341 [==============================] - 0s 17us/sample - loss: 6.0573 - mae: 1.8074 - mse: 6.0573 - val_loss: 6.2941 - val_mae: 2.0098 - val_mse: 6.2941\n",
      "Epoch 17/300\n",
      "3341/3341 [==============================] - 0s 16us/sample - loss: 6.5380 - mae: 1.9051 - mse: 6.5380 - val_loss: 9.2401 - val_mae: 2.1122 - val_mse: 9.2401\n",
      "Epoch 18/300\n",
      "3341/3341 [==============================] - 0s 15us/sample - loss: 5.7404 - mae: 1.7391 - mse: 5.7404 - val_loss: 5.6224 - val_mae: 1.7672 - val_mse: 5.6224\n",
      "Epoch 19/300\n",
      "3341/3341 [==============================] - 0s 16us/sample - loss: 6.7439 - mae: 1.9514 - mse: 6.7439 - val_loss: 10.9038 - val_mae: 2.3918 - val_mse: 10.9038\n",
      "Epoch 20/300\n",
      "3341/3341 [==============================] - 0s 17us/sample - loss: 5.6952 - mae: 1.7267 - mse: 5.6952 - val_loss: 5.3856 - val_mae: 1.6250 - val_mse: 5.3856\n",
      "Epoch 21/300\n",
      "3341/3341 [==============================] - 0s 17us/sample - loss: 6.5754 - mae: 1.8935 - mse: 6.5754 - val_loss: 5.5897 - val_mae: 1.7822 - val_mse: 5.5897\n",
      "Epoch 22/300\n",
      "3341/3341 [==============================] - 0s 18us/sample - loss: 5.5398 - mae: 1.7183 - mse: 5.5398 - val_loss: 5.7752 - val_mae: 1.6124 - val_mse: 5.7752\n",
      "Epoch 23/300\n",
      "3341/3341 [==============================] - 0s 23us/sample - loss: 6.3210 - mae: 1.8679 - mse: 6.3210 - val_loss: 5.6089 - val_mae: 1.7519 - val_mse: 5.6089\n",
      "Epoch 24/300\n",
      "3341/3341 [==============================] - 0s 19us/sample - loss: 5.6244 - mae: 1.7269 - mse: 5.6244 - val_loss: 5.3188 - val_mae: 1.6448 - val_mse: 5.3188\n",
      "Epoch 25/300\n",
      "3341/3341 [==============================] - 0s 19us/sample - loss: 5.5675 - mae: 1.7259 - mse: 5.5675 - val_loss: 5.6674 - val_mae: 1.6670 - val_mse: 5.6674\n",
      "Epoch 26/300\n",
      "3341/3341 [==============================] - 0s 21us/sample - loss: 5.6342 - mae: 1.7286 - mse: 5.6342 - val_loss: 5.5221 - val_mae: 1.7859 - val_mse: 5.5221\n",
      "Epoch 27/300\n",
      "3341/3341 [==============================] - 0s 18us/sample - loss: 5.4284 - mae: 1.7039 - mse: 5.4284 - val_loss: 6.9120 - val_mae: 2.1506 - val_mse: 6.9120\n",
      "Epoch 28/300\n",
      "3341/3341 [==============================] - 0s 19us/sample - loss: 5.2786 - mae: 1.6750 - mse: 5.2786 - val_loss: 15.0656 - val_mae: 3.4434 - val_mse: 15.0656\n",
      "Epoch 29/300\n",
      "3341/3341 [==============================] - 0s 24us/sample - loss: 6.1451 - mae: 1.8037 - mse: 6.1451 - val_loss: 5.2723 - val_mae: 1.6866 - val_mse: 5.2723\n",
      "Epoch 30/300\n",
      "3341/3341 [==============================] - 0s 17us/sample - loss: 6.5152 - mae: 1.8908 - mse: 6.5152 - val_loss: 5.4639 - val_mae: 1.7515 - val_mse: 5.4639\n",
      "Epoch 31/300\n",
      "3341/3341 [==============================] - 0s 17us/sample - loss: 5.4028 - mae: 1.6877 - mse: 5.4028 - val_loss: 6.8975 - val_mae: 2.1827 - val_mse: 6.8975\n",
      "Epoch 32/300\n",
      "3341/3341 [==============================] - 0s 17us/sample - loss: 5.7545 - mae: 1.7608 - mse: 5.7545 - val_loss: 10.2225 - val_mae: 2.7463 - val_mse: 10.2225\n",
      "Epoch 33/300\n",
      "3341/3341 [==============================] - 0s 19us/sample - loss: 5.9588 - mae: 1.8026 - mse: 5.9588 - val_loss: 5.1788 - val_mae: 1.6046 - val_mse: 5.1788\n",
      "Epoch 34/300\n",
      "3341/3341 [==============================] - 0s 29us/sample - loss: 5.0515 - mae: 1.6305 - mse: 5.0515 - val_loss: 5.3058 - val_mae: 1.7419 - val_mse: 5.3058\n",
      "Epoch 35/300\n",
      "3341/3341 [==============================] - 0s 29us/sample - loss: 5.3962 - mae: 1.6967 - mse: 5.3962 - val_loss: 6.7521 - val_mae: 1.7553 - val_mse: 6.7521\n",
      "Epoch 36/300\n",
      "3341/3341 [==============================] - 0s 21us/sample - loss: 5.9110 - mae: 1.7841 - mse: 5.9110 - val_loss: 7.6530 - val_mae: 1.8624 - val_mse: 7.6530\n",
      "Epoch 37/300\n",
      "3341/3341 [==============================] - 0s 15us/sample - loss: 5.3254 - mae: 1.6841 - mse: 5.3254 - val_loss: 7.2090 - val_mae: 1.7660 - val_mse: 7.2090\n",
      "Epoch 38/300\n",
      "3341/3341 [==============================] - 0s 16us/sample - loss: 5.4440 - mae: 1.6994 - mse: 5.4440 - val_loss: 5.5730 - val_mae: 1.5578 - val_mse: 5.5730\n",
      "Epoch 39/300\n",
      "3341/3341 [==============================] - 0s 13us/sample - loss: 5.5577 - mae: 1.7214 - mse: 5.5577 - val_loss: 5.1208 - val_mae: 1.6533 - val_mse: 5.1208\n",
      "Epoch 40/300\n",
      "3341/3341 [==============================] - 0s 12us/sample - loss: 5.1733 - mae: 1.6407 - mse: 5.1733 - val_loss: 5.1592 - val_mae: 1.6948 - val_mse: 5.1592\n",
      "Epoch 41/300\n",
      "3341/3341 [==============================] - 0s 12us/sample - loss: 5.5865 - mae: 1.7503 - mse: 5.5865 - val_loss: 7.7071 - val_mae: 2.3279 - val_mse: 7.7071\n",
      "Epoch 42/300\n",
      "3341/3341 [==============================] - 0s 12us/sample - loss: 5.4277 - mae: 1.7076 - mse: 5.4277 - val_loss: 11.1262 - val_mae: 2.4588 - val_mse: 11.1262\n",
      "Epoch 43/300\n",
      "3341/3341 [==============================] - 0s 12us/sample - loss: 5.6100 - mae: 1.7192 - mse: 5.6100 - val_loss: 5.4935 - val_mae: 1.5778 - val_mse: 5.4935\n",
      "Epoch 44/300\n",
      "3341/3341 [==============================] - 0s 12us/sample - loss: 5.7254 - mae: 1.7489 - mse: 5.7254 - val_loss: 10.8437 - val_mae: 2.9011 - val_mse: 10.8437\n",
      "Epoch 45/300\n",
      "3341/3341 [==============================] - 0s 12us/sample - loss: 5.4278 - mae: 1.7002 - mse: 5.4278 - val_loss: 6.0210 - val_mae: 1.9473 - val_mse: 6.0210\n",
      "Epoch 46/300\n",
      "3341/3341 [==============================] - 0s 14us/sample - loss: 5.0055 - mae: 1.6349 - mse: 5.0055 - val_loss: 6.1849 - val_mae: 1.6399 - val_mse: 6.1849\n",
      "Epoch 47/300\n",
      "3341/3341 [==============================] - 0s 16us/sample - loss: 5.3511 - mae: 1.6739 - mse: 5.3511 - val_loss: 5.0522 - val_mae: 1.6349 - val_mse: 5.0522\n",
      "Epoch 48/300\n",
      "3341/3341 [==============================] - 0s 18us/sample - loss: 4.8462 - mae: 1.5947 - mse: 4.8462 - val_loss: 5.0124 - val_mae: 1.6207 - val_mse: 5.0124\n",
      "Epoch 49/300\n",
      "3341/3341 [==============================] - 0s 18us/sample - loss: 4.9671 - mae: 1.6270 - mse: 4.9671 - val_loss: 4.9840 - val_mae: 1.5740 - val_mse: 4.9840\n",
      "Epoch 50/300\n",
      "3341/3341 [==============================] - 0s 17us/sample - loss: 4.8740 - mae: 1.5836 - mse: 4.8740 - val_loss: 4.9161 - val_mae: 1.5555 - val_mse: 4.9161\n",
      "Epoch 51/300\n",
      "3341/3341 [==============================] - 0s 16us/sample - loss: 5.1675 - mae: 1.6518 - mse: 5.1675 - val_loss: 7.3592 - val_mae: 1.9158 - val_mse: 7.3591\n",
      "Epoch 52/300\n",
      "3341/3341 [==============================] - 0s 14us/sample - loss: 5.8354 - mae: 1.7546 - mse: 5.8354 - val_loss: 5.3793 - val_mae: 1.5770 - val_mse: 5.3793\n",
      "Epoch 53/300\n",
      "3341/3341 [==============================] - 0s 13us/sample - loss: 4.9772 - mae: 1.6192 - mse: 4.9772 - val_loss: 5.1844 - val_mae: 1.5204 - val_mse: 5.1844\n",
      "Epoch 54/300\n",
      "3341/3341 [==============================] - 0s 20us/sample - loss: 5.0256 - mae: 1.6212 - mse: 5.0256 - val_loss: 7.2439 - val_mae: 2.1342 - val_mse: 7.2439\n",
      "Epoch 55/300\n",
      "3341/3341 [==============================] - 0s 44us/sample - loss: 5.4211 - mae: 1.7056 - mse: 5.4211 - val_loss: 5.0640 - val_mae: 1.6502 - val_mse: 5.0640\n",
      "Epoch 56/300\n",
      "3341/3341 [==============================] - 0s 28us/sample - loss: 4.8996 - mae: 1.6121 - mse: 4.8996 - val_loss: 6.3733 - val_mae: 2.0564 - val_mse: 6.3733\n",
      "Epoch 57/300\n",
      "3341/3341 [==============================] - 0s 17us/sample - loss: 5.0796 - mae: 1.6466 - mse: 5.0796 - val_loss: 5.7279 - val_mae: 1.5744 - val_mse: 5.7279\n",
      "Epoch 58/300\n",
      "3341/3341 [==============================] - 0s 16us/sample - loss: 4.8641 - mae: 1.5931 - mse: 4.8641 - val_loss: 6.3229 - val_mae: 2.0368 - val_mse: 6.3229\n",
      "Epoch 59/300\n",
      "3341/3341 [==============================] - 0s 14us/sample - loss: 4.9309 - mae: 1.6122 - mse: 4.9309 - val_loss: 13.2836 - val_mae: 3.2284 - val_mse: 13.2836\n",
      "Epoch 60/300\n",
      "3341/3341 [==============================] - 0s 13us/sample - loss: 5.3630 - mae: 1.6881 - mse: 5.3630 - val_loss: 5.1029 - val_mae: 1.5308 - val_mse: 5.1029\n",
      "Epoch 61/300\n",
      "3341/3341 [==============================] - 0s 13us/sample - loss: 4.7231 - mae: 1.5670 - mse: 4.7231 - val_loss: 4.9629 - val_mae: 1.5844 - val_mse: 4.9629\n",
      "Epoch 62/300\n",
      "3341/3341 [==============================] - 0s 15us/sample - loss: 4.8166 - mae: 1.5953 - mse: 4.8166 - val_loss: 7.1743 - val_mae: 2.2309 - val_mse: 7.1743\n",
      "Epoch 63/300\n",
      "3341/3341 [==============================] - 0s 16us/sample - loss: 4.9066 - mae: 1.6049 - mse: 4.9066 - val_loss: 6.4935 - val_mae: 2.0636 - val_mse: 6.4935\n",
      "Epoch 64/300\n",
      "3341/3341 [==============================] - 0s 14us/sample - loss: 5.2017 - mae: 1.6840 - mse: 5.2017 - val_loss: 5.0079 - val_mae: 1.6455 - val_mse: 5.0079\n",
      "Epoch 65/300\n",
      "3341/3341 [==============================] - 0s 14us/sample - loss: 5.0924 - mae: 1.6305 - mse: 5.0924 - val_loss: 5.0020 - val_mae: 1.6188 - val_mse: 5.0020\n",
      "Epoch 66/300\n",
      "3341/3341 [==============================] - 0s 16us/sample - loss: 4.6313 - mae: 1.5518 - mse: 4.6313 - val_loss: 8.3151 - val_mae: 2.4330 - val_mse: 8.3151\n",
      "Epoch 67/300\n",
      "3341/3341 [==============================] - 0s 18us/sample - loss: 5.1735 - mae: 1.6731 - mse: 5.1735 - val_loss: 9.8767 - val_mae: 2.6592 - val_mse: 9.8767\n",
      "Epoch 68/300\n",
      "3341/3341 [==============================] - 0s 19us/sample - loss: 5.3015 - mae: 1.6712 - mse: 5.3015 - val_loss: 4.8806 - val_mae: 1.5754 - val_mse: 4.8806\n",
      "Epoch 69/300\n",
      "3341/3341 [==============================] - 0s 17us/sample - loss: 4.5828 - mae: 1.5362 - mse: 4.5828 - val_loss: 9.5402 - val_mae: 2.6207 - val_mse: 9.5402\n",
      "Epoch 70/300\n",
      "3341/3341 [==============================] - 0s 19us/sample - loss: 5.4887 - mae: 1.6983 - mse: 5.4887 - val_loss: 7.4487 - val_mae: 1.8825 - val_mse: 7.4487\n",
      "Epoch 71/300\n",
      "3341/3341 [==============================] - 0s 17us/sample - loss: 4.8457 - mae: 1.5873 - mse: 4.8457 - val_loss: 4.8020 - val_mae: 1.5404 - val_mse: 4.8020\n",
      "Epoch 72/300\n",
      "3341/3341 [==============================] - 0s 19us/sample - loss: 4.6794 - mae: 1.5550 - mse: 4.6794 - val_loss: 4.8484 - val_mae: 1.5841 - val_mse: 4.8484\n",
      "Epoch 73/300\n",
      "3341/3341 [==============================] - 0s 24us/sample - loss: 4.8095 - mae: 1.5816 - mse: 4.8095 - val_loss: 4.9185 - val_mae: 1.5038 - val_mse: 4.9185\n",
      "Epoch 74/300\n",
      "3341/3341 [==============================] - 0s 23us/sample - loss: 4.8072 - mae: 1.5806 - mse: 4.8072 - val_loss: 5.0116 - val_mae: 1.5692 - val_mse: 5.0116\n",
      "Epoch 75/300\n",
      "3341/3341 [==============================] - 0s 21us/sample - loss: 4.9752 - mae: 1.6030 - mse: 4.9752 - val_loss: 5.0382 - val_mae: 1.4997 - val_mse: 5.0382\n",
      "Epoch 76/300\n",
      "3341/3341 [==============================] - 0s 21us/sample - loss: 4.8938 - mae: 1.5985 - mse: 4.8938 - val_loss: 7.3178 - val_mae: 1.8691 - val_mse: 7.3178\n",
      "Epoch 77/300\n",
      "3341/3341 [==============================] - 0s 20us/sample - loss: 4.8586 - mae: 1.5879 - mse: 4.8586 - val_loss: 6.5876 - val_mae: 2.0668 - val_mse: 6.5876\n",
      "Epoch 78/300\n",
      "3341/3341 [==============================] - 0s 21us/sample - loss: 4.8905 - mae: 1.5961 - mse: 4.8905 - val_loss: 5.5216 - val_mae: 1.5826 - val_mse: 5.5216\n",
      "Epoch 79/300\n",
      "3341/3341 [==============================] - 0s 21us/sample - loss: 4.8046 - mae: 1.5624 - mse: 4.8046 - val_loss: 8.0777 - val_mae: 2.4117 - val_mse: 8.0777\n",
      "Epoch 80/300\n",
      "3341/3341 [==============================] - 0s 29us/sample - loss: 5.1264 - mae: 1.6423 - mse: 5.1264 - val_loss: 5.0486 - val_mae: 1.5437 - val_mse: 5.0486\n",
      "Epoch 81/300\n",
      "3341/3341 [==============================] - 0s 26us/sample - loss: 5.0047 - mae: 1.6187 - mse: 5.0047 - val_loss: 5.7028 - val_mae: 1.5901 - val_mse: 5.7028\n",
      "Epoch 82/300\n",
      "3341/3341 [==============================] - 0s 23us/sample - loss: 4.6875 - mae: 1.5499 - mse: 4.6875 - val_loss: 4.8686 - val_mae: 1.4989 - val_mse: 4.8686\n",
      "Epoch 83/300\n",
      "3341/3341 [==============================] - 0s 27us/sample - loss: 4.8539 - mae: 1.5893 - mse: 4.8539 - val_loss: 5.3175 - val_mae: 1.7696 - val_mse: 5.3175\n",
      "Epoch 84/300\n",
      "3341/3341 [==============================] - 0s 28us/sample - loss: 4.5865 - mae: 1.5399 - mse: 4.5865 - val_loss: 5.6051 - val_mae: 1.7937 - val_mse: 5.6051\n",
      "Epoch 85/300\n",
      "3341/3341 [==============================] - 0s 22us/sample - loss: 4.8966 - mae: 1.5944 - mse: 4.8966 - val_loss: 10.9391 - val_mae: 2.4917 - val_mse: 10.9391\n",
      "Epoch 86/300\n",
      "3341/3341 [==============================] - 0s 15us/sample - loss: 4.7510 - mae: 1.5603 - mse: 4.7510 - val_loss: 4.8451 - val_mae: 1.5877 - val_mse: 4.8451\n",
      "Epoch 87/300\n",
      "3341/3341 [==============================] - 0s 14us/sample - loss: 4.9097 - mae: 1.5982 - mse: 4.9097 - val_loss: 5.2933 - val_mae: 1.5841 - val_mse: 5.2933\n",
      "Epoch 88/300\n",
      "3341/3341 [==============================] - 0s 14us/sample - loss: 4.5081 - mae: 1.5230 - mse: 4.5081 - val_loss: 4.9216 - val_mae: 1.5830 - val_mse: 4.9216\n",
      "Epoch 89/300\n",
      "3341/3341 [==============================] - 0s 14us/sample - loss: 4.6148 - mae: 1.5387 - mse: 4.6148 - val_loss: 4.8471 - val_mae: 1.5907 - val_mse: 4.8471\n",
      "Epoch 90/300\n",
      "3341/3341 [==============================] - 0s 14us/sample - loss: 4.8859 - mae: 1.5923 - mse: 4.8859 - val_loss: 6.1537 - val_mae: 2.0065 - val_mse: 6.1537\n",
      "Epoch 91/300\n",
      "3341/3341 [==============================] - 0s 16us/sample - loss: 4.7840 - mae: 1.5776 - mse: 4.7840 - val_loss: 4.8943 - val_mae: 1.4989 - val_mse: 4.8943\n",
      "Epoch 92/300\n",
      "3341/3341 [==============================] - 0s 25us/sample - loss: 4.4823 - mae: 1.5161 - mse: 4.4823 - val_loss: 4.9415 - val_mae: 1.6365 - val_mse: 4.9415\n",
      "Epoch 93/300\n",
      "3341/3341 [==============================] - 0s 22us/sample - loss: 4.6137 - mae: 1.5489 - mse: 4.6137 - val_loss: 5.5999 - val_mae: 1.5711 - val_mse: 5.5999\n",
      "Epoch 94/300\n",
      "3341/3341 [==============================] - 0s 27us/sample - loss: 4.7621 - mae: 1.5699 - mse: 4.7621 - val_loss: 4.7601 - val_mae: 1.5034 - val_mse: 4.7601\n"
     ]
    },
    {
     "name": "stdout",
     "output_type": "stream",
     "text": [
      "Epoch 95/300\n",
      "3341/3341 [==============================] - 0s 22us/sample - loss: 4.5316 - mae: 1.5185 - mse: 4.5316 - val_loss: 5.8660 - val_mae: 1.6408 - val_mse: 5.8660\n",
      "Epoch 96/300\n",
      "3341/3341 [==============================] - 0s 17us/sample - loss: 4.5933 - mae: 1.5345 - mse: 4.5933 - val_loss: 6.3453 - val_mae: 2.0442 - val_mse: 6.3453\n",
      "Epoch 97/300\n",
      "3341/3341 [==============================] - 0s 24us/sample - loss: 4.7061 - mae: 1.5617 - mse: 4.7061 - val_loss: 6.8732 - val_mae: 2.1456 - val_mse: 6.8732\n",
      "Epoch 98/300\n",
      "3341/3341 [==============================] - 0s 22us/sample - loss: 4.8553 - mae: 1.5829 - mse: 4.8553 - val_loss: 5.4867 - val_mae: 1.7704 - val_mse: 5.4867\n",
      "Epoch 99/300\n",
      "3341/3341 [==============================] - 0s 15us/sample - loss: 4.6280 - mae: 1.5456 - mse: 4.6280 - val_loss: 4.8358 - val_mae: 1.4883 - val_mse: 4.8358\n",
      "Epoch 100/300\n",
      "3341/3341 [==============================] - 0s 14us/sample - loss: 4.9134 - mae: 1.6130 - mse: 4.9134 - val_loss: 4.9846 - val_mae: 1.4899 - val_mse: 4.9846\n",
      "Epoch 101/300\n",
      "3341/3341 [==============================] - 0s 13us/sample - loss: 4.5780 - mae: 1.5335 - mse: 4.5780 - val_loss: 4.9311 - val_mae: 1.4959 - val_mse: 4.9311\n",
      "Epoch 102/300\n",
      "3341/3341 [==============================] - 0s 13us/sample - loss: 4.7205 - mae: 1.5545 - mse: 4.7205 - val_loss: 5.1382 - val_mae: 1.5015 - val_mse: 5.1382\n",
      "Epoch 103/300\n",
      "3341/3341 [==============================] - 0s 14us/sample - loss: 4.6052 - mae: 1.5459 - mse: 4.6052 - val_loss: 4.9340 - val_mae: 1.6231 - val_mse: 4.9340\n",
      "Epoch 104/300\n",
      "3341/3341 [==============================] - 0s 13us/sample - loss: 4.5926 - mae: 1.5410 - mse: 4.5926 - val_loss: 4.8239 - val_mae: 1.5799 - val_mse: 4.8239\n",
      "Epoch 105/300\n",
      "3341/3341 [==============================] - 0s 13us/sample - loss: 4.6242 - mae: 1.5447 - mse: 4.6242 - val_loss: 4.7033 - val_mae: 1.5312 - val_mse: 4.7033\n",
      "Epoch 106/300\n",
      "3341/3341 [==============================] - 0s 14us/sample - loss: 4.6929 - mae: 1.5600 - mse: 4.6929 - val_loss: 4.9350 - val_mae: 1.4944 - val_mse: 4.9350\n",
      "Epoch 107/300\n",
      "3341/3341 [==============================] - 0s 15us/sample - loss: 4.5824 - mae: 1.5381 - mse: 4.5824 - val_loss: 4.9713 - val_mae: 1.4909 - val_mse: 4.9713\n",
      "Epoch 108/300\n",
      "3341/3341 [==============================] - 0s 18us/sample - loss: 4.9570 - mae: 1.5972 - mse: 4.9570 - val_loss: 8.2156 - val_mae: 2.0012 - val_mse: 8.2156\n",
      "Epoch 109/300\n",
      "3341/3341 [==============================] - 0s 19us/sample - loss: 4.7080 - mae: 1.5495 - mse: 4.7080 - val_loss: 4.8289 - val_mae: 1.5419 - val_mse: 4.8289\n",
      "Epoch 110/300\n",
      "3341/3341 [==============================] - 0s 19us/sample - loss: 4.5680 - mae: 1.5238 - mse: 4.5680 - val_loss: 6.4378 - val_mae: 1.6868 - val_mse: 6.4378\n",
      "Epoch 111/300\n",
      "3341/3341 [==============================] - 0s 19us/sample - loss: 4.7084 - mae: 1.5504 - mse: 4.7084 - val_loss: 7.0486 - val_mae: 1.8654 - val_mse: 7.0486\n",
      "Epoch 112/300\n",
      "3341/3341 [==============================] - 0s 16us/sample - loss: 4.6722 - mae: 1.5469 - mse: 4.6722 - val_loss: 9.0617 - val_mae: 2.5705 - val_mse: 9.0617\n",
      "Epoch 113/300\n",
      "3341/3341 [==============================] - 0s 13us/sample - loss: 4.9154 - mae: 1.6046 - mse: 4.9154 - val_loss: 4.6646 - val_mae: 1.5031 - val_mse: 4.6646\n",
      "Epoch 114/300\n",
      "3341/3341 [==============================] - 0s 12us/sample - loss: 4.6869 - mae: 1.5631 - mse: 4.6869 - val_loss: 5.1447 - val_mae: 1.5082 - val_mse: 5.1447\n",
      "Epoch 115/300\n",
      "3341/3341 [==============================] - 0s 13us/sample - loss: 4.8809 - mae: 1.5783 - mse: 4.8809 - val_loss: 8.7738 - val_mae: 2.1152 - val_mse: 8.7738\n",
      "Epoch 116/300\n",
      "3341/3341 [==============================] - 0s 12us/sample - loss: 4.7607 - mae: 1.5565 - mse: 4.7607 - val_loss: 8.0076 - val_mae: 2.2818 - val_mse: 8.0076\n",
      "Epoch 117/300\n",
      "3341/3341 [==============================] - 0s 27us/sample - loss: 4.7528 - mae: 1.5654 - mse: 4.7528 - val_loss: 5.0855 - val_mae: 1.6535 - val_mse: 5.0855\n",
      "Epoch 118/300\n",
      "3341/3341 [==============================] - 0s 24us/sample - loss: 4.6343 - mae: 1.5479 - mse: 4.6343 - val_loss: 4.7534 - val_mae: 1.4938 - val_mse: 4.7534\n",
      "Epoch 119/300\n",
      "3341/3341 [==============================] - 0s 23us/sample - loss: 4.5118 - mae: 1.5195 - mse: 4.5118 - val_loss: 4.9848 - val_mae: 1.4957 - val_mse: 4.9848\n",
      "Epoch 120/300\n",
      "3341/3341 [==============================] - 0s 33us/sample - loss: 4.6873 - mae: 1.5468 - mse: 4.6873 - val_loss: 4.9386 - val_mae: 1.6074 - val_mse: 4.9386\n",
      "Epoch 121/300\n",
      "3341/3341 [==============================] - 0s 35us/sample - loss: 4.6029 - mae: 1.5412 - mse: 4.6029 - val_loss: 4.9680 - val_mae: 1.6355 - val_mse: 4.9680\n",
      "Epoch 122/300\n",
      "3341/3341 [==============================] - 0s 25us/sample - loss: 4.5554 - mae: 1.5296 - mse: 4.5554 - val_loss: 4.8526 - val_mae: 1.5537 - val_mse: 4.8526\n",
      "Epoch 123/300\n",
      "3341/3341 [==============================] - 0s 36us/sample - loss: 4.5485 - mae: 1.5343 - mse: 4.5485 - val_loss: 5.0263 - val_mae: 1.5635 - val_mse: 5.0263\n",
      "Epoch 124/300\n",
      "3341/3341 [==============================] - 0s 33us/sample - loss: 4.6026 - mae: 1.5438 - mse: 4.6026 - val_loss: 5.1444 - val_mae: 1.5499 - val_mse: 5.1444\n",
      "Epoch 125/300\n",
      "3341/3341 [==============================] - 0s 21us/sample - loss: 4.6730 - mae: 1.5485 - mse: 4.6730 - val_loss: 5.9101 - val_mae: 1.9524 - val_mse: 5.9101\n",
      "Epoch 126/300\n",
      "3341/3341 [==============================] - 0s 16us/sample - loss: 4.6037 - mae: 1.5431 - mse: 4.6037 - val_loss: 4.7205 - val_mae: 1.5342 - val_mse: 4.7205\n",
      "Epoch 127/300\n",
      "3341/3341 [==============================] - 0s 16us/sample - loss: 4.5824 - mae: 1.5326 - mse: 4.5824 - val_loss: 4.7102 - val_mae: 1.5293 - val_mse: 4.7102\n",
      "Epoch 128/300\n",
      "3341/3341 [==============================] - 0s 18us/sample - loss: 4.5695 - mae: 1.5329 - mse: 4.5695 - val_loss: 11.6301 - val_mae: 2.5926 - val_mse: 11.6301\n",
      "Epoch 129/300\n",
      "3341/3341 [==============================] - 0s 28us/sample - loss: 4.8587 - mae: 1.5536 - mse: 4.8587 - val_loss: 6.5451 - val_mae: 1.7238 - val_mse: 6.5451\n",
      "Epoch 130/300\n",
      "3341/3341 [==============================] - 0s 25us/sample - loss: 4.5762 - mae: 1.5312 - mse: 4.5762 - val_loss: 6.8835 - val_mae: 1.7979 - val_mse: 6.8835\n",
      "Epoch 131/300\n",
      "3341/3341 [==============================] - 0s 30us/sample - loss: 4.6678 - mae: 1.5475 - mse: 4.6678 - val_loss: 8.5893 - val_mae: 2.4809 - val_mse: 8.5893\n",
      "Epoch 132/300\n",
      "3341/3341 [==============================] - 0s 22us/sample - loss: 4.9197 - mae: 1.5858 - mse: 4.9197 - val_loss: 5.4038 - val_mae: 1.7298 - val_mse: 5.4038\n",
      "Epoch 133/300\n",
      "3341/3341 [==============================] - 0s 22us/sample - loss: 4.4474 - mae: 1.5104 - mse: 4.4474 - val_loss: 5.8224 - val_mae: 1.9144 - val_mse: 5.8224\n",
      "Epoch 134/300\n",
      "3341/3341 [==============================] - 0s 25us/sample - loss: 4.5746 - mae: 1.5332 - mse: 4.5746 - val_loss: 5.8965 - val_mae: 1.9082 - val_mse: 5.8965\n",
      "Epoch 135/300\n",
      "3341/3341 [==============================] - 0s 30us/sample - loss: 4.5552 - mae: 1.5433 - mse: 4.5552 - val_loss: 12.1202 - val_mae: 3.0671 - val_mse: 12.1202\n",
      "Epoch 136/300\n",
      "3341/3341 [==============================] - 0s 25us/sample - loss: 4.8260 - mae: 1.5719 - mse: 4.8260 - val_loss: 4.6809 - val_mae: 1.4824 - val_mse: 4.6809\n",
      "Epoch 137/300\n",
      "3341/3341 [==============================] - 0s 23us/sample - loss: 4.5246 - mae: 1.5207 - mse: 4.5246 - val_loss: 5.4803 - val_mae: 1.5617 - val_mse: 5.4803\n",
      "Epoch 138/300\n",
      "3341/3341 [==============================] - 0s 27us/sample - loss: 4.4316 - mae: 1.4976 - mse: 4.4316 - val_loss: 4.7720 - val_mae: 1.5886 - val_mse: 4.7720\n",
      "Epoch 139/300\n",
      "3341/3341 [==============================] - 0s 24us/sample - loss: 4.6034 - mae: 1.5391 - mse: 4.6034 - val_loss: 5.0828 - val_mae: 1.6886 - val_mse: 5.0828\n",
      "Epoch 140/300\n",
      "3341/3341 [==============================] - 0s 19us/sample - loss: 4.6153 - mae: 1.5342 - mse: 4.6153 - val_loss: 9.3555 - val_mae: 2.5888 - val_mse: 9.3555\n",
      "Epoch 141/300\n",
      "3341/3341 [==============================] - 0s 20us/sample - loss: 4.6807 - mae: 1.5501 - mse: 4.6807 - val_loss: 7.3586 - val_mae: 1.8359 - val_mse: 7.3586\n",
      "Epoch 142/300\n",
      "3341/3341 [==============================] - 0s 19us/sample - loss: 4.6150 - mae: 1.5299 - mse: 4.6150 - val_loss: 7.4858 - val_mae: 1.8858 - val_mse: 7.4858\n"
     ]
    },
    {
     "name": "stdout",
     "output_type": "stream",
     "text": [
      "Epoch 143/300\n",
      "3341/3341 [==============================] - 0s 17us/sample - loss: 4.5525 - mae: 1.5219 - mse: 4.5525 - val_loss: 6.2073 - val_mae: 1.7479 - val_mse: 6.2073\n",
      "Epoch 144/300\n",
      "3341/3341 [==============================] - 0s 17us/sample - loss: 4.4492 - mae: 1.4978 - mse: 4.4492 - val_loss: 4.9636 - val_mae: 1.5580 - val_mse: 4.9636\n",
      "Epoch 145/300\n",
      "3341/3341 [==============================] - 0s 15us/sample - loss: 4.5485 - mae: 1.5255 - mse: 4.5485 - val_loss: 4.8013 - val_mae: 1.5678 - val_mse: 4.8013\n",
      "Epoch 146/300\n",
      "3341/3341 [==============================] - 0s 14us/sample - loss: 4.5067 - mae: 1.5146 - mse: 4.5067 - val_loss: 5.8411 - val_mae: 1.8726 - val_mse: 5.8411\n",
      "Epoch 147/300\n",
      "3341/3341 [==============================] - 0s 15us/sample - loss: 4.4802 - mae: 1.5134 - mse: 4.4802 - val_loss: 4.8324 - val_mae: 1.5498 - val_mse: 4.8324\n",
      "Epoch 148/300\n",
      "3341/3341 [==============================] - 0s 16us/sample - loss: 4.5975 - mae: 1.5327 - mse: 4.5975 - val_loss: 4.9207 - val_mae: 1.6578 - val_mse: 4.9207\n",
      "Epoch 149/300\n",
      "3341/3341 [==============================] - 0s 24us/sample - loss: 4.5614 - mae: 1.5322 - mse: 4.5614 - val_loss: 4.6668 - val_mae: 1.4779 - val_mse: 4.6668\n",
      "Epoch 150/300\n",
      "3341/3341 [==============================] - 0s 42us/sample - loss: 4.5774 - mae: 1.5294 - mse: 4.5774 - val_loss: 5.4104 - val_mae: 1.8078 - val_mse: 5.4104\n",
      "Epoch 151/300\n",
      "3341/3341 [==============================] - 0s 22us/sample - loss: 4.5273 - mae: 1.5106 - mse: 4.5273 - val_loss: 4.6501 - val_mae: 1.4773 - val_mse: 4.6501\n",
      "Epoch 152/300\n",
      "3341/3341 [==============================] - 0s 15us/sample - loss: 4.3975 - mae: 1.5015 - mse: 4.3975 - val_loss: 6.3515 - val_mae: 1.7293 - val_mse: 6.3515\n",
      "Epoch 153/300\n",
      "3341/3341 [==============================] - 0s 15us/sample - loss: 4.4833 - mae: 1.5120 - mse: 4.4833 - val_loss: 5.2319 - val_mae: 1.7173 - val_mse: 5.2319\n",
      "Epoch 154/300\n",
      "3341/3341 [==============================] - 0s 14us/sample - loss: 4.5526 - mae: 1.5309 - mse: 4.5526 - val_loss: 7.7446 - val_mae: 1.9152 - val_mse: 7.7446\n",
      "Epoch 155/300\n",
      "3341/3341 [==============================] - 0s 14us/sample - loss: 4.5645 - mae: 1.5276 - mse: 4.5645 - val_loss: 6.0590 - val_mae: 1.9864 - val_mse: 6.0590\n",
      "Epoch 156/300\n",
      "3341/3341 [==============================] - 0s 14us/sample - loss: 4.5502 - mae: 1.5245 - mse: 4.5502 - val_loss: 5.5146 - val_mae: 1.5854 - val_mse: 5.5146\n",
      "Epoch 157/300\n",
      "3341/3341 [==============================] - 0s 16us/sample - loss: 4.5321 - mae: 1.5199 - mse: 4.5321 - val_loss: 4.6514 - val_mae: 1.4862 - val_mse: 4.6514\n",
      "Epoch 158/300\n",
      "3341/3341 [==============================] - 0s 16us/sample - loss: 4.3940 - mae: 1.4902 - mse: 4.3940 - val_loss: 5.0860 - val_mae: 1.6988 - val_mse: 5.0860\n",
      "Epoch 159/300\n",
      "3341/3341 [==============================] - 0s 16us/sample - loss: 4.6256 - mae: 1.5406 - mse: 4.6256 - val_loss: 5.2979 - val_mae: 1.7799 - val_mse: 5.2979\n",
      "Epoch 160/300\n",
      "3341/3341 [==============================] - 0s 18us/sample - loss: 4.5907 - mae: 1.5335 - mse: 4.5907 - val_loss: 4.7423 - val_mae: 1.4673 - val_mse: 4.7423\n",
      "Epoch 161/300\n",
      "3341/3341 [==============================] - 0s 18us/sample - loss: 4.4955 - mae: 1.5133 - mse: 4.4955 - val_loss: 4.7237 - val_mae: 1.5735 - val_mse: 4.7237\n",
      "Epoch 162/300\n",
      "3341/3341 [==============================] - 0s 24us/sample - loss: 4.4166 - mae: 1.5098 - mse: 4.4166 - val_loss: 4.7015 - val_mae: 1.5517 - val_mse: 4.7015\n",
      "Epoch 163/300\n",
      "3341/3341 [==============================] - 0s 23us/sample - loss: 4.4104 - mae: 1.5067 - mse: 4.4104 - val_loss: 4.6241 - val_mae: 1.4791 - val_mse: 4.6241\n",
      "Epoch 164/300\n",
      "3341/3341 [==============================] - 0s 19us/sample - loss: 4.6176 - mae: 1.5355 - mse: 4.6176 - val_loss: 4.6945 - val_mae: 1.4903 - val_mse: 4.6945\n",
      "Epoch 165/300\n",
      "3341/3341 [==============================] - 0s 17us/sample - loss: 4.3885 - mae: 1.4974 - mse: 4.3885 - val_loss: 4.7706 - val_mae: 1.5869 - val_mse: 4.7706\n",
      "Epoch 166/300\n",
      "3341/3341 [==============================] - 0s 16us/sample - loss: 4.5737 - mae: 1.5275 - mse: 4.5737 - val_loss: 6.5076 - val_mae: 1.7185 - val_mse: 6.5076\n",
      "Epoch 167/300\n",
      "3341/3341 [==============================] - 0s 15us/sample - loss: 4.4804 - mae: 1.4963 - mse: 4.4804 - val_loss: 6.6932 - val_mae: 1.7569 - val_mse: 6.6932\n",
      "Epoch 168/300\n",
      "3341/3341 [==============================] - 0s 14us/sample - loss: 4.6405 - mae: 1.5385 - mse: 4.6405 - val_loss: 5.2008 - val_mae: 1.5265 - val_mse: 5.2008\n",
      "Epoch 169/300\n",
      "3341/3341 [==============================] - 0s 14us/sample - loss: 4.5160 - mae: 1.5256 - mse: 4.5160 - val_loss: 5.9780 - val_mae: 1.6226 - val_mse: 5.9780\n",
      "Epoch 170/300\n",
      "3341/3341 [==============================] - 0s 16us/sample - loss: 4.5192 - mae: 1.5216 - mse: 4.5192 - val_loss: 6.3619 - val_mae: 1.6862 - val_mse: 6.3619\n",
      "Epoch 171/300\n",
      "3341/3341 [==============================] - 0s 16us/sample - loss: 4.6425 - mae: 1.5415 - mse: 4.6425 - val_loss: 9.9329 - val_mae: 2.6796 - val_mse: 9.9329\n",
      "Epoch 172/300\n",
      "3341/3341 [==============================] - 0s 15us/sample - loss: 4.8319 - mae: 1.5831 - mse: 4.8319 - val_loss: 5.2705 - val_mae: 1.5192 - val_mse: 5.2705\n",
      "Epoch 173/300\n",
      "3341/3341 [==============================] - 0s 16us/sample - loss: 4.3981 - mae: 1.4931 - mse: 4.3981 - val_loss: 7.8851 - val_mae: 2.3558 - val_mse: 7.8851\n",
      "Epoch 174/300\n",
      "3341/3341 [==============================] - 0s 16us/sample - loss: 4.5938 - mae: 1.5500 - mse: 4.5938 - val_loss: 9.6805 - val_mae: 2.6141 - val_mse: 9.6805\n",
      "Epoch 175/300\n",
      "3341/3341 [==============================] - 0s 16us/sample - loss: 5.1015 - mae: 1.6250 - mse: 5.1015 - val_loss: 4.6749 - val_mae: 1.5422 - val_mse: 4.6749\n",
      "Epoch 176/300\n",
      "3341/3341 [==============================] - 0s 16us/sample - loss: 4.3796 - mae: 1.4949 - mse: 4.3796 - val_loss: 5.1007 - val_mae: 1.6882 - val_mse: 5.1007\n",
      "Epoch 177/300\n",
      "3341/3341 [==============================] - 0s 14us/sample - loss: 4.6013 - mae: 1.5434 - mse: 4.6013 - val_loss: 5.3416 - val_mae: 1.5393 - val_mse: 5.3416\n",
      "Epoch 178/300\n",
      "3341/3341 [==============================] - 0s 16us/sample - loss: 4.3184 - mae: 1.4770 - mse: 4.3184 - val_loss: 6.8952 - val_mae: 2.1609 - val_mse: 6.8952\n",
      "Epoch 179/300\n",
      "3341/3341 [==============================] - 0s 14us/sample - loss: 4.7535 - mae: 1.5655 - mse: 4.7535 - val_loss: 5.0515 - val_mae: 1.5034 - val_mse: 5.0515\n",
      "Epoch 180/300\n",
      "3341/3341 [==============================] - 0s 22us/sample - loss: 4.4258 - mae: 1.5008 - mse: 4.4258 - val_loss: 4.7413 - val_mae: 1.4757 - val_mse: 4.7413\n",
      "Epoch 181/300\n",
      "3341/3341 [==============================] - 0s 21us/sample - loss: 4.3798 - mae: 1.4927 - mse: 4.3798 - val_loss: 5.2760 - val_mae: 1.5337 - val_mse: 5.2760\n",
      "Epoch 182/300\n",
      "3341/3341 [==============================] - 0s 20us/sample - loss: 4.4703 - mae: 1.5115 - mse: 4.4703 - val_loss: 5.5643 - val_mae: 1.5935 - val_mse: 5.5643\n",
      "Epoch 183/300\n",
      "3341/3341 [==============================] - 0s 20us/sample - loss: 4.4403 - mae: 1.4934 - mse: 4.4403 - val_loss: 5.6843 - val_mae: 1.8818 - val_mse: 5.6843\n",
      "Epoch 184/300\n",
      "3341/3341 [==============================] - 0s 21us/sample - loss: 4.4549 - mae: 1.5159 - mse: 4.4549 - val_loss: 5.9994 - val_mae: 1.9466 - val_mse: 5.9994\n",
      "Epoch 185/300\n",
      "3341/3341 [==============================] - 0s 24us/sample - loss: 4.5150 - mae: 1.5280 - mse: 4.5150 - val_loss: 4.7680 - val_mae: 1.4800 - val_mse: 4.7680\n",
      "Epoch 186/300\n",
      "3341/3341 [==============================] - 0s 25us/sample - loss: 4.3584 - mae: 1.4912 - mse: 4.3584 - val_loss: 5.0262 - val_mae: 1.6839 - val_mse: 5.0262\n",
      "Epoch 187/300\n",
      "3341/3341 [==============================] - 0s 26us/sample - loss: 4.4464 - mae: 1.5063 - mse: 4.4464 - val_loss: 4.7239 - val_mae: 1.5602 - val_mse: 4.7239\n",
      "Epoch 188/300\n",
      "3341/3341 [==============================] - 0s 25us/sample - loss: 4.3752 - mae: 1.4914 - mse: 4.3752 - val_loss: 4.7344 - val_mae: 1.5655 - val_mse: 4.7344\n",
      "Epoch 189/300\n",
      "3341/3341 [==============================] - 0s 26us/sample - loss: 4.3796 - mae: 1.4936 - mse: 4.3796 - val_loss: 5.5018 - val_mae: 1.5551 - val_mse: 5.5018\n",
      "Epoch 190/300\n",
      "3341/3341 [==============================] - 0s 23us/sample - loss: 4.4639 - mae: 1.5076 - mse: 4.4639 - val_loss: 5.2325 - val_mae: 1.5433 - val_mse: 5.2325\n",
      "Epoch 191/300\n",
      "3341/3341 [==============================] - 0s 22us/sample - loss: 4.4866 - mae: 1.5151 - mse: 4.4866 - val_loss: 5.3613 - val_mae: 1.5299 - val_mse: 5.3613\n",
      "Epoch 192/300\n",
      "3341/3341 [==============================] - 0s 22us/sample - loss: 4.4275 - mae: 1.4961 - mse: 4.4275 - val_loss: 6.2827 - val_mae: 1.7004 - val_mse: 6.2827\n",
      "Epoch 193/300\n",
      "3341/3341 [==============================] - 0s 20us/sample - loss: 4.4025 - mae: 1.4958 - mse: 4.4025 - val_loss: 5.1225 - val_mae: 1.7063 - val_mse: 5.1225\n",
      "Epoch 194/300\n",
      "3341/3341 [==============================] - 0s 21us/sample - loss: 4.4276 - mae: 1.5092 - mse: 4.4276 - val_loss: 6.0356 - val_mae: 1.9162 - val_mse: 6.0356\n",
      "Epoch 195/300\n",
      "3341/3341 [==============================] - 0s 20us/sample - loss: 4.5663 - mae: 1.5376 - mse: 4.5663 - val_loss: 4.7992 - val_mae: 1.6049 - val_mse: 4.7992\n",
      "Epoch 196/300\n",
      "3341/3341 [==============================] - 0s 23us/sample - loss: 4.5138 - mae: 1.5215 - mse: 4.5138 - val_loss: 4.7261 - val_mae: 1.5676 - val_mse: 4.7261\n",
      "Epoch 197/300\n",
      "3341/3341 [==============================] - 0s 23us/sample - loss: 4.4318 - mae: 1.5040 - mse: 4.4318 - val_loss: 5.2318 - val_mae: 1.6586 - val_mse: 5.2318\n",
      "Epoch 198/300\n",
      "3341/3341 [==============================] - 0s 28us/sample - loss: 4.5207 - mae: 1.5126 - mse: 4.5207 - val_loss: 7.4803 - val_mae: 2.2796 - val_mse: 7.4803\n",
      "Epoch 199/300\n",
      "3341/3341 [==============================] - 0s 29us/sample - loss: 4.6747 - mae: 1.5507 - mse: 4.6747 - val_loss: 6.7640 - val_mae: 1.8086 - val_mse: 6.7640\n",
      "Epoch 200/300\n",
      "3341/3341 [==============================] - 0s 27us/sample - loss: 4.5686 - mae: 1.5114 - mse: 4.5686 - val_loss: 6.3853 - val_mae: 1.7449 - val_mse: 6.3853\n",
      "Epoch 201/300\n",
      "3341/3341 [==============================] - 0s 23us/sample - loss: 4.4428 - mae: 1.5026 - mse: 4.4428 - val_loss: 4.8618 - val_mae: 1.6317 - val_mse: 4.8618\n",
      "Epoch 202/300\n",
      "3341/3341 [==============================] - 0s 19us/sample - loss: 4.4198 - mae: 1.5075 - mse: 4.4198 - val_loss: 5.3123 - val_mae: 1.5409 - val_mse: 5.3123\n",
      "Epoch 203/300\n",
      "3341/3341 [==============================] - 0s 18us/sample - loss: 4.4726 - mae: 1.4975 - mse: 4.4726 - val_loss: 9.6246 - val_mae: 2.6104 - val_mse: 9.6246\n",
      "Epoch 204/300\n",
      "3341/3341 [==============================] - 0s 21us/sample - loss: 4.8499 - mae: 1.5758 - mse: 4.8499 - val_loss: 4.7762 - val_mae: 1.4951 - val_mse: 4.7762\n",
      "Epoch 205/300\n",
      "3341/3341 [==============================] - 0s 23us/sample - loss: 4.4786 - mae: 1.5035 - mse: 4.4786 - val_loss: 4.7038 - val_mae: 1.5563 - val_mse: 4.7038\n",
      "Epoch 206/300\n",
      "3341/3341 [==============================] - 0s 22us/sample - loss: 4.4458 - mae: 1.5036 - mse: 4.4458 - val_loss: 5.3260 - val_mae: 1.7129 - val_mse: 5.3260\n",
      "Epoch 207/300\n",
      "3341/3341 [==============================] - 0s 17us/sample - loss: 4.4245 - mae: 1.5034 - mse: 4.4245 - val_loss: 4.7648 - val_mae: 1.5612 - val_mse: 4.7648\n",
      "Epoch 208/300\n",
      "3341/3341 [==============================] - 0s 27us/sample - loss: 4.3758 - mae: 1.4951 - mse: 4.3758 - val_loss: 5.0219 - val_mae: 1.5639 - val_mse: 5.0219\n",
      "Epoch 209/300\n",
      "3341/3341 [==============================] - 0s 31us/sample - loss: 4.4761 - mae: 1.5090 - mse: 4.4761 - val_loss: 4.8780 - val_mae: 1.4879 - val_mse: 4.8780\n",
      "Epoch 210/300\n",
      "3341/3341 [==============================] - 0s 35us/sample - loss: 4.3550 - mae: 1.4959 - mse: 4.3550 - val_loss: 4.7384 - val_mae: 1.4634 - val_mse: 4.7384\n",
      "Epoch 211/300\n",
      "3341/3341 [==============================] - 0s 24us/sample - loss: 4.4091 - mae: 1.5022 - mse: 4.4091 - val_loss: 7.1230 - val_mae: 2.1903 - val_mse: 7.1230\n",
      "Epoch 212/300\n",
      "3341/3341 [==============================] - 0s 22us/sample - loss: 4.6809 - mae: 1.5639 - mse: 4.6809 - val_loss: 5.7283 - val_mae: 1.6170 - val_mse: 5.7283\n",
      "Epoch 213/300\n",
      "3341/3341 [==============================] - 0s 22us/sample - loss: 4.4629 - mae: 1.5070 - mse: 4.4629 - val_loss: 4.9364 - val_mae: 1.6245 - val_mse: 4.9364\n",
      "Epoch 214/300\n",
      "3341/3341 [==============================] - 0s 20us/sample - loss: 4.4678 - mae: 1.5140 - mse: 4.4678 - val_loss: 4.7683 - val_mae: 1.4729 - val_mse: 4.7683\n",
      "Epoch 215/300\n",
      "3341/3341 [==============================] - 0s 31us/sample - loss: 4.3260 - mae: 1.4790 - mse: 4.3260 - val_loss: 4.7051 - val_mae: 1.5722 - val_mse: 4.7051\n",
      "Epoch 216/300\n",
      "3341/3341 [==============================] - 0s 40us/sample - loss: 4.3830 - mae: 1.4982 - mse: 4.3830 - val_loss: 5.4733 - val_mae: 1.6034 - val_mse: 5.4733\n",
      "Epoch 217/300\n",
      "3341/3341 [==============================] - 0s 34us/sample - loss: 4.3859 - mae: 1.4900 - mse: 4.3859 - val_loss: 6.3696 - val_mae: 1.7223 - val_mse: 6.3696\n",
      "Epoch 218/300\n",
      "3341/3341 [==============================] - 0s 33us/sample - loss: 4.4456 - mae: 1.4997 - mse: 4.4456 - val_loss: 5.3442 - val_mae: 1.5695 - val_mse: 5.3442\n",
      "Epoch 219/300\n",
      "3341/3341 [==============================] - 0s 28us/sample - loss: 4.5594 - mae: 1.5192 - mse: 4.5594 - val_loss: 4.7016 - val_mae: 1.5708 - val_mse: 4.7016\n",
      "Epoch 220/300\n",
      "3341/3341 [==============================] - 0s 30us/sample - loss: 4.3521 - mae: 1.4893 - mse: 4.3521 - val_loss: 4.5722 - val_mae: 1.4919 - val_mse: 4.5722\n",
      "Epoch 221/300\n",
      "3341/3341 [==============================] - 0s 22us/sample - loss: 4.4566 - mae: 1.5071 - mse: 4.4566 - val_loss: 4.6387 - val_mae: 1.4770 - val_mse: 4.6387\n",
      "Epoch 222/300\n",
      "3341/3341 [==============================] - 0s 21us/sample - loss: 4.3583 - mae: 1.4924 - mse: 4.3583 - val_loss: 7.2723 - val_mae: 1.8720 - val_mse: 7.2723\n",
      "Epoch 223/300\n",
      "3341/3341 [==============================] - 0s 19us/sample - loss: 4.4609 - mae: 1.5018 - mse: 4.4609 - val_loss: 4.7960 - val_mae: 1.5619 - val_mse: 4.7960\n",
      "Epoch 224/300\n",
      "3341/3341 [==============================] - 0s 19us/sample - loss: 4.4342 - mae: 1.4965 - mse: 4.4342 - val_loss: 4.5838 - val_mae: 1.5102 - val_mse: 4.5838\n",
      "Epoch 225/300\n",
      "3341/3341 [==============================] - 0s 20us/sample - loss: 4.3956 - mae: 1.4972 - mse: 4.3956 - val_loss: 5.3705 - val_mae: 1.7938 - val_mse: 5.3705\n",
      "Epoch 226/300\n",
      "3341/3341 [==============================] - 0s 17us/sample - loss: 4.3736 - mae: 1.4938 - mse: 4.3736 - val_loss: 6.5987 - val_mae: 1.7893 - val_mse: 6.5987\n",
      "Epoch 227/300\n",
      "3341/3341 [==============================] - 0s 18us/sample - loss: 4.3607 - mae: 1.4866 - mse: 4.3607 - val_loss: 5.8017 - val_mae: 1.6270 - val_mse: 5.8017\n",
      "Epoch 228/300\n",
      "3341/3341 [==============================] - 0s 23us/sample - loss: 4.4578 - mae: 1.5043 - mse: 4.4578 - val_loss: 4.5521 - val_mae: 1.4916 - val_mse: 4.5521\n",
      "Epoch 229/300\n",
      "3341/3341 [==============================] - 0s 28us/sample - loss: 4.3759 - mae: 1.4964 - mse: 4.3759 - val_loss: 4.9252 - val_mae: 1.6723 - val_mse: 4.9252\n",
      "Epoch 230/300\n",
      "3341/3341 [==============================] - 0s 26us/sample - loss: 4.3241 - mae: 1.4787 - mse: 4.3241 - val_loss: 4.5578 - val_mae: 1.4887 - val_mse: 4.5578\n",
      "Epoch 231/300\n",
      "3341/3341 [==============================] - 0s 21us/sample - loss: 4.3843 - mae: 1.4901 - mse: 4.3843 - val_loss: 4.6649 - val_mae: 1.5430 - val_mse: 4.6649\n",
      "Epoch 232/300\n",
      "3341/3341 [==============================] - 0s 18us/sample - loss: 4.4283 - mae: 1.4952 - mse: 4.4283 - val_loss: 4.5722 - val_mae: 1.5211 - val_mse: 4.5722\n",
      "Epoch 233/300\n",
      "3341/3341 [==============================] - 0s 17us/sample - loss: 4.3552 - mae: 1.4885 - mse: 4.3552 - val_loss: 4.8198 - val_mae: 1.5562 - val_mse: 4.8198\n",
      "Epoch 234/300\n",
      "3341/3341 [==============================] - 0s 26us/sample - loss: 4.3961 - mae: 1.5005 - mse: 4.3961 - val_loss: 8.7207 - val_mae: 2.4464 - val_mse: 8.7207\n",
      "Epoch 235/300\n",
      "3341/3341 [==============================] - 0s 25us/sample - loss: 4.8125 - mae: 1.5743 - mse: 4.8125 - val_loss: 4.8196 - val_mae: 1.6211 - val_mse: 4.8196\n",
      "Epoch 236/300\n",
      "3341/3341 [==============================] - 0s 25us/sample - loss: 4.3385 - mae: 1.4900 - mse: 4.3385 - val_loss: 4.6423 - val_mae: 1.5333 - val_mse: 4.6423\n",
      "Epoch 237/300\n",
      "3341/3341 [==============================] - 0s 24us/sample - loss: 4.4131 - mae: 1.5033 - mse: 4.4131 - val_loss: 5.0634 - val_mae: 1.7043 - val_mse: 5.0634\n"
     ]
    },
    {
     "name": "stdout",
     "output_type": "stream",
     "text": [
      "Epoch 238/300\n",
      "3341/3341 [==============================] - 0s 25us/sample - loss: 4.3665 - mae: 1.4969 - mse: 4.3665 - val_loss: 5.5657 - val_mae: 1.5542 - val_mse: 5.5657\n",
      "Epoch 239/300\n",
      "3341/3341 [==============================] - 0s 21us/sample - loss: 4.4808 - mae: 1.5082 - mse: 4.4808 - val_loss: 5.3161 - val_mae: 1.5353 - val_mse: 5.3161\n",
      "Epoch 240/300\n",
      "3341/3341 [==============================] - 0s 20us/sample - loss: 4.2999 - mae: 1.4765 - mse: 4.2999 - val_loss: 4.6448 - val_mae: 1.5337 - val_mse: 4.6448\n",
      "Epoch 241/300\n",
      "3341/3341 [==============================] - 0s 20us/sample - loss: 4.3060 - mae: 1.4801 - mse: 4.3060 - val_loss: 6.7779 - val_mae: 2.1011 - val_mse: 6.7779\n",
      "Epoch 242/300\n",
      "3341/3341 [==============================] - 0s 32us/sample - loss: 4.4611 - mae: 1.5256 - mse: 4.4611 - val_loss: 5.2458 - val_mae: 1.7560 - val_mse: 5.2458\n",
      "Epoch 243/300\n",
      "3341/3341 [==============================] - 0s 25us/sample - loss: 4.3887 - mae: 1.4968 - mse: 4.3887 - val_loss: 5.2434 - val_mae: 1.5357 - val_mse: 5.2434\n",
      "Epoch 244/300\n",
      "3341/3341 [==============================] - 0s 23us/sample - loss: 4.4284 - mae: 1.5035 - mse: 4.4284 - val_loss: 4.7428 - val_mae: 1.4911 - val_mse: 4.7428\n",
      "Epoch 245/300\n",
      "3341/3341 [==============================] - 0s 24us/sample - loss: 4.3097 - mae: 1.4813 - mse: 4.3097 - val_loss: 4.9433 - val_mae: 1.5166 - val_mse: 4.9433\n",
      "Epoch 246/300\n",
      "3341/3341 [==============================] - 0s 26us/sample - loss: 4.5156 - mae: 1.5152 - mse: 4.5156 - val_loss: 6.3799 - val_mae: 2.0187 - val_mse: 6.3799\n",
      "Epoch 247/300\n",
      "3341/3341 [==============================] - 0s 24us/sample - loss: 4.4433 - mae: 1.5085 - mse: 4.4433 - val_loss: 6.2327 - val_mae: 1.9385 - val_mse: 6.2327\n",
      "Epoch 248/300\n",
      "3341/3341 [==============================] - 0s 25us/sample - loss: 4.5155 - mae: 1.5175 - mse: 4.5155 - val_loss: 7.5366 - val_mae: 1.9327 - val_mse: 7.5366\n",
      "Epoch 249/300\n",
      "3341/3341 [==============================] - 0s 24us/sample - loss: 4.3995 - mae: 1.4854 - mse: 4.3995 - val_loss: 5.6728 - val_mae: 1.8622 - val_mse: 5.6728\n",
      "Epoch 250/300\n",
      "3341/3341 [==============================] - 0s 25us/sample - loss: 4.4268 - mae: 1.5075 - mse: 4.4268 - val_loss: 7.2424 - val_mae: 1.9008 - val_mse: 7.2424\n",
      "Epoch 251/300\n",
      "3341/3341 [==============================] - 0s 27us/sample - loss: 4.6056 - mae: 1.5311 - mse: 4.6056 - val_loss: 6.4212 - val_mae: 1.7432 - val_mse: 6.4212\n",
      "Epoch 252/300\n",
      "3341/3341 [==============================] - 0s 25us/sample - loss: 4.4015 - mae: 1.4895 - mse: 4.4015 - val_loss: 4.7988 - val_mae: 1.4928 - val_mse: 4.7988\n",
      "Epoch 253/300\n",
      "3341/3341 [==============================] - 0s 18us/sample - loss: 4.3202 - mae: 1.4822 - mse: 4.3202 - val_loss: 4.9334 - val_mae: 1.5320 - val_mse: 4.9334\n",
      "Epoch 254/300\n",
      "3341/3341 [==============================] - 0s 25us/sample - loss: 4.3147 - mae: 1.4760 - mse: 4.3147 - val_loss: 4.5409 - val_mae: 1.4716 - val_mse: 4.5409\n",
      "Epoch 255/300\n",
      "3341/3341 [==============================] - 0s 26us/sample - loss: 4.3241 - mae: 1.4740 - mse: 4.3241 - val_loss: 7.6654 - val_mae: 1.9596 - val_mse: 7.6654\n",
      "Epoch 256/300\n",
      "3341/3341 [==============================] - 0s 25us/sample - loss: 4.4953 - mae: 1.5168 - mse: 4.4953 - val_loss: 5.0573 - val_mae: 1.5337 - val_mse: 5.0573\n",
      "Epoch 257/300\n",
      "3341/3341 [==============================] - 0s 31us/sample - loss: 4.3925 - mae: 1.4968 - mse: 4.3925 - val_loss: 4.8403 - val_mae: 1.5846 - val_mse: 4.8403\n",
      "Epoch 258/300\n",
      "3341/3341 [==============================] - 0s 35us/sample - loss: 4.3325 - mae: 1.4892 - mse: 4.3325 - val_loss: 4.5982 - val_mae: 1.5316 - val_mse: 4.5982\n",
      "Epoch 259/300\n",
      "3341/3341 [==============================] - 0s 28us/sample - loss: 4.3111 - mae: 1.4826 - mse: 4.3111 - val_loss: 4.6100 - val_mae: 1.5000 - val_mse: 4.6100\n",
      "Epoch 260/300\n",
      "3341/3341 [==============================] - 0s 30us/sample - loss: 4.3447 - mae: 1.4893 - mse: 4.3447 - val_loss: 4.5550 - val_mae: 1.4791 - val_mse: 4.5550\n",
      "Epoch 261/300\n",
      "3341/3341 [==============================] - 0s 26us/sample - loss: 4.3306 - mae: 1.4835 - mse: 4.3306 - val_loss: 4.6690 - val_mae: 1.5189 - val_mse: 4.6690\n",
      "Epoch 262/300\n",
      "3341/3341 [==============================] - 0s 27us/sample - loss: 4.3993 - mae: 1.4985 - mse: 4.3993 - val_loss: 4.5725 - val_mae: 1.5279 - val_mse: 4.5725\n",
      "Epoch 263/300\n",
      "3341/3341 [==============================] - 0s 21us/sample - loss: 4.4470 - mae: 1.5106 - mse: 4.4470 - val_loss: 4.6901 - val_mae: 1.5703 - val_mse: 4.6901\n",
      "Epoch 264/300\n",
      "3341/3341 [==============================] - 0s 39us/sample - loss: 4.3510 - mae: 1.4931 - mse: 4.3510 - val_loss: 4.9364 - val_mae: 1.6580 - val_mse: 4.9364\n",
      "Epoch 265/300\n",
      "3341/3341 [==============================] - 0s 44us/sample - loss: 4.3876 - mae: 1.4986 - mse: 4.3876 - val_loss: 5.3673 - val_mae: 1.5419 - val_mse: 5.3673\n",
      "Epoch 266/300\n",
      "3341/3341 [==============================] - 0s 29us/sample - loss: 4.3539 - mae: 1.4853 - mse: 4.3539 - val_loss: 4.9936 - val_mae: 1.4998 - val_mse: 4.9936\n",
      "Epoch 267/300\n",
      "3341/3341 [==============================] - 0s 21us/sample - loss: 4.3956 - mae: 1.5013 - mse: 4.3956 - val_loss: 4.6949 - val_mae: 1.4671 - val_mse: 4.6949\n",
      "Epoch 268/300\n",
      "3341/3341 [==============================] - 0s 17us/sample - loss: 4.3807 - mae: 1.4946 - mse: 4.3807 - val_loss: 4.9074 - val_mae: 1.5458 - val_mse: 4.9074\n",
      "Epoch 269/300\n",
      "3341/3341 [==============================] - 0s 17us/sample - loss: 4.3093 - mae: 1.4808 - mse: 4.3093 - val_loss: 5.1848 - val_mae: 1.7326 - val_mse: 5.1848\n",
      "Epoch 270/300\n",
      "3341/3341 [==============================] - 0s 26us/sample - loss: 4.4185 - mae: 1.5154 - mse: 4.4185 - val_loss: 5.4182 - val_mae: 1.5511 - val_mse: 5.4182\n",
      "Epoch 271/300\n",
      "3341/3341 [==============================] - 0s 27us/sample - loss: 4.3044 - mae: 1.4779 - mse: 4.3044 - val_loss: 7.4429 - val_mae: 2.2258 - val_mse: 7.4429\n",
      "Epoch 272/300\n",
      "3341/3341 [==============================] - 0s 28us/sample - loss: 4.4842 - mae: 1.5120 - mse: 4.4842 - val_loss: 7.2339 - val_mae: 2.1597 - val_mse: 7.2339\n",
      "Epoch 273/300\n",
      "3341/3341 [==============================] - 0s 25us/sample - loss: 4.3776 - mae: 1.5012 - mse: 4.3776 - val_loss: 8.0504 - val_mae: 2.3420 - val_mse: 8.0504\n",
      "Epoch 274/300\n",
      "3341/3341 [==============================] - 0s 27us/sample - loss: 4.5257 - mae: 1.5283 - mse: 4.5257 - val_loss: 4.6603 - val_mae: 1.4618 - val_mse: 4.6603\n",
      "Epoch 275/300\n",
      "3341/3341 [==============================] - 0s 27us/sample - loss: 4.3066 - mae: 1.4820 - mse: 4.3066 - val_loss: 4.5506 - val_mae: 1.4744 - val_mse: 4.5506\n",
      "Epoch 276/300\n",
      "3341/3341 [==============================] - 0s 25us/sample - loss: 4.4706 - mae: 1.4999 - mse: 4.4706 - val_loss: 4.6697 - val_mae: 1.4839 - val_mse: 4.6697\n",
      "Epoch 277/300\n",
      "3341/3341 [==============================] - 0s 28us/sample - loss: 4.2754 - mae: 1.4717 - mse: 4.2754 - val_loss: 6.2678 - val_mae: 1.9565 - val_mse: 6.2678\n",
      "Epoch 278/300\n",
      "3341/3341 [==============================] - 0s 25us/sample - loss: 4.4115 - mae: 1.5032 - mse: 4.4115 - val_loss: 6.3536 - val_mae: 1.7415 - val_mse: 6.3536\n",
      "Epoch 279/300\n",
      "3341/3341 [==============================] - 0s 28us/sample - loss: 4.3361 - mae: 1.4814 - mse: 4.3361 - val_loss: 5.8360 - val_mae: 1.6397 - val_mse: 5.8360\n",
      "Epoch 280/300\n",
      "3341/3341 [==============================] - 0s 24us/sample - loss: 4.3028 - mae: 1.4800 - mse: 4.3028 - val_loss: 4.5457 - val_mae: 1.4935 - val_mse: 4.5457\n",
      "Epoch 281/300\n",
      "3341/3341 [==============================] - 0s 26us/sample - loss: 4.3489 - mae: 1.4891 - mse: 4.3489 - val_loss: 4.6452 - val_mae: 1.5338 - val_mse: 4.6452\n",
      "Epoch 282/300\n",
      "3341/3341 [==============================] - 0s 25us/sample - loss: 4.3821 - mae: 1.4968 - mse: 4.3821 - val_loss: 4.5549 - val_mae: 1.4703 - val_mse: 4.5549\n",
      "Epoch 283/300\n",
      "3341/3341 [==============================] - 0s 27us/sample - loss: 4.2932 - mae: 1.4754 - mse: 4.2932 - val_loss: 4.6846 - val_mae: 1.5549 - val_mse: 4.6846\n",
      "Epoch 284/300\n",
      "3341/3341 [==============================] - 0s 26us/sample - loss: 4.2938 - mae: 1.4833 - mse: 4.2938 - val_loss: 7.3740 - val_mae: 1.9027 - val_mse: 7.3740\n",
      "Epoch 285/300\n",
      "3341/3341 [==============================] - 0s 24us/sample - loss: 4.3962 - mae: 1.4861 - mse: 4.3962 - val_loss: 4.6370 - val_mae: 1.5377 - val_mse: 4.6370\n",
      "Epoch 286/300\n",
      "3341/3341 [==============================] - 0s 22us/sample - loss: 4.3479 - mae: 1.4934 - mse: 4.3479 - val_loss: 4.7140 - val_mae: 1.4788 - val_mse: 4.7140\n",
      "Epoch 287/300\n",
      "3341/3341 [==============================] - 0s 20us/sample - loss: 4.3307 - mae: 1.4843 - mse: 4.3307 - val_loss: 4.7846 - val_mae: 1.6202 - val_mse: 4.7846\n",
      "Epoch 288/300\n",
      "3341/3341 [==============================] - 0s 19us/sample - loss: 4.4151 - mae: 1.5058 - mse: 4.4151 - val_loss: 7.0077 - val_mae: 1.8009 - val_mse: 7.0077\n",
      "Epoch 289/300\n",
      "3341/3341 [==============================] - 0s 19us/sample - loss: 4.4265 - mae: 1.4909 - mse: 4.4265 - val_loss: 4.6559 - val_mae: 1.4592 - val_mse: 4.6559\n",
      "Epoch 290/300\n",
      "3341/3341 [==============================] - 0s 21us/sample - loss: 4.2770 - mae: 1.4703 - mse: 4.2770 - val_loss: 4.6037 - val_mae: 1.5142 - val_mse: 4.6037\n",
      "Epoch 291/300\n",
      "3341/3341 [==============================] - 0s 21us/sample - loss: 4.4606 - mae: 1.5059 - mse: 4.4606 - val_loss: 11.9153 - val_mae: 2.9982 - val_mse: 11.9153\n",
      "Epoch 292/300\n",
      "3341/3341 [==============================] - 0s 20us/sample - loss: 4.5785 - mae: 1.5276 - mse: 4.5785 - val_loss: 5.2259 - val_mae: 1.7505 - val_mse: 5.2259\n",
      "Epoch 293/300\n",
      "3341/3341 [==============================] - 0s 23us/sample - loss: 4.3020 - mae: 1.4868 - mse: 4.3020 - val_loss: 5.0095 - val_mae: 1.6892 - val_mse: 5.0095\n",
      "Epoch 294/300\n",
      "3341/3341 [==============================] - 0s 27us/sample - loss: 4.3226 - mae: 1.4916 - mse: 4.3226 - val_loss: 4.7347 - val_mae: 1.4657 - val_mse: 4.7347\n",
      "Epoch 295/300\n",
      "3341/3341 [==============================] - 0s 28us/sample - loss: 4.3707 - mae: 1.4815 - mse: 4.3707 - val_loss: 4.6068 - val_mae: 1.4600 - val_mse: 4.6068\n",
      "Epoch 296/300\n",
      "3341/3341 [==============================] - 0s 25us/sample - loss: 4.3127 - mae: 1.4778 - mse: 4.3127 - val_loss: 4.7521 - val_mae: 1.4687 - val_mse: 4.7521\n",
      "Epoch 297/300\n",
      "3341/3341 [==============================] - 0s 24us/sample - loss: 4.3183 - mae: 1.4888 - mse: 4.3183 - val_loss: 4.7446 - val_mae: 1.4681 - val_mse: 4.7446\n",
      "Epoch 298/300\n",
      "3341/3341 [==============================] - 0s 27us/sample - loss: 4.4190 - mae: 1.5000 - mse: 4.4190 - val_loss: 5.7093 - val_mae: 1.6334 - val_mse: 5.7093\n",
      "Epoch 299/300\n",
      "3341/3341 [==============================] - 0s 29us/sample - loss: 4.3748 - mae: 1.4911 - mse: 4.3748 - val_loss: 5.3047 - val_mae: 1.5547 - val_mse: 5.3047\n",
      "Epoch 300/300\n",
      "3341/3341 [==============================] - 0s 27us/sample - loss: 4.3536 - mae: 1.4759 - mse: 4.3536 - val_loss: 6.5543 - val_mae: 1.7272 - val_mse: 6.5543\n"
     ]
    }
   ],
   "source": [
    "history = model.fit(X_train, y_train, \n",
    "                     epochs=300,\n",
    "                     batch_size=128,\n",
    "                     validation_data=(X_test, y_test),\n",
    "                     verbose = 1\n",
    "                    )"
   ]
  },
  {
   "cell_type": "code",
   "execution_count": 23,
   "metadata": {},
   "outputs": [
    {
     "data": {
      "text/plain": [
       "<matplotlib.legend.Legend at 0x13b6f7b50>"
      ]
     },
     "execution_count": 23,
     "metadata": {},
     "output_type": "execute_result"
    },
    {
     "data": {
      "image/png": "[encoded data removed]",
      "text/plain": [
       "<Figure size 432x288 with 1 Axes>"
      ]
     },
     "metadata": {
      "needs_background": "light"
     },
     "output_type": "display_data"
    }
   ],
   "source": [
    "hist = pd.DataFrame(history.history)\n",
    "hist['epoch'] = history.epoch\n",
    "\n",
    "plt.xlabel('Epoch')\n",
    "plt.ylabel('Mean Abs Error [MPG]')\n",
    "plt.plot(hist['epoch'], hist['mae'], label='Train Error')\n",
    "plt.plot(hist['epoch'], hist['val_mae'], label='val Error')\n",
    "plt.ylim(0, 5)\n",
    "plt.legend()"
   ]
  },
  {
   "cell_type": "code",
   "execution_count": 24,
   "metadata": {},
   "outputs": [
    {
     "data": {
      "text/plain": [
       "<matplotlib.legend.Legend at 0x13b75e110>"
      ]
     },
     "execution_count": 24,
     "metadata": {},
     "output_type": "execute_result"
    },
    {
     "data": {
      "image/png": "[encoded data removed]",
      "text/plain": [
       "<Figure size 432x288 with 1 Axes>"
      ]
     },
     "metadata": {
      "needs_background": "light"
     },
     "output_type": "display_data"
    }
   ],
   "source": [
    "plt.xlabel('Epoch')\n",
    "plt.ylabel('Mean Square Error [$MPG^2$]')\n",
    "plt.plot(hist['epoch'], hist['mse'], label='Train Error')\n",
    "plt.plot(hist['epoch'], hist['val_mse'], label='val Error')\n",
    "plt.ylim(0, 30)\n",
    "plt.legend()"
   ]
  },
  {
   "cell_type": "code",
   "execution_count": 25,
   "metadata": {
    "scrolled": true
   },
   "outputs": [
    {
     "name": "stdout",
     "output_type": "stream",
     "text": [
      "WARNING:tensorflow:Falling back from v2 loop because of error: Failed to find data adapter that can handle input: <class 'pandas.core.frame.DataFrame'>, <class 'NoneType'>\n",
      "836/836 [==============================] - 0s 43us/sample - loss: 4.9321 - mae: 1.4919 - mse: 4.9321\n"
     ]
    },
    {
     "data": {
      "text/plain": [
       "2.2208394702399548"
      ]
     },
     "execution_count": 25,
     "metadata": {},
     "output_type": "execute_result"
    }
   ],
   "source": [
    "loss, mae, mse = model.evaluate(X_test, y_test)\n",
    "mse**0.5"
   ]
  },
  {
   "cell_type": "code",
   "execution_count": null,
   "metadata": {},
   "outputs": [],
   "source": []
  },
  {
   "cell_type": "markdown",
   "metadata": {},
   "source": [
    "## model_3 add layers"
   ]
  },
  {
   "cell_type": "code",
   "execution_count": 26,
   "metadata": {},
   "outputs": [],
   "source": [
    "model = keras.Sequential([\n",
    "    layers.Dense(64, activation='relu', input_shape=[8]),\n",
    "    layers.Dense(128, activation='relu'),\n",
    "    layers.Dense(256, activation='relu'),\n",
    "    layers.Flatten(),\n",
    "    layers.Dense(1)\n",
    "])"
   ]
  },
  {
   "cell_type": "code",
   "execution_count": 27,
   "metadata": {},
   "outputs": [
    {
     "name": "stdout",
     "output_type": "stream",
     "text": [
      "Model: \"sequential_1\"\n",
      "_________________________________________________________________\n",
      "Layer (type)                 Output Shape              Param #   \n",
      "=================================================================\n",
      "dense_7 (Dense)              (None, 64)                576       \n",
      "_________________________________________________________________\n",
      "dense_8 (Dense)              (None, 128)               8320      \n",
      "_________________________________________________________________\n",
      "dense_9 (Dense)              (None, 256)               33024     \n",
      "_________________________________________________________________\n",
      "flatten_1 (Flatten)          (None, 256)               0         \n",
      "_________________________________________________________________\n",
      "dense_10 (Dense)             (None, 1)                 257       \n",
      "=================================================================\n",
      "Total params: 42,177\n",
      "Trainable params: 42,177\n",
      "Non-trainable params: 0\n",
      "_________________________________________________________________\n"
     ]
    }
   ],
   "source": [
    "model.summary()"
   ]
  },
  {
   "cell_type": "code",
   "execution_count": 28,
   "metadata": {},
   "outputs": [],
   "source": [
    "model.compile(optimizer='sgd', loss='mse', metrics=['mae', 'mse'])"
   ]
  },
  {
   "cell_type": "code",
   "execution_count": 29,
   "metadata": {},
   "outputs": [
    {
     "name": "stdout",
     "output_type": "stream",
     "text": [
      "WARNING:tensorflow:Falling back from v2 loop because of error: Failed to find data adapter that can handle input: <class 'pandas.core.frame.DataFrame'>, <class 'NoneType'>\n",
      "Train on 3341 samples, validate on 836 samples\n",
      "Epoch 1/100\n",
      "3341/3341 [==============================] - 0s 57us/sample - loss: 24.5391 - mae: 3.8211 - mse: 24.5391 - val_loss: 10.2043 - val_mae: 2.7059 - val_mse: 10.2043\n",
      "Epoch 2/100\n",
      "3341/3341 [==============================] - 0s 24us/sample - loss: 11.6629 - mae: 2.6271 - mse: 11.6629 - val_loss: 10.5139 - val_mae: 2.1580 - val_mse: 10.5139\n",
      "Epoch 3/100\n",
      "3341/3341 [==============================] - 0s 26us/sample - loss: 9.2468 - mae: 2.2617 - mse: 9.2467 - val_loss: 7.2744 - val_mae: 2.0872 - val_mse: 7.2744\n",
      "Epoch 4/100\n",
      "3341/3341 [==============================] - 0s 31us/sample - loss: 6.8677 - mae: 1.9146 - mse: 6.8677 - val_loss: 9.0055 - val_mae: 2.5354 - val_mse: 9.0055\n",
      "Epoch 5/100\n",
      "3341/3341 [==============================] - 0s 31us/sample - loss: 8.7898 - mae: 2.2107 - mse: 8.7898 - val_loss: 9.0009 - val_mae: 1.9575 - val_mse: 9.0009\n",
      "Epoch 6/100\n",
      "3341/3341 [==============================] - 0s 26us/sample - loss: 7.1141 - mae: 1.9433 - mse: 7.1141 - val_loss: 8.8804 - val_mae: 1.9558 - val_mse: 8.8804\n",
      "Epoch 7/100\n",
      "3341/3341 [==============================] - 0s 24us/sample - loss: 7.6155 - mae: 2.0333 - mse: 7.6155 - val_loss: 10.0545 - val_mae: 2.1140 - val_mse: 10.0545\n",
      "Epoch 8/100\n",
      "3341/3341 [==============================] - 0s 25us/sample - loss: 6.7603 - mae: 1.8774 - mse: 6.7603 - val_loss: 6.7390 - val_mae: 2.0108 - val_mse: 6.7390\n",
      "Epoch 9/100\n",
      "3341/3341 [==============================] - 0s 25us/sample - loss: 7.0174 - mae: 1.9338 - mse: 7.0174 - val_loss: 10.3830 - val_mae: 2.2198 - val_mse: 10.3830\n",
      "Epoch 10/100\n",
      "3341/3341 [==============================] - 0s 25us/sample - loss: 7.0269 - mae: 1.9251 - mse: 7.0269 - val_loss: 6.1072 - val_mae: 1.7569 - val_mse: 6.1072\n",
      "Epoch 11/100\n",
      "3341/3341 [==============================] - 0s 26us/sample - loss: 7.6671 - mae: 2.0303 - mse: 7.6671 - val_loss: 7.5419 - val_mae: 2.2029 - val_mse: 7.5419\n",
      "Epoch 12/100\n",
      "3341/3341 [==============================] - 0s 25us/sample - loss: 6.4632 - mae: 1.8433 - mse: 6.4632 - val_loss: 7.7094 - val_mae: 2.3065 - val_mse: 7.7094\n",
      "Epoch 13/100\n",
      "3341/3341 [==============================] - 0s 24us/sample - loss: 7.0895 - mae: 1.9751 - mse: 7.0895 - val_loss: 9.8657 - val_mae: 2.1624 - val_mse: 9.8657\n",
      "Epoch 14/100\n",
      "3341/3341 [==============================] - 0s 24us/sample - loss: 6.9772 - mae: 1.9257 - mse: 6.9772 - val_loss: 10.4160 - val_mae: 2.2540 - val_mse: 10.4160\n",
      "Epoch 15/100\n",
      "3341/3341 [==============================] - 0s 28us/sample - loss: 6.4625 - mae: 1.8561 - mse: 6.4625 - val_loss: 5.8720 - val_mae: 1.7853 - val_mse: 5.8720\n",
      "Epoch 16/100\n",
      "3341/3341 [==============================] - 0s 23us/sample - loss: 7.0777 - mae: 1.9488 - mse: 7.0777 - val_loss: 6.1070 - val_mae: 1.8760 - val_mse: 6.1070\n",
      "Epoch 17/100\n",
      "3341/3341 [==============================] - 0s 24us/sample - loss: 6.4932 - mae: 1.8641 - mse: 6.4932 - val_loss: 6.1921 - val_mae: 1.9361 - val_mse: 6.1921\n",
      "Epoch 18/100\n",
      "3341/3341 [==============================] - 0s 24us/sample - loss: 5.9051 - mae: 1.7776 - mse: 5.9051 - val_loss: 9.2485 - val_mae: 2.6146 - val_mse: 9.2485\n",
      "Epoch 19/100\n",
      "3341/3341 [==============================] - 0s 24us/sample - loss: 6.8656 - mae: 1.9237 - mse: 6.8656 - val_loss: 5.9279 - val_mae: 1.8565 - val_mse: 5.9279\n",
      "Epoch 20/100\n",
      "3341/3341 [==============================] - 0s 24us/sample - loss: 6.2575 - mae: 1.8380 - mse: 6.2575 - val_loss: 7.3793 - val_mae: 2.2735 - val_mse: 7.3793\n",
      "Epoch 21/100\n",
      "3341/3341 [==============================] - 0s 27us/sample - loss: 6.2322 - mae: 1.8430 - mse: 6.2322 - val_loss: 6.2445 - val_mae: 1.9788 - val_mse: 6.2445\n",
      "Epoch 22/100\n",
      "3341/3341 [==============================] - 0s 28us/sample - loss: 5.8710 - mae: 1.7772 - mse: 5.8710 - val_loss: 7.9921 - val_mae: 2.2868 - val_mse: 7.9921\n",
      "Epoch 23/100\n",
      "3341/3341 [==============================] - 0s 32us/sample - loss: 6.2538 - mae: 1.8226 - mse: 6.2538 - val_loss: 6.5440 - val_mae: 1.6584 - val_mse: 6.5440\n",
      "Epoch 24/100\n",
      "3341/3341 [==============================] - 0s 29us/sample - loss: 5.9826 - mae: 1.7792 - mse: 5.9826 - val_loss: 7.6212 - val_mae: 1.8250 - val_mse: 7.6212\n",
      "Epoch 25/100\n",
      "3341/3341 [==============================] - 0s 24us/sample - loss: 6.0002 - mae: 1.7726 - mse: 6.0002 - val_loss: 7.5284 - val_mae: 1.7988 - val_mse: 7.5284\n",
      "Epoch 26/100\n",
      "3341/3341 [==============================] - 0s 24us/sample - loss: 5.9531 - mae: 1.7754 - mse: 5.9531 - val_loss: 5.5001 - val_mae: 1.6772 - val_mse: 5.5001\n",
      "Epoch 27/100\n",
      "3341/3341 [==============================] - 0s 27us/sample - loss: 6.0045 - mae: 1.7860 - mse: 6.0045 - val_loss: 7.7608 - val_mae: 1.8059 - val_mse: 7.7608\n",
      "Epoch 28/100\n",
      "3341/3341 [==============================] - 0s 43us/sample - loss: 5.8983 - mae: 1.7608 - mse: 5.8983 - val_loss: 5.7472 - val_mae: 1.7770 - val_mse: 5.7472\n",
      "Epoch 29/100\n",
      "3341/3341 [==============================] - 0s 46us/sample - loss: 5.8554 - mae: 1.7471 - mse: 5.8554 - val_loss: 5.3146 - val_mae: 1.7096 - val_mse: 5.3146\n",
      "Epoch 30/100\n",
      "3341/3341 [==============================] - 0s 43us/sample - loss: 5.5465 - mae: 1.7159 - mse: 5.5465 - val_loss: 5.5296 - val_mae: 1.5802 - val_mse: 5.5296\n",
      "Epoch 31/100\n",
      "3341/3341 [==============================] - 0s 32us/sample - loss: 5.7182 - mae: 1.7421 - mse: 5.7182 - val_loss: 5.4738 - val_mae: 1.7077 - val_mse: 5.4738\n",
      "Epoch 32/100\n",
      "3341/3341 [==============================] - 0s 32us/sample - loss: 5.7153 - mae: 1.7144 - mse: 5.7153 - val_loss: 6.1885 - val_mae: 1.6337 - val_mse: 6.1885\n",
      "Epoch 33/100\n",
      "3341/3341 [==============================] - 0s 35us/sample - loss: 5.4359 - mae: 1.6850 - mse: 5.4359 - val_loss: 5.3573 - val_mae: 1.5592 - val_mse: 5.3573\n",
      "Epoch 34/100\n",
      "3341/3341 [==============================] - 0s 36us/sample - loss: 5.2911 - mae: 1.6722 - mse: 5.2911 - val_loss: 5.0941 - val_mae: 1.5996 - val_mse: 5.0941\n",
      "Epoch 35/100\n",
      "3341/3341 [==============================] - 0s 29us/sample - loss: 5.3303 - mae: 1.6773 - mse: 5.3303 - val_loss: 5.1178 - val_mae: 1.6505 - val_mse: 5.1178\n",
      "Epoch 36/100\n",
      "3341/3341 [==============================] - 0s 49us/sample - loss: 5.0884 - mae: 1.6272 - mse: 5.0884 - val_loss: 5.5329 - val_mae: 1.5738 - val_mse: 5.5329\n",
      "Epoch 37/100\n",
      "3341/3341 [==============================] - 0s 38us/sample - loss: 5.9130 - mae: 1.7565 - mse: 5.9130 - val_loss: 5.4552 - val_mae: 1.7287 - val_mse: 5.4552\n",
      "Epoch 38/100\n",
      "3341/3341 [==============================] - 0s 41us/sample - loss: 5.6668 - mae: 1.7220 - mse: 5.6668 - val_loss: 5.5031 - val_mae: 1.5610 - val_mse: 5.5031\n",
      "Epoch 39/100\n",
      "3341/3341 [==============================] - 0s 43us/sample - loss: 5.3085 - mae: 1.6611 - mse: 5.3085 - val_loss: 7.2086 - val_mae: 1.7905 - val_mse: 7.2086\n",
      "Epoch 40/100\n",
      "3341/3341 [==============================] - 0s 31us/sample - loss: 4.9582 - mae: 1.6140 - mse: 4.9582 - val_loss: 5.0824 - val_mae: 1.6013 - val_mse: 5.0824\n",
      "Epoch 41/100\n",
      "3341/3341 [==============================] - 0s 22us/sample - loss: 5.1543 - mae: 1.6538 - mse: 5.1543 - val_loss: 9.0139 - val_mae: 2.0608 - val_mse: 9.0139\n",
      "Epoch 42/100\n",
      "3341/3341 [==============================] - 0s 18us/sample - loss: 5.5415 - mae: 1.6765 - mse: 5.5415 - val_loss: 8.4321 - val_mae: 2.3384 - val_mse: 8.4321\n",
      "Epoch 43/100\n",
      "3341/3341 [==============================] - 0s 22us/sample - loss: 5.5051 - mae: 1.6881 - mse: 5.5051 - val_loss: 5.0264 - val_mae: 1.6436 - val_mse: 5.0264\n",
      "Epoch 44/100\n",
      "3341/3341 [==============================] - 0s 19us/sample - loss: 5.0381 - mae: 1.6205 - mse: 5.0381 - val_loss: 4.9601 - val_mae: 1.6273 - val_mse: 4.9601\n",
      "Epoch 45/100\n",
      "3341/3341 [==============================] - 0s 39us/sample - loss: 4.9379 - mae: 1.6014 - mse: 4.9379 - val_loss: 5.1022 - val_mae: 1.6789 - val_mse: 5.1022\n",
      "Epoch 46/100\n",
      "3341/3341 [==============================] - 0s 44us/sample - loss: 5.2895 - mae: 1.6576 - mse: 5.2895 - val_loss: 5.4197 - val_mae: 1.7826 - val_mse: 5.4197\n",
      "Epoch 47/100\n",
      "3341/3341 [==============================] - 0s 23us/sample - loss: 5.1589 - mae: 1.6460 - mse: 5.1589 - val_loss: 9.9965 - val_mae: 2.1822 - val_mse: 9.9965\n",
      "Epoch 48/100\n",
      "3341/3341 [==============================] - 0s 19us/sample - loss: 5.1580 - mae: 1.6348 - mse: 5.1580 - val_loss: 5.1652 - val_mae: 1.5165 - val_mse: 5.1652\n",
      "Epoch 49/100\n",
      "3341/3341 [==============================] - 0s 18us/sample - loss: 5.0623 - mae: 1.6273 - mse: 5.0623 - val_loss: 5.0116 - val_mae: 1.5563 - val_mse: 5.0116\n",
      "Epoch 50/100\n",
      "3341/3341 [==============================] - 0s 17us/sample - loss: 4.7254 - mae: 1.5646 - mse: 4.7254 - val_loss: 15.1436 - val_mae: 3.3988 - val_mse: 15.1436\n",
      "Epoch 51/100\n",
      "3341/3341 [==============================] - 0s 28us/sample - loss: 6.7679 - mae: 1.8747 - mse: 6.7679 - val_loss: 6.7171 - val_mae: 2.0730 - val_mse: 6.7171\n",
      "Epoch 52/100\n",
      "3341/3341 [==============================] - 0s 50us/sample - loss: 5.4528 - mae: 1.7158 - mse: 5.4528 - val_loss: 5.1142 - val_mae: 1.6525 - val_mse: 5.1142\n",
      "Epoch 53/100\n",
      "3341/3341 [==============================] - 0s 34us/sample - loss: 5.2663 - mae: 1.6654 - mse: 5.2663 - val_loss: 6.8167 - val_mae: 1.7302 - val_mse: 6.8167\n",
      "Epoch 54/100\n",
      "3341/3341 [==============================] - 0s 21us/sample - loss: 5.4746 - mae: 1.6704 - mse: 5.4746 - val_loss: 5.0690 - val_mae: 1.5422 - val_mse: 5.0690\n",
      "Epoch 55/100\n",
      "3341/3341 [==============================] - 0s 18us/sample - loss: 4.7766 - mae: 1.5790 - mse: 4.7766 - val_loss: 5.1091 - val_mae: 1.5896 - val_mse: 5.1091\n",
      "Epoch 56/100\n",
      "3341/3341 [==============================] - ETA: 0s - loss: 4.6527 - mae: 1.6141 - mse: 4.652 - 0s 19us/sample - loss: 5.2808 - mae: 1.6615 - mse: 5.2808 - val_loss: 5.6075 - val_mae: 1.8459 - val_mse: 5.6075\n",
      "Epoch 57/100\n",
      "3341/3341 [==============================] - 0s 21us/sample - loss: 5.0888 - mae: 1.6168 - mse: 5.0888 - val_loss: 10.1676 - val_mae: 2.1983 - val_mse: 10.1676\n",
      "Epoch 58/100\n",
      "3341/3341 [==============================] - 0s 32us/sample - loss: 5.1957 - mae: 1.6324 - mse: 5.1957 - val_loss: 5.0753 - val_mae: 1.6416 - val_mse: 5.0753\n",
      "Epoch 59/100\n",
      "3341/3341 [==============================] - 0s 58us/sample - loss: 5.2570 - mae: 1.6486 - mse: 5.2570 - val_loss: 11.1028 - val_mae: 2.7627 - val_mse: 11.1028\n",
      "Epoch 60/100\n",
      "3341/3341 [==============================] - 0s 23us/sample - loss: 5.3111 - mae: 1.6685 - mse: 5.3111 - val_loss: 5.0328 - val_mae: 1.6401 - val_mse: 5.0328\n",
      "Epoch 61/100\n",
      "3341/3341 [==============================] - 0s 26us/sample - loss: 5.0927 - mae: 1.6291 - mse: 5.0927 - val_loss: 5.2657 - val_mae: 1.5426 - val_mse: 5.2657\n",
      "Epoch 62/100\n",
      "3341/3341 [==============================] - 0s 58us/sample - loss: 4.9719 - mae: 1.6076 - mse: 4.9719 - val_loss: 25.4434 - val_mae: 4.5052 - val_mse: 25.4434\n",
      "Epoch 63/100\n",
      "3341/3341 [==============================] - 0s 34us/sample - loss: 7.9587 - mae: 2.0253 - mse: 7.9587 - val_loss: 7.0282 - val_mae: 1.7618 - val_mse: 7.0282\n",
      "Epoch 64/100\n",
      "3341/3341 [==============================] - 0s 24us/sample - loss: 5.8786 - mae: 1.7356 - mse: 5.8786 - val_loss: 8.9623 - val_mae: 2.0643 - val_mse: 8.9623\n",
      "Epoch 65/100\n",
      "3341/3341 [==============================] - 0s 22us/sample - loss: 5.7484 - mae: 1.7437 - mse: 5.7484 - val_loss: 5.5524 - val_mae: 1.5875 - val_mse: 5.5524\n",
      "Epoch 66/100\n",
      "3341/3341 [==============================] - 0s 21us/sample - loss: 5.3437 - mae: 1.6745 - mse: 5.3437 - val_loss: 5.8960 - val_mae: 1.6140 - val_mse: 5.8960\n",
      "Epoch 67/100\n",
      "3341/3341 [==============================] - 0s 19us/sample - loss: 5.0017 - mae: 1.6118 - mse: 5.0017 - val_loss: 5.4166 - val_mae: 1.5626 - val_mse: 5.4166\n",
      "Epoch 68/100\n",
      "3341/3341 [==============================] - 0s 22us/sample - loss: 5.2979 - mae: 1.6599 - mse: 5.2979 - val_loss: 6.8233 - val_mae: 1.7058 - val_mse: 6.8233\n",
      "Epoch 69/100\n",
      "3341/3341 [==============================] - 0s 33us/sample - loss: 5.2334 - mae: 1.6494 - mse: 5.2334 - val_loss: 18.3956 - val_mae: 3.8043 - val_mse: 18.3956\n",
      "Epoch 70/100\n",
      "3341/3341 [==============================] - 0s 29us/sample - loss: 6.6904 - mae: 1.8457 - mse: 6.6904 - val_loss: 6.5300 - val_mae: 2.0568 - val_mse: 6.5300\n",
      "Epoch 71/100\n",
      "3341/3341 [==============================] - 0s 31us/sample - loss: 5.1821 - mae: 1.6417 - mse: 5.1821 - val_loss: 7.9526 - val_mae: 1.8795 - val_mse: 7.9526\n",
      "Epoch 72/100\n",
      "3341/3341 [==============================] - 0s 30us/sample - loss: 5.0052 - mae: 1.6081 - mse: 5.0052 - val_loss: 9.6379 - val_mae: 2.0632 - val_mse: 9.6379\n",
      "Epoch 73/100\n",
      "3341/3341 [==============================] - 0s 40us/sample - loss: 5.2700 - mae: 1.6360 - mse: 5.2700 - val_loss: 8.9544 - val_mae: 2.4577 - val_mse: 8.9544\n",
      "Epoch 74/100\n",
      "3341/3341 [==============================] - 0s 29us/sample - loss: 4.9257 - mae: 1.5998 - mse: 4.9257 - val_loss: 8.7569 - val_mae: 2.0221 - val_mse: 8.7569\n",
      "Epoch 75/100\n",
      "3341/3341 [==============================] - 0s 28us/sample - loss: 5.3047 - mae: 1.6485 - mse: 5.3047 - val_loss: 12.0589 - val_mae: 2.9704 - val_mse: 12.0589\n",
      "Epoch 76/100\n",
      "3341/3341 [==============================] - 0s 28us/sample - loss: 5.5680 - mae: 1.6970 - mse: 5.5680 - val_loss: 4.8638 - val_mae: 1.5348 - val_mse: 4.8638\n",
      "Epoch 77/100\n",
      "3341/3341 [==============================] - 0s 31us/sample - loss: 4.7505 - mae: 1.5689 - mse: 4.7505 - val_loss: 5.1591 - val_mae: 1.6152 - val_mse: 5.1591\n",
      "Epoch 78/100\n",
      "3341/3341 [==============================] - 0s 33us/sample - loss: 5.2819 - mae: 1.6328 - mse: 5.2819 - val_loss: 5.0574 - val_mae: 1.5356 - val_mse: 5.0574\n",
      "Epoch 79/100\n",
      "3341/3341 [==============================] - 0s 33us/sample - loss: 4.8151 - mae: 1.5642 - mse: 4.8151 - val_loss: 4.9650 - val_mae: 1.6187 - val_mse: 4.9650\n",
      "Epoch 80/100\n",
      "3341/3341 [==============================] - 0s 34us/sample - loss: 4.9887 - mae: 1.6017 - mse: 4.9887 - val_loss: 5.8428 - val_mae: 1.8214 - val_mse: 5.8428\n",
      "Epoch 81/100\n",
      "3341/3341 [==============================] - 0s 40us/sample - loss: 5.2723 - mae: 1.6577 - mse: 5.2723 - val_loss: 8.6933 - val_mae: 2.3693 - val_mse: 8.6933\n",
      "Epoch 82/100\n",
      "3341/3341 [==============================] - 0s 38us/sample - loss: 5.0957 - mae: 1.6079 - mse: 5.0957 - val_loss: 7.4219 - val_mae: 1.8575 - val_mse: 7.4219\n",
      "Epoch 83/100\n",
      "3341/3341 [==============================] - 0s 31us/sample - loss: 4.7083 - mae: 1.5511 - mse: 4.7083 - val_loss: 8.2608 - val_mae: 2.4014 - val_mse: 8.2608\n",
      "Epoch 84/100\n",
      "3341/3341 [==============================] - 0s 25us/sample - loss: 5.3735 - mae: 1.6672 - mse: 5.3735 - val_loss: 5.0675 - val_mae: 1.5764 - val_mse: 5.0675\n",
      "Epoch 85/100\n",
      "3341/3341 [==============================] - 0s 26us/sample - loss: 4.8813 - mae: 1.5779 - mse: 4.8813 - val_loss: 5.7689 - val_mae: 1.8452 - val_mse: 5.7689\n",
      "Epoch 86/100\n",
      "3341/3341 [==============================] - 0s 25us/sample - loss: 4.7127 - mae: 1.5670 - mse: 4.7127 - val_loss: 5.3099 - val_mae: 1.7738 - val_mse: 5.3099\n",
      "Epoch 87/100\n",
      "3341/3341 [==============================] - 0s 23us/sample - loss: 4.6444 - mae: 1.5546 - mse: 4.6444 - val_loss: 8.3941 - val_mae: 2.3978 - val_mse: 8.3941\n",
      "Epoch 88/100\n",
      "3341/3341 [==============================] - 0s 19us/sample - loss: 5.0257 - mae: 1.6128 - mse: 5.0257 - val_loss: 4.7244 - val_mae: 1.5482 - val_mse: 4.7244\n",
      "Epoch 89/100\n",
      "3341/3341 [==============================] - 0s 38us/sample - loss: 4.7714 - mae: 1.5626 - mse: 4.7714 - val_loss: 5.5458 - val_mae: 1.5605 - val_mse: 5.5458\n",
      "Epoch 90/100\n",
      "3341/3341 [==============================] - 0s 44us/sample - loss: 4.4979 - mae: 1.5201 - mse: 4.4979 - val_loss: 6.0464 - val_mae: 1.9779 - val_mse: 6.0464\n",
      "Epoch 91/100\n",
      "3341/3341 [==============================] - 0s 44us/sample - loss: 4.6003 - mae: 1.5350 - mse: 4.6003 - val_loss: 7.0664 - val_mae: 1.8224 - val_mse: 7.0664\n",
      "Epoch 92/100\n",
      "3341/3341 [==============================] - 0s 28us/sample - loss: 4.8879 - mae: 1.5821 - mse: 4.8879 - val_loss: 5.0410 - val_mae: 1.6898 - val_mse: 5.0410\n",
      "Epoch 93/100\n",
      "3341/3341 [==============================] - 0s 24us/sample - loss: 4.8149 - mae: 1.5662 - mse: 4.8149 - val_loss: 5.3730 - val_mae: 1.7537 - val_mse: 5.3730\n",
      "Epoch 94/100\n"
     ]
    },
    {
     "name": "stdout",
     "output_type": "stream",
     "text": [
      "3341/3341 [==============================] - 0s 25us/sample - loss: 4.8846 - mae: 1.5762 - mse: 4.8846 - val_loss: 5.1886 - val_mae: 1.5266 - val_mse: 5.1886\n",
      "Epoch 95/100\n",
      "3341/3341 [==============================] - 0s 37us/sample - loss: 4.8177 - mae: 1.5626 - mse: 4.8177 - val_loss: 5.9707 - val_mae: 1.9028 - val_mse: 5.9707\n",
      "Epoch 96/100\n",
      "3341/3341 [==============================] - 0s 28us/sample - loss: 4.5490 - mae: 1.5304 - mse: 4.5490 - val_loss: 5.3553 - val_mae: 1.7383 - val_mse: 5.3553\n",
      "Epoch 97/100\n",
      "3341/3341 [==============================] - 0s 26us/sample - loss: 4.7214 - mae: 1.5541 - mse: 4.7214 - val_loss: 7.8192 - val_mae: 2.3622 - val_mse: 7.8192\n",
      "Epoch 98/100\n",
      "3341/3341 [==============================] - 0s 37us/sample - loss: 4.7933 - mae: 1.5711 - mse: 4.7933 - val_loss: 11.1141 - val_mae: 2.8660 - val_mse: 11.1141\n",
      "Epoch 99/100\n",
      "3341/3341 [==============================] - 0s 36us/sample - loss: 5.4989 - mae: 1.6774 - mse: 5.4989 - val_loss: 4.6608 - val_mae: 1.4969 - val_mse: 4.6608\n",
      "Epoch 100/100\n",
      "3341/3341 [==============================] - 0s 22us/sample - loss: 4.4955 - mae: 1.5125 - mse: 4.4955 - val_loss: 7.0302 - val_mae: 2.0220 - val_mse: 7.0302\n"
     ]
    }
   ],
   "source": [
    "history = model.fit(X_train, y_train, \n",
    "                     epochs=100,\n",
    "                     batch_size=128,\n",
    "                     validation_data=(X_test, y_test),\n",
    "                     verbose = 1\n",
    "                    )"
   ]
  },
  {
   "cell_type": "code",
   "execution_count": 30,
   "metadata": {},
   "outputs": [
    {
     "data": {
      "text/plain": [
       "<matplotlib.legend.Legend at 0x1168e0f10>"
      ]
     },
     "execution_count": 30,
     "metadata": {},
     "output_type": "execute_result"
    },
    {
     "data": {
      "image/png": "[encoded data removed]",
      "text/plain": [
       "<Figure size 432x288 with 1 Axes>"
      ]
     },
     "metadata": {
      "needs_background": "light"
     },
     "output_type": "display_data"
    }
   ],
   "source": [
    "hist = pd.DataFrame(history.history)\n",
    "hist['epoch'] = history.epoch\n",
    "\n",
    "plt.xlabel('Epoch')\n",
    "plt.ylabel('Mean Abs Error [MPG]')\n",
    "plt.plot(hist['epoch'], hist['mae'], label='Train Error')\n",
    "plt.plot(hist['epoch'], hist['val_mae'], label='val Error')\n",
    "plt.ylim(0, 5)\n",
    "plt.legend()"
   ]
  },
  {
   "cell_type": "code",
   "execution_count": 31,
   "metadata": {},
   "outputs": [
    {
     "data": {
      "text/plain": [
       "<matplotlib.legend.Legend at 0x116a44c10>"
      ]
     },
     "execution_count": 31,
     "metadata": {},
     "output_type": "execute_result"
    },
    {
     "data": {
      "image/png": "[encoded data removed]",
      "text/plain": [
       "<Figure size 432x288 with 1 Axes>"
      ]
     },
     "metadata": {
      "needs_background": "light"
     },
     "output_type": "display_data"
    }
   ],
   "source": [
    "plt.xlabel('Epoch')\n",
    "plt.ylabel('Mean Square Error [$MPG^2$]')\n",
    "plt.plot(hist['epoch'], hist['mse'], label='Train Error')\n",
    "plt.plot(hist['epoch'], hist['val_mse'], label='val Error')\n",
    "plt.ylim(0, 30)\n",
    "plt.legend()"
   ]
  },
  {
   "cell_type": "code",
   "execution_count": 32,
   "metadata": {
    "scrolled": true
   },
   "outputs": [
    {
     "name": "stdout",
     "output_type": "stream",
     "text": [
      "WARNING:tensorflow:Falling back from v2 loop because of error: Failed to find data adapter that can handle input: <class 'pandas.core.frame.DataFrame'>, <class 'NoneType'>\n",
      "836/836 [==============================] - 0s 42us/sample - loss: 7.0302 - mae: 2.0220 - mse: 7.0302\n"
     ]
    },
    {
     "data": {
      "text/plain": [
       "[7.030184703580501, 2.022025, 7.0301847]"
      ]
     },
     "execution_count": 32,
     "metadata": {},
     "output_type": "execute_result"
    }
   ],
   "source": [
    "score = model.evaluate(X_test, y_test)\n",
    "score"
   ]
  },
  {
   "cell_type": "code",
   "execution_count": null,
   "metadata": {},
   "outputs": [],
   "source": []
  },
  {
   "cell_type": "markdown",
   "metadata": {},
   "source": [
    "## model_4 base & input feature remove"
   ]
  },
  {
   "cell_type": "code",
   "execution_count": 31,
   "metadata": {},
   "outputs": [
    {
     "data": {
      "text/html": [
       "<div>\n",
       "<style scoped>\n",
       "    .dataframe tbody tr th:only-of-type {\n",
       "        vertical-align: middle;\n",
       "    }\n",
       "\n",
       "    .dataframe tbody tr th {\n",
       "        vertical-align: top;\n",
       "    }\n",
       "\n",
       "    .dataframe thead th {\n",
       "        text-align: right;\n",
       "    }\n",
       "</style>\n",
       "<table border=\"1\" class=\"dataframe\">\n",
       "  <thead>\n",
       "    <tr style=\"text-align: right;\">\n",
       "      <th></th>\n",
       "      <th>Sex</th>\n",
       "      <th>Length</th>\n",
       "      <th>Diameter</th>\n",
       "      <th>Height</th>\n",
       "      <th>Rings</th>\n",
       "    </tr>\n",
       "  </thead>\n",
       "  <tbody>\n",
       "    <tr>\n",
       "      <th>0</th>\n",
       "      <td>0</td>\n",
       "      <td>0.455</td>\n",
       "      <td>0.365</td>\n",
       "      <td>0.095</td>\n",
       "      <td>15</td>\n",
       "    </tr>\n",
       "    <tr>\n",
       "      <th>1</th>\n",
       "      <td>0</td>\n",
       "      <td>0.350</td>\n",
       "      <td>0.265</td>\n",
       "      <td>0.090</td>\n",
       "      <td>7</td>\n",
       "    </tr>\n",
       "    <tr>\n",
       "      <th>2</th>\n",
       "      <td>1</td>\n",
       "      <td>0.530</td>\n",
       "      <td>0.420</td>\n",
       "      <td>0.135</td>\n",
       "      <td>9</td>\n",
       "    </tr>\n",
       "    <tr>\n",
       "      <th>3</th>\n",
       "      <td>0</td>\n",
       "      <td>0.440</td>\n",
       "      <td>0.365</td>\n",
       "      <td>0.125</td>\n",
       "      <td>10</td>\n",
       "    </tr>\n",
       "    <tr>\n",
       "      <th>4</th>\n",
       "      <td>2</td>\n",
       "      <td>0.330</td>\n",
       "      <td>0.255</td>\n",
       "      <td>0.080</td>\n",
       "      <td>7</td>\n",
       "    </tr>\n",
       "    <tr>\n",
       "      <th>...</th>\n",
       "      <td>...</td>\n",
       "      <td>...</td>\n",
       "      <td>...</td>\n",
       "      <td>...</td>\n",
       "      <td>...</td>\n",
       "    </tr>\n",
       "    <tr>\n",
       "      <th>4172</th>\n",
       "      <td>1</td>\n",
       "      <td>0.565</td>\n",
       "      <td>0.450</td>\n",
       "      <td>0.165</td>\n",
       "      <td>11</td>\n",
       "    </tr>\n",
       "    <tr>\n",
       "      <th>4173</th>\n",
       "      <td>0</td>\n",
       "      <td>0.590</td>\n",
       "      <td>0.440</td>\n",
       "      <td>0.135</td>\n",
       "      <td>10</td>\n",
       "    </tr>\n",
       "    <tr>\n",
       "      <th>4174</th>\n",
       "      <td>0</td>\n",
       "      <td>0.600</td>\n",
       "      <td>0.475</td>\n",
       "      <td>0.205</td>\n",
       "      <td>9</td>\n",
       "    </tr>\n",
       "    <tr>\n",
       "      <th>4175</th>\n",
       "      <td>1</td>\n",
       "      <td>0.625</td>\n",
       "      <td>0.485</td>\n",
       "      <td>0.150</td>\n",
       "      <td>10</td>\n",
       "    </tr>\n",
       "    <tr>\n",
       "      <th>4176</th>\n",
       "      <td>0</td>\n",
       "      <td>0.710</td>\n",
       "      <td>0.555</td>\n",
       "      <td>0.195</td>\n",
       "      <td>12</td>\n",
       "    </tr>\n",
       "  </tbody>\n",
       "</table>\n",
       "<p>4177 rows × 5 columns</p>\n",
       "</div>"
      ],
      "text/plain": [
       "      Sex  Length  Diameter  Height  Rings\n",
       "0       0   0.455     0.365   0.095     15\n",
       "1       0   0.350     0.265   0.090      7\n",
       "2       1   0.530     0.420   0.135      9\n",
       "3       0   0.440     0.365   0.125     10\n",
       "4       2   0.330     0.255   0.080      7\n",
       "...   ...     ...       ...     ...    ...\n",
       "4172    1   0.565     0.450   0.165     11\n",
       "4173    0   0.590     0.440   0.135     10\n",
       "4174    0   0.600     0.475   0.205      9\n",
       "4175    1   0.625     0.485   0.150     10\n",
       "4176    0   0.710     0.555   0.195     12\n",
       "\n",
       "[4177 rows x 5 columns]"
      ]
     },
     "execution_count": 31,
     "metadata": {},
     "output_type": "execute_result"
    }
   ],
   "source": [
    "n_data = data.copy()\n",
    "n_data.pop('WholeWeight')\n",
    "n_data.pop('ShuckedWeight')\n",
    "n_data.pop('VisceraWeight')\n",
    "n_data.pop('Shell weight')\n",
    "n_data"
   ]
  },
  {
   "cell_type": "code",
   "execution_count": 32,
   "metadata": {},
   "outputs": [],
   "source": [
    "X = n_data.copy()\n",
    "y = X.pop('Rings')"
   ]
  },
  {
   "cell_type": "code",
   "execution_count": 33,
   "metadata": {},
   "outputs": [
    {
     "name": "stdout",
     "output_type": "stream",
     "text": [
      "(4177, 4) (4177,)\n"
     ]
    }
   ],
   "source": [
    "print(X.shape, y.shape)"
   ]
  },
  {
   "cell_type": "markdown",
   "metadata": {},
   "source": [
    "## data split"
   ]
  },
  {
   "cell_type": "code",
   "execution_count": 34,
   "metadata": {},
   "outputs": [],
   "source": [
    "X_train, X_test, y_train, y_test = train_test_split(X, y, test_size=0.2, random_state=0)"
   ]
  },
  {
   "cell_type": "code",
   "execution_count": 35,
   "metadata": {
    "scrolled": true
   },
   "outputs": [
    {
     "name": "stdout",
     "output_type": "stream",
     "text": [
      "X_train : (3341, 4), y_train : (3341,)\n",
      "X_test : (836, 4), y_test : (836,)\n"
     ]
    }
   ],
   "source": [
    "print(f\"X_train : {X_train.shape}, y_train : {y_train.shape}\")\n",
    "print(f\"X_test : {X_test.shape}, y_test : {y_test.shape}\")"
   ]
  },
  {
   "cell_type": "code",
   "execution_count": 40,
   "metadata": {},
   "outputs": [],
   "source": [
    "model = keras.Sequential([\n",
    "    layers.Dense(64, activation='relu', input_shape=[4]),\n",
    "    layers.Dense(128, activation='relu'),\n",
    "    layers.Dense(1)\n",
    "])"
   ]
  },
  {
   "cell_type": "code",
   "execution_count": 41,
   "metadata": {},
   "outputs": [
    {
     "name": "stdout",
     "output_type": "stream",
     "text": [
      "Model: \"sequential_2\"\n",
      "_________________________________________________________________\n",
      "Layer (type)                 Output Shape              Param #   \n",
      "=================================================================\n",
      "dense_6 (Dense)              (None, 64)                320       \n",
      "_________________________________________________________________\n",
      "dense_7 (Dense)              (None, 128)               8320      \n",
      "_________________________________________________________________\n",
      "dense_8 (Dense)              (None, 1)                 129       \n",
      "=================================================================\n",
      "Total params: 8,769\n",
      "Trainable params: 8,769\n",
      "Non-trainable params: 0\n",
      "_________________________________________________________________\n"
     ]
    }
   ],
   "source": [
    "model.summary()"
   ]
  },
  {
   "cell_type": "code",
   "execution_count": 42,
   "metadata": {},
   "outputs": [],
   "source": [
    "model.compile(optimizer='sgd', loss='mse', metrics=['mae', 'mse'])"
   ]
  },
  {
   "cell_type": "code",
   "execution_count": 43,
   "metadata": {},
   "outputs": [
    {
     "name": "stdout",
     "output_type": "stream",
     "text": [
      "WARNING:tensorflow:Falling back from v2 loop because of error: Failed to find data adapter that can handle input: <class 'pandas.core.frame.DataFrame'>, <class 'NoneType'>\n",
      "Train on 3341 samples, validate on 836 samples\n",
      "Epoch 1/100\n",
      "3341/3341 [==============================] - 0s 50us/sample - loss: 22.7450 - mae: 3.3740 - mse: 22.7450 - val_loss: 7.5225 - val_mae: 1.9550 - val_mse: 7.5225\n",
      "Epoch 2/100\n",
      "3341/3341 [==============================] - 0s 17us/sample - loss: 7.3810 - mae: 1.9740 - mse: 7.3810 - val_loss: 13.5150 - val_mae: 3.2944 - val_mse: 13.5150\n",
      "Epoch 3/100\n",
      "3341/3341 [==============================] - 0s 17us/sample - loss: 7.3770 - mae: 1.9876 - mse: 7.3770 - val_loss: 7.7691 - val_mae: 1.8502 - val_mse: 7.7691\n",
      "Epoch 4/100\n",
      "3341/3341 [==============================] - 0s 16us/sample - loss: 7.0639 - mae: 1.9195 - mse: 7.0639 - val_loss: 7.2911 - val_mae: 2.0806 - val_mse: 7.2911\n",
      "Epoch 5/100\n",
      "3341/3341 [==============================] - 0s 22us/sample - loss: 7.0263 - mae: 1.9218 - mse: 7.0263 - val_loss: 15.6551 - val_mae: 3.0011 - val_mse: 15.6551\n",
      "Epoch 6/100\n",
      "3341/3341 [==============================] - 0s 21us/sample - loss: 7.2792 - mae: 1.9602 - mse: 7.2792 - val_loss: 7.2881 - val_mae: 2.0826 - val_mse: 7.2881\n",
      "Epoch 7/100\n",
      "3341/3341 [==============================] - 0s 23us/sample - loss: 7.3668 - mae: 1.9825 - mse: 7.3668 - val_loss: 6.9310 - val_mae: 1.8607 - val_mse: 6.9310\n",
      "Epoch 8/100\n",
      "3341/3341 [==============================] - 0s 19us/sample - loss: 6.9975 - mae: 1.9053 - mse: 6.9975 - val_loss: 8.3664 - val_mae: 2.4101 - val_mse: 8.3664\n",
      "Epoch 9/100\n",
      "3341/3341 [==============================] - 0s 17us/sample - loss: 7.3036 - mae: 1.9618 - mse: 7.3036 - val_loss: 8.2803 - val_mae: 1.8475 - val_mse: 8.2803\n",
      "Epoch 10/100\n",
      "3341/3341 [==============================] - 0s 16us/sample - loss: 6.9617 - mae: 1.8983 - mse: 6.9617 - val_loss: 9.2531 - val_mae: 2.5881 - val_mse: 9.2531\n",
      "Epoch 11/100\n",
      "3341/3341 [==============================] - 0s 15us/sample - loss: 7.0507 - mae: 1.9254 - mse: 7.0507 - val_loss: 10.7765 - val_mae: 2.8837 - val_mse: 10.7765\n",
      "Epoch 12/100\n",
      "3341/3341 [==============================] - 0s 17us/sample - loss: 7.1473 - mae: 1.9475 - mse: 7.1473 - val_loss: 10.5027 - val_mae: 2.2162 - val_mse: 10.5027\n",
      "Epoch 13/100\n",
      "3341/3341 [==============================] - 0s 16us/sample - loss: 7.3277 - mae: 1.9536 - mse: 7.3277 - val_loss: 10.3132 - val_mae: 2.1935 - val_mse: 10.3132\n",
      "Epoch 14/100\n",
      "3341/3341 [==============================] - 0s 16us/sample - loss: 6.9820 - mae: 1.8980 - mse: 6.9820 - val_loss: 8.2170 - val_mae: 1.8780 - val_mse: 8.2170\n",
      "Epoch 15/100\n",
      "3341/3341 [==============================] - 0s 17us/sample - loss: 6.9305 - mae: 1.8851 - mse: 6.9305 - val_loss: 7.1675 - val_mae: 1.7644 - val_mse: 7.1675\n",
      "Epoch 16/100\n",
      "3341/3341 [==============================] - 0s 15us/sample - loss: 6.9096 - mae: 1.8910 - mse: 6.9096 - val_loss: 7.3727 - val_mae: 1.8269 - val_mse: 7.3727\n",
      "Epoch 17/100\n",
      "3341/3341 [==============================] - 0s 16us/sample - loss: 7.0895 - mae: 1.9219 - mse: 7.0895 - val_loss: 7.4443 - val_mae: 2.1648 - val_mse: 7.4443\n",
      "Epoch 18/100\n",
      "3341/3341 [==============================] - 0s 15us/sample - loss: 6.8171 - mae: 1.8932 - mse: 6.8171 - val_loss: 6.9844 - val_mae: 1.7803 - val_mse: 6.9844\n",
      "Epoch 19/100\n",
      "3341/3341 [==============================] - 0s 15us/sample - loss: 6.7590 - mae: 1.8691 - mse: 6.7590 - val_loss: 6.8348 - val_mae: 1.7889 - val_mse: 6.8348\n",
      "Epoch 20/100\n",
      "3341/3341 [==============================] - 0s 15us/sample - loss: 6.9964 - mae: 1.9028 - mse: 6.9964 - val_loss: 8.7975 - val_mae: 2.0037 - val_mse: 8.7975\n",
      "Epoch 21/100\n",
      "3341/3341 [==============================] - 0s 16us/sample - loss: 6.9670 - mae: 1.8931 - mse: 6.9670 - val_loss: 8.8539 - val_mae: 1.9199 - val_mse: 8.8539\n",
      "Epoch 22/100\n",
      "3341/3341 [==============================] - 0s 15us/sample - loss: 7.0202 - mae: 1.9110 - mse: 7.0202 - val_loss: 6.9040 - val_mae: 1.9776 - val_mse: 6.9040\n",
      "Epoch 23/100\n",
      "3341/3341 [==============================] - 0s 16us/sample - loss: 6.8494 - mae: 1.8841 - mse: 6.8494 - val_loss: 7.4126 - val_mae: 2.1421 - val_mse: 7.4126\n",
      "Epoch 24/100\n",
      "3341/3341 [==============================] - 0s 16us/sample - loss: 6.9941 - mae: 1.9208 - mse: 6.9941 - val_loss: 7.0026 - val_mae: 1.7795 - val_mse: 7.0026\n",
      "Epoch 25/100\n",
      "3341/3341 [==============================] - 0s 16us/sample - loss: 7.0395 - mae: 1.9227 - mse: 7.0395 - val_loss: 6.7489 - val_mae: 1.8030 - val_mse: 6.7489\n",
      "Epoch 26/100\n",
      "3341/3341 [==============================] - 0s 15us/sample - loss: 6.7690 - mae: 1.8630 - mse: 6.7690 - val_loss: 7.1267 - val_mae: 2.0426 - val_mse: 7.1267\n",
      "Epoch 27/100\n",
      "3341/3341 [==============================] - 0s 16us/sample - loss: 6.9756 - mae: 1.9122 - mse: 6.9756 - val_loss: 8.9083 - val_mae: 1.9639 - val_mse: 8.9083\n",
      "Epoch 28/100\n",
      "3341/3341 [==============================] - 0s 16us/sample - loss: 7.1177 - mae: 1.9113 - mse: 7.1177 - val_loss: 7.0251 - val_mae: 1.7684 - val_mse: 7.0251\n",
      "Epoch 29/100\n",
      "3341/3341 [==============================] - 0s 15us/sample - loss: 6.8658 - mae: 1.8777 - mse: 6.8658 - val_loss: 8.1313 - val_mae: 1.9004 - val_mse: 8.1313\n",
      "Epoch 30/100\n",
      "3341/3341 [==============================] - 0s 16us/sample - loss: 6.9161 - mae: 1.8964 - mse: 6.9161 - val_loss: 7.7898 - val_mae: 2.2578 - val_mse: 7.7898\n",
      "Epoch 31/100\n",
      "3341/3341 [==============================] - 0s 16us/sample - loss: 6.8788 - mae: 1.8924 - mse: 6.8788 - val_loss: 7.6853 - val_mae: 1.7988 - val_mse: 7.6853\n",
      "Epoch 32/100\n",
      "3341/3341 [==============================] - 0s 17us/sample - loss: 6.9541 - mae: 1.9012 - mse: 6.9541 - val_loss: 6.7424 - val_mae: 1.8687 - val_mse: 6.7424\n",
      "Epoch 33/100\n",
      "3341/3341 [==============================] - 0s 16us/sample - loss: 6.8027 - mae: 1.8860 - mse: 6.8027 - val_loss: 8.7673 - val_mae: 1.9413 - val_mse: 8.7673\n",
      "Epoch 34/100\n",
      "3341/3341 [==============================] - 0s 16us/sample - loss: 6.9991 - mae: 1.9111 - mse: 6.9991 - val_loss: 6.7583 - val_mae: 1.7953 - val_mse: 6.7583\n",
      "Epoch 35/100\n",
      "3341/3341 [==============================] - 0s 18us/sample - loss: 6.8409 - mae: 1.8799 - mse: 6.8409 - val_loss: 6.7461 - val_mae: 1.8791 - val_mse: 6.7461\n",
      "Epoch 36/100\n",
      "3341/3341 [==============================] - 0s 19us/sample - loss: 6.9522 - mae: 1.9034 - mse: 6.9522 - val_loss: 8.6433 - val_mae: 1.9151 - val_mse: 8.6433\n",
      "Epoch 37/100\n",
      "3341/3341 [==============================] - 0s 29us/sample - loss: 6.9466 - mae: 1.8897 - mse: 6.9466 - val_loss: 9.4223 - val_mae: 2.1052 - val_mse: 9.4223\n",
      "Epoch 38/100\n",
      "3341/3341 [==============================] - 0s 19us/sample - loss: 7.1091 - mae: 1.9146 - mse: 7.1091 - val_loss: 7.1190 - val_mae: 1.7834 - val_mse: 7.1190\n",
      "Epoch 39/100\n",
      "3341/3341 [==============================] - 0s 22us/sample - loss: 6.7898 - mae: 1.8728 - mse: 6.7898 - val_loss: 15.4983 - val_mae: 3.5680 - val_mse: 15.4983\n",
      "Epoch 40/100\n",
      "3341/3341 [==============================] - 0s 18us/sample - loss: 7.7056 - mae: 2.0273 - mse: 7.7056 - val_loss: 6.7407 - val_mae: 1.8817 - val_mse: 6.7407\n",
      "Epoch 41/100\n",
      "3341/3341 [==============================] - 0s 20us/sample - loss: 6.7882 - mae: 1.8694 - mse: 6.7882 - val_loss: 6.8639 - val_mae: 1.7828 - val_mse: 6.8639\n",
      "Epoch 42/100\n",
      "3341/3341 [==============================] - 0s 22us/sample - loss: 6.8811 - mae: 1.8824 - mse: 6.8811 - val_loss: 6.9249 - val_mae: 1.7977 - val_mse: 6.9249\n",
      "Epoch 43/100\n",
      "3341/3341 [==============================] - 0s 21us/sample - loss: 6.7430 - mae: 1.8606 - mse: 6.7430 - val_loss: 6.8362 - val_mae: 1.8009 - val_mse: 6.8362\n",
      "Epoch 44/100\n",
      "3341/3341 [==============================] - 0s 19us/sample - loss: 6.7579 - mae: 1.8700 - mse: 6.7579 - val_loss: 7.3711 - val_mae: 1.8231 - val_mse: 7.3711\n",
      "Epoch 45/100\n",
      "3341/3341 [==============================] - 0s 27us/sample - loss: 6.8128 - mae: 1.8754 - mse: 6.8128 - val_loss: 6.7185 - val_mae: 1.8028 - val_mse: 6.7185\n",
      "Epoch 46/100\n",
      "3341/3341 [==============================] - 0s 18us/sample - loss: 6.9009 - mae: 1.8858 - mse: 6.9009 - val_loss: 7.9063 - val_mae: 1.8346 - val_mse: 7.9063\n",
      "Epoch 47/100\n",
      "3341/3341 [==============================] - 0s 21us/sample - loss: 6.8094 - mae: 1.8616 - mse: 6.8094 - val_loss: 12.1710 - val_mae: 3.0629 - val_mse: 12.1710\n",
      "Epoch 48/100\n",
      "3341/3341 [==============================] - 0s 14us/sample - loss: 7.1542 - mae: 1.9417 - mse: 7.1542 - val_loss: 7.1046 - val_mae: 2.0623 - val_mse: 7.1046\n",
      "Epoch 49/100\n",
      "3341/3341 [==============================] - 0s 36us/sample - loss: 6.9016 - mae: 1.8980 - mse: 6.9016 - val_loss: 7.3158 - val_mae: 2.1239 - val_mse: 7.3158\n",
      "Epoch 50/100\n",
      "3341/3341 [==============================] - 0s 18us/sample - loss: 6.9450 - mae: 1.8986 - mse: 6.9450 - val_loss: 7.0969 - val_mae: 1.7557 - val_mse: 7.0969\n",
      "Epoch 51/100\n",
      "3341/3341 [==============================] - 0s 18us/sample - loss: 6.8019 - mae: 1.8696 - mse: 6.8019 - val_loss: 6.7258 - val_mae: 1.8801 - val_mse: 6.7258\n",
      "Epoch 52/100\n",
      "3341/3341 [==============================] - 0s 19us/sample - loss: 6.7602 - mae: 1.8707 - mse: 6.7602 - val_loss: 6.9906 - val_mae: 2.0148 - val_mse: 6.9906\n",
      "Epoch 53/100\n",
      "3341/3341 [==============================] - 0s 19us/sample - loss: 6.7063 - mae: 1.8695 - mse: 6.7063 - val_loss: 7.5678 - val_mae: 2.2120 - val_mse: 7.5678\n",
      "Epoch 54/100\n",
      "3341/3341 [==============================] - 0s 17us/sample - loss: 6.7383 - mae: 1.8700 - mse: 6.7383 - val_loss: 6.7792 - val_mae: 1.7771 - val_mse: 6.7792\n",
      "Epoch 55/100\n",
      "3341/3341 [==============================] - 0s 17us/sample - loss: 6.8054 - mae: 1.8712 - mse: 6.8054 - val_loss: 9.5814 - val_mae: 2.6632 - val_mse: 9.5814\n",
      "Epoch 56/100\n",
      "3341/3341 [==============================] - 0s 17us/sample - loss: 6.9614 - mae: 1.9079 - mse: 6.9614 - val_loss: 6.7829 - val_mae: 1.8014 - val_mse: 6.7829\n",
      "Epoch 57/100\n",
      "3341/3341 [==============================] - 0s 17us/sample - loss: 6.7460 - mae: 1.8612 - mse: 6.7460 - val_loss: 7.5795 - val_mae: 1.7731 - val_mse: 7.5795\n",
      "Epoch 58/100\n",
      "3341/3341 [==============================] - 0s 15us/sample - loss: 6.7780 - mae: 1.8606 - mse: 6.7780 - val_loss: 6.6889 - val_mae: 1.8568 - val_mse: 6.6889\n",
      "Epoch 59/100\n",
      "3341/3341 [==============================] - 0s 15us/sample - loss: 6.8411 - mae: 1.8833 - mse: 6.8411 - val_loss: 7.0102 - val_mae: 2.0372 - val_mse: 7.0102\n",
      "Epoch 60/100\n",
      "3341/3341 [==============================] - 0s 15us/sample - loss: 6.7054 - mae: 1.8616 - mse: 6.7054 - val_loss: 7.5769 - val_mae: 2.2090 - val_mse: 7.5769\n",
      "Epoch 61/100\n",
      "3341/3341 [==============================] - 0s 16us/sample - loss: 6.8624 - mae: 1.8830 - mse: 6.8624 - val_loss: 6.7980 - val_mae: 1.7716 - val_mse: 6.7980\n",
      "Epoch 62/100\n",
      "3341/3341 [==============================] - 0s 16us/sample - loss: 6.7856 - mae: 1.8736 - mse: 6.7856 - val_loss: 6.6845 - val_mae: 1.7996 - val_mse: 6.6845\n",
      "Epoch 63/100\n",
      "3341/3341 [==============================] - 0s 16us/sample - loss: 6.8076 - mae: 1.8797 - mse: 6.8076 - val_loss: 8.2127 - val_mae: 1.8670 - val_mse: 8.2127\n",
      "Epoch 64/100\n",
      "3341/3341 [==============================] - 0s 15us/sample - loss: 6.8142 - mae: 1.8667 - mse: 6.8142 - val_loss: 6.8546 - val_mae: 1.9750 - val_mse: 6.8546\n",
      "Epoch 65/100\n",
      "3341/3341 [==============================] - 0s 15us/sample - loss: 6.6802 - mae: 1.8554 - mse: 6.6802 - val_loss: 6.7183 - val_mae: 1.8965 - val_mse: 6.7183\n",
      "Epoch 66/100\n",
      "3341/3341 [==============================] - 0s 15us/sample - loss: 6.7909 - mae: 1.8781 - mse: 6.7909 - val_loss: 6.8086 - val_mae: 1.7922 - val_mse: 6.8086\n",
      "Epoch 67/100\n",
      "3341/3341 [==============================] - 0s 14us/sample - loss: 6.7482 - mae: 1.8617 - mse: 6.7482 - val_loss: 8.1172 - val_mae: 2.3560 - val_mse: 8.1172\n",
      "Epoch 68/100\n",
      "3341/3341 [==============================] - 0s 15us/sample - loss: 6.8049 - mae: 1.8884 - mse: 6.8049 - val_loss: 7.2551 - val_mae: 1.7718 - val_mse: 7.2551\n",
      "Epoch 69/100\n",
      "3341/3341 [==============================] - 0s 14us/sample - loss: 6.9266 - mae: 1.8932 - mse: 6.9266 - val_loss: 8.3786 - val_mae: 2.4156 - val_mse: 8.3786\n",
      "Epoch 70/100\n",
      "3341/3341 [==============================] - 0s 16us/sample - loss: 6.9055 - mae: 1.8979 - mse: 6.9055 - val_loss: 7.7278 - val_mae: 1.7981 - val_mse: 7.7278\n",
      "Epoch 71/100\n",
      "3341/3341 [==============================] - 0s 15us/sample - loss: 6.9291 - mae: 1.8826 - mse: 6.9291 - val_loss: 7.8117 - val_mae: 2.2644 - val_mse: 7.8117\n",
      "Epoch 72/100\n",
      "3341/3341 [==============================] - 0s 18us/sample - loss: 6.8347 - mae: 1.8847 - mse: 6.8347 - val_loss: 6.9814 - val_mae: 2.0234 - val_mse: 6.9814\n",
      "Epoch 73/100\n",
      "3341/3341 [==============================] - 0s 24us/sample - loss: 7.0387 - mae: 1.9267 - mse: 7.0387 - val_loss: 7.1204 - val_mae: 2.0694 - val_mse: 7.1204\n",
      "Epoch 74/100\n",
      "3341/3341 [==============================] - 0s 23us/sample - loss: 6.9031 - mae: 1.8994 - mse: 6.9031 - val_loss: 8.0361 - val_mae: 2.3111 - val_mse: 8.0361\n",
      "Epoch 75/100\n",
      "3341/3341 [==============================] - 0s 24us/sample - loss: 7.0066 - mae: 1.9103 - mse: 7.0066 - val_loss: 7.3132 - val_mae: 2.1134 - val_mse: 7.3132\n",
      "Epoch 76/100\n",
      "3341/3341 [==============================] - 0s 27us/sample - loss: 6.7470 - mae: 1.8805 - mse: 6.7470 - val_loss: 7.4496 - val_mae: 1.8432 - val_mse: 7.4496\n",
      "Epoch 77/100\n",
      "3341/3341 [==============================] - 0s 17us/sample - loss: 6.9058 - mae: 1.8888 - mse: 6.9058 - val_loss: 9.4851 - val_mae: 2.6379 - val_mse: 9.4851\n",
      "Epoch 78/100\n",
      "3341/3341 [==============================] - 0s 16us/sample - loss: 6.9175 - mae: 1.9073 - mse: 6.9175 - val_loss: 7.3666 - val_mae: 1.7846 - val_mse: 7.3666\n",
      "Epoch 79/100\n",
      "3341/3341 [==============================] - 0s 22us/sample - loss: 6.8674 - mae: 1.8903 - mse: 6.8674 - val_loss: 7.5457 - val_mae: 1.7853 - val_mse: 7.5457\n",
      "Epoch 80/100\n",
      "3341/3341 [==============================] - 0s 25us/sample - loss: 6.7104 - mae: 1.8541 - mse: 6.7104 - val_loss: 8.1008 - val_mae: 2.3034 - val_mse: 8.1008\n",
      "Epoch 81/100\n",
      "3341/3341 [==============================] - 0s 22us/sample - loss: 6.9707 - mae: 1.9136 - mse: 6.9707 - val_loss: 6.7167 - val_mae: 1.7899 - val_mse: 6.7167\n",
      "Epoch 82/100\n",
      "3341/3341 [==============================] - 0s 24us/sample - loss: 6.6818 - mae: 1.8534 - mse: 6.6818 - val_loss: 7.3468 - val_mae: 1.8903 - val_mse: 7.3468\n",
      "Epoch 83/100\n",
      "3341/3341 [==============================] - 0s 17us/sample - loss: 6.7855 - mae: 1.8766 - mse: 6.7855 - val_loss: 7.2551 - val_mae: 1.7764 - val_mse: 7.2551\n",
      "Epoch 84/100\n",
      "3341/3341 [==============================] - 0s 19us/sample - loss: 6.7720 - mae: 1.8738 - mse: 6.7720 - val_loss: 6.8707 - val_mae: 1.9872 - val_mse: 6.8707\n",
      "Epoch 85/100\n",
      "3341/3341 [==============================] - 0s 17us/sample - loss: 6.7033 - mae: 1.8657 - mse: 6.7033 - val_loss: 15.8114 - val_mae: 3.6064 - val_mse: 15.8114\n",
      "Epoch 86/100\n",
      "3341/3341 [==============================] - 0s 16us/sample - loss: 7.2317 - mae: 1.9438 - mse: 7.2317 - val_loss: 7.1807 - val_mae: 1.7525 - val_mse: 7.1807\n",
      "Epoch 87/100\n",
      "3341/3341 [==============================] - 0s 15us/sample - loss: 6.7116 - mae: 1.8579 - mse: 6.7116 - val_loss: 6.6701 - val_mae: 1.7975 - val_mse: 6.6701\n",
      "Epoch 88/100\n",
      "3341/3341 [==============================] - 0s 16us/sample - loss: 6.6945 - mae: 1.8573 - mse: 6.6945 - val_loss: 9.1441 - val_mae: 2.5663 - val_mse: 9.1441\n",
      "Epoch 89/100\n",
      "3341/3341 [==============================] - 0s 22us/sample - loss: 6.8561 - mae: 1.8857 - mse: 6.8561 - val_loss: 7.0242 - val_mae: 2.0403 - val_mse: 7.0242\n",
      "Epoch 90/100\n",
      "3341/3341 [==============================] - 0s 15us/sample - loss: 6.7853 - mae: 1.8870 - mse: 6.7853 - val_loss: 6.6552 - val_mae: 1.8620 - val_mse: 6.6552\n",
      "Epoch 91/100\n",
      "3341/3341 [==============================] - 0s 19us/sample - loss: 6.7698 - mae: 1.8675 - mse: 6.7698 - val_loss: 6.8031 - val_mae: 1.9406 - val_mse: 6.8031\n",
      "Epoch 92/100\n",
      "3341/3341 [==============================] - 0s 32us/sample - loss: 6.6691 - mae: 1.8522 - mse: 6.6691 - val_loss: 6.6467 - val_mae: 1.8619 - val_mse: 6.6467\n",
      "Epoch 93/100\n",
      "3341/3341 [==============================] - 0s 28us/sample - loss: 6.7142 - mae: 1.8678 - mse: 6.7142 - val_loss: 10.4241 - val_mae: 2.8172 - val_mse: 10.4241\n",
      "Epoch 94/100\n",
      "3341/3341 [==============================] - 0s 26us/sample - loss: 6.9966 - mae: 1.9130 - mse: 6.9966 - val_loss: 6.9183 - val_mae: 1.7538 - val_mse: 6.9183\n"
     ]
    },
    {
     "name": "stdout",
     "output_type": "stream",
     "text": [
      "Epoch 95/100\n",
      "3341/3341 [==============================] - 0s 18us/sample - loss: 6.6493 - mae: 1.8396 - mse: 6.6493 - val_loss: 6.6390 - val_mae: 1.8291 - val_mse: 6.6390\n",
      "Epoch 96/100\n",
      "3341/3341 [==============================] - 0s 19us/sample - loss: 6.7948 - mae: 1.8779 - mse: 6.7948 - val_loss: 6.7947 - val_mae: 1.9199 - val_mse: 6.7947\n",
      "Epoch 97/100\n",
      "3341/3341 [==============================] - 0s 23us/sample - loss: 6.8619 - mae: 1.8825 - mse: 6.8619 - val_loss: 8.7300 - val_mae: 1.9472 - val_mse: 8.7300\n",
      "Epoch 98/100\n",
      "3341/3341 [==============================] - 0s 23us/sample - loss: 6.8424 - mae: 1.8637 - mse: 6.8424 - val_loss: 7.3828 - val_mae: 1.7776 - val_mse: 7.3828\n",
      "Epoch 99/100\n",
      "3341/3341 [==============================] - 0s 24us/sample - loss: 6.7569 - mae: 1.8606 - mse: 6.7569 - val_loss: 6.9797 - val_mae: 1.7877 - val_mse: 6.9797\n",
      "Epoch 100/100\n",
      "3341/3341 [==============================] - 0s 24us/sample - loss: 6.7250 - mae: 1.8619 - mse: 6.7250 - val_loss: 6.9036 - val_mae: 2.0028 - val_mse: 6.9036\n"
     ]
    }
   ],
   "source": [
    "history = model.fit(X_train, y_train, \n",
    "                     epochs=100,\n",
    "                     batch_size=128,\n",
    "                     validation_data=(X_test, y_test),\n",
    "                     verbose = 1\n",
    "                    )"
   ]
  },
  {
   "cell_type": "code",
   "execution_count": 44,
   "metadata": {},
   "outputs": [
    {
     "data": {
      "text/plain": [
       "<matplotlib.legend.Legend at 0x13b44fa10>"
      ]
     },
     "execution_count": 44,
     "metadata": {},
     "output_type": "execute_result"
    },
    {
     "data": {
      "image/png": "[encoded data removed]",
      "text/plain": [
       "<Figure size 432x288 with 1 Axes>"
      ]
     },
     "metadata": {
      "needs_background": "light"
     },
     "output_type": "display_data"
    }
   ],
   "source": [
    "hist = pd.DataFrame(history.history)\n",
    "hist['epoch'] = history.epoch\n",
    "\n",
    "plt.xlabel('Epoch')\n",
    "plt.ylabel('Mean Abs Error [MPG]')\n",
    "plt.plot(hist['epoch'], hist['mae'], label='Train Error')\n",
    "plt.plot(hist['epoch'], hist['val_mae'], label='val Error')\n",
    "plt.ylim(0, 5)\n",
    "plt.legend()"
   ]
  },
  {
   "cell_type": "code",
   "execution_count": 45,
   "metadata": {},
   "outputs": [
    {
     "data": {
      "text/plain": [
       "<matplotlib.legend.Legend at 0x13b4955d0>"
      ]
     },
     "execution_count": 45,
     "metadata": {},
     "output_type": "execute_result"
    },
    {
     "data": {
      "image/png": "[encoded data removed]",
      "text/plain": [
       "<Figure size 432x288 with 1 Axes>"
      ]
     },
     "metadata": {
      "needs_background": "light"
     },
     "output_type": "display_data"
    }
   ],
   "source": [
    "plt.xlabel('Epoch')\n",
    "plt.ylabel('Mean Square Error [$MPG^2$]')\n",
    "plt.plot(hist['epoch'], hist['mse'], label='Train Error')\n",
    "plt.plot(hist['epoch'], hist['val_mse'], label='val Error')\n",
    "plt.ylim(0, 30)\n",
    "plt.legend()"
   ]
  },
  {
   "cell_type": "code",
   "execution_count": 46,
   "metadata": {
    "scrolled": true
   },
   "outputs": [
    {
     "name": "stdout",
     "output_type": "stream",
     "text": [
      "WARNING:tensorflow:Falling back from v2 loop because of error: Failed to find data adapter that can handle input: <class 'pandas.core.frame.DataFrame'>, <class 'NoneType'>\n",
      "836/836 [==============================] - 0s 48us/sample - loss: 6.9036 - mae: 2.0028 - mse: 6.9036\n"
     ]
    },
    {
     "data": {
      "text/plain": [
       "2.627469036961549"
      ]
     },
     "execution_count": 46,
     "metadata": {},
     "output_type": "execute_result"
    }
   ],
   "source": [
    "loss, mae, mse = model.evaluate(X_test, y_test)\n",
    "mse**0.5"
   ]
  },
  {
   "cell_type": "code",
   "execution_count": null,
   "metadata": {},
   "outputs": [],
   "source": []
  }
 ],
 "metadata": {
  "kernelspec": {
   "display_name": "Python 3",
   "language": "python",
   "name": "python3"
  },
  "language_info": {
   "codemirror_mode": {
    "name": "ipython",
    "version": 3
   },
   "file_extension": ".py",
   "mimetype": "text/x-python",
   "name": "python",
   "nbconvert_exporter": "python",
   "pygments_lexer": "ipython3",
   "version": "3.7.4"
  }
 },
 "nbformat": 4,
 "nbformat_minor": 2
}
