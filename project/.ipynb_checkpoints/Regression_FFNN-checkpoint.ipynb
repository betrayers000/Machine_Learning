{
 "cells": [
  {
   "cell_type": "markdown",
   "metadata": {},
   "source": [
    "# Regression_FFNN\n",
    "\n",
    "## load data"
   ]
  },
  {
   "cell_type": "code",
   "execution_count": 1,
   "metadata": {},
   "outputs": [],
   "source": [
    "import pandas as pd\n",
    "import numpy as np\n",
    "import matplotlib.pyplot as plt"
   ]
  },
  {
   "cell_type": "code",
   "execution_count": 2,
   "metadata": {},
   "outputs": [],
   "source": [
    "column_name = [\"Sex\", \"Length\" ,\"Diameter\" ,\"Height\" ,\"WholeWeight\" ,\"ShuckedWeight\", \"VisceraWeight\", \"Shell weight\", \"Rings\"]"
   ]
  },
  {
   "cell_type": "code",
   "execution_count": 3,
   "metadata": {},
   "outputs": [
    {
     "data": {
      "text/html": [
       "<div>\n",
       "<style scoped>\n",
       "    .dataframe tbody tr th:only-of-type {\n",
       "        vertical-align: middle;\n",
       "    }\n",
       "\n",
       "    .dataframe tbody tr th {\n",
       "        vertical-align: top;\n",
       "    }\n",
       "\n",
       "    .dataframe thead th {\n",
       "        text-align: right;\n",
       "    }\n",
       "</style>\n",
       "<table border=\"1\" class=\"dataframe\">\n",
       "  <thead>\n",
       "    <tr style=\"text-align: right;\">\n",
       "      <th></th>\n",
       "      <th>Sex</th>\n",
       "      <th>Length</th>\n",
       "      <th>Diameter</th>\n",
       "      <th>Height</th>\n",
       "      <th>WholeWeight</th>\n",
       "      <th>ShuckedWeight</th>\n",
       "      <th>VisceraWeight</th>\n",
       "      <th>Shell weight</th>\n",
       "      <th>Rings</th>\n",
       "    </tr>\n",
       "  </thead>\n",
       "  <tbody>\n",
       "    <tr>\n",
       "      <th>0</th>\n",
       "      <td>M</td>\n",
       "      <td>0.455</td>\n",
       "      <td>0.365</td>\n",
       "      <td>0.095</td>\n",
       "      <td>0.5140</td>\n",
       "      <td>0.2245</td>\n",
       "      <td>0.1010</td>\n",
       "      <td>0.150</td>\n",
       "      <td>15</td>\n",
       "    </tr>\n",
       "    <tr>\n",
       "      <th>1</th>\n",
       "      <td>M</td>\n",
       "      <td>0.350</td>\n",
       "      <td>0.265</td>\n",
       "      <td>0.090</td>\n",
       "      <td>0.2255</td>\n",
       "      <td>0.0995</td>\n",
       "      <td>0.0485</td>\n",
       "      <td>0.070</td>\n",
       "      <td>7</td>\n",
       "    </tr>\n",
       "    <tr>\n",
       "      <th>2</th>\n",
       "      <td>F</td>\n",
       "      <td>0.530</td>\n",
       "      <td>0.420</td>\n",
       "      <td>0.135</td>\n",
       "      <td>0.6770</td>\n",
       "      <td>0.2565</td>\n",
       "      <td>0.1415</td>\n",
       "      <td>0.210</td>\n",
       "      <td>9</td>\n",
       "    </tr>\n",
       "    <tr>\n",
       "      <th>3</th>\n",
       "      <td>M</td>\n",
       "      <td>0.440</td>\n",
       "      <td>0.365</td>\n",
       "      <td>0.125</td>\n",
       "      <td>0.5160</td>\n",
       "      <td>0.2155</td>\n",
       "      <td>0.1140</td>\n",
       "      <td>0.155</td>\n",
       "      <td>10</td>\n",
       "    </tr>\n",
       "    <tr>\n",
       "      <th>4</th>\n",
       "      <td>I</td>\n",
       "      <td>0.330</td>\n",
       "      <td>0.255</td>\n",
       "      <td>0.080</td>\n",
       "      <td>0.2050</td>\n",
       "      <td>0.0895</td>\n",
       "      <td>0.0395</td>\n",
       "      <td>0.055</td>\n",
       "      <td>7</td>\n",
       "    </tr>\n",
       "  </tbody>\n",
       "</table>\n",
       "</div>"
      ],
      "text/plain": [
       "  Sex  Length  Diameter  Height  WholeWeight  ShuckedWeight  VisceraWeight  \\\n",
       "0   M   0.455     0.365   0.095       0.5140         0.2245         0.1010   \n",
       "1   M   0.350     0.265   0.090       0.2255         0.0995         0.0485   \n",
       "2   F   0.530     0.420   0.135       0.6770         0.2565         0.1415   \n",
       "3   M   0.440     0.365   0.125       0.5160         0.2155         0.1140   \n",
       "4   I   0.330     0.255   0.080       0.2050         0.0895         0.0395   \n",
       "\n",
       "   Shell weight  Rings  \n",
       "0         0.150     15  \n",
       "1         0.070      7  \n",
       "2         0.210      9  \n",
       "3         0.155     10  \n",
       "4         0.055      7  "
      ]
     },
     "execution_count": 3,
     "metadata": {},
     "output_type": "execute_result"
    }
   ],
   "source": [
    "data = pd.read_csv('abalone.data', names = column_name)\n",
    "data.head()"
   ]
  },
  {
   "cell_type": "code",
   "execution_count": 4,
   "metadata": {},
   "outputs": [],
   "source": [
    "data_sex = data['Sex']\n",
    "data_sex_encoded, data_sex_categories = data_sex.factorize()\n",
    "data['Sex'] = data_sex_encoded"
   ]
  },
  {
   "cell_type": "code",
   "execution_count": 5,
   "metadata": {},
   "outputs": [
    {
     "data": {
      "text/html": [
       "<div>\n",
       "<style scoped>\n",
       "    .dataframe tbody tr th:only-of-type {\n",
       "        vertical-align: middle;\n",
       "    }\n",
       "\n",
       "    .dataframe tbody tr th {\n",
       "        vertical-align: top;\n",
       "    }\n",
       "\n",
       "    .dataframe thead th {\n",
       "        text-align: right;\n",
       "    }\n",
       "</style>\n",
       "<table border=\"1\" class=\"dataframe\">\n",
       "  <thead>\n",
       "    <tr style=\"text-align: right;\">\n",
       "      <th></th>\n",
       "      <th>Sex</th>\n",
       "      <th>Length</th>\n",
       "      <th>Diameter</th>\n",
       "      <th>Height</th>\n",
       "      <th>WholeWeight</th>\n",
       "      <th>ShuckedWeight</th>\n",
       "      <th>VisceraWeight</th>\n",
       "      <th>Shell weight</th>\n",
       "      <th>Rings</th>\n",
       "    </tr>\n",
       "  </thead>\n",
       "  <tbody>\n",
       "    <tr>\n",
       "      <th>0</th>\n",
       "      <td>0</td>\n",
       "      <td>0.455</td>\n",
       "      <td>0.365</td>\n",
       "      <td>0.095</td>\n",
       "      <td>0.5140</td>\n",
       "      <td>0.2245</td>\n",
       "      <td>0.1010</td>\n",
       "      <td>0.150</td>\n",
       "      <td>15</td>\n",
       "    </tr>\n",
       "    <tr>\n",
       "      <th>1</th>\n",
       "      <td>0</td>\n",
       "      <td>0.350</td>\n",
       "      <td>0.265</td>\n",
       "      <td>0.090</td>\n",
       "      <td>0.2255</td>\n",
       "      <td>0.0995</td>\n",
       "      <td>0.0485</td>\n",
       "      <td>0.070</td>\n",
       "      <td>7</td>\n",
       "    </tr>\n",
       "    <tr>\n",
       "      <th>2</th>\n",
       "      <td>1</td>\n",
       "      <td>0.530</td>\n",
       "      <td>0.420</td>\n",
       "      <td>0.135</td>\n",
       "      <td>0.6770</td>\n",
       "      <td>0.2565</td>\n",
       "      <td>0.1415</td>\n",
       "      <td>0.210</td>\n",
       "      <td>9</td>\n",
       "    </tr>\n",
       "    <tr>\n",
       "      <th>3</th>\n",
       "      <td>0</td>\n",
       "      <td>0.440</td>\n",
       "      <td>0.365</td>\n",
       "      <td>0.125</td>\n",
       "      <td>0.5160</td>\n",
       "      <td>0.2155</td>\n",
       "      <td>0.1140</td>\n",
       "      <td>0.155</td>\n",
       "      <td>10</td>\n",
       "    </tr>\n",
       "    <tr>\n",
       "      <th>4</th>\n",
       "      <td>2</td>\n",
       "      <td>0.330</td>\n",
       "      <td>0.255</td>\n",
       "      <td>0.080</td>\n",
       "      <td>0.2050</td>\n",
       "      <td>0.0895</td>\n",
       "      <td>0.0395</td>\n",
       "      <td>0.055</td>\n",
       "      <td>7</td>\n",
       "    </tr>\n",
       "  </tbody>\n",
       "</table>\n",
       "</div>"
      ],
      "text/plain": [
       "   Sex  Length  Diameter  Height  WholeWeight  ShuckedWeight  VisceraWeight  \\\n",
       "0    0   0.455     0.365   0.095       0.5140         0.2245         0.1010   \n",
       "1    0   0.350     0.265   0.090       0.2255         0.0995         0.0485   \n",
       "2    1   0.530     0.420   0.135       0.6770         0.2565         0.1415   \n",
       "3    0   0.440     0.365   0.125       0.5160         0.2155         0.1140   \n",
       "4    2   0.330     0.255   0.080       0.2050         0.0895         0.0395   \n",
       "\n",
       "   Shell weight  Rings  \n",
       "0         0.150     15  \n",
       "1         0.070      7  \n",
       "2         0.210      9  \n",
       "3         0.155     10  \n",
       "4         0.055      7  "
      ]
     },
     "execution_count": 5,
     "metadata": {},
     "output_type": "execute_result"
    }
   ],
   "source": [
    "data.head()"
   ]
  },
  {
   "cell_type": "markdown",
   "metadata": {},
   "source": [
    "### data one-hot encoding"
   ]
  },
  {
   "cell_type": "code",
   "execution_count": 6,
   "metadata": {},
   "outputs": [],
   "source": [
    "from sklearn.preprocessing import OneHotEncoder"
   ]
  },
  {
   "cell_type": "code",
   "execution_count": 7,
   "metadata": {},
   "outputs": [],
   "source": [
    "encoder = OneHotEncoder()\n",
    "data_sex_1hot = encoder.fit_transform(data_sex_encoded.reshape(-1, 1))"
   ]
  },
  {
   "cell_type": "code",
   "execution_count": 8,
   "metadata": {},
   "outputs": [
    {
     "data": {
      "text/plain": [
       "array([[1., 0., 0.],\n",
       "       [1., 0., 0.],\n",
       "       [0., 1., 0.],\n",
       "       ...,\n",
       "       [1., 0., 0.],\n",
       "       [0., 1., 0.],\n",
       "       [1., 0., 0.]])"
      ]
     },
     "execution_count": 8,
     "metadata": {},
     "output_type": "execute_result"
    }
   ],
   "source": [
    "data_sex_1hot.toarray()"
   ]
  },
  {
   "cell_type": "markdown",
   "metadata": {},
   "source": [
    "## data"
   ]
  },
  {
   "cell_type": "code",
   "execution_count": 9,
   "metadata": {},
   "outputs": [],
   "source": [
    "X = data.copy()\n",
    "y = X.pop('Rings')"
   ]
  },
  {
   "cell_type": "code",
   "execution_count": 10,
   "metadata": {},
   "outputs": [
    {
     "name": "stdout",
     "output_type": "stream",
     "text": [
      "(4177, 8) (4177,)\n"
     ]
    }
   ],
   "source": [
    "print(X.shape, y.shape)"
   ]
  },
  {
   "cell_type": "markdown",
   "metadata": {},
   "source": [
    "## data split"
   ]
  },
  {
   "cell_type": "code",
   "execution_count": 11,
   "metadata": {},
   "outputs": [],
   "source": [
    "from sklearn.model_selection import train_test_split"
   ]
  },
  {
   "cell_type": "code",
   "execution_count": 12,
   "metadata": {},
   "outputs": [],
   "source": [
    "X_train, X_test, y_train, y_test = train_test_split(X, y, test_size=0.2, random_state=0)"
   ]
  },
  {
   "cell_type": "code",
   "execution_count": 13,
   "metadata": {},
   "outputs": [
    {
     "name": "stdout",
     "output_type": "stream",
     "text": [
      "X_train : (3341, 8), y_train : (3341,)\n",
      "X_test : (836, 8), y_test : (836,)\n"
     ]
    }
   ],
   "source": [
    "print(f\"X_train : {X_train.shape}, y_train : {y_train.shape}\")\n",
    "print(f\"X_test : {X_test.shape}, y_test : {y_test.shape}\")"
   ]
  },
  {
   "cell_type": "markdown",
   "metadata": {},
   "source": [
    "# model base"
   ]
  },
  {
   "cell_type": "code",
   "execution_count": 14,
   "metadata": {},
   "outputs": [],
   "source": [
    "import tensorflow as tf\n",
    "from tensorflow import keras\n",
    "from tensorflow.keras import layers"
   ]
  },
  {
   "cell_type": "code",
   "execution_count": 15,
   "metadata": {},
   "outputs": [],
   "source": [
    "model = keras.Sequential([\n",
    "    layers.Dense(64, activation='relu', input_shape=[8]),\n",
    "    layers.Dense(128, activation='relu'),\n",
    "    layers.Dense(1)\n",
    "])"
   ]
  },
  {
   "cell_type": "code",
   "execution_count": 16,
   "metadata": {},
   "outputs": [
    {
     "name": "stdout",
     "output_type": "stream",
     "text": [
      "Model: \"sequential\"\n",
      "_________________________________________________________________\n",
      "Layer (type)                 Output Shape              Param #   \n",
      "=================================================================\n",
      "dense (Dense)                (None, 64)                576       \n",
      "_________________________________________________________________\n",
      "dense_1 (Dense)              (None, 128)               8320      \n",
      "_________________________________________________________________\n",
      "dense_2 (Dense)              (None, 1)                 129       \n",
      "=================================================================\n",
      "Total params: 9,025\n",
      "Trainable params: 9,025\n",
      "Non-trainable params: 0\n",
      "_________________________________________________________________\n"
     ]
    }
   ],
   "source": [
    "model.summary()"
   ]
  },
  {
   "cell_type": "code",
   "execution_count": 17,
   "metadata": {},
   "outputs": [],
   "source": [
    "model.compile(optimizer='sgd', loss='mse', metrics=['mae', 'mse'])"
   ]
  },
  {
   "cell_type": "code",
   "execution_count": 18,
   "metadata": {},
   "outputs": [
    {
     "name": "stdout",
     "output_type": "stream",
     "text": [
      "WARNING:tensorflow:Falling back from v2 loop because of error: Failed to find data adapter that can handle input: <class 'pandas.core.frame.DataFrame'>, <class 'NoneType'>\n",
      "Train on 3341 samples, validate on 836 samples\n",
      "Epoch 1/100\n",
      "3341/3341 [==============================] - 0s 95us/sample - loss: 20.6011 - mae: 3.1295 - mse: 20.6011 - val_loss: 14.3954 - val_mae: 2.7424 - val_mse: 14.3954\n",
      "Epoch 2/100\n",
      "3341/3341 [==============================] - 0s 31us/sample - loss: 7.9550 - mae: 2.0458 - mse: 7.9550 - val_loss: 9.2636 - val_mae: 1.9971 - val_mse: 9.2636\n",
      "Epoch 3/100\n",
      "3341/3341 [==============================] - 0s 20us/sample - loss: 6.8743 - mae: 1.9034 - mse: 6.8743 - val_loss: 6.6724 - val_mae: 1.8028 - val_mse: 6.6724\n",
      "Epoch 4/100\n",
      "3341/3341 [==============================] - 0s 29us/sample - loss: 6.6562 - mae: 1.8705 - mse: 6.6562 - val_loss: 6.8309 - val_mae: 1.7389 - val_mse: 6.8309\n",
      "Epoch 5/100\n",
      "3341/3341 [==============================] - 0s 18us/sample - loss: 6.4850 - mae: 1.8463 - mse: 6.4850 - val_loss: 7.7858 - val_mae: 2.3309 - val_mse: 7.7858\n",
      "Epoch 6/100\n",
      "3341/3341 [==============================] - 0s 16us/sample - loss: 6.8932 - mae: 1.9121 - mse: 6.8932 - val_loss: 6.7569 - val_mae: 2.0596 - val_mse: 6.7569\n",
      "Epoch 7/100\n",
      "3341/3341 [==============================] - 0s 15us/sample - loss: 7.0175 - mae: 1.9510 - mse: 7.0175 - val_loss: 6.4999 - val_mae: 1.6759 - val_mse: 6.4999\n",
      "Epoch 8/100\n",
      "3341/3341 [==============================] - 0s 15us/sample - loss: 6.1995 - mae: 1.8067 - mse: 6.1995 - val_loss: 6.8886 - val_mae: 1.6909 - val_mse: 6.8886\n",
      "Epoch 9/100\n",
      "3341/3341 [==============================] - 0s 16us/sample - loss: 7.3265 - mae: 2.0095 - mse: 7.3265 - val_loss: 8.7835 - val_mae: 1.9826 - val_mse: 8.7835\n",
      "Epoch 10/100\n",
      "3341/3341 [==============================] - 0s 26us/sample - loss: 6.2342 - mae: 1.8124 - mse: 6.2342 - val_loss: 10.1579 - val_mae: 2.7835 - val_mse: 10.1579\n",
      "Epoch 11/100\n",
      "3341/3341 [==============================] - 0s 32us/sample - loss: 7.1286 - mae: 1.9777 - mse: 7.1286 - val_loss: 9.7872 - val_mae: 2.7192 - val_mse: 9.7872\n",
      "Epoch 12/100\n",
      "3341/3341 [==============================] - 0s 37us/sample - loss: 6.7070 - mae: 1.9330 - mse: 6.7070 - val_loss: 6.3787 - val_mae: 1.6722 - val_mse: 6.3787\n",
      "Epoch 13/100\n",
      "3341/3341 [==============================] - 0s 31us/sample - loss: 6.0039 - mae: 1.7819 - mse: 6.0039 - val_loss: 11.1420 - val_mae: 2.4083 - val_mse: 11.1420\n",
      "Epoch 14/100\n",
      "3341/3341 [==============================] - 0s 17us/sample - loss: 7.1181 - mae: 1.9676 - mse: 7.1181 - val_loss: 6.4122 - val_mae: 2.0294 - val_mse: 6.4122\n",
      "Epoch 15/100\n",
      "3341/3341 [==============================] - 0s 16us/sample - loss: 6.3952 - mae: 1.8638 - mse: 6.3952 - val_loss: 5.6804 - val_mae: 1.7570 - val_mse: 5.6804\n",
      "Epoch 16/100\n",
      "3341/3341 [==============================] - 0s 16us/sample - loss: 6.0928 - mae: 1.8059 - mse: 6.0928 - val_loss: 13.0269 - val_mae: 2.7442 - val_mse: 13.0269\n",
      "Epoch 17/100\n",
      "3341/3341 [==============================] - 0s 16us/sample - loss: 6.2958 - mae: 1.8316 - mse: 6.2958 - val_loss: 5.5646 - val_mae: 1.7052 - val_mse: 5.5646\n",
      "Epoch 18/100\n",
      "3341/3341 [==============================] - 0s 16us/sample - loss: 5.5653 - mae: 1.7113 - mse: 5.5653 - val_loss: 7.0032 - val_mae: 2.1694 - val_mse: 7.0032\n",
      "Epoch 19/100\n",
      "3341/3341 [==============================] - 0s 17us/sample - loss: 6.2398 - mae: 1.8567 - mse: 6.2398 - val_loss: 6.5512 - val_mae: 2.0712 - val_mse: 6.5512\n",
      "Epoch 20/100\n",
      "3341/3341 [==============================] - 0s 25us/sample - loss: 5.7843 - mae: 1.7627 - mse: 5.7843 - val_loss: 7.2911 - val_mae: 2.2291 - val_mse: 7.2911\n",
      "Epoch 21/100\n",
      "3341/3341 [==============================] - 0s 27us/sample - loss: 6.1090 - mae: 1.8351 - mse: 6.1090 - val_loss: 15.1281 - val_mae: 3.5283 - val_mse: 15.1281\n",
      "Epoch 22/100\n",
      "3341/3341 [==============================] - 0s 24us/sample - loss: 6.8471 - mae: 1.8950 - mse: 6.8471 - val_loss: 7.0223 - val_mae: 2.1920 - val_mse: 7.0223\n",
      "Epoch 23/100\n",
      "3341/3341 [==============================] - 0s 22us/sample - loss: 5.7352 - mae: 1.7659 - mse: 5.7352 - val_loss: 5.9058 - val_mae: 1.6091 - val_mse: 5.9058\n",
      "Epoch 24/100\n",
      "3341/3341 [==============================] - 0s 28us/sample - loss: 6.3292 - mae: 1.8736 - mse: 6.3292 - val_loss: 5.3030 - val_mae: 1.5911 - val_mse: 5.3030\n",
      "Epoch 25/100\n",
      "3341/3341 [==============================] - 0s 25us/sample - loss: 6.2925 - mae: 1.8648 - mse: 6.2925 - val_loss: 5.4228 - val_mae: 1.5674 - val_mse: 5.4228\n",
      "Epoch 26/100\n",
      "3341/3341 [==============================] - 0s 26us/sample - loss: 5.4758 - mae: 1.7135 - mse: 5.4758 - val_loss: 5.2253 - val_mae: 1.6600 - val_mse: 5.2253\n",
      "Epoch 27/100\n",
      "3341/3341 [==============================] - 0s 23us/sample - loss: 5.6322 - mae: 1.7520 - mse: 5.6322 - val_loss: 5.5165 - val_mae: 1.5798 - val_mse: 5.5165\n",
      "Epoch 28/100\n",
      "3341/3341 [==============================] - 0s 24us/sample - loss: 6.5767 - mae: 1.9137 - mse: 6.5767 - val_loss: 5.5929 - val_mae: 1.5659 - val_mse: 5.5929\n",
      "Epoch 29/100\n",
      "3341/3341 [==============================] - 0s 24us/sample - loss: 5.1449 - mae: 1.6339 - mse: 5.1449 - val_loss: 5.4552 - val_mae: 1.5680 - val_mse: 5.4552\n",
      "Epoch 30/100\n",
      "3341/3341 [==============================] - 0s 25us/sample - loss: 6.5336 - mae: 1.9124 - mse: 6.5336 - val_loss: 10.9704 - val_mae: 2.9176 - val_mse: 10.9704\n",
      "Epoch 31/100\n",
      "3341/3341 [==============================] - 0s 24us/sample - loss: 5.6956 - mae: 1.7467 - mse: 5.6956 - val_loss: 5.4072 - val_mae: 1.5691 - val_mse: 5.4072\n",
      "Epoch 32/100\n",
      "3341/3341 [==============================] - 0s 20us/sample - loss: 5.3590 - mae: 1.6809 - mse: 5.3590 - val_loss: 5.1588 - val_mae: 1.6057 - val_mse: 5.1588\n",
      "Epoch 33/100\n",
      "3341/3341 [==============================] - 0s 17us/sample - loss: 5.8351 - mae: 1.7741 - mse: 5.8351 - val_loss: 7.9306 - val_mae: 1.8912 - val_mse: 7.9306\n",
      "Epoch 34/100\n",
      "3341/3341 [==============================] - 0s 17us/sample - loss: 5.7591 - mae: 1.7526 - mse: 5.7591 - val_loss: 5.6362 - val_mae: 1.8599 - val_mse: 5.6362\n",
      "Epoch 35/100\n",
      "3341/3341 [==============================] - 0s 23us/sample - loss: 5.9823 - mae: 1.8010 - mse: 5.9823 - val_loss: 8.4407 - val_mae: 2.4475 - val_mse: 8.4407\n",
      "Epoch 36/100\n",
      "3341/3341 [==============================] - 0s 18us/sample - loss: 5.5373 - mae: 1.7224 - mse: 5.5373 - val_loss: 7.6236 - val_mae: 2.2901 - val_mse: 7.6236\n",
      "Epoch 37/100\n",
      "3341/3341 [==============================] - 0s 17us/sample - loss: 5.3216 - mae: 1.6741 - mse: 5.3216 - val_loss: 12.9239 - val_mae: 2.7581 - val_mse: 12.9239\n",
      "Epoch 38/100\n",
      "3341/3341 [==============================] - 0s 20us/sample - loss: 5.9873 - mae: 1.8017 - mse: 5.9873 - val_loss: 5.0730 - val_mae: 1.5756 - val_mse: 5.0730\n",
      "Epoch 39/100\n",
      "3341/3341 [==============================] - 0s 29us/sample - loss: 5.3528 - mae: 1.6900 - mse: 5.3528 - val_loss: 6.8836 - val_mae: 1.7504 - val_mse: 6.8836\n",
      "Epoch 40/100\n",
      "3341/3341 [==============================] - 0s 23us/sample - loss: 5.0306 - mae: 1.6117 - mse: 5.0306 - val_loss: 6.8597 - val_mae: 2.1704 - val_mse: 6.8597\n",
      "Epoch 41/100\n",
      "3341/3341 [==============================] - 0s 22us/sample - loss: 5.5421 - mae: 1.7155 - mse: 5.5421 - val_loss: 6.7516 - val_mae: 1.7939 - val_mse: 6.7516\n",
      "Epoch 42/100\n",
      "3341/3341 [==============================] - 0s 22us/sample - loss: 5.3760 - mae: 1.6909 - mse: 5.3760 - val_loss: 5.4149 - val_mae: 1.5930 - val_mse: 5.4149\n",
      "Epoch 43/100\n",
      "3341/3341 [==============================] - 0s 22us/sample - loss: 5.4015 - mae: 1.7018 - mse: 5.4015 - val_loss: 5.0614 - val_mae: 1.5377 - val_mse: 5.0614\n",
      "Epoch 44/100\n",
      "3341/3341 [==============================] - 0s 26us/sample - loss: 4.8488 - mae: 1.5962 - mse: 4.8488 - val_loss: 5.0975 - val_mae: 1.5252 - val_mse: 5.0975\n",
      "Epoch 45/100\n",
      "3341/3341 [==============================] - 0s 25us/sample - loss: 4.8596 - mae: 1.5884 - mse: 4.8596 - val_loss: 4.9845 - val_mae: 1.5301 - val_mse: 4.9845\n",
      "Epoch 46/100\n",
      "3341/3341 [==============================] - 0s 23us/sample - loss: 4.8177 - mae: 1.5880 - mse: 4.8177 - val_loss: 4.9766 - val_mae: 1.5681 - val_mse: 4.9766\n",
      "Epoch 47/100\n"
     ]
    },
    {
     "name": "stdout",
     "output_type": "stream",
     "text": [
      "3341/3341 [==============================] - 0s 24us/sample - loss: 5.7549 - mae: 1.7925 - mse: 5.7549 - val_loss: 5.1408 - val_mae: 1.5411 - val_mse: 5.1408\n",
      "Epoch 48/100\n",
      "3341/3341 [==============================] - 0s 22us/sample - loss: 4.8503 - mae: 1.5944 - mse: 4.8503 - val_loss: 7.0546 - val_mae: 1.7869 - val_mse: 7.0546\n",
      "Epoch 49/100\n",
      "3341/3341 [==============================] - 0s 21us/sample - loss: 5.3587 - mae: 1.6981 - mse: 5.3587 - val_loss: 11.8193 - val_mae: 2.8833 - val_mse: 11.8193\n",
      "Epoch 50/100\n",
      "3341/3341 [==============================] - 0s 17us/sample - loss: 5.8932 - mae: 1.7762 - mse: 5.8932 - val_loss: 5.6073 - val_mae: 1.5757 - val_mse: 5.6073\n",
      "Epoch 51/100\n",
      "3341/3341 [==============================] - 0s 16us/sample - loss: 5.1753 - mae: 1.6626 - mse: 5.1753 - val_loss: 11.1883 - val_mae: 2.8486 - val_mse: 11.1883\n",
      "Epoch 52/100\n",
      "3341/3341 [==============================] - 0s 16us/sample - loss: 5.6495 - mae: 1.7307 - mse: 5.6495 - val_loss: 7.8911 - val_mae: 1.9536 - val_mse: 7.8911\n",
      "Epoch 53/100\n",
      "3341/3341 [==============================] - 0s 15us/sample - loss: 5.3821 - mae: 1.6849 - mse: 5.3821 - val_loss: 5.1184 - val_mae: 1.5612 - val_mse: 5.1184\n",
      "Epoch 54/100\n",
      "3341/3341 [==============================] - 0s 16us/sample - loss: 4.8009 - mae: 1.5780 - mse: 4.8009 - val_loss: 5.1361 - val_mae: 1.6946 - val_mse: 5.1361\n",
      "Epoch 55/100\n",
      "3341/3341 [==============================] - 0s 24us/sample - loss: 5.0572 - mae: 1.6353 - mse: 5.0572 - val_loss: 6.9554 - val_mae: 1.7726 - val_mse: 6.9554\n",
      "Epoch 56/100\n",
      "3341/3341 [==============================] - 0s 22us/sample - loss: 5.3634 - mae: 1.6913 - mse: 5.3634 - val_loss: 7.8633 - val_mae: 1.9161 - val_mse: 7.8633\n",
      "Epoch 57/100\n",
      "3341/3341 [==============================] - 0s 17us/sample - loss: 5.0598 - mae: 1.6353 - mse: 5.0598 - val_loss: 5.1806 - val_mae: 1.7114 - val_mse: 5.1806\n",
      "Epoch 58/100\n",
      "3341/3341 [==============================] - 0s 19us/sample - loss: 4.9332 - mae: 1.6046 - mse: 4.9332 - val_loss: 6.0314 - val_mae: 1.6160 - val_mse: 6.0314\n",
      "Epoch 59/100\n",
      "3341/3341 [==============================] - 0s 19us/sample - loss: 4.9247 - mae: 1.6171 - mse: 4.9247 - val_loss: 8.9156 - val_mae: 2.5697 - val_mse: 8.9156\n",
      "Epoch 60/100\n",
      "3341/3341 [==============================] - 0s 19us/sample - loss: 5.3538 - mae: 1.6900 - mse: 5.3538 - val_loss: 4.9655 - val_mae: 1.5176 - val_mse: 4.9655\n",
      "Epoch 61/100\n",
      "3341/3341 [==============================] - 0s 17us/sample - loss: 4.8243 - mae: 1.5917 - mse: 4.8243 - val_loss: 4.8683 - val_mae: 1.5320 - val_mse: 4.8683\n",
      "Epoch 62/100\n",
      "3341/3341 [==============================] - 0s 23us/sample - loss: 4.8875 - mae: 1.5927 - mse: 4.8875 - val_loss: 7.0530 - val_mae: 1.7925 - val_mse: 7.0530\n",
      "Epoch 63/100\n",
      "3341/3341 [==============================] - 0s 25us/sample - loss: 4.7903 - mae: 1.5797 - mse: 4.7903 - val_loss: 5.4883 - val_mae: 1.8193 - val_mse: 5.4883\n",
      "Epoch 64/100\n",
      "3341/3341 [==============================] - 0s 24us/sample - loss: 5.1071 - mae: 1.6573 - mse: 5.1071 - val_loss: 4.8874 - val_mae: 1.5806 - val_mse: 4.8874\n",
      "Epoch 65/100\n",
      "3341/3341 [==============================] - 0s 24us/sample - loss: 4.8107 - mae: 1.5918 - mse: 4.8107 - val_loss: 5.0993 - val_mae: 1.5171 - val_mse: 5.0993\n",
      "Epoch 66/100\n",
      "3341/3341 [==============================] - 0s 28us/sample - loss: 5.0457 - mae: 1.6312 - mse: 5.0457 - val_loss: 5.2574 - val_mae: 1.5220 - val_mse: 5.2574\n",
      "Epoch 67/100\n",
      "3341/3341 [==============================] - 0s 24us/sample - loss: 4.9591 - mae: 1.6112 - mse: 4.9591 - val_loss: 7.2753 - val_mae: 1.8455 - val_mse: 7.2753\n",
      "Epoch 68/100\n",
      "3341/3341 [==============================] - 0s 24us/sample - loss: 5.4209 - mae: 1.6998 - mse: 5.4209 - val_loss: 5.1514 - val_mae: 1.6770 - val_mse: 5.1514\n",
      "Epoch 69/100\n",
      "3341/3341 [==============================] - 0s 25us/sample - loss: 4.9302 - mae: 1.6117 - mse: 4.9302 - val_loss: 7.1526 - val_mae: 1.8491 - val_mse: 7.1526\n",
      "Epoch 70/100\n",
      "3341/3341 [==============================] - 0s 27us/sample - loss: 5.1015 - mae: 1.6467 - mse: 5.1015 - val_loss: 5.3772 - val_mae: 1.7907 - val_mse: 5.3772\n",
      "Epoch 71/100\n",
      "3341/3341 [==============================] - 0s 24us/sample - loss: 4.9418 - mae: 1.6100 - mse: 4.9418 - val_loss: 7.7225 - val_mae: 2.2766 - val_mse: 7.7225\n",
      "Epoch 72/100\n",
      "3341/3341 [==============================] - 0s 24us/sample - loss: 5.0647 - mae: 1.6385 - mse: 5.0647 - val_loss: 5.0700 - val_mae: 1.5104 - val_mse: 5.0700\n",
      "Epoch 73/100\n",
      "3341/3341 [==============================] - 0s 21us/sample - loss: 4.9152 - mae: 1.6082 - mse: 4.9152 - val_loss: 5.0686 - val_mae: 1.5915 - val_mse: 5.0686\n",
      "Epoch 74/100\n",
      "3341/3341 [==============================] - 0s 26us/sample - loss: 4.8251 - mae: 1.5868 - mse: 4.8251 - val_loss: 14.4871 - val_mae: 3.3816 - val_mse: 14.4871\n",
      "Epoch 75/100\n",
      "3341/3341 [==============================] - 0s 23us/sample - loss: 5.4172 - mae: 1.6925 - mse: 5.4172 - val_loss: 4.9652 - val_mae: 1.5102 - val_mse: 4.9652\n",
      "Epoch 76/100\n",
      "3341/3341 [==============================] - 0s 29us/sample - loss: 4.8682 - mae: 1.5975 - mse: 4.8682 - val_loss: 6.2233 - val_mae: 1.6981 - val_mse: 6.2233\n",
      "Epoch 77/100\n",
      "3341/3341 [==============================] - 0s 18us/sample - loss: 4.8730 - mae: 1.5868 - mse: 4.8730 - val_loss: 5.2763 - val_mae: 1.7114 - val_mse: 5.2763\n",
      "Epoch 78/100\n",
      "3341/3341 [==============================] - 0s 20us/sample - loss: 5.0527 - mae: 1.6304 - mse: 5.0527 - val_loss: 5.2006 - val_mae: 1.7369 - val_mse: 5.2006\n",
      "Epoch 79/100\n",
      "3341/3341 [==============================] - 0s 29us/sample - loss: 4.7815 - mae: 1.5901 - mse: 4.7815 - val_loss: 11.9455 - val_mae: 3.0535 - val_mse: 11.9455\n",
      "Epoch 80/100\n",
      "3341/3341 [==============================] - 0s 25us/sample - loss: 5.3304 - mae: 1.6694 - mse: 5.3304 - val_loss: 4.8136 - val_mae: 1.5232 - val_mse: 4.8136\n",
      "Epoch 81/100\n",
      "3341/3341 [==============================] - 0s 24us/sample - loss: 4.7371 - mae: 1.5816 - mse: 4.7371 - val_loss: 5.8532 - val_mae: 1.6444 - val_mse: 5.8532\n",
      "Epoch 82/100\n",
      "3341/3341 [==============================] - 0s 26us/sample - loss: 4.7934 - mae: 1.5714 - mse: 4.7934 - val_loss: 5.3737 - val_mae: 1.6766 - val_mse: 5.3737\n",
      "Epoch 83/100\n",
      "3341/3341 [==============================] - 0s 25us/sample - loss: 4.7874 - mae: 1.5744 - mse: 4.7874 - val_loss: 6.1843 - val_mae: 1.6897 - val_mse: 6.1843\n",
      "Epoch 84/100\n",
      "3341/3341 [==============================] - 0s 24us/sample - loss: 4.8215 - mae: 1.5811 - mse: 4.8215 - val_loss: 4.8090 - val_mae: 1.5740 - val_mse: 4.8090\n",
      "Epoch 85/100\n",
      "3341/3341 [==============================] - 0s 29us/sample - loss: 4.7270 - mae: 1.5652 - mse: 4.7270 - val_loss: 6.4934 - val_mae: 1.9707 - val_mse: 6.4934\n",
      "Epoch 86/100\n",
      "3341/3341 [==============================] - 0s 26us/sample - loss: 4.8693 - mae: 1.5918 - mse: 4.8693 - val_loss: 7.8781 - val_mae: 2.0006 - val_mse: 7.8781\n",
      "Epoch 87/100\n",
      "3341/3341 [==============================] - 0s 23us/sample - loss: 4.8727 - mae: 1.5937 - mse: 4.8727 - val_loss: 9.2853 - val_mae: 2.6299 - val_mse: 9.2853\n",
      "Epoch 88/100\n",
      "3341/3341 [==============================] - 0s 24us/sample - loss: 4.9393 - mae: 1.6063 - mse: 4.9393 - val_loss: 4.7625 - val_mae: 1.5068 - val_mse: 4.7625\n",
      "Epoch 89/100\n",
      "3341/3341 [==============================] - 0s 26us/sample - loss: 4.6745 - mae: 1.5530 - mse: 4.6745 - val_loss: 4.7381 - val_mae: 1.5355 - val_mse: 4.7381\n",
      "Epoch 90/100\n",
      "3341/3341 [==============================] - 0s 23us/sample - loss: 4.6673 - mae: 1.5513 - mse: 4.6673 - val_loss: 6.6870 - val_mae: 2.0938 - val_mse: 6.6870\n",
      "Epoch 91/100\n",
      "3341/3341 [==============================] - 0s 24us/sample - loss: 4.8507 - mae: 1.5976 - mse: 4.8507 - val_loss: 4.8834 - val_mae: 1.5693 - val_mse: 4.8834\n",
      "Epoch 92/100\n",
      "3341/3341 [==============================] - 0s 25us/sample - loss: 4.6475 - mae: 1.5418 - mse: 4.6475 - val_loss: 14.5576 - val_mae: 3.4002 - val_mse: 14.5576\n",
      "Epoch 93/100\n",
      "3341/3341 [==============================] - 0s 23us/sample - loss: 5.7020 - mae: 1.7099 - mse: 5.7020 - val_loss: 25.5121 - val_mae: 4.5803 - val_mse: 25.5121\n",
      "Epoch 94/100\n",
      "3341/3341 [==============================] - 0s 17us/sample - loss: 6.8822 - mae: 1.8670 - mse: 6.8822 - val_loss: 6.9232 - val_mae: 2.1895 - val_mse: 6.9232\n"
     ]
    },
    {
     "name": "stdout",
     "output_type": "stream",
     "text": [
      "Epoch 95/100\n",
      "3341/3341 [==============================] - 0s 16us/sample - loss: 4.8122 - mae: 1.5830 - mse: 4.8122 - val_loss: 4.9374 - val_mae: 1.6120 - val_mse: 4.9374\n",
      "Epoch 96/100\n",
      "3341/3341 [==============================] - 0s 17us/sample - loss: 4.5547 - mae: 1.5319 - mse: 4.5547 - val_loss: 5.3739 - val_mae: 1.6208 - val_mse: 5.3739\n",
      "Epoch 97/100\n",
      "3341/3341 [==============================] - 0s 15us/sample - loss: 4.6982 - mae: 1.5637 - mse: 4.6982 - val_loss: 5.4927 - val_mae: 1.7666 - val_mse: 5.4927\n",
      "Epoch 98/100\n",
      "3341/3341 [==============================] - 0s 15us/sample - loss: 4.7452 - mae: 1.5711 - mse: 4.7452 - val_loss: 4.7803 - val_mae: 1.5490 - val_mse: 4.7803\n",
      "Epoch 99/100\n",
      "3341/3341 [==============================] - 0s 15us/sample - loss: 4.5641 - mae: 1.5424 - mse: 4.5641 - val_loss: 11.6241 - val_mae: 2.5687 - val_mse: 11.6241\n",
      "Epoch 100/100\n",
      "3341/3341 [==============================] - 0s 15us/sample - loss: 4.9549 - mae: 1.6030 - mse: 4.9549 - val_loss: 7.1826 - val_mae: 1.8946 - val_mse: 7.1826\n"
     ]
    }
   ],
   "source": [
    "history = model.fit(X_train, y_train, \n",
    "                     epochs=100,\n",
    "                     batch_size=128,\n",
    "                     validation_data=(X_test, y_test),\n",
    "                     verbose = 1\n",
    "                    )"
   ]
  },
  {
   "cell_type": "code",
   "execution_count": 22,
   "metadata": {},
   "outputs": [
    {
     "data": {
      "text/plain": [
       "<matplotlib.legend.Legend at 0x13d0d7f10>"
      ]
     },
     "execution_count": 22,
     "metadata": {},
     "output_type": "execute_result"
    },
    {
     "data": {
      "image/png": "[encoded data removed]",
      "text/plain": [
       "<Figure size 432x288 with 1 Axes>"
      ]
     },
     "metadata": {
      "needs_background": "light"
     },
     "output_type": "display_data"
    }
   ],
   "source": [
    "hist = pd.DataFrame(history.history)\n",
    "hist['epoch'] = history.epoch\n",
    "\n",
    "plt.xlabel('Epoch')\n",
    "plt.ylabel('Mean Abs Error [MPG]')\n",
    "plt.plot(hist['epoch'], hist['mae'], label='Train Error')\n",
    "plt.plot(hist['epoch'], hist['val_mae'], label='val Error')\n",
    "plt.ylim(0, 5)\n",
    "plt.legend()"
   ]
  },
  {
   "cell_type": "code",
   "execution_count": 24,
   "metadata": {},
   "outputs": [
    {
     "data": {
      "text/plain": [
       "<matplotlib.legend.Legend at 0x13d5a43d0>"
      ]
     },
     "execution_count": 24,
     "metadata": {},
     "output_type": "execute_result"
    },
    {
     "data": {
      "image/png": "[encoded data removed]",
      "text/plain": [
       "<Figure size 432x288 with 1 Axes>"
      ]
     },
     "metadata": {
      "needs_background": "light"
     },
     "output_type": "display_data"
    }
   ],
   "source": [
    "plt.xlabel('Epoch')\n",
    "plt.ylabel('Mean Square Error [$MPG^2$]')\n",
    "plt.plot(hist['epoch'], hist['mse'], label='Train Error')\n",
    "plt.plot(hist['epoch'], hist['val_mse'], label='val Error')\n",
    "plt.ylim(0, 30)\n",
    "plt.legend()"
   ]
  },
  {
   "cell_type": "code",
   "execution_count": 27,
   "metadata": {
    "scrolled": true
   },
   "outputs": [
    {
     "name": "stdout",
     "output_type": "stream",
     "text": [
      "WARNING:tensorflow:Falling back from v2 loop because of error: Failed to find data adapter that can handle input: <class 'pandas.core.frame.DataFrame'>, <class 'NoneType'>\n",
      "836/836 [==============================] - 0s 43us/sample - loss: 7.1826 - mae: 1.8946 - mse: 7.1826\n"
     ]
    },
    {
     "data": {
      "text/plain": [
       "2.680045768432385"
      ]
     },
     "execution_count": 27,
     "metadata": {},
     "output_type": "execute_result"
    }
   ],
   "source": [
    "loss, mae, mse = model.evaluate(X_test, y_test)\n",
    "mse**0.5"
   ]
  },
  {
   "cell_type": "markdown",
   "metadata": {},
   "source": [
    "## model_2 300epoch"
   ]
  },
  {
   "cell_type": "code",
   "execution_count": 28,
   "metadata": {},
   "outputs": [],
   "source": [
    "model = keras.Sequential([\n",
    "    layers.Dense(64, activation='relu', input_shape=[8]),\n",
    "    layers.Dense(128, activation='relu'),\n",
    "    layers.Dense(1)\n",
    "])"
   ]
  },
  {
   "cell_type": "code",
   "execution_count": 29,
   "metadata": {},
   "outputs": [
    {
     "name": "stdout",
     "output_type": "stream",
     "text": [
      "Model: \"sequential_1\"\n",
      "_________________________________________________________________\n",
      "Layer (type)                 Output Shape              Param #   \n",
      "=================================================================\n",
      "dense_3 (Dense)              (None, 64)                576       \n",
      "_________________________________________________________________\n",
      "dense_4 (Dense)              (None, 128)               8320      \n",
      "_________________________________________________________________\n",
      "dense_5 (Dense)              (None, 1)                 129       \n",
      "=================================================================\n",
      "Total params: 9,025\n",
      "Trainable params: 9,025\n",
      "Non-trainable params: 0\n",
      "_________________________________________________________________\n"
     ]
    }
   ],
   "source": [
    "model.summary()"
   ]
  },
  {
   "cell_type": "code",
   "execution_count": 30,
   "metadata": {},
   "outputs": [],
   "source": [
    "model.compile(optimizer='sgd', loss='mse', metrics=['mae', 'mse'])"
   ]
  },
  {
   "cell_type": "code",
   "execution_count": 31,
   "metadata": {},
   "outputs": [
    {
     "name": "stdout",
     "output_type": "stream",
     "text": [
      "WARNING:tensorflow:Falling back from v2 loop because of error: Failed to find data adapter that can handle input: <class 'pandas.core.frame.DataFrame'>, <class 'NoneType'>\n",
      "Train on 3341 samples, validate on 836 samples\n",
      "Epoch 1/300\n",
      "3341/3341 [==============================] - 0s 47us/sample - loss: 16.7844 - mae: 2.9032 - mse: 16.7844 - val_loss: 8.0803 - val_mae: 2.2517 - val_mse: 8.0803\n",
      "Epoch 2/300\n",
      "3341/3341 [==============================] - 0s 16us/sample - loss: 7.7341 - mae: 2.0216 - mse: 7.7341 - val_loss: 7.1404 - val_mae: 1.9056 - val_mse: 7.1404\n",
      "Epoch 3/300\n",
      "3341/3341 [==============================] - 0s 16us/sample - loss: 6.9265 - mae: 1.9059 - mse: 6.9265 - val_loss: 14.1215 - val_mae: 3.3569 - val_mse: 14.1215\n",
      "Epoch 4/300\n",
      "3341/3341 [==============================] - 0s 17us/sample - loss: 8.2713 - mae: 2.1429 - mse: 8.2713 - val_loss: 9.1704 - val_mae: 2.6119 - val_mse: 9.1704\n",
      "Epoch 5/300\n",
      "3341/3341 [==============================] - 0s 18us/sample - loss: 7.3256 - mae: 1.9992 - mse: 7.3256 - val_loss: 8.1874 - val_mae: 2.4080 - val_mse: 8.1874\n",
      "Epoch 6/300\n",
      "3341/3341 [==============================] - 0s 22us/sample - loss: 6.3893 - mae: 1.8325 - mse: 6.3893 - val_loss: 8.9713 - val_mae: 1.9603 - val_mse: 8.9713\n",
      "Epoch 7/300\n",
      "3341/3341 [==============================] - 0s 27us/sample - loss: 6.5680 - mae: 1.8570 - mse: 6.5680 - val_loss: 8.2536 - val_mae: 1.8776 - val_mse: 8.2536\n",
      "Epoch 8/300\n",
      "3341/3341 [==============================] - 0s 18us/sample - loss: 7.2506 - mae: 1.9680 - mse: 7.2506 - val_loss: 6.3397 - val_mae: 1.6981 - val_mse: 6.3397\n",
      "Epoch 9/300\n",
      "3341/3341 [==============================] - 0s 16us/sample - loss: 6.9799 - mae: 1.9316 - mse: 6.9799 - val_loss: 7.0104 - val_mae: 1.6984 - val_mse: 7.0104\n",
      "Epoch 10/300\n",
      "3341/3341 [==============================] - 0s 15us/sample - loss: 6.7380 - mae: 1.9013 - mse: 6.7380 - val_loss: 6.7949 - val_mae: 2.1037 - val_mse: 6.7949\n",
      "Epoch 11/300\n",
      "3341/3341 [==============================] - 0s 16us/sample - loss: 6.6689 - mae: 1.9068 - mse: 6.6689 - val_loss: 45.7856 - val_mae: 6.3849 - val_mse: 45.7856\n",
      "Epoch 12/300\n",
      "3341/3341 [==============================] - 0s 17us/sample - loss: 10.6657 - mae: 2.3174 - mse: 10.6657 - val_loss: 8.8577 - val_mae: 1.9882 - val_mse: 8.8577\n",
      "Epoch 13/300\n",
      "3341/3341 [==============================] - 0s 15us/sample - loss: 6.2326 - mae: 1.7932 - mse: 6.2326 - val_loss: 6.2919 - val_mae: 1.6443 - val_mse: 6.2919\n",
      "Epoch 14/300\n",
      "3341/3341 [==============================] - 0s 16us/sample - loss: 6.1007 - mae: 1.7876 - mse: 6.1007 - val_loss: 6.2392 - val_mae: 1.6312 - val_mse: 6.2392\n",
      "Epoch 15/300\n",
      "3341/3341 [==============================] - 0s 17us/sample - loss: 5.7684 - mae: 1.7341 - mse: 5.7684 - val_loss: 6.7644 - val_mae: 2.1269 - val_mse: 6.7644\n",
      "Epoch 16/300\n",
      "3341/3341 [==============================] - 0s 17us/sample - loss: 6.0573 - mae: 1.8074 - mse: 6.0573 - val_loss: 6.2941 - val_mae: 2.0098 - val_mse: 6.2941\n",
      "Epoch 17/300\n",
      "3341/3341 [==============================] - 0s 16us/sample - loss: 6.5380 - mae: 1.9051 - mse: 6.5380 - val_loss: 9.2401 - val_mae: 2.1122 - val_mse: 9.2401\n",
      "Epoch 18/300\n",
      "3341/3341 [==============================] - 0s 15us/sample - loss: 5.7404 - mae: 1.7391 - mse: 5.7404 - val_loss: 5.6224 - val_mae: 1.7672 - val_mse: 5.6224\n",
      "Epoch 19/300\n",
      "3341/3341 [==============================] - 0s 16us/sample - loss: 6.7439 - mae: 1.9514 - mse: 6.7439 - val_loss: 10.9038 - val_mae: 2.3918 - val_mse: 10.9038\n",
      "Epoch 20/300\n",
      "3341/3341 [==============================] - 0s 17us/sample - loss: 5.6952 - mae: 1.7267 - mse: 5.6952 - val_loss: 5.3856 - val_mae: 1.6250 - val_mse: 5.3856\n",
      "Epoch 21/300\n",
      "3341/3341 [==============================] - 0s 17us/sample - loss: 6.5754 - mae: 1.8935 - mse: 6.5754 - val_loss: 5.5897 - val_mae: 1.7822 - val_mse: 5.5897\n",
      "Epoch 22/300\n",
      "3341/3341 [==============================] - 0s 18us/sample - loss: 5.5398 - mae: 1.7183 - mse: 5.5398 - val_loss: 5.7752 - val_mae: 1.6124 - val_mse: 5.7752\n",
      "Epoch 23/300\n",
      "3341/3341 [==============================] - 0s 23us/sample - loss: 6.3210 - mae: 1.8679 - mse: 6.3210 - val_loss: 5.6089 - val_mae: 1.7519 - val_mse: 5.6089\n",
      "Epoch 24/300\n",
      "3341/3341 [==============================] - 0s 19us/sample - loss: 5.6244 - mae: 1.7269 - mse: 5.6244 - val_loss: 5.3188 - val_mae: 1.6448 - val_mse: 5.3188\n",
      "Epoch 25/300\n",
      "3341/3341 [==============================] - 0s 19us/sample - loss: 5.5675 - mae: 1.7259 - mse: 5.5675 - val_loss: 5.6674 - val_mae: 1.6670 - val_mse: 5.6674\n",
      "Epoch 26/300\n",
      "3341/3341 [==============================] - 0s 21us/sample - loss: 5.6342 - mae: 1.7286 - mse: 5.6342 - val_loss: 5.5221 - val_mae: 1.7859 - val_mse: 5.5221\n",
      "Epoch 27/300\n",
      "3341/3341 [==============================] - 0s 18us/sample - loss: 5.4284 - mae: 1.7039 - mse: 5.4284 - val_loss: 6.9120 - val_mae: 2.1506 - val_mse: 6.9120\n",
      "Epoch 28/300\n",
      "3341/3341 [==============================] - 0s 19us/sample - loss: 5.2786 - mae: 1.6750 - mse: 5.2786 - val_loss: 15.0656 - val_mae: 3.4434 - val_mse: 15.0656\n",
      "Epoch 29/300\n",
      "3341/3341 [==============================] - 0s 24us/sample - loss: 6.1451 - mae: 1.8037 - mse: 6.1451 - val_loss: 5.2723 - val_mae: 1.6866 - val_mse: 5.2723\n",
      "Epoch 30/300\n",
      "3341/3341 [==============================] - 0s 17us/sample - loss: 6.5152 - mae: 1.8908 - mse: 6.5152 - val_loss: 5.4639 - val_mae: 1.7515 - val_mse: 5.4639\n",
      "Epoch 31/300\n",
      "3341/3341 [==============================] - 0s 17us/sample - loss: 5.4028 - mae: 1.6877 - mse: 5.4028 - val_loss: 6.8975 - val_mae: 2.1827 - val_mse: 6.8975\n",
      "Epoch 32/300\n",
      "3341/3341 [==============================] - 0s 17us/sample - loss: 5.7545 - mae: 1.7608 - mse: 5.7545 - val_loss: 10.2225 - val_mae: 2.7463 - val_mse: 10.2225\n",
      "Epoch 33/300\n",
      "3341/3341 [==============================] - 0s 19us/sample - loss: 5.9588 - mae: 1.8026 - mse: 5.9588 - val_loss: 5.1788 - val_mae: 1.6046 - val_mse: 5.1788\n",
      "Epoch 34/300\n",
      "3341/3341 [==============================] - 0s 29us/sample - loss: 5.0515 - mae: 1.6305 - mse: 5.0515 - val_loss: 5.3058 - val_mae: 1.7419 - val_mse: 5.3058\n",
      "Epoch 35/300\n",
      "3341/3341 [==============================] - 0s 29us/sample - loss: 5.3962 - mae: 1.6967 - mse: 5.3962 - val_loss: 6.7521 - val_mae: 1.7553 - val_mse: 6.7521\n",
      "Epoch 36/300\n",
      "3341/3341 [==============================] - 0s 21us/sample - loss: 5.9110 - mae: 1.7841 - mse: 5.9110 - val_loss: 7.6530 - val_mae: 1.8624 - val_mse: 7.6530\n",
      "Epoch 37/300\n",
      "3341/3341 [==============================] - 0s 15us/sample - loss: 5.3254 - mae: 1.6841 - mse: 5.3254 - val_loss: 7.2090 - val_mae: 1.7660 - val_mse: 7.2090\n",
      "Epoch 38/300\n",
      "3341/3341 [==============================] - 0s 16us/sample - loss: 5.4440 - mae: 1.6994 - mse: 5.4440 - val_loss: 5.5730 - val_mae: 1.5578 - val_mse: 5.5730\n",
      "Epoch 39/300\n",
      "3341/3341 [==============================] - 0s 13us/sample - loss: 5.5577 - mae: 1.7214 - mse: 5.5577 - val_loss: 5.1208 - val_mae: 1.6533 - val_mse: 5.1208\n",
      "Epoch 40/300\n",
      "3341/3341 [==============================] - 0s 12us/sample - loss: 5.1733 - mae: 1.6407 - mse: 5.1733 - val_loss: 5.1592 - val_mae: 1.6948 - val_mse: 5.1592\n",
      "Epoch 41/300\n",
      "3341/3341 [==============================] - 0s 12us/sample - loss: 5.5865 - mae: 1.7503 - mse: 5.5865 - val_loss: 7.7071 - val_mae: 2.3279 - val_mse: 7.7071\n",
      "Epoch 42/300\n",
      "3341/3341 [==============================] - 0s 12us/sample - loss: 5.4277 - mae: 1.7076 - mse: 5.4277 - val_loss: 11.1262 - val_mae: 2.4588 - val_mse: 11.1262\n",
      "Epoch 43/300\n",
      "3341/3341 [==============================] - 0s 12us/sample - loss: 5.6100 - mae: 1.7192 - mse: 5.6100 - val_loss: 5.4935 - val_mae: 1.5778 - val_mse: 5.4935\n",
      "Epoch 44/300\n",
      "3341/3341 [==============================] - 0s 12us/sample - loss: 5.7254 - mae: 1.7489 - mse: 5.7254 - val_loss: 10.8437 - val_mae: 2.9011 - val_mse: 10.8437\n",
      "Epoch 45/300\n",
      "3341/3341 [==============================] - 0s 12us/sample - loss: 5.4278 - mae: 1.7002 - mse: 5.4278 - val_loss: 6.0210 - val_mae: 1.9473 - val_mse: 6.0210\n",
      "Epoch 46/300\n",
      "3341/3341 [==============================] - 0s 14us/sample - loss: 5.0055 - mae: 1.6349 - mse: 5.0055 - val_loss: 6.1849 - val_mae: 1.6399 - val_mse: 6.1849\n",
      "Epoch 47/300\n"
     ]
    },
    {
     "name": "stdout",
     "output_type": "stream",
     "text": [
      "3341/3341 [==============================] - 0s 16us/sample - loss: 5.3511 - mae: 1.6739 - mse: 5.3511 - val_loss: 5.0522 - val_mae: 1.6349 - val_mse: 5.0522\n",
      "Epoch 48/300\n",
      "3341/3341 [==============================] - 0s 18us/sample - loss: 4.8462 - mae: 1.5947 - mse: 4.8462 - val_loss: 5.0124 - val_mae: 1.6207 - val_mse: 5.0124\n",
      "Epoch 49/300\n",
      "3341/3341 [==============================] - 0s 18us/sample - loss: 4.9671 - mae: 1.6270 - mse: 4.9671 - val_loss: 4.9840 - val_mae: 1.5740 - val_mse: 4.9840\n",
      "Epoch 50/300\n",
      "3341/3341 [==============================] - 0s 17us/sample - loss: 4.8740 - mae: 1.5836 - mse: 4.8740 - val_loss: 4.9161 - val_mae: 1.5555 - val_mse: 4.9161\n",
      "Epoch 51/300\n",
      "3341/3341 [==============================] - 0s 16us/sample - loss: 5.1675 - mae: 1.6518 - mse: 5.1675 - val_loss: 7.3592 - val_mae: 1.9158 - val_mse: 7.3591\n",
      "Epoch 52/300\n",
      "3341/3341 [==============================] - 0s 14us/sample - loss: 5.8354 - mae: 1.7546 - mse: 5.8354 - val_loss: 5.3793 - val_mae: 1.5770 - val_mse: 5.3793\n",
      "Epoch 53/300\n",
      "3341/3341 [==============================] - 0s 13us/sample - loss: 4.9772 - mae: 1.6192 - mse: 4.9772 - val_loss: 5.1844 - val_mae: 1.5204 - val_mse: 5.1844\n",
      "Epoch 54/300\n",
      "3341/3341 [==============================] - 0s 20us/sample - loss: 5.0256 - mae: 1.6212 - mse: 5.0256 - val_loss: 7.2439 - val_mae: 2.1342 - val_mse: 7.2439\n",
      "Epoch 55/300\n",
      "3341/3341 [==============================] - 0s 44us/sample - loss: 5.4211 - mae: 1.7056 - mse: 5.4211 - val_loss: 5.0640 - val_mae: 1.6502 - val_mse: 5.0640\n",
      "Epoch 56/300\n",
      "3341/3341 [==============================] - 0s 28us/sample - loss: 4.8996 - mae: 1.6121 - mse: 4.8996 - val_loss: 6.3733 - val_mae: 2.0564 - val_mse: 6.3733\n",
      "Epoch 57/300\n",
      "3341/3341 [==============================] - 0s 17us/sample - loss: 5.0796 - mae: 1.6466 - mse: 5.0796 - val_loss: 5.7279 - val_mae: 1.5744 - val_mse: 5.7279\n",
      "Epoch 58/300\n",
      "3341/3341 [==============================] - 0s 16us/sample - loss: 4.8641 - mae: 1.5931 - mse: 4.8641 - val_loss: 6.3229 - val_mae: 2.0368 - val_mse: 6.3229\n",
      "Epoch 59/300\n",
      "3341/3341 [==============================] - 0s 14us/sample - loss: 4.9309 - mae: 1.6122 - mse: 4.9309 - val_loss: 13.2836 - val_mae: 3.2284 - val_mse: 13.2836\n",
      "Epoch 60/300\n",
      "3341/3341 [==============================] - 0s 13us/sample - loss: 5.3630 - mae: 1.6881 - mse: 5.3630 - val_loss: 5.1029 - val_mae: 1.5308 - val_mse: 5.1029\n",
      "Epoch 61/300\n",
      "3341/3341 [==============================] - 0s 13us/sample - loss: 4.7231 - mae: 1.5670 - mse: 4.7231 - val_loss: 4.9629 - val_mae: 1.5844 - val_mse: 4.9629\n",
      "Epoch 62/300\n",
      "3341/3341 [==============================] - 0s 15us/sample - loss: 4.8166 - mae: 1.5953 - mse: 4.8166 - val_loss: 7.1743 - val_mae: 2.2309 - val_mse: 7.1743\n",
      "Epoch 63/300\n",
      "3341/3341 [==============================] - 0s 16us/sample - loss: 4.9066 - mae: 1.6049 - mse: 4.9066 - val_loss: 6.4935 - val_mae: 2.0636 - val_mse: 6.4935\n",
      "Epoch 64/300\n",
      "3341/3341 [==============================] - 0s 14us/sample - loss: 5.2017 - mae: 1.6840 - mse: 5.2017 - val_loss: 5.0079 - val_mae: 1.6455 - val_mse: 5.0079\n",
      "Epoch 65/300\n",
      "3341/3341 [==============================] - 0s 14us/sample - loss: 5.0924 - mae: 1.6305 - mse: 5.0924 - val_loss: 5.0020 - val_mae: 1.6188 - val_mse: 5.0020\n",
      "Epoch 66/300\n",
      "3341/3341 [==============================] - 0s 16us/sample - loss: 4.6313 - mae: 1.5518 - mse: 4.6313 - val_loss: 8.3151 - val_mae: 2.4330 - val_mse: 8.3151\n",
      "Epoch 67/300\n",
      "3341/3341 [==============================] - 0s 18us/sample - loss: 5.1735 - mae: 1.6731 - mse: 5.1735 - val_loss: 9.8767 - val_mae: 2.6592 - val_mse: 9.8767\n",
      "Epoch 68/300\n",
      "3341/3341 [==============================] - 0s 19us/sample - loss: 5.3015 - mae: 1.6712 - mse: 5.3015 - val_loss: 4.8806 - val_mae: 1.5754 - val_mse: 4.8806\n",
      "Epoch 69/300\n",
      "3341/3341 [==============================] - 0s 17us/sample - loss: 4.5828 - mae: 1.5362 - mse: 4.5828 - val_loss: 9.5402 - val_mae: 2.6207 - val_mse: 9.5402\n",
      "Epoch 70/300\n",
      "3341/3341 [==============================] - 0s 19us/sample - loss: 5.4887 - mae: 1.6983 - mse: 5.4887 - val_loss: 7.4487 - val_mae: 1.8825 - val_mse: 7.4487\n",
      "Epoch 71/300\n",
      "3341/3341 [==============================] - 0s 17us/sample - loss: 4.8457 - mae: 1.5873 - mse: 4.8457 - val_loss: 4.8020 - val_mae: 1.5404 - val_mse: 4.8020\n",
      "Epoch 72/300\n",
      "3341/3341 [==============================] - 0s 19us/sample - loss: 4.6794 - mae: 1.5550 - mse: 4.6794 - val_loss: 4.8484 - val_mae: 1.5841 - val_mse: 4.8484\n",
      "Epoch 73/300\n",
      "3341/3341 [==============================] - 0s 24us/sample - loss: 4.8095 - mae: 1.5816 - mse: 4.8095 - val_loss: 4.9185 - val_mae: 1.5038 - val_mse: 4.9185\n",
      "Epoch 74/300\n",
      "3341/3341 [==============================] - 0s 23us/sample - loss: 4.8072 - mae: 1.5806 - mse: 4.8072 - val_loss: 5.0116 - val_mae: 1.5692 - val_mse: 5.0116\n",
      "Epoch 75/300\n",
      "3341/3341 [==============================] - 0s 21us/sample - loss: 4.9752 - mae: 1.6030 - mse: 4.9752 - val_loss: 5.0382 - val_mae: 1.4997 - val_mse: 5.0382\n",
      "Epoch 76/300\n",
      "3341/3341 [==============================] - 0s 21us/sample - loss: 4.8938 - mae: 1.5985 - mse: 4.8938 - val_loss: 7.3178 - val_mae: 1.8691 - val_mse: 7.3178\n",
      "Epoch 77/300\n",
      "3341/3341 [==============================] - 0s 20us/sample - loss: 4.8586 - mae: 1.5879 - mse: 4.8586 - val_loss: 6.5876 - val_mae: 2.0668 - val_mse: 6.5876\n",
      "Epoch 78/300\n",
      "3341/3341 [==============================] - 0s 21us/sample - loss: 4.8905 - mae: 1.5961 - mse: 4.8905 - val_loss: 5.5216 - val_mae: 1.5826 - val_mse: 5.5216\n",
      "Epoch 79/300\n",
      "3341/3341 [==============================] - 0s 21us/sample - loss: 4.8046 - mae: 1.5624 - mse: 4.8046 - val_loss: 8.0777 - val_mae: 2.4117 - val_mse: 8.0777\n",
      "Epoch 80/300\n",
      "3341/3341 [==============================] - 0s 29us/sample - loss: 5.1264 - mae: 1.6423 - mse: 5.1264 - val_loss: 5.0486 - val_mae: 1.5437 - val_mse: 5.0486\n",
      "Epoch 81/300\n",
      "3341/3341 [==============================] - 0s 26us/sample - loss: 5.0047 - mae: 1.6187 - mse: 5.0047 - val_loss: 5.7028 - val_mae: 1.5901 - val_mse: 5.7028\n",
      "Epoch 82/300\n",
      "3341/3341 [==============================] - 0s 23us/sample - loss: 4.6875 - mae: 1.5499 - mse: 4.6875 - val_loss: 4.8686 - val_mae: 1.4989 - val_mse: 4.8686\n",
      "Epoch 83/300\n",
      "3341/3341 [==============================] - 0s 27us/sample - loss: 4.8539 - mae: 1.5893 - mse: 4.8539 - val_loss: 5.3175 - val_mae: 1.7696 - val_mse: 5.3175\n",
      "Epoch 84/300\n",
      "3341/3341 [==============================] - 0s 28us/sample - loss: 4.5865 - mae: 1.5399 - mse: 4.5865 - val_loss: 5.6051 - val_mae: 1.7937 - val_mse: 5.6051\n",
      "Epoch 85/300\n",
      "3341/3341 [==============================] - 0s 22us/sample - loss: 4.8966 - mae: 1.5944 - mse: 4.8966 - val_loss: 10.9391 - val_mae: 2.4917 - val_mse: 10.9391\n",
      "Epoch 86/300\n",
      "3341/3341 [==============================] - 0s 15us/sample - loss: 4.7510 - mae: 1.5603 - mse: 4.7510 - val_loss: 4.8451 - val_mae: 1.5877 - val_mse: 4.8451\n",
      "Epoch 87/300\n",
      "3341/3341 [==============================] - 0s 14us/sample - loss: 4.9097 - mae: 1.5982 - mse: 4.9097 - val_loss: 5.2933 - val_mae: 1.5841 - val_mse: 5.2933\n",
      "Epoch 88/300\n",
      "3341/3341 [==============================] - 0s 14us/sample - loss: 4.5081 - mae: 1.5230 - mse: 4.5081 - val_loss: 4.9216 - val_mae: 1.5830 - val_mse: 4.9216\n",
      "Epoch 89/300\n",
      "3341/3341 [==============================] - 0s 14us/sample - loss: 4.6148 - mae: 1.5387 - mse: 4.6148 - val_loss: 4.8471 - val_mae: 1.5907 - val_mse: 4.8471\n",
      "Epoch 90/300\n",
      "3341/3341 [==============================] - 0s 14us/sample - loss: 4.8859 - mae: 1.5923 - mse: 4.8859 - val_loss: 6.1537 - val_mae: 2.0065 - val_mse: 6.1537\n",
      "Epoch 91/300\n",
      "3341/3341 [==============================] - 0s 16us/sample - loss: 4.7840 - mae: 1.5776 - mse: 4.7840 - val_loss: 4.8943 - val_mae: 1.4989 - val_mse: 4.8943\n",
      "Epoch 92/300\n",
      "3341/3341 [==============================] - 0s 25us/sample - loss: 4.4823 - mae: 1.5161 - mse: 4.4823 - val_loss: 4.9415 - val_mae: 1.6365 - val_mse: 4.9415\n",
      "Epoch 93/300\n",
      "3341/3341 [==============================] - 0s 22us/sample - loss: 4.6137 - mae: 1.5489 - mse: 4.6137 - val_loss: 5.5999 - val_mae: 1.5711 - val_mse: 5.5999\n",
      "Epoch 94/300\n",
      "3341/3341 [==============================] - 0s 27us/sample - loss: 4.7621 - mae: 1.5699 - mse: 4.7621 - val_loss: 4.7601 - val_mae: 1.5034 - val_mse: 4.7601\n"
     ]
    },
    {
     "name": "stdout",
     "output_type": "stream",
     "text": [
      "Epoch 95/300\n",
      "3341/3341 [==============================] - 0s 22us/sample - loss: 4.5316 - mae: 1.5185 - mse: 4.5316 - val_loss: 5.8660 - val_mae: 1.6408 - val_mse: 5.8660\n",
      "Epoch 96/300\n",
      "3341/3341 [==============================] - 0s 17us/sample - loss: 4.5933 - mae: 1.5345 - mse: 4.5933 - val_loss: 6.3453 - val_mae: 2.0442 - val_mse: 6.3453\n",
      "Epoch 97/300\n",
      "3341/3341 [==============================] - 0s 24us/sample - loss: 4.7061 - mae: 1.5617 - mse: 4.7061 - val_loss: 6.8732 - val_mae: 2.1456 - val_mse: 6.8732\n",
      "Epoch 98/300\n",
      "3341/3341 [==============================] - 0s 22us/sample - loss: 4.8553 - mae: 1.5829 - mse: 4.8553 - val_loss: 5.4867 - val_mae: 1.7704 - val_mse: 5.4867\n",
      "Epoch 99/300\n",
      "3341/3341 [==============================] - 0s 15us/sample - loss: 4.6280 - mae: 1.5456 - mse: 4.6280 - val_loss: 4.8358 - val_mae: 1.4883 - val_mse: 4.8358\n",
      "Epoch 100/300\n",
      "3341/3341 [==============================] - 0s 14us/sample - loss: 4.9134 - mae: 1.6130 - mse: 4.9134 - val_loss: 4.9846 - val_mae: 1.4899 - val_mse: 4.9846\n",
      "Epoch 101/300\n",
      "3341/3341 [==============================] - 0s 13us/sample - loss: 4.5780 - mae: 1.5335 - mse: 4.5780 - val_loss: 4.9311 - val_mae: 1.4959 - val_mse: 4.9311\n",
      "Epoch 102/300\n",
      "3341/3341 [==============================] - 0s 13us/sample - loss: 4.7205 - mae: 1.5545 - mse: 4.7205 - val_loss: 5.1382 - val_mae: 1.5015 - val_mse: 5.1382\n",
      "Epoch 103/300\n",
      "3341/3341 [==============================] - 0s 14us/sample - loss: 4.6052 - mae: 1.5459 - mse: 4.6052 - val_loss: 4.9340 - val_mae: 1.6231 - val_mse: 4.9340\n",
      "Epoch 104/300\n",
      "3341/3341 [==============================] - 0s 13us/sample - loss: 4.5926 - mae: 1.5410 - mse: 4.5926 - val_loss: 4.8239 - val_mae: 1.5799 - val_mse: 4.8239\n",
      "Epoch 105/300\n",
      "3341/3341 [==============================] - 0s 13us/sample - loss: 4.6242 - mae: 1.5447 - mse: 4.6242 - val_loss: 4.7033 - val_mae: 1.5312 - val_mse: 4.7033\n",
      "Epoch 106/300\n",
      "3341/3341 [==============================] - 0s 14us/sample - loss: 4.6929 - mae: 1.5600 - mse: 4.6929 - val_loss: 4.9350 - val_mae: 1.4944 - val_mse: 4.9350\n",
      "Epoch 107/300\n",
      "3341/3341 [==============================] - 0s 15us/sample - loss: 4.5824 - mae: 1.5381 - mse: 4.5824 - val_loss: 4.9713 - val_mae: 1.4909 - val_mse: 4.9713\n",
      "Epoch 108/300\n",
      "3341/3341 [==============================] - 0s 18us/sample - loss: 4.9570 - mae: 1.5972 - mse: 4.9570 - val_loss: 8.2156 - val_mae: 2.0012 - val_mse: 8.2156\n",
      "Epoch 109/300\n",
      "3341/3341 [==============================] - 0s 19us/sample - loss: 4.7080 - mae: 1.5495 - mse: 4.7080 - val_loss: 4.8289 - val_mae: 1.5419 - val_mse: 4.8289\n",
      "Epoch 110/300\n",
      "3341/3341 [==============================] - 0s 19us/sample - loss: 4.5680 - mae: 1.5238 - mse: 4.5680 - val_loss: 6.4378 - val_mae: 1.6868 - val_mse: 6.4378\n",
      "Epoch 111/300\n",
      "3341/3341 [==============================] - 0s 19us/sample - loss: 4.7084 - mae: 1.5504 - mse: 4.7084 - val_loss: 7.0486 - val_mae: 1.8654 - val_mse: 7.0486\n",
      "Epoch 112/300\n",
      "3341/3341 [==============================] - 0s 16us/sample - loss: 4.6722 - mae: 1.5469 - mse: 4.6722 - val_loss: 9.0617 - val_mae: 2.5705 - val_mse: 9.0617\n",
      "Epoch 113/300\n",
      "3341/3341 [==============================] - 0s 13us/sample - loss: 4.9154 - mae: 1.6046 - mse: 4.9154 - val_loss: 4.6646 - val_mae: 1.5031 - val_mse: 4.6646\n",
      "Epoch 114/300\n",
      "3341/3341 [==============================] - 0s 12us/sample - loss: 4.6869 - mae: 1.5631 - mse: 4.6869 - val_loss: 5.1447 - val_mae: 1.5082 - val_mse: 5.1447\n",
      "Epoch 115/300\n",
      "3341/3341 [==============================] - 0s 13us/sample - loss: 4.8809 - mae: 1.5783 - mse: 4.8809 - val_loss: 8.7738 - val_mae: 2.1152 - val_mse: 8.7738\n",
      "Epoch 116/300\n",
      "3341/3341 [==============================] - 0s 12us/sample - loss: 4.7607 - mae: 1.5565 - mse: 4.7607 - val_loss: 8.0076 - val_mae: 2.2818 - val_mse: 8.0076\n",
      "Epoch 117/300\n",
      "3341/3341 [==============================] - 0s 27us/sample - loss: 4.7528 - mae: 1.5654 - mse: 4.7528 - val_loss: 5.0855 - val_mae: 1.6535 - val_mse: 5.0855\n",
      "Epoch 118/300\n",
      "3341/3341 [==============================] - 0s 24us/sample - loss: 4.6343 - mae: 1.5479 - mse: 4.6343 - val_loss: 4.7534 - val_mae: 1.4938 - val_mse: 4.7534\n",
      "Epoch 119/300\n",
      "3341/3341 [==============================] - 0s 23us/sample - loss: 4.5118 - mae: 1.5195 - mse: 4.5118 - val_loss: 4.9848 - val_mae: 1.4957 - val_mse: 4.9848\n",
      "Epoch 120/300\n",
      "3341/3341 [==============================] - 0s 33us/sample - loss: 4.6873 - mae: 1.5468 - mse: 4.6873 - val_loss: 4.9386 - val_mae: 1.6074 - val_mse: 4.9386\n",
      "Epoch 121/300\n",
      "3341/3341 [==============================] - 0s 35us/sample - loss: 4.6029 - mae: 1.5412 - mse: 4.6029 - val_loss: 4.9680 - val_mae: 1.6355 - val_mse: 4.9680\n",
      "Epoch 122/300\n",
      "3341/3341 [==============================] - 0s 25us/sample - loss: 4.5554 - mae: 1.5296 - mse: 4.5554 - val_loss: 4.8526 - val_mae: 1.5537 - val_mse: 4.8526\n",
      "Epoch 123/300\n",
      "3341/3341 [==============================] - 0s 36us/sample - loss: 4.5485 - mae: 1.5343 - mse: 4.5485 - val_loss: 5.0263 - val_mae: 1.5635 - val_mse: 5.0263\n",
      "Epoch 124/300\n",
      "3341/3341 [==============================] - 0s 33us/sample - loss: 4.6026 - mae: 1.5438 - mse: 4.6026 - val_loss: 5.1444 - val_mae: 1.5499 - val_mse: 5.1444\n",
      "Epoch 125/300\n",
      "3341/3341 [==============================] - 0s 21us/sample - loss: 4.6730 - mae: 1.5485 - mse: 4.6730 - val_loss: 5.9101 - val_mae: 1.9524 - val_mse: 5.9101\n",
      "Epoch 126/300\n",
      "3341/3341 [==============================] - 0s 16us/sample - loss: 4.6037 - mae: 1.5431 - mse: 4.6037 - val_loss: 4.7205 - val_mae: 1.5342 - val_mse: 4.7205\n",
      "Epoch 127/300\n",
      "3341/3341 [==============================] - 0s 16us/sample - loss: 4.5824 - mae: 1.5326 - mse: 4.5824 - val_loss: 4.7102 - val_mae: 1.5293 - val_mse: 4.7102\n",
      "Epoch 128/300\n",
      "3341/3341 [==============================] - 0s 18us/sample - loss: 4.5695 - mae: 1.5329 - mse: 4.5695 - val_loss: 11.6301 - val_mae: 2.5926 - val_mse: 11.6301\n",
      "Epoch 129/300\n",
      "3341/3341 [==============================] - 0s 28us/sample - loss: 4.8587 - mae: 1.5536 - mse: 4.8587 - val_loss: 6.5451 - val_mae: 1.7238 - val_mse: 6.5451\n",
      "Epoch 130/300\n",
      "3341/3341 [==============================] - 0s 25us/sample - loss: 4.5762 - mae: 1.5312 - mse: 4.5762 - val_loss: 6.8835 - val_mae: 1.7979 - val_mse: 6.8835\n",
      "Epoch 131/300\n",
      "3341/3341 [==============================] - 0s 30us/sample - loss: 4.6678 - mae: 1.5475 - mse: 4.6678 - val_loss: 8.5893 - val_mae: 2.4809 - val_mse: 8.5893\n",
      "Epoch 132/300\n",
      "3341/3341 [==============================] - 0s 22us/sample - loss: 4.9197 - mae: 1.5858 - mse: 4.9197 - val_loss: 5.4038 - val_mae: 1.7298 - val_mse: 5.4038\n",
      "Epoch 133/300\n",
      "3341/3341 [==============================] - 0s 22us/sample - loss: 4.4474 - mae: 1.5104 - mse: 4.4474 - val_loss: 5.8224 - val_mae: 1.9144 - val_mse: 5.8224\n",
      "Epoch 134/300\n",
      "3341/3341 [==============================] - 0s 25us/sample - loss: 4.5746 - mae: 1.5332 - mse: 4.5746 - val_loss: 5.8965 - val_mae: 1.9082 - val_mse: 5.8965\n",
      "Epoch 135/300\n",
      "3341/3341 [==============================] - 0s 30us/sample - loss: 4.5552 - mae: 1.5433 - mse: 4.5552 - val_loss: 12.1202 - val_mae: 3.0671 - val_mse: 12.1202\n",
      "Epoch 136/300\n",
      "3341/3341 [==============================] - 0s 25us/sample - loss: 4.8260 - mae: 1.5719 - mse: 4.8260 - val_loss: 4.6809 - val_mae: 1.4824 - val_mse: 4.6809\n",
      "Epoch 137/300\n",
      "3341/3341 [==============================] - 0s 23us/sample - loss: 4.5246 - mae: 1.5207 - mse: 4.5246 - val_loss: 5.4803 - val_mae: 1.5617 - val_mse: 5.4803\n",
      "Epoch 138/300\n",
      "3341/3341 [==============================] - 0s 27us/sample - loss: 4.4316 - mae: 1.4976 - mse: 4.4316 - val_loss: 4.7720 - val_mae: 1.5886 - val_mse: 4.7720\n",
      "Epoch 139/300\n",
      "3341/3341 [==============================] - 0s 24us/sample - loss: 4.6034 - mae: 1.5391 - mse: 4.6034 - val_loss: 5.0828 - val_mae: 1.6886 - val_mse: 5.0828\n",
      "Epoch 140/300\n",
      "3341/3341 [==============================] - 0s 19us/sample - loss: 4.6153 - mae: 1.5342 - mse: 4.6153 - val_loss: 9.3555 - val_mae: 2.5888 - val_mse: 9.3555\n",
      "Epoch 141/300\n",
      "3341/3341 [==============================] - 0s 20us/sample - loss: 4.6807 - mae: 1.5501 - mse: 4.6807 - val_loss: 7.3586 - val_mae: 1.8359 - val_mse: 7.3586\n",
      "Epoch 142/300\n",
      "3341/3341 [==============================] - 0s 19us/sample - loss: 4.6150 - mae: 1.5299 - mse: 4.6150 - val_loss: 7.4858 - val_mae: 1.8858 - val_mse: 7.4858\n"
     ]
    },
    {
     "name": "stdout",
     "output_type": "stream",
     "text": [
      "Epoch 143/300\n",
      "3341/3341 [==============================] - 0s 17us/sample - loss: 4.5525 - mae: 1.5219 - mse: 4.5525 - val_loss: 6.2073 - val_mae: 1.7479 - val_mse: 6.2073\n",
      "Epoch 144/300\n",
      "3341/3341 [==============================] - 0s 17us/sample - loss: 4.4492 - mae: 1.4978 - mse: 4.4492 - val_loss: 4.9636 - val_mae: 1.5580 - val_mse: 4.9636\n",
      "Epoch 145/300\n",
      "3341/3341 [==============================] - 0s 15us/sample - loss: 4.5485 - mae: 1.5255 - mse: 4.5485 - val_loss: 4.8013 - val_mae: 1.5678 - val_mse: 4.8013\n",
      "Epoch 146/300\n",
      "3341/3341 [==============================] - 0s 14us/sample - loss: 4.5067 - mae: 1.5146 - mse: 4.5067 - val_loss: 5.8411 - val_mae: 1.8726 - val_mse: 5.8411\n",
      "Epoch 147/300\n",
      "3341/3341 [==============================] - 0s 15us/sample - loss: 4.4802 - mae: 1.5134 - mse: 4.4802 - val_loss: 4.8324 - val_mae: 1.5498 - val_mse: 4.8324\n",
      "Epoch 148/300\n",
      "3341/3341 [==============================] - 0s 16us/sample - loss: 4.5975 - mae: 1.5327 - mse: 4.5975 - val_loss: 4.9207 - val_mae: 1.6578 - val_mse: 4.9207\n",
      "Epoch 149/300\n",
      "3341/3341 [==============================] - 0s 24us/sample - loss: 4.5614 - mae: 1.5322 - mse: 4.5614 - val_loss: 4.6668 - val_mae: 1.4779 - val_mse: 4.6668\n",
      "Epoch 150/300\n",
      "3341/3341 [==============================] - 0s 42us/sample - loss: 4.5774 - mae: 1.5294 - mse: 4.5774 - val_loss: 5.4104 - val_mae: 1.8078 - val_mse: 5.4104\n",
      "Epoch 151/300\n",
      "3341/3341 [==============================] - 0s 22us/sample - loss: 4.5273 - mae: 1.5106 - mse: 4.5273 - val_loss: 4.6501 - val_mae: 1.4773 - val_mse: 4.6501\n",
      "Epoch 152/300\n",
      "3341/3341 [==============================] - 0s 15us/sample - loss: 4.3975 - mae: 1.5015 - mse: 4.3975 - val_loss: 6.3515 - val_mae: 1.7293 - val_mse: 6.3515\n",
      "Epoch 153/300\n",
      "3341/3341 [==============================] - 0s 15us/sample - loss: 4.4833 - mae: 1.5120 - mse: 4.4833 - val_loss: 5.2319 - val_mae: 1.7173 - val_mse: 5.2319\n",
      "Epoch 154/300\n",
      "3341/3341 [==============================] - 0s 14us/sample - loss: 4.5526 - mae: 1.5309 - mse: 4.5526 - val_loss: 7.7446 - val_mae: 1.9152 - val_mse: 7.7446\n",
      "Epoch 155/300\n",
      "3341/3341 [==============================] - 0s 14us/sample - loss: 4.5645 - mae: 1.5276 - mse: 4.5645 - val_loss: 6.0590 - val_mae: 1.9864 - val_mse: 6.0590\n",
      "Epoch 156/300\n",
      "3341/3341 [==============================] - 0s 14us/sample - loss: 4.5502 - mae: 1.5245 - mse: 4.5502 - val_loss: 5.5146 - val_mae: 1.5854 - val_mse: 5.5146\n",
      "Epoch 157/300\n",
      "3341/3341 [==============================] - 0s 16us/sample - loss: 4.5321 - mae: 1.5199 - mse: 4.5321 - val_loss: 4.6514 - val_mae: 1.4862 - val_mse: 4.6514\n",
      "Epoch 158/300\n",
      "3341/3341 [==============================] - 0s 16us/sample - loss: 4.3940 - mae: 1.4902 - mse: 4.3940 - val_loss: 5.0860 - val_mae: 1.6988 - val_mse: 5.0860\n",
      "Epoch 159/300\n",
      "3341/3341 [==============================] - 0s 16us/sample - loss: 4.6256 - mae: 1.5406 - mse: 4.6256 - val_loss: 5.2979 - val_mae: 1.7799 - val_mse: 5.2979\n",
      "Epoch 160/300\n",
      "3341/3341 [==============================] - 0s 18us/sample - loss: 4.5907 - mae: 1.5335 - mse: 4.5907 - val_loss: 4.7423 - val_mae: 1.4673 - val_mse: 4.7423\n",
      "Epoch 161/300\n",
      "3341/3341 [==============================] - 0s 18us/sample - loss: 4.4955 - mae: 1.5133 - mse: 4.4955 - val_loss: 4.7237 - val_mae: 1.5735 - val_mse: 4.7237\n",
      "Epoch 162/300\n",
      "3341/3341 [==============================] - 0s 24us/sample - loss: 4.4166 - mae: 1.5098 - mse: 4.4166 - val_loss: 4.7015 - val_mae: 1.5517 - val_mse: 4.7015\n",
      "Epoch 163/300\n",
      "3341/3341 [==============================] - 0s 23us/sample - loss: 4.4104 - mae: 1.5067 - mse: 4.4104 - val_loss: 4.6241 - val_mae: 1.4791 - val_mse: 4.6241\n",
      "Epoch 164/300\n",
      "3341/3341 [==============================] - 0s 19us/sample - loss: 4.6176 - mae: 1.5355 - mse: 4.6176 - val_loss: 4.6945 - val_mae: 1.4903 - val_mse: 4.6945\n",
      "Epoch 165/300\n",
      "3341/3341 [==============================] - 0s 17us/sample - loss: 4.3885 - mae: 1.4974 - mse: 4.3885 - val_loss: 4.7706 - val_mae: 1.5869 - val_mse: 4.7706\n",
      "Epoch 166/300\n",
      "3341/3341 [==============================] - 0s 16us/sample - loss: 4.5737 - mae: 1.5275 - mse: 4.5737 - val_loss: 6.5076 - val_mae: 1.7185 - val_mse: 6.5076\n",
      "Epoch 167/300\n",
      "3341/3341 [==============================] - 0s 15us/sample - loss: 4.4804 - mae: 1.4963 - mse: 4.4804 - val_loss: 6.6932 - val_mae: 1.7569 - val_mse: 6.6932\n",
      "Epoch 168/300\n",
      "3341/3341 [==============================] - 0s 14us/sample - loss: 4.6405 - mae: 1.5385 - mse: 4.6405 - val_loss: 5.2008 - val_mae: 1.5265 - val_mse: 5.2008\n",
      "Epoch 169/300\n",
      "3341/3341 [==============================] - 0s 14us/sample - loss: 4.5160 - mae: 1.5256 - mse: 4.5160 - val_loss: 5.9780 - val_mae: 1.6226 - val_mse: 5.9780\n",
      "Epoch 170/300\n",
      "3341/3341 [==============================] - 0s 16us/sample - loss: 4.5192 - mae: 1.5216 - mse: 4.5192 - val_loss: 6.3619 - val_mae: 1.6862 - val_mse: 6.3619\n",
      "Epoch 171/300\n",
      "3341/3341 [==============================] - 0s 16us/sample - loss: 4.6425 - mae: 1.5415 - mse: 4.6425 - val_loss: 9.9329 - val_mae: 2.6796 - val_mse: 9.9329\n",
      "Epoch 172/300\n",
      "3341/3341 [==============================] - 0s 15us/sample - loss: 4.8319 - mae: 1.5831 - mse: 4.8319 - val_loss: 5.2705 - val_mae: 1.5192 - val_mse: 5.2705\n",
      "Epoch 173/300\n",
      "3341/3341 [==============================] - 0s 16us/sample - loss: 4.3981 - mae: 1.4931 - mse: 4.3981 - val_loss: 7.8851 - val_mae: 2.3558 - val_mse: 7.8851\n",
      "Epoch 174/300\n",
      "3341/3341 [==============================] - 0s 16us/sample - loss: 4.5938 - mae: 1.5500 - mse: 4.5938 - val_loss: 9.6805 - val_mae: 2.6141 - val_mse: 9.6805\n",
      "Epoch 175/300\n",
      "3341/3341 [==============================] - 0s 16us/sample - loss: 5.1015 - mae: 1.6250 - mse: 5.1015 - val_loss: 4.6749 - val_mae: 1.5422 - val_mse: 4.6749\n",
      "Epoch 176/300\n",
      "3341/3341 [==============================] - 0s 16us/sample - loss: 4.3796 - mae: 1.4949 - mse: 4.3796 - val_loss: 5.1007 - val_mae: 1.6882 - val_mse: 5.1007\n",
      "Epoch 177/300\n",
      "3341/3341 [==============================] - 0s 14us/sample - loss: 4.6013 - mae: 1.5434 - mse: 4.6013 - val_loss: 5.3416 - val_mae: 1.5393 - val_mse: 5.3416\n",
      "Epoch 178/300\n",
      "3341/3341 [==============================] - 0s 16us/sample - loss: 4.3184 - mae: 1.4770 - mse: 4.3184 - val_loss: 6.8952 - val_mae: 2.1609 - val_mse: 6.8952\n",
      "Epoch 179/300\n",
      "3341/3341 [==============================] - 0s 14us/sample - loss: 4.7535 - mae: 1.5655 - mse: 4.7535 - val_loss: 5.0515 - val_mae: 1.5034 - val_mse: 5.0515\n",
      "Epoch 180/300\n",
      "3341/3341 [==============================] - 0s 22us/sample - loss: 4.4258 - mae: 1.5008 - mse: 4.4258 - val_loss: 4.7413 - val_mae: 1.4757 - val_mse: 4.7413\n",
      "Epoch 181/300\n",
      "3341/3341 [==============================] - 0s 21us/sample - loss: 4.3798 - mae: 1.4927 - mse: 4.3798 - val_loss: 5.2760 - val_mae: 1.5337 - val_mse: 5.2760\n",
      "Epoch 182/300\n",
      "3341/3341 [==============================] - 0s 20us/sample - loss: 4.4703 - mae: 1.5115 - mse: 4.4703 - val_loss: 5.5643 - val_mae: 1.5935 - val_mse: 5.5643\n",
      "Epoch 183/300\n",
      "3341/3341 [==============================] - 0s 20us/sample - loss: 4.4403 - mae: 1.4934 - mse: 4.4403 - val_loss: 5.6843 - val_mae: 1.8818 - val_mse: 5.6843\n",
      "Epoch 184/300\n",
      "3341/3341 [==============================] - 0s 21us/sample - loss: 4.4549 - mae: 1.5159 - mse: 4.4549 - val_loss: 5.9994 - val_mae: 1.9466 - val_mse: 5.9994\n",
      "Epoch 185/300\n",
      "3341/3341 [==============================] - 0s 24us/sample - loss: 4.5150 - mae: 1.5280 - mse: 4.5150 - val_loss: 4.7680 - val_mae: 1.4800 - val_mse: 4.7680\n",
      "Epoch 186/300\n",
      "3341/3341 [==============================] - 0s 25us/sample - loss: 4.3584 - mae: 1.4912 - mse: 4.3584 - val_loss: 5.0262 - val_mae: 1.6839 - val_mse: 5.0262\n",
      "Epoch 187/300\n",
      "3341/3341 [==============================] - 0s 26us/sample - loss: 4.4464 - mae: 1.5063 - mse: 4.4464 - val_loss: 4.7239 - val_mae: 1.5602 - val_mse: 4.7239\n",
      "Epoch 188/300\n",
      "3341/3341 [==============================] - 0s 25us/sample - loss: 4.3752 - mae: 1.4914 - mse: 4.3752 - val_loss: 4.7344 - val_mae: 1.5655 - val_mse: 4.7344\n",
      "Epoch 189/300\n",
      "3341/3341 [==============================] - 0s 26us/sample - loss: 4.3796 - mae: 1.4936 - mse: 4.3796 - val_loss: 5.5018 - val_mae: 1.5551 - val_mse: 5.5018\n",
      "Epoch 190/300\n"
     ]
    },
    {
     "name": "stdout",
     "output_type": "stream",
     "text": [
      "3341/3341 [==============================] - 0s 23us/sample - loss: 4.4639 - mae: 1.5076 - mse: 4.4639 - val_loss: 5.2325 - val_mae: 1.5433 - val_mse: 5.2325\n",
      "Epoch 191/300\n",
      "3341/3341 [==============================] - 0s 22us/sample - loss: 4.4866 - mae: 1.5151 - mse: 4.4866 - val_loss: 5.3613 - val_mae: 1.5299 - val_mse: 5.3613\n",
      "Epoch 192/300\n",
      "3341/3341 [==============================] - 0s 22us/sample - loss: 4.4275 - mae: 1.4961 - mse: 4.4275 - val_loss: 6.2827 - val_mae: 1.7004 - val_mse: 6.2827\n",
      "Epoch 193/300\n",
      "3341/3341 [==============================] - 0s 20us/sample - loss: 4.4025 - mae: 1.4958 - mse: 4.4025 - val_loss: 5.1225 - val_mae: 1.7063 - val_mse: 5.1225\n",
      "Epoch 194/300\n",
      "3341/3341 [==============================] - 0s 21us/sample - loss: 4.4276 - mae: 1.5092 - mse: 4.4276 - val_loss: 6.0356 - val_mae: 1.9162 - val_mse: 6.0356\n",
      "Epoch 195/300\n",
      "3341/3341 [==============================] - 0s 20us/sample - loss: 4.5663 - mae: 1.5376 - mse: 4.5663 - val_loss: 4.7992 - val_mae: 1.6049 - val_mse: 4.7992\n",
      "Epoch 196/300\n",
      "3341/3341 [==============================] - 0s 23us/sample - loss: 4.5138 - mae: 1.5215 - mse: 4.5138 - val_loss: 4.7261 - val_mae: 1.5676 - val_mse: 4.7261\n",
      "Epoch 197/300\n",
      "3341/3341 [==============================] - 0s 23us/sample - loss: 4.4318 - mae: 1.5040 - mse: 4.4318 - val_loss: 5.2318 - val_mae: 1.6586 - val_mse: 5.2318\n",
      "Epoch 198/300\n",
      "3341/3341 [==============================] - 0s 28us/sample - loss: 4.5207 - mae: 1.5126 - mse: 4.5207 - val_loss: 7.4803 - val_mae: 2.2796 - val_mse: 7.4803\n",
      "Epoch 199/300\n",
      "3341/3341 [==============================] - 0s 29us/sample - loss: 4.6747 - mae: 1.5507 - mse: 4.6747 - val_loss: 6.7640 - val_mae: 1.8086 - val_mse: 6.7640\n",
      "Epoch 200/300\n",
      "3341/3341 [==============================] - 0s 27us/sample - loss: 4.5686 - mae: 1.5114 - mse: 4.5686 - val_loss: 6.3853 - val_mae: 1.7449 - val_mse: 6.3853\n",
      "Epoch 201/300\n",
      "3341/3341 [==============================] - 0s 23us/sample - loss: 4.4428 - mae: 1.5026 - mse: 4.4428 - val_loss: 4.8618 - val_mae: 1.6317 - val_mse: 4.8618\n",
      "Epoch 202/300\n",
      "3341/3341 [==============================] - 0s 19us/sample - loss: 4.4198 - mae: 1.5075 - mse: 4.4198 - val_loss: 5.3123 - val_mae: 1.5409 - val_mse: 5.3123\n",
      "Epoch 203/300\n",
      "3341/3341 [==============================] - 0s 18us/sample - loss: 4.4726 - mae: 1.4975 - mse: 4.4726 - val_loss: 9.6246 - val_mae: 2.6104 - val_mse: 9.6246\n",
      "Epoch 204/300\n",
      "3341/3341 [==============================] - 0s 21us/sample - loss: 4.8499 - mae: 1.5758 - mse: 4.8499 - val_loss: 4.7762 - val_mae: 1.4951 - val_mse: 4.7762\n",
      "Epoch 205/300\n",
      "3341/3341 [==============================] - 0s 23us/sample - loss: 4.4786 - mae: 1.5035 - mse: 4.4786 - val_loss: 4.7038 - val_mae: 1.5563 - val_mse: 4.7038\n",
      "Epoch 206/300\n",
      "3341/3341 [==============================] - 0s 22us/sample - loss: 4.4458 - mae: 1.5036 - mse: 4.4458 - val_loss: 5.3260 - val_mae: 1.7129 - val_mse: 5.3260\n",
      "Epoch 207/300\n",
      "3341/3341 [==============================] - 0s 17us/sample - loss: 4.4245 - mae: 1.5034 - mse: 4.4245 - val_loss: 4.7648 - val_mae: 1.5612 - val_mse: 4.7648\n",
      "Epoch 208/300\n",
      "3341/3341 [==============================] - 0s 27us/sample - loss: 4.3758 - mae: 1.4951 - mse: 4.3758 - val_loss: 5.0219 - val_mae: 1.5639 - val_mse: 5.0219\n",
      "Epoch 209/300\n",
      "3341/3341 [==============================] - 0s 31us/sample - loss: 4.4761 - mae: 1.5090 - mse: 4.4761 - val_loss: 4.8780 - val_mae: 1.4879 - val_mse: 4.8780\n",
      "Epoch 210/300\n",
      "3341/3341 [==============================] - 0s 35us/sample - loss: 4.3550 - mae: 1.4959 - mse: 4.3550 - val_loss: 4.7384 - val_mae: 1.4634 - val_mse: 4.7384\n",
      "Epoch 211/300\n",
      "3341/3341 [==============================] - 0s 24us/sample - loss: 4.4091 - mae: 1.5022 - mse: 4.4091 - val_loss: 7.1230 - val_mae: 2.1903 - val_mse: 7.1230\n",
      "Epoch 212/300\n",
      "3341/3341 [==============================] - 0s 22us/sample - loss: 4.6809 - mae: 1.5639 - mse: 4.6809 - val_loss: 5.7283 - val_mae: 1.6170 - val_mse: 5.7283\n",
      "Epoch 213/300\n",
      "3341/3341 [==============================] - 0s 22us/sample - loss: 4.4629 - mae: 1.5070 - mse: 4.4629 - val_loss: 4.9364 - val_mae: 1.6245 - val_mse: 4.9364\n",
      "Epoch 214/300\n",
      "3341/3341 [==============================] - 0s 20us/sample - loss: 4.4678 - mae: 1.5140 - mse: 4.4678 - val_loss: 4.7683 - val_mae: 1.4729 - val_mse: 4.7683\n",
      "Epoch 215/300\n",
      "3341/3341 [==============================] - 0s 31us/sample - loss: 4.3260 - mae: 1.4790 - mse: 4.3260 - val_loss: 4.7051 - val_mae: 1.5722 - val_mse: 4.7051\n",
      "Epoch 216/300\n",
      "3341/3341 [==============================] - 0s 40us/sample - loss: 4.3830 - mae: 1.4982 - mse: 4.3830 - val_loss: 5.4733 - val_mae: 1.6034 - val_mse: 5.4733\n",
      "Epoch 217/300\n",
      "3341/3341 [==============================] - 0s 34us/sample - loss: 4.3859 - mae: 1.4900 - mse: 4.3859 - val_loss: 6.3696 - val_mae: 1.7223 - val_mse: 6.3696\n",
      "Epoch 218/300\n",
      "3341/3341 [==============================] - 0s 33us/sample - loss: 4.4456 - mae: 1.4997 - mse: 4.4456 - val_loss: 5.3442 - val_mae: 1.5695 - val_mse: 5.3442\n",
      "Epoch 219/300\n",
      "3341/3341 [==============================] - 0s 28us/sample - loss: 4.5594 - mae: 1.5192 - mse: 4.5594 - val_loss: 4.7016 - val_mae: 1.5708 - val_mse: 4.7016\n",
      "Epoch 220/300\n",
      "3341/3341 [==============================] - 0s 30us/sample - loss: 4.3521 - mae: 1.4893 - mse: 4.3521 - val_loss: 4.5722 - val_mae: 1.4919 - val_mse: 4.5722\n",
      "Epoch 221/300\n",
      "3341/3341 [==============================] - 0s 22us/sample - loss: 4.4566 - mae: 1.5071 - mse: 4.4566 - val_loss: 4.6387 - val_mae: 1.4770 - val_mse: 4.6387\n",
      "Epoch 222/300\n",
      "3341/3341 [==============================] - 0s 21us/sample - loss: 4.3583 - mae: 1.4924 - mse: 4.3583 - val_loss: 7.2723 - val_mae: 1.8720 - val_mse: 7.2723\n",
      "Epoch 223/300\n",
      "3341/3341 [==============================] - 0s 19us/sample - loss: 4.4609 - mae: 1.5018 - mse: 4.4609 - val_loss: 4.7960 - val_mae: 1.5619 - val_mse: 4.7960\n",
      "Epoch 224/300\n",
      "3341/3341 [==============================] - 0s 19us/sample - loss: 4.4342 - mae: 1.4965 - mse: 4.4342 - val_loss: 4.5838 - val_mae: 1.5102 - val_mse: 4.5838\n",
      "Epoch 225/300\n",
      "3341/3341 [==============================] - 0s 20us/sample - loss: 4.3956 - mae: 1.4972 - mse: 4.3956 - val_loss: 5.3705 - val_mae: 1.7938 - val_mse: 5.3705\n",
      "Epoch 226/300\n",
      "3341/3341 [==============================] - 0s 17us/sample - loss: 4.3736 - mae: 1.4938 - mse: 4.3736 - val_loss: 6.5987 - val_mae: 1.7893 - val_mse: 6.5987\n",
      "Epoch 227/300\n",
      "3341/3341 [==============================] - 0s 18us/sample - loss: 4.3607 - mae: 1.4866 - mse: 4.3607 - val_loss: 5.8017 - val_mae: 1.6270 - val_mse: 5.8017\n",
      "Epoch 228/300\n",
      "3341/3341 [==============================] - 0s 23us/sample - loss: 4.4578 - mae: 1.5043 - mse: 4.4578 - val_loss: 4.5521 - val_mae: 1.4916 - val_mse: 4.5521\n",
      "Epoch 229/300\n",
      "3341/3341 [==============================] - 0s 28us/sample - loss: 4.3759 - mae: 1.4964 - mse: 4.3759 - val_loss: 4.9252 - val_mae: 1.6723 - val_mse: 4.9252\n",
      "Epoch 230/300\n",
      "3341/3341 [==============================] - 0s 26us/sample - loss: 4.3241 - mae: 1.4787 - mse: 4.3241 - val_loss: 4.5578 - val_mae: 1.4887 - val_mse: 4.5578\n",
      "Epoch 231/300\n",
      "3341/3341 [==============================] - 0s 21us/sample - loss: 4.3843 - mae: 1.4901 - mse: 4.3843 - val_loss: 4.6649 - val_mae: 1.5430 - val_mse: 4.6649\n",
      "Epoch 232/300\n",
      "3341/3341 [==============================] - 0s 18us/sample - loss: 4.4283 - mae: 1.4952 - mse: 4.4283 - val_loss: 4.5722 - val_mae: 1.5211 - val_mse: 4.5722\n",
      "Epoch 233/300\n",
      "3341/3341 [==============================] - 0s 17us/sample - loss: 4.3552 - mae: 1.4885 - mse: 4.3552 - val_loss: 4.8198 - val_mae: 1.5562 - val_mse: 4.8198\n",
      "Epoch 234/300\n",
      "3341/3341 [==============================] - 0s 26us/sample - loss: 4.3961 - mae: 1.5005 - mse: 4.3961 - val_loss: 8.7207 - val_mae: 2.4464 - val_mse: 8.7207\n",
      "Epoch 235/300\n",
      "3341/3341 [==============================] - 0s 25us/sample - loss: 4.8125 - mae: 1.5743 - mse: 4.8125 - val_loss: 4.8196 - val_mae: 1.6211 - val_mse: 4.8196\n",
      "Epoch 236/300\n",
      "3341/3341 [==============================] - 0s 25us/sample - loss: 4.3385 - mae: 1.4900 - mse: 4.3385 - val_loss: 4.6423 - val_mae: 1.5333 - val_mse: 4.6423\n",
      "Epoch 237/300\n",
      "3341/3341 [==============================] - 0s 24us/sample - loss: 4.4131 - mae: 1.5033 - mse: 4.4131 - val_loss: 5.0634 - val_mae: 1.7043 - val_mse: 5.0634\n"
     ]
    },
    {
     "name": "stdout",
     "output_type": "stream",
     "text": [
      "Epoch 238/300\n",
      "3341/3341 [==============================] - 0s 25us/sample - loss: 4.3665 - mae: 1.4969 - mse: 4.3665 - val_loss: 5.5657 - val_mae: 1.5542 - val_mse: 5.5657\n",
      "Epoch 239/300\n",
      "3341/3341 [==============================] - 0s 21us/sample - loss: 4.4808 - mae: 1.5082 - mse: 4.4808 - val_loss: 5.3161 - val_mae: 1.5353 - val_mse: 5.3161\n",
      "Epoch 240/300\n",
      "3341/3341 [==============================] - 0s 20us/sample - loss: 4.2999 - mae: 1.4765 - mse: 4.2999 - val_loss: 4.6448 - val_mae: 1.5337 - val_mse: 4.6448\n",
      "Epoch 241/300\n",
      "3341/3341 [==============================] - 0s 20us/sample - loss: 4.3060 - mae: 1.4801 - mse: 4.3060 - val_loss: 6.7779 - val_mae: 2.1011 - val_mse: 6.7779\n",
      "Epoch 242/300\n",
      "3341/3341 [==============================] - 0s 32us/sample - loss: 4.4611 - mae: 1.5256 - mse: 4.4611 - val_loss: 5.2458 - val_mae: 1.7560 - val_mse: 5.2458\n",
      "Epoch 243/300\n",
      "3341/3341 [==============================] - 0s 25us/sample - loss: 4.3887 - mae: 1.4968 - mse: 4.3887 - val_loss: 5.2434 - val_mae: 1.5357 - val_mse: 5.2434\n",
      "Epoch 244/300\n",
      "3341/3341 [==============================] - 0s 23us/sample - loss: 4.4284 - mae: 1.5035 - mse: 4.4284 - val_loss: 4.7428 - val_mae: 1.4911 - val_mse: 4.7428\n",
      "Epoch 245/300\n",
      "3341/3341 [==============================] - 0s 24us/sample - loss: 4.3097 - mae: 1.4813 - mse: 4.3097 - val_loss: 4.9433 - val_mae: 1.5166 - val_mse: 4.9433\n",
      "Epoch 246/300\n",
      "3341/3341 [==============================] - 0s 26us/sample - loss: 4.5156 - mae: 1.5152 - mse: 4.5156 - val_loss: 6.3799 - val_mae: 2.0187 - val_mse: 6.3799\n",
      "Epoch 247/300\n",
      "3341/3341 [==============================] - 0s 24us/sample - loss: 4.4433 - mae: 1.5085 - mse: 4.4433 - val_loss: 6.2327 - val_mae: 1.9385 - val_mse: 6.2327\n",
      "Epoch 248/300\n",
      "3341/3341 [==============================] - 0s 25us/sample - loss: 4.5155 - mae: 1.5175 - mse: 4.5155 - val_loss: 7.5366 - val_mae: 1.9327 - val_mse: 7.5366\n",
      "Epoch 249/300\n",
      "3341/3341 [==============================] - 0s 24us/sample - loss: 4.3995 - mae: 1.4854 - mse: 4.3995 - val_loss: 5.6728 - val_mae: 1.8622 - val_mse: 5.6728\n",
      "Epoch 250/300\n",
      "3341/3341 [==============================] - 0s 25us/sample - loss: 4.4268 - mae: 1.5075 - mse: 4.4268 - val_loss: 7.2424 - val_mae: 1.9008 - val_mse: 7.2424\n",
      "Epoch 251/300\n",
      "3341/3341 [==============================] - 0s 27us/sample - loss: 4.6056 - mae: 1.5311 - mse: 4.6056 - val_loss: 6.4212 - val_mae: 1.7432 - val_mse: 6.4212\n",
      "Epoch 252/300\n",
      "3341/3341 [==============================] - 0s 25us/sample - loss: 4.4015 - mae: 1.4895 - mse: 4.4015 - val_loss: 4.7988 - val_mae: 1.4928 - val_mse: 4.7988\n",
      "Epoch 253/300\n",
      "3341/3341 [==============================] - 0s 18us/sample - loss: 4.3202 - mae: 1.4822 - mse: 4.3202 - val_loss: 4.9334 - val_mae: 1.5320 - val_mse: 4.9334\n",
      "Epoch 254/300\n",
      "3341/3341 [==============================] - 0s 25us/sample - loss: 4.3147 - mae: 1.4760 - mse: 4.3147 - val_loss: 4.5409 - val_mae: 1.4716 - val_mse: 4.5409\n",
      "Epoch 255/300\n",
      "3341/3341 [==============================] - 0s 26us/sample - loss: 4.3241 - mae: 1.4740 - mse: 4.3241 - val_loss: 7.6654 - val_mae: 1.9596 - val_mse: 7.6654\n",
      "Epoch 256/300\n",
      "3341/3341 [==============================] - 0s 25us/sample - loss: 4.4953 - mae: 1.5168 - mse: 4.4953 - val_loss: 5.0573 - val_mae: 1.5337 - val_mse: 5.0573\n",
      "Epoch 257/300\n",
      "3341/3341 [==============================] - 0s 31us/sample - loss: 4.3925 - mae: 1.4968 - mse: 4.3925 - val_loss: 4.8403 - val_mae: 1.5846 - val_mse: 4.8403\n",
      "Epoch 258/300\n",
      "3341/3341 [==============================] - 0s 35us/sample - loss: 4.3325 - mae: 1.4892 - mse: 4.3325 - val_loss: 4.5982 - val_mae: 1.5316 - val_mse: 4.5982\n",
      "Epoch 259/300\n",
      "3341/3341 [==============================] - 0s 28us/sample - loss: 4.3111 - mae: 1.4826 - mse: 4.3111 - val_loss: 4.6100 - val_mae: 1.5000 - val_mse: 4.6100\n",
      "Epoch 260/300\n",
      "3341/3341 [==============================] - 0s 30us/sample - loss: 4.3447 - mae: 1.4893 - mse: 4.3447 - val_loss: 4.5550 - val_mae: 1.4791 - val_mse: 4.5550\n",
      "Epoch 261/300\n",
      "3341/3341 [==============================] - 0s 26us/sample - loss: 4.3306 - mae: 1.4835 - mse: 4.3306 - val_loss: 4.6690 - val_mae: 1.5189 - val_mse: 4.6690\n",
      "Epoch 262/300\n",
      "3341/3341 [==============================] - 0s 27us/sample - loss: 4.3993 - mae: 1.4985 - mse: 4.3993 - val_loss: 4.5725 - val_mae: 1.5279 - val_mse: 4.5725\n",
      "Epoch 263/300\n",
      "3341/3341 [==============================] - 0s 21us/sample - loss: 4.4470 - mae: 1.5106 - mse: 4.4470 - val_loss: 4.6901 - val_mae: 1.5703 - val_mse: 4.6901\n",
      "Epoch 264/300\n",
      "3341/3341 [==============================] - 0s 39us/sample - loss: 4.3510 - mae: 1.4931 - mse: 4.3510 - val_loss: 4.9364 - val_mae: 1.6580 - val_mse: 4.9364\n",
      "Epoch 265/300\n",
      "3341/3341 [==============================] - 0s 44us/sample - loss: 4.3876 - mae: 1.4986 - mse: 4.3876 - val_loss: 5.3673 - val_mae: 1.5419 - val_mse: 5.3673\n",
      "Epoch 266/300\n",
      "3341/3341 [==============================] - 0s 29us/sample - loss: 4.3539 - mae: 1.4853 - mse: 4.3539 - val_loss: 4.9936 - val_mae: 1.4998 - val_mse: 4.9936\n",
      "Epoch 267/300\n",
      "3341/3341 [==============================] - 0s 21us/sample - loss: 4.3956 - mae: 1.5013 - mse: 4.3956 - val_loss: 4.6949 - val_mae: 1.4671 - val_mse: 4.6949\n",
      "Epoch 268/300\n",
      "3341/3341 [==============================] - 0s 17us/sample - loss: 4.3807 - mae: 1.4946 - mse: 4.3807 - val_loss: 4.9074 - val_mae: 1.5458 - val_mse: 4.9074\n",
      "Epoch 269/300\n",
      "3341/3341 [==============================] - 0s 17us/sample - loss: 4.3093 - mae: 1.4808 - mse: 4.3093 - val_loss: 5.1848 - val_mae: 1.7326 - val_mse: 5.1848\n",
      "Epoch 270/300\n",
      "3341/3341 [==============================] - 0s 26us/sample - loss: 4.4185 - mae: 1.5154 - mse: 4.4185 - val_loss: 5.4182 - val_mae: 1.5511 - val_mse: 5.4182\n",
      "Epoch 271/300\n",
      "3341/3341 [==============================] - 0s 27us/sample - loss: 4.3044 - mae: 1.4779 - mse: 4.3044 - val_loss: 7.4429 - val_mae: 2.2258 - val_mse: 7.4429\n",
      "Epoch 272/300\n",
      "3341/3341 [==============================] - 0s 28us/sample - loss: 4.4842 - mae: 1.5120 - mse: 4.4842 - val_loss: 7.2339 - val_mae: 2.1597 - val_mse: 7.2339\n",
      "Epoch 273/300\n",
      "3341/3341 [==============================] - 0s 25us/sample - loss: 4.3776 - mae: 1.5012 - mse: 4.3776 - val_loss: 8.0504 - val_mae: 2.3420 - val_mse: 8.0504\n",
      "Epoch 274/300\n",
      "3341/3341 [==============================] - 0s 27us/sample - loss: 4.5257 - mae: 1.5283 - mse: 4.5257 - val_loss: 4.6603 - val_mae: 1.4618 - val_mse: 4.6603\n",
      "Epoch 275/300\n",
      "3341/3341 [==============================] - 0s 27us/sample - loss: 4.3066 - mae: 1.4820 - mse: 4.3066 - val_loss: 4.5506 - val_mae: 1.4744 - val_mse: 4.5506\n",
      "Epoch 276/300\n",
      "3341/3341 [==============================] - 0s 25us/sample - loss: 4.4706 - mae: 1.4999 - mse: 4.4706 - val_loss: 4.6697 - val_mae: 1.4839 - val_mse: 4.6697\n",
      "Epoch 277/300\n",
      "3341/3341 [==============================] - 0s 28us/sample - loss: 4.2754 - mae: 1.4717 - mse: 4.2754 - val_loss: 6.2678 - val_mae: 1.9565 - val_mse: 6.2678\n",
      "Epoch 278/300\n",
      "3341/3341 [==============================] - 0s 25us/sample - loss: 4.4115 - mae: 1.5032 - mse: 4.4115 - val_loss: 6.3536 - val_mae: 1.7415 - val_mse: 6.3536\n",
      "Epoch 279/300\n",
      "3341/3341 [==============================] - 0s 28us/sample - loss: 4.3361 - mae: 1.4814 - mse: 4.3361 - val_loss: 5.8360 - val_mae: 1.6397 - val_mse: 5.8360\n",
      "Epoch 280/300\n",
      "3341/3341 [==============================] - 0s 24us/sample - loss: 4.3028 - mae: 1.4800 - mse: 4.3028 - val_loss: 4.5457 - val_mae: 1.4935 - val_mse: 4.5457\n",
      "Epoch 281/300\n",
      "3341/3341 [==============================] - 0s 26us/sample - loss: 4.3489 - mae: 1.4891 - mse: 4.3489 - val_loss: 4.6452 - val_mae: 1.5338 - val_mse: 4.6452\n",
      "Epoch 282/300\n",
      "3341/3341 [==============================] - 0s 25us/sample - loss: 4.3821 - mae: 1.4968 - mse: 4.3821 - val_loss: 4.5549 - val_mae: 1.4703 - val_mse: 4.5549\n",
      "Epoch 283/300\n",
      "3341/3341 [==============================] - 0s 27us/sample - loss: 4.2932 - mae: 1.4754 - mse: 4.2932 - val_loss: 4.6846 - val_mae: 1.5549 - val_mse: 4.6846\n",
      "Epoch 284/300\n",
      "3341/3341 [==============================] - 0s 26us/sample - loss: 4.2938 - mae: 1.4833 - mse: 4.2938 - val_loss: 7.3740 - val_mae: 1.9027 - val_mse: 7.3740\n",
      "Epoch 285/300\n"
     ]
    },
    {
     "name": "stdout",
     "output_type": "stream",
     "text": [
      "3341/3341 [==============================] - 0s 24us/sample - loss: 4.3962 - mae: 1.4861 - mse: 4.3962 - val_loss: 4.6370 - val_mae: 1.5377 - val_mse: 4.6370\n",
      "Epoch 286/300\n",
      "3341/3341 [==============================] - 0s 22us/sample - loss: 4.3479 - mae: 1.4934 - mse: 4.3479 - val_loss: 4.7140 - val_mae: 1.4788 - val_mse: 4.7140\n",
      "Epoch 287/300\n",
      "3341/3341 [==============================] - 0s 20us/sample - loss: 4.3307 - mae: 1.4843 - mse: 4.3307 - val_loss: 4.7846 - val_mae: 1.6202 - val_mse: 4.7846\n",
      "Epoch 288/300\n",
      "3341/3341 [==============================] - 0s 19us/sample - loss: 4.4151 - mae: 1.5058 - mse: 4.4151 - val_loss: 7.0077 - val_mae: 1.8009 - val_mse: 7.0077\n",
      "Epoch 289/300\n",
      "3341/3341 [==============================] - 0s 19us/sample - loss: 4.4265 - mae: 1.4909 - mse: 4.4265 - val_loss: 4.6559 - val_mae: 1.4592 - val_mse: 4.6559\n",
      "Epoch 290/300\n",
      "3341/3341 [==============================] - 0s 21us/sample - loss: 4.2770 - mae: 1.4703 - mse: 4.2770 - val_loss: 4.6037 - val_mae: 1.5142 - val_mse: 4.6037\n",
      "Epoch 291/300\n",
      "3341/3341 [==============================] - 0s 21us/sample - loss: 4.4606 - mae: 1.5059 - mse: 4.4606 - val_loss: 11.9153 - val_mae: 2.9982 - val_mse: 11.9153\n",
      "Epoch 292/300\n",
      "3341/3341 [==============================] - 0s 20us/sample - loss: 4.5785 - mae: 1.5276 - mse: 4.5785 - val_loss: 5.2259 - val_mae: 1.7505 - val_mse: 5.2259\n",
      "Epoch 293/300\n",
      "3341/3341 [==============================] - 0s 23us/sample - loss: 4.3020 - mae: 1.4868 - mse: 4.3020 - val_loss: 5.0095 - val_mae: 1.6892 - val_mse: 5.0095\n",
      "Epoch 294/300\n",
      "3341/3341 [==============================] - 0s 27us/sample - loss: 4.3226 - mae: 1.4916 - mse: 4.3226 - val_loss: 4.7347 - val_mae: 1.4657 - val_mse: 4.7347\n",
      "Epoch 295/300\n",
      "3341/3341 [==============================] - 0s 28us/sample - loss: 4.3707 - mae: 1.4815 - mse: 4.3707 - val_loss: 4.6068 - val_mae: 1.4600 - val_mse: 4.6068\n",
      "Epoch 296/300\n",
      "3341/3341 [==============================] - 0s 25us/sample - loss: 4.3127 - mae: 1.4778 - mse: 4.3127 - val_loss: 4.7521 - val_mae: 1.4687 - val_mse: 4.7521\n",
      "Epoch 297/300\n",
      "3341/3341 [==============================] - 0s 24us/sample - loss: 4.3183 - mae: 1.4888 - mse: 4.3183 - val_loss: 4.7446 - val_mae: 1.4681 - val_mse: 4.7446\n",
      "Epoch 298/300\n",
      "3341/3341 [==============================] - 0s 27us/sample - loss: 4.4190 - mae: 1.5000 - mse: 4.4190 - val_loss: 5.7093 - val_mae: 1.6334 - val_mse: 5.7093\n",
      "Epoch 299/300\n",
      "3341/3341 [==============================] - 0s 29us/sample - loss: 4.3748 - mae: 1.4911 - mse: 4.3748 - val_loss: 5.3047 - val_mae: 1.5547 - val_mse: 5.3047\n",
      "Epoch 300/300\n",
      "3341/3341 [==============================] - 0s 27us/sample - loss: 4.3536 - mae: 1.4759 - mse: 4.3536 - val_loss: 6.5543 - val_mae: 1.7272 - val_mse: 6.5543\n"
     ]
    }
   ],
   "source": [
    "history = model.fit(X_train, y_train, \n",
    "                     epochs=300,\n",
    "                     batch_size=128,\n",
    "                     validation_data=(X_test, y_test),\n",
    "                     verbose = 1\n",
    "                    )"
   ]
  },
  {
   "cell_type": "code",
   "execution_count": 32,
   "metadata": {},
   "outputs": [
    {
     "data": {
      "text/plain": [
       "<matplotlib.legend.Legend at 0x13d1fa7d0>"
      ]
     },
     "execution_count": 32,
     "metadata": {},
     "output_type": "execute_result"
    },
    {
     "data": {
      "image/png": "[encoded data removed]",
      "text/plain": [
       "<Figure size 432x288 with 1 Axes>"
      ]
     },
     "metadata": {
      "needs_background": "light"
     },
     "output_type": "display_data"
    }
   ],
   "source": [
    "hist = pd.DataFrame(history.history)\n",
    "hist['epoch'] = history.epoch\n",
    "\n",
    "plt.xlabel('Epoch')\n",
    "plt.ylabel('Mean Abs Error [MPG]')\n",
    "plt.plot(hist['epoch'], hist['mae'], label='Train Error')\n",
    "plt.plot(hist['epoch'], hist['val_mae'], label='val Error')\n",
    "plt.ylim(0, 5)\n",
    "plt.legend()"
   ]
  },
  {
   "cell_type": "code",
   "execution_count": 33,
   "metadata": {},
   "outputs": [
    {
     "data": {
      "text/plain": [
       "<matplotlib.legend.Legend at 0x13dd8ba50>"
      ]
     },
     "execution_count": 33,
     "metadata": {},
     "output_type": "execute_result"
    },
    {
     "data": {
      "image/png": "[encoded data removed]",
      "text/plain": [
       "<Figure size 432x288 with 1 Axes>"
      ]
     },
     "metadata": {
      "needs_background": "light"
     },
     "output_type": "display_data"
    }
   ],
   "source": [
    "plt.xlabel('Epoch')\n",
    "plt.ylabel('Mean Square Error [$MPG^2$]')\n",
    "plt.plot(hist['epoch'], hist['mse'], label='Train Error')\n",
    "plt.plot(hist['epoch'], hist['val_mse'], label='val Error')\n",
    "plt.ylim(0, 30)\n",
    "plt.legend()"
   ]
  },
  {
   "cell_type": "code",
   "execution_count": 34,
   "metadata": {
    "scrolled": true
   },
   "outputs": [
    {
     "name": "stdout",
     "output_type": "stream",
     "text": [
      "WARNING:tensorflow:Falling back from v2 loop because of error: Failed to find data adapter that can handle input: <class 'pandas.core.frame.DataFrame'>, <class 'NoneType'>\n",
      "836/836 [==============================] - 0s 33us/sample - loss: 6.5543 - mae: 1.7272 - mse: 6.5543\n"
     ]
    },
    {
     "data": {
      "text/plain": [
       "2.5601316532912595"
      ]
     },
     "execution_count": 34,
     "metadata": {},
     "output_type": "execute_result"
    }
   ],
   "source": [
    "loss, mae, mse = model.evaluate(X_test, y_test)\n",
    "mse**0.5"
   ]
  },
  {
   "cell_type": "markdown",
   "metadata": {},
   "source": [
    "## model_3 add layer"
   ]
  },
  {
   "cell_type": "code",
   "execution_count": 35,
   "metadata": {},
   "outputs": [],
   "source": [
    "model = keras.Sequential([\n",
    "    layers.Dense(64, activation='relu', input_shape=[8]),\n",
    "    layers.Dense(128, activation='relu'),\n",
    "    layers.Dense(256, activation='relu'),\n",
    "    layers.Dense(64, activation='relu'),\n",
    "    layers.Dense(1)\n",
    "])"
   ]
  },
  {
   "cell_type": "code",
   "execution_count": 36,
   "metadata": {},
   "outputs": [
    {
     "name": "stdout",
     "output_type": "stream",
     "text": [
      "Model: \"sequential_2\"\n",
      "_________________________________________________________________\n",
      "Layer (type)                 Output Shape              Param #   \n",
      "=================================================================\n",
      "dense_6 (Dense)              (None, 64)                576       \n",
      "_________________________________________________________________\n",
      "dense_7 (Dense)              (None, 128)               8320      \n",
      "_________________________________________________________________\n",
      "dense_8 (Dense)              (None, 256)               33024     \n",
      "_________________________________________________________________\n",
      "dense_9 (Dense)              (None, 64)                16448     \n",
      "_________________________________________________________________\n",
      "dense_10 (Dense)             (None, 1)                 65        \n",
      "=================================================================\n",
      "Total params: 58,433\n",
      "Trainable params: 58,433\n",
      "Non-trainable params: 0\n",
      "_________________________________________________________________\n"
     ]
    }
   ],
   "source": [
    "model.summary()"
   ]
  },
  {
   "cell_type": "code",
   "execution_count": 37,
   "metadata": {},
   "outputs": [],
   "source": [
    "model.compile(optimizer='sgd', loss='mse', metrics=['mae', 'mse'])"
   ]
  },
  {
   "cell_type": "code",
   "execution_count": 38,
   "metadata": {},
   "outputs": [
    {
     "name": "stdout",
     "output_type": "stream",
     "text": [
      "WARNING:tensorflow:Falling back from v2 loop because of error: Failed to find data adapter that can handle input: <class 'pandas.core.frame.DataFrame'>, <class 'NoneType'>\n",
      "Train on 3341 samples, validate on 836 samples\n",
      "Epoch 1/100\n",
      "3341/3341 [==============================] - 0s 61us/sample - loss: 41.9158 - mae: 5.1822 - mse: 41.9158 - val_loss: 18.3676 - val_mae: 3.2404 - val_mse: 18.3676\n",
      "Epoch 2/100\n",
      "3341/3341 [==============================] - 0s 30us/sample - loss: 8.9374 - mae: 2.2264 - mse: 8.9374 - val_loss: 8.5490 - val_mae: 1.9073 - val_mse: 8.5490\n",
      "Epoch 3/100\n",
      "3341/3341 [==============================] - 0s 34us/sample - loss: 8.0771 - mae: 2.1053 - mse: 8.0771 - val_loss: 9.3651 - val_mae: 2.6343 - val_mse: 9.3651\n",
      "Epoch 4/100\n",
      "3341/3341 [==============================] - 0s 30us/sample - loss: 8.2990 - mae: 2.1236 - mse: 8.2990 - val_loss: 6.8253 - val_mae: 1.9763 - val_mse: 6.8253\n",
      "Epoch 5/100\n",
      "3341/3341 [==============================] - 0s 27us/sample - loss: 7.5622 - mae: 2.0203 - mse: 7.5622 - val_loss: 6.5244 - val_mae: 1.8340 - val_mse: 6.5244\n",
      "Epoch 6/100\n",
      "3341/3341 [==============================] - 0s 29us/sample - loss: 7.1817 - mae: 1.9547 - mse: 7.1817 - val_loss: 6.4946 - val_mae: 1.8899 - val_mse: 6.4946\n",
      "Epoch 7/100\n",
      "3341/3341 [==============================] - 0s 28us/sample - loss: 7.1859 - mae: 1.9578 - mse: 7.1859 - val_loss: 6.4755 - val_mae: 1.7305 - val_mse: 6.4755\n",
      "Epoch 8/100\n",
      "3341/3341 [==============================] - 0s 28us/sample - loss: 6.8751 - mae: 1.9310 - mse: 6.8751 - val_loss: 6.5960 - val_mae: 1.7331 - val_mse: 6.5960\n",
      "Epoch 9/100\n",
      "3341/3341 [==============================] - 0s 26us/sample - loss: 7.5691 - mae: 2.0219 - mse: 7.5691 - val_loss: 6.5122 - val_mae: 1.9113 - val_mse: 6.5122\n",
      "Epoch 10/100\n",
      "3341/3341 [==============================] - 0s 27us/sample - loss: 6.8106 - mae: 1.9052 - mse: 6.8106 - val_loss: 14.7746 - val_mae: 2.8676 - val_mse: 14.7746\n",
      "Epoch 11/100\n",
      "3341/3341 [==============================] - 0s 26us/sample - loss: 6.3873 - mae: 1.8374 - mse: 6.3873 - val_loss: 6.9607 - val_mae: 2.1490 - val_mse: 6.9607\n",
      "Epoch 12/100\n",
      "3341/3341 [==============================] - 0s 28us/sample - loss: 6.8298 - mae: 1.9222 - mse: 6.8298 - val_loss: 13.3639 - val_mae: 2.6908 - val_mse: 13.3639\n",
      "Epoch 13/100\n",
      "3341/3341 [==============================] - 0s 27us/sample - loss: 6.1283 - mae: 1.8198 - mse: 6.1283 - val_loss: 5.8123 - val_mae: 1.7516 - val_mse: 5.8123\n",
      "Epoch 14/100\n",
      "3341/3341 [==============================] - 0s 27us/sample - loss: 6.8501 - mae: 1.9277 - mse: 6.8501 - val_loss: 6.6587 - val_mae: 1.7003 - val_mse: 6.6587\n",
      "Epoch 15/100\n",
      "3341/3341 [==============================] - 0s 28us/sample - loss: 6.8875 - mae: 1.9254 - mse: 6.8875 - val_loss: 5.9859 - val_mae: 1.7165 - val_mse: 5.9859\n",
      "Epoch 16/100\n",
      "3341/3341 [==============================] - 0s 26us/sample - loss: 6.5281 - mae: 1.8580 - mse: 6.5281 - val_loss: 7.6002 - val_mae: 1.7908 - val_mse: 7.6002\n",
      "Epoch 17/100\n",
      "3341/3341 [==============================] - 0s 26us/sample - loss: 6.6025 - mae: 1.8756 - mse: 6.6025 - val_loss: 5.9225 - val_mae: 1.8196 - val_mse: 5.9225\n",
      "Epoch 18/100\n",
      "3341/3341 [==============================] - 0s 27us/sample - loss: 5.9487 - mae: 1.7823 - mse: 5.9487 - val_loss: 5.7976 - val_mae: 1.6186 - val_mse: 5.7976\n",
      "Epoch 19/100\n",
      "3341/3341 [==============================] - 0s 26us/sample - loss: 6.5635 - mae: 1.8603 - mse: 6.5635 - val_loss: 6.4986 - val_mae: 2.0361 - val_mse: 6.4986\n",
      "Epoch 20/100\n",
      "3341/3341 [==============================] - 0s 26us/sample - loss: 5.9981 - mae: 1.8040 - mse: 5.9981 - val_loss: 8.8232 - val_mae: 1.9380 - val_mse: 8.8232\n",
      "Epoch 21/100\n",
      "3341/3341 [==============================] - 0s 31us/sample - loss: 5.9031 - mae: 1.7854 - mse: 5.9031 - val_loss: 33.3578 - val_mae: 5.0667 - val_mse: 33.3578\n",
      "Epoch 22/100\n",
      "3341/3341 [==============================] - 0s 33us/sample - loss: 9.8483 - mae: 2.2202 - mse: 9.8483 - val_loss: 7.2473 - val_mae: 1.8908 - val_mse: 7.2473\n",
      "Epoch 23/100\n",
      "3341/3341 [==============================] - 0s 32us/sample - loss: 6.8340 - mae: 1.8777 - mse: 6.8340 - val_loss: 7.1953 - val_mae: 1.9114 - val_mse: 7.1953\n",
      "Epoch 24/100\n",
      "3341/3341 [==============================] - 0s 28us/sample - loss: 6.6819 - mae: 1.8595 - mse: 6.6819 - val_loss: 6.5549 - val_mae: 1.7777 - val_mse: 6.5549\n",
      "Epoch 25/100\n",
      "3341/3341 [==============================] - 0s 27us/sample - loss: 6.9095 - mae: 1.9207 - mse: 6.9094 - val_loss: 11.5839 - val_mae: 2.3581 - val_mse: 11.5839\n",
      "Epoch 26/100\n",
      "3341/3341 [==============================] - 0s 48us/sample - loss: 7.0331 - mae: 1.9207 - mse: 7.0331 - val_loss: 6.4624 - val_mae: 1.7002 - val_mse: 6.4624\n",
      "Epoch 27/100\n",
      "3341/3341 [==============================] - 0s 50us/sample - loss: 6.5870 - mae: 1.8568 - mse: 6.5870 - val_loss: 6.1774 - val_mae: 1.7991 - val_mse: 6.1774\n",
      "Epoch 28/100\n",
      "3341/3341 [==============================] - 0s 44us/sample - loss: 6.7055 - mae: 1.8887 - mse: 6.7055 - val_loss: 8.2365 - val_mae: 2.4318 - val_mse: 8.2365\n",
      "Epoch 29/100\n",
      "3341/3341 [==============================] - 0s 27us/sample - loss: 6.0587 - mae: 1.7805 - mse: 6.0586 - val_loss: 9.5469 - val_mae: 2.0922 - val_mse: 9.5469\n",
      "Epoch 30/100\n",
      "3341/3341 [==============================] - 0s 26us/sample - loss: 6.6394 - mae: 1.8914 - mse: 6.6394 - val_loss: 6.3584 - val_mae: 1.9834 - val_mse: 6.3584\n",
      "Epoch 31/100\n",
      "3341/3341 [==============================] - 0s 45us/sample - loss: 6.2298 - mae: 1.8166 - mse: 6.2298 - val_loss: 5.6693 - val_mae: 1.7307 - val_mse: 5.6693\n",
      "Epoch 32/100\n",
      "3341/3341 [==============================] - 0s 35us/sample - loss: 6.1784 - mae: 1.8106 - mse: 6.1784 - val_loss: 6.6150 - val_mae: 2.0549 - val_mse: 6.6150\n",
      "Epoch 33/100\n",
      "3341/3341 [==============================] - 0s 47us/sample - loss: 5.8861 - mae: 1.7777 - mse: 5.8861 - val_loss: 7.8571 - val_mae: 1.9679 - val_mse: 7.8571\n",
      "Epoch 34/100\n",
      "3341/3341 [==============================] - 0s 61us/sample - loss: 6.4519 - mae: 1.8377 - mse: 6.4519 - val_loss: 8.4547 - val_mae: 2.4740 - val_mse: 8.4547\n",
      "Epoch 35/100\n",
      "3341/3341 [==============================] - 0s 32us/sample - loss: 5.7905 - mae: 1.7558 - mse: 5.7905 - val_loss: 8.7554 - val_mae: 1.9287 - val_mse: 8.7554\n",
      "Epoch 36/100\n",
      "3341/3341 [==============================] - 0s 24us/sample - loss: 5.8460 - mae: 1.7469 - mse: 5.8460 - val_loss: 7.1638 - val_mae: 1.7501 - val_mse: 7.1638\n",
      "Epoch 37/100\n",
      "3341/3341 [==============================] - 0s 24us/sample - loss: 5.7203 - mae: 1.7408 - mse: 5.7203 - val_loss: 6.1691 - val_mae: 1.9539 - val_mse: 6.1691\n",
      "Epoch 38/100\n",
      "3341/3341 [==============================] - 0s 23us/sample - loss: 5.7334 - mae: 1.7415 - mse: 5.7334 - val_loss: 6.0670 - val_mae: 1.6992 - val_mse: 6.0670\n",
      "Epoch 39/100\n",
      "3341/3341 [==============================] - 0s 24us/sample - loss: 6.2563 - mae: 1.7995 - mse: 6.2563 - val_loss: 6.0819 - val_mae: 1.6517 - val_mse: 6.0819\n",
      "Epoch 40/100\n",
      "3341/3341 [==============================] - 0s 23us/sample - loss: 5.5268 - mae: 1.7029 - mse: 5.5268 - val_loss: 5.7975 - val_mae: 1.8539 - val_mse: 5.7975\n",
      "Epoch 41/100\n",
      "3341/3341 [==============================] - 0s 26us/sample - loss: 5.5315 - mae: 1.7022 - mse: 5.5315 - val_loss: 6.1687 - val_mae: 2.0007 - val_mse: 6.1687\n",
      "Epoch 42/100\n",
      "3341/3341 [==============================] - 0s 27us/sample - loss: 6.0915 - mae: 1.7849 - mse: 6.0915 - val_loss: 6.7547 - val_mae: 1.7747 - val_mse: 6.7547\n",
      "Epoch 43/100\n",
      "3341/3341 [==============================] - 0s 24us/sample - loss: 5.6535 - mae: 1.7151 - mse: 5.6535 - val_loss: 7.8893 - val_mae: 1.9252 - val_mse: 7.8893\n",
      "Epoch 44/100\n",
      "3341/3341 [==============================] - 0s 22us/sample - loss: 5.2325 - mae: 1.6422 - mse: 5.2325 - val_loss: 7.5992 - val_mae: 1.7975 - val_mse: 7.5992\n",
      "Epoch 45/100\n",
      "3341/3341 [==============================] - 0s 37us/sample - loss: 5.9417 - mae: 1.7516 - mse: 5.9417 - val_loss: 8.3857 - val_mae: 1.9254 - val_mse: 8.3857\n",
      "Epoch 46/100\n",
      "3341/3341 [==============================] - 0s 40us/sample - loss: 5.3747 - mae: 1.6683 - mse: 5.3747 - val_loss: 5.6371 - val_mae: 1.5852 - val_mse: 5.6371\n",
      "Epoch 47/100\n"
     ]
    },
    {
     "name": "stdout",
     "output_type": "stream",
     "text": [
      "3341/3341 [==============================] - 0s 27us/sample - loss: 5.6178 - mae: 1.7150 - mse: 5.6178 - val_loss: 26.1218 - val_mae: 4.5987 - val_mse: 26.1218\n",
      "Epoch 48/100\n",
      "3341/3341 [==============================] - 0s 29us/sample - loss: 7.7004 - mae: 1.9832 - mse: 7.7004 - val_loss: 6.4861 - val_mae: 1.6849 - val_mse: 6.4861\n",
      "Epoch 49/100\n",
      "3341/3341 [==============================] - 0s 32us/sample - loss: 5.1884 - mae: 1.6439 - mse: 5.1884 - val_loss: 5.4106 - val_mae: 1.5763 - val_mse: 5.4106\n",
      "Epoch 50/100\n",
      "3341/3341 [==============================] - 0s 29us/sample - loss: 5.4241 - mae: 1.6745 - mse: 5.4241 - val_loss: 5.4854 - val_mae: 1.7040 - val_mse: 5.4854\n",
      "Epoch 51/100\n",
      "3341/3341 [==============================] - 0s 35us/sample - loss: 5.2921 - mae: 1.6631 - mse: 5.2921 - val_loss: 6.5185 - val_mae: 1.6782 - val_mse: 6.5185\n",
      "Epoch 52/100\n",
      "3341/3341 [==============================] - 0s 40us/sample - loss: 5.4402 - mae: 1.6802 - mse: 5.4402 - val_loss: 5.5947 - val_mae: 1.8334 - val_mse: 5.5947\n",
      "Epoch 53/100\n",
      "3341/3341 [==============================] - 0s 34us/sample - loss: 4.8015 - mae: 1.5878 - mse: 4.8015 - val_loss: 5.6908 - val_mae: 1.5874 - val_mse: 5.6908\n",
      "Epoch 54/100\n",
      "3341/3341 [==============================] - 0s 34us/sample - loss: 5.3341 - mae: 1.6634 - mse: 5.3341 - val_loss: 7.6608 - val_mae: 1.7997 - val_mse: 7.6608\n",
      "Epoch 55/100\n",
      "3341/3341 [==============================] - 0s 34us/sample - loss: 5.2583 - mae: 1.6586 - mse: 5.2583 - val_loss: 5.7913 - val_mae: 1.7420 - val_mse: 5.7913\n",
      "Epoch 56/100\n",
      "3341/3341 [==============================] - 0s 64us/sample - loss: 5.1079 - mae: 1.6264 - mse: 5.1079 - val_loss: 13.6430 - val_mae: 2.7107 - val_mse: 13.6430\n",
      "Epoch 57/100\n",
      "3341/3341 [==============================] - 0s 40us/sample - loss: 6.2939 - mae: 1.7890 - mse: 6.2939 - val_loss: 5.5455 - val_mae: 1.8175 - val_mse: 5.5455\n",
      "Epoch 58/100\n",
      "3341/3341 [==============================] - 0s 26us/sample - loss: 5.2450 - mae: 1.6645 - mse: 5.2450 - val_loss: 4.9417 - val_mae: 1.5809 - val_mse: 4.9417\n",
      "Epoch 59/100\n",
      "3341/3341 [==============================] - 0s 24us/sample - loss: 4.8230 - mae: 1.5846 - mse: 4.8230 - val_loss: 8.9619 - val_mae: 2.3545 - val_mse: 8.9619\n",
      "Epoch 60/100\n",
      "3341/3341 [==============================] - 0s 24us/sample - loss: 5.2792 - mae: 1.6468 - mse: 5.2792 - val_loss: 7.5522 - val_mae: 1.8601 - val_mse: 7.5522\n",
      "Epoch 61/100\n",
      "3341/3341 [==============================] - 0s 23us/sample - loss: 5.3080 - mae: 1.6423 - mse: 5.3080 - val_loss: 8.0551 - val_mae: 2.2216 - val_mse: 8.0551\n",
      "Epoch 62/100\n",
      "3341/3341 [==============================] - 0s 28us/sample - loss: 5.1226 - mae: 1.6207 - mse: 5.1226 - val_loss: 7.2223 - val_mae: 2.2497 - val_mse: 7.2223\n",
      "Epoch 63/100\n",
      "3341/3341 [==============================] - 0s 29us/sample - loss: 5.0324 - mae: 1.5957 - mse: 5.0324 - val_loss: 7.4171 - val_mae: 2.1766 - val_mse: 7.4171\n",
      "Epoch 64/100\n",
      "3341/3341 [==============================] - 0s 35us/sample - loss: 4.9863 - mae: 1.6010 - mse: 4.9863 - val_loss: 12.7271 - val_mae: 3.0642 - val_mse: 12.7271\n",
      "Epoch 65/100\n",
      "3341/3341 [==============================] - 0s 34us/sample - loss: 5.2422 - mae: 1.6476 - mse: 5.2422 - val_loss: 4.8379 - val_mae: 1.5801 - val_mse: 4.8379\n",
      "Epoch 66/100\n",
      "3341/3341 [==============================] - 0s 28us/sample - loss: 4.9825 - mae: 1.5954 - mse: 4.9825 - val_loss: 6.1603 - val_mae: 1.7573 - val_mse: 6.1603\n",
      "Epoch 67/100\n",
      "3341/3341 [==============================] - 0s 26us/sample - loss: 5.1259 - mae: 1.6292 - mse: 5.1259 - val_loss: 6.4940 - val_mae: 1.6795 - val_mse: 6.4940\n",
      "Epoch 68/100\n",
      "3341/3341 [==============================] - 0s 24us/sample - loss: 4.9819 - mae: 1.5882 - mse: 4.9819 - val_loss: 5.0810 - val_mae: 1.5844 - val_mse: 5.0810\n",
      "Epoch 69/100\n",
      "3341/3341 [==============================] - 0s 63us/sample - loss: 4.8102 - mae: 1.5634 - mse: 4.8102 - val_loss: 6.9182 - val_mae: 1.7044 - val_mse: 6.9182\n",
      "Epoch 70/100\n",
      "3341/3341 [==============================] - 0s 42us/sample - loss: 4.6863 - mae: 1.5453 - mse: 4.6863 - val_loss: 10.3804 - val_mae: 2.6100 - val_mse: 10.3804\n",
      "Epoch 71/100\n",
      "3341/3341 [==============================] - 0s 27us/sample - loss: 5.6468 - mae: 1.6880 - mse: 5.6468 - val_loss: 5.8004 - val_mae: 1.6126 - val_mse: 5.8004\n",
      "Epoch 72/100\n",
      "3341/3341 [==============================] - 0s 24us/sample - loss: 4.7833 - mae: 1.5722 - mse: 4.7833 - val_loss: 12.9885 - val_mae: 2.9301 - val_mse: 12.9885\n",
      "Epoch 73/100\n",
      "3341/3341 [==============================] - 0s 25us/sample - loss: 5.9964 - mae: 1.7390 - mse: 5.9964 - val_loss: 4.7764 - val_mae: 1.5468 - val_mse: 4.7764\n",
      "Epoch 74/100\n",
      "3341/3341 [==============================] - 0s 24us/sample - loss: 4.6660 - mae: 1.5488 - mse: 4.6660 - val_loss: 4.8638 - val_mae: 1.5773 - val_mse: 4.8638\n",
      "Epoch 75/100\n",
      "3341/3341 [==============================] - 0s 28us/sample - loss: 4.8446 - mae: 1.5850 - mse: 4.8446 - val_loss: 5.8597 - val_mae: 1.6460 - val_mse: 5.8597\n",
      "Epoch 76/100\n",
      "3341/3341 [==============================] - 0s 38us/sample - loss: 4.8323 - mae: 1.5658 - mse: 4.8323 - val_loss: 5.4823 - val_mae: 1.7861 - val_mse: 5.4823\n",
      "Epoch 77/100\n",
      "3341/3341 [==============================] - 0s 36us/sample - loss: 4.8132 - mae: 1.5833 - mse: 4.8132 - val_loss: 5.6767 - val_mae: 1.8635 - val_mse: 5.6767\n",
      "Epoch 78/100\n",
      "3341/3341 [==============================] - 0s 35us/sample - loss: 4.9513 - mae: 1.6027 - mse: 4.9513 - val_loss: 4.6689 - val_mae: 1.5309 - val_mse: 4.6689\n",
      "Epoch 79/100\n",
      "3341/3341 [==============================] - 0s 34us/sample - loss: 4.5896 - mae: 1.5247 - mse: 4.5896 - val_loss: 7.3957 - val_mae: 2.1994 - val_mse: 7.3957\n",
      "Epoch 80/100\n",
      "3341/3341 [==============================] - 0s 33us/sample - loss: 4.8544 - mae: 1.5863 - mse: 4.8544 - val_loss: 20.6154 - val_mae: 4.0145 - val_mse: 20.6154\n",
      "Epoch 81/100\n",
      "3341/3341 [==============================] - 0s 29us/sample - loss: 6.8308 - mae: 1.8557 - mse: 6.8308 - val_loss: 6.1523 - val_mae: 1.6296 - val_mse: 6.1523\n",
      "Epoch 82/100\n",
      "3341/3341 [==============================] - 0s 25us/sample - loss: 4.7900 - mae: 1.5701 - mse: 4.7900 - val_loss: 5.0266 - val_mae: 1.5164 - val_mse: 5.0266\n",
      "Epoch 83/100\n",
      "3341/3341 [==============================] - 0s 24us/sample - loss: 4.6612 - mae: 1.5403 - mse: 4.6612 - val_loss: 4.9005 - val_mae: 1.6115 - val_mse: 4.9005\n",
      "Epoch 84/100\n",
      "3341/3341 [==============================] - 0s 25us/sample - loss: 4.6561 - mae: 1.5473 - mse: 4.6561 - val_loss: 4.7235 - val_mae: 1.4817 - val_mse: 4.7235\n",
      "Epoch 85/100\n",
      "3341/3341 [==============================] - 0s 47us/sample - loss: 4.7589 - mae: 1.5665 - mse: 4.7589 - val_loss: 15.4661 - val_mae: 3.4493 - val_mse: 15.4661\n",
      "Epoch 86/100\n",
      "3341/3341 [==============================] - 0s 60us/sample - loss: 5.1894 - mae: 1.6270 - mse: 5.1894 - val_loss: 4.8565 - val_mae: 1.5921 - val_mse: 4.8565\n",
      "Epoch 87/100\n",
      "3341/3341 [==============================] - 0s 29us/sample - loss: 4.8388 - mae: 1.5856 - mse: 4.8388 - val_loss: 12.2193 - val_mae: 3.0463 - val_mse: 12.2193\n",
      "Epoch 88/100\n",
      "3341/3341 [==============================] - 0s 23us/sample - loss: 4.7428 - mae: 1.5611 - mse: 4.7428 - val_loss: 6.7118 - val_mae: 1.7392 - val_mse: 6.7118\n",
      "Epoch 89/100\n",
      "3341/3341 [==============================] - 0s 25us/sample - loss: 4.7888 - mae: 1.5593 - mse: 4.7888 - val_loss: 7.3250 - val_mae: 1.7972 - val_mse: 7.3250\n",
      "Epoch 90/100\n",
      "3341/3341 [==============================] - 0s 27us/sample - loss: 4.7854 - mae: 1.5622 - mse: 4.7854 - val_loss: 6.9674 - val_mae: 2.0594 - val_mse: 6.9674\n",
      "Epoch 91/100\n",
      "3341/3341 [==============================] - 0s 28us/sample - loss: 4.8141 - mae: 1.5638 - mse: 4.8141 - val_loss: 19.1841 - val_mae: 3.9878 - val_mse: 19.1841\n",
      "Epoch 92/100\n",
      "3341/3341 [==============================] - 0s 26us/sample - loss: 5.5266 - mae: 1.6697 - mse: 5.5266 - val_loss: 5.6326 - val_mae: 1.8325 - val_mse: 5.6326\n",
      "Epoch 93/100\n",
      "3341/3341 [==============================] - 0s 32us/sample - loss: 4.6017 - mae: 1.5467 - mse: 4.6017 - val_loss: 5.7340 - val_mae: 1.6007 - val_mse: 5.7340\n",
      "Epoch 94/100\n",
      "3341/3341 [==============================] - 0s 34us/sample - loss: 4.5556 - mae: 1.5243 - mse: 4.5556 - val_loss: 7.5327 - val_mae: 1.8489 - val_mse: 7.5327\n"
     ]
    },
    {
     "name": "stdout",
     "output_type": "stream",
     "text": [
      "Epoch 95/100\n",
      "3341/3341 [==============================] - 0s 28us/sample - loss: 4.8306 - mae: 1.5668 - mse: 4.8306 - val_loss: 6.4804 - val_mae: 1.9941 - val_mse: 6.4804\n",
      "Epoch 96/100\n",
      "3341/3341 [==============================] - 0s 25us/sample - loss: 4.6877 - mae: 1.5481 - mse: 4.6877 - val_loss: 4.8198 - val_mae: 1.5556 - val_mse: 4.8198\n",
      "Epoch 97/100\n",
      "3341/3341 [==============================] - 0s 34us/sample - loss: 4.5830 - mae: 1.5364 - mse: 4.5830 - val_loss: 4.6100 - val_mae: 1.4759 - val_mse: 4.6100\n",
      "Epoch 98/100\n",
      "3341/3341 [==============================] - 0s 35us/sample - loss: 4.5604 - mae: 1.5273 - mse: 4.5604 - val_loss: 8.6660 - val_mae: 2.4049 - val_mse: 8.6660\n",
      "Epoch 99/100\n",
      "3341/3341 [==============================] - 0s 32us/sample - loss: 4.9455 - mae: 1.5875 - mse: 4.9455 - val_loss: 4.6162 - val_mae: 1.5065 - val_mse: 4.6162\n",
      "Epoch 100/100\n",
      "3341/3341 [==============================] - 0s 32us/sample - loss: 4.6992 - mae: 1.5465 - mse: 4.6992 - val_loss: 10.4027 - val_mae: 2.7254 - val_mse: 10.4027\n"
     ]
    }
   ],
   "source": [
    "history = model.fit(X_train, y_train, \n",
    "                     epochs=100,\n",
    "                     batch_size=128,\n",
    "                     validation_data=(X_test, y_test),\n",
    "                     verbose = 1\n",
    "                    )"
   ]
  },
  {
   "cell_type": "code",
   "execution_count": 39,
   "metadata": {},
   "outputs": [
    {
     "data": {
      "text/plain": [
       "<matplotlib.legend.Legend at 0x13abc2310>"
      ]
     },
     "execution_count": 39,
     "metadata": {},
     "output_type": "execute_result"
    },
    {
     "data": {
      "image/png": "[encoded data removed]",
      "text/plain": [
       "<Figure size 432x288 with 1 Axes>"
      ]
     },
     "metadata": {
      "needs_background": "light"
     },
     "output_type": "display_data"
    }
   ],
   "source": [
    "hist = pd.DataFrame(history.history)\n",
    "hist['epoch'] = history.epoch\n",
    "\n",
    "plt.xlabel('Epoch')\n",
    "plt.ylabel('Mean Abs Error [MPG]')\n",
    "plt.plot(hist['epoch'], hist['mae'], label='Train Error')\n",
    "plt.plot(hist['epoch'], hist['val_mae'], label='val Error')\n",
    "plt.ylim(0, 5)\n",
    "plt.legend()"
   ]
  },
  {
   "cell_type": "code",
   "execution_count": 40,
   "metadata": {},
   "outputs": [
    {
     "data": {
      "text/plain": [
       "<matplotlib.legend.Legend at 0x1183cd2d0>"
      ]
     },
     "execution_count": 40,
     "metadata": {},
     "output_type": "execute_result"
    },
    {
     "data": {
      "image/png": "[encoded data removed]",
      "text/plain": [
       "<Figure size 432x288 with 1 Axes>"
      ]
     },
     "metadata": {
      "needs_background": "light"
     },
     "output_type": "display_data"
    }
   ],
   "source": [
    "plt.xlabel('Epoch')\n",
    "plt.ylabel('Mean Square Error [$MPG^2$]')\n",
    "plt.plot(hist['epoch'], hist['mse'], label='Train Error')\n",
    "plt.plot(hist['epoch'], hist['val_mse'], label='val Error')\n",
    "plt.ylim(0, 30)\n",
    "plt.legend()"
   ]
  },
  {
   "cell_type": "code",
   "execution_count": 41,
   "metadata": {
    "scrolled": true
   },
   "outputs": [
    {
     "name": "stdout",
     "output_type": "stream",
     "text": [
      "WARNING:tensorflow:Falling back from v2 loop because of error: Failed to find data adapter that can handle input: <class 'pandas.core.frame.DataFrame'>, <class 'NoneType'>\n",
      "836/836 [==============================] - 0s 45us/sample - loss: 10.4027 - mae: 2.7254 - mse: 10.4027\n"
     ]
    },
    {
     "data": {
      "text/plain": [
       "3.225318798306302"
      ]
     },
     "execution_count": 41,
     "metadata": {},
     "output_type": "execute_result"
    }
   ],
   "source": [
    "loss, mae, mse = model.evaluate(X_test, y_test)\n",
    "mse**0.5"
   ]
  },
  {
   "cell_type": "code",
   "execution_count": null,
   "metadata": {},
   "outputs": [],
   "source": []
  }
 ],
 "metadata": {
  "kernelspec": {
   "display_name": "Python 3",
   "language": "python",
   "name": "python3"
  },
  "language_info": {
   "codemirror_mode": {
    "name": "ipython",
    "version": 3
   },
   "file_extension": ".py",
   "mimetype": "text/x-python",
   "name": "python",
   "nbconvert_exporter": "python",
   "pygments_lexer": "ipython3",
   "version": "3.7.4"
  }
 },
 "nbformat": 4,
 "nbformat_minor": 2
}
