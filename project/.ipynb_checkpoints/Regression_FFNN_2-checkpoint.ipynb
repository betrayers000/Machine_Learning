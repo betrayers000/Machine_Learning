{
 "cells": [
  {
   "cell_type": "markdown",
   "metadata": {},
   "source": [
    "# Regression_FFNN\n",
    "\n",
    "## load data"
   ]
  },
  {
   "cell_type": "code",
   "execution_count": 1,
   "metadata": {},
   "outputs": [],
   "source": [
    "import pandas as pd\n",
    "import numpy as np\n",
    "import matplotlib.pyplot as plt"
   ]
  },
  {
   "cell_type": "code",
   "execution_count": 2,
   "metadata": {},
   "outputs": [],
   "source": [
    "column_name = [\"Sex\", \"Length\" ,\"Diameter\" ,\"Height\" ,\"WholeWeight\" ,\"ShuckedWeight\", \"VisceraWeight\", \"Shell weight\", \"Rings\"]"
   ]
  },
  {
   "cell_type": "code",
   "execution_count": 3,
   "metadata": {},
   "outputs": [
    {
     "data": {
      "text/html": [
       "<div>\n",
       "<style scoped>\n",
       "    .dataframe tbody tr th:only-of-type {\n",
       "        vertical-align: middle;\n",
       "    }\n",
       "\n",
       "    .dataframe tbody tr th {\n",
       "        vertical-align: top;\n",
       "    }\n",
       "\n",
       "    .dataframe thead th {\n",
       "        text-align: right;\n",
       "    }\n",
       "</style>\n",
       "<table border=\"1\" class=\"dataframe\">\n",
       "  <thead>\n",
       "    <tr style=\"text-align: right;\">\n",
       "      <th></th>\n",
       "      <th>Sex</th>\n",
       "      <th>Length</th>\n",
       "      <th>Diameter</th>\n",
       "      <th>Height</th>\n",
       "      <th>WholeWeight</th>\n",
       "      <th>ShuckedWeight</th>\n",
       "      <th>VisceraWeight</th>\n",
       "      <th>Shell weight</th>\n",
       "      <th>Rings</th>\n",
       "    </tr>\n",
       "  </thead>\n",
       "  <tbody>\n",
       "    <tr>\n",
       "      <th>0</th>\n",
       "      <td>M</td>\n",
       "      <td>0.455</td>\n",
       "      <td>0.365</td>\n",
       "      <td>0.095</td>\n",
       "      <td>0.5140</td>\n",
       "      <td>0.2245</td>\n",
       "      <td>0.1010</td>\n",
       "      <td>0.150</td>\n",
       "      <td>15</td>\n",
       "    </tr>\n",
       "    <tr>\n",
       "      <th>1</th>\n",
       "      <td>M</td>\n",
       "      <td>0.350</td>\n",
       "      <td>0.265</td>\n",
       "      <td>0.090</td>\n",
       "      <td>0.2255</td>\n",
       "      <td>0.0995</td>\n",
       "      <td>0.0485</td>\n",
       "      <td>0.070</td>\n",
       "      <td>7</td>\n",
       "    </tr>\n",
       "    <tr>\n",
       "      <th>2</th>\n",
       "      <td>F</td>\n",
       "      <td>0.530</td>\n",
       "      <td>0.420</td>\n",
       "      <td>0.135</td>\n",
       "      <td>0.6770</td>\n",
       "      <td>0.2565</td>\n",
       "      <td>0.1415</td>\n",
       "      <td>0.210</td>\n",
       "      <td>9</td>\n",
       "    </tr>\n",
       "    <tr>\n",
       "      <th>3</th>\n",
       "      <td>M</td>\n",
       "      <td>0.440</td>\n",
       "      <td>0.365</td>\n",
       "      <td>0.125</td>\n",
       "      <td>0.5160</td>\n",
       "      <td>0.2155</td>\n",
       "      <td>0.1140</td>\n",
       "      <td>0.155</td>\n",
       "      <td>10</td>\n",
       "    </tr>\n",
       "    <tr>\n",
       "      <th>4</th>\n",
       "      <td>I</td>\n",
       "      <td>0.330</td>\n",
       "      <td>0.255</td>\n",
       "      <td>0.080</td>\n",
       "      <td>0.2050</td>\n",
       "      <td>0.0895</td>\n",
       "      <td>0.0395</td>\n",
       "      <td>0.055</td>\n",
       "      <td>7</td>\n",
       "    </tr>\n",
       "  </tbody>\n",
       "</table>\n",
       "</div>"
      ],
      "text/plain": [
       "  Sex  Length  Diameter  Height  WholeWeight  ShuckedWeight  VisceraWeight  \\\n",
       "0   M   0.455     0.365   0.095       0.5140         0.2245         0.1010   \n",
       "1   M   0.350     0.265   0.090       0.2255         0.0995         0.0485   \n",
       "2   F   0.530     0.420   0.135       0.6770         0.2565         0.1415   \n",
       "3   M   0.440     0.365   0.125       0.5160         0.2155         0.1140   \n",
       "4   I   0.330     0.255   0.080       0.2050         0.0895         0.0395   \n",
       "\n",
       "   Shell weight  Rings  \n",
       "0         0.150     15  \n",
       "1         0.070      7  \n",
       "2         0.210      9  \n",
       "3         0.155     10  \n",
       "4         0.055      7  "
      ]
     },
     "execution_count": 3,
     "metadata": {},
     "output_type": "execute_result"
    }
   ],
   "source": [
    "data = pd.read_csv('abalone.data', names = column_name)\n",
    "data.head()"
   ]
  },
  {
   "cell_type": "code",
   "execution_count": 4,
   "metadata": {},
   "outputs": [],
   "source": [
    "data_sex = data['Sex']\n",
    "data_sex_encoded, data_sex_categories = data_sex.factorize()\n",
    "data['Sex'] = data_sex_encoded"
   ]
  },
  {
   "cell_type": "code",
   "execution_count": 5,
   "metadata": {},
   "outputs": [
    {
     "data": {
      "text/html": [
       "<div>\n",
       "<style scoped>\n",
       "    .dataframe tbody tr th:only-of-type {\n",
       "        vertical-align: middle;\n",
       "    }\n",
       "\n",
       "    .dataframe tbody tr th {\n",
       "        vertical-align: top;\n",
       "    }\n",
       "\n",
       "    .dataframe thead th {\n",
       "        text-align: right;\n",
       "    }\n",
       "</style>\n",
       "<table border=\"1\" class=\"dataframe\">\n",
       "  <thead>\n",
       "    <tr style=\"text-align: right;\">\n",
       "      <th></th>\n",
       "      <th>Sex</th>\n",
       "      <th>Length</th>\n",
       "      <th>Diameter</th>\n",
       "      <th>Height</th>\n",
       "      <th>WholeWeight</th>\n",
       "      <th>ShuckedWeight</th>\n",
       "      <th>VisceraWeight</th>\n",
       "      <th>Shell weight</th>\n",
       "      <th>Rings</th>\n",
       "    </tr>\n",
       "  </thead>\n",
       "  <tbody>\n",
       "    <tr>\n",
       "      <th>0</th>\n",
       "      <td>0</td>\n",
       "      <td>0.455</td>\n",
       "      <td>0.365</td>\n",
       "      <td>0.095</td>\n",
       "      <td>0.5140</td>\n",
       "      <td>0.2245</td>\n",
       "      <td>0.1010</td>\n",
       "      <td>0.150</td>\n",
       "      <td>15</td>\n",
       "    </tr>\n",
       "    <tr>\n",
       "      <th>1</th>\n",
       "      <td>0</td>\n",
       "      <td>0.350</td>\n",
       "      <td>0.265</td>\n",
       "      <td>0.090</td>\n",
       "      <td>0.2255</td>\n",
       "      <td>0.0995</td>\n",
       "      <td>0.0485</td>\n",
       "      <td>0.070</td>\n",
       "      <td>7</td>\n",
       "    </tr>\n",
       "    <tr>\n",
       "      <th>2</th>\n",
       "      <td>1</td>\n",
       "      <td>0.530</td>\n",
       "      <td>0.420</td>\n",
       "      <td>0.135</td>\n",
       "      <td>0.6770</td>\n",
       "      <td>0.2565</td>\n",
       "      <td>0.1415</td>\n",
       "      <td>0.210</td>\n",
       "      <td>9</td>\n",
       "    </tr>\n",
       "    <tr>\n",
       "      <th>3</th>\n",
       "      <td>0</td>\n",
       "      <td>0.440</td>\n",
       "      <td>0.365</td>\n",
       "      <td>0.125</td>\n",
       "      <td>0.5160</td>\n",
       "      <td>0.2155</td>\n",
       "      <td>0.1140</td>\n",
       "      <td>0.155</td>\n",
       "      <td>10</td>\n",
       "    </tr>\n",
       "    <tr>\n",
       "      <th>4</th>\n",
       "      <td>2</td>\n",
       "      <td>0.330</td>\n",
       "      <td>0.255</td>\n",
       "      <td>0.080</td>\n",
       "      <td>0.2050</td>\n",
       "      <td>0.0895</td>\n",
       "      <td>0.0395</td>\n",
       "      <td>0.055</td>\n",
       "      <td>7</td>\n",
       "    </tr>\n",
       "  </tbody>\n",
       "</table>\n",
       "</div>"
      ],
      "text/plain": [
       "   Sex  Length  Diameter  Height  WholeWeight  ShuckedWeight  VisceraWeight  \\\n",
       "0    0   0.455     0.365   0.095       0.5140         0.2245         0.1010   \n",
       "1    0   0.350     0.265   0.090       0.2255         0.0995         0.0485   \n",
       "2    1   0.530     0.420   0.135       0.6770         0.2565         0.1415   \n",
       "3    0   0.440     0.365   0.125       0.5160         0.2155         0.1140   \n",
       "4    2   0.330     0.255   0.080       0.2050         0.0895         0.0395   \n",
       "\n",
       "   Shell weight  Rings  \n",
       "0         0.150     15  \n",
       "1         0.070      7  \n",
       "2         0.210      9  \n",
       "3         0.155     10  \n",
       "4         0.055      7  "
      ]
     },
     "execution_count": 5,
     "metadata": {},
     "output_type": "execute_result"
    }
   ],
   "source": [
    "data.head()"
   ]
  },
  {
   "cell_type": "markdown",
   "metadata": {},
   "source": [
    "### data one-hot encoding"
   ]
  },
  {
   "cell_type": "code",
   "execution_count": 8,
   "metadata": {},
   "outputs": [],
   "source": [
    "from sklearn.preprocessing import OneHotEncoder"
   ]
  },
  {
   "cell_type": "code",
   "execution_count": 9,
   "metadata": {},
   "outputs": [],
   "source": [
    "encoder = OneHotEncoder()\n",
    "data_sex_1hot = encoder.fit_transform(data_sex_encoded.reshape(-1, 1))"
   ]
  },
  {
   "cell_type": "code",
   "execution_count": 10,
   "metadata": {},
   "outputs": [
    {
     "data": {
      "text/plain": [
       "array([[1., 0., 0.],\n",
       "       [1., 0., 0.],\n",
       "       [0., 1., 0.],\n",
       "       ...,\n",
       "       [1., 0., 0.],\n",
       "       [0., 1., 0.],\n",
       "       [1., 0., 0.]])"
      ]
     },
     "execution_count": 10,
     "metadata": {},
     "output_type": "execute_result"
    }
   ],
   "source": [
    "data_sex_1hot.toarray()"
   ]
  },
  {
   "cell_type": "markdown",
   "metadata": {},
   "source": [
    "## data"
   ]
  },
  {
   "cell_type": "code",
   "execution_count": 6,
   "metadata": {},
   "outputs": [],
   "source": [
    "X = data.copy()\n",
    "y = X.pop('Rings')"
   ]
  },
  {
   "cell_type": "code",
   "execution_count": 7,
   "metadata": {},
   "outputs": [
    {
     "name": "stdout",
     "output_type": "stream",
     "text": [
      "(4177, 8) (4177,)\n"
     ]
    }
   ],
   "source": [
    "print(X.shape, y.shape)"
   ]
  },
  {
   "cell_type": "markdown",
   "metadata": {},
   "source": [
    "## data split"
   ]
  },
  {
   "cell_type": "code",
   "execution_count": 8,
   "metadata": {},
   "outputs": [],
   "source": [
    "from sklearn.model_selection import train_test_split"
   ]
  },
  {
   "cell_type": "code",
   "execution_count": 9,
   "metadata": {},
   "outputs": [],
   "source": [
    "X_train, X_test, y_train, y_test = train_test_split(X, y, test_size=0.2, random_state=0)"
   ]
  },
  {
   "cell_type": "code",
   "execution_count": 10,
   "metadata": {
    "scrolled": true
   },
   "outputs": [
    {
     "name": "stdout",
     "output_type": "stream",
     "text": [
      "X_train : (3341, 8), y_train : (3341,)\n",
      "X_test : (836, 8), y_test : (836,)\n"
     ]
    }
   ],
   "source": [
    "print(f\"X_train : {X_train.shape}, y_train : {y_train.shape}\")\n",
    "print(f\"X_test : {X_test.shape}, y_test : {y_test.shape}\")"
   ]
  },
  {
   "cell_type": "markdown",
   "metadata": {},
   "source": [
    "# model base"
   ]
  },
  {
   "cell_type": "code",
   "execution_count": 11,
   "metadata": {},
   "outputs": [],
   "source": [
    "import tensorflow as tf\n",
    "from tensorflow import keras\n",
    "from tensorflow.keras import layers"
   ]
  },
  {
   "cell_type": "code",
   "execution_count": 12,
   "metadata": {},
   "outputs": [],
   "source": [
    "model = keras.Sequential([\n",
    "    layers.Dense(64, activation='relu', input_shape=[8]),\n",
    "    layers.Dense(128, activation='relu'),\n",
    "    layers.Flatten(),\n",
    "    layers.Dense(1)\n",
    "])"
   ]
  },
  {
   "cell_type": "code",
   "execution_count": 13,
   "metadata": {},
   "outputs": [
    {
     "name": "stdout",
     "output_type": "stream",
     "text": [
      "Model: \"sequential\"\n",
      "_________________________________________________________________\n",
      "Layer (type)                 Output Shape              Param #   \n",
      "=================================================================\n",
      "dense (Dense)                (None, 64)                576       \n",
      "_________________________________________________________________\n",
      "dense_1 (Dense)              (None, 128)               8320      \n",
      "_________________________________________________________________\n",
      "flatten (Flatten)            (None, 128)               0         \n",
      "_________________________________________________________________\n",
      "dense_2 (Dense)              (None, 1)                 129       \n",
      "=================================================================\n",
      "Total params: 9,025\n",
      "Trainable params: 9,025\n",
      "Non-trainable params: 0\n",
      "_________________________________________________________________\n"
     ]
    }
   ],
   "source": [
    "model.summary()"
   ]
  },
  {
   "cell_type": "code",
   "execution_count": 14,
   "metadata": {},
   "outputs": [],
   "source": [
    "model.compile(optimizer='adam', loss='mse', metrics=['mae', 'mse'])"
   ]
  },
  {
   "cell_type": "code",
   "execution_count": 15,
   "metadata": {},
   "outputs": [
    {
     "name": "stdout",
     "output_type": "stream",
     "text": [
      "WARNING:tensorflow:Falling back from v2 loop because of error: Failed to find data adapter that can handle input: <class 'pandas.core.frame.DataFrame'>, <class 'NoneType'>\n",
      "Train on 3341 samples, validate on 836 samples\n",
      "Epoch 1/100\n",
      "3341/3341 [==============================] - 0s 52us/sample - loss: 89.2779 - mae: 8.8599 - mse: 89.2778 - val_loss: 61.2288 - val_mae: 7.1008 - val_mse: 61.2288\n",
      "Epoch 2/100\n",
      "3341/3341 [==============================] - 0s 20us/sample - loss: 34.6343 - mae: 4.8250 - mse: 34.6343 - val_loss: 12.2723 - val_mae: 2.6276 - val_mse: 12.2723\n",
      "Epoch 3/100\n",
      "3341/3341 [==============================] - 0s 18us/sample - loss: 11.1028 - mae: 2.6672 - mse: 11.1028 - val_loss: 9.6334 - val_mae: 2.3362 - val_mse: 9.6334\n",
      "Epoch 4/100\n",
      "3341/3341 [==============================] - 0s 23us/sample - loss: 9.2708 - mae: 2.2406 - mse: 9.2708 - val_loss: 8.7061 - val_mae: 2.1521 - val_mse: 8.7061\n",
      "Epoch 5/100\n",
      "3341/3341 [==============================] - 0s 23us/sample - loss: 8.6335 - mae: 2.1834 - mse: 8.6335 - val_loss: 8.2744 - val_mae: 2.0417 - val_mse: 8.2744\n",
      "Epoch 6/100\n",
      "3341/3341 [==============================] - 0s 24us/sample - loss: 8.2110 - mae: 2.0921 - mse: 8.2110 - val_loss: 7.8896 - val_mae: 1.9851 - val_mse: 7.8896\n",
      "Epoch 7/100\n",
      "3341/3341 [==============================] - 0s 21us/sample - loss: 7.8813 - mae: 2.0541 - mse: 7.8813 - val_loss: 7.6036 - val_mae: 1.9275 - val_mse: 7.6036\n",
      "Epoch 8/100\n",
      "3341/3341 [==============================] - 0s 18us/sample - loss: 7.5425 - mae: 2.0049 - mse: 7.5425 - val_loss: 7.3632 - val_mae: 1.8750 - val_mse: 7.3632\n",
      "Epoch 9/100\n",
      "3341/3341 [==============================] - 0s 18us/sample - loss: 7.2477 - mae: 1.9610 - mse: 7.2477 - val_loss: 7.1032 - val_mae: 1.9003 - val_mse: 7.1032\n",
      "Epoch 10/100\n",
      "3341/3341 [==============================] - 0s 22us/sample - loss: 7.0161 - mae: 1.9221 - mse: 7.0161 - val_loss: 6.9014 - val_mae: 1.8629 - val_mse: 6.9014\n",
      "Epoch 11/100\n",
      "3341/3341 [==============================] - 0s 17us/sample - loss: 6.8059 - mae: 1.8834 - mse: 6.8059 - val_loss: 6.7324 - val_mae: 1.8638 - val_mse: 6.7324\n",
      "Epoch 12/100\n",
      "3341/3341 [==============================] - 0s 22us/sample - loss: 6.6342 - mae: 1.8637 - mse: 6.6342 - val_loss: 6.5742 - val_mae: 1.8191 - val_mse: 6.5742\n",
      "Epoch 13/100\n",
      "3341/3341 [==============================] - 0s 17us/sample - loss: 6.4626 - mae: 1.8248 - mse: 6.4626 - val_loss: 6.4511 - val_mae: 1.8398 - val_mse: 6.4511\n",
      "Epoch 14/100\n",
      "3341/3341 [==============================] - 0s 19us/sample - loss: 6.3491 - mae: 1.8240 - mse: 6.3491 - val_loss: 6.3525 - val_mae: 1.7508 - val_mse: 6.3525\n",
      "Epoch 15/100\n",
      "3341/3341 [==============================] - 0s 31us/sample - loss: 6.2338 - mae: 1.7968 - mse: 6.2338 - val_loss: 6.2854 - val_mae: 1.7281 - val_mse: 6.2854\n",
      "Epoch 16/100\n",
      "3341/3341 [==============================] - 0s 36us/sample - loss: 6.1242 - mae: 1.7760 - mse: 6.1242 - val_loss: 6.1661 - val_mae: 1.7400 - val_mse: 6.1661\n",
      "Epoch 17/100\n",
      "3341/3341 [==============================] - 0s 28us/sample - loss: 6.0400 - mae: 1.7688 - mse: 6.0400 - val_loss: 6.0729 - val_mae: 1.7364 - val_mse: 6.0729\n",
      "Epoch 18/100\n",
      "3341/3341 [==============================] - 0s 18us/sample - loss: 5.9516 - mae: 1.7531 - mse: 5.9516 - val_loss: 6.0450 - val_mae: 1.6847 - val_mse: 6.0450\n",
      "Epoch 19/100\n",
      "3341/3341 [==============================] - 0s 17us/sample - loss: 5.8639 - mae: 1.7422 - mse: 5.8639 - val_loss: 5.9322 - val_mae: 1.6962 - val_mse: 5.9322\n",
      "Epoch 20/100\n",
      "3341/3341 [==============================] - 0s 21us/sample - loss: 5.7757 - mae: 1.7265 - mse: 5.7757 - val_loss: 5.8528 - val_mae: 1.7457 - val_mse: 5.8528\n",
      "Epoch 21/100\n",
      "3341/3341 [==============================] - 0s 23us/sample - loss: 5.6964 - mae: 1.7279 - mse: 5.6964 - val_loss: 5.8267 - val_mae: 1.6557 - val_mse: 5.8267\n",
      "Epoch 22/100\n",
      "3341/3341 [==============================] - 0s 29us/sample - loss: 5.6702 - mae: 1.7012 - mse: 5.6702 - val_loss: 5.8017 - val_mae: 1.6341 - val_mse: 5.8017\n",
      "Epoch 23/100\n",
      "3341/3341 [==============================] - 0s 35us/sample - loss: 5.5722 - mae: 1.6941 - mse: 5.5722 - val_loss: 5.8614 - val_mae: 1.6172 - val_mse: 5.8614\n",
      "Epoch 24/100\n",
      "3341/3341 [==============================] - 0s 32us/sample - loss: 5.5394 - mae: 1.6747 - mse: 5.5394 - val_loss: 5.5670 - val_mae: 1.6550 - val_mse: 5.5670\n",
      "Epoch 25/100\n",
      "3341/3341 [==============================] - 0s 32us/sample - loss: 5.3817 - mae: 1.6602 - mse: 5.3817 - val_loss: 5.4968 - val_mae: 1.6493 - val_mse: 5.4968\n",
      "Epoch 26/100\n",
      "3341/3341 [==============================] - 0s 33us/sample - loss: 5.3265 - mae: 1.6583 - mse: 5.3265 - val_loss: 5.4834 - val_mae: 1.6132 - val_mse: 5.4834\n",
      "Epoch 27/100\n",
      "3341/3341 [==============================] - 0s 24us/sample - loss: 5.2647 - mae: 1.6389 - mse: 5.2647 - val_loss: 5.3756 - val_mae: 1.6047 - val_mse: 5.3756\n",
      "Epoch 28/100\n",
      "3341/3341 [==============================] - 0s 24us/sample - loss: 5.1771 - mae: 1.6222 - mse: 5.1771 - val_loss: 5.3071 - val_mae: 1.6283 - val_mse: 5.3071\n",
      "Epoch 29/100\n",
      "3341/3341 [==============================] - 0s 18us/sample - loss: 5.0646 - mae: 1.6285 - mse: 5.0646 - val_loss: 5.3061 - val_mae: 1.5620 - val_mse: 5.3061\n",
      "Epoch 30/100\n",
      "3341/3341 [==============================] - 0s 18us/sample - loss: 5.0103 - mae: 1.6017 - mse: 5.0103 - val_loss: 5.1530 - val_mae: 1.6084 - val_mse: 5.1530\n",
      "Epoch 31/100\n",
      "3341/3341 [==============================] - 0s 29us/sample - loss: 4.9908 - mae: 1.5949 - mse: 4.9908 - val_loss: 5.1083 - val_mae: 1.5984 - val_mse: 5.1083\n",
      "Epoch 32/100\n",
      "3341/3341 [==============================] - 0s 34us/sample - loss: 4.8868 - mae: 1.5878 - mse: 4.8868 - val_loss: 5.0930 - val_mae: 1.6200 - val_mse: 5.0930\n",
      "Epoch 33/100\n",
      "3341/3341 [==============================] - 0s 28us/sample - loss: 4.8567 - mae: 1.5802 - mse: 4.8567 - val_loss: 5.0745 - val_mae: 1.6267 - val_mse: 5.0745\n",
      "Epoch 34/100\n",
      "3341/3341 [==============================] - 0s 25us/sample - loss: 4.8193 - mae: 1.5783 - mse: 4.8193 - val_loss: 5.0135 - val_mae: 1.5690 - val_mse: 5.0135\n",
      "Epoch 35/100\n",
      "3341/3341 [==============================] - 0s 25us/sample - loss: 4.8065 - mae: 1.5778 - mse: 4.8065 - val_loss: 5.0835 - val_mae: 1.5288 - val_mse: 5.0835\n",
      "Epoch 36/100\n",
      "3341/3341 [==============================] - 0s 30us/sample - loss: 4.8140 - mae: 1.5766 - mse: 4.8140 - val_loss: 4.9519 - val_mae: 1.5531 - val_mse: 4.9519\n",
      "Epoch 37/100\n",
      "3341/3341 [==============================] - 0s 28us/sample - loss: 4.7954 - mae: 1.5642 - mse: 4.7954 - val_loss: 4.9239 - val_mae: 1.5550 - val_mse: 4.9239\n",
      "Epoch 38/100\n",
      "3341/3341 [==============================] - 0s 25us/sample - loss: 4.7385 - mae: 1.5701 - mse: 4.7385 - val_loss: 4.9293 - val_mae: 1.5721 - val_mse: 4.9293\n",
      "Epoch 39/100\n",
      "3341/3341 [==============================] - 0s 20us/sample - loss: 4.7512 - mae: 1.5787 - mse: 4.7512 - val_loss: 4.9471 - val_mae: 1.5191 - val_mse: 4.9471\n",
      "Epoch 40/100\n",
      "3341/3341 [==============================] - 0s 18us/sample - loss: 4.7039 - mae: 1.5498 - mse: 4.7039 - val_loss: 4.8845 - val_mae: 1.5613 - val_mse: 4.8845\n",
      "Epoch 41/100\n",
      "3341/3341 [==============================] - 0s 30us/sample - loss: 4.6656 - mae: 1.5432 - mse: 4.6656 - val_loss: 4.9307 - val_mae: 1.5117 - val_mse: 4.9307\n",
      "Epoch 42/100\n",
      "3341/3341 [==============================] - 0s 32us/sample - loss: 4.6453 - mae: 1.5401 - mse: 4.6453 - val_loss: 4.8590 - val_mae: 1.5557 - val_mse: 4.8590\n",
      "Epoch 43/100\n",
      "3341/3341 [==============================] - 0s 28us/sample - loss: 4.6723 - mae: 1.5599 - mse: 4.6723 - val_loss: 4.8610 - val_mae: 1.5177 - val_mse: 4.8610\n",
      "Epoch 44/100\n",
      "3341/3341 [==============================] - 0s 27us/sample - loss: 4.6415 - mae: 1.5431 - mse: 4.6415 - val_loss: 4.8461 - val_mae: 1.5167 - val_mse: 4.8461\n",
      "Epoch 45/100\n",
      "3341/3341 [==============================] - 0s 21us/sample - loss: 4.6277 - mae: 1.5356 - mse: 4.6277 - val_loss: 4.8588 - val_mae: 1.5663 - val_mse: 4.8588\n",
      "Epoch 46/100\n",
      "3341/3341 [==============================] - 0s 26us/sample - loss: 4.6479 - mae: 1.5375 - mse: 4.6479 - val_loss: 4.8381 - val_mae: 1.5305 - val_mse: 4.8381\n",
      "Epoch 47/100\n"
     ]
    },
    {
     "name": "stdout",
     "output_type": "stream",
     "text": [
      "3341/3341 [==============================] - 0s 36us/sample - loss: 4.6016 - mae: 1.5382 - mse: 4.6016 - val_loss: 4.8597 - val_mae: 1.5054 - val_mse: 4.8597\n",
      "Epoch 48/100\n",
      "3341/3341 [==============================] - 0s 20us/sample - loss: 4.6312 - mae: 1.5350 - mse: 4.6312 - val_loss: 4.8077 - val_mae: 1.5194 - val_mse: 4.8077\n",
      "Epoch 49/100\n",
      "3341/3341 [==============================] - 0s 30us/sample - loss: 4.6839 - mae: 1.5365 - mse: 4.6839 - val_loss: 4.9230 - val_mae: 1.6162 - val_mse: 4.9230\n",
      "Epoch 50/100\n",
      "3341/3341 [==============================] - 0s 24us/sample - loss: 4.9538 - mae: 1.6374 - mse: 4.9538 - val_loss: 4.8582 - val_mae: 1.5169 - val_mse: 4.8582\n",
      "Epoch 51/100\n",
      "3341/3341 [==============================] - 0s 23us/sample - loss: 4.5853 - mae: 1.5315 - mse: 4.5853 - val_loss: 4.8215 - val_mae: 1.5570 - val_mse: 4.8215\n",
      "Epoch 52/100\n",
      "3341/3341 [==============================] - 0s 22us/sample - loss: 4.5685 - mae: 1.5355 - mse: 4.5685 - val_loss: 5.0535 - val_mae: 1.5134 - val_mse: 5.0535\n",
      "Epoch 53/100\n",
      "3341/3341 [==============================] - 0s 30us/sample - loss: 4.6116 - mae: 1.5367 - mse: 4.6116 - val_loss: 4.8187 - val_mae: 1.5102 - val_mse: 4.8187\n",
      "Epoch 54/100\n",
      "3341/3341 [==============================] - 0s 37us/sample - loss: 4.5670 - mae: 1.5300 - mse: 4.5670 - val_loss: 4.7787 - val_mae: 1.5252 - val_mse: 4.7787\n",
      "Epoch 55/100\n",
      "3341/3341 [==============================] - 0s 28us/sample - loss: 4.5501 - mae: 1.5278 - mse: 4.5501 - val_loss: 4.7828 - val_mae: 1.5234 - val_mse: 4.7828\n",
      "Epoch 56/100\n",
      "3341/3341 [==============================] - 0s 14us/sample - loss: 4.5558 - mae: 1.5285 - mse: 4.5558 - val_loss: 4.7589 - val_mae: 1.5148 - val_mse: 4.7589\n",
      "Epoch 57/100\n",
      "3341/3341 [==============================] - 0s 15us/sample - loss: 4.5672 - mae: 1.5325 - mse: 4.5672 - val_loss: 4.7739 - val_mae: 1.5035 - val_mse: 4.7739\n",
      "Epoch 58/100\n",
      "3341/3341 [==============================] - 0s 13us/sample - loss: 4.5727 - mae: 1.5193 - mse: 4.5727 - val_loss: 4.7617 - val_mae: 1.5242 - val_mse: 4.7617\n",
      "Epoch 59/100\n",
      "3341/3341 [==============================] - 0s 13us/sample - loss: 4.5512 - mae: 1.5184 - mse: 4.5512 - val_loss: 4.7623 - val_mae: 1.5256 - val_mse: 4.7623\n",
      "Epoch 60/100\n",
      "3341/3341 [==============================] - 0s 13us/sample - loss: 4.5825 - mae: 1.5392 - mse: 4.5825 - val_loss: 4.8498 - val_mae: 1.4946 - val_mse: 4.8498\n",
      "Epoch 61/100\n",
      "3341/3341 [==============================] - 0s 29us/sample - loss: 4.5659 - mae: 1.5207 - mse: 4.5659 - val_loss: 4.7551 - val_mae: 1.5254 - val_mse: 4.7551\n",
      "Epoch 62/100\n",
      "3341/3341 [==============================] - 0s 34us/sample - loss: 4.5310 - mae: 1.5339 - mse: 4.5310 - val_loss: 4.7591 - val_mae: 1.5159 - val_mse: 4.7591\n",
      "Epoch 63/100\n",
      "3341/3341 [==============================] - 0s 33us/sample - loss: 4.5372 - mae: 1.5237 - mse: 4.5372 - val_loss: 4.7770 - val_mae: 1.5454 - val_mse: 4.7770\n",
      "Epoch 64/100\n",
      "3341/3341 [==============================] - 0s 18us/sample - loss: 4.5237 - mae: 1.5287 - mse: 4.5237 - val_loss: 4.7408 - val_mae: 1.5075 - val_mse: 4.7408\n",
      "Epoch 65/100\n",
      "3341/3341 [==============================] - 0s 14us/sample - loss: 4.5301 - mae: 1.5242 - mse: 4.5301 - val_loss: 4.8057 - val_mae: 1.5698 - val_mse: 4.8057\n",
      "Epoch 66/100\n",
      "3341/3341 [==============================] - 0s 13us/sample - loss: 4.5429 - mae: 1.5263 - mse: 4.5429 - val_loss: 4.7482 - val_mae: 1.5125 - val_mse: 4.7482\n",
      "Epoch 67/100\n",
      "3341/3341 [==============================] - 0s 13us/sample - loss: 4.5175 - mae: 1.5194 - mse: 4.5175 - val_loss: 4.7321 - val_mae: 1.5041 - val_mse: 4.7321\n",
      "Epoch 68/100\n",
      "3341/3341 [==============================] - 0s 14us/sample - loss: 4.4918 - mae: 1.5152 - mse: 4.4918 - val_loss: 4.7260 - val_mae: 1.5089 - val_mse: 4.7260\n",
      "Epoch 69/100\n",
      "3341/3341 [==============================] - 0s 13us/sample - loss: 4.4881 - mae: 1.5184 - mse: 4.4881 - val_loss: 4.7576 - val_mae: 1.5450 - val_mse: 4.7576\n",
      "Epoch 70/100\n",
      "3341/3341 [==============================] - 0s 14us/sample - loss: 4.5079 - mae: 1.5250 - mse: 4.5079 - val_loss: 4.7386 - val_mae: 1.4988 - val_mse: 4.7386\n",
      "Epoch 71/100\n",
      "3341/3341 [==============================] - 0s 17us/sample - loss: 4.5013 - mae: 1.5193 - mse: 4.5013 - val_loss: 4.7218 - val_mae: 1.4966 - val_mse: 4.7218\n",
      "Epoch 72/100\n",
      "3341/3341 [==============================] - 0s 19us/sample - loss: 4.5007 - mae: 1.5148 - mse: 4.5007 - val_loss: 4.7539 - val_mae: 1.5478 - val_mse: 4.7539\n",
      "Epoch 73/100\n",
      "3341/3341 [==============================] - 0s 19us/sample - loss: 4.6015 - mae: 1.5473 - mse: 4.6015 - val_loss: 4.9316 - val_mae: 1.5046 - val_mse: 4.9316\n",
      "Epoch 74/100\n",
      "3341/3341 [==============================] - 0s 22us/sample - loss: 4.5614 - mae: 1.5181 - mse: 4.5614 - val_loss: 4.7701 - val_mae: 1.5540 - val_mse: 4.7701\n",
      "Epoch 75/100\n",
      "3341/3341 [==============================] - 0s 22us/sample - loss: 4.4776 - mae: 1.5193 - mse: 4.4776 - val_loss: 4.7285 - val_mae: 1.5305 - val_mse: 4.7285\n",
      "Epoch 76/100\n",
      "3341/3341 [==============================] - 0s 23us/sample - loss: 4.4960 - mae: 1.5191 - mse: 4.4960 - val_loss: 4.7353 - val_mae: 1.4891 - val_mse: 4.7353\n",
      "Epoch 77/100\n",
      "3341/3341 [==============================] - 0s 18us/sample - loss: 4.4641 - mae: 1.5094 - mse: 4.4641 - val_loss: 4.7617 - val_mae: 1.4849 - val_mse: 4.7617\n",
      "Epoch 78/100\n",
      "3341/3341 [==============================] - 0s 15us/sample - loss: 4.5627 - mae: 1.5239 - mse: 4.5627 - val_loss: 4.6985 - val_mae: 1.5157 - val_mse: 4.6985\n",
      "Epoch 79/100\n",
      "3341/3341 [==============================] - 0s 14us/sample - loss: 4.4830 - mae: 1.5085 - mse: 4.4830 - val_loss: 4.7532 - val_mae: 1.5562 - val_mse: 4.7532\n",
      "Epoch 80/100\n",
      "3341/3341 [==============================] - 0s 14us/sample - loss: 4.4610 - mae: 1.5136 - mse: 4.4610 - val_loss: 4.7515 - val_mae: 1.5521 - val_mse: 4.7515\n",
      "Epoch 81/100\n",
      "3341/3341 [==============================] - 0s 17us/sample - loss: 4.4785 - mae: 1.5216 - mse: 4.4785 - val_loss: 4.7263 - val_mae: 1.4849 - val_mse: 4.7263\n",
      "Epoch 82/100\n",
      "3341/3341 [==============================] - 0s 36us/sample - loss: 4.4465 - mae: 1.5073 - mse: 4.4465 - val_loss: 4.6950 - val_mae: 1.5165 - val_mse: 4.6950\n",
      "Epoch 83/100\n",
      "3341/3341 [==============================] - 0s 36us/sample - loss: 4.4528 - mae: 1.5065 - mse: 4.4528 - val_loss: 4.6830 - val_mae: 1.5005 - val_mse: 4.6830\n",
      "Epoch 84/100\n",
      "3341/3341 [==============================] - 0s 22us/sample - loss: 4.4455 - mae: 1.5081 - mse: 4.4455 - val_loss: 4.7585 - val_mae: 1.5633 - val_mse: 4.7585\n",
      "Epoch 85/100\n",
      "3341/3341 [==============================] - 0s 17us/sample - loss: 4.5506 - mae: 1.5467 - mse: 4.5506 - val_loss: 4.7158 - val_mae: 1.4873 - val_mse: 4.7158\n",
      "Epoch 86/100\n",
      "3341/3341 [==============================] - 0s 15us/sample - loss: 4.4388 - mae: 1.5040 - mse: 4.4388 - val_loss: 4.6914 - val_mae: 1.4879 - val_mse: 4.6914\n",
      "Epoch 87/100\n",
      "3341/3341 [==============================] - 0s 14us/sample - loss: 4.4634 - mae: 1.5089 - mse: 4.4634 - val_loss: 4.7165 - val_mae: 1.5439 - val_mse: 4.7165\n",
      "Epoch 88/100\n",
      "3341/3341 [==============================] - 0s 14us/sample - loss: 4.4518 - mae: 1.5032 - mse: 4.4518 - val_loss: 4.6823 - val_mae: 1.5074 - val_mse: 4.6823\n",
      "Epoch 89/100\n",
      "3341/3341 [==============================] - 0s 13us/sample - loss: 4.4323 - mae: 1.5063 - mse: 4.4323 - val_loss: 4.6623 - val_mae: 1.5004 - val_mse: 4.6623\n",
      "Epoch 90/100\n",
      "3341/3341 [==============================] - 0s 16us/sample - loss: 4.4613 - mae: 1.5157 - mse: 4.4613 - val_loss: 4.7327 - val_mae: 1.4851 - val_mse: 4.7327\n",
      "Epoch 91/100\n",
      "3341/3341 [==============================] - 0s 15us/sample - loss: 4.4631 - mae: 1.5151 - mse: 4.4631 - val_loss: 4.7338 - val_mae: 1.5532 - val_mse: 4.7338\n",
      "Epoch 92/100\n",
      "3341/3341 [==============================] - 0s 13us/sample - loss: 4.4374 - mae: 1.5023 - mse: 4.4374 - val_loss: 4.6692 - val_mae: 1.5117 - val_mse: 4.6692\n",
      "Epoch 93/100\n",
      "3341/3341 [==============================] - 0s 13us/sample - loss: 4.4282 - mae: 1.5040 - mse: 4.4282 - val_loss: 4.6785 - val_mae: 1.5053 - val_mse: 4.6785\n",
      "Epoch 94/100\n",
      "3341/3341 [==============================] - 0s 15us/sample - loss: 4.4729 - mae: 1.5208 - mse: 4.4729 - val_loss: 4.7408 - val_mae: 1.4829 - val_mse: 4.7408\n"
     ]
    },
    {
     "name": "stdout",
     "output_type": "stream",
     "text": [
      "Epoch 95/100\n",
      "3341/3341 [==============================] - 0s 19us/sample - loss: 4.4580 - mae: 1.5218 - mse: 4.4580 - val_loss: 4.7428 - val_mae: 1.4792 - val_mse: 4.7428\n",
      "Epoch 96/100\n",
      "3341/3341 [==============================] - 0s 27us/sample - loss: 4.4395 - mae: 1.5028 - mse: 4.4395 - val_loss: 4.6766 - val_mae: 1.4829 - val_mse: 4.6766\n",
      "Epoch 97/100\n",
      "3341/3341 [==============================] - 0s 34us/sample - loss: 4.4417 - mae: 1.5028 - mse: 4.4417 - val_loss: 4.7056 - val_mae: 1.5384 - val_mse: 4.7056\n",
      "Epoch 98/100\n",
      "3341/3341 [==============================] - 0s 45us/sample - loss: 4.4517 - mae: 1.5115 - mse: 4.4517 - val_loss: 4.6542 - val_mae: 1.4922 - val_mse: 4.6542\n",
      "Epoch 99/100\n",
      "3341/3341 [==============================] - 0s 16us/sample - loss: 4.4394 - mae: 1.5161 - mse: 4.4394 - val_loss: 4.8237 - val_mae: 1.4900 - val_mse: 4.8237\n",
      "Epoch 100/100\n",
      "3341/3341 [==============================] - 0s 15us/sample - loss: 4.5494 - mae: 1.5258 - mse: 4.5494 - val_loss: 4.6708 - val_mae: 1.5151 - val_mse: 4.6708\n"
     ]
    }
   ],
   "source": [
    "history = model.fit(X_train, y_train, \n",
    "                     epochs=100,\n",
    "                     batch_size=128,\n",
    "                     validation_data=(X_test, y_test),\n",
    "                     verbose = 1\n",
    "                    )"
   ]
  },
  {
   "cell_type": "code",
   "execution_count": 16,
   "metadata": {},
   "outputs": [
    {
     "data": {
      "text/plain": [
       "<matplotlib.legend.Legend at 0x13a2a1e10>"
      ]
     },
     "execution_count": 16,
     "metadata": {},
     "output_type": "execute_result"
    },
    {
     "data": {
      "image/png": "[encoded data removed]",
      "text/plain": [
       "<Figure size 432x288 with 1 Axes>"
      ]
     },
     "metadata": {
      "needs_background": "light"
     },
     "output_type": "display_data"
    }
   ],
   "source": [
    "hist = pd.DataFrame(history.history)\n",
    "hist['epoch'] = history.epoch\n",
    "\n",
    "plt.xlabel('Epoch')\n",
    "plt.ylabel('Mean Abs Error [MPG]')\n",
    "plt.plot(hist['epoch'], hist['mae'], label='Train Error')\n",
    "plt.plot(hist['epoch'], hist['val_mae'], label='val Error')\n",
    "plt.ylim(0, 5)\n",
    "plt.legend()"
   ]
  },
  {
   "cell_type": "code",
   "execution_count": 17,
   "metadata": {},
   "outputs": [
    {
     "data": {
      "text/plain": [
       "<matplotlib.legend.Legend at 0x139c66890>"
      ]
     },
     "execution_count": 17,
     "metadata": {},
     "output_type": "execute_result"
    },
    {
     "data": {
      "image/png": "[encoded data removed]",
      "text/plain": [
       "<Figure size 432x288 with 1 Axes>"
      ]
     },
     "metadata": {
      "needs_background": "light"
     },
     "output_type": "display_data"
    }
   ],
   "source": [
    "plt.xlabel('Epoch')\n",
    "plt.ylabel('Mean Square Error [$MPG^2$]')\n",
    "plt.plot(hist['epoch'], hist['mse'], label='Train Error')\n",
    "plt.plot(hist['epoch'], hist['val_mse'], label='val Error')\n",
    "plt.ylim(0, 30)\n",
    "plt.legend()"
   ]
  },
  {
   "cell_type": "code",
   "execution_count": 18,
   "metadata": {
    "scrolled": true
   },
   "outputs": [
    {
     "name": "stdout",
     "output_type": "stream",
     "text": [
      "WARNING:tensorflow:Falling back from v2 loop because of error: Failed to find data adapter that can handle input: <class 'pandas.core.frame.DataFrame'>, <class 'NoneType'>\n",
      "836/836 [==============================] - 0s 50us/sample - loss: 4.6708 - mae: 1.5151 - mse: 4.6708\n"
     ]
    },
    {
     "data": {
      "text/plain": [
       "2.1612122422423177"
      ]
     },
     "execution_count": 18,
     "metadata": {},
     "output_type": "execute_result"
    }
   ],
   "source": [
    "loss, mae, mse = model.evaluate(X_test, y_test)\n",
    "mse**0.5"
   ]
  },
  {
   "cell_type": "markdown",
   "metadata": {},
   "source": [
    "## model_2 optimizer sgd"
   ]
  },
  {
   "cell_type": "code",
   "execution_count": 30,
   "metadata": {},
   "outputs": [],
   "source": [
    "model = keras.Sequential([\n",
    "    layers.Dense(64, activation='relu', input_shape=[8]),\n",
    "    layers.Dense(128, activation='relu'),\n",
    "    layers.Dense(1)\n",
    "])"
   ]
  },
  {
   "cell_type": "code",
   "execution_count": 31,
   "metadata": {},
   "outputs": [
    {
     "name": "stdout",
     "output_type": "stream",
     "text": [
      "Model: \"sequential_3\"\n",
      "_________________________________________________________________\n",
      "Layer (type)                 Output Shape              Param #   \n",
      "=================================================================\n",
      "dense_9 (Dense)              (None, 64)                576       \n",
      "_________________________________________________________________\n",
      "dense_10 (Dense)             (None, 128)               8320      \n",
      "_________________________________________________________________\n",
      "dense_11 (Dense)             (None, 1)                 129       \n",
      "=================================================================\n",
      "Total params: 9,025\n",
      "Trainable params: 9,025\n",
      "Non-trainable params: 0\n",
      "_________________________________________________________________\n"
     ]
    }
   ],
   "source": [
    "model.summary()"
   ]
  },
  {
   "cell_type": "code",
   "execution_count": 32,
   "metadata": {},
   "outputs": [],
   "source": [
    "model.compile(optimizer='sgd', loss='mse', metrics=['mae', 'mse'])"
   ]
  },
  {
   "cell_type": "code",
   "execution_count": 33,
   "metadata": {},
   "outputs": [
    {
     "name": "stdout",
     "output_type": "stream",
     "text": [
      "WARNING:tensorflow:Falling back from v2 loop because of error: Failed to find data adapter that can handle input: <class 'pandas.core.frame.DataFrame'>, <class 'NoneType'>\n",
      "Train on 3341 samples, validate on 836 samples\n",
      "Epoch 1/100\n",
      "3341/3341 [==============================] - 0s 53us/sample - loss: 18.9722 - mae: 3.0788 - mse: 18.9722 - val_loss: 7.9456 - val_mae: 1.8765 - val_mse: 7.9456\n",
      "Epoch 2/100\n",
      "3341/3341 [==============================] - 0s 17us/sample - loss: 7.3016 - mae: 1.9646 - mse: 7.3016 - val_loss: 8.0496 - val_mae: 2.2907 - val_mse: 8.0496\n",
      "Epoch 3/100\n",
      "3341/3341 [==============================] - 0s 21us/sample - loss: 7.4316 - mae: 1.9877 - mse: 7.4316 - val_loss: 7.7779 - val_mae: 2.2983 - val_mse: 7.7779\n",
      "Epoch 4/100\n",
      "3341/3341 [==============================] - 0s 17us/sample - loss: 6.7178 - mae: 1.8878 - mse: 6.7178 - val_loss: 10.4181 - val_mae: 2.2077 - val_mse: 10.4181\n",
      "Epoch 5/100\n",
      "3341/3341 [==============================] - 0s 22us/sample - loss: 7.8450 - mae: 2.0785 - mse: 7.8450 - val_loss: 12.0859 - val_mae: 2.4560 - val_mse: 12.0859\n",
      "Epoch 6/100\n",
      "3341/3341 [==============================] - 0s 22us/sample - loss: 6.8243 - mae: 1.9182 - mse: 6.8243 - val_loss: 8.6334 - val_mae: 1.9210 - val_mse: 8.6334\n",
      "Epoch 7/100\n",
      "3341/3341 [==============================] - 0s 22us/sample - loss: 6.5752 - mae: 1.8670 - mse: 6.5752 - val_loss: 8.3224 - val_mae: 1.8972 - val_mse: 8.3224\n",
      "Epoch 8/100\n",
      "3341/3341 [==============================] - 0s 21us/sample - loss: 7.3080 - mae: 1.9937 - mse: 7.3080 - val_loss: 12.1058 - val_mae: 3.1127 - val_mse: 12.1058\n",
      "Epoch 9/100\n",
      "3341/3341 [==============================] - 0s 17us/sample - loss: 7.0402 - mae: 1.9571 - mse: 7.0402 - val_loss: 6.5108 - val_mae: 1.9917 - val_mse: 6.5108\n",
      "Epoch 10/100\n",
      "3341/3341 [==============================] - 0s 17us/sample - loss: 6.3171 - mae: 1.8554 - mse: 6.3171 - val_loss: 8.7197 - val_mae: 2.0227 - val_mse: 8.7197\n",
      "Epoch 11/100\n",
      "3341/3341 [==============================] - 0s 16us/sample - loss: 7.1418 - mae: 1.9727 - mse: 7.1418 - val_loss: 6.6136 - val_mae: 2.0628 - val_mse: 6.6136\n",
      "Epoch 12/100\n",
      "3341/3341 [==============================] - 0s 16us/sample - loss: 6.2190 - mae: 1.8285 - mse: 6.2190 - val_loss: 6.5289 - val_mae: 2.0493 - val_mse: 6.5289\n",
      "Epoch 13/100\n",
      "3341/3341 [==============================] - 0s 17us/sample - loss: 6.4372 - mae: 1.8845 - mse: 6.4372 - val_loss: 6.6534 - val_mae: 1.6841 - val_mse: 6.6534\n",
      "Epoch 14/100\n",
      "3341/3341 [==============================] - 0s 16us/sample - loss: 7.6658 - mae: 2.0772 - mse: 7.6658 - val_loss: 10.1940 - val_mae: 2.7814 - val_mse: 10.1940\n",
      "Epoch 15/100\n",
      "3341/3341 [==============================] - 0s 18us/sample - loss: 6.7389 - mae: 1.9221 - mse: 6.7389 - val_loss: 7.5121 - val_mae: 2.3151 - val_mse: 7.5121\n",
      "Epoch 16/100\n",
      "3341/3341 [==============================] - 0s 17us/sample - loss: 6.0152 - mae: 1.8036 - mse: 6.0152 - val_loss: 6.7736 - val_mae: 1.6887 - val_mse: 6.7736\n",
      "Epoch 17/100\n",
      "3341/3341 [==============================] - 0s 18us/sample - loss: 6.2669 - mae: 1.8415 - mse: 6.2669 - val_loss: 14.4928 - val_mae: 3.4527 - val_mse: 14.4928\n",
      "Epoch 18/100\n",
      "3341/3341 [==============================] - 0s 18us/sample - loss: 6.8909 - mae: 1.9431 - mse: 6.8909 - val_loss: 7.6114 - val_mae: 1.8486 - val_mse: 7.6114\n",
      "Epoch 19/100\n",
      "3341/3341 [==============================] - 0s 17us/sample - loss: 5.5251 - mae: 1.6975 - mse: 5.5251 - val_loss: 6.3088 - val_mae: 2.0331 - val_mse: 6.3088\n",
      "Epoch 20/100\n",
      "3341/3341 [==============================] - 0s 17us/sample - loss: 5.5375 - mae: 1.7357 - mse: 5.5375 - val_loss: 8.8189 - val_mae: 2.5832 - val_mse: 8.8189\n",
      "Epoch 21/100\n",
      "3341/3341 [==============================] - 0s 17us/sample - loss: 6.4825 - mae: 1.9150 - mse: 6.4825 - val_loss: 9.3145 - val_mae: 2.1561 - val_mse: 9.3145\n",
      "Epoch 22/100\n",
      "3341/3341 [==============================] - 0s 17us/sample - loss: 6.0172 - mae: 1.7946 - mse: 6.0172 - val_loss: 9.6583 - val_mae: 2.7188 - val_mse: 9.6583\n",
      "Epoch 23/100\n",
      "3341/3341 [==============================] - 0s 18us/sample - loss: 6.7556 - mae: 1.9268 - mse: 6.7556 - val_loss: 6.0687 - val_mae: 1.6177 - val_mse: 6.0687\n",
      "Epoch 24/100\n",
      "3341/3341 [==============================] - 0s 22us/sample - loss: 5.4948 - mae: 1.7070 - mse: 5.4948 - val_loss: 5.6391 - val_mae: 1.5701 - val_mse: 5.6391\n",
      "Epoch 25/100\n",
      "3341/3341 [==============================] - 0s 22us/sample - loss: 5.4344 - mae: 1.6878 - mse: 5.4344 - val_loss: 8.0274 - val_mae: 2.3238 - val_mse: 8.0274\n",
      "Epoch 26/100\n",
      "3341/3341 [==============================] - 0s 18us/sample - loss: 6.8241 - mae: 1.9467 - mse: 6.8241 - val_loss: 6.7625 - val_mae: 2.1598 - val_mse: 6.7625\n",
      "Epoch 27/100\n",
      "3341/3341 [==============================] - 0s 17us/sample - loss: 5.7552 - mae: 1.7685 - mse: 5.7552 - val_loss: 7.0879 - val_mae: 1.7974 - val_mse: 7.0879\n",
      "Epoch 28/100\n",
      "3341/3341 [==============================] - 0s 16us/sample - loss: 5.5293 - mae: 1.7039 - mse: 5.5293 - val_loss: 7.3907 - val_mae: 2.2973 - val_mse: 7.3907\n",
      "Epoch 29/100\n",
      "3341/3341 [==============================] - 0s 17us/sample - loss: 5.8321 - mae: 1.7878 - mse: 5.8321 - val_loss: 5.9387 - val_mae: 1.9520 - val_mse: 5.9387\n",
      "Epoch 30/100\n",
      "3341/3341 [==============================] - 0s 17us/sample - loss: 5.9790 - mae: 1.8126 - mse: 5.9790 - val_loss: 5.3044 - val_mae: 1.7235 - val_mse: 5.3044\n",
      "Epoch 31/100\n",
      "3341/3341 [==============================] - 0s 18us/sample - loss: 6.2763 - mae: 1.8671 - mse: 6.2763 - val_loss: 6.3591 - val_mae: 1.6494 - val_mse: 6.3591\n",
      "Epoch 32/100\n",
      "3341/3341 [==============================] - 0s 17us/sample - loss: 5.5084 - mae: 1.7052 - mse: 5.5084 - val_loss: 5.5280 - val_mae: 1.7766 - val_mse: 5.5280\n",
      "Epoch 33/100\n",
      "3341/3341 [==============================] - 0s 17us/sample - loss: 5.0622 - mae: 1.6393 - mse: 5.0622 - val_loss: 5.1603 - val_mae: 1.6536 - val_mse: 5.1603\n",
      "Epoch 34/100\n",
      "3341/3341 [==============================] - 0s 20us/sample - loss: 5.3133 - mae: 1.6755 - mse: 5.3133 - val_loss: 21.4657 - val_mae: 4.2684 - val_mse: 21.4657\n",
      "Epoch 35/100\n",
      "3341/3341 [==============================] - 0s 23us/sample - loss: 6.4729 - mae: 1.8209 - mse: 6.4729 - val_loss: 8.6323 - val_mae: 2.0412 - val_mse: 8.6323\n",
      "Epoch 36/100\n",
      "3341/3341 [==============================] - 0s 17us/sample - loss: 5.3387 - mae: 1.6752 - mse: 5.3387 - val_loss: 5.6194 - val_mae: 1.5712 - val_mse: 5.6194\n",
      "Epoch 37/100\n",
      "3341/3341 [==============================] - 0s 15us/sample - loss: 5.0230 - mae: 1.6183 - mse: 5.0230 - val_loss: 5.4372 - val_mae: 1.6195 - val_mse: 5.4372\n",
      "Epoch 38/100\n",
      "3341/3341 [==============================] - 0s 13us/sample - loss: 6.0488 - mae: 1.8215 - mse: 6.0488 - val_loss: 5.1021 - val_mae: 1.6284 - val_mse: 5.1021\n",
      "Epoch 39/100\n",
      "3341/3341 [==============================] - 0s 13us/sample - loss: 4.9802 - mae: 1.6188 - mse: 4.9802 - val_loss: 8.4771 - val_mae: 2.0524 - val_mse: 8.4771\n",
      "Epoch 40/100\n",
      "3341/3341 [==============================] - 0s 12us/sample - loss: 6.1900 - mae: 1.8236 - mse: 6.1900 - val_loss: 5.1458 - val_mae: 1.5903 - val_mse: 5.1458\n",
      "Epoch 41/100\n",
      "3341/3341 [==============================] - 0s 12us/sample - loss: 5.0530 - mae: 1.6321 - mse: 5.0530 - val_loss: 5.6909 - val_mae: 1.5760 - val_mse: 5.6909\n",
      "Epoch 42/100\n",
      "3341/3341 [==============================] - 0s 12us/sample - loss: 4.9915 - mae: 1.6242 - mse: 4.9915 - val_loss: 8.6891 - val_mae: 2.5422 - val_mse: 8.6891\n",
      "Epoch 43/100\n",
      "3341/3341 [==============================] - 0s 12us/sample - loss: 5.7832 - mae: 1.7672 - mse: 5.7832 - val_loss: 9.6792 - val_mae: 2.7198 - val_mse: 9.6792\n",
      "Epoch 44/100\n",
      "3341/3341 [==============================] - 0s 12us/sample - loss: 5.8366 - mae: 1.7556 - mse: 5.8366 - val_loss: 14.6253 - val_mae: 3.4332 - val_mse: 14.6253\n",
      "Epoch 45/100\n",
      "3341/3341 [==============================] - 0s 15us/sample - loss: 6.2989 - mae: 1.8453 - mse: 6.2989 - val_loss: 5.2078 - val_mae: 1.5912 - val_mse: 5.2078\n",
      "Epoch 46/100\n",
      "3341/3341 [==============================] - 0s 13us/sample - loss: 4.8433 - mae: 1.5917 - mse: 4.8433 - val_loss: 5.2018 - val_mae: 1.5364 - val_mse: 5.2018\n",
      "Epoch 47/100\n"
     ]
    },
    {
     "name": "stdout",
     "output_type": "stream",
     "text": [
      "3341/3341 [==============================] - 0s 13us/sample - loss: 5.1447 - mae: 1.6499 - mse: 5.1447 - val_loss: 5.7813 - val_mae: 1.9110 - val_mse: 5.7813\n",
      "Epoch 48/100\n",
      "3341/3341 [==============================] - 0s 12us/sample - loss: 5.0765 - mae: 1.6349 - mse: 5.0765 - val_loss: 7.1568 - val_mae: 2.2390 - val_mse: 7.1568\n",
      "Epoch 49/100\n",
      "3341/3341 [==============================] - 0s 12us/sample - loss: 5.1405 - mae: 1.6536 - mse: 5.1405 - val_loss: 4.9422 - val_mae: 1.5444 - val_mse: 4.9422\n",
      "Epoch 50/100\n",
      "3341/3341 [==============================] - 0s 12us/sample - loss: 4.8804 - mae: 1.5990 - mse: 4.8804 - val_loss: 4.8730 - val_mae: 1.5501 - val_mse: 4.8730\n",
      "Epoch 51/100\n",
      "3341/3341 [==============================] - 0s 12us/sample - loss: 4.8055 - mae: 1.5852 - mse: 4.8055 - val_loss: 9.6140 - val_mae: 2.6538 - val_mse: 9.6140\n",
      "Epoch 52/100\n",
      "3341/3341 [==============================] - 0s 12us/sample - loss: 5.6521 - mae: 1.7588 - mse: 5.6521 - val_loss: 5.6331 - val_mae: 1.8592 - val_mse: 5.6331\n",
      "Epoch 53/100\n",
      "3341/3341 [==============================] - 0s 12us/sample - loss: 4.8734 - mae: 1.5985 - mse: 4.8734 - val_loss: 4.8721 - val_mae: 1.5827 - val_mse: 4.8721\n",
      "Epoch 54/100\n",
      "3341/3341 [==============================] - 0s 14us/sample - loss: 4.7135 - mae: 1.5679 - mse: 4.7135 - val_loss: 8.8816 - val_mae: 2.0966 - val_mse: 8.8816\n",
      "Epoch 55/100\n",
      "3341/3341 [==============================] - 0s 14us/sample - loss: 4.9932 - mae: 1.6138 - mse: 4.9932 - val_loss: 5.8576 - val_mae: 1.6108 - val_mse: 5.8576\n",
      "Epoch 56/100\n",
      "3341/3341 [==============================] - 0s 15us/sample - loss: 5.0840 - mae: 1.6472 - mse: 5.0840 - val_loss: 10.5000 - val_mae: 2.3724 - val_mse: 10.5000\n",
      "Epoch 57/100\n",
      "3341/3341 [==============================] - 0s 15us/sample - loss: 5.3313 - mae: 1.6770 - mse: 5.3313 - val_loss: 5.1810 - val_mae: 1.5194 - val_mse: 5.1810\n",
      "Epoch 58/100\n",
      "3341/3341 [==============================] - 0s 15us/sample - loss: 4.8935 - mae: 1.5972 - mse: 4.8935 - val_loss: 5.0295 - val_mae: 1.6721 - val_mse: 5.0295\n",
      "Epoch 59/100\n",
      "3341/3341 [==============================] - 0s 15us/sample - loss: 4.8192 - mae: 1.5909 - mse: 4.8192 - val_loss: 5.2433 - val_mae: 1.7313 - val_mse: 5.2433\n",
      "Epoch 60/100\n",
      "3341/3341 [==============================] - 0s 13us/sample - loss: 4.8291 - mae: 1.5873 - mse: 4.8291 - val_loss: 7.3795 - val_mae: 2.2618 - val_mse: 7.3795\n",
      "Epoch 61/100\n",
      "3341/3341 [==============================] - 0s 15us/sample - loss: 5.0967 - mae: 1.6496 - mse: 5.0967 - val_loss: 4.8345 - val_mae: 1.5114 - val_mse: 4.8345\n",
      "Epoch 62/100\n",
      "3341/3341 [==============================] - 0s 12us/sample - loss: 5.1364 - mae: 1.6424 - mse: 5.1364 - val_loss: 6.1586 - val_mae: 1.7518 - val_mse: 6.1586\n",
      "Epoch 63/100\n",
      "3341/3341 [==============================] - 0s 12us/sample - loss: 5.0912 - mae: 1.6351 - mse: 5.0912 - val_loss: 6.4692 - val_mae: 1.7230 - val_mse: 6.4692\n",
      "Epoch 64/100\n",
      "3341/3341 [==============================] - 0s 12us/sample - loss: 4.8887 - mae: 1.6060 - mse: 4.8887 - val_loss: 5.1361 - val_mae: 1.6906 - val_mse: 5.1361\n",
      "Epoch 65/100\n",
      "3341/3341 [==============================] - 0s 14us/sample - loss: 4.7157 - mae: 1.5635 - mse: 4.7157 - val_loss: 7.0583 - val_mae: 2.2120 - val_mse: 7.0583\n",
      "Epoch 66/100\n",
      "3341/3341 [==============================] - 0s 29us/sample - loss: 5.2815 - mae: 1.6798 - mse: 5.2815 - val_loss: 7.1097 - val_mae: 1.8149 - val_mse: 7.1097\n",
      "Epoch 67/100\n",
      "3341/3341 [==============================] - 0s 35us/sample - loss: 4.8216 - mae: 1.5708 - mse: 4.8216 - val_loss: 5.7068 - val_mae: 1.8750 - val_mse: 5.7068\n",
      "Epoch 68/100\n",
      "3341/3341 [==============================] - 0s 33us/sample - loss: 4.6460 - mae: 1.5520 - mse: 4.6460 - val_loss: 5.6905 - val_mae: 1.6131 - val_mse: 5.6905\n",
      "Epoch 69/100\n",
      "3341/3341 [==============================] - 0s 14us/sample - loss: 4.7817 - mae: 1.5792 - mse: 4.7817 - val_loss: 10.8410 - val_mae: 2.5313 - val_mse: 10.8410\n",
      "Epoch 70/100\n",
      "3341/3341 [==============================] - 0s 12us/sample - loss: 4.9763 - mae: 1.6152 - mse: 4.9763 - val_loss: 5.5868 - val_mae: 1.5564 - val_mse: 5.5868\n",
      "Epoch 71/100\n",
      "3341/3341 [==============================] - 0s 12us/sample - loss: 5.0258 - mae: 1.6168 - mse: 5.0259 - val_loss: 4.8486 - val_mae: 1.6052 - val_mse: 4.8486\n",
      "Epoch 72/100\n",
      "3341/3341 [==============================] - 0s 12us/sample - loss: 4.6697 - mae: 1.5573 - mse: 4.6697 - val_loss: 4.9076 - val_mae: 1.6059 - val_mse: 4.9076\n",
      "Epoch 73/100\n",
      "3341/3341 [==============================] - 0s 13us/sample - loss: 4.8394 - mae: 1.6080 - mse: 4.8394 - val_loss: 5.3563 - val_mae: 1.7749 - val_mse: 5.3563\n",
      "Epoch 74/100\n",
      "3341/3341 [==============================] - 0s 13us/sample - loss: 4.7201 - mae: 1.5692 - mse: 4.7201 - val_loss: 4.7950 - val_mae: 1.5670 - val_mse: 4.7950\n",
      "Epoch 75/100\n",
      "3341/3341 [==============================] - 0s 12us/sample - loss: 4.7228 - mae: 1.5628 - mse: 4.7228 - val_loss: 4.9254 - val_mae: 1.5019 - val_mse: 4.9254\n",
      "Epoch 76/100\n",
      "3341/3341 [==============================] - 0s 12us/sample - loss: 4.9319 - mae: 1.6089 - mse: 4.9319 - val_loss: 4.7994 - val_mae: 1.5128 - val_mse: 4.7994\n",
      "Epoch 77/100\n",
      "3341/3341 [==============================] - 0s 15us/sample - loss: 4.5323 - mae: 1.5305 - mse: 4.5323 - val_loss: 5.4254 - val_mae: 1.5698 - val_mse: 5.4254\n",
      "Epoch 78/100\n",
      "3341/3341 [==============================] - 0s 16us/sample - loss: 5.0390 - mae: 1.6260 - mse: 5.0390 - val_loss: 7.6642 - val_mae: 1.9042 - val_mse: 7.6642\n",
      "Epoch 79/100\n",
      "3341/3341 [==============================] - 0s 19us/sample - loss: 4.9370 - mae: 1.6006 - mse: 4.9370 - val_loss: 11.7185 - val_mae: 3.0009 - val_mse: 11.7185\n",
      "Epoch 80/100\n",
      "3341/3341 [==============================] - 0s 19us/sample - loss: 5.1186 - mae: 1.6495 - mse: 5.1186 - val_loss: 6.2508 - val_mae: 1.6506 - val_mse: 6.2508\n",
      "Epoch 81/100\n",
      "3341/3341 [==============================] - 0s 19us/sample - loss: 4.7704 - mae: 1.5757 - mse: 4.7704 - val_loss: 5.3326 - val_mae: 1.5932 - val_mse: 5.3326\n",
      "Epoch 82/100\n",
      "3341/3341 [==============================] - 0s 18us/sample - loss: 4.6719 - mae: 1.5537 - mse: 4.6719 - val_loss: 7.4937 - val_mae: 1.9461 - val_mse: 7.4937\n",
      "Epoch 83/100\n",
      "3341/3341 [==============================] - 0s 15us/sample - loss: 4.9080 - mae: 1.5984 - mse: 4.9080 - val_loss: 4.8128 - val_mae: 1.5479 - val_mse: 4.8128\n",
      "Epoch 84/100\n",
      "3341/3341 [==============================] - 0s 13us/sample - loss: 4.7801 - mae: 1.5628 - mse: 4.7801 - val_loss: 6.0752 - val_mae: 1.6792 - val_mse: 6.0752\n",
      "Epoch 85/100\n",
      "3341/3341 [==============================] - 0s 12us/sample - loss: 4.6046 - mae: 1.5426 - mse: 4.6046 - val_loss: 4.8476 - val_mae: 1.6160 - val_mse: 4.8476\n",
      "Epoch 86/100\n",
      "3341/3341 [==============================] - 0s 13us/sample - loss: 4.5847 - mae: 1.5406 - mse: 4.5847 - val_loss: 5.5499 - val_mae: 1.5778 - val_mse: 5.5499\n",
      "Epoch 87/100\n",
      "3341/3341 [==============================] - 0s 18us/sample - loss: 4.8063 - mae: 1.5733 - mse: 4.8063 - val_loss: 5.4811 - val_mae: 1.8246 - val_mse: 5.4811\n",
      "Epoch 88/100\n",
      "3341/3341 [==============================] - 0s 33us/sample - loss: 4.6069 - mae: 1.5498 - mse: 4.6069 - val_loss: 6.0025 - val_mae: 1.8649 - val_mse: 6.0025\n",
      "Epoch 89/100\n",
      "3341/3341 [==============================] - 0s 30us/sample - loss: 4.7216 - mae: 1.5677 - mse: 4.7216 - val_loss: 5.6984 - val_mae: 1.8571 - val_mse: 5.6984\n",
      "Epoch 90/100\n",
      "3341/3341 [==============================] - 0s 16us/sample - loss: 4.9421 - mae: 1.5968 - mse: 4.9421 - val_loss: 5.3554 - val_mae: 1.7588 - val_mse: 5.3554\n",
      "Epoch 91/100\n",
      "3341/3341 [==============================] - 0s 14us/sample - loss: 4.8497 - mae: 1.5867 - mse: 4.8497 - val_loss: 4.9838 - val_mae: 1.4859 - val_mse: 4.9838\n",
      "Epoch 92/100\n",
      "3341/3341 [==============================] - 0s 13us/sample - loss: 4.6238 - mae: 1.5379 - mse: 4.6238 - val_loss: 5.1026 - val_mae: 1.6770 - val_mse: 5.1026\n",
      "Epoch 93/100\n",
      "3341/3341 [==============================] - 0s 15us/sample - loss: 4.9584 - mae: 1.6144 - mse: 4.9584 - val_loss: 5.7151 - val_mae: 1.8964 - val_mse: 5.7151\n",
      "Epoch 94/100\n",
      "3341/3341 [==============================] - 0s 14us/sample - loss: 4.6253 - mae: 1.5384 - mse: 4.6253 - val_loss: 4.6896 - val_mae: 1.5189 - val_mse: 4.6896\n"
     ]
    },
    {
     "name": "stdout",
     "output_type": "stream",
     "text": [
      "Epoch 95/100\n",
      "3341/3341 [==============================] - 0s 14us/sample - loss: 4.6812 - mae: 1.5571 - mse: 4.6812 - val_loss: 4.7519 - val_mae: 1.4755 - val_mse: 4.7519\n",
      "Epoch 96/100\n",
      "3341/3341 [==============================] - 0s 13us/sample - loss: 4.6030 - mae: 1.5367 - mse: 4.6030 - val_loss: 5.5923 - val_mae: 1.5791 - val_mse: 5.5923\n",
      "Epoch 97/100\n",
      "3341/3341 [==============================] - 0s 12us/sample - loss: 4.5602 - mae: 1.5260 - mse: 4.5602 - val_loss: 5.4727 - val_mae: 1.5527 - val_mse: 5.4727\n",
      "Epoch 98/100\n",
      "3341/3341 [==============================] - 0s 12us/sample - loss: 4.7217 - mae: 1.5474 - mse: 4.7217 - val_loss: 5.4922 - val_mae: 1.8263 - val_mse: 5.4922\n",
      "Epoch 99/100\n",
      "3341/3341 [==============================] - 0s 12us/sample - loss: 4.6502 - mae: 1.5472 - mse: 4.6502 - val_loss: 4.8456 - val_mae: 1.6037 - val_mse: 4.8456\n",
      "Epoch 100/100\n",
      "3341/3341 [==============================] - 0s 13us/sample - loss: 4.6715 - mae: 1.5642 - mse: 4.6715 - val_loss: 4.6880 - val_mae: 1.4855 - val_mse: 4.6880\n"
     ]
    }
   ],
   "source": [
    "history = model.fit(X_train, y_train, \n",
    "                     epochs=100,\n",
    "                     batch_size=128,\n",
    "                     validation_data=(X_test, y_test),\n",
    "                     verbose = 1\n",
    "                    )"
   ]
  },
  {
   "cell_type": "code",
   "execution_count": 34,
   "metadata": {},
   "outputs": [
    {
     "data": {
      "text/plain": [
       "<matplotlib.legend.Legend at 0x13dc0c890>"
      ]
     },
     "execution_count": 34,
     "metadata": {},
     "output_type": "execute_result"
    },
    {
     "data": {
      "image/png": "[encoded data removed]",
      "text/plain": [
       "<Figure size 432x288 with 1 Axes>"
      ]
     },
     "metadata": {
      "needs_background": "light"
     },
     "output_type": "display_data"
    }
   ],
   "source": [
    "hist = pd.DataFrame(history.history)\n",
    "hist['epoch'] = history.epoch\n",
    "\n",
    "plt.xlabel('Epoch')\n",
    "plt.ylabel('Mean Abs Error [MPG]')\n",
    "plt.plot(hist['epoch'], hist['mae'], label='Train Error')\n",
    "plt.plot(hist['epoch'], hist['val_mae'], label='val Error')\n",
    "plt.ylim(0, 5)\n",
    "plt.legend()"
   ]
  },
  {
   "cell_type": "code",
   "execution_count": 35,
   "metadata": {},
   "outputs": [
    {
     "data": {
      "text/plain": [
       "<matplotlib.legend.Legend at 0x13cbaeed0>"
      ]
     },
     "execution_count": 35,
     "metadata": {},
     "output_type": "execute_result"
    },
    {
     "data": {
      "image/png": "[encoded data removed]",
      "text/plain": [
       "<Figure size 432x288 with 1 Axes>"
      ]
     },
     "metadata": {
      "needs_background": "light"
     },
     "output_type": "display_data"
    }
   ],
   "source": [
    "plt.xlabel('Epoch')\n",
    "plt.ylabel('Mean Square Error [$MPG^2$]')\n",
    "plt.plot(hist['epoch'], hist['mse'], label='Train Error')\n",
    "plt.plot(hist['epoch'], hist['val_mse'], label='val Error')\n",
    "plt.ylim(0, 30)\n",
    "plt.legend()"
   ]
  },
  {
   "cell_type": "code",
   "execution_count": 29,
   "metadata": {
    "scrolled": true
   },
   "outputs": [
    {
     "name": "stdout",
     "output_type": "stream",
     "text": [
      "WARNING:tensorflow:Falling back from v2 loop because of error: Failed to find data adapter that can handle input: <class 'pandas.core.frame.DataFrame'>, <class 'NoneType'>\n",
      "836/836 [==============================] - 0s 41us/sample - loss: 4.8312 - mae: 1.5924 - mse: 4.8312\n"
     ]
    },
    {
     "data": {
      "text/plain": [
       "2.197990440347864"
      ]
     },
     "execution_count": 29,
     "metadata": {},
     "output_type": "execute_result"
    }
   ],
   "source": [
    "loss, mae, mse = model.evaluate(X_test, y_test)\n",
    "mse**0.5"
   ]
  },
  {
   "cell_type": "code",
   "execution_count": null,
   "metadata": {},
   "outputs": [],
   "source": []
  },
  {
   "cell_type": "markdown",
   "metadata": {},
   "source": [
    "## model_3 add layers"
   ]
  },
  {
   "cell_type": "code",
   "execution_count": 36,
   "metadata": {},
   "outputs": [],
   "source": [
    "model = keras.Sequential([\n",
    "    layers.Dense(64, activation='relu', input_shape=[8]),\n",
    "    layers.Dense(128, activation='relu'),\n",
    "    layers.Dense(256, activation='relu'),\n",
    "    layers.Flatten(),\n",
    "    layers.Dense(1)\n",
    "])"
   ]
  },
  {
   "cell_type": "code",
   "execution_count": 37,
   "metadata": {},
   "outputs": [
    {
     "name": "stdout",
     "output_type": "stream",
     "text": [
      "Model: \"sequential_4\"\n",
      "_________________________________________________________________\n",
      "Layer (type)                 Output Shape              Param #   \n",
      "=================================================================\n",
      "dense_12 (Dense)             (None, 64)                576       \n",
      "_________________________________________________________________\n",
      "dense_13 (Dense)             (None, 128)               8320      \n",
      "_________________________________________________________________\n",
      "dense_14 (Dense)             (None, 256)               33024     \n",
      "_________________________________________________________________\n",
      "flatten_1 (Flatten)          (None, 256)               0         \n",
      "_________________________________________________________________\n",
      "dense_15 (Dense)             (None, 1)                 257       \n",
      "=================================================================\n",
      "Total params: 42,177\n",
      "Trainable params: 42,177\n",
      "Non-trainable params: 0\n",
      "_________________________________________________________________\n"
     ]
    }
   ],
   "source": [
    "model.summary()"
   ]
  },
  {
   "cell_type": "code",
   "execution_count": 38,
   "metadata": {},
   "outputs": [],
   "source": [
    "model.compile(optimizer='adam', loss='mse', metrics=['mae', 'mse'])"
   ]
  },
  {
   "cell_type": "code",
   "execution_count": 39,
   "metadata": {},
   "outputs": [
    {
     "name": "stdout",
     "output_type": "stream",
     "text": [
      "WARNING:tensorflow:Falling back from v2 loop because of error: Failed to find data adapter that can handle input: <class 'pandas.core.frame.DataFrame'>, <class 'NoneType'>\n",
      "Train on 3341 samples, validate on 836 samples\n",
      "Epoch 1/100\n",
      "3341/3341 [==============================] - 0s 65us/sample - loss: 64.4274 - mae: 7.0014 - mse: 64.4274 - val_loss: 16.2093 - val_mae: 3.2851 - val_mse: 16.2093\n",
      "Epoch 2/100\n",
      "3341/3341 [==============================] - 0s 28us/sample - loss: 12.1196 - mae: 2.6838 - mse: 12.1196 - val_loss: 9.1314 - val_mae: 2.1077 - val_mse: 9.1314\n",
      "Epoch 3/100\n",
      "3341/3341 [==============================] - 0s 33us/sample - loss: 8.5318 - mae: 2.1312 - mse: 8.5318 - val_loss: 7.7922 - val_mae: 1.9477 - val_mse: 7.7922\n",
      "Epoch 4/100\n",
      "3341/3341 [==============================] - 0s 29us/sample - loss: 7.3377 - mae: 1.9605 - mse: 7.3377 - val_loss: 6.8776 - val_mae: 1.8893 - val_mse: 6.8776\n",
      "Epoch 5/100\n",
      "3341/3341 [==============================] - 0s 31us/sample - loss: 6.5322 - mae: 1.8506 - mse: 6.5322 - val_loss: 6.2992 - val_mae: 1.7820 - val_mse: 6.2992\n",
      "Epoch 6/100\n",
      "3341/3341 [==============================] - 0s 28us/sample - loss: 6.0948 - mae: 1.7921 - mse: 6.0948 - val_loss: 6.0427 - val_mae: 1.6986 - val_mse: 6.0427\n",
      "Epoch 7/100\n",
      "3341/3341 [==============================] - 0s 26us/sample - loss: 5.7727 - mae: 1.7188 - mse: 5.7727 - val_loss: 5.7684 - val_mae: 1.6950 - val_mse: 5.7684\n",
      "Epoch 8/100\n",
      "3341/3341 [==============================] - 0s 25us/sample - loss: 5.5484 - mae: 1.6998 - mse: 5.5484 - val_loss: 5.5828 - val_mae: 1.6530 - val_mse: 5.5828\n",
      "Epoch 9/100\n",
      "3341/3341 [==============================] - 0s 26us/sample - loss: 5.4139 - mae: 1.6672 - mse: 5.4139 - val_loss: 5.6479 - val_mae: 1.5967 - val_mse: 5.6479\n",
      "Epoch 10/100\n",
      "3341/3341 [==============================] - 0s 26us/sample - loss: 5.2979 - mae: 1.6643 - mse: 5.2979 - val_loss: 5.3401 - val_mae: 1.5925 - val_mse: 5.3401\n",
      "Epoch 11/100\n",
      "3341/3341 [==============================] - 0s 29us/sample - loss: 5.1129 - mae: 1.6173 - mse: 5.1129 - val_loss: 5.3096 - val_mae: 1.7056 - val_mse: 5.3096\n",
      "Epoch 12/100\n",
      "3341/3341 [==============================] - 0s 34us/sample - loss: 5.0068 - mae: 1.6079 - mse: 5.0068 - val_loss: 5.1101 - val_mae: 1.6288 - val_mse: 5.1101\n",
      "Epoch 13/100\n",
      "3341/3341 [==============================] - 0s 25us/sample - loss: 4.9213 - mae: 1.6063 - mse: 4.9213 - val_loss: 5.1598 - val_mae: 1.5588 - val_mse: 5.1598\n",
      "Epoch 14/100\n",
      "3341/3341 [==============================] - 0s 24us/sample - loss: 4.9210 - mae: 1.5932 - mse: 4.9210 - val_loss: 4.9862 - val_mae: 1.5278 - val_mse: 4.9862\n",
      "Epoch 15/100\n",
      "3341/3341 [==============================] - 0s 26us/sample - loss: 4.7531 - mae: 1.5671 - mse: 4.7531 - val_loss: 4.8863 - val_mae: 1.5459 - val_mse: 4.8863\n",
      "Epoch 16/100\n",
      "3341/3341 [==============================] - 0s 26us/sample - loss: 4.7240 - mae: 1.5582 - mse: 4.7240 - val_loss: 5.3042 - val_mae: 1.7678 - val_mse: 5.3042\n",
      "Epoch 17/100\n",
      "3341/3341 [==============================] - 0s 27us/sample - loss: 4.8904 - mae: 1.6123 - mse: 4.8904 - val_loss: 5.2431 - val_mae: 1.7461 - val_mse: 5.2431\n",
      "Epoch 18/100\n",
      "3341/3341 [==============================] - 0s 31us/sample - loss: 4.7092 - mae: 1.5657 - mse: 4.7092 - val_loss: 4.7958 - val_mae: 1.5402 - val_mse: 4.7958\n",
      "Epoch 19/100\n",
      "3341/3341 [==============================] - 0s 32us/sample - loss: 4.6399 - mae: 1.5460 - mse: 4.6399 - val_loss: 4.7974 - val_mae: 1.5080 - val_mse: 4.7974\n",
      "Epoch 20/100\n",
      "3341/3341 [==============================] - 0s 29us/sample - loss: 4.5713 - mae: 1.5357 - mse: 4.5713 - val_loss: 4.8754 - val_mae: 1.4962 - val_mse: 4.8754\n",
      "Epoch 21/100\n",
      "3341/3341 [==============================] - 0s 26us/sample - loss: 4.5969 - mae: 1.5343 - mse: 4.5969 - val_loss: 4.7629 - val_mae: 1.5312 - val_mse: 4.7629\n",
      "Epoch 22/100\n",
      "3341/3341 [==============================] - 0s 26us/sample - loss: 4.7593 - mae: 1.5791 - mse: 4.7593 - val_loss: 4.7546 - val_mae: 1.4938 - val_mse: 4.7546\n",
      "Epoch 23/100\n",
      "3341/3341 [==============================] - 0s 27us/sample - loss: 4.5548 - mae: 1.5232 - mse: 4.5548 - val_loss: 4.8258 - val_mae: 1.5905 - val_mse: 4.8258\n",
      "Epoch 24/100\n",
      "3341/3341 [==============================] - 0s 27us/sample - loss: 4.5602 - mae: 1.5345 - mse: 4.5602 - val_loss: 4.7068 - val_mae: 1.5090 - val_mse: 4.7068\n",
      "Epoch 25/100\n",
      "3341/3341 [==============================] - 0s 26us/sample - loss: 4.5191 - mae: 1.5230 - mse: 4.5191 - val_loss: 4.6967 - val_mae: 1.4997 - val_mse: 4.6967\n",
      "Epoch 26/100\n",
      "3341/3341 [==============================] - 0s 26us/sample - loss: 4.5380 - mae: 1.5390 - mse: 4.5380 - val_loss: 4.8286 - val_mae: 1.4859 - val_mse: 4.8286\n",
      "Epoch 27/100\n",
      "3341/3341 [==============================] - 0s 26us/sample - loss: 4.6749 - mae: 1.5680 - mse: 4.6749 - val_loss: 4.8390 - val_mae: 1.5904 - val_mse: 4.8390\n",
      "Epoch 28/100\n",
      "3341/3341 [==============================] - 0s 27us/sample - loss: 4.5475 - mae: 1.5377 - mse: 4.5475 - val_loss: 4.7160 - val_mae: 1.4837 - val_mse: 4.7160\n",
      "Epoch 29/100\n",
      "3341/3341 [==============================] - 0s 26us/sample - loss: 4.4801 - mae: 1.5151 - mse: 4.4801 - val_loss: 4.7430 - val_mae: 1.5525 - val_mse: 4.7430\n",
      "Epoch 30/100\n",
      "3341/3341 [==============================] - 0s 26us/sample - loss: 4.5700 - mae: 1.5477 - mse: 4.5700 - val_loss: 4.7728 - val_mae: 1.4871 - val_mse: 4.7728\n",
      "Epoch 31/100\n",
      "3341/3341 [==============================] - 0s 26us/sample - loss: 4.7031 - mae: 1.5639 - mse: 4.7031 - val_loss: 4.7859 - val_mae: 1.4745 - val_mse: 4.7859\n",
      "Epoch 32/100\n",
      "3341/3341 [==============================] - 0s 25us/sample - loss: 4.5022 - mae: 1.5240 - mse: 4.5022 - val_loss: 4.7016 - val_mae: 1.5341 - val_mse: 4.7016\n",
      "Epoch 33/100\n",
      "3341/3341 [==============================] - 0s 27us/sample - loss: 4.5381 - mae: 1.5367 - mse: 4.5381 - val_loss: 4.6548 - val_mae: 1.5033 - val_mse: 4.6548\n",
      "Epoch 34/100\n",
      "3341/3341 [==============================] - 0s 26us/sample - loss: 4.4241 - mae: 1.5037 - mse: 4.4241 - val_loss: 4.7380 - val_mae: 1.5576 - val_mse: 4.7380\n",
      "Epoch 35/100\n",
      "3341/3341 [==============================] - 0s 27us/sample - loss: 4.4417 - mae: 1.5129 - mse: 4.4417 - val_loss: 4.6913 - val_mae: 1.4842 - val_mse: 4.6913\n",
      "Epoch 36/100\n",
      "3341/3341 [==============================] - 0s 21us/sample - loss: 4.4252 - mae: 1.5065 - mse: 4.4252 - val_loss: 4.9371 - val_mae: 1.4947 - val_mse: 4.9371\n",
      "Epoch 37/100\n",
      "3341/3341 [==============================] - 0s 20us/sample - loss: 4.5157 - mae: 1.5206 - mse: 4.5157 - val_loss: 4.6432 - val_mae: 1.5030 - val_mse: 4.6432\n",
      "Epoch 38/100\n",
      "3341/3341 [==============================] - 0s 21us/sample - loss: 4.4128 - mae: 1.5113 - mse: 4.4128 - val_loss: 4.6286 - val_mae: 1.4936 - val_mse: 4.6286\n",
      "Epoch 39/100\n",
      "3341/3341 [==============================] - 0s 20us/sample - loss: 4.4656 - mae: 1.5133 - mse: 4.4656 - val_loss: 4.9599 - val_mae: 1.4956 - val_mse: 4.9599\n",
      "Epoch 40/100\n",
      "3341/3341 [==============================] - 0s 21us/sample - loss: 4.5068 - mae: 1.5142 - mse: 4.5068 - val_loss: 4.7649 - val_mae: 1.5738 - val_mse: 4.7649\n",
      "Epoch 41/100\n",
      "3341/3341 [==============================] - 0s 20us/sample - loss: 4.4296 - mae: 1.5151 - mse: 4.4296 - val_loss: 4.6139 - val_mae: 1.4820 - val_mse: 4.6139\n",
      "Epoch 42/100\n",
      "3341/3341 [==============================] - 0s 19us/sample - loss: 4.3921 - mae: 1.4986 - mse: 4.3921 - val_loss: 4.6283 - val_mae: 1.5013 - val_mse: 4.6283\n",
      "Epoch 43/100\n",
      "3341/3341 [==============================] - 0s 20us/sample - loss: 4.4042 - mae: 1.5069 - mse: 4.4042 - val_loss: 4.8023 - val_mae: 1.4877 - val_mse: 4.8023\n",
      "Epoch 44/100\n",
      "3341/3341 [==============================] - 0s 20us/sample - loss: 4.5029 - mae: 1.5152 - mse: 4.5029 - val_loss: 4.6978 - val_mae: 1.5555 - val_mse: 4.6978\n",
      "Epoch 45/100\n",
      "3341/3341 [==============================] - 0s 20us/sample - loss: 4.6464 - mae: 1.5617 - mse: 4.6464 - val_loss: 4.6081 - val_mae: 1.5053 - val_mse: 4.6081\n",
      "Epoch 46/100\n",
      "3341/3341 [==============================] - 0s 18us/sample - loss: 4.3954 - mae: 1.4916 - mse: 4.3954 - val_loss: 4.6210 - val_mae: 1.4749 - val_mse: 4.6210\n",
      "Epoch 47/100\n",
      "3341/3341 [==============================] - 0s 21us/sample - loss: 4.3811 - mae: 1.4995 - mse: 4.3811 - val_loss: 4.6037 - val_mae: 1.5037 - val_mse: 4.6037\n"
     ]
    },
    {
     "name": "stdout",
     "output_type": "stream",
     "text": [
      "Epoch 48/100\n",
      "3341/3341 [==============================] - 0s 21us/sample - loss: 4.3815 - mae: 1.5012 - mse: 4.3815 - val_loss: 4.6242 - val_mae: 1.4724 - val_mse: 4.6242\n",
      "Epoch 49/100\n",
      "3341/3341 [==============================] - 0s 20us/sample - loss: 4.3401 - mae: 1.4860 - mse: 4.3401 - val_loss: 4.7508 - val_mae: 1.5860 - val_mse: 4.7508\n",
      "Epoch 50/100\n",
      "3341/3341 [==============================] - 0s 19us/sample - loss: 4.4813 - mae: 1.5441 - mse: 4.4813 - val_loss: 4.5889 - val_mae: 1.4664 - val_mse: 4.5889\n",
      "Epoch 51/100\n",
      "3341/3341 [==============================] - 0s 19us/sample - loss: 4.3957 - mae: 1.5025 - mse: 4.3957 - val_loss: 4.7680 - val_mae: 1.4778 - val_mse: 4.7680\n",
      "Epoch 52/100\n",
      "3341/3341 [==============================] - 0s 21us/sample - loss: 4.3764 - mae: 1.4930 - mse: 4.3764 - val_loss: 4.5915 - val_mae: 1.4742 - val_mse: 4.5915\n",
      "Epoch 53/100\n",
      "3341/3341 [==============================] - 0s 20us/sample - loss: 4.3163 - mae: 1.4830 - mse: 4.3163 - val_loss: 4.5632 - val_mae: 1.4814 - val_mse: 4.5632\n",
      "Epoch 54/100\n",
      "3341/3341 [==============================] - 0s 19us/sample - loss: 4.3347 - mae: 1.4930 - mse: 4.3347 - val_loss: 4.9090 - val_mae: 1.4942 - val_mse: 4.9090\n",
      "Epoch 55/100\n",
      "3341/3341 [==============================] - 0s 20us/sample - loss: 4.4858 - mae: 1.5145 - mse: 4.4858 - val_loss: 4.6096 - val_mae: 1.5181 - val_mse: 4.6096\n",
      "Epoch 56/100\n",
      "3341/3341 [==============================] - 0s 19us/sample - loss: 4.3719 - mae: 1.4976 - mse: 4.3719 - val_loss: 4.5979 - val_mae: 1.4895 - val_mse: 4.5979\n",
      "Epoch 57/100\n",
      "3341/3341 [==============================] - 0s 20us/sample - loss: 4.2907 - mae: 1.4752 - mse: 4.2907 - val_loss: 4.6622 - val_mae: 1.5438 - val_mse: 4.6622\n",
      "Epoch 58/100\n",
      "3341/3341 [==============================] - 0s 19us/sample - loss: 4.3733 - mae: 1.4878 - mse: 4.3733 - val_loss: 4.6454 - val_mae: 1.5365 - val_mse: 4.6454\n",
      "Epoch 59/100\n",
      "3341/3341 [==============================] - 0s 19us/sample - loss: 4.3597 - mae: 1.4994 - mse: 4.3597 - val_loss: 4.6460 - val_mae: 1.4583 - val_mse: 4.6460\n",
      "Epoch 60/100\n",
      "3341/3341 [==============================] - 0s 20us/sample - loss: 4.3206 - mae: 1.4787 - mse: 4.3206 - val_loss: 4.6055 - val_mae: 1.5148 - val_mse: 4.6055\n",
      "Epoch 61/100\n",
      "3341/3341 [==============================] - 0s 31us/sample - loss: 4.4817 - mae: 1.5129 - mse: 4.4817 - val_loss: 4.9060 - val_mae: 1.6346 - val_mse: 4.9060\n",
      "Epoch 62/100\n",
      "3341/3341 [==============================] - 0s 26us/sample - loss: 4.6246 - mae: 1.5685 - mse: 4.6246 - val_loss: 4.5767 - val_mae: 1.5087 - val_mse: 4.5767\n",
      "Epoch 63/100\n",
      "3341/3341 [==============================] - 0s 26us/sample - loss: 4.3434 - mae: 1.4870 - mse: 4.3434 - val_loss: 4.5663 - val_mae: 1.4912 - val_mse: 4.5663\n",
      "Epoch 64/100\n",
      "3341/3341 [==============================] - 0s 26us/sample - loss: 4.3184 - mae: 1.4902 - mse: 4.3184 - val_loss: 4.6892 - val_mae: 1.4601 - val_mse: 4.6892\n",
      "Epoch 65/100\n",
      "3341/3341 [==============================] - 0s 25us/sample - loss: 4.4249 - mae: 1.4971 - mse: 4.4249 - val_loss: 4.5853 - val_mae: 1.4888 - val_mse: 4.5853\n",
      "Epoch 66/100\n",
      "3341/3341 [==============================] - 0s 25us/sample - loss: 4.4592 - mae: 1.5182 - mse: 4.4592 - val_loss: 4.7538 - val_mae: 1.4783 - val_mse: 4.7538\n",
      "Epoch 67/100\n",
      "3341/3341 [==============================] - 0s 21us/sample - loss: 4.3477 - mae: 1.4958 - mse: 4.3477 - val_loss: 4.7422 - val_mae: 1.5454 - val_mse: 4.7422\n",
      "Epoch 68/100\n",
      "3341/3341 [==============================] - 0s 20us/sample - loss: 4.3882 - mae: 1.5039 - mse: 4.3882 - val_loss: 4.5547 - val_mae: 1.4686 - val_mse: 4.5547\n",
      "Epoch 69/100\n",
      "3341/3341 [==============================] - 0s 23us/sample - loss: 4.3673 - mae: 1.4845 - mse: 4.3673 - val_loss: 4.5617 - val_mae: 1.5020 - val_mse: 4.5617\n",
      "Epoch 70/100\n",
      "3341/3341 [==============================] - 0s 47us/sample - loss: 4.3425 - mae: 1.4943 - mse: 4.3425 - val_loss: 4.5731 - val_mae: 1.4551 - val_mse: 4.5731\n",
      "Epoch 71/100\n",
      "3341/3341 [==============================] - 0s 53us/sample - loss: 4.2909 - mae: 1.4716 - mse: 4.2909 - val_loss: 4.5766 - val_mae: 1.4596 - val_mse: 4.5766\n",
      "Epoch 72/100\n",
      "3341/3341 [==============================] - 0s 26us/sample - loss: 4.3095 - mae: 1.4812 - mse: 4.3095 - val_loss: 4.5294 - val_mae: 1.4657 - val_mse: 4.5294\n",
      "Epoch 73/100\n",
      "3341/3341 [==============================] - 0s 23us/sample - loss: 4.3105 - mae: 1.4697 - mse: 4.3105 - val_loss: 4.5472 - val_mae: 1.4636 - val_mse: 4.5472\n",
      "Epoch 74/100\n",
      "3341/3341 [==============================] - 0s 22us/sample - loss: 4.3056 - mae: 1.4859 - mse: 4.3056 - val_loss: 4.6601 - val_mae: 1.4567 - val_mse: 4.6601\n",
      "Epoch 75/100\n",
      "3341/3341 [==============================] - 0s 22us/sample - loss: 4.2779 - mae: 1.4739 - mse: 4.2779 - val_loss: 4.5816 - val_mae: 1.4506 - val_mse: 4.5816\n",
      "Epoch 76/100\n",
      "3341/3341 [==============================] - 0s 22us/sample - loss: 4.2619 - mae: 1.4819 - mse: 4.2619 - val_loss: 4.6026 - val_mae: 1.4583 - val_mse: 4.6026\n",
      "Epoch 77/100\n",
      "3341/3341 [==============================] - 0s 22us/sample - loss: 4.3823 - mae: 1.4932 - mse: 4.3823 - val_loss: 4.6493 - val_mae: 1.5488 - val_mse: 4.6493\n",
      "Epoch 78/100\n",
      "3341/3341 [==============================] - 0s 28us/sample - loss: 4.2939 - mae: 1.4792 - mse: 4.2939 - val_loss: 4.6313 - val_mae: 1.5202 - val_mse: 4.6313\n",
      "Epoch 79/100\n",
      "3341/3341 [==============================] - 0s 33us/sample - loss: 4.2440 - mae: 1.4670 - mse: 4.2440 - val_loss: 4.7874 - val_mae: 1.4698 - val_mse: 4.7874\n",
      "Epoch 80/100\n",
      "3341/3341 [==============================] - 0s 30us/sample - loss: 4.2830 - mae: 1.4726 - mse: 4.2830 - val_loss: 4.5547 - val_mae: 1.4523 - val_mse: 4.5547\n",
      "Epoch 81/100\n",
      "3341/3341 [==============================] - 0s 29us/sample - loss: 4.2511 - mae: 1.4676 - mse: 4.2511 - val_loss: 4.6049 - val_mae: 1.5347 - val_mse: 4.6049\n",
      "Epoch 82/100\n",
      "3341/3341 [==============================] - 0s 23us/sample - loss: 4.3224 - mae: 1.4824 - mse: 4.3224 - val_loss: 4.5294 - val_mae: 1.4992 - val_mse: 4.5294\n",
      "Epoch 83/100\n",
      "3341/3341 [==============================] - 0s 24us/sample - loss: 4.3306 - mae: 1.4921 - mse: 4.3306 - val_loss: 4.6761 - val_mae: 1.4660 - val_mse: 4.6761\n",
      "Epoch 84/100\n",
      "3341/3341 [==============================] - 0s 23us/sample - loss: 4.2552 - mae: 1.4733 - mse: 4.2552 - val_loss: 4.5755 - val_mae: 1.4523 - val_mse: 4.5755\n",
      "Epoch 85/100\n",
      "3341/3341 [==============================] - 0s 22us/sample - loss: 4.2727 - mae: 1.4684 - mse: 4.2727 - val_loss: 4.4889 - val_mae: 1.4642 - val_mse: 4.4889\n",
      "Epoch 86/100\n",
      "3341/3341 [==============================] - 0s 23us/sample - loss: 4.3080 - mae: 1.4758 - mse: 4.3080 - val_loss: 4.6709 - val_mae: 1.5486 - val_mse: 4.6709\n",
      "Epoch 87/100\n",
      "3341/3341 [==============================] - 0s 26us/sample - loss: 4.2778 - mae: 1.4737 - mse: 4.2778 - val_loss: 4.5445 - val_mae: 1.4571 - val_mse: 4.5445\n",
      "Epoch 88/100\n",
      "3341/3341 [==============================] - 0s 29us/sample - loss: 4.2693 - mae: 1.4734 - mse: 4.2693 - val_loss: 4.5537 - val_mae: 1.4536 - val_mse: 4.5537\n",
      "Epoch 89/100\n",
      "3341/3341 [==============================] - 0s 29us/sample - loss: 4.2697 - mae: 1.4696 - mse: 4.2697 - val_loss: 4.5297 - val_mae: 1.4866 - val_mse: 4.5297\n",
      "Epoch 90/100\n",
      "3341/3341 [==============================] - 0s 29us/sample - loss: 4.3501 - mae: 1.4930 - mse: 4.3501 - val_loss: 4.4792 - val_mae: 1.4697 - val_mse: 4.4792\n",
      "Epoch 91/100\n",
      "3341/3341 [==============================] - 0s 27us/sample - loss: 4.2894 - mae: 1.4723 - mse: 4.2894 - val_loss: 4.5933 - val_mae: 1.5328 - val_mse: 4.5933\n",
      "Epoch 92/100\n",
      "3341/3341 [==============================] - 0s 23us/sample - loss: 4.2669 - mae: 1.4760 - mse: 4.2669 - val_loss: 4.5179 - val_mae: 1.4975 - val_mse: 4.5179\n",
      "Epoch 93/100\n",
      "3341/3341 [==============================] - 0s 23us/sample - loss: 4.3313 - mae: 1.4767 - mse: 4.3313 - val_loss: 4.7643 - val_mae: 1.5881 - val_mse: 4.7643\n",
      "Epoch 94/100\n",
      "3341/3341 [==============================] - 0s 24us/sample - loss: 4.4342 - mae: 1.5076 - mse: 4.4342 - val_loss: 4.4848 - val_mae: 1.4701 - val_mse: 4.4848\n",
      "Epoch 95/100\n",
      "3341/3341 [==============================] - 0s 24us/sample - loss: 4.3388 - mae: 1.4813 - mse: 4.3388 - val_loss: 4.5261 - val_mae: 1.4530 - val_mse: 4.5261\n"
     ]
    },
    {
     "name": "stdout",
     "output_type": "stream",
     "text": [
      "Epoch 96/100\n",
      "3341/3341 [==============================] - 0s 23us/sample - loss: 4.2417 - mae: 1.4714 - mse: 4.2417 - val_loss: 4.5000 - val_mae: 1.4560 - val_mse: 4.5000\n",
      "Epoch 97/100\n",
      "3341/3341 [==============================] - 0s 21us/sample - loss: 4.2332 - mae: 1.4667 - mse: 4.2332 - val_loss: 4.4953 - val_mae: 1.4695 - val_mse: 4.4953\n",
      "Epoch 98/100\n",
      "3341/3341 [==============================] - 0s 23us/sample - loss: 4.2375 - mae: 1.4705 - mse: 4.2375 - val_loss: 4.5814 - val_mae: 1.4556 - val_mse: 4.5814\n",
      "Epoch 99/100\n",
      "3341/3341 [==============================] - 0s 23us/sample - loss: 4.2287 - mae: 1.4629 - mse: 4.2287 - val_loss: 4.6760 - val_mae: 1.5672 - val_mse: 4.6760\n",
      "Epoch 100/100\n",
      "3341/3341 [==============================] - 0s 23us/sample - loss: 4.3458 - mae: 1.4958 - mse: 4.3458 - val_loss: 4.7262 - val_mae: 1.4613 - val_mse: 4.7262\n"
     ]
    }
   ],
   "source": [
    "history = model.fit(X_train, y_train, \n",
    "                     epochs=100,\n",
    "                     batch_size=128,\n",
    "                     validation_data=(X_test, y_test),\n",
    "                     verbose = 1\n",
    "                    )"
   ]
  },
  {
   "cell_type": "code",
   "execution_count": 40,
   "metadata": {},
   "outputs": [
    {
     "data": {
      "text/plain": [
       "<matplotlib.legend.Legend at 0x117c9fdd0>"
      ]
     },
     "execution_count": 40,
     "metadata": {},
     "output_type": "execute_result"
    },
    {
     "data": {
      "image/png": "[encoded data removed]",
      "text/plain": [
       "<Figure size 432x288 with 1 Axes>"
      ]
     },
     "metadata": {
      "needs_background": "light"
     },
     "output_type": "display_data"
    }
   ],
   "source": [
    "hist = pd.DataFrame(history.history)\n",
    "hist['epoch'] = history.epoch\n",
    "\n",
    "plt.xlabel('Epoch')\n",
    "plt.ylabel('Mean Abs Error [MPG]')\n",
    "plt.plot(hist['epoch'], hist['mae'], label='Train Error')\n",
    "plt.plot(hist['epoch'], hist['val_mae'], label='val Error')\n",
    "plt.ylim(0, 5)\n",
    "plt.legend()"
   ]
  },
  {
   "cell_type": "code",
   "execution_count": 41,
   "metadata": {},
   "outputs": [
    {
     "data": {
      "text/plain": [
       "<matplotlib.legend.Legend at 0x117dee590>"
      ]
     },
     "execution_count": 41,
     "metadata": {},
     "output_type": "execute_result"
    },
    {
     "data": {
      "image/png": "[encoded data removed]",
      "text/plain": [
       "<Figure size 432x288 with 1 Axes>"
      ]
     },
     "metadata": {
      "needs_background": "light"
     },
     "output_type": "display_data"
    }
   ],
   "source": [
    "plt.xlabel('Epoch')\n",
    "plt.ylabel('Mean Square Error [$MPG^2$]')\n",
    "plt.plot(hist['epoch'], hist['mse'], label='Train Error')\n",
    "plt.plot(hist['epoch'], hist['val_mse'], label='val Error')\n",
    "plt.ylim(0, 30)\n",
    "plt.legend()"
   ]
  },
  {
   "cell_type": "code",
   "execution_count": 42,
   "metadata": {
    "scrolled": true
   },
   "outputs": [
    {
     "name": "stdout",
     "output_type": "stream",
     "text": [
      "WARNING:tensorflow:Falling back from v2 loop because of error: Failed to find data adapter that can handle input: <class 'pandas.core.frame.DataFrame'>, <class 'NoneType'>\n",
      "836/836 [==============================] - 0s 48us/sample - loss: 4.7262 - mae: 1.4613 - mse: 4.7262\n"
     ]
    },
    {
     "data": {
      "text/plain": [
       "[4.7262160994789815, 1.4613353, 4.7262163]"
      ]
     },
     "execution_count": 42,
     "metadata": {},
     "output_type": "execute_result"
    }
   ],
   "source": [
    "score = model.evaluate(X_test, y_test)\n",
    "score"
   ]
  },
  {
   "cell_type": "code",
   "execution_count": null,
   "metadata": {},
   "outputs": [],
   "source": []
  },
  {
   "cell_type": "markdown",
   "metadata": {},
   "source": [
    "## model_4 base & input feature remove"
   ]
  },
  {
   "cell_type": "code",
   "execution_count": 43,
   "metadata": {},
   "outputs": [
    {
     "data": {
      "text/html": [
       "<div>\n",
       "<style scoped>\n",
       "    .dataframe tbody tr th:only-of-type {\n",
       "        vertical-align: middle;\n",
       "    }\n",
       "\n",
       "    .dataframe tbody tr th {\n",
       "        vertical-align: top;\n",
       "    }\n",
       "\n",
       "    .dataframe thead th {\n",
       "        text-align: right;\n",
       "    }\n",
       "</style>\n",
       "<table border=\"1\" class=\"dataframe\">\n",
       "  <thead>\n",
       "    <tr style=\"text-align: right;\">\n",
       "      <th></th>\n",
       "      <th>Sex</th>\n",
       "      <th>Length</th>\n",
       "      <th>Diameter</th>\n",
       "      <th>Height</th>\n",
       "      <th>Rings</th>\n",
       "    </tr>\n",
       "  </thead>\n",
       "  <tbody>\n",
       "    <tr>\n",
       "      <th>0</th>\n",
       "      <td>0</td>\n",
       "      <td>0.455</td>\n",
       "      <td>0.365</td>\n",
       "      <td>0.095</td>\n",
       "      <td>15</td>\n",
       "    </tr>\n",
       "    <tr>\n",
       "      <th>1</th>\n",
       "      <td>0</td>\n",
       "      <td>0.350</td>\n",
       "      <td>0.265</td>\n",
       "      <td>0.090</td>\n",
       "      <td>7</td>\n",
       "    </tr>\n",
       "    <tr>\n",
       "      <th>2</th>\n",
       "      <td>1</td>\n",
       "      <td>0.530</td>\n",
       "      <td>0.420</td>\n",
       "      <td>0.135</td>\n",
       "      <td>9</td>\n",
       "    </tr>\n",
       "    <tr>\n",
       "      <th>3</th>\n",
       "      <td>0</td>\n",
       "      <td>0.440</td>\n",
       "      <td>0.365</td>\n",
       "      <td>0.125</td>\n",
       "      <td>10</td>\n",
       "    </tr>\n",
       "    <tr>\n",
       "      <th>4</th>\n",
       "      <td>2</td>\n",
       "      <td>0.330</td>\n",
       "      <td>0.255</td>\n",
       "      <td>0.080</td>\n",
       "      <td>7</td>\n",
       "    </tr>\n",
       "    <tr>\n",
       "      <th>...</th>\n",
       "      <td>...</td>\n",
       "      <td>...</td>\n",
       "      <td>...</td>\n",
       "      <td>...</td>\n",
       "      <td>...</td>\n",
       "    </tr>\n",
       "    <tr>\n",
       "      <th>4172</th>\n",
       "      <td>1</td>\n",
       "      <td>0.565</td>\n",
       "      <td>0.450</td>\n",
       "      <td>0.165</td>\n",
       "      <td>11</td>\n",
       "    </tr>\n",
       "    <tr>\n",
       "      <th>4173</th>\n",
       "      <td>0</td>\n",
       "      <td>0.590</td>\n",
       "      <td>0.440</td>\n",
       "      <td>0.135</td>\n",
       "      <td>10</td>\n",
       "    </tr>\n",
       "    <tr>\n",
       "      <th>4174</th>\n",
       "      <td>0</td>\n",
       "      <td>0.600</td>\n",
       "      <td>0.475</td>\n",
       "      <td>0.205</td>\n",
       "      <td>9</td>\n",
       "    </tr>\n",
       "    <tr>\n",
       "      <th>4175</th>\n",
       "      <td>1</td>\n",
       "      <td>0.625</td>\n",
       "      <td>0.485</td>\n",
       "      <td>0.150</td>\n",
       "      <td>10</td>\n",
       "    </tr>\n",
       "    <tr>\n",
       "      <th>4176</th>\n",
       "      <td>0</td>\n",
       "      <td>0.710</td>\n",
       "      <td>0.555</td>\n",
       "      <td>0.195</td>\n",
       "      <td>12</td>\n",
       "    </tr>\n",
       "  </tbody>\n",
       "</table>\n",
       "<p>4177 rows × 5 columns</p>\n",
       "</div>"
      ],
      "text/plain": [
       "      Sex  Length  Diameter  Height  Rings\n",
       "0       0   0.455     0.365   0.095     15\n",
       "1       0   0.350     0.265   0.090      7\n",
       "2       1   0.530     0.420   0.135      9\n",
       "3       0   0.440     0.365   0.125     10\n",
       "4       2   0.330     0.255   0.080      7\n",
       "...   ...     ...       ...     ...    ...\n",
       "4172    1   0.565     0.450   0.165     11\n",
       "4173    0   0.590     0.440   0.135     10\n",
       "4174    0   0.600     0.475   0.205      9\n",
       "4175    1   0.625     0.485   0.150     10\n",
       "4176    0   0.710     0.555   0.195     12\n",
       "\n",
       "[4177 rows x 5 columns]"
      ]
     },
     "execution_count": 43,
     "metadata": {},
     "output_type": "execute_result"
    }
   ],
   "source": [
    "n_data = data.copy()\n",
    "n_data.pop('WholeWeight')\n",
    "n_data.pop('ShuckedWeight')\n",
    "n_data.pop('VisceraWeight')\n",
    "n_data.pop('Shell weight')\n",
    "n_data"
   ]
  },
  {
   "cell_type": "code",
   "execution_count": 44,
   "metadata": {},
   "outputs": [],
   "source": [
    "X = n_data.copy()\n",
    "y = X.pop('Rings')"
   ]
  },
  {
   "cell_type": "code",
   "execution_count": 45,
   "metadata": {},
   "outputs": [
    {
     "name": "stdout",
     "output_type": "stream",
     "text": [
      "(4177, 4) (4177,)\n"
     ]
    }
   ],
   "source": [
    "print(X.shape, y.shape)"
   ]
  },
  {
   "cell_type": "markdown",
   "metadata": {},
   "source": [
    "## data split"
   ]
  },
  {
   "cell_type": "code",
   "execution_count": 46,
   "metadata": {},
   "outputs": [],
   "source": [
    "X_train, X_test, y_train, y_test = train_test_split(X, y, test_size=0.2, random_state=0)"
   ]
  },
  {
   "cell_type": "code",
   "execution_count": 47,
   "metadata": {
    "scrolled": true
   },
   "outputs": [
    {
     "name": "stdout",
     "output_type": "stream",
     "text": [
      "X_train : (3341, 4), y_train : (3341,)\n",
      "X_test : (836, 4), y_test : (836,)\n"
     ]
    }
   ],
   "source": [
    "print(f\"X_train : {X_train.shape}, y_train : {y_train.shape}\")\n",
    "print(f\"X_test : {X_test.shape}, y_test : {y_test.shape}\")"
   ]
  },
  {
   "cell_type": "code",
   "execution_count": 49,
   "metadata": {},
   "outputs": [],
   "source": [
    "model = keras.Sequential([\n",
    "    layers.Dense(64, activation='relu', input_shape=[4]),\n",
    "    layers.Dense(128, activation='relu'),\n",
    "    layers.Flatten(),\n",
    "    layers.Dense(1)\n",
    "])"
   ]
  },
  {
   "cell_type": "code",
   "execution_count": 50,
   "metadata": {},
   "outputs": [
    {
     "name": "stdout",
     "output_type": "stream",
     "text": [
      "Model: \"sequential_5\"\n",
      "_________________________________________________________________\n",
      "Layer (type)                 Output Shape              Param #   \n",
      "=================================================================\n",
      "dense_16 (Dense)             (None, 64)                320       \n",
      "_________________________________________________________________\n",
      "dense_17 (Dense)             (None, 128)               8320      \n",
      "_________________________________________________________________\n",
      "flatten_2 (Flatten)          (None, 128)               0         \n",
      "_________________________________________________________________\n",
      "dense_18 (Dense)             (None, 1)                 129       \n",
      "=================================================================\n",
      "Total params: 8,769\n",
      "Trainable params: 8,769\n",
      "Non-trainable params: 0\n",
      "_________________________________________________________________\n"
     ]
    }
   ],
   "source": [
    "model.summary()"
   ]
  },
  {
   "cell_type": "code",
   "execution_count": 51,
   "metadata": {},
   "outputs": [],
   "source": [
    "model.compile(optimizer='adam', loss='mse', metrics=['mae', 'mse'])"
   ]
  },
  {
   "cell_type": "code",
   "execution_count": 52,
   "metadata": {},
   "outputs": [
    {
     "name": "stdout",
     "output_type": "stream",
     "text": [
      "WARNING:tensorflow:Falling back from v2 loop because of error: Failed to find data adapter that can handle input: <class 'pandas.core.frame.DataFrame'>, <class 'NoneType'>\n",
      "Train on 3341 samples, validate on 836 samples\n",
      "Epoch 1/100\n",
      "3341/3341 [==============================] - 0s 50us/sample - loss: 87.3536 - mae: 8.6270 - mse: 87.3536 - val_loss: 62.2759 - val_mae: 6.8608 - val_mse: 62.2759\n",
      "Epoch 2/100\n",
      "3341/3341 [==============================] - 0s 18us/sample - loss: 43.7592 - mae: 5.5390 - mse: 43.7592 - val_loss: 27.1041 - val_mae: 4.4100 - val_mse: 27.1041\n",
      "Epoch 3/100\n",
      "3341/3341 [==============================] - 0s 19us/sample - loss: 21.5555 - mae: 3.7973 - mse: 21.5555 - val_loss: 15.8082 - val_mae: 3.1748 - val_mse: 15.8082\n",
      "Epoch 4/100\n",
      "3341/3341 [==============================] - 0s 24us/sample - loss: 11.6303 - mae: 2.5536 - mse: 11.6303 - val_loss: 8.7696 - val_mae: 2.1994 - val_mse: 8.7696\n",
      "Epoch 5/100\n",
      "3341/3341 [==============================] - 0s 21us/sample - loss: 7.5009 - mae: 1.9968 - mse: 7.5009 - val_loss: 7.1169 - val_mae: 1.9478 - val_mse: 7.1169\n",
      "Epoch 6/100\n",
      "3341/3341 [==============================] - 0s 24us/sample - loss: 6.9095 - mae: 1.9314 - mse: 6.9095 - val_loss: 6.9996 - val_mae: 1.8505 - val_mse: 6.9996\n",
      "Epoch 7/100\n",
      "3341/3341 [==============================] - 0s 18us/sample - loss: 6.8623 - mae: 1.8897 - mse: 6.8623 - val_loss: 6.8923 - val_mae: 1.8769 - val_mse: 6.8923\n",
      "Epoch 8/100\n",
      "3341/3341 [==============================] - 0s 17us/sample - loss: 6.8114 - mae: 1.8634 - mse: 6.8114 - val_loss: 6.8615 - val_mae: 1.9023 - val_mse: 6.8615\n",
      "Epoch 9/100\n",
      "3341/3341 [==============================] - 0s 17us/sample - loss: 6.8144 - mae: 1.9030 - mse: 6.8144 - val_loss: 6.8302 - val_mae: 1.9012 - val_mse: 6.8302\n",
      "Epoch 10/100\n",
      "3341/3341 [==============================] - 0s 18us/sample - loss: 6.7760 - mae: 1.8794 - mse: 6.7760 - val_loss: 6.8004 - val_mae: 1.8611 - val_mse: 6.8004\n",
      "Epoch 11/100\n",
      "3341/3341 [==============================] - 0s 18us/sample - loss: 6.7483 - mae: 1.8776 - mse: 6.7483 - val_loss: 6.7816 - val_mae: 1.8380 - val_mse: 6.7816\n",
      "Epoch 12/100\n",
      "3341/3341 [==============================] - 0s 17us/sample - loss: 6.7379 - mae: 1.8583 - mse: 6.7379 - val_loss: 6.7699 - val_mae: 1.8735 - val_mse: 6.7699\n",
      "Epoch 13/100\n",
      "3341/3341 [==============================] - 0s 17us/sample - loss: 6.7529 - mae: 1.8890 - mse: 6.7529 - val_loss: 6.7827 - val_mae: 1.8127 - val_mse: 6.7827\n",
      "Epoch 14/100\n",
      "3341/3341 [==============================] - 0s 18us/sample - loss: 6.7313 - mae: 1.8575 - mse: 6.7313 - val_loss: 6.7435 - val_mae: 1.8381 - val_mse: 6.7435\n",
      "Epoch 15/100\n",
      "3341/3341 [==============================] - 0s 16us/sample - loss: 6.7159 - mae: 1.8734 - mse: 6.7159 - val_loss: 6.7661 - val_mae: 1.8100 - val_mse: 6.7661\n",
      "Epoch 16/100\n",
      "3341/3341 [==============================] - 0s 18us/sample - loss: 6.7216 - mae: 1.8489 - mse: 6.7216 - val_loss: 6.7333 - val_mae: 1.8344 - val_mse: 6.7333\n",
      "Epoch 17/100\n",
      "3341/3341 [==============================] - 0s 22us/sample - loss: 6.7040 - mae: 1.8775 - mse: 6.7040 - val_loss: 6.7774 - val_mae: 1.8027 - val_mse: 6.7774\n",
      "Epoch 18/100\n",
      "3341/3341 [==============================] - 0s 25us/sample - loss: 6.7298 - mae: 1.8508 - mse: 6.7298 - val_loss: 6.7205 - val_mae: 1.8409 - val_mse: 6.7205\n",
      "Epoch 19/100\n",
      "3341/3341 [==============================] - 0s 21us/sample - loss: 6.7019 - mae: 1.8501 - mse: 6.7019 - val_loss: 6.7099 - val_mae: 1.8607 - val_mse: 6.7099\n",
      "Epoch 20/100\n",
      "3341/3341 [==============================] - 0s 23us/sample - loss: 6.7150 - mae: 1.8666 - mse: 6.7150 - val_loss: 6.7357 - val_mae: 1.8875 - val_mse: 6.7357\n",
      "Epoch 21/100\n",
      "3341/3341 [==============================] - 0s 24us/sample - loss: 6.7065 - mae: 1.8543 - mse: 6.7065 - val_loss: 6.7077 - val_mae: 1.8397 - val_mse: 6.7077\n",
      "Epoch 22/100\n",
      "3341/3341 [==============================] - 0s 23us/sample - loss: 6.6951 - mae: 1.8656 - mse: 6.6951 - val_loss: 6.7012 - val_mae: 1.8309 - val_mse: 6.7012\n",
      "Epoch 23/100\n",
      "3341/3341 [==============================] - 0s 23us/sample - loss: 6.6976 - mae: 1.8540 - mse: 6.6976 - val_loss: 6.7070 - val_mae: 1.8659 - val_mse: 6.7070\n",
      "Epoch 24/100\n",
      "3341/3341 [==============================] - 0s 18us/sample - loss: 6.7100 - mae: 1.8794 - mse: 6.7100 - val_loss: 6.6908 - val_mae: 1.8478 - val_mse: 6.6908\n",
      "Epoch 25/100\n",
      "3341/3341 [==============================] - 0s 17us/sample - loss: 6.6823 - mae: 1.8632 - mse: 6.6823 - val_loss: 6.7053 - val_mae: 1.8471 - val_mse: 6.7053\n",
      "Epoch 26/100\n",
      "3341/3341 [==============================] - 0s 18us/sample - loss: 6.7081 - mae: 1.8575 - mse: 6.7081 - val_loss: 6.7236 - val_mae: 1.8046 - val_mse: 6.7236\n",
      "Epoch 27/100\n",
      "3341/3341 [==============================] - 0s 18us/sample - loss: 6.6713 - mae: 1.8637 - mse: 6.6713 - val_loss: 6.7184 - val_mae: 1.8037 - val_mse: 6.7184\n",
      "Epoch 28/100\n",
      "3341/3341 [==============================] - 0s 20us/sample - loss: 6.6780 - mae: 1.8578 - mse: 6.6780 - val_loss: 6.6902 - val_mae: 1.8401 - val_mse: 6.6902\n",
      "Epoch 29/100\n",
      "3341/3341 [==============================] - 0s 17us/sample - loss: 6.6698 - mae: 1.8585 - mse: 6.6698 - val_loss: 6.6815 - val_mae: 1.8236 - val_mse: 6.6815\n",
      "Epoch 30/100\n",
      "3341/3341 [==============================] - 0s 22us/sample - loss: 6.6706 - mae: 1.8488 - mse: 6.6706 - val_loss: 6.7015 - val_mae: 1.8023 - val_mse: 6.7015\n",
      "Epoch 31/100\n",
      "3341/3341 [==============================] - 0s 17us/sample - loss: 6.6757 - mae: 1.8476 - mse: 6.6757 - val_loss: 6.6754 - val_mae: 1.8193 - val_mse: 6.6754\n",
      "Epoch 32/100\n",
      "3341/3341 [==============================] - 0s 17us/sample - loss: 6.6704 - mae: 1.8523 - mse: 6.6704 - val_loss: 6.7215 - val_mae: 1.8996 - val_mse: 6.7215\n",
      "Epoch 33/100\n",
      "3341/3341 [==============================] - 0s 17us/sample - loss: 6.7355 - mae: 1.8686 - mse: 6.7355 - val_loss: 6.6986 - val_mae: 1.8918 - val_mse: 6.6986\n",
      "Epoch 34/100\n",
      "3341/3341 [==============================] - 0s 17us/sample - loss: 6.6832 - mae: 1.8664 - mse: 6.6832 - val_loss: 6.6572 - val_mae: 1.8321 - val_mse: 6.6572\n",
      "Epoch 35/100\n",
      "3341/3341 [==============================] - 0s 21us/sample - loss: 6.6560 - mae: 1.8525 - mse: 6.6560 - val_loss: 6.6971 - val_mae: 1.8911 - val_mse: 6.6971\n",
      "Epoch 36/100\n",
      "3341/3341 [==============================] - 0s 20us/sample - loss: 6.6688 - mae: 1.8527 - mse: 6.6688 - val_loss: 6.6822 - val_mae: 1.7999 - val_mse: 6.6822\n",
      "Epoch 37/100\n",
      "3341/3341 [==============================] - 0s 17us/sample - loss: 6.6624 - mae: 1.8456 - mse: 6.6625 - val_loss: 6.6847 - val_mae: 1.8831 - val_mse: 6.6847\n",
      "Epoch 38/100\n",
      "3341/3341 [==============================] - 0s 26us/sample - loss: 6.6727 - mae: 1.8585 - mse: 6.6727 - val_loss: 6.6433 - val_mae: 1.8412 - val_mse: 6.6433\n",
      "Epoch 39/100\n",
      "3341/3341 [==============================] - 0s 16us/sample - loss: 6.6733 - mae: 1.8571 - mse: 6.6733 - val_loss: 6.6840 - val_mae: 1.7975 - val_mse: 6.6840\n",
      "Epoch 40/100\n",
      "3341/3341 [==============================] - 0s 13us/sample - loss: 6.7011 - mae: 1.8469 - mse: 6.7011 - val_loss: 6.6523 - val_mae: 1.8158 - val_mse: 6.6523\n",
      "Epoch 41/100\n",
      "3341/3341 [==============================] - 0s 13us/sample - loss: 6.6384 - mae: 1.8520 - mse: 6.6384 - val_loss: 6.6536 - val_mae: 1.8058 - val_mse: 6.6536\n",
      "Epoch 42/100\n",
      "3341/3341 [==============================] - 0s 13us/sample - loss: 6.6876 - mae: 1.8664 - mse: 6.6876 - val_loss: 6.6765 - val_mae: 1.8914 - val_mse: 6.6765\n",
      "Epoch 43/100\n",
      "3341/3341 [==============================] - 0s 13us/sample - loss: 6.6522 - mae: 1.8589 - mse: 6.6522 - val_loss: 6.6323 - val_mae: 1.8267 - val_mse: 6.6323\n",
      "Epoch 44/100\n",
      "3341/3341 [==============================] - 0s 14us/sample - loss: 6.6601 - mae: 1.8535 - mse: 6.6601 - val_loss: 6.6303 - val_mae: 1.8248 - val_mse: 6.6303\n",
      "Epoch 45/100\n",
      "3341/3341 [==============================] - 0s 13us/sample - loss: 6.6504 - mae: 1.8411 - mse: 6.6504 - val_loss: 6.6249 - val_mae: 1.8320 - val_mse: 6.6249\n",
      "Epoch 46/100\n",
      "3341/3341 [==============================] - 0s 19us/sample - loss: 6.6453 - mae: 1.8504 - mse: 6.6453 - val_loss: 6.6283 - val_mae: 1.8198 - val_mse: 6.6283\n",
      "Epoch 47/100\n"
     ]
    },
    {
     "name": "stdout",
     "output_type": "stream",
     "text": [
      "3341/3341 [==============================] - 0s 15us/sample - loss: 6.6335 - mae: 1.8523 - mse: 6.6335 - val_loss: 6.6165 - val_mae: 1.8231 - val_mse: 6.6165\n",
      "Epoch 48/100\n",
      "3341/3341 [==============================] - 0s 13us/sample - loss: 6.6332 - mae: 1.8338 - mse: 6.6332 - val_loss: 6.6209 - val_mae: 1.8089 - val_mse: 6.6209\n",
      "Epoch 49/100\n",
      "3341/3341 [==============================] - 0s 13us/sample - loss: 6.6275 - mae: 1.8388 - mse: 6.6275 - val_loss: 6.6301 - val_mae: 1.8616 - val_mse: 6.6301\n",
      "Epoch 50/100\n",
      "3341/3341 [==============================] - 0s 14us/sample - loss: 6.6294 - mae: 1.8660 - mse: 6.6294 - val_loss: 6.6214 - val_mae: 1.8219 - val_mse: 6.6214\n",
      "Epoch 51/100\n",
      "3341/3341 [==============================] - 0s 15us/sample - loss: 6.6399 - mae: 1.8302 - mse: 6.6399 - val_loss: 6.6007 - val_mae: 1.8335 - val_mse: 6.6007\n",
      "Epoch 52/100\n",
      "3341/3341 [==============================] - 0s 13us/sample - loss: 6.6140 - mae: 1.8504 - mse: 6.6140 - val_loss: 6.6244 - val_mae: 1.8082 - val_mse: 6.6244\n",
      "Epoch 53/100\n",
      "3341/3341 [==============================] - 0s 13us/sample - loss: 6.6727 - mae: 1.8382 - mse: 6.6727 - val_loss: 6.6095 - val_mae: 1.8123 - val_mse: 6.6095\n",
      "Epoch 54/100\n",
      "3341/3341 [==============================] - 0s 14us/sample - loss: 6.6247 - mae: 1.8560 - mse: 6.6247 - val_loss: 6.5954 - val_mae: 1.8156 - val_mse: 6.5954\n",
      "Epoch 55/100\n",
      "3341/3341 [==============================] - 0s 15us/sample - loss: 6.6184 - mae: 1.8496 - mse: 6.6184 - val_loss: 6.6140 - val_mae: 1.7933 - val_mse: 6.6140\n",
      "Epoch 56/100\n",
      "3341/3341 [==============================] - 0s 14us/sample - loss: 6.6309 - mae: 1.8377 - mse: 6.6309 - val_loss: 6.5853 - val_mae: 1.8259 - val_mse: 6.5853\n",
      "Epoch 57/100\n",
      "3341/3341 [==============================] - 0s 18us/sample - loss: 6.6717 - mae: 1.8726 - mse: 6.6717 - val_loss: 6.7488 - val_mae: 1.9514 - val_mse: 6.7488\n",
      "Epoch 58/100\n",
      "3341/3341 [==============================] - 0s 18us/sample - loss: 6.6577 - mae: 1.8780 - mse: 6.6577 - val_loss: 6.6775 - val_mae: 1.9074 - val_mse: 6.6775\n",
      "Epoch 59/100\n",
      "3341/3341 [==============================] - 0s 17us/sample - loss: 6.6576 - mae: 1.8731 - mse: 6.6576 - val_loss: 6.5689 - val_mae: 1.8277 - val_mse: 6.5689\n",
      "Epoch 60/100\n",
      "3341/3341 [==============================] - 0s 17us/sample - loss: 6.5933 - mae: 1.8620 - mse: 6.5933 - val_loss: 6.7001 - val_mae: 1.7696 - val_mse: 6.7001\n",
      "Epoch 61/100\n",
      "3341/3341 [==============================] - 0s 15us/sample - loss: 6.6548 - mae: 1.8418 - mse: 6.6548 - val_loss: 6.5898 - val_mae: 1.8020 - val_mse: 6.5898\n",
      "Epoch 62/100\n",
      "3341/3341 [==============================] - 0s 14us/sample - loss: 6.6266 - mae: 1.8430 - mse: 6.6266 - val_loss: 6.6110 - val_mae: 1.7887 - val_mse: 6.6110\n",
      "Epoch 63/100\n",
      "3341/3341 [==============================] - 0s 14us/sample - loss: 6.5964 - mae: 1.8381 - mse: 6.5964 - val_loss: 6.5750 - val_mae: 1.8173 - val_mse: 6.5750\n",
      "Epoch 64/100\n",
      "3341/3341 [==============================] - 0s 16us/sample - loss: 6.6070 - mae: 1.8532 - mse: 6.6070 - val_loss: 6.6259 - val_mae: 1.8889 - val_mse: 6.6259\n",
      "Epoch 65/100\n",
      "3341/3341 [==============================] - 0s 17us/sample - loss: 6.6021 - mae: 1.8517 - mse: 6.6021 - val_loss: 6.6356 - val_mae: 1.9001 - val_mse: 6.6356\n",
      "Epoch 66/100\n",
      "3341/3341 [==============================] - 0s 19us/sample - loss: 6.6449 - mae: 1.8763 - mse: 6.6449 - val_loss: 6.5680 - val_mae: 1.8421 - val_mse: 6.5680\n",
      "Epoch 67/100\n",
      "3341/3341 [==============================] - 0s 15us/sample - loss: 6.6007 - mae: 1.8420 - mse: 6.6007 - val_loss: 6.5641 - val_mae: 1.8033 - val_mse: 6.5641\n",
      "Epoch 68/100\n",
      "3341/3341 [==============================] - 0s 15us/sample - loss: 6.6229 - mae: 1.8376 - mse: 6.6229 - val_loss: 6.5832 - val_mae: 1.7891 - val_mse: 6.5832\n",
      "Epoch 69/100\n",
      "3341/3341 [==============================] - 0s 15us/sample - loss: 6.5855 - mae: 1.8349 - mse: 6.5855 - val_loss: 6.5815 - val_mae: 1.8629 - val_mse: 6.5815\n",
      "Epoch 70/100\n",
      "3341/3341 [==============================] - 0s 15us/sample - loss: 6.5843 - mae: 1.8387 - mse: 6.5843 - val_loss: 6.5673 - val_mae: 1.8563 - val_mse: 6.5673\n",
      "Epoch 71/100\n",
      "3341/3341 [==============================] - 0s 18us/sample - loss: 6.5857 - mae: 1.8594 - mse: 6.5857 - val_loss: 6.5527 - val_mae: 1.8115 - val_mse: 6.5527\n",
      "Epoch 72/100\n",
      "3341/3341 [==============================] - 0s 15us/sample - loss: 6.5682 - mae: 1.8375 - mse: 6.5682 - val_loss: 6.5675 - val_mae: 1.7930 - val_mse: 6.5675\n",
      "Epoch 73/100\n",
      "3341/3341 [==============================] - 0s 16us/sample - loss: 6.5815 - mae: 1.8318 - mse: 6.5815 - val_loss: 6.5413 - val_mae: 1.8014 - val_mse: 6.5413\n",
      "Epoch 74/100\n",
      "3341/3341 [==============================] - 0s 16us/sample - loss: 6.5583 - mae: 1.8383 - mse: 6.5583 - val_loss: 6.5445 - val_mae: 1.8160 - val_mse: 6.5445\n",
      "Epoch 75/100\n",
      "3341/3341 [==============================] - 0s 24us/sample - loss: 6.5570 - mae: 1.8303 - mse: 6.5570 - val_loss: 6.5417 - val_mae: 1.8359 - val_mse: 6.5417\n",
      "Epoch 76/100\n",
      "3341/3341 [==============================] - 0s 23us/sample - loss: 6.6111 - mae: 1.8572 - mse: 6.6111 - val_loss: 6.5328 - val_mae: 1.8315 - val_mse: 6.5328\n",
      "Epoch 77/100\n",
      "3341/3341 [==============================] - 0s 21us/sample - loss: 6.5486 - mae: 1.8365 - mse: 6.5486 - val_loss: 6.5253 - val_mae: 1.8167 - val_mse: 6.5253\n",
      "Epoch 78/100\n",
      "3341/3341 [==============================] - 0s 21us/sample - loss: 6.5512 - mae: 1.8360 - mse: 6.5512 - val_loss: 6.5191 - val_mae: 1.8070 - val_mse: 6.5191\n",
      "Epoch 79/100\n",
      "3341/3341 [==============================] - 0s 18us/sample - loss: 6.5569 - mae: 1.8374 - mse: 6.5569 - val_loss: 6.5601 - val_mae: 1.7744 - val_mse: 6.5601\n",
      "Epoch 80/100\n",
      "3341/3341 [==============================] - 0s 22us/sample - loss: 6.6197 - mae: 1.8305 - mse: 6.6197 - val_loss: 6.5298 - val_mae: 1.7942 - val_mse: 6.5298\n",
      "Epoch 81/100\n",
      "3341/3341 [==============================] - 0s 19us/sample - loss: 6.5581 - mae: 1.8251 - mse: 6.5581 - val_loss: 6.5750 - val_mae: 1.8853 - val_mse: 6.5750\n",
      "Epoch 82/100\n",
      "3341/3341 [==============================] - 0s 18us/sample - loss: 6.5637 - mae: 1.8558 - mse: 6.5637 - val_loss: 6.5207 - val_mae: 1.8006 - val_mse: 6.5207\n",
      "Epoch 83/100\n",
      "3341/3341 [==============================] - 0s 17us/sample - loss: 6.5615 - mae: 1.8455 - mse: 6.5615 - val_loss: 6.5633 - val_mae: 1.8503 - val_mse: 6.5633\n",
      "Epoch 84/100\n",
      "3341/3341 [==============================] - 0s 15us/sample - loss: 6.5478 - mae: 1.8268 - mse: 6.5478 - val_loss: 6.5010 - val_mae: 1.8204 - val_mse: 6.5010\n",
      "Epoch 85/100\n",
      "3341/3341 [==============================] - 0s 16us/sample - loss: 6.5376 - mae: 1.8436 - mse: 6.5376 - val_loss: 6.5121 - val_mae: 1.8028 - val_mse: 6.5121\n",
      "Epoch 86/100\n",
      "3341/3341 [==============================] - 0s 15us/sample - loss: 6.5262 - mae: 1.8200 - mse: 6.5262 - val_loss: 6.4976 - val_mae: 1.8258 - val_mse: 6.4976\n",
      "Epoch 87/100\n",
      "3341/3341 [==============================] - 0s 15us/sample - loss: 6.5514 - mae: 1.8540 - mse: 6.5514 - val_loss: 6.5141 - val_mae: 1.8071 - val_mse: 6.5141\n",
      "Epoch 88/100\n",
      "3341/3341 [==============================] - 0s 18us/sample - loss: 6.5404 - mae: 1.8344 - mse: 6.5404 - val_loss: 6.5099 - val_mae: 1.7853 - val_mse: 6.5099\n",
      "Epoch 89/100\n",
      "3341/3341 [==============================] - 0s 19us/sample - loss: 6.5361 - mae: 1.8134 - mse: 6.5361 - val_loss: 6.5215 - val_mae: 1.8596 - val_mse: 6.5215\n",
      "Epoch 90/100\n",
      "3341/3341 [==============================] - 0s 20us/sample - loss: 6.5268 - mae: 1.8346 - mse: 6.5268 - val_loss: 6.4921 - val_mae: 1.7945 - val_mse: 6.4921\n",
      "Epoch 91/100\n",
      "3341/3341 [==============================] - 0s 22us/sample - loss: 6.5271 - mae: 1.8252 - mse: 6.5271 - val_loss: 6.4833 - val_mae: 1.8178 - val_mse: 6.4833\n",
      "Epoch 92/100\n",
      "3341/3341 [==============================] - 0s 19us/sample - loss: 6.5397 - mae: 1.8410 - mse: 6.5397 - val_loss: 6.4994 - val_mae: 1.8454 - val_mse: 6.4994\n",
      "Epoch 93/100\n",
      "3341/3341 [==============================] - 0s 18us/sample - loss: 6.5458 - mae: 1.8580 - mse: 6.5458 - val_loss: 6.4987 - val_mae: 1.8169 - val_mse: 6.4987\n",
      "Epoch 94/100\n",
      "3341/3341 [==============================] - 0s 16us/sample - loss: 6.5140 - mae: 1.8313 - mse: 6.5140 - val_loss: 6.4687 - val_mae: 1.8056 - val_mse: 6.4687\n"
     ]
    },
    {
     "name": "stdout",
     "output_type": "stream",
     "text": [
      "Epoch 95/100\n",
      "3341/3341 [==============================] - 0s 36us/sample - loss: 6.5298 - mae: 1.8255 - mse: 6.5298 - val_loss: 6.5933 - val_mae: 1.9163 - val_mse: 6.5933\n",
      "Epoch 96/100\n",
      "3341/3341 [==============================] - 0s 43us/sample - loss: 6.5334 - mae: 1.8498 - mse: 6.5334 - val_loss: 6.4535 - val_mae: 1.8135 - val_mse: 6.4535\n",
      "Epoch 97/100\n",
      "3341/3341 [==============================] - 0s 18us/sample - loss: 6.5160 - mae: 1.8461 - mse: 6.5160 - val_loss: 6.5065 - val_mae: 1.7937 - val_mse: 6.5065\n",
      "Epoch 98/100\n",
      "3341/3341 [==============================] - 0s 16us/sample - loss: 6.5134 - mae: 1.8258 - mse: 6.5134 - val_loss: 6.4587 - val_mae: 1.7815 - val_mse: 6.4587\n",
      "Epoch 99/100\n",
      "3341/3341 [==============================] - 0s 18us/sample - loss: 6.4931 - mae: 1.8213 - mse: 6.4931 - val_loss: 6.4565 - val_mae: 1.8252 - val_mse: 6.4565\n",
      "Epoch 100/100\n",
      "3341/3341 [==============================] - 0s 16us/sample - loss: 6.5033 - mae: 1.8379 - mse: 6.5033 - val_loss: 6.4534 - val_mae: 1.7996 - val_mse: 6.4534\n"
     ]
    }
   ],
   "source": [
    "history = model.fit(X_train, y_train, \n",
    "                     epochs=100,\n",
    "                     batch_size=128,\n",
    "                     validation_data=(X_test, y_test),\n",
    "                     verbose = 1\n",
    "                    )"
   ]
  },
  {
   "cell_type": "code",
   "execution_count": 53,
   "metadata": {},
   "outputs": [
    {
     "data": {
      "text/plain": [
       "<matplotlib.legend.Legend at 0x11908c950>"
      ]
     },
     "execution_count": 53,
     "metadata": {},
     "output_type": "execute_result"
    },
    {
     "data": {
      "image/png": "[encoded data removed]",
      "text/plain": [
       "<Figure size 432x288 with 1 Axes>"
      ]
     },
     "metadata": {
      "needs_background": "light"
     },
     "output_type": "display_data"
    }
   ],
   "source": [
    "hist = pd.DataFrame(history.history)\n",
    "hist['epoch'] = history.epoch\n",
    "\n",
    "plt.xlabel('Epoch')\n",
    "plt.ylabel('Mean Abs Error [MPG]')\n",
    "plt.plot(hist['epoch'], hist['mae'], label='Train Error')\n",
    "plt.plot(hist['epoch'], hist['val_mae'], label='val Error')\n",
    "plt.ylim(0, 5)\n",
    "plt.legend()"
   ]
  },
  {
   "cell_type": "code",
   "execution_count": 54,
   "metadata": {},
   "outputs": [
    {
     "data": {
      "text/plain": [
       "<matplotlib.legend.Legend at 0x13e464250>"
      ]
     },
     "execution_count": 54,
     "metadata": {},
     "output_type": "execute_result"
    },
    {
     "data": {
      "image/png": "[encoded data removed]",
      "text/plain": [
       "<Figure size 432x288 with 1 Axes>"
      ]
     },
     "metadata": {
      "needs_background": "light"
     },
     "output_type": "display_data"
    }
   ],
   "source": [
    "plt.xlabel('Epoch')\n",
    "plt.ylabel('Mean Square Error [$MPG^2$]')\n",
    "plt.plot(hist['epoch'], hist['mse'], label='Train Error')\n",
    "plt.plot(hist['epoch'], hist['val_mse'], label='val Error')\n",
    "plt.ylim(0, 30)\n",
    "plt.legend()"
   ]
  },
  {
   "cell_type": "code",
   "execution_count": 55,
   "metadata": {
    "scrolled": true
   },
   "outputs": [
    {
     "name": "stdout",
     "output_type": "stream",
     "text": [
      "WARNING:tensorflow:Falling back from v2 loop because of error: Failed to find data adapter that can handle input: <class 'pandas.core.frame.DataFrame'>, <class 'NoneType'>\n",
      "836/836 [==============================] - 0s 30us/sample - loss: 6.4534 - mae: 1.7996 - mse: 6.4534\n"
     ]
    },
    {
     "data": {
      "text/plain": [
       "2.5403636239560163"
      ]
     },
     "execution_count": 55,
     "metadata": {},
     "output_type": "execute_result"
    }
   ],
   "source": [
    "loss, mae, mse = model.evaluate(X_test, y_test)\n",
    "mse**0.5"
   ]
  },
  {
   "cell_type": "code",
   "execution_count": null,
   "metadata": {},
   "outputs": [],
   "source": []
  }
 ],
 "metadata": {
  "kernelspec": {
   "display_name": "Python 3",
   "language": "python",
   "name": "python3"
  },
  "language_info": {
   "codemirror_mode": {
    "name": "ipython",
    "version": 3
   },
   "file_extension": ".py",
   "mimetype": "text/x-python",
   "name": "python",
   "nbconvert_exporter": "python",
   "pygments_lexer": "ipython3",
   "version": "3.7.4"
  }
 },
 "nbformat": 4,
 "nbformat_minor": 2
}
